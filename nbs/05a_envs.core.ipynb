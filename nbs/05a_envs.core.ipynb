{
 "cells": [
  {
   "cell_type": "code",
   "execution_count": 1,
   "id": "durable-dialogue",
   "metadata": {},
   "outputs": [],
   "source": [
    "#hide\n",
    "#skip\n",
    "%config Completer.use_jedi = False\n",
    "%config IPCompleter.greedy=True\n",
    "# upgrade fastrl on colab\n",
    "! [ -e /content ] && pip install -Uqq fastrl['dev'] pyvirtualdisplay && \\\n",
    "                     apt-get install -y xvfb python-opengl > /dev/null 2>&1 \n",
    "# NOTE: IF YOU SEE VERSION ERRORS, IT IS SAFE TO IGNORE THEM. COLAB IS BEHIND IN SOME OF THE PACKAGE VERSIONS"
   ]
  },
  {
   "cell_type": "code",
   "execution_count": 2,
   "id": "viral-cambridge",
   "metadata": {},
   "outputs": [],
   "source": [
    "# hide\n",
    "from fastcore.imports import in_colab\n",
    "# Since colab still requires tornado<6, we don't want to import nbdev if we don't have to\n",
    "if not in_colab():\n",
    "    from nbdev.showdoc import *\n",
    "    from nbdev.imports import *\n",
    "    if not os.environ.get(\"IN_TEST\", None):\n",
    "        assert IN_NOTEBOOK\n",
    "        assert not IN_COLAB\n",
    "        assert IN_IPYTHON\n",
    "else:\n",
    "    # Virutual display is needed for colab\n",
    "    from pyvirtualdisplay import Display\n",
    "    display = Display(visible=0, size=(400, 300))\n",
    "    display.start()"
   ]
  },
  {
   "cell_type": "code",
   "execution_count": 3,
   "id": "offshore-stuart",
   "metadata": {},
   "outputs": [],
   "source": [
    "# default_exp envs.core"
   ]
  },
  {
   "cell_type": "code",
   "execution_count": 159,
   "id": "assisted-contract",
   "metadata": {},
   "outputs": [],
   "source": [
    "# export\n",
    "# Python native modules\n",
    "import os\n",
    "# Third party libs\n",
    "from fastcore.all import *\n",
    "import torchdata.datapipes as dp\n",
    "import typing\n",
    "from fastai.torch_basics import *\n",
    "from fastai.torch_core import *\n",
    "# Local modules\n",
    "from fastrl.core import *\n",
    "from fastrl.fastai.data.pipes.core import *\n",
    "from fastrl.fastai.data.load import *\n",
    "from fastrl.fastai.data.block import *"
   ]
  },
  {
   "cell_type": "markdown",
   "id": "lesser-innocent",
   "metadata": {},
   "source": [
    "# Envs Core\n",
    "> Core Fastrl API for working with envs and plugging them into the larger ecosystem. These include:\n",
    "`Step`, generic DataPipes for env running,"
   ]
  },
  {
   "cell_type": "code",
   "execution_count": 5,
   "id": "50976e54-beba-4870-8812-970335b8a5f8",
   "metadata": {},
   "outputs": [],
   "source": [
    "# export\n",
    "class Flattener(dp.iter.IterDataPipe):\n",
    "    \"Takes nested lists and unwraps them yielding 1 element at a time.\"\n",
    "    def __init__(self, source_datapipe) -> None:\n",
    "        self.source_datapipe = source_datapipe\n",
    "    \n",
    "    def __iter__(self):\n",
    "        for list_like_element in self.source_datapipe:\n",
    "            if not is_listy(list_like_element):\n",
    "                raise Exception(f'Expected listy object got {type(list_like_element)}\\n{list_like_element}')\n",
    "            yield from (o for o in list_like_element)"
   ]
  },
  {
   "cell_type": "markdown",
   "id": "48d29628-6f35-4554-8d81-4c869c9e2af0",
   "metadata": {},
   "source": [
    "Below we have `elements` that is a list of 3 lists. We want to flatten these into a single ordered list."
   ]
  },
  {
   "cell_type": "code",
   "execution_count": 6,
   "id": "f88f3323-6c83-4d6f-a2e1-efbb491eceb6",
   "metadata": {},
   "outputs": [],
   "source": [
    "elements = [list(range(10)),list(range(10,15)),list(range(15,20))]\n",
    "pipe = dp.iter.IterableWrapper(elements)\n",
    "pipe = Flattener(pipe)\n",
    "test_eq(\n",
    "    list(pipe),\n",
    "    list(range(10))+list(range(10,15))+list(range(15,20))\n",
    ")"
   ]
  },
  {
   "cell_type": "code",
   "execution_count": 7,
   "id": "7b6f82c6-91b2-47ae-b3d7-9fc9f4f2ced9",
   "metadata": {},
   "outputs": [],
   "source": [
    "# export\n",
    "def _fmt_fld(t:typing.Tuple[str,type],namedtuple):\n",
    "    default_v = ''\n",
    "    if t[0] in namedtuple._field_defaults:\n",
    "        default_v = f' = `{namedtuple._field_defaults[t[0]]}`'\n",
    "    return ' - **%s**:`%s` '%t+default_v+getattr(namedtuple,t[0]).__doc__\n",
    "\n",
    "def add_namedtuple_doc(\n",
    "    t:typing.NamedTuple, # Primary tuple to get docs from\n",
    "    doc:str, # Primary doc for the overall tuple, where the docs for individual fields will be concated.\n",
    "    **fields_docs:dict # Field names with associated docs to be attached in the format: field_a='some documentation'\n",
    "):\n",
    "    \"Add docs to `t` from `doc` along with individual doc fields `fields_docs`\"\n",
    "    if not hasattr(t,'__base_doc__'): t.__base_doc__ = doc\n",
    "    for k,v in fields_docs.items(): getattr(t,k).__doc__ = v\n",
    "    # TODO: can we add optional default fields also?\n",
    "    flds = L(t.__annotations__.items()).map(_fmt_fld,namedtuple=t)\n",
    "    \n",
    "    s = 'Parameters:\\n'+'\\n'.join(flds)\n",
    "    t.__doc__ = doc + '\\n\\n' + s    "
   ]
  },
  {
   "cell_type": "code",
   "execution_count": 8,
   "id": "95707165-9e42-4f10-96f7-6de63bad6fa5",
   "metadata": {},
   "outputs": [],
   "source": [
    "# export\n",
    "class SimpleStep(typing.NamedTuple):\n",
    "    state:       torch.FloatTensor=torch.FloatTensor([0])\n",
    "    action:      torch.FloatTensor=torch.FloatTensor([0])\n",
    "    next_state:  torch.FloatTensor=torch.FloatTensor([0])\n",
    "    done:        torch.BoolTensor=torch.BoolTensor([1])\n",
    "    reward:      torch.FloatTensor=torch.LongTensor([0])\n",
    "    total_reward:torch.FloatTensor=torch.FloatTensor([0])\n",
    "    env_id:      torch.LongTensor=torch.LongTensor([0])\n",
    "    proc_id:     torch.LongTensor=torch.LongTensor([0])\n",
    "    step_n:      torch.LongTensor=torch.LongTensor([0])\n",
    "    episode_n:   torch.LongTensor=torch.LongTensor([0])\n",
    "    \n",
    "    @classmethod\n",
    "    def random(cls,seed=None,**flds):\n",
    "        _flds,_annos = cls._fields,cls.__annotations__\n",
    "\n",
    "        def _random_annos(anno):\n",
    "            t = anno(1)\n",
    "            if anno==torch.BoolTensor: t.random_(2) \n",
    "            else:                      t.random_(100)\n",
    "            return t\n",
    "\n",
    "        return cls(\n",
    "            *(flds.get(\n",
    "                f,_random_annos(_annos[f])\n",
    "            ) for f in _flds)\n",
    "        )\n",
    "\n",
    "add_namedtuple_doc(\n",
    "    SimpleStep,\n",
    "    'Represents a single step in an environment.',\n",
    "    state = 'Both the initial state of the environment and the previous state.',\n",
    "    next_state = 'Both the next state, and the last state in the environment',\n",
    "    done = 'Whether this step represents the end of an episode.',\n",
    "    reward = 'The single reward for this step.',\n",
    "    total_reward = 'The total accumulated reward for this episode up to this step.',\n",
    "    action = 'The action that was taken to transition from `state` to `next_state`',\n",
    "    env_id = 'The environment this step came from (useful for debugging)',\n",
    "    proc_id = 'The process this step came from (useful for debugging)',\n",
    "    step_n = 'The step number in a given episode.',\n",
    "    episode_n = 'The episode this environment is currently running through.'\n",
    ")"
   ]
  },
  {
   "cell_type": "code",
   "execution_count": 9,
   "id": "b1c3eef1-4727-43c1-97d2-66d68f6d7567",
   "metadata": {},
   "outputs": [
    {
     "data": {
      "text/markdown": [
       "<h2 id=\"SimpleStep\" class=\"doc_header\"><code>class</code> <code>SimpleStep</code><a href=\"\" class=\"source_link\" style=\"float:right\">[source]</a></h2>\n",
       "\n",
       "> <code>SimpleStep</code>(**`state`**:`FloatTensor`=*`tensor([0.])`*, **`action`**:`FloatTensor`=*`tensor([0.])`*, **`next_state`**:`FloatTensor`=*`tensor([0.])`*, **`done`**:`BoolTensor`=*`tensor([True])`*, **`reward`**:`FloatTensor`=*`tensor([0])`*, **`total_reward`**:`FloatTensor`=*`tensor([0.])`*, **`env_id`**:`LongTensor`=*`tensor([0])`*, **`proc_id`**:`LongTensor`=*`tensor([0])`*, **`step_n`**:`LongTensor`=*`tensor([0])`*, **`episode_n`**:`LongTensor`=*`tensor([0])`*) :: `tuple`\n",
       "\n",
       "Represents a single step in an environment.\n",
       "\n",
       "Parameters:\n",
       " - **state**:`<class 'torch.FloatTensor'>`  = `tensor([0.])`Both the initial state of the environment and the previous state.\n",
       " - **action**:`<class 'torch.FloatTensor'>`  = `tensor([0.])`The action that was taken to transition from `state` to `next_state`\n",
       " - **next_state**:`<class 'torch.FloatTensor'>`  = `tensor([0.])`Both the next state, and the last state in the environment\n",
       " - **done**:`<class 'torch.BoolTensor'>`  = `tensor([True])`Whether this step represents the end of an episode.\n",
       " - **reward**:`<class 'torch.FloatTensor'>`  = `tensor([0])`The single reward for this step.\n",
       " - **total_reward**:`<class 'torch.FloatTensor'>`  = `tensor([0.])`The total accumulated reward for this episode up to this step.\n",
       " - **env_id**:`<class 'torch.LongTensor'>`  = `tensor([0])`The environment this step came from (useful for debugging)\n",
       " - **proc_id**:`<class 'torch.LongTensor'>`  = `tensor([0])`The process this step came from (useful for debugging)\n",
       " - **step_n**:`<class 'torch.LongTensor'>`  = `tensor([0])`The step number in a given episode.\n",
       " - **episode_n**:`<class 'torch.LongTensor'>`  = `tensor([0])`The episode this environment is currently running through."
      ],
      "text/plain": [
       "<IPython.core.display.Markdown object>"
      ]
     },
     "metadata": {},
     "output_type": "display_data"
    }
   ],
   "source": [
    "show_doc(SimpleStep)"
   ]
  },
  {
   "cell_type": "markdown",
   "id": "a5b124ef-03a1-45d0-9273-5e657cbe5f7a",
   "metadata": {},
   "source": [
    "Now we can generate a couple to send their a pytorch data loader."
   ]
  },
  {
   "cell_type": "code",
   "execution_count": 10,
   "id": "807bc665-cce7-4f15-b380-9132e7662c2d",
   "metadata": {},
   "outputs": [
    {
     "data": {
      "text/plain": [
       "SimpleStep(state=tensor([0., 0.]), action=tensor([39.]), next_state=tensor([33.]), done=tensor([False]), reward=tensor([63.]), total_reward=tensor([79.]), env_id=tensor([27]), proc_id=tensor([3]), step_n=tensor([97]), episode_n=tensor([83]))"
      ]
     },
     "execution_count": 10,
     "metadata": {},
     "output_type": "execute_result"
    }
   ],
   "source": [
    "torch.manual_seed(0)\n",
    "SimpleStep.random(state=torch.FloatTensor(2).fill_(0))"
   ]
  },
  {
   "cell_type": "code",
   "execution_count": 11,
   "id": "f26b9aa1-032e-442d-9dd6-af04cf2da3d8",
   "metadata": {},
   "outputs": [
    {
     "data": {
      "text/plain": [
       "SimpleStep(state=tensor([1.]), action=tensor([66.]), next_state=tensor([56.]), done=tensor([True]), reward=tensor([78.]), total_reward=tensor([76.]), env_id=tensor([56]), proc_id=tensor([68]), step_n=tensor([94]), episode_n=tensor([33]))"
      ]
     },
     "execution_count": 11,
     "metadata": {},
     "output_type": "execute_result"
    }
   ],
   "source": [
    "SimpleStep.random()"
   ]
  },
  {
   "cell_type": "code",
   "execution_count": 12,
   "id": "f9206974-f66d-45f9-9c80-52159720b6bb",
   "metadata": {},
   "outputs": [
    {
     "name": "stdout",
     "output_type": "stream",
     "text": [
      "[SimpleStep(state=tensor([[44.]]), action=tensor([[39.]]), next_state=tensor([[33.]]), done=tensor([[False]]), reward=tensor([[63.]]), total_reward=tensor([[79.]]), env_id=tensor([[27]]), proc_id=tensor([[3]]), step_n=tensor([[97]]), episode_n=tensor([[83]])), SimpleStep(state=tensor([[1.]]), action=tensor([[66.]]), next_state=tensor([[56.]]), done=tensor([[True]]), reward=tensor([[78.]]), total_reward=tensor([[76.]]), env_id=tensor([[56]]), proc_id=tensor([[68]]), step_n=tensor([[94]]), episode_n=tensor([[33]])), SimpleStep(state=tensor([[26.]]), action=tensor([[19.]]), next_state=tensor([[91.]]), done=tensor([[False]]), reward=tensor([[24.]]), total_reward=tensor([[41.]]), env_id=tensor([[69]]), proc_id=tensor([[69]]), step_n=tensor([[49]]), episode_n=tensor([[80]]))]\n"
     ]
    }
   ],
   "source": [
    "from torch.utils.data.dataloader_experimental import DataLoader2\n",
    "\n",
    "def seed_worker(worker_id): torch.manual_seed(0)\n",
    "def random_step_generator(): \n",
    "    while True: yield SimpleStep.random()\n",
    "    \n",
    "\n",
    "pipe = dp.iter.IterableWrapper(random_step_generator(),deepcopy=False)\n",
    "pipe = pipe.batch(batch_size=3)\n",
    "\n",
    "g = torch.Generator()\n",
    "g.manual_seed(0)\n",
    "dl = DataLoader2(pipe,num_workers=2,worker_init_fn=seed_worker)\n",
    "\n",
    "for o in dl:\n",
    "    print(o)\n",
    "    break"
   ]
  },
  {
   "cell_type": "code",
   "execution_count": 165,
   "id": "c9bf8259-f901-4c0a-9c27-479e2e0c833f",
   "metadata": {},
   "outputs": [],
   "source": [
    "# export\n",
    "class NStepPipe(dp.iter.IterDataPipe):\n",
    "    \n",
    "    def __init__(self, source_datapipe, n=1) -> None:\n",
    "        self.source_datapipe = source_datapipe\n",
    "        self.n = n\n",
    "        \n",
    "    def __iter__(self) -> typing.Tuple[typing.NamedTuple]:\n",
    "        self.env_buffer = {}\n",
    "        for step in self.source_datapipe:\n",
    "            if issubclass(step.__class__,typing.NamedTuple):\n",
    "                raise Exception(f'Expected typing.NamedTuple object got {type(step)}\\n{step}')\n",
    "    \n",
    "            env_id,done = int(step.env_id),bool(step.done)\n",
    "        \n",
    "            if env_id in self.env_buffer:\n",
    "                self.env_buffer[env_id].append(step)\n",
    "            else:\n",
    "                self.env_buffer[env_id] = [step]\n",
    "                \n",
    "            if not done and len(self.env_buffer[env_id])<self.n: continue\n",
    "            \n",
    "            while done and len(self.env_buffer[env_id])!=0:\n",
    "                yield tuple(self.env_buffer[env_id])\n",
    "                self.env_buffer[env_id].pop(0)\n",
    "                \n",
    "            if not done:\n",
    "                yield tuple(self.env_buffer[env_id])\n",
    "                self.env_buffer[env_id].pop(0)\n",
    "add_docs(\n",
    "    NStepPipe,\n",
    "    \"\"\"Accepts a `source_datapipe` or iterable whose `next()` produces a `typing.NamedTuple` of \n",
    "       max size `n` that will contain steps from a single environment with \n",
    "       a subset of fields from `SimpleStep`, namely `done` and `env_id`.\"\"\",\n",
    ")"
   ]
  },
  {
   "cell_type": "code",
   "execution_count": 166,
   "id": "13fbc336-7f21-4ff4-9277-7f077066556d",
   "metadata": {},
   "outputs": [],
   "source": [
    "# hide\n",
    "# Used here to avoid UserWarnings related to gym complaining about bounding box / action space format.\n",
    "# There must be a bug in the CartPole-v1 env that is causing this to show. Also couldnt figure out the \n",
    "# regex, so instead we filter on the lineno, which is line 98.\n",
    "warnings.filterwarnings(\"ignore\",category=UserWarning,lineno=98)"
   ]
  },
  {
   "cell_type": "markdown",
   "id": "3d80222c-a450-4faf-9c72-c11122384460",
   "metadata": {},
   "source": [
    "Below we see an example where we collect 2 steps for each env, **then** yield them. This is useful for\n",
    "training models of larger chunks of env step output."
   ]
  },
  {
   "cell_type": "code",
   "execution_count": 167,
   "id": "731cae90-2f4d-44e1-a03c-5ba23f2f5323",
   "metadata": {},
   "outputs": [
    {
     "data": {
      "text/html": [
       "<div>\n",
       "<style scoped>\n",
       "    .dataframe tbody tr th:only-of-type {\n",
       "        vertical-align: middle;\n",
       "    }\n",
       "\n",
       "    .dataframe tbody tr th {\n",
       "        vertical-align: top;\n",
       "    }\n",
       "\n",
       "    .dataframe thead th {\n",
       "        text-align: right;\n",
       "    }\n",
       "</style>\n",
       "<table border=\"1\" class=\"dataframe\">\n",
       "  <thead>\n",
       "    <tr style=\"text-align: right;\">\n",
       "      <th></th>\n",
       "      <th>state</th>\n",
       "      <th>next_state</th>\n",
       "      <th>env_id</th>\n",
       "      <th>done</th>\n",
       "    </tr>\n",
       "  </thead>\n",
       "  <tbody>\n",
       "    <tr>\n",
       "      <th>0</th>\n",
       "      <td>[tensor(0.0137), tensor(-0.0230), tensor(-0.0459), tensor(-0.0483)]</td>\n",
       "      <td>[tensor(0.0132), tensor(0.1727), tensor(-0.0469), tensor(-0.3552)]</td>\n",
       "      <td>[tensor(140149561046032)]</td>\n",
       "      <td>[tensor(False)]</td>\n",
       "    </tr>\n",
       "    <tr>\n",
       "      <th>1</th>\n",
       "      <td>[tensor(0.0132), tensor(0.1727), tensor(-0.0469), tensor(-0.3552)]</td>\n",
       "      <td>[tensor(0.0167), tensor(0.3685), tensor(-0.0540), tensor(-0.6622)]</td>\n",
       "      <td>[tensor(140149561046032)]</td>\n",
       "      <td>[tensor(False)]</td>\n",
       "    </tr>\n",
       "    <tr>\n",
       "      <th>2</th>\n",
       "      <td>[tensor(0.0137), tensor(-0.0230), tensor(-0.0459), tensor(-0.0483)]</td>\n",
       "      <td>[tensor(0.0132), tensor(0.1727), tensor(-0.0469), tensor(-0.3552)]</td>\n",
       "      <td>[tensor(140149561047504)]</td>\n",
       "      <td>[tensor(False)]</td>\n",
       "    </tr>\n",
       "    <tr>\n",
       "      <th>3</th>\n",
       "      <td>[tensor(0.0132), tensor(0.1727), tensor(-0.0469), tensor(-0.3552)]</td>\n",
       "      <td>[tensor(0.0167), tensor(0.3685), tensor(-0.0540), tensor(-0.6622)]</td>\n",
       "      <td>[tensor(140149561047504)]</td>\n",
       "      <td>[tensor(False)]</td>\n",
       "    </tr>\n",
       "    <tr>\n",
       "      <th>4</th>\n",
       "      <td>[tensor(0.0137), tensor(-0.0230), tensor(-0.0459), tensor(-0.0483)]</td>\n",
       "      <td>[tensor(0.0132), tensor(0.1727), tensor(-0.0469), tensor(-0.3552)]</td>\n",
       "      <td>[tensor(140149561047184)]</td>\n",
       "      <td>[tensor(False)]</td>\n",
       "    </tr>\n",
       "    <tr>\n",
       "      <th>5</th>\n",
       "      <td>[tensor(0.0132), tensor(0.1727), tensor(-0.0469), tensor(-0.3552)]</td>\n",
       "      <td>[tensor(0.0167), tensor(0.3685), tensor(-0.0540), tensor(-0.6622)]</td>\n",
       "      <td>[tensor(140149561047184)]</td>\n",
       "      <td>[tensor(False)]</td>\n",
       "    </tr>\n",
       "    <tr>\n",
       "      <th>6</th>\n",
       "      <td>[tensor(0.0132), tensor(0.1727), tensor(-0.0469), tensor(-0.3552)]</td>\n",
       "      <td>[tensor(0.0167), tensor(0.3685), tensor(-0.0540), tensor(-0.6622)]</td>\n",
       "      <td>[tensor(140149561046032)]</td>\n",
       "      <td>[tensor(False)]</td>\n",
       "    </tr>\n",
       "    <tr>\n",
       "      <th>7</th>\n",
       "      <td>[tensor(0.0167), tensor(0.3685), tensor(-0.0540), tensor(-0.6622)]</td>\n",
       "      <td>[tensor(0.0241), tensor(0.5643), tensor(-0.0672), tensor(-0.9714)]</td>\n",
       "      <td>[tensor(140149561046032)]</td>\n",
       "      <td>[tensor(False)]</td>\n",
       "    </tr>\n",
       "    <tr>\n",
       "      <th>8</th>\n",
       "      <td>[tensor(0.0132), tensor(0.1727), tensor(-0.0469), tensor(-0.3552)]</td>\n",
       "      <td>[tensor(0.0167), tensor(0.3685), tensor(-0.0540), tensor(-0.6622)]</td>\n",
       "      <td>[tensor(140149561047504)]</td>\n",
       "      <td>[tensor(False)]</td>\n",
       "    </tr>\n",
       "    <tr>\n",
       "      <th>9</th>\n",
       "      <td>[tensor(0.0167), tensor(0.3685), tensor(-0.0540), tensor(-0.6622)]</td>\n",
       "      <td>[tensor(0.0241), tensor(0.5643), tensor(-0.0672), tensor(-0.9714)]</td>\n",
       "      <td>[tensor(140149561047504)]</td>\n",
       "      <td>[tensor(False)]</td>\n",
       "    </tr>\n",
       "  </tbody>\n",
       "</table>\n",
       "</div>"
      ],
      "text/plain": [
       "                                                                 state  \\\n",
       "0  [tensor(0.0137), tensor(-0.0230), tensor(-0.0459), tensor(-0.0483)]   \n",
       "1   [tensor(0.0132), tensor(0.1727), tensor(-0.0469), tensor(-0.3552)]   \n",
       "2  [tensor(0.0137), tensor(-0.0230), tensor(-0.0459), tensor(-0.0483)]   \n",
       "3   [tensor(0.0132), tensor(0.1727), tensor(-0.0469), tensor(-0.3552)]   \n",
       "4  [tensor(0.0137), tensor(-0.0230), tensor(-0.0459), tensor(-0.0483)]   \n",
       "5   [tensor(0.0132), tensor(0.1727), tensor(-0.0469), tensor(-0.3552)]   \n",
       "6   [tensor(0.0132), tensor(0.1727), tensor(-0.0469), tensor(-0.3552)]   \n",
       "7   [tensor(0.0167), tensor(0.3685), tensor(-0.0540), tensor(-0.6622)]   \n",
       "8   [tensor(0.0132), tensor(0.1727), tensor(-0.0469), tensor(-0.3552)]   \n",
       "9   [tensor(0.0167), tensor(0.3685), tensor(-0.0540), tensor(-0.6622)]   \n",
       "\n",
       "                                                           next_state  \\\n",
       "0  [tensor(0.0132), tensor(0.1727), tensor(-0.0469), tensor(-0.3552)]   \n",
       "1  [tensor(0.0167), tensor(0.3685), tensor(-0.0540), tensor(-0.6622)]   \n",
       "2  [tensor(0.0132), tensor(0.1727), tensor(-0.0469), tensor(-0.3552)]   \n",
       "3  [tensor(0.0167), tensor(0.3685), tensor(-0.0540), tensor(-0.6622)]   \n",
       "4  [tensor(0.0132), tensor(0.1727), tensor(-0.0469), tensor(-0.3552)]   \n",
       "5  [tensor(0.0167), tensor(0.3685), tensor(-0.0540), tensor(-0.6622)]   \n",
       "6  [tensor(0.0167), tensor(0.3685), tensor(-0.0540), tensor(-0.6622)]   \n",
       "7  [tensor(0.0241), tensor(0.5643), tensor(-0.0672), tensor(-0.9714)]   \n",
       "8  [tensor(0.0167), tensor(0.3685), tensor(-0.0540), tensor(-0.6622)]   \n",
       "9  [tensor(0.0241), tensor(0.5643), tensor(-0.0672), tensor(-0.9714)]   \n",
       "\n",
       "                      env_id             done  \n",
       "0  [tensor(140149561046032)]  [tensor(False)]  \n",
       "1  [tensor(140149561046032)]  [tensor(False)]  \n",
       "2  [tensor(140149561047504)]  [tensor(False)]  \n",
       "3  [tensor(140149561047504)]  [tensor(False)]  \n",
       "4  [tensor(140149561047184)]  [tensor(False)]  \n",
       "5  [tensor(140149561047184)]  [tensor(False)]  \n",
       "6  [tensor(140149561046032)]  [tensor(False)]  \n",
       "7  [tensor(140149561046032)]  [tensor(False)]  \n",
       "8  [tensor(140149561047504)]  [tensor(False)]  \n",
       "9  [tensor(140149561047504)]  [tensor(False)]  "
      ]
     },
     "execution_count": 167,
     "metadata": {},
     "output_type": "execute_result"
    }
   ],
   "source": [
    "import pandas as pd\n",
    "from fastrl.envs.gym import GymTypeTransform,GymStepper\n",
    "\n",
    "def n_step_test(envs,total_steps,n=1,seed=0):\n",
    "    pipe = dp.map.Mapper(['CartPole-v1']*3)\n",
    "    pipe = TypeTransformLoop(pipe,[GymTypeTransform])\n",
    "    pipe = dp.iter.MapToIterConverter(pipe)\n",
    "    pipe = dp.iter.InMemoryCacheHolder(pipe)\n",
    "    pipe = pipe.cycle()\n",
    "    pipe = GymStepper(pipe,seed=seed)\n",
    "    pipe = NStepPipe(pipe,n=n)\n",
    "    pipe = Flattener(pipe)\n",
    "\n",
    "    steps = [step for step,_ in zip(*(pipe,range(total_steps)))]\n",
    "    return steps\n",
    "\n",
    "steps = n_step_test(['CartPole-v1']*3,200,2,0)\n",
    "pd.DataFrame(steps)[['state','next_state','env_id','done']][:10]"
   ]
  },
  {
   "cell_type": "markdown",
   "id": "6b4d66ca-460b-44a8-b955-3fae8d594cc1",
   "metadata": {},
   "source": [
    "## NStepPipe Tests\n",
    "\n",
    "There are a couple properties that we expect from n-step output:\n",
    "- tuples should be `n` size at max, however can be smaller.\n",
    "- `done` n-steps unravel into multiple tuples yielded individually.\n",
    "\n",
    "    - In other words if `n=3`, meaning we want to yield 3 blocks of steps per env, then if we have\n",
    "      [step5,step6,step7] where step7 is `done` we will get individual tuples in the order:\n",
    "      \n",
    "          1. [step5,step6,step7]\n",
    "          2. [step6,step7]\n",
    "          3. [step7]"
   ]
  },
  {
   "cell_type": "markdown",
   "id": "05c71c78-66e5-4929-9dea-b2894d7fb9e2",
   "metadata": {},
   "source": [
    "First, `NStepPipe(pipe,n=1)` when falttened should be identical to a pipelines that never used it."
   ]
  },
  {
   "cell_type": "code",
   "execution_count": 175,
   "id": "a95076e6-8918-4b4b-8137-b9e0a50c1ff3",
   "metadata": {},
   "outputs": [],
   "source": [
    "import pandas as pd\n",
    "from fastrl.envs.gym import GymTypeTransform,GymStepper\n",
    "\n",
    "pipe = dp.map.Mapper(['CartPole-v1']*3)\n",
    "pipe = TypeTransformLoop(pipe,[GymTypeTransform])\n",
    "pipe = dp.iter.MapToIterConverter(pipe)\n",
    "pipe = dp.iter.InMemoryCacheHolder(pipe)\n",
    "pipe = pipe.cycle()\n",
    "pipe = GymStepper(pipe,seed=0)\n",
    "\n",
    "no_n_steps = [step for step,_ in zip(*(pipe,range(10)))]\n",
    "steps = n_step_test(['CartPole-v1']*3,10,1,0)"
   ]
  },
  {
   "cell_type": "markdown",
   "id": "ebf102f3-8208-44a8-a456-83d26fe0337b",
   "metadata": {},
   "source": [
    "If `n=1` we should expect that regardless of the number of envs, both n-step and simple environment\n",
    "pipelines should be identical."
   ]
  },
  {
   "cell_type": "code",
   "execution_count": 181,
   "id": "7ec6bf29-b775-4faa-ad26-adb2cd2eed68",
   "metadata": {},
   "outputs": [],
   "source": [
    "test_len(steps,no_n_steps)\n",
    "for field in ['next_state','state','done']:\n",
    "    for i,(step,no_n_step) in enumerate(zip(steps,no_n_steps)): \n",
    "        test_eq(getattr(step,field),getattr(no_n_step,field))"
   ]
  },
  {
   "cell_type": "code",
   "execution_count": 180,
   "id": "1721278c-4588-45a4-815e-587fc055bfb1",
   "metadata": {},
   "outputs": [],
   "source": [
    "# hide\n",
    "# pd.DataFrame(steps)[['state','next_state','env_id','done']]\n",
    "# pd.DataFrame(no_n_steps)[['state','next_state','env_id','done']]"
   ]
  },
  {
   "cell_type": "markdown",
   "id": "9814d1e7-a8ca-429b-9af3-a05cc64f3acc",
   "metadata": {},
   "source": [
    "Given `n=2`, given 3 envs, knowing that `CartPole-v1` when `seed=0` will always run for 18 steps,\n",
    "We should expected that when we cycle 324 times, we should expect a total of 9 iterated episodes."
   ]
  },
  {
   "cell_type": "markdown",
   "id": "608f534c-14a6-4fa6-88a3-169e9c869b32",
   "metadata": {},
   "source": [
    "Note: Looks like it actually does +1 more episode than I was expecting (?)"
   ]
  },
  {
   "cell_type": "code",
   "execution_count": 185,
   "id": "10c11794-89b2-4ba0-aff9-02fe0747d7c7",
   "metadata": {},
   "outputs": [
    {
     "data": {
      "text/html": [
       "<div>\n",
       "<style scoped>\n",
       "    .dataframe tbody tr th:only-of-type {\n",
       "        vertical-align: middle;\n",
       "    }\n",
       "\n",
       "    .dataframe tbody tr th {\n",
       "        vertical-align: top;\n",
       "    }\n",
       "\n",
       "    .dataframe thead th {\n",
       "        text-align: right;\n",
       "    }\n",
       "</style>\n",
       "<table border=\"1\" class=\"dataframe\">\n",
       "  <thead>\n",
       "    <tr style=\"text-align: right;\">\n",
       "      <th></th>\n",
       "      <th>state</th>\n",
       "      <th>next_state</th>\n",
       "      <th>env_id</th>\n",
       "      <th>done</th>\n",
       "      <th>episode_n</th>\n",
       "    </tr>\n",
       "  </thead>\n",
       "  <tbody>\n",
       "    <tr>\n",
       "      <th>0</th>\n",
       "      <td>[tensor(0.0137), tensor(-0.0230), tensor(-0.0459), tensor(-0.0483)]</td>\n",
       "      <td>[tensor(0.0132), tensor(0.1727), tensor(-0.0469), tensor(-0.3552)]</td>\n",
       "      <td>[tensor(140149560523856)]</td>\n",
       "      <td>[tensor(False)]</td>\n",
       "      <td>[tensor(1)]</td>\n",
       "    </tr>\n",
       "    <tr>\n",
       "      <th>1</th>\n",
       "      <td>[tensor(0.0132), tensor(0.1727), tensor(-0.0469), tensor(-0.3552)]</td>\n",
       "      <td>[tensor(0.0167), tensor(0.3685), tensor(-0.0540), tensor(-0.6622)]</td>\n",
       "      <td>[tensor(140149560523856)]</td>\n",
       "      <td>[tensor(False)]</td>\n",
       "      <td>[tensor(1)]</td>\n",
       "    </tr>\n",
       "    <tr>\n",
       "      <th>2</th>\n",
       "      <td>[tensor(0.0137), tensor(-0.0230), tensor(-0.0459), tensor(-0.0483)]</td>\n",
       "      <td>[tensor(0.0132), tensor(0.1727), tensor(-0.0469), tensor(-0.3552)]</td>\n",
       "      <td>[tensor(140149560522128)]</td>\n",
       "      <td>[tensor(False)]</td>\n",
       "      <td>[tensor(1)]</td>\n",
       "    </tr>\n",
       "    <tr>\n",
       "      <th>3</th>\n",
       "      <td>[tensor(0.0132), tensor(0.1727), tensor(-0.0469), tensor(-0.3552)]</td>\n",
       "      <td>[tensor(0.0167), tensor(0.3685), tensor(-0.0540), tensor(-0.6622)]</td>\n",
       "      <td>[tensor(140149560522128)]</td>\n",
       "      <td>[tensor(False)]</td>\n",
       "      <td>[tensor(1)]</td>\n",
       "    </tr>\n",
       "    <tr>\n",
       "      <th>4</th>\n",
       "      <td>[tensor(0.0137), tensor(-0.0230), tensor(-0.0459), tensor(-0.0483)]</td>\n",
       "      <td>[tensor(0.0132), tensor(0.1727), tensor(-0.0469), tensor(-0.3552)]</td>\n",
       "      <td>[tensor(140149560522960)]</td>\n",
       "      <td>[tensor(False)]</td>\n",
       "      <td>[tensor(1)]</td>\n",
       "    </tr>\n",
       "    <tr>\n",
       "      <th>...</th>\n",
       "      <td>...</td>\n",
       "      <td>...</td>\n",
       "      <td>...</td>\n",
       "      <td>...</td>\n",
       "      <td>...</td>\n",
       "    </tr>\n",
       "    <tr>\n",
       "      <th>319</th>\n",
       "      <td>[tensor(0.0137), tensor(-0.0230), tensor(-0.0459), tensor(-0.0483)]</td>\n",
       "      <td>[tensor(0.0132), tensor(0.1727), tensor(-0.0469), tensor(-0.3552)]</td>\n",
       "      <td>[tensor(140149560522960)]</td>\n",
       "      <td>[tensor(False)]</td>\n",
       "      <td>[tensor(4)]</td>\n",
       "    </tr>\n",
       "    <tr>\n",
       "      <th>320</th>\n",
       "      <td>[tensor(0.0132), tensor(0.1727), tensor(-0.0469), tensor(-0.3552)]</td>\n",
       "      <td>[tensor(0.0167), tensor(0.3685), tensor(-0.0540), tensor(-0.6622)]</td>\n",
       "      <td>[tensor(140149560522960)]</td>\n",
       "      <td>[tensor(False)]</td>\n",
       "      <td>[tensor(4)]</td>\n",
       "    </tr>\n",
       "    <tr>\n",
       "      <th>321</th>\n",
       "      <td>[tensor(0.0132), tensor(0.1727), tensor(-0.0469), tensor(-0.3552)]</td>\n",
       "      <td>[tensor(0.0167), tensor(0.3685), tensor(-0.0540), tensor(-0.6622)]</td>\n",
       "      <td>[tensor(140149560523856)]</td>\n",
       "      <td>[tensor(False)]</td>\n",
       "      <td>[tensor(4)]</td>\n",
       "    </tr>\n",
       "    <tr>\n",
       "      <th>322</th>\n",
       "      <td>[tensor(0.0167), tensor(0.3685), tensor(-0.0540), tensor(-0.6622)]</td>\n",
       "      <td>[tensor(0.0241), tensor(0.5643), tensor(-0.0672), tensor(-0.9714)]</td>\n",
       "      <td>[tensor(140149560523856)]</td>\n",
       "      <td>[tensor(False)]</td>\n",
       "      <td>[tensor(4)]</td>\n",
       "    </tr>\n",
       "    <tr>\n",
       "      <th>323</th>\n",
       "      <td>[tensor(0.0132), tensor(0.1727), tensor(-0.0469), tensor(-0.3552)]</td>\n",
       "      <td>[tensor(0.0167), tensor(0.3685), tensor(-0.0540), tensor(-0.6622)]</td>\n",
       "      <td>[tensor(140149560522128)]</td>\n",
       "      <td>[tensor(False)]</td>\n",
       "      <td>[tensor(4)]</td>\n",
       "    </tr>\n",
       "  </tbody>\n",
       "</table>\n",
       "<p>324 rows × 5 columns</p>\n",
       "</div>"
      ],
      "text/plain": [
       "                                                                   state  \\\n",
       "0    [tensor(0.0137), tensor(-0.0230), tensor(-0.0459), tensor(-0.0483)]   \n",
       "1     [tensor(0.0132), tensor(0.1727), tensor(-0.0469), tensor(-0.3552)]   \n",
       "2    [tensor(0.0137), tensor(-0.0230), tensor(-0.0459), tensor(-0.0483)]   \n",
       "3     [tensor(0.0132), tensor(0.1727), tensor(-0.0469), tensor(-0.3552)]   \n",
       "4    [tensor(0.0137), tensor(-0.0230), tensor(-0.0459), tensor(-0.0483)]   \n",
       "..                                                                   ...   \n",
       "319  [tensor(0.0137), tensor(-0.0230), tensor(-0.0459), tensor(-0.0483)]   \n",
       "320   [tensor(0.0132), tensor(0.1727), tensor(-0.0469), tensor(-0.3552)]   \n",
       "321   [tensor(0.0132), tensor(0.1727), tensor(-0.0469), tensor(-0.3552)]   \n",
       "322   [tensor(0.0167), tensor(0.3685), tensor(-0.0540), tensor(-0.6622)]   \n",
       "323   [tensor(0.0132), tensor(0.1727), tensor(-0.0469), tensor(-0.3552)]   \n",
       "\n",
       "                                                             next_state  \\\n",
       "0    [tensor(0.0132), tensor(0.1727), tensor(-0.0469), tensor(-0.3552)]   \n",
       "1    [tensor(0.0167), tensor(0.3685), tensor(-0.0540), tensor(-0.6622)]   \n",
       "2    [tensor(0.0132), tensor(0.1727), tensor(-0.0469), tensor(-0.3552)]   \n",
       "3    [tensor(0.0167), tensor(0.3685), tensor(-0.0540), tensor(-0.6622)]   \n",
       "4    [tensor(0.0132), tensor(0.1727), tensor(-0.0469), tensor(-0.3552)]   \n",
       "..                                                                  ...   \n",
       "319  [tensor(0.0132), tensor(0.1727), tensor(-0.0469), tensor(-0.3552)]   \n",
       "320  [tensor(0.0167), tensor(0.3685), tensor(-0.0540), tensor(-0.6622)]   \n",
       "321  [tensor(0.0167), tensor(0.3685), tensor(-0.0540), tensor(-0.6622)]   \n",
       "322  [tensor(0.0241), tensor(0.5643), tensor(-0.0672), tensor(-0.9714)]   \n",
       "323  [tensor(0.0167), tensor(0.3685), tensor(-0.0540), tensor(-0.6622)]   \n",
       "\n",
       "                        env_id             done    episode_n  \n",
       "0    [tensor(140149560523856)]  [tensor(False)]  [tensor(1)]  \n",
       "1    [tensor(140149560523856)]  [tensor(False)]  [tensor(1)]  \n",
       "2    [tensor(140149560522128)]  [tensor(False)]  [tensor(1)]  \n",
       "3    [tensor(140149560522128)]  [tensor(False)]  [tensor(1)]  \n",
       "4    [tensor(140149560522960)]  [tensor(False)]  [tensor(1)]  \n",
       "..                         ...              ...          ...  \n",
       "319  [tensor(140149560522960)]  [tensor(False)]  [tensor(4)]  \n",
       "320  [tensor(140149560522960)]  [tensor(False)]  [tensor(4)]  \n",
       "321  [tensor(140149560523856)]  [tensor(False)]  [tensor(4)]  \n",
       "322  [tensor(140149560523856)]  [tensor(False)]  [tensor(4)]  \n",
       "323  [tensor(140149560522128)]  [tensor(False)]  [tensor(4)]  \n",
       "\n",
       "[324 rows x 5 columns]"
      ]
     },
     "execution_count": 185,
     "metadata": {},
     "output_type": "execute_result"
    }
   ],
   "source": [
    "steps = n_step_test(['CartPole-v1']*3,324,2,0)\n",
    "pd.DataFrame(steps)[['state','next_state','env_id','done','episode_n']]"
   ]
  },
  {
   "cell_type": "code",
   "execution_count": null,
   "id": "current-pilot",
   "metadata": {},
   "outputs": [],
   "source": [
    "# hide\n",
    "from fastcore.imports import in_colab\n",
    "\n",
    "# Since colab still requires tornado<6, we don't want to import nbdev if we don't have to\n",
    "if not in_colab():\n",
    "    from nbdev.export import *\n",
    "    from nbdev.export2html import *\n",
    "    from nbdev.cli import *\n",
    "    make_readme()\n",
    "    notebook2script(silent=True)"
   ]
  },
  {
   "cell_type": "code",
   "execution_count": null,
   "id": "8334a1cf-4b5c-496d-8cce-559aaeca7e4e",
   "metadata": {},
   "outputs": [],
   "source": []
  }
 ],
 "metadata": {
  "kernelspec": {
   "display_name": "Python 3 (ipykernel)",
   "language": "python",
   "name": "python3"
  },
  "language_info": {
   "codemirror_mode": {
    "name": "ipython",
    "version": 3
   },
   "file_extension": ".py",
   "mimetype": "text/x-python",
   "name": "python",
   "nbconvert_exporter": "python",
   "pygments_lexer": "ipython3",
   "version": "3.7.11"
  }
 },
 "nbformat": 4,
 "nbformat_minor": 5
}
