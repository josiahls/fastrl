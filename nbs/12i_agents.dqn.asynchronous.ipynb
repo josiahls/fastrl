{
 "cells": [
  {
   "cell_type": "code",
   "execution_count": 1,
   "id": "durable-dialogue",
   "metadata": {},
   "outputs": [],
   "source": [
    "#|hide\n",
    "#|eval: false\n",
    "! [ -e /content ] && pip install -Uqq fastrl['dev'] pyvirtualdisplay && \\\n",
    "                     apt-get install -y xvfb python-opengl > /dev/null 2>&1 \n",
    "# NOTE: IF YOU SEE VERSION ERRORS, IT IS SAFE TO IGNORE THEM. COLAB IS BEHIND IN SOME OF THE PACKAGE VERSIONS"
   ]
  },
  {
   "cell_type": "code",
   "execution_count": 2,
   "id": "viral-cambridge",
   "metadata": {},
   "outputs": [],
   "source": [
    "#|hide\n",
    "from fastcore.imports import in_colab\n",
    "# Since colab still requires tornado<6, we don't want to import nbdev if we don't have to\n",
    "if not in_colab():\n",
    "    from nbdev.showdoc import *\n",
    "    from nbdev.imports import *\n",
    "    if not os.environ.get(\"IN_TEST\", None):\n",
    "        assert IN_NOTEBOOK\n",
    "        assert not IN_COLAB\n",
    "        assert IN_IPYTHON\n",
    "else:\n",
    "    # Virutual display is needed for colab\n",
    "    from pyvirtualdisplay import Display\n",
    "    display = Display(visible=0, size=(400, 300))\n",
    "    display.start()"
   ]
  },
  {
   "cell_type": "code",
   "execution_count": 3,
   "id": "offshore-stuart",
   "metadata": {},
   "outputs": [],
   "source": [
    "#|default_exp agents.dqn.asynchronous"
   ]
  },
  {
   "cell_type": "code",
   "execution_count": 132,
   "id": "assisted-contract",
   "metadata": {},
   "outputs": [],
   "source": [
    "#|export\n",
    "# Python native modules\n",
    "import os\n",
    "from collections import deque\n",
    "# Third party libs\n",
    "from fastcore.all import *\n",
    "import torchdata.datapipes as dp\n",
    "from torch.utils.data.dataloader_experimental import DataLoader2\n",
    "from torch.utils.data.datapipes._typing import _DataPipeMeta, _IterDataPipeMeta\n",
    "import torch.multiprocessing as mp\n",
    "import torch\n",
    "from torch.nn import *\n",
    "import torch.nn.functional as F\n",
    "from torch.optim import *\n",
    "\n",
    "from fastai.torch_basics import *\n",
    "from fastai.torch_core import *\n",
    "# Local modules\n",
    "\n",
    "from fastrl.core import *\n",
    "from fastrl.agents.core import *\n",
    "from fastrl.pipes.core import *\n",
    "from fastrl.fastai.data.block import *\n",
    "from fastrl.memory.experience_replay import *\n",
    "from fastrl.agents.core import *\n",
    "from fastrl.agents.discrete import *\n",
    "from fastrl.loggers.core import *\n",
    "from fastrl.loggers.jupyter_visualizers import *\n",
    "from fastrl.learner.core import *\n",
    "from fastrl.agents.dqn.basic import *"
   ]
  },
  {
   "cell_type": "code",
   "execution_count": 170,
   "id": "b4ce3394-5e44-4dba-b196-0ab324359b85",
   "metadata": {},
   "outputs": [],
   "source": [
    "from torch.utils.data import functional_datapipe, IterDataPipe, MapDataPipe"
   ]
  },
  {
   "cell_type": "code",
   "execution_count": 172,
   "id": "6fc6ce0b-a352-42d2-8dcb-17b1e94fecda",
   "metadata": {},
   "outputs": [],
   "source": [
    "IterDataPipe.getstate_hook"
   ]
  },
  {
   "cell_type": "markdown",
   "id": "lesser-innocent",
   "metadata": {},
   "source": [
    "# DQN Async\n",
    "> Components that allow for syncing multiple dqn agents on multiple processes to calcualtions on the\n",
    "main process."
   ]
  },
  {
   "cell_type": "markdown",
   "id": "30c98be0-6288-443a-b4ab-9390fbe3081c",
   "metadata": {},
   "source": [
    "\n",
    "\n",
    "## Training DataPipes"
   ]
  },
  {
   "cell_type": "code",
   "execution_count": 184,
   "id": "adf265e3-d03f-4514-8de6-a9aa568701cb",
   "metadata": {},
   "outputs": [],
   "source": [
    "#|export\n",
    "class ModelSubscriber(dp.iter.IterDataPipe):\n",
    "    \"If an agent is passed to another process and 'spawn' start method is used, then this module is needed.\"\n",
    "    def __init__(self,\n",
    "                 source_datapipe\n",
    "                ): \n",
    "        super().__init__()\n",
    "        self.source_datapipe = source_datapipe\n",
    "        self.model = find_pipe_instance(self.source_datapipe,AgentBase).model\n",
    "        self.main_queue = self.initialize_queue()\n",
    "        \n",
    "    def initialize_queue(self):\n",
    "        \"If the start method is `spawn` then the queue will need to be managed using a Manager.\"\n",
    "        if mp.get_start_method()=='spawn':\n",
    "            ctx = mp.get_context('spawn')\n",
    "            manager = ctx.Manager()\n",
    "            queue = manager.Queue()\n",
    "            return queue\n",
    "        else:\n",
    "            return mp.Queue()\n",
    "    \n",
    "    def __iter__(self):\n",
    "        for x in self.source_datapipe:\n",
    "            if not self.main_queue.empty():\n",
    "                state = self.main_queue.get(timeout=1)\n",
    "                self.model.load_state_dict(state)\n",
    "            yield x"
   ]
  },
  {
   "cell_type": "code",
   "execution_count": 215,
   "id": "cc8c66df-7063-4c77-915b-2c2c8c1b4813",
   "metadata": {},
   "outputs": [],
   "source": [
    "#|export\n",
    "class ModelPublisher(dp.iter.IterDataPipe):\n",
    "    def __init__(self,source_datapipe,\n",
    "                 agents=None,\n",
    "                 publish_freq:int=1\n",
    "                ):\n",
    "        super().__init__()\n",
    "        self.source_datapipe = source_datapipe\n",
    "        if not isinstance(agents,(list,tuple)): raise ValueError(f'Agents must be a list or tuple, not {type(agents)}')\n",
    "        self.queues = [find_pipe_instance(agent,ModelSubscriber).main_queue for agent in agents]\n",
    "        self.model = find_pipe_instance(self,LearnerBase).model\n",
    "        self.publish_freq = publish_freq\n",
    "                \n",
    "    def __iter__(self):\n",
    "        for i,batch in enumerate(self.source_datapipe):\n",
    "            if i%self.publish_freq==0:\n",
    "                for q in self.queues: \n",
    "                    with torch.no_grad():\n",
    "                        q.put(deepcopy(self.model).cpu().state_dict())\n",
    "            yield batch"
   ]
  },
  {
   "cell_type": "code",
   "execution_count": 216,
   "id": "976d9e60-340c-48a8-98fc-7ab06d91617f",
   "metadata": {},
   "outputs": [],
   "source": [
    "#|export\n",
    "def DQNLearner(\n",
    "    model,\n",
    "    dls,\n",
    "    agent,\n",
    "    logger_bases=None,\n",
    "    loss_func=MSELoss(),\n",
    "    opt=AdamW,\n",
    "    lr=0.005,\n",
    "    bs=128,\n",
    "    max_sz=10000,\n",
    "    nsteps=1,\n",
    "    device=None\n",
    ") -> LearnerHead:\n",
    "    learner = LearnerBase(model,dls,loss_func=MSELoss(),opt=opt(model.parameters(),lr=lr))\n",
    "    learner = ModelPublisher(learner,agent)\n",
    "    learner = BatchCollector(learner,logger_bases=logger_bases,batch_on_pipe=LearnerBase)\n",
    "    learner = EpocherCollector(learner,logger_bases=logger_bases)\n",
    "    for logger_base in L(logger_bases): learner = logger_base.connect_source_datapipe(learner)\n",
    "    if logger_bases: \n",
    "        learner = RollingTerminatedRewardCollector(learner,logger_bases)\n",
    "        learner = EpisodeCollector(learner,logger_bases)\n",
    "    learner = ExperienceReplay(learner,bs=bs,max_sz=max_sz,clone_detach=dls[0].num_workers>0)\n",
    "    learner = StepBatcher(learner,device=device)\n",
    "    learner = QCalc(learner,nsteps=nsteps)\n",
    "    learner = ModelLearnCalc(learner)\n",
    "    if logger_bases: \n",
    "        learner = LossCollector(learner,logger_bases)\n",
    "    learner = LearnerHead(learner)\n",
    "    return learner"
   ]
  },
  {
   "cell_type": "code",
   "execution_count": 217,
   "id": "cee8c966-7e72-4168-a65e-0076ab752a9d",
   "metadata": {},
   "outputs": [],
   "source": [
    "#|export   \n",
    "def DQNAgent(\n",
    "    model,\n",
    "    logger_bases=None,\n",
    "    min_epsilon=0.02,\n",
    "    max_epsilon=1,\n",
    "    max_steps=1000,\n",
    "    device='cpu'\n",
    ")->AgentHead:\n",
    "    agent = AgentBase(model)\n",
    "    agent = StepFieldSelector(agent,field='state')\n",
    "    agent = ModelSubscriber(agent)\n",
    "    agent = SimpleModelRunner(agent,device=device)\n",
    "    agent = ArgMaxer(agent)\n",
    "    selector = EpsilonSelector(agent,min_epsilon=min_epsilon,max_epsilon=max_epsilon,max_steps=max_steps,device=device)\n",
    "    if logger_bases is not None: agent = EpsilonCollector(selector,logger_bases)\n",
    "    agent = ArgMaxer(agent,only_idx=True)\n",
    "    agent = NumpyConverter(agent)\n",
    "    agent = PyPrimativeConverter(agent)\n",
    "    agent = AgentHead(agent)\n",
    "    return agent"
   ]
  },
  {
   "cell_type": "markdown",
   "id": "2b8f9ed8-fb05-40a1-ac0d-d4cafee8fa07",
   "metadata": {},
   "source": [
    "Try training with basic defaults..."
   ]
  },
  {
   "cell_type": "code",
   "execution_count": 218,
   "id": "dd5c9d13-2426-4543-9f2f-ec572cf8a859",
   "metadata": {},
   "outputs": [],
   "source": [
    "import torch\n",
    "from torch.nn import *\n",
    "import torch.nn.functional as F\n",
    "from fastrl.loggers.core import *\n",
    "from fastrl.loggers.jupyter_visualizers import *\n",
    "from fastrl.learner.core import *\n",
    "from fastrl.fastai.data.block import *\n",
    "from fastrl.envs.gym import *\n",
    "from fastrl.agents.core import *\n",
    "from fastrl.agents.discrete import *\n",
    "from torch.utils.data.dataloader_experimental import DataLoader2\n",
    "\n",
    "logger_base = ProgressBarLogger(epoch_on_pipe=EpocherCollector,\n",
    "                 batch_on_pipe=BatchCollector)\n",
    "\n",
    "# Setup up the core NN\n",
    "torch.manual_seed(0)\n",
    "model = DQN(4,2).cuda()\n",
    "# model.share_memory() # This will not work in spawn\n",
    "# Setup the Agent\n",
    "agent = DQNAgent(model,[logger_base],max_steps=4000,device='cuda')\n",
    "# Setup the DataBlock\n",
    "block = DataBlock(\n",
    "    blocks = GymTransformBlock(agent=agent,\n",
    "                               nsteps=1,nskips=1,firstlast=False\n",
    "                              )\n",
    ")\n",
    "# pipes = L(block.datapipes(['CartPole-v1']*1,n=10))\n",
    "dls = L(block.dataloaders(['CartPole-v1']*1,n=1000,bs=1,num_workers=0))\n",
    "# # Setup the Learner\n",
    "learner = DQNLearner(model,dls,[agent],logger_bases=[logger_base],bs=128,max_sz=100_000,device='cuda')\n",
    "# learner.fit(20)"
   ]
  },
  {
   "cell_type": "code",
   "execution_count": 219,
   "id": "74d2d318-92e6-4ab4-95f2-b4dae6660e1b",
   "metadata": {},
   "outputs": [
    {
     "name": "stdout",
     "output_type": "stream",
     "text": [
      "Overwriting external_run_scripts/agents_dqn_async_35.py\n"
     ]
    }
   ],
   "source": [
    "%%writefile external_run_scripts/agents_dqn_async_35.py\n",
    "# %%python\n",
    "\n",
    "if __name__=='__main__':\n",
    "    from torch.multiprocessing import Pool, Process, set_start_method\n",
    "    \n",
    "    try:\n",
    "        set_start_method('spawn')\n",
    "    except RuntimeError:\n",
    "        pass\n",
    "    \n",
    "    from fastcore.all import *\n",
    "    import torch\n",
    "    from torch.nn import *\n",
    "    import torch.nn.functional as F\n",
    "    from fastrl.loggers.core import *\n",
    "    from fastrl.loggers.jupyter_visualizers import *\n",
    "    from fastrl.learner.core import *\n",
    "    from fastrl.fastai.data.block import *\n",
    "    from fastrl.envs.gym import *\n",
    "    from fastrl.agents.core import *\n",
    "    from fastrl.agents.discrete import *\n",
    "    from fastrl.agents.dqn.basic import *\n",
    "    from fastrl.agents.dqn.asynchronous import *\n",
    "    from torch.utils.data.dataloader_experimental import DataLoader2\n",
    "    \n",
    "    logger_base = ProgressBarLogger(epoch_on_pipe=EpocherCollector,\n",
    "                     batch_on_pipe=BatchCollector)\n",
    "\n",
    "    # Setup up the core NN\n",
    "    torch.manual_seed(0)\n",
    "    model = DQN(4,2).cuda()\n",
    "    # model.share_memory() # This will not work in spawn\n",
    "    # Setup the Agent\n",
    "    agent = DQNAgent(model,[logger_base],max_steps=8000,device='cuda')\n",
    "    # Setup the DataBlock\n",
    "    block = DataBlock(\n",
    "        blocks = GymTransformBlock(agent=agent,\n",
    "                                   nsteps=1,nskips=1,firstlast=False,\n",
    "                                   dl_type=partial(DataLoader2,persistent_workers=True\n",
    "                                                  )\n",
    "                                  )\n",
    "    )\n",
    "    # pipes = L(block.datapipes(['CartPole-v1']*1,n=10))\n",
    "    dls = L(block.dataloaders(['CartPole-v1']*1,n=1000,bs=1,num_workers=1))\n",
    "    print('persistent workers: ',dls[0].persistent_workers)\n",
    "    # # Setup the Learner\n",
    "    learner = DQNLearner(model,dls,[agent],logger_bases=[logger_base],bs=128,max_sz=100_000,device='cuda')\n",
    "    learner.fit(20)"
   ]
  },
  {
   "cell_type": "code",
   "execution_count": 220,
   "id": "current-pilot",
   "metadata": {},
   "outputs": [],
   "source": [
    "#|hide\n",
    "from fastcore.imports import in_colab\n",
    "\n",
    "# Since colab still requires tornado<6, we don't want to import nbdev if we don't have to\n",
    "if not in_colab():\n",
    "    from nbdev import nbdev_export\n",
    "    nbdev_export()"
   ]
  },
  {
   "cell_type": "code",
   "execution_count": null,
   "id": "b2b33237-1b21-4680-9ebb-03f21b7e0356",
   "metadata": {},
   "outputs": [],
   "source": []
  }
 ],
 "metadata": {
  "kernelspec": {
   "display_name": "Python 3 (ipykernel)",
   "language": "python",
   "name": "python3"
  },
  "language_info": {
   "codemirror_mode": {
    "name": "ipython",
    "version": 3
   },
   "file_extension": ".py",
   "mimetype": "text/x-python",
   "name": "python",
   "nbconvert_exporter": "python",
   "pygments_lexer": "ipython3",
   "version": "3.7.11"
  }
 },
 "nbformat": 4,
 "nbformat_minor": 5
}
