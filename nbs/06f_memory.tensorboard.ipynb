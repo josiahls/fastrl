{
 "cells": [
  {
   "cell_type": "code",
   "execution_count": 3,
   "id": "durable-dialogue",
   "metadata": {},
   "outputs": [],
   "source": [
    "#hide\n",
    "#skip\n",
    "%config Completer.use_jedi = False\n",
    "# upgrade fastrl on colab\n",
    "! [ -e /content ] && pip install -Uqq fastrl['dev'] pyvirtualdisplay && \\\n",
    "                     apt-get install -y xvfb python-opengl > /dev/null 2>&1 \n",
    "# NOTE: IF YOU SEE VERSION ERRORS, IT IS SAFE TO IGNORE THEM. COLAB IS BEHIND IN SOME OF THE PACKAGE VERSIONS"
   ]
  },
  {
   "cell_type": "code",
   "execution_count": 4,
   "id": "viral-cambridge",
   "metadata": {},
   "outputs": [],
   "source": [
    "# hide\n",
    "from fastcore.imports import in_colab\n",
    "# Since colab still requires tornado<6, we don't want to import nbdev if we don't have to\n",
    "if not in_colab():\n",
    "    from nbverbose.showdoc import *\n",
    "    from nbdev.imports import *\n",
    "    if not os.environ.get(\"IN_TEST\", None):\n",
    "        assert IN_NOTEBOOK\n",
    "        assert not IN_COLAB\n",
    "        assert IN_IPYTHON\n",
    "else:\n",
    "    # Virutual display is needed for colab\n",
    "    from pyvirtualdisplay import Display\n",
    "    display = Display(visible=0, size=(400, 300))\n",
    "    display.start()"
   ]
  },
  {
   "cell_type": "code",
   "execution_count": 5,
   "id": "offshore-stuart",
   "metadata": {},
   "outputs": [],
   "source": [
    "# default_exp memory.tensorboard"
   ]
  },
  {
   "cell_type": "code",
   "execution_count": 12,
   "id": "assisted-contract",
   "metadata": {},
   "outputs": [],
   "source": [
    "# export\n",
    "# Python native modules\n",
    "import os\n",
    "from fnmatch import fnmatch\n",
    "# Third party libs\n",
    "from fastcore.all import *\n",
    "from tensorboard.backend.event_processing import event_accumulator\n",
    "# Local modules\n",
    "from fastrl.core import *"
   ]
  },
  {
   "cell_type": "markdown",
   "id": "lesser-innocent",
   "metadata": {},
   "source": [
    "# Memory Tensorboard\n",
    "> Tensorboard / Plotly visualizations using tensorboard as a backend within the context of memory"
   ]
  },
  {
   "cell_type": "code",
   "execution_count": 7,
   "id": "4adef3a9-6e34-418d-a228-4419a9424e46",
   "metadata": {},
   "outputs": [
    {
     "name": "stdout",
     "output_type": "stream",
     "text": [
      "Selecting TensorBoard with logdir runs (started 20:00:56 ago; port 6006, pid 868).\n"
     ]
    },
    {
     "data": {
      "text/html": [
       "\n",
       "      <iframe id=\"tensorboard-frame-cd9d444eb8374bde\" width=\"100%\" height=\"1000\" frameborder=\"0\">\n",
       "      </iframe>\n",
       "      <script>\n",
       "        (function() {\n",
       "          const frame = document.getElementById(\"tensorboard-frame-cd9d444eb8374bde\");\n",
       "          const url = new URL(\"/\", window.location);\n",
       "          const port = 6006;\n",
       "          if (port) {\n",
       "            url.port = port;\n",
       "          }\n",
       "          frame.src = url;\n",
       "        })();\n",
       "      </script>\n",
       "    "
      ],
      "text/plain": [
       "<IPython.core.display.HTML object>"
      ]
     },
     "metadata": {},
     "output_type": "display_data"
    }
   ],
   "source": [
    "# hide\n",
    "SHOW_TENSOR_BOARD=True\n",
    "if not os.environ.get(\"IN_TEST\", None) and SHOW_TENSOR_BOARD:\n",
    "    run_tensorboard(samples_per_plugin='images=2000')"
   ]
  },
  {
   "cell_type": "code",
   "execution_count": 11,
   "id": "92de8de3-6d70-481f-998a-91919af10cb0",
   "metadata": {},
   "outputs": [],
   "source": [
    "ea = event_accumulator.EventAccumulator('runs/Oct23_14-46-31_9b89ef136e90_dqn_target/events.out.tfevents.1635000391.9b89ef136e90.114.4',\n",
    "  size_guidance={ # see below regarding this argument\n",
    "      event_accumulator.COMPRESSED_HISTOGRAMS: 500,\n",
    "      event_accumulator.IMAGES: 0,\n",
    "      event_accumulator.AUDIO: 4,\n",
    "      event_accumulator.SCALARS: 0,\n",
    "      event_accumulator.HISTOGRAMS: 1,\n",
    "  })"
   ]
  },
  {
   "cell_type": "code",
   "execution_count": null,
   "id": "3f102b34-236b-49e8-bacc-23f6859f881a",
   "metadata": {},
   "outputs": [],
   "source": [
    "# export\n",
    "def get_event_accumulator(path:Path # Possible partial path to load events from.\n",
    "                          pattern:Optional[str]=None, # pattern to load the files\n",
    "                         ):\n",
    "    if in_('*',path): pattern"
   ]
  },
  {
   "cell_type": "code",
   "execution_count": 8,
   "id": "current-pilot",
   "metadata": {},
   "outputs": [
    {
     "name": "stdout",
     "output_type": "stream",
     "text": [
      "converting /home/fastrl_user/fastrl/nbs/index.ipynb to README.md\n",
      "Converted 00_core.ipynb.\n",
      "Converted 00_nbdev_extension.ipynb.\n",
      "Converted 03_callback.core.ipynb.\n",
      "Converted 04_agent.ipynb.\n",
      "Converted 05_data.test_async.ipynb.\n",
      "Converted 05a_data.block.ipynb.\n",
      "Converted 05b_data.gym.ipynb.\n",
      "Converted 06a_memory.experience_replay.ipynb.\n",
      "Converted 06f_memory.tensorboard.ipynb.\n",
      "Converted 10a_agents.dqn.core.ipynb.\n",
      "Converted 10b_agents.dqn.targets.ipynb.\n",
      "Converted 10c_agents.dqn.double.ipynb.\n",
      "Converted 10d_agents.dqn.dueling.ipynb.\n",
      "Converted 10e_agents.dqn.categorical.ipynb.\n",
      "Converted 11a_agents.policy_gradient.ppo.ipynb.\n",
      "Converted 20_test_utils.ipynb.\n",
      "Converted index.ipynb.\n",
      "Converted nbdev_template.ipynb.\n",
      "converting: /home/fastrl_user/fastrl/nbs/10b_agents.dqn.targets.ipynb\n",
      "converting: /home/fastrl_user/fastrl/nbs/00_core.ipynb\n",
      "converting: /home/fastrl_user/fastrl/nbs/06a_memory.experience_replay.ipynb\n",
      "converting: /home/fastrl_user/fastrl/nbs/06f_memory.tensorboard.ipynb\n",
      "An error occurred while executing the following cell:\n",
      "------------------\n",
      "from nbverbose.showdoc import show_doc\n",
      "from fastrl.agents.dqn.targets import *\n",
      "------------------\n",
      "\n",
      "\u001b[0;31m---------------------------------------------------------------------------\u001b[0m\n",
      "\u001b[0;31mNameError\u001b[0m                                 Traceback (most recent call last)\n",
      "\u001b[0;32m/tmp/ipykernel_1369/1498765346.py\u001b[0m in \u001b[0;36m<module>\u001b[0;34m\u001b[0m\n",
      "\u001b[1;32m      1\u001b[0m \u001b[0;32mfrom\u001b[0m \u001b[0mnbverbose\u001b[0m\u001b[0;34m.\u001b[0m\u001b[0mshowdoc\u001b[0m \u001b[0;32mimport\u001b[0m \u001b[0mshow_doc\u001b[0m\u001b[0;34m\u001b[0m\u001b[0;34m\u001b[0m\u001b[0m\n",
      "\u001b[0;32m----> 2\u001b[0;31m \u001b[0;32mfrom\u001b[0m \u001b[0mfastrl\u001b[0m\u001b[0;34m.\u001b[0m\u001b[0magents\u001b[0m\u001b[0;34m.\u001b[0m\u001b[0mdqn\u001b[0m\u001b[0;34m.\u001b[0m\u001b[0mtargets\u001b[0m \u001b[0;32mimport\u001b[0m \u001b[0;34m*\u001b[0m\u001b[0;34m\u001b[0m\u001b[0;34m\u001b[0m\u001b[0m\n",
      "\u001b[0m\n",
      "\u001b[0;32m~/fastrl/fastrl/agents/dqn/targets.py\u001b[0m in \u001b[0;36m<module>\u001b[0;34m\u001b[0m\n",
      "\u001b[1;32m    149\u001b[0m \u001b[0;34m\u001b[0m\u001b[0m\n",
      "\u001b[1;32m    150\u001b[0m def tfeventimages2npimage(tag:str, # The event tag to load the images from.\n",
      "\u001b[0;32m--> 151\u001b[0;31m                           \u001b[0mea\u001b[0m\u001b[0;34m:\u001b[0m\u001b[0mevent_accumulator\u001b[0m\u001b[0;34m.\u001b[0m\u001b[0mEventAccumulator\u001b[0m\u001b[0;34m,\u001b[0m \u001b[0;31m# The event accumulator to load the images\u001b[0m\u001b[0;34m\u001b[0m\u001b[0;34m\u001b[0m\u001b[0m\n",
      "\u001b[0m\u001b[1;32m    152\u001b[0m                           \u001b[0mstart\u001b[0m\u001b[0;34m=\u001b[0m\u001b[0;36m0\u001b[0m\u001b[0;34m,\u001b[0m \u001b[0;31m# Where in the list of images to start loading\u001b[0m\u001b[0;34m\u001b[0m\u001b[0;34m\u001b[0m\u001b[0m\n",
      "\u001b[1;32m    153\u001b[0m                           \u001b[0mend\u001b[0m\u001b[0;34m:\u001b[0m\u001b[0mOptional\u001b[0m\u001b[0;34m[\u001b[0m\u001b[0mint\u001b[0m\u001b[0;34m]\u001b[0m\u001b[0;34m=\u001b[0m\u001b[0;32mNone\u001b[0m\u001b[0;34m,\u001b[0m \u001b[0;31m# Optionally where to stop loading images\u001b[0m\u001b[0;34m\u001b[0m\u001b[0;34m\u001b[0m\u001b[0m\n",
      "\n",
      "\u001b[0;31mNameError\u001b[0m: name 'event_accumulator' is not defined\n",
      "NameError: name 'event_accumulator' is not defined\n",
      "\n",
      "Conversion failed on the following:\n",
      "10b_agents.dqn.targets.ipynb\n"
     ]
    }
   ],
   "source": [
    "# hide\n",
    "from fastcore.imports import in_colab\n",
    "\n",
    "# Since colab still requires tornado<6, we don't want to import nbdev if we don't have to\n",
    "if not in_colab():\n",
    "    from nbdev.export import *\n",
    "    from nbdev.export2html import *\n",
    "    from nbverbose.cli import *\n",
    "    make_readme()\n",
    "    notebook2script()\n",
    "    notebook2html()"
   ]
  }
 ],
 "metadata": {
  "kernelspec": {
   "display_name": "Python 3 (ipykernel)",
   "language": "python",
   "name": "python3"
  },
  "language_info": {
   "codemirror_mode": {
    "name": "ipython",
    "version": 3
   },
   "file_extension": ".py",
   "mimetype": "text/x-python",
   "name": "python",
   "nbconvert_exporter": "python",
   "pygments_lexer": "ipython3",
   "version": "3.8.8"
  }
 },
 "nbformat": 4,
 "nbformat_minor": 5
}
