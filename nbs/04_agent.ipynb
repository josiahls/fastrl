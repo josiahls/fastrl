{
 "cells": [
  {
   "cell_type": "code",
   "execution_count": null,
   "id": "allied-dream",
   "metadata": {},
   "outputs": [],
   "source": [
    "#hide\n",
    "#skip\n",
    "%config Completer.use_jedi = False\n",
    "# upgrade fastrl on colab\n",
    "! [ -e /content ] && pip install -Uqq fastrl['dev'] pyvirtualdisplay && \\\n",
    "                     apt-get install -y xvfb python-opengl > /dev/null 2>&1 \n",
    "# NOTE: IF YOU SEE VERSION ERRORS, IT IS SAFE TO IGNORE THEM. COLAB IS BEHIND IN SOME OF THE PACKAGE VERSIONS"
   ]
  },
  {
   "cell_type": "code",
   "execution_count": null,
   "id": "spatial-bandwidth",
   "metadata": {},
   "outputs": [],
   "source": [
    "# hide\n",
    "from fastcore.imports import in_colab\n",
    "# Since colab still requires tornado<6, we don't want to import nbdev if we don't have to\n",
    "if not in_colab():\n",
    "    from nbdev.showdoc import *\n",
    "    from nbdev.imports import *\n",
    "    if not os.environ.get(\"IN_TEST\", None):\n",
    "        assert IN_NOTEBOOK\n",
    "        assert not IN_COLAB\n",
    "        assert IN_IPYTHON\n",
    "else:\n",
    "    # Virutual display is needed for colab\n",
    "    from pyvirtualdisplay import Display\n",
    "    display = Display(visible=0, size=(400, 300))\n",
    "    display.start()"
   ]
  },
  {
   "cell_type": "code",
   "execution_count": null,
   "id": "mathematical-wonder",
   "metadata": {},
   "outputs": [],
   "source": [
    "# default_exp agent"
   ]
  },
  {
   "cell_type": "code",
   "execution_count": null,
   "id": "clinical-possible",
   "metadata": {},
   "outputs": [],
   "source": [
    "# export\n",
    "# Python native modules\n",
    "import os\n",
    "# Third party libs\n",
    "from fastcore.all import *\n",
    "# Local modules\n",
    "from fastrl.callback.core import *"
   ]
  },
  {
   "cell_type": "code",
   "execution_count": null,
   "id": "continuous-basketball",
   "metadata": {},
   "outputs": [],
   "source": [
    "from fastai.learner import *"
   ]
  },
  {
   "cell_type": "markdown",
   "id": "broken-diving",
   "metadata": {},
   "source": [
    "# Agent\n",
    "> fastrl's single agent class that uses callbacks for extendability."
   ]
  },
  {
   "cell_type": "code",
   "execution_count": null,
   "id": "wireless-florence",
   "metadata": {},
   "outputs": [],
   "source": [
    "# export\n",
    "_events = L.split('create preprocess action noise')\n",
    "_events = _events.map(lambda s:'after_cancel_'+s)+ _events.map(lambda s:'after_cancel_'+s) + _events.map(lambda s:'before_'+s) + _events.map(lambda s:'after_'+s)\n",
    "\n",
    "mk_class('agent_event', **_events.map_dict(),\n",
    "         doc=\"All possible events as attributes to get tab-completion and typo-proofing\")\n",
    "\n",
    "_all_ = ['agent_event']\n",
    "\n",
    "_inner_loop = \"\".split()"
   ]
  },
  {
   "cell_type": "code",
   "execution_count": null,
   "id": "golden-drilling",
   "metadata": {},
   "outputs": [],
   "source": [
    "# export\n",
    "class Agent(Loop):\n",
    "    _loop=L(['Start Action','before_preprocess','after_preprocess',\n",
    "                            'before_action','after_action',\n",
    "                            'before_noise','after_noise','End Action'])\n",
    "    _default='agent'\n",
    "    end_event='after_noise'\n",
    "    @delegates(Loop)\n",
    "    def __init__(self,model=None,**kwargs):\n",
    "        super().__init__(**kwargs)\n",
    "        self.experience=None\n",
    "        self.action=None\n",
    "        self.model=model\n",
    "        \n",
    "    def state_dict(self): return self.model.state_dict()\n",
    "    def parameters(self): return self.model.parameters()\n",
    "    def children(self): return self.model.children()\n",
    "    def train(self,*args,**kwargs): return self.model.train(*args,**kwargs)\n",
    "    def to(self,*args,**kwargs):\n",
    "        self.model.to(*args,**kwargs)\n",
    "        return self\n",
    "\n",
    "    def _call_one(self, event_name):\n",
    "        if not hasattr(agent_event, event_name): raise Exception(f'missing {event_name}')\n",
    "        for cb in self.cbs.sorted('order'): cb(event_name)\n",
    "        \n",
    "    def __call__(self, event_name=None,**kwargs): \n",
    "        if isinstance(event_name,str): L(event_name).map(self._call_one)\n",
    "        elif isinstance(event_name,dict):return self.do_action(**event_name)\n",
    "        \n",
    "    def do_action(self,**kwargs):\n",
    "        self.experience=kwargs\n",
    "        for event in L.split('preprocess action noise'): \n",
    "            self._with_events(noop,event,Exception)\n",
    "        return self.action,self.experience"
   ]
  },
  {
   "cell_type": "code",
   "execution_count": null,
   "id": "functioning-penetration",
   "metadata": {},
   "outputs": [
    {
     "name": "stdout",
     "output_type": "stream",
     "text": [
      "Start Action\n",
      "   - before_preprocess: []\n",
      "   - after_preprocess: []\n",
      "   - before_action  : []\n",
      "   - after_action   : []\n",
      "   - before_noise   : []\n",
      "   - after_noise    : []\n",
      "End Action\n"
     ]
    }
   ],
   "source": [
    "Agent().show_loop()"
   ]
  },
  {
   "cell_type": "code",
   "execution_count": null,
   "id": "aggregate-campbell",
   "metadata": {},
   "outputs": [],
   "source": [
    "# export\n",
    "class AgentCallback(LoopCallback):\n",
    "    _default,agent='agent',None\n",
    "    _methods=_events\n",
    "    \n",
    "    def after_cancel_preprocess(self):raise\n",
    "    def after_cancel_action(self):    raise\n",
    "    def after_cancel_noise(self):     raise"
   ]
  },
  {
   "cell_type": "code",
   "execution_count": null,
   "id": "concerned-cleaners",
   "metadata": {},
   "outputs": [
    {
     "name": "stdout",
     "output_type": "stream",
     "text": [
      "before noise\n"
     ]
    },
    {
     "data": {
      "text/plain": [
       "(tensor([[-0.7925, -1.3436,  0.3393,  1.3539, -0.4443]]), {})"
      ]
     },
     "execution_count": null,
     "metadata": {},
     "output_type": "execute_result"
    }
   ],
   "source": [
    "import torch\n",
    "\n",
    "class TstRandomCallback(AgentCallback):\n",
    "    def before_noise(self): \n",
    "        print('before noise')\n",
    "        self.agent.action=torch.randn((1,5))\n",
    "    \n",
    "agent=Agent(cbs=TstRandomCallback)\n",
    "agent.do_action()"
   ]
  },
  {
   "cell_type": "code",
   "execution_count": null,
   "id": "sharing-narrow",
   "metadata": {},
   "outputs": [
    {
     "name": "stdout",
     "output_type": "stream",
     "text": [
      "Start Action\n",
      "   - before_preprocess: []\n",
      "   - after_preprocess: []\n",
      "   - before_action  : []\n",
      "   - after_action   : []\n",
      "   - before_noise   : [TstRandomCallback]\n",
      "   - after_noise    : []\n",
      "End Action\n"
     ]
    }
   ],
   "source": [
    "agent.show_loop()"
   ]
  },
  {
   "cell_type": "code",
   "execution_count": null,
   "id": "impossible-nickname",
   "metadata": {},
   "outputs": [
    {
     "name": "stdout",
     "output_type": "stream",
     "text": [
      "converting /home/fastrl_user/fastrl/nbs/index.ipynb to README.md\n",
      "Converted 00_core.ipynb.\n",
      "Converted 00_nbdev_extension.ipynb.\n",
      "Converted 03_callback.core.ipynb.\n",
      "Converted 04_agent.ipynb.\n",
      "Converted 05_data.block.ipynb.\n",
      "Converted 05_data.test_async.ipynb.\n",
      "Converted 10a_agents.dqn.core.ipynb.\n",
      "Converted 10b_agents.dqn.targets.ipynb.\n",
      "Converted 20_test_utils.ipynb.\n",
      "Converted index.ipynb.\n",
      "Converted nbdev_template.ipynb.\n",
      "Converted tmp.ipynb.\n",
      "converting: /home/fastrl_user/fastrl/nbs/10b_agents.dqn.targets.ipynb\n",
      "converting: /home/fastrl_user/fastrl/nbs/04_agent.ipynb\n",
      "converting: /home/fastrl_user/fastrl/nbs/05_data.block.ipynb\n"
     ]
    }
   ],
   "source": [
    "# hide\n",
    "from fastcore.imports import in_colab\n",
    "\n",
    "# Since colab still requires tornado<6, we don't want to import nbdev if we don't have to\n",
    "if not in_colab():\n",
    "    from nbdev.export import *\n",
    "    from nbdev.export2html import *\n",
    "    from nbdev.cli import make_readme\n",
    "    make_readme()\n",
    "    notebook2script(silent=True)\n",
    "    "
   ]
  },
  {
   "cell_type": "code",
   "execution_count": null,
   "id": "greatest-strengthening",
   "metadata": {},
   "outputs": [],
   "source": []
  }
 ],
 "metadata": {
  "kernelspec": {
   "display_name": "Python 3 (ipykernel)",
   "language": "python",
   "name": "python3"
  },
  "language_info": {
   "codemirror_mode": {
    "name": "ipython",
    "version": 3
   },
   "file_extension": ".py",
   "mimetype": "text/x-python",
   "name": "python",
   "nbconvert_exporter": "python",
   "pygments_lexer": "ipython3",
   "version": "3.8.8"
  }
 },
 "nbformat": 4,
 "nbformat_minor": 5
}
