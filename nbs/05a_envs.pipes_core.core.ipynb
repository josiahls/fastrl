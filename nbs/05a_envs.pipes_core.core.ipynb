{
 "cells": [
  {
   "cell_type": "code",
   "execution_count": 1,
   "id": "durable-dialogue",
   "metadata": {},
   "outputs": [],
   "source": [
    "#hide\n",
    "#skip\n",
    "%config Completer.use_jedi = False\n",
    "%config IPCompleter.greedy=True\n",
    "# upgrade fastrl on colab\n",
    "! [ -e /content ] && pip install -Uqq fastrl['dev'] pyvirtualdisplay && \\\n",
    "                     apt-get install -y xvfb python-opengl > /dev/null 2>&1 \n",
    "# NOTE: IF YOU SEE VERSION ERRORS, IT IS SAFE TO IGNORE THEM. COLAB IS BEHIND IN SOME OF THE PACKAGE VERSIONS"
   ]
  },
  {
   "cell_type": "code",
   "execution_count": 2,
   "id": "viral-cambridge",
   "metadata": {},
   "outputs": [],
   "source": [
    "# hide\n",
    "from fastcore.imports import in_colab\n",
    "# Since colab still requires tornado<6, we don't want to import nbdev if we don't have to\n",
    "if not in_colab():\n",
    "    from nbdev.showdoc import *\n",
    "    from nbdev.imports import *\n",
    "    if not os.environ.get(\"IN_TEST\", None):\n",
    "        assert IN_NOTEBOOK\n",
    "        assert not IN_COLAB\n",
    "        assert IN_IPYTHON\n",
    "else:\n",
    "    # Virutual display is needed for colab\n",
    "    from pyvirtualdisplay import Display\n",
    "    display = Display(visible=0, size=(400, 300))\n",
    "    display.start()"
   ]
  },
  {
   "cell_type": "code",
   "execution_count": 3,
   "id": "offshore-stuart",
   "metadata": {},
   "outputs": [],
   "source": [
    "# default_exp envs.pipes_core.core"
   ]
  },
  {
   "cell_type": "code",
   "execution_count": 4,
   "id": "assisted-contract",
   "metadata": {},
   "outputs": [],
   "source": [
    "# export\n",
    "# Python native modules\n",
    "import os\n",
    "# Third party libs\n",
    "from fastcore.all import *\n",
    "import torchdata.datapipes as dp\n",
    "import typing\n",
    "from fastai.torch_basics import *\n",
    "from fastai.torch_core import *\n",
    "# Local modules\n",
    "from fastrl.core import *\n",
    "from fastrl.fastai.data.pipes.core import *\n",
    "from fastrl.fastai.data.load import *\n",
    "from fastrl.fastai.data.block import *"
   ]
  },
  {
   "cell_type": "markdown",
   "id": "lesser-innocent",
   "metadata": {},
   "source": [
    "# Envs Pipes\n",
    "> DataPipes that are generic to a specific env/simulation library. "
   ]
  },
  {
   "cell_type": "code",
   "execution_count": 5,
   "id": "50976e54-beba-4870-8812-970335b8a5f8",
   "metadata": {},
   "outputs": [],
   "source": [
    "# export\n",
    "class Flattener(dp.iter.IterDataPipe):\n",
    "    \"Takes nested lists and unwraps them yielding 1 element at a time.\"\n",
    "    def __init__(self, source_datapipe) -> None:\n",
    "        self.source_datapipe = source_datapipe\n",
    "    \n",
    "    def __iter__(self):\n",
    "        for list_like_element in self.source_datapipe:\n",
    "            if not is_listy(list_like_element):\n",
    "                raise Exception(f'Expected listy object got {type(list_like_element)}\\n{list_like_element}')\n",
    "            yield from (o for o in list_like_element)"
   ]
  },
  {
   "cell_type": "markdown",
   "id": "48d29628-6f35-4554-8d81-4c869c9e2af0",
   "metadata": {},
   "source": [
    "Below we have `elements` that is a list of 3 lists. We want to flatten these into a single ordered list."
   ]
  },
  {
   "cell_type": "code",
   "execution_count": 6,
   "id": "f88f3323-6c83-4d6f-a2e1-efbb491eceb6",
   "metadata": {},
   "outputs": [],
   "source": [
    "elements = [list(range(10)),list(range(10,15)),list(range(15,20))]\n",
    "pipe = dp.iter.IterableWrapper(elements)\n",
    "pipe = Flattener(pipe)\n",
    "test_eq(\n",
    "    list(pipe),\n",
    "    list(range(10))+list(range(10,15))+list(range(15,20))\n",
    ")"
   ]
  },
  {
   "cell_type": "code",
   "execution_count": 18,
   "id": "current-pilot",
   "metadata": {},
   "outputs": [
    {
     "name": "stdout",
     "output_type": "stream",
     "text": [
      "converting /home/fastrl_user/fastrl/nbs/index.ipynb to README.md\n"
     ]
    }
   ],
   "source": [
    "# hide\n",
    "from fastcore.imports import in_colab\n",
    "\n",
    "# Since colab still requires tornado<6, we don't want to import nbdev if we don't have to\n",
    "if not in_colab():\n",
    "    from nbdev.export import *\n",
    "    from nbdev.export2html import *\n",
    "    from nbdev.cli import *\n",
    "    make_readme()\n",
    "    notebook2script(silent=True)"
   ]
  },
  {
   "cell_type": "code",
   "execution_count": null,
   "id": "8334a1cf-4b5c-496d-8cce-559aaeca7e4e",
   "metadata": {},
   "outputs": [],
   "source": []
  }
 ],
 "metadata": {
  "kernelspec": {
   "display_name": "Python 3 (ipykernel)",
   "language": "python",
   "name": "python3"
  },
  "language_info": {
   "codemirror_mode": {
    "name": "ipython",
    "version": 3
   },
   "file_extension": ".py",
   "mimetype": "text/x-python",
   "name": "python",
   "nbconvert_exporter": "python",
   "pygments_lexer": "ipython3",
   "version": "3.7.11"
  }
 },
 "nbformat": 4,
 "nbformat_minor": 5
}
