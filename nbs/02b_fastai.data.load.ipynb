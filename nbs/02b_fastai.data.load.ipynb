{
 "cells": [
  {
   "cell_type": "code",
   "execution_count": 2,
   "id": "durable-dialogue",
   "metadata": {},
   "outputs": [],
   "source": [
    "#hide\n",
    "#skip\n",
    "%config Completer.use_jedi = False\n",
    "%config IPCompleter.greedy=True\n",
    "# upgrade fastrl on colab\n",
    "! [ -e /content ] && pip install -Uqq fastrl['dev'] pyvirtualdisplay && \\\n",
    "                     apt-get install -y xvfb python-opengl > /dev/null 2>&1 \n",
    "# NOTE: IF YOU SEE VERSION ERRORS, IT IS SAFE TO IGNORE THEM. COLAB IS BEHIND IN SOME OF THE PACKAGE VERSIONS"
   ]
  },
  {
   "cell_type": "code",
   "execution_count": 3,
   "id": "viral-cambridge",
   "metadata": {},
   "outputs": [],
   "source": [
    "# hide\n",
    "from fastcore.imports import in_colab\n",
    "# Since colab still requires tornado<6, we don't want to import nbdev if we don't have to\n",
    "if not in_colab():\n",
    "    from nbverbose.showdoc import *\n",
    "    from nbdev.imports import *\n",
    "    if not os.environ.get(\"IN_TEST\", None):\n",
    "        assert IN_NOTEBOOK\n",
    "        assert not IN_COLAB\n",
    "        assert IN_IPYTHON\n",
    "else:\n",
    "    # Virutual display is needed for colab\n",
    "    from pyvirtualdisplay import Display\n",
    "    display = Display(visible=0, size=(400, 300))\n",
    "    display.start()"
   ]
  },
  {
   "cell_type": "code",
   "execution_count": 4,
   "id": "offshore-stuart",
   "metadata": {},
   "outputs": [],
   "source": [
    "# default_exp fastai.data.load"
   ]
  },
  {
   "cell_type": "code",
   "execution_count": 8,
   "id": "assisted-contract",
   "metadata": {},
   "outputs": [],
   "source": [
    "# export\n",
    "# Python native modules\n",
    "import os\n",
    "# Third party libs\n",
    "from fastcore.all import *\n",
    "from fastai.torch_basics import *\n",
    "# from torch.utils.data.dataloader import DataLoader as OrgDataLoader\n",
    "from torch.utils.data import dataloader\n",
    "from torch.utils.data.dataloader import _MultiProcessingDataLoaderIter,_SingleProcessDataLoaderIter,_DatasetKind\n",
    "_loaders = (_MultiProcessingDataLoaderIter,_SingleProcessDataLoaderIter)\n",
    "# Local modules\n",
    "from fastrl.fastai.loop import *\n",
    "\n",
    "from fastai.data.load import DataLoader as FastaiDataLoader\n",
    "\n",
    "from torchdata.datapipes.iter import HttpReader,IterDataPipe"
   ]
  },
  {
   "cell_type": "markdown",
   "id": "lesser-innocent",
   "metadata": {},
   "source": [
    "# DataLoader helpers\n",
    "> An implimentation of the torch DataLoader that instead uses Loop as a base. It\n",
    "also uses experimental API from torch.data"
   ]
  },
  {
   "cell_type": "code",
   "execution_count": 6,
   "id": "7860b20f-8f9b-439b-a9fe-7c7b3398f505",
   "metadata": {},
   "outputs": [],
   "source": [
    "bs = 4\n",
    "letters = list(string.ascii_lowercase)"
   ]
  },
  {
   "cell_type": "code",
   "execution_count": 33,
   "id": "8a6dcab8-d5bd-476c-acb5-0e08c914e4a4",
   "metadata": {},
   "outputs": [],
   "source": [
    "#export\n",
    "def default_worker_f(worker_id):\n",
    "    set_num_threads(1)\n",
    "    info = get_worker_info()\n",
    "    ds = info.dataset\n",
    "    ds.offs = info.id\n",
    "    set_seed(info.seed)\n",
    "    if hasattr(ds,'wif'): ds.wif()\n",
    "\n",
    "class MinimumDataLoader:\n",
    "    def _fn_noops(self, x=None, *args, **kwargs): return x\n",
    "    \n",
    "    _IterableDataset_len_called,_auto_collation,collate_fn,drop_last = None,False,_fn_noops,False\n",
    "    _index_sampler,generator,prefetch_factor = Inf.count,None,2\n",
    "    dataset_kind = _dataset_kind = _DatasetKind.Iterable\n",
    "    \n",
    "    def __init__(self, \n",
    "                 datapipe, \n",
    "                 pin_memory=False, \n",
    "                 n_workers=0, \n",
    "                 timeout=0, \n",
    "                 persistent_workers=False\n",
    "                ):\n",
    "        self.dataset,self.worker_init_fn,self.num_workers = datapipe,default_worker_f,n_workers\n",
    "        store_attr('pin_memory,timeout,persistent_workers')\n",
    "\n",
    "    def __iter__(self): \n",
    "        \n",
    "        return _loaders[self.num_workers==0](self)\n",
    "\n",
    "    @property\n",
    "    def multiprocessing_context(self): return (None,multiprocessing)[self.num_workers>0]\n",
    "\n",
    "    @contextmanager\n",
    "    def no_multiproc(self):\n",
    "        old_num_workers = self.num_workers\n",
    "        try:\n",
    "            self.num_workers = 0\n",
    "            yield self.d\n",
    "        finally: self.num_workers = old_num_workers\n",
    "\n",
    "_collate_types = (ndarray, Tensor, typing.Mapping, str)"
   ]
  },
  {
   "cell_type": "code",
   "execution_count": 34,
   "id": "7992ca40-c8fb-4002-80bc-bddf2066c614",
   "metadata": {},
   "outputs": [
    {
     "name": "stdout",
     "output_type": "stream",
     "text": [
      "a\n",
      "b\n",
      "c\n",
      "d\n",
      "e\n",
      "f\n",
      "g\n",
      "h\n",
      "i\n",
      "j\n",
      "k\n",
      "l\n",
      "m\n",
      "n\n",
      "o\n",
      "p\n",
      "q\n",
      "r\n",
      "s\n",
      "t\n",
      "u\n",
      "v\n",
      "w\n",
      "x\n",
      "y\n",
      "z\n"
     ]
    }
   ],
   "source": [
    "for o in MinimumDataLoader(letters): print(o)"
   ]
  },
  {
   "cell_type": "code",
   "execution_count": 35,
   "id": "bd109e9d-9bca-4328-8bc2-38bff49a7769",
   "metadata": {},
   "outputs": [],
   "source": [
    "\n",
    "from torchdata.datapipes.iter import HttpReader,IterDataPipe,IterableWrapper"
   ]
  },
  {
   "cell_type": "code",
   "execution_count": 36,
   "id": "ae672af6-b1e1-45ed-aac4-d74c88a930fc",
   "metadata": {},
   "outputs": [
    {
     "name": "stdout",
     "output_type": "stream",
     "text": [
      "['a', 'b']\n",
      "['c', 'd']\n",
      "['e', 'f']\n",
      "['g', 'h']\n",
      "['i', 'j']\n",
      "['k', 'l']\n",
      "['m', 'n']\n",
      "['o', 'p']\n",
      "['q', 'r']\n",
      "['s', 't']\n",
      "['u', 'v']\n",
      "['w', 'x']\n",
      "['y', 'z']\n"
     ]
    }
   ],
   "source": [
    "letter_pipe=IterableWrapper(letters).batch(2)\n",
    "for o in MinimumDataLoader(letter_pipe): print(o)"
   ]
  },
  {
   "cell_type": "code",
   "execution_count": 37,
   "id": "b7523157-ff02-4e3c-8879-e37b177b126b",
   "metadata": {},
   "outputs": [
    {
     "name": "stdout",
     "output_type": "stream",
     "text": [
      "['a', 'b']\n",
      "['a', 'b']\n",
      "['a', 'b']\n",
      "['c', 'd']\n",
      "['c', 'd']\n",
      "['c', 'd']\n",
      "['e', 'f']\n",
      "['e', 'f']\n",
      "['e', 'f']\n",
      "['g', 'h']\n",
      "['g', 'h']\n",
      "['g', 'h']\n",
      "['i', 'j']\n",
      "['i', 'j']\n",
      "['i', 'j']\n",
      "['k', 'l']\n",
      "['k', 'l']\n",
      "['k', 'l']\n",
      "['m', 'n']\n",
      "['m', 'n']\n",
      "['m', 'n']\n",
      "['o', 'p']\n",
      "['o', 'p']\n",
      "['o', 'p']\n",
      "['q', 'r']\n",
      "['q', 'r']\n",
      "['q', 'r']\n",
      "['s', 't']\n",
      "['s', 't']\n",
      "['s', 't']\n",
      "['u', 'v']\n",
      "['u', 'v']\n",
      "['u', 'v']\n",
      "['w', 'x']\n",
      "['w', 'x']\n",
      "['w', 'x']\n",
      "['y', 'z']\n",
      "['y', 'z']\n",
      "['y', 'z']\n"
     ]
    }
   ],
   "source": [
    "letter_pipe=IterableWrapper(letters).batch(2)\n",
    "for o in MinimumDataLoader(letter_pipe,n_workers=3): print(o)"
   ]
  },
  {
   "cell_type": "code",
   "execution_count": null,
   "id": "current-pilot",
   "metadata": {},
   "outputs": [],
   "source": [
    "# hide\n",
    "from fastcore.imports import in_colab\n",
    "\n",
    "# Since colab still requires tornado<6, we don't want to import nbdev if we don't have to\n",
    "if not in_colab():\n",
    "    from nbdev.export import *\n",
    "    from nbdev.export2html import *\n",
    "    from nbverbose.cli import *\n",
    "    make_readme()\n",
    "    notebook2script()\n",
    "    notebook2html()"
   ]
  },
  {
   "cell_type": "code",
   "execution_count": null,
   "id": "c05e5a77-8683-42a3-b941-8c8a1adf9b4e",
   "metadata": {},
   "outputs": [],
   "source": []
  }
 ],
 "metadata": {
  "kernelspec": {
   "display_name": "Python 3 (ipykernel)",
   "language": "python",
   "name": "python3"
  },
  "language_info": {
   "codemirror_mode": {
    "name": "ipython",
    "version": 3
   },
   "file_extension": ".py",
   "mimetype": "text/x-python",
   "name": "python",
   "nbconvert_exporter": "python",
   "pygments_lexer": "ipython3",
   "version": "3.7.11"
  }
 },
 "nbformat": 4,
 "nbformat_minor": 5
}
