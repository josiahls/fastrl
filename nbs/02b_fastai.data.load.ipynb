{
 "cells": [
  {
   "cell_type": "code",
   "execution_count": 1,
   "id": "durable-dialogue",
   "metadata": {},
   "outputs": [],
   "source": [
    "#hide\n",
    "#skip\n",
    "%config Completer.use_jedi = False\n",
    "%config IPCompleter.greedy=True\n",
    "# upgrade fastrl on colab\n",
    "! [ -e /content ] && pip install -Uqq fastrl['dev'] pyvirtualdisplay && \\\n",
    "                     apt-get install -y xvfb python-opengl > /dev/null 2>&1 \n",
    "# NOTE: IF YOU SEE VERSION ERRORS, IT IS SAFE TO IGNORE THEM. COLAB IS BEHIND IN SOME OF THE PACKAGE VERSIONS"
   ]
  },
  {
   "cell_type": "code",
   "execution_count": 2,
   "id": "viral-cambridge",
   "metadata": {},
   "outputs": [],
   "source": [
    "# hide\n",
    "from fastcore.imports import in_colab\n",
    "# Since colab still requires tornado<6, we don't want to import nbdev if we don't have to\n",
    "if not in_colab():\n",
    "    from nbverbose.showdoc import *\n",
    "    from nbdev.imports import *\n",
    "    if not os.environ.get(\"IN_TEST\", None):\n",
    "        assert IN_NOTEBOOK\n",
    "        assert not IN_COLAB\n",
    "        assert IN_IPYTHON\n",
    "else:\n",
    "    # Virutual display is needed for colab\n",
    "    from pyvirtualdisplay import Display\n",
    "    display = Display(visible=0, size=(400, 300))\n",
    "    display.start()"
   ]
  },
  {
   "cell_type": "code",
   "execution_count": 3,
   "id": "offshore-stuart",
   "metadata": {},
   "outputs": [],
   "source": [
    "# default_exp fastai.data.load"
   ]
  },
  {
   "cell_type": "code",
   "execution_count": 4,
   "id": "47ffe45c-976a-4014-8cdc-082576affc84",
   "metadata": {},
   "outputs": [
    {
     "name": "stdout",
     "output_type": "stream",
     "text": [
      "Defaulting to user installation because normal site-packages is not writeable\n",
      "Requirement already satisfied: fastdownload in /home/fastrl_user/.local/lib/python3.7/site-packages (0.0.5)\n",
      "Requirement already satisfied: fastprogress in /opt/conda/lib/python3.7/site-packages (from fastdownload) (1.0.2)\n",
      "Requirement already satisfied: fastcore>=1.3.26 in /home/fastrl_user/fastcore (from fastdownload) (1.3.28)\n",
      "Requirement already satisfied: pip in /opt/conda/lib/python3.7/site-packages (from fastcore>=1.3.26->fastdownload) (21.0.1)\n",
      "Requirement already satisfied: packaging in /opt/conda/lib/python3.7/site-packages (from fastcore>=1.3.26->fastdownload) (21.3)\n",
      "Requirement already satisfied: pyparsing!=3.0.5,>=2.0.2 in /opt/conda/lib/python3.7/site-packages (from packaging->fastcore>=1.3.26->fastdownload) (3.0.7)\n",
      "Note: you may need to restart the kernel to use updated packages.\n"
     ]
    }
   ],
   "source": [
    "pip install fastdownload"
   ]
  },
  {
   "cell_type": "code",
   "execution_count": 56,
   "id": "assisted-contract",
   "metadata": {},
   "outputs": [],
   "source": [
    "# export\n",
    "# Python native modules\n",
    "import os\n",
    "# Third party libs\n",
    "from fastcore.all import *\n",
    "from fastai.torch_basics import *\n",
    "# from torch.utils.data.dataloader import DataLoader as OrgDataLoader\n",
    "from torch.utils.data import dataloader\n",
    "# Local modules\n",
    "from fastrl.fastai.loop import *\n",
    "\n",
    "from fastai.data.load import DataLoader as FastaiDataLoader\n",
    "\n",
    "from torchdata.datapipes.iter import HttpReader"
   ]
  },
  {
   "cell_type": "markdown",
   "id": "lesser-innocent",
   "metadata": {},
   "source": [
    "# DataLoader helpers\n",
    "> An implimentation of the torch DataLoader that instead uses Loop as a base. It\n",
    "also uses experimental API from torch.data"
   ]
  },
  {
   "cell_type": "code",
   "execution_count": 6,
   "id": "7860b20f-8f9b-439b-a9fe-7c7b3398f505",
   "metadata": {},
   "outputs": [],
   "source": [
    "bs = 4\n",
    "letters = list(string.ascii_lowercase)"
   ]
  },
  {
   "cell_type": "code",
   "execution_count": 61,
   "id": "3afe4bf7-f02a-4e52-8b19-e4b5765a1dd1",
   "metadata": {},
   "outputs": [],
   "source": [
    "# export\n",
    "@events\n",
    "class DataLoader(dataloader.DataLoader,Loop):\n",
    "    def __init__(self,datapipe,*args,bs=1,n_workers=0,**kwargs):        \n",
    "        Loop.__init__(self)\n",
    "        \n",
    "        # connect_loops2loop((BatchLoop()),self)\n",
    "        \n",
    "        self.it=None\n",
    "        self.current_batch=None\n",
    "        self.iter_section=self.sections['iter']\n",
    "\n",
    "        dataloader.DataLoader.__init__(self,datapipe,*args,batch_size=bs,num_workers=n_workers,**kwargs)\n",
    "        \n",
    "    def on_iter(self):\n",
    "        self.it=dataloader.DataLoader.__iter__(self)\n",
    "        \n",
    "    def __iter__(self):\n",
    "        try:\n",
    "            self.iter_section['before_']()\n",
    "            self.iter_section['before_inner'].run()                             # fastrl.skip_traceback\n",
    "            self.iter_section['on_']()\n",
    "            yield from self.it\n",
    "            self.iter_section['after_']()\n",
    "            self.iter_section['after_inner'].run()                              # fastrl.skip_traceback\n",
    "        except Exception as ex:\n",
    "            try:\n",
    "                self.iter_section['failed_']()                                  # fastrl.skip_traceback\n",
    "                raise\n",
    "            finally:\n",
    "                self.iter_section['failed_inner'].run()                         # fastrl.skip_traceback\n",
    "        finally:\n",
    "            self.iter_section['finally_']()\n",
    "            self.iter_section['finally_inner'].run()                            # fastrl.skip_traceback\n",
    "\n",
    "# class LoopyIter():\n",
    "    \n",
    "    \n",
    "            \n",
    "@events\n",
    "class BatchLoop(Loop):\n",
    "    call_on=L(DataLoader.on_iter)\n",
    "    \n",
    "    def __init__(self):\n",
    "        \n",
    "        super().__init__(self)\n",
    "    \n",
    "    @property\n",
    "    def dl(self): return self.root_loop\n",
    "\n",
    "    def on_create_batches(self):pass\n",
    "        "
   ]
  },
  {
   "cell_type": "code",
   "execution_count": 62,
   "id": "7992ca40-c8fb-4002-80bc-bddf2066c614",
   "metadata": {},
   "outputs": [
    {
     "name": "stdout",
     "output_type": "stream",
     "text": [
      "['a', 'b']\n",
      "['c', 'd']\n",
      "['e', 'f']\n",
      "['g', 'h']\n",
      "['i', 'j']\n",
      "['k', 'l']\n",
      "['m', 'n']\n",
      "['o', 'p']\n",
      "['q', 'r']\n",
      "['s', 't']\n",
      "['u', 'v']\n",
      "['w', 'x']\n",
      "['y', 'z']\n"
     ]
    }
   ],
   "source": [
    "for o in DataLoader(letters,bs=2): print(o)"
   ]
  },
  {
   "cell_type": "code",
   "execution_count": 9,
   "id": "current-pilot",
   "metadata": {},
   "outputs": [
    {
     "name": "stdout",
     "output_type": "stream",
     "text": [
      "converting /home/fastrl_user/fastrl/nbs/index.ipynb to README.md\n",
      "Converted 00_core.ipynb.\n",
      "Converted 00_nbdev_extension.ipynb.\n",
      "Converted 02_fastai.exception_test.ipynb.\n",
      "Converted 02a_fastai.loop.ipynb.\n",
      "Converted 02b_fastai.data.load.ipynb.\n",
      "Converted 02b_fastai.data.load.old.ipynb.\n",
      "Converted 02g_fastai.data.block.old.ipynb.\n",
      "Converted 03_callback.core.ipynb.\n",
      "Converted 04_agent.ipynb.\n",
      "Converted 05_data.test_async.ipynb.\n",
      "Converted 05a_data.block.ipynb.\n",
      "Converted 05b_data.gym.ipynb.\n",
      "Converted 06a_memory.experience_replay.ipynb.\n",
      "Converted 06f_memory.tensorboard.ipynb.\n",
      "Converted 10a_agents.dqn.core.ipynb.\n",
      "Converted 10b_agents.dqn.targets.ipynb.\n",
      "Converted 10c_agents.dqn.double.ipynb.\n",
      "Converted 10d_agents.dqn.dueling.ipynb.\n",
      "Converted 10e_agents.dqn.categorical.ipynb.\n",
      "Converted 11a_agents.policy_gradient.ppo.ipynb.\n",
      "Converted 20_test_utils.ipynb.\n",
      "Converted index.ipynb.\n",
      "Converted nbdev_template.ipynb.\n",
      "converting: /home/fastrl_user/fastrl/nbs/02b_fastai.data.load.ipynb\n"
     ]
    }
   ],
   "source": [
    "# hide\n",
    "from fastcore.imports import in_colab\n",
    "\n",
    "# Since colab still requires tornado<6, we don't want to import nbdev if we don't have to\n",
    "if not in_colab():\n",
    "    from nbdev.export import *\n",
    "    from nbdev.export2html import *\n",
    "    from nbverbose.cli import *\n",
    "    make_readme()\n",
    "    notebook2script()\n",
    "    notebook2html()"
   ]
  },
  {
   "cell_type": "code",
   "execution_count": null,
   "id": "c05e5a77-8683-42a3-b941-8c8a1adf9b4e",
   "metadata": {},
   "outputs": [],
   "source": []
  }
 ],
 "metadata": {
  "kernelspec": {
   "display_name": "Python 3 (ipykernel)",
   "language": "python",
   "name": "python3"
  },
  "language_info": {
   "codemirror_mode": {
    "name": "ipython",
    "version": 3
   },
   "file_extension": ".py",
   "mimetype": "text/x-python",
   "name": "python",
   "nbconvert_exporter": "python",
   "pygments_lexer": "ipython3",
   "version": "3.7.11"
  }
 },
 "nbformat": 4,
 "nbformat_minor": 5
}
