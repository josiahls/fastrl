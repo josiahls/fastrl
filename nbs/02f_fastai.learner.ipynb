{
 "cells": [
  {
   "cell_type": "code",
   "execution_count": 1,
   "id": "durable-dialogue",
   "metadata": {},
   "outputs": [],
   "source": [
    "#hide\n",
    "#skip\n",
    "%config Completer.use_jedi = False\n",
    "%config IPCompleter.greedy=True\n",
    "# upgrade fastrl on colab\n",
    "! [ -e /content ] && pip install -Uqq fastrl['dev'] pyvirtualdisplay && \\\n",
    "                     apt-get install -y xvfb python-opengl > /dev/null 2>&1 \n",
    "# NOTE: IF YOU SEE VERSION ERRORS, IT IS SAFE TO IGNORE THEM. COLAB IS BEHIND IN SOME OF THE PACKAGE VERSIONS"
   ]
  },
  {
   "cell_type": "code",
   "execution_count": 2,
   "id": "viral-cambridge",
   "metadata": {},
   "outputs": [],
   "source": [
    "# hide\n",
    "from fastcore.imports import in_colab\n",
    "# Since colab still requires tornado<6, we don't want to import nbdev if we don't have to\n",
    "if not in_colab():\n",
    "    from nbdev.showdoc import *\n",
    "    from nbdev.imports import *\n",
    "    if not os.environ.get(\"IN_TEST\", None):\n",
    "        assert IN_NOTEBOOK\n",
    "        assert not IN_COLAB\n",
    "        assert IN_IPYTHON\n",
    "else:\n",
    "    # Virutual display is needed for colab\n",
    "    from pyvirtualdisplay import Display\n",
    "    display = Display(visible=0, size=(400, 300))\n",
    "    display.start()"
   ]
  },
  {
   "cell_type": "code",
   "execution_count": 3,
   "id": "offshore-stuart",
   "metadata": {},
   "outputs": [],
   "source": [
    "# default_exp fastai.learner"
   ]
  },
  {
   "cell_type": "code",
   "execution_count": 36,
   "id": "assisted-contract",
   "metadata": {},
   "outputs": [],
   "source": [
    "# export\n",
    "# Python native modules\n",
    "import os\n",
    "from typing import *\n",
    "# Third party libs\n",
    "from fastcore.all import *\n",
    "from torch.utils.data.dataloader_experimental import DataLoader2\n",
    "import torchdata.datapipes as dp\n",
    "from fastai.torch_basics import *\n",
    "from fastai.torch_core import *\n",
    "from torch.nn import *\n",
    "from torch.optim import *\n",
    "# Local modules\n",
    "from fastrl.fastai.data.block import *\n",
    "from fastrl.fastai.data.pipes.core import *"
   ]
  },
  {
   "cell_type": "markdown",
   "id": "lesser-innocent",
   "metadata": {},
   "source": [
    "# Learner\n",
    "> A revised fastai learner that uses DataPipe shimming"
   ]
  },
  {
   "cell_type": "code",
   "execution_count": null,
   "id": "bbef7605-ff0f-470f-a45e-7973ea4819b2",
   "metadata": {},
   "outputs": [],
   "source": [
    "# export\n",
    "class XYSplit(dp.iter.IterDataPipe):\n",
    "    def __init__(self,source_datapipe,learn):\n",
    "        self.source_datapipe = source_datapipe\n",
    "        self.learn = learn\n",
    "        \n",
    "    def __iter__(self):\n",
    "        for batch in self.source_datapipe:\n",
    "            self.learn.xb = batch\n",
    "            self.learn.preds = self.learn.model(*self.learn.xb)\n",
    "            yield batch"
   ]
  },
  {
   "cell_type": "code",
   "execution_count": 43,
   "id": "5fb3a0d9-e008-4f23-8f66-fcb46561df1f",
   "metadata": {},
   "outputs": [],
   "source": [
    "# export\n",
    "class ModelPredict(dp.iter.IterDataPipe):\n",
    "    def __init__(self,source_datapipe,learn):\n",
    "        self.source_datapipe = source_datapipe\n",
    "        self.learn = learn\n",
    "        \n",
    "    def __iter__(self):\n",
    "        for batch in self.source_datapipe:\n",
    "            self.learn.xb = batch\n",
    "            self.learn.preds = self.learn.model(*self.learn.xb)\n",
    "            yield batch"
   ]
  },
  {
   "cell_type": "code",
   "execution_count": null,
   "id": "767117c0-54d6-442f-8ec6-cd596438753d",
   "metadata": {},
   "outputs": [],
   "source": [
    "# export\n",
    "class LossCalc(dp.iter.IterDataPipe):\n",
    "    def __init__(self,source_datapipe,learn):\n",
    "        self.source_datapipe = source_datapipe\n",
    "        self.learn = learn\n",
    "        \n",
    "    def __iter__(self):\n",
    "        for batch in self.source_datapipe:\n",
    "            self.loss_grad = self.learn.loss_func(self.learn.pred, *self.yb)\n",
    "            self.loss = self.loss_grad.clone()\n",
    "            yield self.learn.preds"
   ]
  },
  {
   "cell_type": "code",
   "execution_count": null,
   "id": "fc3f825d-8aec-4248-8ad9-a04cfa1584e4",
   "metadata": {},
   "outputs": [],
   "source": [
    "# export\n",
    "def default_train_loop(\n",
    "    dls:List[DataLoader2],\n",
    "    cbs:Optional[List[Callback]]=None,\n",
    "):\n",
    "    train_valid = L(dls).map(dp.iter.IterableWrapper).add_cbs(cbs)\n",
    "    \n",
    "    return train_vals"
   ]
  },
  {
   "cell_type": "code",
   "execution_count": null,
   "id": "20731f25-2561-4f69-a1da-04175d83a745",
   "metadata": {},
   "outputs": [],
   "source": []
  },
  {
   "cell_type": "code",
   "execution_count": 39,
   "id": "32bda196-1df6-4c02-b683-d3b62bb35326",
   "metadata": {},
   "outputs": [],
   "source": [
    "# export\n",
    "def only_train_loop(\n",
    "    dls:List[DataLoader2],\n",
    "    cbs:Optional[List[Callback]]=None,\n",
    "):\n",
    "    train = dp.iter.IterableWrapper(dls).add_cbs(cbs)\n",
    "\n",
    "    train = \n",
    "    \n",
    "    return train"
   ]
  },
  {
   "cell_type": "code",
   "execution_count": 28,
   "id": "73cd1116-de6f-4434-ace4-2ab38ce49a9e",
   "metadata": {},
   "outputs": [],
   "source": [
    "# export\n",
    "class Learner(dp.iter.IterDataPipe):\n",
    "    def __init__(self,model,dls,opt,loss_func,train_loop=None):\n",
    "        store_attr()\n",
    "        self.train_loop = ifnone(train_loop,default_train_loop)\n",
    "        \n",
    "    def fit(self,epochs):\n",
    "        pass"
   ]
  },
  {
   "cell_type": "code",
   "execution_count": 22,
   "id": "e94004b7-2734-4d2e-b73a-2451632173e7",
   "metadata": {},
   "outputs": [],
   "source": [
    "# export\n",
    "class DQN(Module):\n",
    "    def __init__(self,state_sz:int,action_sz:int,hidden=512):\n",
    "        self.layers=Sequential(\n",
    "            Linear(state_sz,hidden),\n",
    "            ReLU(),\n",
    "            Linear(hidden,action_sz),\n",
    "        )\n",
    "    def forward(self,x): return self.layers(x)"
   ]
  },
  {
   "cell_type": "code",
   "execution_count": 23,
   "id": "6e9430b9-5020-4cec-844e-84fc823d8679",
   "metadata": {},
   "outputs": [],
   "source": [
    "block = DataBlock(\n",
    "    blocks = GymTransformBlock,\n",
    "    loader_loop=simple_iter_loader_loop\n",
    ")\n",
    "dls = block.dataloaders(['CartPole-v1']*4,n=20,n_workers=0)"
   ]
  },
  {
   "cell_type": "code",
   "execution_count": 26,
   "id": "5b8ba411-829a-48d0-817d-d7ddebeb910c",
   "metadata": {},
   "outputs": [],
   "source": [
    "model = DQN(4, 2)"
   ]
  },
  {
   "cell_type": "code",
   "execution_count": 40,
   "id": "b44c6eca-cc0c-4007-8086-69029f9de776",
   "metadata": {},
   "outputs": [],
   "source": [
    "learn = Learner(model, dls, opt=AdamW(model.parameters()), loss_func=MSELoss(),train_loop=only_train_loop)"
   ]
  },
  {
   "cell_type": "code",
   "execution_count": 19,
   "id": "c68ffd35-f98a-4d42-bca5-01c0d3913ffe",
   "metadata": {},
   "outputs": [],
   "source": [
    "# for o in dls[0]:\n",
    "#     print(o)\n",
    "#     break"
   ]
  },
  {
   "cell_type": "code",
   "execution_count": 12,
   "id": "current-pilot",
   "metadata": {},
   "outputs": [
    {
     "name": "stdout",
     "output_type": "stream",
     "text": [
      "converting /home/fastrl_user/fastrl/nbs/index.ipynb to README.md\n"
     ]
    }
   ],
   "source": [
    "# hide\n",
    "from fastcore.imports import in_colab\n",
    "\n",
    "# Since colab still requires tornado<6, we don't want to import nbdev if we don't have to\n",
    "if not in_colab():\n",
    "    from nbdev.export import *\n",
    "    from nbdev.export2html import *\n",
    "    from nbdev.cli import *\n",
    "    make_readme()\n",
    "    notebook2script(silent=True)"
   ]
  },
  {
   "cell_type": "code",
   "execution_count": null,
   "id": "ef420c4d-6e5b-4814-a338-4058f33a4488",
   "metadata": {},
   "outputs": [],
   "source": []
  }
 ],
 "metadata": {
  "kernelspec": {
   "display_name": "Python 3 (ipykernel)",
   "language": "python",
   "name": "python3"
  },
  "language_info": {
   "codemirror_mode": {
    "name": "ipython",
    "version": 3
   },
   "file_extension": ".py",
   "mimetype": "text/x-python",
   "name": "python",
   "nbconvert_exporter": "python",
   "pygments_lexer": "ipython3",
   "version": "3.7.11"
  }
 },
 "nbformat": 4,
 "nbformat_minor": 5
}
