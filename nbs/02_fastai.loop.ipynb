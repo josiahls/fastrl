{
 "cells": [
  {
   "cell_type": "code",
   "execution_count": 147,
   "id": "durable-dialogue",
   "metadata": {},
   "outputs": [],
   "source": [
    "#hide\n",
    "#skip\n",
    "%config Completer.use_jedi = False\n",
    "# upgrade fastrl on colab\n",
    "! [ -e /content ] && pip install -Uqq fastrl['dev'] pyvirtualdisplay && \\\n",
    "                     apt-get install -y xvfb python-opengl > /dev/null 2>&1 \n",
    "# NOTE: IF YOU SEE VERSION ERRORS, IT IS SAFE TO IGNORE THEM. COLAB IS BEHIND IN SOME OF THE PACKAGE VERSIONS"
   ]
  },
  {
   "cell_type": "code",
   "execution_count": 148,
   "id": "viral-cambridge",
   "metadata": {},
   "outputs": [],
   "source": [
    "# hide\n",
    "from fastcore.imports import in_colab\n",
    "# Since colab still requires tornado<6, we don't want to import nbdev if we don't have to\n",
    "if not in_colab():\n",
    "    from nbverbose.showdoc import *\n",
    "    from nbdev.imports import *\n",
    "    if not os.environ.get(\"IN_TEST\", None):\n",
    "        assert IN_NOTEBOOK\n",
    "        assert not IN_COLAB\n",
    "        assert IN_IPYTHON\n",
    "else:\n",
    "    # Virutual display is needed for colab\n",
    "    from pyvirtualdisplay import Display\n",
    "    display=Display(visible=0,size=(400,300))\n",
    "    display.start()"
   ]
  },
  {
   "cell_type": "code",
   "execution_count": 149,
   "id": "offshore-stuart",
   "metadata": {},
   "outputs": [],
   "source": [
    "# default_exp fastai.loop"
   ]
  },
  {
   "cell_type": "code",
   "execution_count": 150,
   "id": "assisted-contract",
   "metadata": {},
   "outputs": [],
   "source": [
    "# export\n",
    "# Python native modules\n",
    "import os,sys\n",
    "from copy import deepcopy,copy\n",
    "from typing import *\n",
    "import types\n",
    "import logging\n",
    "import inspect\n",
    "from itertools import chain\n",
    "from functools import partial\n",
    "# Third party libs\n",
    "from fastcore.all import *\n",
    "import numpy as np\n",
    "# Local modules\n",
    "\n",
    "_logger=logging.getLogger(__name__)"
   ]
  },
  {
   "cell_type": "markdown",
   "id": "lesser-innocent",
   "metadata": {},
   "source": [
    "# Loop\n",
    "> fastrl concept of generic loop objects. \n",
    "\n",
    "The goal for Loops is to make it easy to customize, and know how sections of code connects\n",
    "to other parts."
   ]
  },
  {
   "cell_type": "markdown",
   "id": "10116234-0510-4456-b50c-0f011c4e958b",
   "metadata": {},
   "source": [
    "### Why do we need this?\n",
    "We have identified at least 3 different kinds of loops already:\n",
    "\n",
    "    Learner (training)\n",
    "    Source/Gym (Data Access)\n",
    "    Agent (How an AI takes in data, generates actions)\n",
    "\n",
    "### What is a loop?\n",
    "\n",
    "    It should be capable of containing inner loops. \n",
    "    It should self-describe its structure. \n",
    "    It should be easy to know which parts of the loop are taking long/short amounts of time.\n",
    "    It should be flexible in state modification.\n",
    "    It should alternatively make it easy show what fields are being changed at what points in time."
   ]
  },
  {
   "cell_type": "markdown",
   "id": "1e736013-c76a-4d9e-bf5a-771983b7ce61",
   "metadata": {},
   "source": [
    "A Loop will act as a compiled structure. The actual result will be a compiled list of nodes that reference the original loop."
   ]
  },
  {
   "cell_type": "code",
   "execution_count": 168,
   "id": "ceeeb9dd-3d50-4e8f-87f1-437d9329845f",
   "metadata": {},
   "outputs": [],
   "source": [
    "# export\n",
    "EVENT_ORDER_MAPPING={}\n",
    "PREFIXES=['before_','on_','after_','failed_','finally_']\n",
    "\n",
    "def _is_event(o): return issubclass(o.__class__,Event)\n",
    "def _last_element(ls): return ls[-1]\n",
    "\n",
    "class EventException(Exception):pass\n",
    "\n",
    "class Event(object):\n",
    "    def __init__(self,\n",
    "                 function:Callable,\n",
    "                 loop=None,\n",
    "                ):\n",
    "        store_attr()\n",
    "        # We set the order over the entire Loop definition\n",
    "        full_name=function.__module__+'.'+function.__qualname__.split('.')[0]\n",
    "        if full_name not in EVENT_ORDER_MAPPING: self.order=1\n",
    "        else: self.order=EVENT_ORDER_MAPPING[full_name]\n",
    "        EVENT_ORDER_MAPPING[full_name]=self.order+1\n",
    "            \n",
    "        if self.name.startswith('_') or not any(self.name.startswith(pre) for pre in PREFIXES):\n",
    "            raise NodeException(f'{self.name} needs to start with any {PREFIXES}')\n",
    "        \n",
    "    def __call__(self,*args,**kwargs): \n",
    "        return self.function(self.loop,*args,**kwargs)\n",
    "    def __lt__(self,o:'Event'): return self.order<o.order\n",
    "    @property\n",
    "    def name(self): return self.function.__name__\n",
    "    @property\n",
    "    def prefix(self): return self.name.split('_')[0]+'_'\n",
    "    @property\n",
    "    def postfix(self): return '_'.join(self.name.split('_')[1:])\n",
    "\n",
    "event=Event"
   ]
  },
  {
   "cell_type": "code",
   "execution_count": 169,
   "id": "87340d0c-8d36-4b2d-b8f7-038ed68dfa2e",
   "metadata": {},
   "outputs": [],
   "source": [
    "def on_test():pass\n",
    "\n",
    "decorated_on_test=Event(on_test)"
   ]
  },
  {
   "cell_type": "code",
   "execution_count": 170,
   "id": "05ac9a9f-dfbb-48e0-a2c9-829b754a0f97",
   "metadata": {},
   "outputs": [],
   "source": [
    "class B():\n",
    "    def on_test_2_a(self):pass"
   ]
  },
  {
   "cell_type": "code",
   "execution_count": 178,
   "id": "67c6b64f-7efd-46a9-a320-467d0542f0d0",
   "metadata": {},
   "outputs": [],
   "source": [
    "\n",
    "class A(object):\n",
    "    @classmethod\n",
    "    def events(cls,instance=None,instantiate=False):\n",
    "        loop=instance if instance is not None else (cls() if instantiate else cls)\n",
    "        events=L(inspect.getmembers(loop)).map(_last_element).filter(_is_event)\n",
    "        for o in events: o.loop=loop\n",
    "        return events\n",
    "    \n",
    "\n",
    "    @event\n",
    "    def before_test_c(self):print('before_test_c')\n",
    "    @event\n",
    "    def on_test_c(self):print('on_test_c')\n",
    "    @event\n",
    "    def after_test_c(self):print('after_test_c')\n",
    "    @event\n",
    "    def after_test_c(self):print('after_test_c')\n",
    "    @event\n",
    "    def on_test_b(self):print('on_test_b')\n",
    "    @event\n",
    "    def on_test_a(self):print('on_test_a')"
   ]
  },
  {
   "cell_type": "code",
   "execution_count": 179,
   "id": "7d8f3c65-84ab-466f-bb12-e94274ade571",
   "metadata": {},
   "outputs": [
    {
     "name": "stdout",
     "output_type": "stream",
     "text": [
      "before_test_c\n"
     ]
    }
   ],
   "source": [
    "A().before_test_c()"
   ]
  },
  {
   "cell_type": "markdown",
   "id": "a349b304-f924-4c30-a2d8-1906c531c9e1",
   "metadata": {},
   "source": [
    "Notes:\n",
    "- Having a section object might make this overal loop management better\n",
    "    - remaining stuff, the Section object needs to handle lists and execute those also.\n",
    "    - with this in mind, using the section I think will make the looping run much cleaner."
   ]
  },
  {
   "cell_type": "code",
   "execution_count": 243,
   "id": "ac4a58c3-be96-49f7-9ace-969dad6c1d87",
   "metadata": {},
   "outputs": [],
   "source": [
    "# export\n",
    "def _grab_postfix(o:Event): return o.postfix\n",
    "def _grab_prefix(o:Event): return o.prefix\n",
    "def _default_raise(ex): raise \n",
    "\n",
    "class SectionException(Exception):pass\n",
    "def _event2dict(e:Union[Event,list,L],previous_event:dict):\n",
    "    if not isinstance(e,Event):\n",
    "        if not previous_event: \n",
    "            raise SectionException(f'{e} doesnt have an event tied to it.')\n",
    "        else:\n",
    "            return (previous_event['last_event']+'inner',e)\n",
    "    \n",
    "    previous_event['last_event']=e.prefix\n",
    "    return (e.prefix,e)\n",
    "\n",
    "\n",
    "\n",
    "class Section(object):\n",
    "    \n",
    "    def __init__(self,events):\n",
    "        default_events=L(((k,noop if k!='failed_' else _default_raise),(k+'inner',[])) for k in PREFIXES)\n",
    "        default_events=L(chain.from_iterable(default_events))\n",
    "        previous_event={}\n",
    "        self.events=merge(\n",
    "            dict(default_events),\n",
    "            dict(L(events).map(_event2dict,previous_event=previous_event))\n",
    "        )\n",
    "        \n",
    "    def __repr__(self): return str(self.__class__.__name__)+f' {len(self)} events'\n",
    "    def __len__(self): return len(self.events) \n",
    "\n",
    "    def run(self):\n",
    "        try:\n",
    "            self.events['before_']()\n",
    "            for o in self.events['before_inner']: o.run()\n",
    "            self.events['on_']()\n",
    "            for o in self.events['on_inner']: o.run()\n",
    "            self.events['after_']()\n",
    "            for o in self.events['after_inner']: o.run()\n",
    "        except Exception as ex:\n",
    "            try:     self.events['failed_']()\n",
    "            finally: \n",
    "                for o in self.events['failed_inner']: o.run()\n",
    "        finally:\n",
    "            self.events['finally_']()\n",
    "            for o in self.events['finally_inner']: o.run()\n",
    "    \n",
    "    @classmethod\n",
    "    def from_events(cls,events:List[Event]):\n",
    "        event_groups=groupby(events,_grab_postfix)\n",
    "        return [cls(o) for o in event_groups.values()]"
   ]
  },
  {
   "cell_type": "code",
   "execution_count": null,
   "id": "875dae69-4817-49e5-a497-a019cc882085",
   "metadata": {},
   "outputs": [],
   "source": []
  },
  {
   "cell_type": "code",
   "execution_count": 244,
   "id": "4871ab34-d4db-4abc-abc1-9eda81afe45f",
   "metadata": {},
   "outputs": [
    {
     "data": {
      "text/plain": [
       "{'before_': <__main__.Event at 0x7fda7eab0df0>,\n",
       " 'before_inner': [],\n",
       " 'on_': <__main__.Event at 0x7fda7ea3d7c0>,\n",
       " 'on_inner': [],\n",
       " 'after_': <__main__.Event at 0x7fda7ea3dca0>,\n",
       " 'after_inner': [],\n",
       " 'failed_': <function __main__._default_raise(ex)>,\n",
       " 'failed_inner': [],\n",
       " 'finally_': <function fastcore.imports.noop(x=None, *args, **kwargs)>,\n",
       " 'finally_inner': []}"
      ]
     },
     "execution_count": 244,
     "metadata": {},
     "output_type": "execute_result"
    }
   ],
   "source": [
    "Section.from_events(A.events())[0].events"
   ]
  },
  {
   "cell_type": "code",
   "execution_count": 245,
   "id": "d0fea848-a21e-462a-b413-18cec4ac217f",
   "metadata": {},
   "outputs": [
    {
     "name": "stdout",
     "output_type": "stream",
     "text": [
      "after_test_c\n"
     ]
    }
   ],
   "source": [
    "A.events(A())[0]()"
   ]
  },
  {
   "cell_type": "code",
   "execution_count": 246,
   "id": "fbe78187-40f8-46bd-a931-f05114cf986b",
   "metadata": {},
   "outputs": [
    {
     "name": "stdout",
     "output_type": "stream",
     "text": [
      "before_test_c\n",
      "on_test_c\n",
      "after_test_c\n",
      "on_test_a\n",
      "on_test_b\n"
     ]
    },
    {
     "data": {
      "text/plain": [
       "[None, None, None]"
      ]
     },
     "execution_count": 246,
     "metadata": {},
     "output_type": "execute_result"
    }
   ],
   "source": [
    "[o.run() for o in Section.from_events(A.events(A()))]"
   ]
  },
  {
   "cell_type": "code",
   "execution_count": null,
   "id": "b9c2ac50-d3a7-4743-894c-1f0f493ba926",
   "metadata": {},
   "outputs": [],
   "source": [
    "# export\n",
    "def _is_event(o): return issubclass(o.__class__,Event)\n",
    "def _last_element(ls): return ls[-1]\n",
    "\n",
    "class Loop(object):  \n",
    "    \n",
    "    @classmethod\n",
    "    def events(cls,instance=None,instantiate=False):\n",
    "        loop=instance if instance is not None else (cls() if instantiate else cls)\n",
    "        events=L(inspect.getmembers(loop)).map(_last_element).filter(_is_event)\n",
    "        for o in event: o.loop=loop\n",
    "        \n",
    "        \n",
    "        return events\n",
    "\n",
    "class Outer(Loop):\n",
    "\n",
    "    \n",
    "    @event\n",
    "    def before_step(self) :  print('before_step')\n",
    "    @event\n",
    "    def on_step(self)     :  print('on_step')\n",
    "    @event\n",
    "    def after_step(self)  :  print('after_step')\n",
    "    @event\n",
    "    def failed_step(self) :  print('failed_step')\n",
    "    @event\n",
    "    def finally_step(self):  print('finally_step')\n",
    " \n",
    "    @event\n",
    "    def before_jump(self) :  print('before_jump')\n",
    "    @event\n",
    "    def on_jump(self)     :  print('on_jump')\n",
    "    @event\n",
    "    def after_jump(self)  :  print('after_jump')\n",
    "    @event\n",
    "    def failed_jump(self) :  print('failed_jump')\n",
    "    @event\n",
    "    def finally_jump(self):  print('finally_jump')\n",
    "\n",
    "list(Outer.events())"
   ]
  },
  {
   "cell_type": "code",
   "execution_count": null,
   "id": "c8c1440f-da17-413a-bd0c-a09ee1bcd92e",
   "metadata": {},
   "outputs": [],
   "source": [
    "\n",
    "class Inner(Loop):\n",
    "    call_on=L(Outer.on_step,Outer.after_step,Outer.finally_jump)\n",
    "    \n",
    "    def run(self,nodes=None):\n",
    "        print(self.tab,'--- ENTERING INNER LOOP ---')\n",
    "        super().run(nodes)\n",
    "        print(self.tab,'--- EXITING INNER LOOP ---')\n",
    "    \n",
    "    @event\n",
    "    def before_iteration(self) : print(self.tab,'before_iteration')\n",
    "    @event\n",
    "    def on_iteration(self)     : print(self.tab,'on_iteration')\n",
    "    @event\n",
    "    def after_iteration(self)  : print(self.tab,'after_iteration')\n",
    "    @event\n",
    "    def failed_iteration(self) : print(self.tab,'failed_iteration')\n",
    "    @event\n",
    "    def finally_iteration(self): print(self.tab,'finally_iteration')\n",
    "    \n",
    "class FailingInner(Loop):\n",
    "    call_on=L(Inner.finally_iteration)\n",
    "    \n",
    "    def run(self,nodes=None):\n",
    "        print(self.tab,'--- ENTERING FailingInner LOOP ---')\n",
    "        super().run(nodes)\n",
    "        print(self.tab,'--- EXITING FailingInner LOOP ---')\n",
    "    \n",
    "    @event\n",
    "    def on_force_fail(self):                    \n",
    "        print(self.tab,'on_force_fail')\n",
    "        raise Exception\n",
    "        "
   ]
  },
  {
   "cell_type": "code",
   "execution_count": null,
   "id": "current-pilot",
   "metadata": {},
   "outputs": [],
   "source": [
    "# hide\n",
    "from fastcore.imports import in_colab\n",
    "\n",
    "# Since colab still requires tornado<6, we don't want to import nbdev if we don't have to\n",
    "if not in_colab():\n",
    "    from nbdev.export import *\n",
    "    from nbdev.export2html import *\n",
    "    from nbverbose.cli import *\n",
    "    make_readme()\n",
    "    notebook2script()\n",
    "    notebook2html()"
   ]
  },
  {
   "cell_type": "code",
   "execution_count": null,
   "id": "275fa8c3-fd00-4175-928a-8767dea82dca",
   "metadata": {},
   "outputs": [],
   "source": []
  }
 ],
 "metadata": {
  "kernelspec": {
   "display_name": "Python 3 (ipykernel)",
   "language": "python",
   "name": "python3"
  },
  "language_info": {
   "codemirror_mode": {
    "name": "ipython",
    "version": 3
   },
   "file_extension": ".py",
   "mimetype": "text/x-python",
   "name": "python",
   "nbconvert_exporter": "python",
   "pygments_lexer": "ipython3",
   "version": "3.8.8"
  }
 },
 "nbformat": 4,
 "nbformat_minor": 5
}
