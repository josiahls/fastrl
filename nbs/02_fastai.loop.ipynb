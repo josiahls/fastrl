{
 "cells": [
  {
   "cell_type": "code",
   "execution_count": 1,
   "id": "durable-dialogue",
   "metadata": {},
   "outputs": [],
   "source": [
    "#hide\n",
    "#skip\n",
    "%config Completer.use_jedi = False\n",
    "# upgrade fastrl on colab\n",
    "! [ -e /content ] && pip install -Uqq fastrl['dev'] pyvirtualdisplay && \\\n",
    "                     apt-get install -y xvfb python-opengl > /dev/null 2>&1 \n",
    "# NOTE: IF YOU SEE VERSION ERRORS, IT IS SAFE TO IGNORE THEM. COLAB IS BEHIND IN SOME OF THE PACKAGE VERSIONS"
   ]
  },
  {
   "cell_type": "code",
   "execution_count": 2,
   "id": "viral-cambridge",
   "metadata": {},
   "outputs": [],
   "source": [
    "# hide\n",
    "from fastcore.imports import in_colab\n",
    "# Since colab still requires tornado<6, we don't want to import nbdev if we don't have to\n",
    "if not in_colab():\n",
    "    from nbverbose.showdoc import *\n",
    "    from nbdev.imports import *\n",
    "    if not os.environ.get(\"IN_TEST\", None):\n",
    "        assert IN_NOTEBOOK\n",
    "        assert not IN_COLAB\n",
    "        assert IN_IPYTHON\n",
    "else:\n",
    "    # Virutual display is needed for colab\n",
    "    from pyvirtualdisplay import Display\n",
    "    display=Display(visible=0,size=(400,300))\n",
    "    display.start()"
   ]
  },
  {
   "cell_type": "code",
   "execution_count": 3,
   "id": "offshore-stuart",
   "metadata": {},
   "outputs": [],
   "source": [
    "# default_exp fastai.loop"
   ]
  },
  {
   "cell_type": "code",
   "execution_count": 4,
   "id": "assisted-contract",
   "metadata": {},
   "outputs": [],
   "source": [
    "# export\n",
    "# Python native modules\n",
    "import os\n",
    "from copy import deepcopy\n",
    "from typing import *\n",
    "import types\n",
    "import logging\n",
    "import inspect\n",
    "# Third party libs\n",
    "from fastcore.all import *\n",
    "import numpy as np\n",
    "# Local modules\n",
    "\n",
    "_logger=logging.getLogger(__name__)"
   ]
  },
  {
   "cell_type": "markdown",
   "id": "lesser-innocent",
   "metadata": {},
   "source": [
    "# Loop\n",
    "> fastrl concept of generic loop objects. \n",
    "\n",
    "The goal for Loops is to make it easy to customize, and know how sections of code connects\n",
    "to other parts."
   ]
  },
  {
   "cell_type": "markdown",
   "id": "10116234-0510-4456-b50c-0f011c4e958b",
   "metadata": {},
   "source": [
    "### Why do we need this?\n",
    "We have identified at least 3 different kinds of loops already:\n",
    "\n",
    "    Learner (training)\n",
    "    Source/Gym (Data Access)\n",
    "    Agent (How an AI takes in data, generates actions)\n",
    "\n",
    "### What is a loop?\n",
    "\n",
    "    It should be capable of containing inner loops. \n",
    "    It should be able to handle \"phases\" that might be similar to each other. \n",
    "    It should self-describe its structure. \n",
    "    It should be easy to know which parts of the loop are taking long/short amounts of time.\n",
    "    It should be flexible in state modification.\n",
    "    It should alternatively make it easy show what fields are being changed at what points in time."
   ]
  },
  {
   "cell_type": "markdown",
   "id": "1e736013-c76a-4d9e-bf5a-771983b7ce61",
   "metadata": {},
   "source": [
    "A Loop will act as a compiled structure. The actual result will be a compiled list of nodes that reference the original loop."
   ]
  },
  {
   "cell_type": "markdown",
   "id": "e17dd88a-a25d-48af-9114-294e1f974ed0",
   "metadata": {},
   "source": [
    "Loop is a compiled object that organizes the callbacks and loop calls into a possibly repeating sequence."
   ]
  },
  {
   "cell_type": "markdown",
   "id": "ca70862a-2bae-4e92-a74d-e114ada9a0c9",
   "metadata": {},
   "source": [
    "`Literal['order',int]` contains a int that should be more than or equal to 0. This determines when a \n",
    "function in the loops should be executed relative to other functions."
   ]
  },
  {
   "cell_type": "code",
   "execution_count": 5,
   "id": "5189dbac-394f-4488-bd7d-4b1937fe85a3",
   "metadata": {},
   "outputs": [],
   "source": [
    "# export\n",
    "PREFIXES=['before_','on_','after_','failed_','finally_']\n",
    "\n",
    "class NodeException(Exception):pass\n",
    "\n",
    "class Node(object):\n",
    "    def __init__(self,\n",
    "                 function:Callable,\n",
    "                 parent:Optional['Node']=None,\n",
    "                 children:Optional[List['Node']]=None):\n",
    "        store_attr()\n",
    "        self.order=None\n",
    "        for anno in L(anno_ret(self.function)):\n",
    "            if 'order' in anno.__args__: \n",
    "                self.order=anno.__args__[-1]\n",
    "        if self.order is None: \n",
    "            raise NodeException(f'Node: {self.name} needs Literal[\"order\",int]')\n",
    "        \n",
    "    def __str__(self):  return self.name\n",
    "    def __repr__(self): return str(self)\n",
    "    def __lt__(self,o:'Node'): return self.order<o.order\n",
    "    def __eq__(self,o:Union['Node',Callable]):\n",
    "        return getattr(o,'function',o).__qualname__==self.function.__qualname__\n",
    "\n",
    "    @property\n",
    "    def name(self): return self.function.__name__\n",
    "    @property\n",
    "    def prefix(self): return self.name.split('_')[0]\n",
    "    @property\n",
    "    def postfix(self): return '_'.join(self.name.split('_')[1:])\n",
    "\n",
    "    @classmethod\n",
    "    def isvalid(cls,name)->bool:\n",
    "        if isinstance(name,Callable): name=name.__name__\n",
    "        return not name.startswith('_') and \\\n",
    "          any(name.startswith(pre) for pre in PREFIXES)"
   ]
  },
  {
   "cell_type": "markdown",
   "id": "701d4acf-6030-4fde-bbb4-6aaca25b91cf",
   "metadata": {},
   "source": [
    "Nodes are self organizing parts of the Loop Graph.Their execution order is\n",
    "determined by their relationship in the graph."
   ]
  },
  {
   "cell_type": "code",
   "execution_count": 91,
   "id": "a0d3d14b-55e3-4fad-a18b-558ae7be35d0",
   "metadata": {},
   "outputs": [
    {
     "data": {
      "text/plain": [
       "[before_step,\n",
       " on_step,\n",
       " (#6) [before_iteration,on_iteration,after_iteration,failed_iteration,[on_force_fail],finally_iteration],\n",
       " after_step,\n",
       " failed_step,\n",
       " (#6) [before_iteration,on_iteration,after_iteration,failed_iteration,[on_force_fail],finally_iteration],\n",
       " finally_step,\n",
       " before_jump,\n",
       " on_jump,\n",
       " after_jump,\n",
       " failed_jump,\n",
       " finally_jump,\n",
       " (#6) [before_iteration,on_iteration,after_iteration,failed_iteration,[on_force_fail],finally_iteration]]"
      ]
     },
     "execution_count": 91,
     "metadata": {},
     "output_type": "execute_result"
    }
   ],
   "source": [
    "# export\n",
    "def call_on_node_idxs(nodes:List[Node],loop):\n",
    "    \"Given a loop, get the idx locations for them\"\n",
    "    idxs=nodes.argwhere(lambda o:not isinstance(o,(list,L)) and o in loop.call_on)\n",
    "    return np.array(idxs)+np.cumsum(L.range(1,len(idxs)+1))\n",
    "\n",
    "class Loop(object):\n",
    "    \n",
    "    @classmethod\n",
    "    def nodes(cls,loops,instantiate=False):\n",
    "        loops=L(loops)\n",
    "        loop=cls() if instantiate else cls\n",
    "        nodes=L(Node(node) for k,node in inspect.getmembers(loop) if Node.isvalid(k))\n",
    "        nodes=nodes.sorted()\n",
    "        for l in loops:\n",
    "            for idx in call_on_node_idxs(nodes,l):\n",
    "                nodes.insert(idx,l.nodes(loops,instantiate))\n",
    "        return nodes\n",
    "    \n",
    "    def run(self):\n",
    "\n",
    "class Outer(Loop):\n",
    "    def before_step(self) ->Literal['order',1]:  print('before_step')\n",
    "    def on_step(self)     ->Literal['order',2]:  print('on_step')\n",
    "    def after_step(self)  ->Literal['order',3]:  print('after_step')\n",
    "    def failed_step(self) ->Literal['order',4]:  print('failed_step')\n",
    "    def finally_step(self)->Literal['order',5]:  print('finally_step')\n",
    " \n",
    "    def before_jump(self) ->Literal['order',6]:  print('before_jump')\n",
    "    def on_jump(self)     ->Literal['order',7]:  print('on_jump')\n",
    "    def after_jump(self)  ->Literal['order',8]:  print('after_jump')\n",
    "    def failed_jump(self) ->Literal['order',9]:  print('failed_jump')\n",
    "    def finally_jump(self)->Literal['order',10]: print('finally_jump')\n",
    "\n",
    "class Inner(Loop):\n",
    "    call_on=L(Outer.on_step,Outer.after_step,Outer.finally_jump)\n",
    "    \n",
    "    def before_iteration(self) ->Literal['order',1]: print('before_iteration')\n",
    "    def on_iteration(self)     ->Literal['order',2]: print('on_iteration')\n",
    "    def after_iteration(self)  ->Literal['order',3]: print('after_iteration')\n",
    "    def failed_iteration(self) ->Literal['order',4]: print('failed_iteration')\n",
    "    def finally_iteration(self)->Literal['order',5]: print('finally_iteration')\n",
    "    \n",
    "class FailingInner(Loop):\n",
    "    call_on=L(Inner.failed_iteration)\n",
    "    \n",
    "    def on_force_fail(self) ->Literal['order',1]:                    \n",
    "        print('on_force_fail')\n",
    "        raise Exception\n",
    "        \n",
    "list(Outer.nodes([Inner,FailingInner],instantiate=True))"
   ]
  },
  {
   "cell_type": "code",
   "execution_count": 72,
   "id": "5b8b9c93-9cd1-4a83-91fc-ee4c63d76562",
   "metadata": {},
   "outputs": [],
   "source": [
    "nodes=Outer.nodes([Inner,FailingInner],instantiate=True)"
   ]
  },
  {
   "cell_type": "code",
   "execution_count": 73,
   "id": "f71115c1-dd43-495d-b06f-3bd481bf9867",
   "metadata": {},
   "outputs": [],
   "source": [
    "def node_run(n):\n",
    "    if isinstance(n,L): \n",
    "        for o in n: node_run(o)\n",
    "    else:\n",
    "        n.function()\n",
    "        "
   ]
  },
  {
   "cell_type": "code",
   "execution_count": 74,
   "id": "03839615-10f6-46f5-9e84-d168ed68060b",
   "metadata": {},
   "outputs": [
    {
     "name": "stdout",
     "output_type": "stream",
     "text": [
      "before_step\n",
      "on_step\n",
      "before_iteration\n",
      "on_iteration\n",
      "after_iteration\n",
      "failed_iteration\n",
      "on_force_fail\n"
     ]
    },
    {
     "ename": "Exception",
     "evalue": "",
     "output_type": "error",
     "traceback": [
      "\u001b[0;31m---------------------------------------------------------------------------\u001b[0m",
      "\u001b[0;31mException\u001b[0m                                 Traceback (most recent call last)",
      "\u001b[0;32m/tmp/ipykernel_108/2105234983.py\u001b[0m in \u001b[0;36m<module>\u001b[0;34m\u001b[0m\n\u001b[0;32m----> 1\u001b[0;31m \u001b[0mnode_run\u001b[0m\u001b[0;34m(\u001b[0m\u001b[0mnodes\u001b[0m\u001b[0;34m)\u001b[0m\u001b[0;34m\u001b[0m\u001b[0;34m\u001b[0m\u001b[0m\n\u001b[0m",
      "\u001b[0;32m/tmp/ipykernel_108/601060131.py\u001b[0m in \u001b[0;36mnode_run\u001b[0;34m(n)\u001b[0m\n\u001b[1;32m      1\u001b[0m \u001b[0;32mdef\u001b[0m \u001b[0mnode_run\u001b[0m\u001b[0;34m(\u001b[0m\u001b[0mn\u001b[0m\u001b[0;34m)\u001b[0m\u001b[0;34m:\u001b[0m\u001b[0;34m\u001b[0m\u001b[0;34m\u001b[0m\u001b[0m\n\u001b[1;32m      2\u001b[0m     \u001b[0;32mif\u001b[0m \u001b[0misinstance\u001b[0m\u001b[0;34m(\u001b[0m\u001b[0mn\u001b[0m\u001b[0;34m,\u001b[0m\u001b[0mL\u001b[0m\u001b[0;34m)\u001b[0m\u001b[0;34m:\u001b[0m\u001b[0;34m\u001b[0m\u001b[0;34m\u001b[0m\u001b[0m\n\u001b[0;32m----> 3\u001b[0;31m         \u001b[0;32mfor\u001b[0m \u001b[0mo\u001b[0m \u001b[0;32min\u001b[0m \u001b[0mn\u001b[0m\u001b[0;34m:\u001b[0m \u001b[0mnode_run\u001b[0m\u001b[0;34m(\u001b[0m\u001b[0mo\u001b[0m\u001b[0;34m)\u001b[0m\u001b[0;34m\u001b[0m\u001b[0;34m\u001b[0m\u001b[0m\n\u001b[0m\u001b[1;32m      4\u001b[0m     \u001b[0;32melse\u001b[0m\u001b[0;34m:\u001b[0m\u001b[0;34m\u001b[0m\u001b[0;34m\u001b[0m\u001b[0m\n\u001b[1;32m      5\u001b[0m         \u001b[0mn\u001b[0m\u001b[0;34m.\u001b[0m\u001b[0mfunction\u001b[0m\u001b[0;34m(\u001b[0m\u001b[0;34m)\u001b[0m\u001b[0;34m\u001b[0m\u001b[0;34m\u001b[0m\u001b[0m\n",
      "\u001b[0;32m/tmp/ipykernel_108/601060131.py\u001b[0m in \u001b[0;36mnode_run\u001b[0;34m(n)\u001b[0m\n\u001b[1;32m      1\u001b[0m \u001b[0;32mdef\u001b[0m \u001b[0mnode_run\u001b[0m\u001b[0;34m(\u001b[0m\u001b[0mn\u001b[0m\u001b[0;34m)\u001b[0m\u001b[0;34m:\u001b[0m\u001b[0;34m\u001b[0m\u001b[0;34m\u001b[0m\u001b[0m\n\u001b[1;32m      2\u001b[0m     \u001b[0;32mif\u001b[0m \u001b[0misinstance\u001b[0m\u001b[0;34m(\u001b[0m\u001b[0mn\u001b[0m\u001b[0;34m,\u001b[0m\u001b[0mL\u001b[0m\u001b[0;34m)\u001b[0m\u001b[0;34m:\u001b[0m\u001b[0;34m\u001b[0m\u001b[0;34m\u001b[0m\u001b[0m\n\u001b[0;32m----> 3\u001b[0;31m         \u001b[0;32mfor\u001b[0m \u001b[0mo\u001b[0m \u001b[0;32min\u001b[0m \u001b[0mn\u001b[0m\u001b[0;34m:\u001b[0m \u001b[0mnode_run\u001b[0m\u001b[0;34m(\u001b[0m\u001b[0mo\u001b[0m\u001b[0;34m)\u001b[0m\u001b[0;34m\u001b[0m\u001b[0;34m\u001b[0m\u001b[0m\n\u001b[0m\u001b[1;32m      4\u001b[0m     \u001b[0;32melse\u001b[0m\u001b[0;34m:\u001b[0m\u001b[0;34m\u001b[0m\u001b[0;34m\u001b[0m\u001b[0m\n\u001b[1;32m      5\u001b[0m         \u001b[0mn\u001b[0m\u001b[0;34m.\u001b[0m\u001b[0mfunction\u001b[0m\u001b[0;34m(\u001b[0m\u001b[0;34m)\u001b[0m\u001b[0;34m\u001b[0m\u001b[0;34m\u001b[0m\u001b[0m\n",
      "\u001b[0;32m/tmp/ipykernel_108/601060131.py\u001b[0m in \u001b[0;36mnode_run\u001b[0;34m(n)\u001b[0m\n\u001b[1;32m      1\u001b[0m \u001b[0;32mdef\u001b[0m \u001b[0mnode_run\u001b[0m\u001b[0;34m(\u001b[0m\u001b[0mn\u001b[0m\u001b[0;34m)\u001b[0m\u001b[0;34m:\u001b[0m\u001b[0;34m\u001b[0m\u001b[0;34m\u001b[0m\u001b[0m\n\u001b[1;32m      2\u001b[0m     \u001b[0;32mif\u001b[0m \u001b[0misinstance\u001b[0m\u001b[0;34m(\u001b[0m\u001b[0mn\u001b[0m\u001b[0;34m,\u001b[0m\u001b[0mL\u001b[0m\u001b[0;34m)\u001b[0m\u001b[0;34m:\u001b[0m\u001b[0;34m\u001b[0m\u001b[0;34m\u001b[0m\u001b[0m\n\u001b[0;32m----> 3\u001b[0;31m         \u001b[0;32mfor\u001b[0m \u001b[0mo\u001b[0m \u001b[0;32min\u001b[0m \u001b[0mn\u001b[0m\u001b[0;34m:\u001b[0m \u001b[0mnode_run\u001b[0m\u001b[0;34m(\u001b[0m\u001b[0mo\u001b[0m\u001b[0;34m)\u001b[0m\u001b[0;34m\u001b[0m\u001b[0;34m\u001b[0m\u001b[0m\n\u001b[0m\u001b[1;32m      4\u001b[0m     \u001b[0;32melse\u001b[0m\u001b[0;34m:\u001b[0m\u001b[0;34m\u001b[0m\u001b[0;34m\u001b[0m\u001b[0m\n\u001b[1;32m      5\u001b[0m         \u001b[0mn\u001b[0m\u001b[0;34m.\u001b[0m\u001b[0mfunction\u001b[0m\u001b[0;34m(\u001b[0m\u001b[0;34m)\u001b[0m\u001b[0;34m\u001b[0m\u001b[0;34m\u001b[0m\u001b[0m\n",
      "\u001b[0;32m/tmp/ipykernel_108/601060131.py\u001b[0m in \u001b[0;36mnode_run\u001b[0;34m(n)\u001b[0m\n\u001b[1;32m      3\u001b[0m         \u001b[0;32mfor\u001b[0m \u001b[0mo\u001b[0m \u001b[0;32min\u001b[0m \u001b[0mn\u001b[0m\u001b[0;34m:\u001b[0m \u001b[0mnode_run\u001b[0m\u001b[0;34m(\u001b[0m\u001b[0mo\u001b[0m\u001b[0;34m)\u001b[0m\u001b[0;34m\u001b[0m\u001b[0;34m\u001b[0m\u001b[0m\n\u001b[1;32m      4\u001b[0m     \u001b[0;32melse\u001b[0m\u001b[0;34m:\u001b[0m\u001b[0;34m\u001b[0m\u001b[0;34m\u001b[0m\u001b[0m\n\u001b[0;32m----> 5\u001b[0;31m         \u001b[0mn\u001b[0m\u001b[0;34m.\u001b[0m\u001b[0mfunction\u001b[0m\u001b[0;34m(\u001b[0m\u001b[0;34m)\u001b[0m\u001b[0;34m\u001b[0m\u001b[0;34m\u001b[0m\u001b[0m\n\u001b[0m\u001b[1;32m      6\u001b[0m \u001b[0;34m\u001b[0m\u001b[0m\n",
      "\u001b[0;32m/tmp/ipykernel_108/1634983601.py\u001b[0m in \u001b[0;36mon_force_fail\u001b[0;34m(self)\u001b[0m\n\u001b[1;32m     45\u001b[0m     \u001b[0;32mdef\u001b[0m \u001b[0mon_force_fail\u001b[0m\u001b[0;34m(\u001b[0m\u001b[0mself\u001b[0m\u001b[0;34m)\u001b[0m \u001b[0;34m->\u001b[0m\u001b[0mLiteral\u001b[0m\u001b[0;34m[\u001b[0m\u001b[0;34m'order'\u001b[0m\u001b[0;34m,\u001b[0m\u001b[0;36m1\u001b[0m\u001b[0;34m]\u001b[0m\u001b[0;34m:\u001b[0m\u001b[0;34m\u001b[0m\u001b[0;34m\u001b[0m\u001b[0m\n\u001b[1;32m     46\u001b[0m         \u001b[0mprint\u001b[0m\u001b[0;34m(\u001b[0m\u001b[0;34m'on_force_fail'\u001b[0m\u001b[0;34m)\u001b[0m\u001b[0;34m\u001b[0m\u001b[0;34m\u001b[0m\u001b[0m\n\u001b[0;32m---> 47\u001b[0;31m         \u001b[0;32mraise\u001b[0m \u001b[0mException\u001b[0m\u001b[0;34m\u001b[0m\u001b[0;34m\u001b[0m\u001b[0m\n\u001b[0m",
      "\u001b[0;31mException\u001b[0m: "
     ]
    }
   ],
   "source": [
    "node_run(nodes)"
   ]
  },
  {
   "cell_type": "code",
   "execution_count": 62,
   "id": "8f1a9ddf-9f62-4ec6-83aa-56c02acb9bfc",
   "metadata": {},
   "outputs": [
    {
     "data": {
      "text/plain": [
       "[before_step,\n",
       " on_step,\n",
       " (#6) [before_iteration,on_iteration,after_iteration,failed_iteration,[on_force_fail],finally_iteration],\n",
       " after_step,\n",
       " (#6) [before_iteration,on_iteration,after_iteration,failed_iteration,[on_force_fail],finally_iteration],\n",
       " failed_step,\n",
       " finally_step,\n",
       " before_jump,\n",
       " on_jump,\n",
       " after_jump,\n",
       " failed_jump,\n",
       " finally_jump,\n",
       " (#6) [before_iteration,on_iteration,after_iteration,failed_iteration,[on_force_fail],finally_iteration]]"
      ]
     },
     "execution_count": 62,
     "metadata": {},
     "output_type": "execute_result"
    }
   ],
   "source": [
    "list(nodes)"
   ]
  },
  {
   "cell_type": "code",
   "execution_count": 18,
   "id": "0886a91f-3a8e-42b0-9afe-4c1e355cdacb",
   "metadata": {},
   "outputs": [
    {
     "data": {
      "text/plain": [
       "False"
      ]
     },
     "execution_count": 18,
     "metadata": {},
     "output_type": "execute_result"
    }
   ],
   "source": [
    "Node(FailingInner.on_force_fail) in Inner.call_on"
   ]
  },
  {
   "cell_type": "code",
   "execution_count": 26,
   "id": "ba7612ff-67ed-423f-9e6b-91ac00d28be9",
   "metadata": {},
   "outputs": [
    {
     "data": {
      "text/plain": [
       "(#6) [before_iteration,on_iteration,after_iteration,failed_iteration,finally_iteration,[on_force_fail]]"
      ]
     },
     "execution_count": 26,
     "metadata": {},
     "output_type": "execute_result"
    }
   ],
   "source": [
    "n"
   ]
  },
  {
   "cell_type": "code",
   "execution_count": null,
   "id": "80444ba2-f4d5-4d2a-b074-60ae764ff340",
   "metadata": {},
   "outputs": [],
   "source": [
    "list(n)"
   ]
  },
  {
   "cell_type": "code",
   "execution_count": null,
   "id": "5891a454-7a6f-44bb-af25-6707c4470bcb",
   "metadata": {},
   "outputs": [],
   "source": [
    "out=inspect.signature(n[0].function)"
   ]
  },
  {
   "cell_type": "code",
   "execution_count": null,
   "id": "22dcba27-0fcd-489c-9145-ed1c8381f4f8",
   "metadata": {},
   "outputs": [],
   "source": [
    "out"
   ]
  },
  {
   "cell_type": "code",
   "execution_count": null,
   "id": "88a8213d-2d07-4c67-ad7f-6ebcb9442b0e",
   "metadata": {},
   "outputs": [],
   "source": [
    "n[0].function.__module__"
   ]
  },
  {
   "cell_type": "code",
   "execution_count": null,
   "id": "6d7fea0f-1457-4cde-ac5a-c0a90bdd3300",
   "metadata": {},
   "outputs": [],
   "source": [
    "test.__annotations__"
   ]
  },
  {
   "cell_type": "code",
   "execution_count": null,
   "id": "f54dc996-8760-40e9-a6bf-cba382affcc8",
   "metadata": {},
   "outputs": [],
   "source": [
    "Inner.call_on[0].__qualname__"
   ]
  },
  {
   "cell_type": "code",
   "execution_count": null,
   "id": "dd8f0526-e43d-4211-ae69-b933f20e2ef1",
   "metadata": {},
   "outputs": [],
   "source": [
    "n[0].function.__qualname__"
   ]
  },
  {
   "cell_type": "code",
   "execution_count": null,
   "id": "0174033b-937a-47b0-81d2-a48bca12aa78",
   "metadata": {},
   "outputs": [],
   "source": [
    "def run_or_return(f):\n",
    "    try: return f()\n",
    "    except: return f\n",
    "\n",
    "{v:run_or_return(getattr(n[0].function,v)) for v in n[0].function.__dir__() if v not in ['__globals__']}"
   ]
  },
  {
   "cell_type": "code",
   "execution_count": null,
   "id": "74029e7b-3c26-46ae-88d5-bc0bc36454e3",
   "metadata": {},
   "outputs": [],
   "source": [
    "n[0].function.__class__"
   ]
  },
  {
   "cell_type": "code",
   "execution_count": null,
   "id": "c13a1ac4-afcd-4c0d-bfbe-51cb6d5d83dc",
   "metadata": {},
   "outputs": [],
   "source": [
    "n[0].function.__class__"
   ]
  },
  {
   "cell_type": "code",
   "execution_count": null,
   "id": "773ec01c-4506-4e10-8797-62cb08c7457f",
   "metadata": {},
   "outputs": [],
   "source": [
    "n[0].function.__class__"
   ]
  },
  {
   "cell_type": "code",
   "execution_count": null,
   "id": "f3ef676f-29ec-4688-a6bd-84a8aed60ac7",
   "metadata": {},
   "outputs": [],
   "source": [
    "n[0].function.__class__"
   ]
  },
  {
   "cell_type": "code",
   "execution_count": null,
   "id": "a267385f-0599-469d-ba7e-41481489fdb4",
   "metadata": {},
   "outputs": [],
   "source": [
    "n[0].function.__class__"
   ]
  },
  {
   "cell_type": "code",
   "execution_count": null,
   "id": "210acd8d-5078-4f7d-8cc7-c5923cbc5fdd",
   "metadata": {},
   "outputs": [],
   "source": [
    "n[0].function.__class__"
   ]
  },
  {
   "cell_type": "code",
   "execution_count": null,
   "id": "e7f8ab6c-4289-4e4c-a78c-1db61e94e615",
   "metadata": {},
   "outputs": [],
   "source": [
    "n[0].function.__class__"
   ]
  },
  {
   "cell_type": "code",
   "execution_count": null,
   "id": "b42c23dd-9b9f-4724-bc44-b9425a977744",
   "metadata": {},
   "outputs": [],
   "source": [
    "n[0].function.__"
   ]
  },
  {
   "cell_type": "code",
   "execution_count": null,
   "id": "e3d07e32-c770-432a-9521-7d7f2c4e13b8",
   "metadata": {},
   "outputs": [],
   "source": [
    "n.function"
   ]
  },
  {
   "cell_type": "code",
   "execution_count": null,
   "id": "51b4ee96-dffe-4b8a-82ce-2724ef71357c",
   "metadata": {},
   "outputs": [],
   "source": [
    "class TestLoop:\n",
    "    def on_iteration(self)->Literal['order',3]:pass\n",
    "    def on_step(self)->Literal['order',3]:pass"
   ]
  },
  {
   "cell_type": "code",
   "execution_count": null,
   "id": "current-pilot",
   "metadata": {},
   "outputs": [],
   "source": [
    "# hide\n",
    "from fastcore.imports import in_colab\n",
    "\n",
    "# Since colab still requires tornado<6, we don't want to import nbdev if we don't have to\n",
    "if not in_colab():\n",
    "    from nbdev.export import *\n",
    "    from nbdev.export2html import *\n",
    "    from nbverbose.cli import *\n",
    "    make_readme()\n",
    "    notebook2script()\n",
    "    notebook2html()"
   ]
  },
  {
   "cell_type": "code",
   "execution_count": null,
   "id": "275fa8c3-fd00-4175-928a-8767dea82dca",
   "metadata": {},
   "outputs": [],
   "source": []
  }
 ],
 "metadata": {
  "kernelspec": {
   "display_name": "Python 3 (ipykernel)",
   "language": "python",
   "name": "python3"
  },
  "language_info": {
   "codemirror_mode": {
    "name": "ipython",
    "version": 3
   },
   "file_extension": ".py",
   "mimetype": "text/x-python",
   "name": "python",
   "nbconvert_exporter": "python",
   "pygments_lexer": "ipython3",
   "version": "3.8.8"
  }
 },
 "nbformat": 4,
 "nbformat_minor": 5
}
