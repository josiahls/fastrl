{
 "cells": [
  {
   "cell_type": "code",
   "execution_count": 1117,
   "id": "durable-dialogue",
   "metadata": {},
   "outputs": [],
   "source": [
    "#hide\n",
    "#skip\n",
    "%config Completer.use_jedi = False\n",
    "# upgrade fastrl on colab\n",
    "! [ -e /content ] && pip install -Uqq fastrl['dev'] pyvirtualdisplay && \\\n",
    "                     apt-get install -y xvfb python-opengl > /dev/null 2>&1 \n",
    "# NOTE: IF YOU SEE VERSION ERRORS, IT IS SAFE TO IGNORE THEM. COLAB IS BEHIND IN SOME OF THE PACKAGE VERSIONS"
   ]
  },
  {
   "cell_type": "code",
   "execution_count": 1118,
   "id": "viral-cambridge",
   "metadata": {},
   "outputs": [],
   "source": [
    "# hide\n",
    "from fastcore.imports import in_colab\n",
    "# Since colab still requires tornado<6, we don't want to import nbdev if we don't have to\n",
    "if not in_colab():\n",
    "    from nbverbose.showdoc import *\n",
    "    from nbdev.imports import *\n",
    "    if not os.environ.get(\"IN_TEST\", None):\n",
    "        assert IN_NOTEBOOK\n",
    "        assert not IN_COLAB\n",
    "        assert IN_IPYTHON\n",
    "else:\n",
    "    # Virutual display is needed for colab\n",
    "    from pyvirtualdisplay import Display\n",
    "    display=Display(visible=0,size=(400,300))\n",
    "    display.start()"
   ]
  },
  {
   "cell_type": "code",
   "execution_count": 1119,
   "id": "offshore-stuart",
   "metadata": {},
   "outputs": [],
   "source": [
    "# default_exp fastai.loop"
   ]
  },
  {
   "cell_type": "code",
   "execution_count": 1120,
   "id": "assisted-contract",
   "metadata": {},
   "outputs": [],
   "source": [
    "# export\n",
    "# Python native modules\n",
    "import os,sys\n",
    "from copy import deepcopy,copy\n",
    "from typing import *\n",
    "import types\n",
    "import logging\n",
    "import inspect\n",
    "from itertools import chain\n",
    "from functools import partial\n",
    "# Third party libs\n",
    "from fastcore.all import *\n",
    "import numpy as np\n",
    "# Local modules\n",
    "\n",
    "_logger=logging.getLogger(__name__)"
   ]
  },
  {
   "cell_type": "markdown",
   "id": "lesser-innocent",
   "metadata": {},
   "source": [
    "# Loop\n",
    "> fastrl concept of generic loop objects. \n",
    "\n",
    "The goal for Loops is to make it easy to customize, and know how sections of code connects\n",
    "to other parts."
   ]
  },
  {
   "cell_type": "markdown",
   "id": "10116234-0510-4456-b50c-0f011c4e958b",
   "metadata": {},
   "source": [
    "### Why do we need this?\n",
    "We have identified at least 3 different kinds of loops already:\n",
    "\n",
    "    Learner (training)\n",
    "    Source/Gym (Data Access)\n",
    "    Agent (How an AI takes in data, generates actions)\n",
    "\n",
    "### What is a loop?\n",
    "\n",
    "    It should be capable of containing inner loops. \n",
    "    It should self-describe its structure. \n",
    "    It should be easy to know which parts of the loop are taking long/short amounts of time.\n",
    "    It should be flexible in state modification.\n",
    "    It should alternatively make it easy show what fields are being changed at what points in time."
   ]
  },
  {
   "cell_type": "markdown",
   "id": "1e736013-c76a-4d9e-bf5a-771983b7ce61",
   "metadata": {},
   "source": [
    "A Loop will act as a compiled structure. The actual result will be a compiled list of nodes that reference the original loop."
   ]
  },
  {
   "cell_type": "code",
   "execution_count": 1121,
   "id": "ceeeb9dd-3d50-4e8f-87f1-437d9329845f",
   "metadata": {},
   "outputs": [],
   "source": [
    "# export\n",
    "EVENT_ORDER_MAPPING={}\n",
    "PREFIXES=['before_','on_','after_','failed_','finally_']\n",
    "\n",
    "def _is_event(o): return issubclass(o.__class__,Event)\n",
    "def _last_element(ls): return ls[-1]\n",
    "def _grab_full_name(o:'Event'): return o.full_name\n",
    "\n",
    "class EventException(Exception):pass\n",
    "\n",
    "class Event(object):\n",
    "    def __init__(self,\n",
    "                 function:Callable,\n",
    "                 loop=None,\n",
    "                ):\n",
    "        store_attr()\n",
    "        # We set the order over the entire Loop definition\n",
    "        self.outer_name=function.__module__+'.'+function.__qualname__.split('.')[0]\n",
    "        if self.outer_name not in EVENT_ORDER_MAPPING: self.order=1\n",
    "        else: self.order=EVENT_ORDER_MAPPING[self.outer_name]\n",
    "        EVENT_ORDER_MAPPING[self.outer_name]=self.order+1\n",
    "        \n",
    "        self.full_name=function.__module__+'.'+function.__qualname__\n",
    "            \n",
    "        if self.name.startswith('_') or not any(self.name.startswith(pre) for pre in PREFIXES):\n",
    "            raise EventException(f'{self.name} needs to start with any {PREFIXES}')\n",
    "            \n",
    "        self.cbs=L()\n",
    "        \n",
    "    def set_cbs(self,cbs=None):\n",
    "        if cbs is not None:\n",
    "            self.cbs=L((cb() if isinstance(cb, type) else cb) for cb in L(cbs) if hasattr(cb,self.name))\n",
    "            \n",
    "\n",
    "    def __call__(self,*args,**kwargs): \n",
    "        ret=self.function(self.loop,*args,**kwargs)\n",
    "        for cb in self.cbs: cb_ret=getattr(cb,self.name)()\n",
    "        return ret\n",
    "\n",
    "    def __lt__(self,o:'Event'): return self.order<o.order\n",
    "    @property\n",
    "    def name(self): return self.function.__name__\n",
    "    @property\n",
    "    def prefix(self): return self.name.split('_')[0]+'_'\n",
    "    @property\n",
    "    def postfix(self): return '_'.join(self.name.split('_')[1:])\n",
    "    def __repr__(self): return self.full_name\n",
    "    \n",
    "    def show(self,n_tab=0,n_cbs=False,include_cbs=False,**kwargs):\n",
    "        kwargs=merge(dict(n_cbs=n_cbs,include_cbs=include_cbs),kwargs)\n",
    "        tab='\\t' if self.loop is None or self.loop.root_loop is None else self.loop.root_loop.tab\n",
    "        event=n_tab*tab+str(self)\n",
    "        if self.cbs: event+=f' #{len(self.cbs)}'\n",
    "        if include_cbs: \n",
    "            for cb in self.cbs:\n",
    "                event+='\\n'+(n_tab*tab)+cb.show(n_tab=n_tab+1,**kwargs)\n",
    "        return event\n",
    "    \n",
    "def isrelevent(loop_or_cb,event:Event):\n",
    "    if isinstance(event,(list,L)): return False\n",
    "    return event.full_name in loop_or_cb.call_on.map(_grab_full_name)\n",
    "\n",
    "\n",
    "event=Event"
   ]
  },
  {
   "cell_type": "code",
   "execution_count": 1122,
   "id": "87340d0c-8d36-4b2d-b8f7-038ed68dfa2e",
   "metadata": {},
   "outputs": [],
   "source": [
    "def on_test():pass\n",
    "\n",
    "decorated_on_test=Event(on_test)"
   ]
  },
  {
   "cell_type": "code",
   "execution_count": 1123,
   "id": "cd9f9837-5aa7-466b-8bbf-8a083febed4f",
   "metadata": {},
   "outputs": [
    {
     "data": {
      "text/plain": [
       "'__main__.on_test'"
      ]
     },
     "execution_count": 1123,
     "metadata": {},
     "output_type": "execute_result"
    }
   ],
   "source": [
    "decorated_on_test.full_name"
   ]
  },
  {
   "cell_type": "code",
   "execution_count": 1124,
   "id": "05ac9a9f-dfbb-48e0-a2c9-829b754a0f97",
   "metadata": {},
   "outputs": [],
   "source": [
    "class B():\n",
    "    @event\n",
    "    def on_test_2_a(self):pass"
   ]
  },
  {
   "cell_type": "code",
   "execution_count": 1125,
   "id": "81e3f65e-5230-4a33-8def-89d9cff43c22",
   "metadata": {},
   "outputs": [
    {
     "data": {
      "text/plain": [
       "'__main__.B.on_test_2_a'"
      ]
     },
     "execution_count": 1125,
     "metadata": {},
     "output_type": "execute_result"
    }
   ],
   "source": [
    "B.on_test_2_a.full_name"
   ]
  },
  {
   "cell_type": "code",
   "execution_count": 1126,
   "id": "67c6b64f-7efd-46a9-a320-467d0542f0d0",
   "metadata": {},
   "outputs": [],
   "source": [
    "\n",
    "class A(object):\n",
    "    parent_loop,root_loop=None,None\n",
    "    \n",
    "    @classmethod\n",
    "    def events(cls,instance=None,instantiate=False):\n",
    "        loop=instance if instance is not None else (cls() if instantiate else cls)\n",
    "        events=L(inspect.getmembers(loop)).map(_last_element).filter(_is_event)\n",
    "        for o in events: o.loop=loop\n",
    "        return events\n",
    "    \n",
    "    @event\n",
    "    def before_test_c(self):print('before_test_c')\n",
    "    @event\n",
    "    def on_test_c(self):print('on_test_c')\n",
    "    @event\n",
    "    def after_test_c(self):print('after_test_c')\n",
    "    @event\n",
    "    def after_test_c(self):print('after_test_c')\n",
    "    @event\n",
    "    def on_test_b(self):print('on_test_b')\n",
    "    @event\n",
    "    def on_test_a(self):print('on_test_a')"
   ]
  },
  {
   "cell_type": "code",
   "execution_count": 1127,
   "id": "7d8f3c65-84ab-466f-bb12-e94274ade571",
   "metadata": {},
   "outputs": [
    {
     "name": "stdout",
     "output_type": "stream",
     "text": [
      "before_test_c\n"
     ]
    }
   ],
   "source": [
    "A().before_test_c()"
   ]
  },
  {
   "cell_type": "markdown",
   "id": "a349b304-f924-4c30-a2d8-1906c531c9e1",
   "metadata": {},
   "source": [
    "Notes:\n",
    "- Having a section object might make this overal loop management better\n",
    "    - remaining stuff, the Section object needs to handle lists and execute those also.\n",
    "    - with this in mind, using the section I think will make the looping run much cleaner."
   ]
  },
  {
   "cell_type": "code",
   "execution_count": 1128,
   "id": "ac4a58c3-be96-49f7-9ace-969dad6c1d87",
   "metadata": {},
   "outputs": [],
   "source": [
    "# export\n",
    "def _grab_postfix(e:Union[Event,list],previous_event:dict=None): \n",
    "    if not isinstance(e,Event):\n",
    "        if not previous_event: \n",
    "            raise SectionException(f'{e} doesnt have an event tied to it.')\n",
    "        else:\n",
    "            return previous_event['last_event']\n",
    "    if previous_event is not None:\n",
    "        previous_event['last_event']=e.postfix\n",
    "    return e.postfix\n",
    "\n",
    "def _grab_prefix(o:Event): return o.prefix\n",
    "def _default_raise(): raise \n",
    "def _event2dict(e:Union[Event,list,L],previous_event:dict):\n",
    "    if not isinstance(e,Event):\n",
    "        if not previous_event: \n",
    "            raise SectionException(f'{e} doesnt have an event tied to it.')\n",
    "        else:\n",
    "            return (previous_event['last_event']+'inner',e)\n",
    "    \n",
    "    previous_event['last_event']=e.prefix\n",
    "    return (e.prefix,e)\n",
    "\n",
    "def _noop_event_pair(k):\n",
    "    return ((k,noop if k!='failed_' else _default_raise),(k+'inner',[]))\n",
    "\n",
    "\n",
    "class SectionException(Exception):pass\n",
    "\n",
    "class Section(object):\n",
    "    \n",
    "    def __init__(self,events,loop=None):\n",
    "        self.loop=loop\n",
    "        default_events=L(PREFIXES).map(_noop_event_pair)\n",
    "        default_events=L(chain.from_iterable(default_events))\n",
    "        previous_event={}\n",
    "        events=[o for o in events if not isinstance(o,(list,L)) or len(o)!=0]\n",
    "        self.events=merge(\n",
    "            dict(default_events),\n",
    "            dict(L(events).map(_event2dict,previous_event=previous_event))\n",
    "        )\n",
    "        print(self,self.loop,self.events)\n",
    "        \n",
    "    def __repr__(self): return str(self.__class__.__name__)\n",
    "    def __len__(self): return len(L(self.events.values()).filter(_is_event)) \n",
    "\n",
    "    @delegates(Event.show)\n",
    "    def show(self,n_tab=0,n_events=False,include_events=False,include_defaults=False,**kwargs):\n",
    "        kwargs=merge(dict(n_events=n_events,\n",
    "                          include_events=include_events,\n",
    "                          include_defaults=include_defaults),kwargs)\n",
    "        tab='\\t' if self.loop is None else self.loop.root_loop.tab\n",
    "        section=n_tab*tab+str(self)\n",
    "        if n_events:section+=f' {len(self)} events'\n",
    "        if include_events:\n",
    "            for event in self.events.values(): \n",
    "                if isinstance(event,(list,L)):\n",
    "                    for o in event:\n",
    "                        section+='\\n'+(n_tab*tab)+o.show(n_tab=n_tab+1,**kwargs)\n",
    "                elif event in [_default_raise,noop] and include_defaults:\n",
    "                    section+='\\n'+((n_tab+1)*tab)+str(event)\n",
    "                elif event not in [_default_raise,noop]:\n",
    "                    section+='\\n'+(n_tab*tab)+event.show(n_tab=n_tab+1,**kwargs)\n",
    "        return section\n",
    "\n",
    "    def run(self):\n",
    "        print(self,self.loop,self.events)\n",
    "        try:\n",
    "            self.events['before_']()\n",
    "            for o in self.events['before_inner']: o.run()\n",
    "            self.events['on_']()\n",
    "            for o in self.events['on_inner']: o.run()\n",
    "            \n",
    "            self.events['after_']()\n",
    "            for o in self.events['after_inner']: o.run()\n",
    "        except Exception as ex:\n",
    "            try:     \n",
    "                self.events['failed_']()\n",
    "                raise\n",
    "            finally: \n",
    "                for o in self.events['failed_inner']: o.run()\n",
    "        finally:\n",
    "            self.events['finally_']()\n",
    "            for o in self.events['finally_inner']: \n",
    "                print(o)\n",
    "                o.run()\n",
    "    \n",
    "    @classmethod\n",
    "    def from_events(cls,events:List[Event],parent_loop=None):\n",
    "        previous_event={}\n",
    "        event_groups=groupby(events,partial(_grab_postfix,previous_event=previous_event))\n",
    "        return [cls(o,parent_loop) for o in event_groups.values()]"
   ]
  },
  {
   "cell_type": "code",
   "execution_count": 1129,
   "id": "4871ab34-d4db-4abc-abc1-9eda81afe45f",
   "metadata": {},
   "outputs": [
    {
     "name": "stdout",
     "output_type": "stream",
     "text": [
      "Section None {'before_': __main__.A.before_test_c, 'before_inner': [], 'on_': __main__.A.on_test_c, 'on_inner': [], 'after_': __main__.A.after_test_c, 'after_inner': [], 'failed_': <function _default_raise at 0x7f6f8b87aee0>, 'failed_inner': [], 'finally_': <function noop at 0x7f6fc43f25e0>, 'finally_inner': []}\n",
      "Section None {'before_': <function noop at 0x7f6fc43f25e0>, 'before_inner': [], 'on_': __main__.A.on_test_a, 'on_inner': [], 'after_': <function noop at 0x7f6fc43f25e0>, 'after_inner': [], 'failed_': <function _default_raise at 0x7f6f8b87aee0>, 'failed_inner': [], 'finally_': <function noop at 0x7f6fc43f25e0>, 'finally_inner': []}\n",
      "Section None {'before_': <function noop at 0x7f6fc43f25e0>, 'before_inner': [], 'on_': __main__.A.on_test_b, 'on_inner': [], 'after_': <function noop at 0x7f6fc43f25e0>, 'after_inner': [], 'failed_': <function _default_raise at 0x7f6f8b87aee0>, 'failed_inner': [], 'finally_': <function noop at 0x7f6fc43f25e0>, 'finally_inner': []}\n"
     ]
    },
    {
     "data": {
      "text/plain": [
       "{'before_': __main__.A.before_test_c,\n",
       " 'before_inner': [],\n",
       " 'on_': __main__.A.on_test_c,\n",
       " 'on_inner': [],\n",
       " 'after_': __main__.A.after_test_c,\n",
       " 'after_inner': [],\n",
       " 'failed_': <function __main__._default_raise()>,\n",
       " 'failed_inner': [],\n",
       " 'finally_': <function fastcore.imports.noop(x=None, *args, **kwargs)>,\n",
       " 'finally_inner': []}"
      ]
     },
     "execution_count": 1129,
     "metadata": {},
     "output_type": "execute_result"
    }
   ],
   "source": [
    "Section.from_events(A.events())[0].events"
   ]
  },
  {
   "cell_type": "code",
   "execution_count": 1130,
   "id": "d0fea848-a21e-462a-b413-18cec4ac217f",
   "metadata": {},
   "outputs": [
    {
     "name": "stdout",
     "output_type": "stream",
     "text": [
      "after_test_c\n"
     ]
    }
   ],
   "source": [
    "A.events(A())[0]()"
   ]
  },
  {
   "cell_type": "code",
   "execution_count": 1131,
   "id": "4594cb75-b70a-4eba-8da9-2e9a501554d3",
   "metadata": {},
   "outputs": [
    {
     "name": "stdout",
     "output_type": "stream",
     "text": [
      "Section None {'before_': __main__.A.before_test_c, 'before_inner': [], 'on_': __main__.A.on_test_c, 'on_inner': [], 'after_': __main__.A.after_test_c, 'after_inner': [], 'failed_': <function _default_raise at 0x7f6f8b87aee0>, 'failed_inner': [], 'finally_': <function noop at 0x7f6fc43f25e0>, 'finally_inner': []}\n",
      "Section None {'before_': <function noop at 0x7f6fc43f25e0>, 'before_inner': [], 'on_': __main__.A.on_test_a, 'on_inner': [], 'after_': <function noop at 0x7f6fc43f25e0>, 'after_inner': [], 'failed_': <function _default_raise at 0x7f6f8b87aee0>, 'failed_inner': [], 'finally_': <function noop at 0x7f6fc43f25e0>, 'finally_inner': []}\n",
      "Section None {'before_': <function noop at 0x7f6fc43f25e0>, 'before_inner': [], 'on_': __main__.A.on_test_b, 'on_inner': [], 'after_': <function noop at 0x7f6fc43f25e0>, 'after_inner': [], 'failed_': <function _default_raise at 0x7f6f8b87aee0>, 'failed_inner': [], 'finally_': <function noop at 0x7f6fc43f25e0>, 'finally_inner': []}\n"
     ]
    },
    {
     "data": {
      "text/plain": [
       "['Section 3 events\\n\\t__main__.A.before_test_c\\n\\t__main__.A.on_test_c\\n\\t__main__.A.after_test_c',\n",
       " 'Section 1 events\\n\\t__main__.A.on_test_a',\n",
       " 'Section 1 events\\n\\t__main__.A.on_test_b']"
      ]
     },
     "execution_count": 1131,
     "metadata": {},
     "output_type": "execute_result"
    }
   ],
   "source": [
    "[o.show( \n",
    "    n_events=      True,\n",
    "    include_events=True,\n",
    "    n_cbs=         True,\n",
    "    include_cbs=   True) for o in Section.from_events(A.events(A()))]"
   ]
  },
  {
   "cell_type": "code",
   "execution_count": 1132,
   "id": "ee3a074a-cc64-469a-aab0-5999c9de4dc2",
   "metadata": {},
   "outputs": [
    {
     "name": "stdout",
     "output_type": "stream",
     "text": [
      "Section None {'before_': __main__.A.before_test_c, 'before_inner': [], 'on_': __main__.A.on_test_c, 'on_inner': [], 'after_': __main__.A.after_test_c, 'after_inner': [], 'failed_': <function _default_raise at 0x7f6f8b87aee0>, 'failed_inner': [], 'finally_': <function noop at 0x7f6fc43f25e0>, 'finally_inner': []}\n",
      "Section None {'before_': <function noop at 0x7f6fc43f25e0>, 'before_inner': [], 'on_': __main__.A.on_test_a, 'on_inner': [], 'after_': <function noop at 0x7f6fc43f25e0>, 'after_inner': [], 'failed_': <function _default_raise at 0x7f6f8b87aee0>, 'failed_inner': [], 'finally_': <function noop at 0x7f6fc43f25e0>, 'finally_inner': []}\n",
      "Section None {'before_': <function noop at 0x7f6fc43f25e0>, 'before_inner': [], 'on_': __main__.A.on_test_b, 'on_inner': [], 'after_': <function noop at 0x7f6fc43f25e0>, 'after_inner': [], 'failed_': <function _default_raise at 0x7f6f8b87aee0>, 'failed_inner': [], 'finally_': <function noop at 0x7f6fc43f25e0>, 'finally_inner': []}\n",
      "Section 3 events\n",
      "\t__main__.A.before_test_c\n",
      "\t__main__.A.on_test_c\n",
      "\t__main__.A.after_test_c\n",
      "Section 1 events\n",
      "\t__main__.A.on_test_a\n",
      "Section 1 events\n",
      "\t__main__.A.on_test_b\n"
     ]
    },
    {
     "data": {
      "text/plain": [
       "[None, None, None]"
      ]
     },
     "execution_count": 1132,
     "metadata": {},
     "output_type": "execute_result"
    }
   ],
   "source": [
    "[print(o.show( \n",
    "    n_events=      True,\n",
    "    include_events=True,\n",
    "    n_cbs=         True,\n",
    "    include_cbs=   True)) for o in Section.from_events(A.events(A()))]"
   ]
  },
  {
   "cell_type": "code",
   "execution_count": 1133,
   "id": "fbe78187-40f8-46bd-a931-f05114cf986b",
   "metadata": {},
   "outputs": [
    {
     "name": "stdout",
     "output_type": "stream",
     "text": [
      "Section None {'before_': __main__.A.before_test_c, 'before_inner': [], 'on_': __main__.A.on_test_c, 'on_inner': [], 'after_': __main__.A.after_test_c, 'after_inner': [], 'failed_': <function _default_raise at 0x7f6f8b87aee0>, 'failed_inner': [], 'finally_': <function noop at 0x7f6fc43f25e0>, 'finally_inner': []}\n",
      "Section None {'before_': <function noop at 0x7f6fc43f25e0>, 'before_inner': [], 'on_': __main__.A.on_test_a, 'on_inner': [], 'after_': <function noop at 0x7f6fc43f25e0>, 'after_inner': [], 'failed_': <function _default_raise at 0x7f6f8b87aee0>, 'failed_inner': [], 'finally_': <function noop at 0x7f6fc43f25e0>, 'finally_inner': []}\n",
      "Section None {'before_': <function noop at 0x7f6fc43f25e0>, 'before_inner': [], 'on_': __main__.A.on_test_b, 'on_inner': [], 'after_': <function noop at 0x7f6fc43f25e0>, 'after_inner': [], 'failed_': <function _default_raise at 0x7f6f8b87aee0>, 'failed_inner': [], 'finally_': <function noop at 0x7f6fc43f25e0>, 'finally_inner': []}\n",
      "Section None {'before_': __main__.A.before_test_c, 'before_inner': [], 'on_': __main__.A.on_test_c, 'on_inner': [], 'after_': __main__.A.after_test_c, 'after_inner': [], 'failed_': <function _default_raise at 0x7f6f8b87aee0>, 'failed_inner': [], 'finally_': <function noop at 0x7f6fc43f25e0>, 'finally_inner': []}\n",
      "before_test_c\n",
      "on_test_c\n",
      "after_test_c\n",
      "Section None {'before_': <function noop at 0x7f6fc43f25e0>, 'before_inner': [], 'on_': __main__.A.on_test_a, 'on_inner': [], 'after_': <function noop at 0x7f6fc43f25e0>, 'after_inner': [], 'failed_': <function _default_raise at 0x7f6f8b87aee0>, 'failed_inner': [], 'finally_': <function noop at 0x7f6fc43f25e0>, 'finally_inner': []}\n",
      "on_test_a\n",
      "Section None {'before_': <function noop at 0x7f6fc43f25e0>, 'before_inner': [], 'on_': __main__.A.on_test_b, 'on_inner': [], 'after_': <function noop at 0x7f6fc43f25e0>, 'after_inner': [], 'failed_': <function _default_raise at 0x7f6f8b87aee0>, 'failed_inner': [], 'finally_': <function noop at 0x7f6fc43f25e0>, 'finally_inner': []}\n",
      "on_test_b\n"
     ]
    },
    {
     "data": {
      "text/plain": [
       "[None, None, None]"
      ]
     },
     "execution_count": 1133,
     "metadata": {},
     "output_type": "execute_result"
    }
   ],
   "source": [
    "[o.run() for o in Section.from_events(A.events(A()))]"
   ]
  },
  {
   "cell_type": "code",
   "execution_count": 1134,
   "id": "b9c2ac50-d3a7-4743-894c-1f0f493ba926",
   "metadata": {
    "tags": []
   },
   "outputs": [
    {
     "data": {
      "text/plain": [
       "[__main__.Outer.before_step,\n",
       " (#0) [],\n",
       " __main__.Outer.on_step,\n",
       " (#0) [],\n",
       " __main__.Outer.after_step,\n",
       " (#0) [],\n",
       " __main__.Outer.failed_step,\n",
       " (#0) [],\n",
       " __main__.Outer.finally_step,\n",
       " (#0) [],\n",
       " __main__.Outer.before_jump,\n",
       " (#0) [],\n",
       " __main__.Outer.on_jump,\n",
       " (#0) [],\n",
       " __main__.Outer.after_jump,\n",
       " (#0) [],\n",
       " __main__.Outer.failed_jump,\n",
       " (#0) [],\n",
       " __main__.Outer.finally_jump,\n",
       " (#0) []]"
      ]
     },
     "execution_count": 1134,
     "metadata": {},
     "output_type": "execute_result"
    }
   ],
   "source": [
    "# export\n",
    "def _is_event(o): return issubclass(o.__class__,Event)\n",
    "def _last_element(ls): return ls[-1]\n",
    "def _loop2sections(loop,loops,cbs): return loop.sections(loops=loops,cbs=cbs)\n",
    "def _loop_with_sections(loop,loops,cbs,parent_loop): \n",
    "    loop.parent_loop=parent_loop\n",
    "    return loop.from_sections(loops=loops,cbs=cbs)\n",
    "\n",
    "class class_or_instancemethod(classmethod):\n",
    "    \"From: https://stackoverflow.com/questions/28237955/same-name-for-classmethod-and-instancemethod\"\n",
    "    def __get__(self, instance, type_):\n",
    "        descr_get = super().__get__ if instance is None else self.__func__.__get__\n",
    "        return descr_get(instance, type_)\n",
    "\n",
    "class Loop(object):  \n",
    "    call_on,parent_loop,tab=L(),None,'  '\n",
    "    \n",
    "    @class_or_instancemethod\n",
    "    def events(cls_or_self,loops=None,cbs=None):\n",
    "        events=L(inspect.getmembers(cls_or_self)).map(_last_element)\\\n",
    "                                                 .filter(_is_event)\\\n",
    "                                                 .sorted()\n",
    "        for o in events: \n",
    "            o.loop=cls_or_self\n",
    "            for cb in L(cbs): cb.loop=cls_or_self\n",
    "            o.set_cbs(cbs)\n",
    "        \n",
    "        events=chain.from_iterable([\n",
    "            (o,L(ifnone(loops,L()).filter(isrelevent,event=o)\\\n",
    "                                .map(_loop_with_sections,\n",
    "                                     loops=loops,cbs=cbs,\n",
    "                                     parent_loop=cls_or_self))) \n",
    "            for o in events\n",
    "        ])\n",
    "        return events\n",
    "\n",
    "    @class_or_instancemethod\n",
    "    def get_sections(cls_or_self,loops=None,cbs=None):\n",
    "        events=cls_or_self.events(loops=L(loops),cbs=L(cbs))\n",
    "        sections=Section.from_events(events,cls_or_self)\n",
    "        return sections\n",
    "    \n",
    "    @classmethod\n",
    "    def from_sections(cls,**kwargs):\n",
    "        loop=cls()\n",
    "        loop.sections=loop.get_sections(**kwargs)\n",
    "        return loop\n",
    "    \n",
    "    def run(self,loops=None,cbs=None):\n",
    "        sections=self.get_sections(loops=loops,cbs=cbs)\n",
    "        for section in sections:\n",
    "            section.run()\n",
    "            \n",
    "    def __len__(self): return len(self.sections)\n",
    "    def __repr__(self): return str(self.__class__.__name__)\n",
    "    @property\n",
    "    def root_loop(self):\n",
    "        return self if self.parent_loop is None else self.parent_loop\n",
    "\n",
    "    @delegates(Section.show)\n",
    "    def show(self,n_tab=0,n_sections=False,include_sections=False,**kwargs):\n",
    "        tab=self.root_loop.tab\n",
    "        kwargs=merge(dict(n_sections=n_sections,include_sections=include_sections),kwargs)\n",
    "        loop=n_tab*tab+str(self)\n",
    "        if n_sections:loop+=f' {len(self)} sections'\n",
    "        if include_sections:\n",
    "            for section in self.sections: \n",
    "                loop+='\\n'+(n_tab*tab)\n",
    "                loop+=section.show(n_tab=n_tab+1,**kwargs)\n",
    "        return loop\n",
    "\n",
    "class Outer(Loop):\n",
    "    @event\n",
    "    def before_step(self) :  print('before_step')\n",
    "    @event\n",
    "    def on_step(self)     :  print('on_step')\n",
    "    @event\n",
    "    def after_step(self)  :  print('after_step')\n",
    "    @event\n",
    "    def failed_step(self) :  print('failed_step')\n",
    "    @event\n",
    "    def finally_step(self):  print('finally_step')\n",
    " \n",
    "    @event\n",
    "    def before_jump(self) :  print('before_jump')\n",
    "    @event\n",
    "    def on_jump(self)     :  print('on_jump')\n",
    "    @event\n",
    "    def after_jump(self)  :  print('after_jump')\n",
    "    @event\n",
    "    def failed_jump(self) :  print('failed_jump')\n",
    "    @event\n",
    "    def finally_jump(self):  print('finally_jump')\n",
    "\n",
    "list(Outer.events())"
   ]
  },
  {
   "cell_type": "code",
   "execution_count": 1135,
   "id": "49d17443-2fba-41ff-a1f4-e455ddca1302",
   "metadata": {},
   "outputs": [
    {
     "name": "stdout",
     "output_type": "stream",
     "text": [
      "Section Outer {'before_': __main__.Outer.before_step, 'before_inner': [], 'on_': __main__.Outer.on_step, 'on_inner': [], 'after_': __main__.Outer.after_step, 'after_inner': [], 'failed_': __main__.Outer.failed_step, 'failed_inner': [], 'finally_': __main__.Outer.finally_step, 'finally_inner': []}\n",
      "Section Outer {'before_': __main__.Outer.before_jump, 'before_inner': [], 'on_': __main__.Outer.on_jump, 'on_inner': [], 'after_': __main__.Outer.after_jump, 'after_inner': [], 'failed_': __main__.Outer.failed_jump, 'failed_inner': [], 'finally_': __main__.Outer.finally_jump, 'finally_inner': []}\n"
     ]
    },
    {
     "data": {
      "text/plain": [
       "[Section, Section]"
      ]
     },
     "execution_count": 1135,
     "metadata": {},
     "output_type": "execute_result"
    }
   ],
   "source": [
    "Outer().get_sections()"
   ]
  },
  {
   "cell_type": "code",
   "execution_count": 1136,
   "id": "728e0622-f9ec-42d5-baee-f63550eb3532",
   "metadata": {},
   "outputs": [
    {
     "name": "stdout",
     "output_type": "stream",
     "text": [
      "Section Outer {'before_': __main__.Outer.before_step, 'before_inner': [], 'on_': __main__.Outer.on_step, 'on_inner': [], 'after_': __main__.Outer.after_step, 'after_inner': [], 'failed_': __main__.Outer.failed_step, 'failed_inner': [], 'finally_': __main__.Outer.finally_step, 'finally_inner': []}\n",
      "Section Outer {'before_': __main__.Outer.before_jump, 'before_inner': [], 'on_': __main__.Outer.on_jump, 'on_inner': [], 'after_': __main__.Outer.after_jump, 'after_inner': [], 'failed_': __main__.Outer.failed_jump, 'failed_inner': [], 'finally_': __main__.Outer.finally_jump, 'finally_inner': []}\n",
      "Section Outer {'before_': __main__.Outer.before_step, 'before_inner': [], 'on_': __main__.Outer.on_step, 'on_inner': [], 'after_': __main__.Outer.after_step, 'after_inner': [], 'failed_': __main__.Outer.failed_step, 'failed_inner': [], 'finally_': __main__.Outer.finally_step, 'finally_inner': []}\n",
      "before_step\n",
      "on_step\n",
      "after_step\n",
      "finally_step\n",
      "Section Outer {'before_': __main__.Outer.before_jump, 'before_inner': [], 'on_': __main__.Outer.on_jump, 'on_inner': [], 'after_': __main__.Outer.after_jump, 'after_inner': [], 'failed_': __main__.Outer.failed_jump, 'failed_inner': [], 'finally_': __main__.Outer.finally_jump, 'finally_inner': []}\n",
      "before_jump\n",
      "on_jump\n",
      "after_jump\n",
      "finally_jump\n"
     ]
    }
   ],
   "source": [
    "Outer().run()"
   ]
  },
  {
   "cell_type": "code",
   "execution_count": 1137,
   "id": "c8c1440f-da17-413a-bd0c-a09ee1bcd92e",
   "metadata": {},
   "outputs": [],
   "source": [
    "\n",
    "class Inner(Loop):\n",
    "    call_on=L(Outer.on_step)#,Outer.after_step,Outer.finally_jump)\n",
    "    \n",
    "    @event\n",
    "    def before_iteration(self) : print('before_iteration')\n",
    "    @event\n",
    "    def on_iteration(self)     : print('on_iteration')\n",
    "    @event\n",
    "    def after_iteration(self)  : print('after_iteration')\n",
    "    @event\n",
    "    def failed_iteration(self) : print('failed_iteration')\n",
    "    @event\n",
    "    def finally_iteration(self): print('finally_iteration')\n",
    "    def run(self,loops=None,cbs=None):\n",
    "        sections=self.get_sections(loops=loops,cbs=cbs)\n",
    "        for section in sections:\n",
    "            section.run()\n",
    "    \n",
    "class FailingInner(Loop):\n",
    "    call_on=L(Inner.finally_iteration)\n",
    "    \n",
    "    @event\n",
    "    def on_force_fail(self):                    \n",
    "        print('on_force_fail')\n",
    "        raise Exception\n",
    "        "
   ]
  },
  {
   "cell_type": "code",
   "execution_count": 1138,
   "id": "3a145add-8812-49a7-8d0c-237a719f79b9",
   "metadata": {},
   "outputs": [
    {
     "data": {
      "text/plain": [
       "<bound method Loop.events of Outer>"
      ]
     },
     "execution_count": 1138,
     "metadata": {},
     "output_type": "execute_result"
    }
   ],
   "source": [
    "Outer().events"
   ]
  },
  {
   "cell_type": "code",
   "execution_count": 1139,
   "id": "47748a62-ec37-47a5-9edb-fecbddf89c95",
   "metadata": {},
   "outputs": [
    {
     "name": "stdout",
     "output_type": "stream",
     "text": [
      "Section FailingInner {'before_': <function noop at 0x7f6fc43f25e0>, 'before_inner': [], 'on_': __main__.FailingInner.on_force_fail, 'on_inner': [], 'after_': <function noop at 0x7f6fc43f25e0>, 'after_inner': [], 'failed_': <function _default_raise at 0x7f6f8b87aee0>, 'failed_inner': [], 'finally_': <function noop at 0x7f6fc43f25e0>, 'finally_inner': []}\n",
      "Section Inner {'before_': __main__.Inner.before_iteration, 'before_inner': [], 'on_': __main__.Inner.on_iteration, 'on_inner': [], 'after_': __main__.Inner.after_iteration, 'after_inner': [], 'failed_': __main__.Inner.failed_iteration, 'failed_inner': [], 'finally_': __main__.Inner.finally_iteration, 'finally_inner': [FailingInner]}\n",
      "Section Outer {'before_': __main__.Outer.before_step, 'before_inner': [], 'on_': __main__.Outer.on_step, 'on_inner': [Inner], 'after_': __main__.Outer.after_step, 'after_inner': [], 'failed_': __main__.Outer.failed_step, 'failed_inner': [], 'finally_': __main__.Outer.finally_step, 'finally_inner': []}\n",
      "Section Outer {'before_': __main__.Outer.before_jump, 'before_inner': [], 'on_': __main__.Outer.on_jump, 'on_inner': [], 'after_': __main__.Outer.after_jump, 'after_inner': [], 'failed_': __main__.Outer.failed_jump, 'failed_inner': [], 'finally_': __main__.Outer.finally_jump, 'finally_inner': []}\n"
     ]
    },
    {
     "data": {
      "text/plain": [
       "[Section, Section]"
      ]
     },
     "execution_count": 1139,
     "metadata": {},
     "output_type": "execute_result"
    }
   ],
   "source": [
    "Outer().get_sections(L(Inner(),FailingInner()))"
   ]
  },
  {
   "cell_type": "code",
   "execution_count": 1140,
   "id": "990ee0c9-7366-4b0c-b4b8-98a4853e0af9",
   "metadata": {},
   "outputs": [],
   "source": [
    "class CallbackException(Exception):pass\n",
    "\n",
    "class Callback(object):\n",
    "    call_on,loop=None,None\n",
    "    \n",
    "    def show(self,n_tab=0,**kwargs):\n",
    "        tab=self.loop.root_loop.tab if self.loop is not None else '\\t'\n",
    "        return (tab*n_tab)+str(self)"
   ]
  },
  {
   "cell_type": "code",
   "execution_count": 1141,
   "id": "4b3709a4-46ff-4450-a0f3-ac2da7ca4a64",
   "metadata": {},
   "outputs": [
    {
     "name": "stdout",
     "output_type": "stream",
     "text": [
      "Section FailingInner {'before_': <function noop at 0x7f6fc43f25e0>, 'before_inner': [], 'on_': __main__.FailingInner.on_force_fail, 'on_inner': [], 'after_': <function noop at 0x7f6fc43f25e0>, 'after_inner': [], 'failed_': <function _default_raise at 0x7f6f8b87aee0>, 'failed_inner': [], 'finally_': <function noop at 0x7f6fc43f25e0>, 'finally_inner': []}\n",
      "Section Inner {'before_': __main__.Inner.before_iteration, 'before_inner': [], 'on_': __main__.Inner.on_iteration, 'on_inner': [], 'after_': __main__.Inner.after_iteration, 'after_inner': [], 'failed_': __main__.Inner.failed_iteration, 'failed_inner': [], 'finally_': __main__.Inner.finally_iteration, 'finally_inner': [FailingInner]}\n",
      "Section Outer {'before_': __main__.Outer.before_step, 'before_inner': [], 'on_': __main__.Outer.on_step, 'on_inner': [Inner], 'after_': __main__.Outer.after_step, 'after_inner': [], 'failed_': __main__.Outer.failed_step, 'failed_inner': [], 'finally_': __main__.Outer.finally_step, 'finally_inner': []}\n",
      "Section Outer {'before_': __main__.Outer.before_jump, 'before_inner': [], 'on_': __main__.Outer.on_jump, 'on_inner': [], 'after_': __main__.Outer.after_jump, 'after_inner': [], 'failed_': __main__.Outer.failed_jump, 'failed_inner': [], 'finally_': __main__.Outer.finally_jump, 'finally_inner': []}\n"
     ]
    },
    {
     "data": {
      "text/plain": [
       "[Section, Section]"
      ]
     },
     "execution_count": 1141,
     "metadata": {},
     "output_type": "execute_result"
    }
   ],
   "source": [
    "class OuterCallback(Callback):\n",
    "    call_on=L(Outer.on_step)\n",
    "    \n",
    "    def before_iteration(self)->dict(this=list,that=str):\n",
    "        print('   OuterCallback called lol')\n",
    "\n",
    "Outer().get_sections(L(Inner(),FailingInner()),OuterCallback)"
   ]
  },
  {
   "cell_type": "code",
   "execution_count": 1142,
   "id": "0d0cdf26-f0b3-44f1-91ca-c1668b9d244c",
   "metadata": {},
   "outputs": [
    {
     "name": "stdout",
     "output_type": "stream",
     "text": [
      "Section FailingInner {'before_': <function noop at 0x7f6fc43f25e0>, 'before_inner': [], 'on_': __main__.FailingInner.on_force_fail, 'on_inner': [], 'after_': <function noop at 0x7f6fc43f25e0>, 'after_inner': [], 'failed_': <function _default_raise at 0x7f6f8b87aee0>, 'failed_inner': [], 'finally_': <function noop at 0x7f6fc43f25e0>, 'finally_inner': []}\n",
      "Section Inner {'before_': __main__.Inner.before_iteration, 'before_inner': [], 'on_': __main__.Inner.on_iteration, 'on_inner': [], 'after_': __main__.Inner.after_iteration, 'after_inner': [], 'failed_': __main__.Inner.failed_iteration, 'failed_inner': [], 'finally_': __main__.Inner.finally_iteration, 'finally_inner': [FailingInner]}\n",
      "Section Outer {'before_': __main__.Outer.before_step, 'before_inner': [], 'on_': __main__.Outer.on_step, 'on_inner': [Inner], 'after_': __main__.Outer.after_step, 'after_inner': [], 'failed_': __main__.Outer.failed_step, 'failed_inner': [], 'finally_': __main__.Outer.finally_step, 'finally_inner': []}\n",
      "Section Outer {'before_': __main__.Outer.before_jump, 'before_inner': [], 'on_': __main__.Outer.on_jump, 'on_inner': [], 'after_': __main__.Outer.after_jump, 'after_inner': [], 'failed_': __main__.Outer.failed_jump, 'failed_inner': [], 'finally_': __main__.Outer.finally_jump, 'finally_inner': []}\n",
      "Outer 2 sections\n",
      "  Section 5 events\n",
      "      __main__.Outer.before_step\n",
      "      __main__.Outer.on_step\n",
      "      Inner 1 sections\n",
      "          Section 5 events\n",
      "              __main__.Inner.before_iteration #1\n",
      "                  <__main__.OuterCallback object at 0x7f6f8c55d310>\n",
      "              __main__.Inner.on_iteration\n",
      "              __main__.Inner.after_iteration\n",
      "              __main__.Inner.failed_iteration\n",
      "              __main__.Inner.finally_iteration\n",
      "              FailingInner 1 sections\n",
      "                  Section 1 events\n",
      "            <function noop at 0x7f6fc43f25e0>\n",
      "                      __main__.FailingInner.on_force_fail\n",
      "            <function noop at 0x7f6fc43f25e0>\n",
      "            <function _default_raise at 0x7f6f8b87aee0>\n",
      "            <function noop at 0x7f6fc43f25e0>\n",
      "      __main__.Outer.after_step\n",
      "      __main__.Outer.failed_step\n",
      "      __main__.Outer.finally_step\n",
      "  Section 5 events\n",
      "      __main__.Outer.before_jump\n",
      "      __main__.Outer.on_jump\n",
      "      __main__.Outer.after_jump\n",
      "      __main__.Outer.failed_jump\n",
      "      __main__.Outer.finally_jump\n"
     ]
    }
   ],
   "source": [
    "print(Outer.from_sections(\n",
    "    loops=L(Inner(),FailingInner()),\n",
    "    cbs=OuterCallback\n",
    "                   \n",
    "                   \n",
    ").show(\n",
    "    n_sections=      True,\n",
    "    include_sections=True,\n",
    "    n_events=        True,\n",
    "    include_events=  True,\n",
    "    n_cbs=           True,\n",
    "    include_cbs=     True,\n",
    "    include_defaults=True\n",
    "))"
   ]
  },
  {
   "cell_type": "code",
   "execution_count": 1144,
   "id": "c5969ea3-7033-4b31-8303-020814a808c4",
   "metadata": {},
   "outputs": [],
   "source": [
    "\n",
    "# Outer().get_sections(L(Inner(),FailingInner()),OuterCallback)[0].events['on_inner'][0].sections[0].run()"
   ]
  },
  {
   "cell_type": "code",
   "execution_count": 1145,
   "id": "2845f6aa-580a-4682-9814-99e1ee8b9d6e",
   "metadata": {},
   "outputs": [
    {
     "name": "stdout",
     "output_type": "stream",
     "text": [
      "Section FailingInner {'before_': <function noop at 0x7f6fc43f25e0>, 'before_inner': [], 'on_': __main__.FailingInner.on_force_fail, 'on_inner': [], 'after_': <function noop at 0x7f6fc43f25e0>, 'after_inner': [], 'failed_': <function _default_raise at 0x7f6f8b87aee0>, 'failed_inner': [], 'finally_': <function noop at 0x7f6fc43f25e0>, 'finally_inner': []}\n",
      "Section Inner {'before_': __main__.Inner.before_iteration, 'before_inner': [], 'on_': __main__.Inner.on_iteration, 'on_inner': [], 'after_': __main__.Inner.after_iteration, 'after_inner': [], 'failed_': __main__.Inner.failed_iteration, 'failed_inner': [], 'finally_': __main__.Inner.finally_iteration, 'finally_inner': [FailingInner]}\n",
      "Section Outer {'before_': __main__.Outer.before_step, 'before_inner': [], 'on_': __main__.Outer.on_step, 'on_inner': [Inner], 'after_': __main__.Outer.after_step, 'after_inner': [], 'failed_': __main__.Outer.failed_step, 'failed_inner': [], 'finally_': __main__.Outer.finally_step, 'finally_inner': []}\n",
      "Section Outer {'before_': __main__.Outer.before_jump, 'before_inner': [], 'on_': __main__.Outer.on_jump, 'on_inner': [], 'after_': __main__.Outer.after_jump, 'after_inner': [], 'failed_': __main__.Outer.failed_jump, 'failed_inner': [], 'finally_': __main__.Outer.finally_jump, 'finally_inner': []}\n",
      "Section Outer {'before_': __main__.Outer.before_step, 'before_inner': [], 'on_': __main__.Outer.on_step, 'on_inner': [Inner], 'after_': __main__.Outer.after_step, 'after_inner': [], 'failed_': __main__.Outer.failed_step, 'failed_inner': [], 'finally_': __main__.Outer.finally_step, 'finally_inner': []}\n",
      "before_step\n",
      "on_step\n",
      "Section Inner {'before_': __main__.Inner.before_iteration, 'before_inner': [], 'on_': __main__.Inner.on_iteration, 'on_inner': [], 'after_': __main__.Inner.after_iteration, 'after_inner': [], 'failed_': __main__.Inner.failed_iteration, 'failed_inner': [], 'finally_': __main__.Inner.finally_iteration, 'finally_inner': []}\n",
      "Section Inner {'before_': __main__.Inner.before_iteration, 'before_inner': [], 'on_': __main__.Inner.on_iteration, 'on_inner': [], 'after_': __main__.Inner.after_iteration, 'after_inner': [], 'failed_': __main__.Inner.failed_iteration, 'failed_inner': [], 'finally_': __main__.Inner.finally_iteration, 'finally_inner': []}\n",
      "before_iteration\n",
      "on_iteration\n",
      "after_iteration\n",
      "finally_iteration\n",
      "after_step\n",
      "finally_step\n",
      "Section Outer {'before_': __main__.Outer.before_jump, 'before_inner': [], 'on_': __main__.Outer.on_jump, 'on_inner': [], 'after_': __main__.Outer.after_jump, 'after_inner': [], 'failed_': __main__.Outer.failed_jump, 'failed_inner': [], 'finally_': __main__.Outer.finally_jump, 'finally_inner': []}\n",
      "before_jump\n",
      "on_jump\n",
      "after_jump\n",
      "finally_jump\n"
     ]
    }
   ],
   "source": [
    "\n",
    "Outer().run(L(Inner(),FailingInner()),OuterCallback())"
   ]
  },
  {
   "cell_type": "code",
   "execution_count": null,
   "id": "275fa8c3-fd00-4175-928a-8767dea82dca",
   "metadata": {},
   "outputs": [],
   "source": [
    "# hide\n",
    "from fastcore.imports import in_colab\n",
    "\n",
    "# Since colab still requires tornado<6, we don't want to import nbdev if we don't have to\n",
    "if not in_colab():\n",
    "    from nbdev.export import *\n",
    "    from nbdev.export2html import *\n",
    "    from nbverbose.cli import *\n",
    "    make_readme()\n",
    "    notebook2script('[!02_fastai.loop.old]*.ipynb')\n",
    "    notebook2html('[!02_fastai.loop.old]*.ipynb')"
   ]
  },
  {
   "cell_type": "code",
   "execution_count": null,
   "id": "a6085bfd-da36-423d-8fdc-7fec1fdd1c1f",
   "metadata": {},
   "outputs": [],
   "source": []
  }
 ],
 "metadata": {
  "kernelspec": {
   "display_name": "Python 3 (ipykernel)",
   "language": "python",
   "name": "python3"
  },
  "language_info": {
   "codemirror_mode": {
    "name": "ipython",
    "version": 3
   },
   "file_extension": ".py",
   "mimetype": "text/x-python",
   "name": "python",
   "nbconvert_exporter": "python",
   "pygments_lexer": "ipython3",
   "version": "3.8.8"
  }
 },
 "nbformat": 4,
 "nbformat_minor": 5
}
