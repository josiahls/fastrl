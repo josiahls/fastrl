{
 "cells": [
  {
   "cell_type": "code",
   "execution_count": 2908,
   "id": "durable-dialogue",
   "metadata": {},
   "outputs": [],
   "source": [
    "#hide\n",
    "#skip\n",
    "%config Completer.use_jedi = False\n",
    "%config IPCompleter.greedy=True\n",
    "# upgrade fastrl on colab\n",
    "! [ -e /content ] && pip install -Uqq fastrl['dev'] pyvirtualdisplay && \\\n",
    "                     apt-get install -y xvfb python-opengl > /dev/null 2>&1 \n",
    "# NOTE: IF YOU SEE VERSION ERRORS, IT IS SAFE TO IGNORE THEM. COLAB IS BEHIND IN SOME OF THE PACKAGE VERSIONS"
   ]
  },
  {
   "cell_type": "code",
   "execution_count": 2909,
   "id": "845eef57-00ad-4ca2-95b0-74193296c58b",
   "metadata": {},
   "outputs": [],
   "source": [
    "# default_exp fastrl.fastai.loop"
   ]
  },
  {
   "cell_type": "code",
   "execution_count": 2910,
   "id": "assisted-contract",
   "metadata": {},
   "outputs": [],
   "source": [
    "# export\n",
    "# Python native modules\n",
    "import os,sys\n",
    "from copy import deepcopy,copy\n",
    "from typing import *\n",
    "import types\n",
    "import logging\n",
    "import inspect\n",
    "from itertools import chain,product\n",
    "from functools import partial\n",
    "# Third party libs\n",
    "from fastcore.all import *\n",
    "import numpy as np\n",
    "# Local modules\n",
    "from fastrl.core import test_in\n",
    "\n",
    "IN_IPYTHON=False\n",
    "\n",
    "_logger=logging.getLogger(__name__)"
   ]
  },
  {
   "cell_type": "code",
   "execution_count": 2911,
   "id": "viral-cambridge",
   "metadata": {},
   "outputs": [],
   "source": [
    "# hide\n",
    "from fastcore.imports import in_colab\n",
    "# Since colab still requires tornado<6, we don't want to import nbdev if we don't have to\n",
    "if not in_colab():\n",
    "    from nbverbose.showdoc import *\n",
    "    from nbdev.imports import *\n",
    "    if not os.environ.get(\"IN_TEST\", None):\n",
    "        assert IN_NOTEBOOK\n",
    "        assert not IN_COLAB\n",
    "        assert IN_IPYTHON\n",
    "else:\n",
    "    # Virutual display is needed for colab\n",
    "    from pyvirtualdisplay import Display\n",
    "    display=Display(visible=0,size=(400,300))\n",
    "    display.start()"
   ]
  },
  {
   "cell_type": "markdown",
   "id": "lesser-innocent",
   "metadata": {},
   "source": [
    "# Loop\n",
    "> fastrl concept of generic loop objects. \n",
    "\n",
    "The goal for Loops is to make it easy to customize, and know how sections of code connects\n",
    "to other parts."
   ]
  },
  {
   "cell_type": "markdown",
   "id": "10116234-0510-4456-b50c-0f011c4e958b",
   "metadata": {},
   "source": [
    "### Why do we need this?\n",
    "We have identified at least 3 different kinds of loops already:\n",
    "\n",
    "    Learner (training)\n",
    "    Source/Gym (Data Access)\n",
    "    Agent (How an AI takes in data, generates actions)\n",
    "\n",
    "### What is a loop?\n",
    "\n",
    "    It should be capable of containing inner loops. \n",
    "    It should self-describe its structure. \n",
    "    It should be easy to know which parts of the loop are taking long/short amounts of time.\n",
    "    It should be flexible in state modification.\n",
    "    It should alternatively make it easy show what fields are being changed at what points in time."
   ]
  },
  {
   "cell_type": "markdown",
   "id": "1e736013-c76a-4d9e-bf5a-771983b7ce61",
   "metadata": {},
   "source": [
    "A Loop will act as a compiled structure. The actual result will be a compiled list of nodes that reference the original loop."
   ]
  },
  {
   "cell_type": "code",
   "execution_count": 2912,
   "id": "79a04421-ca7a-400f-a3e3-658d4da5447c",
   "metadata": {},
   "outputs": [],
   "source": [
    "# export\n",
    "class _Prop(object):\n",
    "        \n",
    "    def __getattr__(self,k): \n",
    "        self._attr=k\n",
    "        return self\n",
    "    def __call__(self,o): return getattr(o,self._attr)\n",
    "\n",
    "\n",
    "class _PropCls(object):\n",
    "    __metaclass__ = _Prop\n",
    "        \n",
    "    def __getattr__(self,k): return getattr(_Prop(),k)\n",
    "    def __call__(self): return self\n",
    "\n",
    "Prop=_PropCls()"
   ]
  },
  {
   "cell_type": "code",
   "execution_count": 2913,
   "id": "b9279521-c093-4df0-9969-26a75681360e",
   "metadata": {},
   "outputs": [
    {
     "data": {
      "text/plain": [
       "(#3) [<class '__main__.TestA'>,<class '__main__.TestB'>,<class '__main__.TestC'>]"
      ]
     },
     "execution_count": 2913,
     "metadata": {},
     "output_type": "execute_result"
    }
   ],
   "source": [
    "class TestA():\n",
    "    @property\n",
    "    def name(self): return self.__class__\n",
    "\n",
    "class TestB():\n",
    "    @property\n",
    "    def name(self): return self.__class__\n",
    "\n",
    "class TestC():\n",
    "    @property\n",
    "    def name(self): return self.__class__\n",
    "\n",
    "L(TestA(),TestB(),TestC()).map(Prop.name)"
   ]
  },
  {
   "cell_type": "markdown",
   "id": "ff2f178c-f877-4a4b-bdbf-c81223c8df4d",
   "metadata": {},
   "source": [
    "Compare that with what using `Self` does..."
   ]
  },
  {
   "cell_type": "code",
   "execution_count": 2914,
   "id": "0b54f102-367a-4aac-80c1-a265d5f281e2",
   "metadata": {},
   "outputs": [],
   "source": [
    "test_fail(\n",
    "    lambda:L(TestA(),TestB(),TestC()).map(Self.name)\n",
    ")"
   ]
  },
  {
   "cell_type": "code",
   "execution_count": 2915,
   "id": "ceeeb9dd-3d50-4e8f-87f1-437d9329845f",
   "metadata": {},
   "outputs": [],
   "source": [
    "# export\n",
    "EVENT_ORDER_MAPPING={}\n",
    "PREFIXES=['before_','on_','after_','failed_','finally_']\n",
    "\n",
    "def isevent(o): return issubclass(o.__class__,Event)\n",
    "class EventException(Exception):pass\n",
    "def _default_raise(_placeholder): raise \n",
    "\n",
    "class KwargSetAttr(object):\n",
    "    def __setattr__(self,name,value):\n",
    "        \"Allow setting attrs via kwarg.\"\n",
    "        super().__setattr__(name,value)\n",
    "\n",
    "class Events(KwargSetAttr,L):\n",
    "    def __init__(self,items=None,postfix=None,prefix=None,item_iter_hint='prefix',\n",
    "                 order=0,parent_event=None,*args,**kwargs):\n",
    "        store_attr(but='items')\n",
    "        super().__init__(items=items,*args,**kwargs)\n",
    "        \n",
    "    def flat(self):\n",
    "        return Events(chain.from_iterable(self),\n",
    "                      postfix=self.postfix,prefix=self.prefix,\n",
    "                      item_iter_hint=self.item_iter_hint,order=self.order,\n",
    "                      parent_event=self.parent_event)\n",
    "\n",
    "    def __lt__(self,o:'Event'): return self.order<o.order    \n",
    "    def todict(self): \n",
    "        return {getattr(o,self.item_iter_hint):o for o in self}\n",
    "    \n",
    "    def __repr__(self): \n",
    "        if len(self)==0: return super().__repr__()\n",
    "        return '\\n'.join([str(o) for o in self])\n",
    "\n",
    "class Event(KwargSetAttr):\n",
    "    def __init__(self,\n",
    "                 function:Callable,\n",
    "                 loop=None,\n",
    "                 parent_event=None,\n",
    "                 override_name=None,\n",
    "                 override_qualname=None,\n",
    "                 override_module=None,\n",
    "                 order=None\n",
    "                ):\n",
    "        store_attr()\n",
    "        if self.function==noop and self.prefix=='failed_':\n",
    "            self.function=_default_raise\n",
    "        # We set the order over the entire Loop definition\n",
    "        if self.order is None:\n",
    "            if self.outer_name not in EVENT_ORDER_MAPPING: self.order=1\n",
    "            else: self.order=EVENT_ORDER_MAPPING[self.outer_name]\n",
    "            EVENT_ORDER_MAPPING[self.outer_name]=self.order+1\n",
    "\n",
    "        self.original_name=self.function.__module__+'.'+self.function.__qualname__\n",
    "            \n",
    "        if self.name.startswith('_') or not any(self.name.startswith(pre) for pre in PREFIXES):\n",
    "            raise EventException(f'{self.name} needs to start with any {PREFIXES}')\n",
    "            \n",
    "        self.cbs=L()\n",
    "        \n",
    "    def climb(self):\n",
    "        \"Returns a generator that moves up to the parent/root event\"\n",
    "        yield self\n",
    "        if self.parent_event is not None:\n",
    "            yield from self.parent_event.climb()\n",
    "            \n",
    "    @property\n",
    "    def level(self):\n",
    "        level=1\n",
    "        for e in self.climb():\n",
    "            level+=1\n",
    "        return level\n",
    "        \n",
    "    @classmethod\n",
    "    def from_override_name(cls,name,**kwargs):\n",
    "        return cls(noop,override_name=name,**kwargs)\n",
    "        \n",
    "    def set_cbs(self,cbs=None):\n",
    "        if cbs is not None:\n",
    "            self.cbs=L((cb() if isinstance(cb, type) else cb) for cb in L(cbs) \n",
    "                       if hasattr(cb,self.name) and (not cb.call_on or any([isrelevent(cb,e) for e in self.climb()])))\n",
    "            \n",
    "    @property\n",
    "    def root_loop(self): return self.loop.root_loop\n",
    "    def __call__(self,*args,**kwargs): \n",
    "        ret=self.function(self.loop,*args,**kwargs)                             # fastrl.skip_traceback\n",
    "        for cb in self.cbs: cb_ret=getattr(cb,self.name)()\n",
    "        return ret\n",
    "\n",
    "    def __lt__(self,o:'Event'): return self.order<o.order\n",
    "    @property\n",
    "    def name(self): return ifnone(self.override_name,self.function.__name__)\n",
    "    @property\n",
    "    def module(self): return ifnone(self.override_module,self.function.__module__)\n",
    "    @property\n",
    "    def qualname(self): return ifnone(self.override_qualname,self.function.__qualname__)\n",
    "    @property\n",
    "    def prefix(self): return self.name.split('_')[0]+'_'\n",
    "    @property\n",
    "    def postfix(self): return '_'.join(self.name.split('_')[1:])\n",
    "    @property\n",
    "    def outer_name(self):\n",
    "        return self.module+'.'+self.qualname.split('.')[0]\n",
    "    \n",
    "    def __repr__(self): return self.module+'.'+self.name\n",
    "    def with_inner(self):\n",
    "        return (self,Events(postfix=self.postfix,\n",
    "                            prefix=self.prefix+'inner',\n",
    "                            order=self.order))\n",
    "\n",
    "event=Event"
   ]
  },
  {
   "cell_type": "code",
   "execution_count": 2916,
   "id": "624e7871-ed7c-4f7a-9e23-1f12318ebefd",
   "metadata": {},
   "outputs": [
    {
     "data": {
      "text/plain": [
       "before_\n",
       "on_\n",
       "after_\n",
       "failed_\n",
       "finally_"
      ]
     },
     "execution_count": 2916,
     "metadata": {},
     "output_type": "execute_result"
    }
   ],
   "source": [
    "Events(PREFIXES).map(Event.from_override_name).map(Prop.prefix)"
   ]
  },
  {
   "cell_type": "code",
   "execution_count": 2917,
   "id": "87340d0c-8d36-4b2d-b8f7-038ed68dfa2e",
   "metadata": {},
   "outputs": [],
   "source": [
    "def on_a():pass\n",
    "decorated_a=Event(on_a)\n",
    "\n",
    "def on_b():pass\n",
    "decorated_b=Event(on_b,parent_event=decorated_a)\n",
    "\n",
    "def on_c():pass\n",
    "decorated_c=Event(on_c,parent_event=decorated_b)"
   ]
  },
  {
   "cell_type": "markdown",
   "id": "93baad38-71d8-4735-a6c8-d631d8e34439",
   "metadata": {},
   "source": [
    "Check that we can get the root event using the `climb` method..."
   ]
  },
  {
   "cell_type": "code",
   "execution_count": 2918,
   "id": "972c266a-649b-476d-ba16-9b7315bd1d97",
   "metadata": {},
   "outputs": [],
   "source": [
    "test_in(decorated_a,list(decorated_c.climb()))"
   ]
  },
  {
   "cell_type": "markdown",
   "id": "f5a0db30-342d-4d15-ba85-5c34942d4211",
   "metadata": {},
   "source": [
    "Check that we can override the event's name..."
   ]
  },
  {
   "cell_type": "code",
   "execution_count": 2919,
   "id": "573fe5a6-e0da-4491-b82e-6d7f2adea795",
   "metadata": {},
   "outputs": [
    {
     "data": {
      "text/plain": [
       "__main__.after_c"
      ]
     },
     "execution_count": 2919,
     "metadata": {},
     "output_type": "execute_result"
    }
   ],
   "source": [
    "Event(on_c,parent_event=decorated_b,override_name='after_c')"
   ]
  },
  {
   "cell_type": "code",
   "execution_count": 2920,
   "id": "0bf84775-26ac-4f1e-9511-d718225170fc",
   "metadata": {},
   "outputs": [
    {
     "data": {
      "text/plain": [
       "(#3) ['on_a','on_b','on_c']"
      ]
     },
     "execution_count": 2920,
     "metadata": {},
     "output_type": "execute_result"
    }
   ],
   "source": [
    "L(decorated_a,decorated_b,decorated_c).map(Prop.name)"
   ]
  },
  {
   "cell_type": "code",
   "execution_count": 2921,
   "id": "1f3fa3f8-9305-4997-9c80-a69e09f5290e",
   "metadata": {},
   "outputs": [
    {
     "data": {
      "text/plain": [
       "(#3) [self: ['name']([(__main__.on_a,)], [{}]),'on_b','on_c']"
      ]
     },
     "execution_count": 2921,
     "metadata": {},
     "output_type": "execute_result"
    }
   ],
   "source": [
    "L(decorated_a,decorated_b,decorated_c).map(Self.name)"
   ]
  },
  {
   "cell_type": "code",
   "execution_count": 2922,
   "id": "05ac9a9f-dfbb-48e0-a2c9-829b754a0f97",
   "metadata": {},
   "outputs": [],
   "source": [
    "class B():\n",
    "    @event\n",
    "    def on_test_2_a(self):pass"
   ]
  },
  {
   "cell_type": "code",
   "execution_count": 2923,
   "id": "1eaa1a33-321c-4a37-9c69-ce9f6a03c059",
   "metadata": {},
   "outputs": [
    {
     "data": {
      "text/plain": [
       "None"
      ]
     },
     "execution_count": 2923,
     "metadata": {},
     "output_type": "execute_result"
    }
   ],
   "source": [
    "Events(L(B().on_test_2_a)).map(Event.__setattr__,name='parent_loop',value='thing')"
   ]
  },
  {
   "cell_type": "code",
   "execution_count": 2924,
   "id": "81e3f65e-5230-4a33-8def-89d9cff43c22",
   "metadata": {},
   "outputs": [
    {
     "data": {
      "text/plain": [
       "'__main__.B.on_test_2_a'"
      ]
     },
     "execution_count": 2924,
     "metadata": {},
     "output_type": "execute_result"
    }
   ],
   "source": [
    "B.on_test_2_a.original_name"
   ]
  },
  {
   "cell_type": "code",
   "execution_count": 2925,
   "id": "67c6b64f-7efd-46a9-a320-467d0542f0d0",
   "metadata": {},
   "outputs": [],
   "source": [
    "\n",
    "class A(object):\n",
    "    loop,root_loop=None,None\n",
    "    \n",
    "    @classmethod\n",
    "    def events(cls,instance=None,instantiate=False):\n",
    "        loop=instance if instance is not None else (cls() if instantiate else cls)\n",
    "        events=L(inspect.getmembers(loop)).map(_last_element).filter(isevent)\n",
    "        for o in events: o.loop=loop\n",
    "        return events\n",
    "    \n",
    "    @event\n",
    "    def before_test_c(self):print('before_test_c')\n",
    "    @event\n",
    "    def on_test_c(self):print('on_test_c')\n",
    "    @event\n",
    "    def after_test_c(self):print('after_test_c')\n",
    "    @event\n",
    "    def on_test_b(self):print('on_test_b')\n",
    "    @event\n",
    "    def on_test_a(self):print('on_test_a')"
   ]
  },
  {
   "cell_type": "code",
   "execution_count": 2926,
   "id": "7d8f3c65-84ab-466f-bb12-e94274ade571",
   "metadata": {},
   "outputs": [
    {
     "name": "stdout",
     "output_type": "stream",
     "text": [
      "before_test_c\n"
     ]
    }
   ],
   "source": [
    "A().before_test_c()"
   ]
  },
  {
   "cell_type": "code",
   "execution_count": 2927,
   "id": "ed78453a-ef55-4d6a-a165-d011ba865c94",
   "metadata": {},
   "outputs": [],
   "source": [
    "A.events(A()).sorted()\n",
    "test_eq(len(groupby(A.events(A()),Prop.postfix)),3)"
   ]
  },
  {
   "cell_type": "markdown",
   "id": "a349b304-f924-4c30-a2d8-1906c531c9e1",
   "metadata": {},
   "source": [
    "Notes:\n",
    "- Having a section object might make this overal loop management better\n",
    "    - remaining stuff, the Section object needs to handle lists and execute those also.\n",
    "    - with this in mind, using the section I think will make the looping run much cleaner."
   ]
  },
  {
   "cell_type": "code",
   "execution_count": 2928,
   "id": "ac4a58c3-be96-49f7-9ace-969dad6c1d87",
   "metadata": {},
   "outputs": [],
   "source": [
    "# export\n",
    "def _show_events(e):\n",
    "    return isevent(e) or (isinstance(e,Events) and len(e)!=0)\n",
    "\n",
    "class SectionException(Exception):pass\n",
    "\n",
    "class Section(KwargSetAttr):\n",
    "    @with_cast\n",
    "    def __init__(self,events:Events,parent_event=None):\n",
    "        store_attr(but='events')\n",
    "        # 1. Make Events have the same module as the function being run\n",
    "        # 2. Convert the Events to Events+Inner Events\n",
    "        # 3. Convert [(Event,[]*inner events*)...] to [Event,[]*inner events*...]\n",
    "        # 4. Sure they are sorted correctly\n",
    "        self.default_events=Events(PREFIXES)\\\n",
    "            .map(Event.from_override_name,override_module=events[0].module)\\\n",
    "            .map(Event.with_inner)\\\n",
    "            .flat()\\\n",
    "            .sorted()                                                           \n",
    "        self.event_ls=events.sorted().map(Event.with_inner).flat()\n",
    "        self.event_ls.map(Event.__setattr__,name='parent_event',value=parent_event)\n",
    "        self.events=merge(self.default_events.todict(),self.event_ls.todict())\n",
    "        \n",
    "    def __repr__(self): \n",
    "        rep=str(self.__class__.__name__)+' '+self.postfix\n",
    "        tab='\\n'\n",
    "        if self.parent_event is not None:\n",
    "            tab= '\\n'+'    '*self.parent_event.level\n",
    "            rep+='\\n'+'    '*self.parent_event.level\n",
    "        else:\n",
    "            rep+='\\n'\n",
    "        rep+=tab.join(L(self.events.values()).filter(_show_events).map(str))\n",
    "        return rep\n",
    "    \n",
    "    @property\n",
    "    def root_loop(self): return ifnone(self.event_ls[0].root_loop,self.loop)\n",
    "    @property\n",
    "    def loop(self):     return self.event_ls[0].loop\n",
    "    @property\n",
    "    def postfix(self):  return self.event_ls[0].postfix\n",
    "    def __len__(self):  return len(L(self.events.values()).filter(isevent)) \n",
    "    def run_inner(self,event): [o.run() for o in self.events[event]]            # fastrl.skip_traceback\n",
    "        \n",
    "    def run(self):\n",
    "        try:\n",
    "            self.events['before_']()\n",
    "            self.run_inner('before_inner')                                      # fastrl.skip_traceback\n",
    "            self.events['on_']()\n",
    "            self.run_inner('on_inner')\n",
    "            self.events['after_']()\n",
    "            self.run_inner('after_inner')                                       # fastrl.skip_traceback\n",
    "        except Exception as ex:\n",
    "            try:     \n",
    "                self.events['failed_']()                                        # fastrl.skip_traceback\n",
    "                raise\n",
    "            finally: \n",
    "                self.run_inner('failed_inner')                                  # fastrl.skip_traceback\n",
    "        finally:\n",
    "            self.events['finally_']()\n",
    "            self.run_inner('finally_inner')                                     # fastrl.skip_traceback\n",
    "    \n",
    "    @classmethod\n",
    "    @with_cast\n",
    "    def from_events(cls,events:Events,loop=None,parent_event=None):\n",
    "        event_groups=groupby(events,Prop.postfix)\n",
    "        return L(event_groups.values()).map(cls,parent_event=parent_event)\n",
    "    \n",
    "    def insert(self,loop,loops):\n",
    "        \"Insert a `loop` into the *inner events of a section\"\n",
    "        for event in self.event_ls.filter(isevent):\n",
    "            if event.original_name in loop.call_on.map(Self.original_name()):\n",
    "                loop=loop.from_loops(loops,event=event)\n",
    "                self.events[event.prefix+'inner'].extend([loop])"
   ]
  },
  {
   "cell_type": "code",
   "execution_count": 2929,
   "id": "a343a84f-e12f-421e-bfa8-b89048b7b007",
   "metadata": {},
   "outputs": [
    {
     "data": {
      "text/plain": [
       "[{'before_': __main__.before_test_c,\n",
       "  'before_inner': [],\n",
       "  'on_': __main__.on_test_c,\n",
       "  'on_inner': [],\n",
       "  'failed_': __main__.failed_,\n",
       "  'failed_inner': [],\n",
       "  'after_': __main__.after_test_c,\n",
       "  'after_inner': [],\n",
       "  'finally_': __main__.finally_,\n",
       "  'finally_inner': []},\n",
       " {'failed_': __main__.failed_,\n",
       "  'failed_inner': [],\n",
       "  'before_': __main__.before_,\n",
       "  'before_inner': [],\n",
       "  'on_': __main__.on_test_a,\n",
       "  'on_inner': [],\n",
       "  'after_': __main__.after_,\n",
       "  'after_inner': [],\n",
       "  'finally_': __main__.finally_,\n",
       "  'finally_inner': []},\n",
       " {'failed_': __main__.failed_,\n",
       "  'failed_inner': [],\n",
       "  'before_': __main__.before_,\n",
       "  'before_inner': [],\n",
       "  'on_': __main__.on_test_b,\n",
       "  'on_inner': [],\n",
       "  'after_': __main__.after_,\n",
       "  'after_inner': [],\n",
       "  'finally_': __main__.finally_,\n",
       "  'finally_inner': []}]"
      ]
     },
     "execution_count": 2929,
     "metadata": {},
     "output_type": "execute_result"
    }
   ],
   "source": [
    "[o.events for o in Section.from_events(A.events(A()))]"
   ]
  },
  {
   "cell_type": "code",
   "execution_count": 2930,
   "id": "fbe78187-40f8-46bd-a931-f05114cf986b",
   "metadata": {},
   "outputs": [
    {
     "name": "stdout",
     "output_type": "stream",
     "text": [
      "before_test_c\n",
      "on_test_c\n",
      "after_test_c\n",
      "on_test_a\n",
      "on_test_b\n"
     ]
    },
    {
     "data": {
      "text/plain": [
       "[None, None, None]"
      ]
     },
     "execution_count": 2930,
     "metadata": {},
     "output_type": "execute_result"
    }
   ],
   "source": [
    "[o.run() for o in Section.from_events(A.events(A()))]"
   ]
  },
  {
   "cell_type": "code",
   "execution_count": 2931,
   "id": "b9c2ac50-d3a7-4743-894c-1f0f493ba926",
   "metadata": {
    "tags": []
   },
   "outputs": [],
   "source": [
    "# export\n",
    "class class_or_instancemethod(classmethod):\n",
    "    \"From: https://stackoverflow.com/questions/28237955/same-name-for-classmethod-and-instancemethod\"\n",
    "    def __get__(self, instance, type_):\n",
    "        descr_get = super().__get__ if instance is None else self.__func__.__get__\n",
    "        return descr_get(instance, type_)\n",
    "\n",
    "class Loop(object):  \n",
    "    call_on,loop,loops,cbs,tab,verbose=L(),None,None,None,'  ',False\n",
    "    \n",
    "    @classmethod\n",
    "    def sections(cls,loops:Optional[L]=None,event=None):\n",
    "        events=L(inspect.getmembers(cls)).map(Self[-1]).filter(isevent).sorted()\n",
    "        events.map(Event.__setattr__,name='loop',value=cls)\n",
    "        sections=Section.from_events(events)\n",
    "        if event is not None:\n",
    "            events.map(Event.__setattr__,name='parent_event',value=event)\n",
    "            sections.map(Section.__setattr__,name='parent_event',value=event)\n",
    "        if loops is not None:\n",
    "            for loop in loops:\n",
    "                if isinstance(loop,cls) or loop==cls: continue\n",
    "                for section in sections:\n",
    "                    section.insert(loop,loops)\n",
    "        return sections\n",
    "    \n",
    "    @classmethod\n",
    "    def from_loops(cls,loops=None,event=None):\n",
    "        loop=cls()\n",
    "        sections=cls.sections(loops=loops,event=event)\n",
    "        loop._sections=sections\n",
    "        return loop\n",
    "    \n",
    "    def __repr__(self): \n",
    "        if hasattr(self,'_sections'):\n",
    "            return str(self.__class__.__name__)+'\\n'+'\\n'.join(self._sections.map(str))\n",
    "        return str(self.__class__.__name__)+' '\n",
    "    \n",
    "    def run(self,loops=None,cbs=None):\n",
    "        try:\n",
    "            sections=self.sections(loops=loops)                                 # fastrl.skip_traceback\n",
    "            for section in sections:                                            # fastrl.skip_traceback\n",
    "                section.run()                                                   # fastrl.skip_traceback\n",
    "        except Exception as e:\n",
    "            e._show_loop_errors=self.verbose\n",
    "            raise\n",
    "            \n",
    "    @property\n",
    "    def root_loop(self): return self if self.loop is None else self.loop\n",
    "    def __len__(self):   return len(self.sections)"
   ]
  },
  {
   "cell_type": "code",
   "execution_count": 2932,
   "id": "c8c1440f-da17-413a-bd0c-a09ee1bcd92e",
   "metadata": {},
   "outputs": [],
   "source": [
    "class Outer(Loop):\n",
    "    @event\n",
    "    def before_step(self) :  print('before_step')\n",
    "    @event\n",
    "    def on_step(self)     :  print('on_step')\n",
    "    @event\n",
    "    def after_step(self)  :  print('after_step')\n",
    "    @event\n",
    "    def failed_step(self) :  print('failed_step')\n",
    "    @event\n",
    "    def finally_step(self):  print('finally_step')\n",
    " \n",
    "    @event\n",
    "    def before_jump(self) :  print('before_jump')\n",
    "    @event\n",
    "    def on_jump(self)     :  print('on_jump')\n",
    "    @event\n",
    "    def after_jump(self)  :  print('after_jump')\n",
    "    @event\n",
    "    def failed_jump(self) :  print('failed_jump')\n",
    "    @event\n",
    "    def finally_jump(self):  print('finally_jump')\n",
    "\n",
    "class Inner(Loop):\n",
    "    call_on=L(Outer.on_step,Outer.after_step,Outer.finally_jump)\n",
    "    \n",
    "    @event\n",
    "    def before_iteration(self) : print('before_iteration')\n",
    "    @event\n",
    "    def on_iteration(self)     : print('on_iteration')\n",
    "    @event\n",
    "    def after_iteration(self)  : print('after_iteration')\n",
    "    @event\n",
    "    def failed_iteration(self) : print('failed_iteration')\n",
    "    @event\n",
    "    def finally_iteration(self): print('finally_iteration')\n",
    "\n",
    "class FailingInner(Loop):\n",
    "    call_on=L(Inner.finally_iteration)\n",
    "    \n",
    "    @event\n",
    "    def on_force_fail(self):                    \n",
    "        print('on_force_fail')\n",
    "        raise Exception\n",
    "        "
   ]
  },
  {
   "cell_type": "code",
   "execution_count": 2933,
   "id": "1ce945a3-ee45-4272-b407-220bdb4ca02f",
   "metadata": {},
   "outputs": [
    {
     "name": "stdout",
     "output_type": "stream",
     "text": [
      "before_step\n",
      "on_step\n",
      "after_step\n",
      "finally_step\n",
      "before_jump\n",
      "on_jump\n",
      "after_jump\n",
      "finally_jump\n"
     ]
    },
    {
     "data": {
      "text/plain": [
       "[None, None]"
      ]
     },
     "execution_count": 2933,
     "metadata": {},
     "output_type": "execute_result"
    }
   ],
   "source": [
    "[o.run() for o in Outer.sections()]"
   ]
  },
  {
   "cell_type": "code",
   "execution_count": 2934,
   "id": "47748a62-ec37-47a5-9edb-fecbddf89c95",
   "metadata": {},
   "outputs": [
    {
     "name": "stdout",
     "output_type": "stream",
     "text": [
      "Outer\n",
      "Section step\n",
      "__main__.failed_step\n",
      "__main__.before_step\n",
      "__main__.on_step\n",
      "Inner\n",
      "Section iteration\n",
      "        __main__.failed_iteration\n",
      "        __main__.before_iteration\n",
      "        __main__.on_iteration\n",
      "        __main__.after_iteration\n",
      "        __main__.finally_iteration\n",
      "        FailingInner\n",
      "Section force_fail\n",
      "            __main__.failed_\n",
      "            __main__.before_\n",
      "            __main__.on_force_fail\n",
      "            __main__.after_\n",
      "            __main__.finally_\n",
      "__main__.after_step\n",
      "Inner\n",
      "Section iteration\n",
      "        __main__.failed_iteration\n",
      "        __main__.before_iteration\n",
      "        __main__.on_iteration\n",
      "        __main__.after_iteration\n",
      "        __main__.finally_iteration\n",
      "        FailingInner\n",
      "Section force_fail\n",
      "            __main__.failed_\n",
      "            __main__.before_\n",
      "            __main__.on_force_fail\n",
      "            __main__.after_\n",
      "            __main__.finally_\n",
      "__main__.finally_step\n",
      "Section jump\n",
      "__main__.failed_jump\n",
      "__main__.before_jump\n",
      "__main__.on_jump\n",
      "__main__.after_jump\n",
      "__main__.finally_jump\n",
      "Inner\n",
      "Section iteration\n",
      "        __main__.failed_iteration\n",
      "        __main__.before_iteration\n",
      "        __main__.on_iteration\n",
      "        __main__.after_iteration\n",
      "        __main__.finally_iteration\n",
      "        FailingInner\n",
      "Section force_fail\n",
      "            __main__.failed_\n",
      "            __main__.before_\n",
      "            __main__.on_force_fail\n",
      "            __main__.after_\n",
      "            __main__.finally_\n"
     ]
    }
   ],
   "source": [
    "print(Outer.from_loops(L(Inner,FailingInner)))"
   ]
  },
  {
   "cell_type": "code",
   "execution_count": 2935,
   "id": "990ee0c9-7366-4b0c-b4b8-98a4853e0af9",
   "metadata": {},
   "outputs": [],
   "source": [
    "# export\n",
    "class CallbackException(Exception):pass\n",
    "\n",
    "class Callback(object):\n",
    "    call_on,loop=None,None"
   ]
  },
  {
   "cell_type": "code",
   "execution_count": 2936,
   "id": "4b3709a4-46ff-4450-a0f3-ac2da7ca4a64",
   "metadata": {},
   "outputs": [
    {
     "ename": "AttributeError",
     "evalue": "'Outer' object has no attribute 'get_sections'",
     "output_type": "error",
     "traceback": [
      "\u001b[0;31m---------------------------------------------------------------------------\u001b[0m",
      "\u001b[0;31mAttributeError\u001b[0m                            Traceback (most recent call last)",
      "\u001b[0;32m/tmp/ipykernel_122/1867561796.py\u001b[0m in \u001b[0;36m<module>\u001b[0;34m\u001b[0m\n\u001b[1;32m      5\u001b[0m         \u001b[0mprint\u001b[0m\u001b[0;34m(\u001b[0m\u001b[0;34m'   OuterCallback called lol'\u001b[0m\u001b[0;34m)\u001b[0m\u001b[0;34m\u001b[0m\u001b[0;34m\u001b[0m\u001b[0m\n\u001b[1;32m      6\u001b[0m \u001b[0;34m\u001b[0m\u001b[0m\n\u001b[0;32m----> 7\u001b[0;31m \u001b[0mOuter\u001b[0m\u001b[0;34m(\u001b[0m\u001b[0;34m)\u001b[0m\u001b[0;34m.\u001b[0m\u001b[0mget_sections\u001b[0m\u001b[0;34m(\u001b[0m\u001b[0mL\u001b[0m\u001b[0;34m(\u001b[0m\u001b[0mInner\u001b[0m\u001b[0;34m(\u001b[0m\u001b[0;34m)\u001b[0m\u001b[0;34m,\u001b[0m\u001b[0mFailingInner\u001b[0m\u001b[0;34m(\u001b[0m\u001b[0;34m)\u001b[0m\u001b[0;34m)\u001b[0m\u001b[0;34m,\u001b[0m\u001b[0mOuterCallback\u001b[0m\u001b[0;34m)\u001b[0m\u001b[0;34m\u001b[0m\u001b[0;34m\u001b[0m\u001b[0m\n\u001b[0m",
      "\u001b[0;31mAttributeError\u001b[0m: 'Outer' object has no attribute 'get_sections'"
     ]
    }
   ],
   "source": [
    "class OuterCallback(Callback):\n",
    "    call_on=L(Outer.on_step)\n",
    "    \n",
    "    def before_iteration(self)->dict(this=list,that=str):\n",
    "        print('   OuterCallback called lol')\n",
    "\n",
    "Outer().get_sections(L(Inner(),FailingInner()),OuterCallback)"
   ]
  },
  {
   "cell_type": "code",
   "execution_count": null,
   "id": "ed40337b-f215-4562-8773-86e5e008d711",
   "metadata": {},
   "outputs": [],
   "source": [
    "print(Outer.from_sections(\n",
    "    loops=L(Inner(),FailingInner()),\n",
    "    cbs=OuterCallback\n",
    "                   \n",
    "                   \n",
    "))"
   ]
  },
  {
   "cell_type": "markdown",
   "id": "d80a080a-c4a5-4d76-bdb1-0c83abab659f",
   "metadata": {},
   "source": [
    "`Reference: https://stackoverflow.com/questions/31949760/how-to-limit-python-traceback-to-specific-files`\n",
    "\n",
    "`Reference: https://github.com/ipython/ipython/blob/8520f3063ca36655b5febbbd18bf55e59cb2cbb5/IPython/core/interactiveshell.py#L1945`"
   ]
  },
  {
   "cell_type": "code",
   "execution_count": null,
   "id": "398df8cb-372e-4aa6-9374-082a30105e71",
   "metadata": {},
   "outputs": [],
   "source": [
    "# export\n",
    "def _skip_traceback(s):\n",
    "    return in_('# fastrl.skip_traceback',s)\n",
    "    \n",
    "def ipy_handle_exception(self, etype, value, tb, tb_offset):\n",
    "    ## Do something fancy\n",
    "    stb = self.InteractiveTB.structured_traceback(etype,value,tb,tb_offset=tb_offset)\n",
    "    if not getattr(value,'_show_loop_errors',True):\n",
    "        tmp,idxs=[],L(stb).argwhere(_skip_traceback)\n",
    "        prev_skipped_idx=idxs[0] if idxs else 0\n",
    "        for i,s in enumerate(stb):\n",
    "            if i in idxs and i-1!=prev_skipped_idx: \n",
    "                msg='Skipped Loop Code due to # fastrl.skip_traceback found in source code,'\n",
    "                msg+=' please use Loop(...verbose=True) to view loop tracebacks\\n'\n",
    "                tmp.append(msg)\n",
    "            if i not in idxs:\n",
    "                tmp.append(s)\n",
    "            else:\n",
    "                prev_skipped_idx=i\n",
    "        stb=tmp\n",
    "    ## Do something fancy\n",
    "    self._showtraceback(type, value, stb)\n",
    "\n",
    "if IN_IPYTHON:\n",
    "    get_ipython().set_custom_exc((Exception,),ipy_handle_exception)\n",
    "    "
   ]
  },
  {
   "cell_type": "code",
   "execution_count": null,
   "id": "77655fb3-ed9d-4827-807b-c41e423bdbd6",
   "metadata": {},
   "outputs": [],
   "source": [
    "if False:\n",
    "    Outer.verbose=False\n",
    "    Outer().run(L(Inner(),FailingInner()),OuterCallback())"
   ]
  },
  {
   "cell_type": "code",
   "execution_count": null,
   "id": "1bbf8671-6166-4746-b678-68f42fb06c74",
   "metadata": {},
   "outputs": [],
   "source": [
    "if False:\n",
    "    Outer.verbose=True\n",
    "    Outer().run(L(Inner(),FailingInner()),OuterCallback())"
   ]
  },
  {
   "cell_type": "code",
   "execution_count": null,
   "id": "275fa8c3-fd00-4175-928a-8767dea82dca",
   "metadata": {},
   "outputs": [],
   "source": [
    "# hide\n",
    "from fastcore.imports import in_colab\n",
    "\n",
    "# Since colab still requires tornado<6, we don't want to import nbdev if we don't have to\n",
    "if not in_colab():\n",
    "    from nbdev.export import *\n",
    "    from nbdev.export2html import *\n",
    "    from nbverbose.cli import *\n",
    "    make_readme()\n",
    "    notebook2script()\n",
    "    notebook2html()\n",
    "    # notebook2script('[!02_fastai.loop.old]*.ipynb')\n",
    "    # notebook2html('[!02_fastai.loop.old]*.ipynb')"
   ]
  },
  {
   "cell_type": "code",
   "execution_count": null,
   "id": "a6085bfd-da36-423d-8fdc-7fec1fdd1c1f",
   "metadata": {},
   "outputs": [],
   "source": [
    "# # export\n",
    "# # Reference: https://stackoverflow.com/questions/31949760/how-to-limit-python-traceback-to-specific-files\n",
    "# # __mycode = True\n",
    "\n",
    "# # def is_mycode(tb):\n",
    "# #     globals = tb.tb_frame.f_globals\n",
    "# #     return globals.has_key('__mycode')\n",
    "\n",
    "# # def mycode_traceback_levels(tb):\n",
    "# #     length = 0\n",
    "# #     while tb and is_mycode(tb):\n",
    "# #         tb = tb.tb_next\n",
    "# #         length += 1\n",
    "# #     return length\n",
    "# import traceback\n",
    "# from traceback import TracebackException\n",
    "# __mycode = True\n",
    "\n",
    "# def callers_module():\n",
    "#     module_name = inspect.currentframe().f_back.f_globals[\"__name__\"]\n",
    "#     return sys.modules[module_name]\n",
    "\n",
    "# def is_mycode(tb):\n",
    "#     return globals().get('__mycode',False)\n",
    "\n",
    "# def mycode_traceback_levels(tb):\n",
    "#     length = 0\n",
    "#     while tb and is_mycode(tb):\n",
    "#         tb = tb.tb_next\n",
    "#         length += 1\n",
    "#     return length\n",
    "\n",
    "# def handle_exception(type, value, tb, tb_offset):\n",
    "#     # 1. skip custom assert code, e.g.\n",
    "#     # while tb and is_custom_assert_code(tb):\n",
    "#     #   tb = tb.tb_next\n",
    "#     # 2. only display your code\n",
    "#     length = mycode_traceback_levels(tb)\n",
    "    \n",
    "#     # Reference: https://github.com/ipython/ipython/blob/8520f3063ca36655b5febbbd18bf55e59cb2cbb5/IPython/core/interactiveshell.py#L1945\n",
    "\n",
    "#     # return [str(line) for line in TracebackException(\n",
    "#     #         type, value, tb, limit=length).format(chain=True)]\n",
    "#     return TracebackException(\n",
    "#             type, value, tb, limit=length).format(chain=True)\n",
    "\n",
    "\n",
    "# def ipy_handle_exception(self, etype, value, tb, tb_offset):\n",
    "#     # 1. skip custom assert code, e.g.\n",
    "#     # while tb and is_custom_assert_code(tb):\n",
    "#     #   tb = tb.tb_next\n",
    "#     # 2. only display your code\n",
    "#     # length = mycode_traceback_levels(tb)\n",
    "    \n",
    "#     # Reference: https://github.com/ipython/ipython/blob/8520f3063ca36655b5febbbd18bf55e59cb2cbb5/IPython/core/interactiveshell.py#L1945\n",
    "\n",
    "#     # return [str(line) for line in TracebackException(\n",
    "#     #         type, value, tb, limit=length).format(chain=True)]\n",
    "#     print('Returning traceback')\n",
    "# #     ss= [str(line) for line in TracebackException(\n",
    "# #             type, value, tb, limit=None).format(chain=True)]\n",
    "    \n",
    "#     stb = self.InteractiveTB.structured_traceback(etype,\n",
    "#                                             value, tb, tb_offset=tb_offset)\n",
    "    \n",
    "#     # print(stb)\n",
    "#     self._showtraceback(type, value, stb)\n",
    "    \n",
    "#     # print(ss)\n",
    "#     # return ss\n",
    "# get_ipython().set_custom_exc((Exception,),ipy_handle_exception)\n",
    "    \n",
    "# # sys.excepthook = handle_exception\n",
    "\n",
    "# def custom_traceback():\n",
    "#     exception_info=sys.exc_info()\n",
    "#     # print(exception_info)\n",
    "#     ex=handle_exception(*exception_info)\n",
    "#     # get_ipython()\n",
    "    "
   ]
  }
 ],
 "metadata": {
  "kernelspec": {
   "display_name": "Python 3 (ipykernel)",
   "language": "python",
   "name": "python3"
  },
  "language_info": {
   "codemirror_mode": {
    "name": "ipython",
    "version": 3
   },
   "file_extension": ".py",
   "mimetype": "text/x-python",
   "name": "python",
   "nbconvert_exporter": "python",
   "pygments_lexer": "ipython3",
   "version": "3.8.8"
  }
 },
 "nbformat": 4,
 "nbformat_minor": 5
}
