{
 "cells": [
  {
   "cell_type": "code",
   "execution_count": 56,
   "id": "durable-dialogue",
   "metadata": {},
   "outputs": [],
   "source": [
    "#hide\n",
    "#skip\n",
    "%config Completer.use_jedi = False\n",
    "# upgrade fastrl on colab\n",
    "! [ -e /content ] && pip install -Uqq fastrl['dev'] pyvirtualdisplay && \\\n",
    "                     apt-get install -y xvfb python-opengl > /dev/null 2>&1 \n",
    "# NOTE: IF YOU SEE VERSION ERRORS, IT IS SAFE TO IGNORE THEM. COLAB IS BEHIND IN SOME OF THE PACKAGE VERSIONS"
   ]
  },
  {
   "cell_type": "code",
   "execution_count": 57,
   "id": "viral-cambridge",
   "metadata": {},
   "outputs": [],
   "source": [
    "# hide\n",
    "from fastcore.imports import in_colab\n",
    "# Since colab still requires tornado<6, we don't want to import nbdev if we don't have to\n",
    "if not in_colab():\n",
    "    from nbverbose.showdoc import *\n",
    "    from nbdev.imports import *\n",
    "    if not os.environ.get(\"IN_TEST\", None):\n",
    "        assert IN_NOTEBOOK\n",
    "        assert not IN_COLAB\n",
    "        assert IN_IPYTHON\n",
    "else:\n",
    "    # Virutual display is needed for colab\n",
    "    from pyvirtualdisplay import Display\n",
    "    display = Display(visible=0, size=(400, 300))\n",
    "    display.start()"
   ]
  },
  {
   "cell_type": "code",
   "execution_count": 58,
   "id": "offshore-stuart",
   "metadata": {},
   "outputs": [],
   "source": [
    "# default_exp fastai.loop"
   ]
  },
  {
   "cell_type": "code",
   "execution_count": 59,
   "id": "assisted-contract",
   "metadata": {},
   "outputs": [],
   "source": [
    "# export\n",
    "# Python native modules\n",
    "import os\n",
    "# Third party libs\n",
    "from fastcore.all import *\n",
    "# Local modules"
   ]
  },
  {
   "cell_type": "markdown",
   "id": "lesser-innocent",
   "metadata": {},
   "source": [
    "# Loop\n",
    "> fastrl concept of generic loop objects. \n",
    "\n",
    "The goal for Loops is to make it easy to customize, and know how sections of code connects\n",
    "to other parts."
   ]
  },
  {
   "cell_type": "markdown",
   "id": "10116234-0510-4456-b50c-0f011c4e958b",
   "metadata": {},
   "source": [
    "### Why do we need this?\n",
    "We have identified at least 3 different kinds of loops already:\n",
    "\n",
    "    Learner (training)\n",
    "    Source/Gym (Data Access)\n",
    "    Agent (How an AI takes in data, generates actions)\n",
    "\n",
    "### What is a loop?\n",
    "\n",
    "    It should be capable of containing inner loops. \n",
    "    It should be able to handle \"phases\" that might be similar to each other. \n",
    "    It should self-describe its structure. \n",
    "    It should be easy to know which parts of the loop are taking long/short amounts of time.\n",
    "    It should be flexible in state modification.\n",
    "    It should alternatively make it easy show what fields are being changed at what points in time."
   ]
  },
  {
   "cell_type": "code",
   "execution_count": 270,
   "id": "7ecffb2f-54d3-4b7e-8e9b-efc9210d7ba1",
   "metadata": {},
   "outputs": [],
   "source": [
    "# export \n",
    "class Hook(object):\n",
    "    def __init__(self,function,phase=None): \n",
    "        store_attr()\n",
    "        self.sig=inspect.signature(function)\n",
    "        \n",
    "        if '_phase' not in self.sig.parameters or phase is not None: \n",
    "            self.phase=phase \n",
    "        else: \n",
    "            self.phase=L(self.sig.parameters['_phase'].default)\n",
    "            self.phase=self.phase[0]\n",
    "        \n",
    "        if '_order' not in self.sig.parameters: self.order=-1 \n",
    "        else: self.order=self.sig.parameters['_order'].default\n",
    "        \n",
    "    def __lt__(self,o:'Hook'): return self.order<o.order\n",
    "\n",
    "    def __str__(self): return f'{self.order}_{self.phase}_{self.function.__name__}'\n",
    "    def __hash__(self): return str(self)\n",
    "    def __repr__(self): return str(self)\n",
    "\n",
    "    def copy(self,**kwargs):\n",
    "        h=Hook(self.function,self.phase)\n",
    "        for k,v in kwargs.items(): setattr(h,k,v)\n",
    "        return h\n",
    "        \n",
    "    @classmethod\n",
    "    def ishook(cls,name)->bool:\n",
    "        return not name.startswith('_') and \\\n",
    "          (name.startswith('on_') or name.startswith('after_') or \\\n",
    "           name.startswith('before_') or name.startswith('failed_') or \\\n",
    "           name.startswith('finally_'))"
   ]
  },
  {
   "cell_type": "code",
   "execution_count": 271,
   "id": "cf809852-312c-4ccf-a63f-320df2e46216",
   "metadata": {},
   "outputs": [],
   "source": [
    "def test():pass\n",
    "def test2(_order=4):pass\n",
    "def test3(_phase='valid'):pass"
   ]
  },
  {
   "cell_type": "code",
   "execution_count": 272,
   "id": "15e60f83-66b6-473d-8f98-6a04b49774fe",
   "metadata": {},
   "outputs": [
    {
     "data": {
      "text/plain": [
       "(-1_None_test, 4_None_test2, -1_valid_test3)"
      ]
     },
     "execution_count": 272,
     "metadata": {},
     "output_type": "execute_result"
    }
   ],
   "source": [
    "Hook(test),Hook(test2),Hook(test3)"
   ]
  },
  {
   "cell_type": "code",
   "execution_count": 283,
   "id": "afc0d4f1-fd31-4f1f-b8b9-1ada597f2453",
   "metadata": {},
   "outputs": [],
   "source": [
    "# export\n",
    "def in_phase(hook:Hook,current_phase:str): return hook.phase in [None,current_phase]\n",
    "\n",
    "class Loop(GetAttr):\n",
    "    _default='_base'\n",
    "    phases=None\n",
    "    \n",
    "    def __init__(self,\n",
    "                 inner_loops:Optional[List['Loop']]=None, # Internal `Loop` objects that are called on `indexes` \n",
    "                 cbs:Optional[List['Callback']]=None, # Callbacks to be used for a given `Loop`. These will also be used in internal loops.\n",
    "                 persist_cbs:bool=False, # Whether to review callbacks once a loop ends.\n",
    "                 call_on:List[str]=None, # A list of methods to run this loop on.\n",
    "                 parent:'Loop'=None, # Since loops can be nested, they need to reference the parent loops\n",
    "                 phases:List[str]=None # Phases that a loop supports, for example train,validate,test...\n",
    "                ):\n",
    "        store_attr(but='cbs,inner_loops,call_on,phases')\n",
    "        self.cbs=L()\n",
    "        self.inner_loops=L()\n",
    "        self.call_on=L(call_on)\n",
    "        self.add_objs(L(cbs),self.add_cb)\n",
    "        self.add_objs(L(inner_loops),self.add_loop)\n",
    "        self._base=None\n",
    "        self.__class__.phases=phases\n",
    "        self.__class__.phase=None\n",
    "        \n",
    "    def _grab_objs(self, obj_cls,ls): \n",
    "        return L(o for o in ls if isinstance(o, obj_cls))\n",
    "        \n",
    "    def add_loop(self, loop):\n",
    "        \"Instantiate, add to `self.loops`\"\n",
    "        if isinstance(loop, type):   loop = loop(base_loop=self)\n",
    "        elif loop.parent is None: loop.parent=ifnone(self.parent,self)\n",
    "        self.inner_loops.append(loop)\n",
    "        return self\n",
    "\n",
    "    def remove_loop(self, loop):\n",
    "        \"Instantiate, remove from `self.loops`\"\n",
    "        loop.base_loop=None\n",
    "        if isinstance(loop, type): \n",
    "            self.remove_objs(self._grab_objs(loop,self.inner_loops),self.remove_loop)\n",
    "        else:\n",
    "            if loop in self.inner_loops: self.inner_loops.remove(loop)\n",
    "        return self\n",
    "        \n",
    "    def add_objs(self,objs,adder):\n",
    "        \"add `cbs` to `self`\"\n",
    "        L(objs).map(adder)\n",
    "        return self\n",
    "\n",
    "    def remove_objs(self,objs,remover):\n",
    "        \"rm all `objs` from `self` using `remover`\"\n",
    "        L(objs).map(remover)\n",
    "        return self\n",
    "        \n",
    "    def add_cb(self, cb):\n",
    "        \"Instantiate, set as field in self, set as field in self._default, and add to `self.cbs`\"\n",
    "        if isinstance(cb, type): cb = cb()\n",
    "        setattr(cb,self._default,self)\n",
    "        setattr(self, cb.name, cb)\n",
    "        self.cbs.append(cb)\n",
    "        return self\n",
    "\n",
    "    def remove_cb(self, cb):\n",
    "        \"Instantiate, rm `cb` from self, rm `cb` from self._default, and remove from `self.cbs`\"\n",
    "        if isinstance(cb, type): \n",
    "            self.remove_objs(self._grab_objs(cb,self.cbs),self.remove_cb)\n",
    "        else:\n",
    "            setattr(cb,self._default,None)\n",
    "            if hasattr(self, cb.name): delattr(self, cb.name)\n",
    "            if cb in self.cbs: self.cbs.remove(cb)\n",
    "        return self\n",
    "    \n",
    "    def switch_phase(self,phase): self.phase=phase\n",
    "    \n",
    "    @classmethod\n",
    "    def hooks(cls)->List[Hook]:\n",
    "        hooks=L(Hook(hook) for k,hook in inspect.getmembers(cls) if Hook.ishook(k))\n",
    "        return hooks.sorted()\n",
    "        \n",
    "    def hooks_with_phases(self,phase=None):\n",
    "        hooks=self.hooks()\n",
    "        hooks_with_phases=L()\n",
    "        for phase in L(ifnone(phase,self.phases)):  \n",
    "            hooks_with_phases+=L(Hook(self.switch_phase,phase=phase))\n",
    "            hooks_with_phases+=hooks.filter(in_phase,current_phase=phase).map(Self.copy(phase=phase))\n",
    "            \n",
    "            \n",
    "            return L(hooks_with_phases)"
   ]
  },
  {
   "cell_type": "code",
   "execution_count": 285,
   "id": "535e58f6-3f6d-497f-99f4-3bae4d5cc831",
   "metadata": {},
   "outputs": [],
   "source": [
    "class Outer(Loop):\n",
    "    def before_step(self):  return None\n",
    "    def on_step(self,_order=2):      return None\n",
    "    def after_step(self,_order=3):   return None\n",
    "    def failed_step(self,_order=4):  return None\n",
    "    def finally_step(self,_order=5,_phase='valid'): return None\n",
    "\n",
    "class Inner(Loop):\n",
    "    def before_iteration(self):  return None\n",
    "    def on_iteration(self):      return None\n",
    "    def after_iteration(self):   return None\n",
    "    def failed_iteration(self):  return None\n",
    "    def finally_iteration(self): return None"
   ]
  },
  {
   "cell_type": "code",
   "execution_count": 286,
   "id": "57767d8e-6081-4efc-ae3a-3be587a80957",
   "metadata": {},
   "outputs": [
    {
     "data": {
      "text/plain": [
       "[-1_train_switch_phase,\n",
       " -1_train_before_step,\n",
       " 2_train_on_step,\n",
       " 3_train_after_step,\n",
       " 4_train_failed_step,\n",
       " -1_valid_switch_phase,\n",
       " -1_valid_before_step,\n",
       " 2_valid_on_step,\n",
       " 3_valid_after_step,\n",
       " 4_valid_failed_step,\n",
       " 5_valid_finally_step]"
      ]
     },
     "execution_count": 286,
     "metadata": {},
     "output_type": "execute_result"
    }
   ],
   "source": [
    "loop=Outer(phases=L(['train','valid']),\n",
    "           inner_loops=Inner(call_on=['on_step']))\n",
    "list(loop.hooks_with_phases())"
   ]
  },
  {
   "cell_type": "code",
   "execution_count": 280,
   "id": "d4cf8c0f-1615-4be8-bdf0-47e9df463d20",
   "metadata": {},
   "outputs": [
    {
     "data": {
      "text/plain": [
       "[-1_None_before_step,\n",
       " 2_None_on_step,\n",
       " 3_None_after_step,\n",
       " 4_None_failed_step,\n",
       " 5_valid_finally_step]"
      ]
     },
     "execution_count": 280,
     "metadata": {},
     "output_type": "execute_result"
    }
   ],
   "source": [
    "loop=Outer(inner_loops=Inner())\n",
    "list(loop.hooks())"
   ]
  },
  {
   "cell_type": "code",
   "execution_count": null,
   "id": "13ca25af-5e11-4e9f-92be-6407bef47478",
   "metadata": {},
   "outputs": [],
   "source": [
    "# export\n",
    "class CustomLoop(Loop):pass"
   ]
  },
  {
   "cell_type": "code",
   "execution_count": null,
   "id": "7f419b1b-b27f-46ff-8a72-dea77cdd06bb",
   "metadata": {},
   "outputs": [],
   "source": [
    "# export \n",
    "class CustomCallback()"
   ]
  },
  {
   "cell_type": "code",
   "execution_count": null,
   "id": "current-pilot",
   "metadata": {},
   "outputs": [],
   "source": [
    "# hide\n",
    "from fastcore.imports import in_colab\n",
    "\n",
    "# Since colab still requires tornado<6, we don't want to import nbdev if we don't have to\n",
    "if not in_colab():\n",
    "    from nbdev.export import *\n",
    "    from nbdev.export2html import *\n",
    "    from nbverbose.cli import *\n",
    "    make_readme()\n",
    "    notebook2script()\n",
    "    notebook2html()"
   ]
  }
 ],
 "metadata": {
  "kernelspec": {
   "display_name": "Python 3 (ipykernel)",
   "language": "python",
   "name": "python3"
  },
  "language_info": {
   "codemirror_mode": {
    "name": "ipython",
    "version": 3
   },
   "file_extension": ".py",
   "mimetype": "text/x-python",
   "name": "python",
   "nbconvert_exporter": "python",
   "pygments_lexer": "ipython3",
   "version": "3.8.8"
  }
 },
 "nbformat": 4,
 "nbformat_minor": 5
}
