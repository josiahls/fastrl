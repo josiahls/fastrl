{
 "cells": [
  {
   "cell_type": "code",
   "execution_count": 497,
   "id": "durable-dialogue",
   "metadata": {},
   "outputs": [],
   "source": [
    "#hide\n",
    "#skip\n",
    "%config Completer.use_jedi = False\n",
    "%config IPCompleter.greedy=True\n",
    "# upgrade fastrl on colab\n",
    "! [ -e /content ] && pip install -Uqq fastrl['dev'] pyvirtualdisplay && \\\n",
    "                     apt-get install -y xvfb python-opengl > /dev/null 2>&1 \n",
    "# NOTE: IF YOU SEE VERSION ERRORS, IT IS SAFE TO IGNORE THEM. COLAB IS BEHIND IN SOME OF THE PACKAGE VERSIONS"
   ]
  },
  {
   "cell_type": "code",
   "execution_count": 498,
   "id": "845eef57-00ad-4ca2-95b0-74193296c58b",
   "metadata": {},
   "outputs": [],
   "source": [
    "# default_exp fastai.loop"
   ]
  },
  {
   "cell_type": "code",
   "execution_count": 499,
   "id": "assisted-contract",
   "metadata": {},
   "outputs": [],
   "source": [
    "# export\n",
    "# Python native modules\n",
    "import os,sys,json\n",
    "from copy import deepcopy,copy\n",
    "from typing import *\n",
    "import types\n",
    "import logging\n",
    "import inspect\n",
    "from itertools import chain,product\n",
    "from functools import partial\n",
    "# Third party libs\n",
    "from fastcore.all import *\n",
    "import numpy as np\n",
    "# Local modules\n",
    "from fastrl.core import test_in\n",
    "\n",
    "IN_IPYTHON=False\n",
    "\n",
    "_logger=logging.getLogger(__name__)"
   ]
  },
  {
   "cell_type": "code",
   "execution_count": 500,
   "id": "viral-cambridge",
   "metadata": {},
   "outputs": [],
   "source": [
    "# hide\n",
    "from fastcore.imports import in_colab\n",
    "# Since colab still requires tornado<6, we don't want to import nbdev if we don't have to\n",
    "if not in_colab():\n",
    "    from nbverbose.showdoc import *\n",
    "    from nbdev.imports import *\n",
    "    if not os.environ.get(\"IN_TEST\", None):\n",
    "        assert IN_NOTEBOOK\n",
    "        assert not IN_COLAB\n",
    "        assert IN_IPYTHON\n",
    "else:\n",
    "    # Virutual display is needed for colab\n",
    "    from pyvirtualdisplay import Display\n",
    "    display=Display(visible=0,size=(400,300))\n",
    "    display.start()"
   ]
  },
  {
   "cell_type": "markdown",
   "id": "lesser-innocent",
   "metadata": {},
   "source": [
    "# Loop\n",
    "> fastrl concept of generic loop objects. \n",
    "\n",
    "The goal for Loops is to make it easy to customize, and know how sections of code connects\n",
    "to other parts."
   ]
  },
  {
   "cell_type": "markdown",
   "id": "bd1f19b6-5f50-41e1-86aa-72e0e493298d",
   "metadata": {},
   "source": [
    "Ideally, a loop can consist of inner loops to have a format:\n",
    "```python\n",
    "FitLoop\n",
    "BatchLoop\n",
    "ClassicTrain\n",
    "BatchLoop\n",
    "StepLoop\n",
    "ValidStepLoop\n",
    "```\n",
    "Which might have a structure:\n",
    "```json\n",
    "{\n",
    "\"FitLoop\": [\n",
    "    \"FitLoop (epoch)\": [\n",
    "        \"ClassicTrain (train)\": [\n",
    "            \"BatchLoop (batches)\": [\n",
    "                \"StepLoop (pred)\": [],\n",
    "                \"StepLoop (loss)\": [],\n",
    "                \"StepLoop (backward)\": [],\n",
    "                \"StepLoop (step)\": [],\n",
    "                \"StepLoop (zero_grad)\": []\n",
    "            ]\n",
    "        ],\n",
    "        \"ClassicTrain (valid)\": [\n",
    "            \"BatchLoop (batches)\": [\n",
    "                \"ValidStepLoop (pred)\": [],\n",
    "                \"ValidStepLoop (loss)\": [],\n",
    "            ]\n",
    "        ]\n",
    "    ]\n",
    "}\n",
    "```"
   ]
  },
  {
   "cell_type": "code",
   "execution_count": 501,
   "id": "c6f64010-a0ca-4200-a9a7-17c5f057fe73",
   "metadata": {},
   "outputs": [],
   "source": [
    "# export\n",
    "def map_obj_attr2func_attr(obj,fn):\n",
    "    got_attrs={}\n",
    "    for k,v in inspect.signature(fn).parameters.items():\n",
    "        if k=='self':continue\n",
    "        elif v.default==inspect._empty:\n",
    "            got_attrs[k]=getattr(obj,k)\n",
    "        else:\n",
    "            got_attrs[k]=getattr(obj,k,v.default)\n",
    "    return got_attrs"
   ]
  },
  {
   "cell_type": "code",
   "execution_count": 502,
   "id": "dc563e1c-b9d6-4ec0-adb6-b991ffd3996c",
   "metadata": {},
   "outputs": [
    {
     "data": {
      "text/plain": [
       "{'loss': 0.5}"
      ]
     },
     "execution_count": 502,
     "metadata": {},
     "output_type": "execute_result"
    }
   ],
   "source": [
    "class A():\n",
    "    loss=0.5\n",
    "    \n",
    "a=A()\n",
    "    \n",
    "map_obj_attr2func_attr(a,OuterCallback.before_iteration)"
   ]
  },
  {
   "cell_type": "code",
   "execution_count": 503,
   "id": "e5453067-4073-43dc-8ada-c07eaf833c57",
   "metadata": {},
   "outputs": [],
   "source": [
    "# export\n",
    "EVENT_ORDER_MAPPING={}\n",
    "PREFIXES=['before_','on_','after_','failed_','finally_']\n",
    "\n",
    "def isevent(o): return issubclass(o.__class__,Event)\n",
    "class EventException(Exception):pass\n",
    "def _default_raise(_placeholder): raise\n",
    "def grab_parent_event(o): return o.parent_event\n",
    "\n",
    "class KwargSetAttr(object):\n",
    "    def __setattr__(self,name,value):\n",
    "        \"Allow setting attrs via kwarg.\"\n",
    "        super().__setattr__(name,value)\n",
    "\n",
    "class Events(KwargSetAttr,L):\n",
    "    def __init__(self,items=None,postfix=None,prefix=None,item_iter_hint='prefix',\n",
    "                 order=0,parent_event=None,*args,**kwargs):\n",
    "        store_attr(but='items')\n",
    "        super().__init__(items=items,*args,**kwargs)\n",
    "        \n",
    "    def flat(self):\n",
    "        return Events(chain.from_iterable(self),\n",
    "                      postfix=self.postfix,prefix=self.prefix,\n",
    "                      item_iter_hint=self.item_iter_hint,order=self.order,\n",
    "                      parent_event=self.parent_event)\n",
    "\n",
    "    def __lt__(self,o:'Event'): return self.order<o.order    \n",
    "    def todict(self): \n",
    "        return {getattr(o,self.item_iter_hint):o for o in self}\n",
    "    \n",
    "    def __repr__(self): \n",
    "        if len(self)==0: return super().__repr__()\n",
    "        return '['+'\\n'.join([str(o) for o in self])+']'\n",
    "    def run(self):\n",
    "        for o in self: o.run()                                                  # fastrl.skip_traceback\n",
    "\n",
    "class Event(KwargSetAttr):\n",
    "    def __init__(self,\n",
    "                 function:Callable,\n",
    "                 loop=None,\n",
    "                 override_name=None,\n",
    "                 override_qualname=None,\n",
    "                 override_module=None,\n",
    "                 order=None\n",
    "                ):\n",
    "        store_attr()\n",
    "        if self.function==noop and self.prefix=='failed_':\n",
    "            self.function=_default_raise\n",
    "        # We set the order over the entire Loop definition\n",
    "        if self.order is None:\n",
    "            if self.outer_name not in EVENT_ORDER_MAPPING: self.order=1\n",
    "            else: self.order=EVENT_ORDER_MAPPING[self.outer_name]\n",
    "            EVENT_ORDER_MAPPING[self.outer_name]=self.order+1\n",
    "\n",
    "        # self.original_name=self.function.__module__+'.'+self.function.__qualname__\n",
    "            \n",
    "        if self.name.startswith('_') or not any(self.name.startswith(pre) for pre in PREFIXES):\n",
    "            raise EventException(f'{self.name} needs to start with any {PREFIXES}')\n",
    "            \n",
    "        self.cbs=L()\n",
    "        \n",
    "    def climb(self):\n",
    "        \"Returns a generator that moves up to the parent/root event\"\n",
    "        if self.loop is not None:\n",
    "            yield from self.loop.climb()\n",
    "            \n",
    "    @property\n",
    "    def level(self): return len(list(self.climb()))\n",
    "        \n",
    "    @classmethod\n",
    "    def from_override_name(cls,name,**kwargs):\n",
    "        return cls(noop,override_name=name,**kwargs)\n",
    "  \n",
    "    def init_cbs(self):\n",
    "        \"Look at the cbs in the `parent_loop` and add them to `self`\"\n",
    "        cbs=L(self.climb())[-1].cbs\n",
    "        # parent_events=[self.name]+[o.parent_event.name for o in self.climb() if o.parent_event is not None]\n",
    "        parent_events=[self.qualname]+L(self.climb())\\\n",
    "                                   .map(grab_parent_event)\\\n",
    "                                   .filter(ifnone,b=False)\\\n",
    "                                   .map(Self.qualname())\n",
    "        # Check if the callback has an event relevent to self\n",
    "        for cb in L(cbs):\n",
    "            if hasattr(cb,self.name):\n",
    "                if not cb.call_on or any(o.qualname in parent_events for o in cb.call_on):\n",
    "                    self.cbs.append(cb)\n",
    "        \n",
    "    @property\n",
    "    def root_loop(self): return list(self.climb())[-1]\n",
    "    def __call__(self,*args,**kwargs): \n",
    "        ret=self.function(self.loop,*args,**kwargs)                             # fastrl.skip_traceback\n",
    "        for cb in self.cbs: \n",
    "            fn=getattr(cb,self.name)\n",
    "            params=map_obj_attr2func_attr(self.root_loop,fn)\n",
    "            \n",
    "            cb_ret=fn(**params)\n",
    "            \n",
    "            if isinstance(cb_ret,dict):\n",
    "                loop=self.root_loop\n",
    "                for k,v in cb_ret.items(): setattr(loop,k,v)\n",
    "            \n",
    "        return ret\n",
    "\n",
    "    def __lt__(self,o:'Event'): return self.order<o.order\n",
    "    @property\n",
    "    def name(self): return ifnone(self.override_name,self.function.__name__)\n",
    "    @property\n",
    "    def module(self): return ifnone(self.override_module,self.function.__module__)\n",
    "    @property\n",
    "    def qualname(self): return ifnone(self.override_qualname,self.function.__qualname__)\n",
    "    @property\n",
    "    def prefix(self): return self.name.split('_')[0]+'_'\n",
    "    @property\n",
    "    def postfix(self): return '_'.join(self.name.split('_')[1:])\n",
    "    @property\n",
    "    def outer_name(self): return self.module+'.'+self.qualname.split('.')[0]\n",
    "    @property\n",
    "    def original_name(self): \n",
    "        return self.function.__module__+'.'+self.function.__qualname__\n",
    "    \n",
    "    def __repr__(self): return self.module+'.'+self.name\n",
    "    def with_inner(self):\n",
    "        return (self,Events(postfix=self.postfix,\n",
    "                            prefix=self.prefix+'inner',\n",
    "                            order=self.order))\n",
    "\n",
    "event=Event"
   ]
  },
  {
   "cell_type": "code",
   "execution_count": 504,
   "id": "5103c4a5-7202-4b02-84d2-22aa39040a48",
   "metadata": {},
   "outputs": [],
   "source": [
    "# export\n",
    "class Loops(L):\n",
    "    def run(self):\n",
    "        for o in self: o.run()                                                  # fastrl.skip_traceback\n",
    "\n",
    "class Loop(object):\n",
    "    def __init__(self,cbs:L=None,verbose:bool=False):\n",
    "        store_attr()\n",
    "        # When a loop is initialized, we need to make sure that the events\n",
    "        # are re-initialized also\n",
    "        events(self,reset=True)\n",
    "        \n",
    "        self.parent_loop=None\n",
    "        self.parent_event=None\n",
    "        \n",
    "        _events=Events(inspect.getmembers(self)).map(Self[-1]).filter(isevent).sorted()\n",
    "        # print(Events(inspect.getmembers(self)).map(Self[-1]))\n",
    "        # 1. Make Events have the same module as the function being run\n",
    "        # 2. Convert the Events to Events+Inner Events\n",
    "        # 3. Convert [(Event,[]*inner events*)...] to [Event,[]*inner events*...]\n",
    "        # 4. Sure they are sorted correctly\n",
    "        self.default_events=Events(PREFIXES)\\\n",
    "            .map(Event.from_override_name,override_module=_events[0].module)\\\n",
    "            .map(Event.with_inner)\\\n",
    "            .flat()\\\n",
    "            .sorted()                                                           \n",
    "        self.events=_events.sorted().map(Event.with_inner).flat().sorted()\n",
    "        self.events.map(Event.__setattr__,name='loop',value=self)\n",
    "        self.sections=groupby(self.events,Self.postfix())\n",
    "        for k,v in self.sections.items():\n",
    "            self.sections[k]=merge(self.default_events.map(copy).todict(),\n",
    "                                   Events(v).todict())\n",
    "            \n",
    "        \n",
    "    def copy(self): \n",
    "        \n",
    "        return self.__class__()\n",
    "    \n",
    "    \n",
    "    def climb(self):\n",
    "        \"Returns a generator that moves up to the parent/root event\"\n",
    "        yield self\n",
    "        if self.parent_loop is not None:\n",
    "            yield from self.parent_loop.climb()\n",
    "            \n",
    "    def run(self):\n",
    "        try:                                                                    # fastrl.skip_traceback\n",
    "            for v in self.sections.values(): run_section(v)                     # fastrl.skip_traceback\n",
    "        except Exception as e:\n",
    "            e._show_loop_errors=self.verbose\n",
    "            raise\n",
    "    "
   ]
  },
  {
   "cell_type": "code",
   "execution_count": 505,
   "id": "41cd50bb-2648-4ff8-b01c-35be10639559",
   "metadata": {},
   "outputs": [],
   "source": [
    "# export\n",
    "class _Events():\n",
    "    def __call__(self,loop,reset=False):\n",
    "        # Handle types/instances...\n",
    "        if isinstance(loop,type): attrs=loop.__dict__.items()  \n",
    "        else:                     attrs=inspect.getmembers(loop)\n",
    "        \n",
    "        for k,v in attrs:\n",
    "            if not callable(v): continue\n",
    "            if any(k.startswith(s) for s in PREFIXES):\n",
    "                if not isevent(v): setattr(loop,k,Event(v))\n",
    "                if isevent(v) and reset: setattr(loop,k,Event(v.function))\n",
    "        return loop\n",
    "        \n",
    "events=_Events()"
   ]
  },
  {
   "cell_type": "code",
   "execution_count": 506,
   "id": "cdae5eab-d828-48f3-8ce8-fc05b814becf",
   "metadata": {},
   "outputs": [],
   "source": [
    "@events\n",
    "class A(Loop):\n",
    "    def on_step(self): print('on_step')\n",
    "    "
   ]
  },
  {
   "cell_type": "markdown",
   "id": "3f39d3c8-e045-4d6b-954c-876b1af7c557",
   "metadata": {},
   "source": [
    "Check that we can re-initialize `A` and that the `Event`s also reinitialize. "
   ]
  },
  {
   "cell_type": "code",
   "execution_count": 507,
   "id": "1165c82e-e88d-4e41-8541-77686c64a949",
   "metadata": {},
   "outputs": [],
   "source": [
    "a=A()\n",
    "other_a=A()\n",
    "test_ne(id(a.on_step),id(other_a.on_step))\n",
    "test_eq_type(a.on_step.loop,a)\n",
    "a_copy=a.copy()\n",
    "test_eq_type(a.on_step.loop,a)"
   ]
  },
  {
   "cell_type": "code",
   "execution_count": 508,
   "id": "f3b0c785-3c05-4049-b877-4b3d57f2368a",
   "metadata": {},
   "outputs": [],
   "source": [
    "@events\n",
    "class Outer(Loop):\n",
    "    def before_step(self) :  print('before_step')\n",
    "    def on_step(self)     :  print('on_step')\n",
    "    def after_step(self)  :  print('after_step')\n",
    "    def failed_step(self) :  print('failed_step')\n",
    "    def finally_step(self):  print('finally_step')\n",
    " \n",
    "    def before_jump(self) :  print('before_jump')\n",
    "    def on_jump(self)     :  print('on_jump')\n",
    "    def after_jump(self)  :  print('after_jump')\n",
    "    def failed_jump(self) :  print('failed_jump')\n",
    "    def finally_jump(self):  print('finally_jump')\n",
    "\n",
    "class Inner(Loop):\n",
    "    call_on=L(Outer.on_step,Outer.after_step,Outer.finally_jump)\n",
    "    \n",
    "    @event\n",
    "    def before_iteration(self) : print('before_iteration')\n",
    "    @event\n",
    "    def on_iteration(self)     : print('on_iteration')\n",
    "    @event\n",
    "    def after_iteration(self)  : print('after_iteration')\n",
    "    @event\n",
    "    def failed_iteration(self) : print('failed_iteration')\n",
    "    @event\n",
    "    def finally_iteration(self): print('finally_iteration')\n",
    "\n",
    "class FailingInner(Loop):\n",
    "    call_on=L(Inner.finally_iteration)\n",
    "    \n",
    "    @event\n",
    "    def on_force_fail(self):                    \n",
    "        print('on_force_fail')\n",
    "        raise Exception"
   ]
  },
  {
   "cell_type": "code",
   "execution_count": 509,
   "id": "3c6bcc5e-4b59-4392-a72a-f94201839a99",
   "metadata": {},
   "outputs": [],
   "source": [
    "# export\n",
    "def run_section(section:Dict):\n",
    "    try:\n",
    "        section['before_']()\n",
    "        section['before_inner'].run()                                           # fastrl.skip_traceback\n",
    "        section['on_']()\n",
    "        section['on_inner'].run()\n",
    "        section['after_']()\n",
    "        section['after_inner'].run()                                            # fastrl.skip_traceback\n",
    "    except Exception as ex:\n",
    "        try:     \n",
    "            section['failed_']()                                                # fastrl.skip_traceback\n",
    "            raise\n",
    "        finally: \n",
    "            section['failed_inner'].run()                                       # fastrl.skip_traceback\n",
    "    finally:\n",
    "        section['finally_']()\n",
    "        section['finally_inner'].run()                                          # fastrl.skip_traceback"
   ]
  },
  {
   "cell_type": "code",
   "execution_count": 510,
   "id": "1c30245c-97e9-4d05-9cc0-528304e1a893",
   "metadata": {},
   "outputs": [],
   "source": [
    "# export\n",
    "def eq_loops(a:Loop,b:Loop): return a.__class__==b.__class__\n",
    "\n",
    "@with_cast\n",
    "def connect_loops2loop(loops:Loops,to_loop):\n",
    "    # Given `to_loop`, generate some fresh `loops`...\n",
    "    loops=loops.map(Self.copy())\n",
    "    to_events=to_loop.events.filter(isevent).map(Self.original_name()) \n",
    "    for from_loop in loops.filter(eq_loops,b=to_loop,negate=True):\n",
    "        for call_on in from_loop.call_on:\n",
    "            if call_on.original_name in to_events:\n",
    "                _from_loop=from_loop.copy()\n",
    "                \n",
    "                _from_loop.parent_event=to_loop.sections[call_on.postfix][call_on.prefix]\n",
    "                _from_loop.parent_loop=to_loop\n",
    "                \n",
    "                _from_loop.events.filter(isevent).map(Self.init_cbs())\n",
    "\n",
    "                to_loop.sections[call_on.postfix][call_on.prefix+'inner'].extend([_from_loop])\n",
    "                connect_loops2loop(loops,_from_loop)\n",
    "    return to_loop"
   ]
  },
  {
   "cell_type": "markdown",
   "id": "4c34a03f-8919-45ba-b574-9bc4e6c6b76b",
   "metadata": {},
   "source": [
    "Check that a single loop connects to the parent..."
   ]
  },
  {
   "cell_type": "code",
   "execution_count": 511,
   "id": "d78bf0c8-60b6-480d-80a5-0838f89228e8",
   "metadata": {},
   "outputs": [],
   "source": [
    "@events\n",
    "class A(Loop):\n",
    "    def on_step(self): print('on_step')\n",
    "    \n",
    "@events\n",
    "class B(Loop):\n",
    "    call_on=L(A.on_step)\n",
    "    def on_event(self): print('on_event')\n",
    "    \n",
    "@events\n",
    "class C(Loop):\n",
    "    call_on=L(B.on_event)\n",
    "    def on_second_step(self): print('on_second_step')"
   ]
  },
  {
   "cell_type": "markdown",
   "id": "f4ced1c6-7bd7-4038-922d-8f76d4155020",
   "metadata": {},
   "source": [
    "Check that the parent loop does not reference any non-existant parents. We also\n",
    "expect it to have 1 section (on_step)."
   ]
  },
  {
   "cell_type": "code",
   "execution_count": 512,
   "id": "33e06d66-caef-4203-beb7-1206839e2334",
   "metadata": {},
   "outputs": [],
   "source": [
    "a_instance=connect_loops2loop((B(),C()),A())\n",
    "test_eq(a_instance.parent_loop,None)\n",
    "test_eq(a_instance.parent_event,None)\n",
    "test_eq(a_instance.on_step.root_loop,a_instance)\n",
    "test_eq(len(a_instance.sections),1)"
   ]
  },
  {
   "cell_type": "markdown",
   "id": "a3992017-ec7b-4f97-9d34-4dcf084835e3",
   "metadata": {},
   "source": [
    "Check that the inner B loop properly references A, as well as the parent event `on_step`"
   ]
  },
  {
   "cell_type": "code",
   "execution_count": 515,
   "id": "36e9b2e5-5d23-45df-b27b-0985c556311b",
   "metadata": {},
   "outputs": [],
   "source": [
    "b_instance=a_instance.sections['step']['on_inner'][0]\n",
    "test_eq_type(b_instance.__class__,B)\n",
    "test_eq(b_instance.parent_loop,a_instance)\n",
    "test_eq(b_instance.parent_event,a_instance.on_step)\n",
    "test_eq(id(b_instance.on_event.loop),id(b_instance))\n",
    "test_eq(b_instance.on_event.loop.parent_loop,a_instance)\n",
    "test_eq(b_instance.on_event.root_loop,a_instance)\n",
    "test_eq(len(b_instance.sections),1)"
   ]
  },
  {
   "cell_type": "markdown",
   "id": "6be1e0bc-2e81-4698-8319-3f51aca5a4d1",
   "metadata": {},
   "source": [
    "Check that the inner C loop properly references B, as well as the parent event `on_event`.\n",
    "We also should expect the root_loop to still be the a_instance."
   ]
  },
  {
   "cell_type": "code",
   "execution_count": 534,
   "id": "003c1a43-756d-4c6d-b4fe-6506020ec4ac",
   "metadata": {},
   "outputs": [],
   "source": [
    "c_instance=b_instance.sections['event']['on_inner'][0]\n",
    "test_eq_type(c_instance.__class__,C)\n",
    "test_eq(c_instance.parent_loop,b_instance)\n",
    "test_eq(c_instance.parent_event,b_instance.on_event)\n",
    "test_eq(id(c_instance.on_second_step.loop),id(c_instance))\n",
    "test_eq(c_instance.on_second_step.loop.parent_loop,b_instance)\n",
    "test_eq(c_instance.on_second_step.root_loop,a_instance)\n",
    "test_eq(len(c_instance.sections),1)"
   ]
  },
  {
   "cell_type": "code",
   "execution_count": 535,
   "id": "6ee6af60-2ddb-4de7-acc8-54619a703dec",
   "metadata": {},
   "outputs": [],
   "source": [
    "sections=connect_loops2loop(Loops(FailingInner(),Inner()),Outer()).sections"
   ]
  },
  {
   "cell_type": "code",
   "execution_count": 536,
   "id": "36585e78-3d3d-43be-83cc-f8a5d9a459c6",
   "metadata": {},
   "outputs": [],
   "source": [
    "# export\n",
    "def dict2loops(d):\n",
    "    if isinstance(d,dict):\n",
    "        for o in d.values():\n",
    "            yield from dict2loops(o)\n",
    "    elif isinstance(d,(Loops,Events)):\n",
    "        for o in d:\n",
    "            yield from dict2loops(o) \n",
    "    elif issubclass(d.__class__,Loop):\n",
    "        yield d\n",
    "        yield from dict2loops(d.sections)\n",
    "        \n",
    "def dict2events(d):\n",
    "    if isinstance(d,dict):\n",
    "        for o in d.values():\n",
    "            yield from dict2events(o)\n",
    "    elif isinstance(d,(Loops,Events)):\n",
    "        for o in d:\n",
    "            yield from dict2events(o) \n",
    "    elif issubclass(d.__class__,Loop):\n",
    "        yield from dict2events(d.sections)\n",
    "    elif issubclass(d.__class__,Event):\n",
    "        yield d"
   ]
  },
  {
   "cell_type": "code",
   "execution_count": 537,
   "id": "0fb5b5ce-5718-4a02-ad56-add422ce3af3",
   "metadata": {},
   "outputs": [
    {
     "data": {
      "text/plain": [
       "[<__main__.Outer at 0x7f742e0f5bb0>,\n",
       " <__main__.Outer at 0x7f742e0f5bb0>,\n",
       " <__main__.Outer at 0x7f742e0f5bb0>,\n",
       " <__main__.Outer at 0x7f742e0f5bb0>,\n",
       " <__main__.Outer at 0x7f742e0f5bb0>,\n",
       " <__main__.Outer at 0x7f742e0f5bb0>,\n",
       " <__main__.Outer at 0x7f742e0f5bb0>,\n",
       " <__main__.Outer at 0x7f742e0f5bb0>,\n",
       " <__main__.Outer at 0x7f742e0f5bb0>,\n",
       " <__main__.Outer at 0x7f742e0f5bb0>,\n",
       " <__main__.Outer at 0x7f742e0f5bb0>,\n",
       " <__main__.Outer at 0x7f742e0f5bb0>,\n",
       " <__main__.Outer at 0x7f742e0f5bb0>,\n",
       " <__main__.Outer at 0x7f742e0f5bb0>,\n",
       " <__main__.Outer at 0x7f742e0f5bb0>,\n",
       " <__main__.Outer at 0x7f742e0f5bb0>,\n",
       " <__main__.Outer at 0x7f742e0f5bb0>,\n",
       " <__main__.Outer at 0x7f742e0f5bb0>,\n",
       " <__main__.Outer at 0x7f742e0f5bb0>,\n",
       " <__main__.Outer at 0x7f742e0f5bb0>,\n",
       " <__main__.Outer at 0x7f742e0f5bb0>,\n",
       " <__main__.Outer at 0x7f742e0f5bb0>,\n",
       " <__main__.Outer at 0x7f742e0f5bb0>,\n",
       " <__main__.Outer at 0x7f742e0f5bb0>,\n",
       " <__main__.Outer at 0x7f742e0f5bb0>,\n",
       " <__main__.Outer at 0x7f742e0f5bb0>,\n",
       " <__main__.Outer at 0x7f742e0f5bb0>,\n",
       " <__main__.Outer at 0x7f742e0f5bb0>]"
      ]
     },
     "execution_count": 537,
     "metadata": {},
     "output_type": "execute_result"
    }
   ],
   "source": [
    "list(L(dict2events(sections)).map(Self.climb()).map(L).filter().map(Self[-1]))"
   ]
  },
  {
   "cell_type": "code",
   "execution_count": 540,
   "id": "b4c4c7a8-0874-4420-83b6-e2347b1a4eef",
   "metadata": {},
   "outputs": [],
   "source": [
    "# export\n",
    "class CallbackException(Exception):pass\n",
    "\n",
    "class Callback(object):\n",
    "    call_on,loop=None,None\n",
    "    \n",
    "    @property\n",
    "    def root(self): return loop.root_loop"
   ]
  },
  {
   "cell_type": "code",
   "execution_count": 541,
   "id": "796b8dc6-9efd-4fae-bbe6-3b223a606e6c",
   "metadata": {},
   "outputs": [],
   "source": [
    "class OuterCallback(Callback):\n",
    "    call_on=L(Outer.on_step)\n",
    "\n",
    "    def before_iteration(self,loss:int)->dict(this=list,that=str):\n",
    "        print('   OuterCallback called lol')"
   ]
  },
  {
   "cell_type": "code",
   "execution_count": 542,
   "id": "585edc1a-b052-4eb5-8223-6968f75a3231",
   "metadata": {},
   "outputs": [],
   "source": [
    "# export\n",
    "def map_obj_attr2func_attr(obj,fn):\n",
    "    got_attrs={}\n",
    "    for k,v in inspect.signature(fn).parameters.items():\n",
    "        if k=='self':continue\n",
    "        elif v.default==inspect._empty:\n",
    "            got_attrs[k]=getattr(obj,k)\n",
    "        else:\n",
    "            got_attrs[k]=getattr(obj,k,v.default)\n",
    "    return got_attrs"
   ]
  },
  {
   "cell_type": "code",
   "execution_count": 543,
   "id": "e84e6783-e4f6-4675-9a46-8cbdc9b50e9b",
   "metadata": {},
   "outputs": [
    {
     "data": {
      "text/plain": [
       "{'loss': 0.5}"
      ]
     },
     "execution_count": 543,
     "metadata": {},
     "output_type": "execute_result"
    }
   ],
   "source": [
    "class A():\n",
    "    loss=0.5\n",
    "    \n",
    "a=A()\n",
    "    \n",
    "map_obj_attr2func_attr(a,OuterCallback.before_iteration)"
   ]
  },
  {
   "cell_type": "code",
   "execution_count": 544,
   "id": "090dbaa8-80e5-4caa-80b9-f48fdd7f606c",
   "metadata": {},
   "outputs": [
    {
     "data": {
      "text/plain": [
       "{'jump': {'failed_': __main__.failed_jump,\n",
       "  'failed_inner': [],\n",
       "  'before_': __main__.before_jump,\n",
       "  'before_inner': [],\n",
       "  'on_': __main__.on_jump,\n",
       "  'on_inner': [],\n",
       "  'after_': __main__.after_jump,\n",
       "  'after_inner': [],\n",
       "  'finally_': __main__.finally_jump,\n",
       "  'finally_inner': [<__main__.Inner object at 0x7f742ca7eb80>]},\n",
       " 'step': {'failed_': __main__.failed_step,\n",
       "  'failed_inner': [],\n",
       "  'before_': __main__.before_step,\n",
       "  'before_inner': [],\n",
       "  'on_': __main__.on_step,\n",
       "  'on_inner': [<__main__.Inner object at 0x7f742cb02ac0>],\n",
       "  'after_': __main__.after_step,\n",
       "  'after_inner': [<__main__.Inner object at 0x7f742cb6cf70>],\n",
       "  'finally_': __main__.finally_step,\n",
       "  'finally_inner': []}}"
      ]
     },
     "execution_count": 544,
     "metadata": {},
     "output_type": "execute_result"
    }
   ],
   "source": [
    "connect_loops2loop(Loops(FailingInner(),Inner()),Outer(cbs=OuterCallback())).sections"
   ]
  },
  {
   "cell_type": "code",
   "execution_count": 545,
   "id": "3ee5f734-3931-4f32-aa89-2e1f0ec028eb",
   "metadata": {},
   "outputs": [
    {
     "data": {
      "text/plain": [
       "(#0) []"
      ]
     },
     "execution_count": 545,
     "metadata": {},
     "output_type": "execute_result"
    }
   ],
   "source": [
    "connect_loops2loop(Loops(FailingInner(),Inner()),Outer()).sections['step']['on_inner'][0].sections['iteration']['before_'].cbs"
   ]
  },
  {
   "cell_type": "code",
   "execution_count": 528,
   "id": "71eb955a-7a2b-45f8-8ab9-c3708fa89976",
   "metadata": {},
   "outputs": [
    {
     "data": {
      "text/plain": [
       "{'iteration': {'failed_': __main__.failed_iteration,\n",
       "  'failed_inner': [],\n",
       "  'before_': __main__.before_iteration,\n",
       "  'before_inner': [],\n",
       "  'on_': __main__.on_iteration,\n",
       "  'on_inner': [],\n",
       "  'after_': __main__.after_iteration,\n",
       "  'after_inner': [],\n",
       "  'finally_': __main__.finally_iteration,\n",
       "  'finally_inner': [<__main__.FailingInner object at 0x7f742ce55730>]}}"
      ]
     },
     "execution_count": 528,
     "metadata": {},
     "output_type": "execute_result"
    }
   ],
   "source": [
    "connect_loops2loop(FailingInner(),Inner()).sections"
   ]
  },
  {
   "cell_type": "code",
   "execution_count": 529,
   "id": "075878dd-51ca-47c8-a351-1cc5344a2fb3",
   "metadata": {},
   "outputs": [],
   "source": [
    "# export\n",
    "def _skip_traceback(s):\n",
    "    return in_('# fastrl.skip_traceback',s)\n",
    "    \n",
    "def ipy_handle_exception(self, etype, value, tb, tb_offset):\n",
    "    ## Do something fancy\n",
    "    stb = self.InteractiveTB.structured_traceback(etype,value,tb,tb_offset=tb_offset)\n",
    "    if not getattr(value,'_show_loop_errors',True):\n",
    "        tmp,idxs=[],L(stb).argwhere(_skip_traceback)\n",
    "        prev_skipped_idx=idxs[0] if idxs else 0\n",
    "        for i,s in enumerate(stb):\n",
    "            if i in idxs and i-1!=prev_skipped_idx: \n",
    "                msg='Skipped Loop Code due to # fastrl.skip_traceback found in source code,'\n",
    "                msg+=' please use Loop(...verbose=True) to view loop tracebacks\\n'\n",
    "                tmp.append(msg)\n",
    "            if i not in idxs:\n",
    "                tmp.append(s)\n",
    "            else:\n",
    "                prev_skipped_idx=i\n",
    "        stb=tmp\n",
    "    ## Do something fancy\n",
    "    self._showtraceback(type, value, stb)\n",
    "\n",
    "if IN_IPYTHON:\n",
    "    get_ipython().set_custom_exc((Exception,),ipy_handle_exception)\n",
    "    "
   ]
  },
  {
   "cell_type": "code",
   "execution_count": 530,
   "id": "ad6d7467-4a11-43b8-bd48-a2c6d73f1494",
   "metadata": {},
   "outputs": [],
   "source": [
    "if False: Outer(verbose=False).run(L(Inner(),FailingInner()),OuterCallback())"
   ]
  },
  {
   "cell_type": "code",
   "execution_count": 531,
   "id": "a67c86cf-07f9-4848-ab48-2e3b1261f52a",
   "metadata": {},
   "outputs": [],
   "source": [
    "if False: Outer(verbose=True).run(L(Inner(),FailingInner()),OuterCallback())"
   ]
  },
  {
   "cell_type": "code",
   "execution_count": 532,
   "id": "14f20abd-478d-4050-86fd-722a44354ac7",
   "metadata": {},
   "outputs": [
    {
     "name": "stdout",
     "output_type": "stream",
     "text": [
      "before_jump\n",
      "on_jump\n",
      "after_jump\n",
      "finally_jump\n",
      "before_iteration\n",
      "on_iteration\n",
      "after_iteration\n",
      "finally_iteration\n",
      "on_force_fail\n"
     ]
    },
    {
     "ename": "type",
     "evalue": "",
     "output_type": "error",
     "traceback": [
      "\u001b[0;31m---------------------------------------------------------------------------\u001b[0m",
      "\u001b[0;31mException\u001b[0m                                 Traceback (most recent call last)",
      "\u001b[0;32m/tmp/ipykernel_130/3981439109.py\u001b[0m in \u001b[0;36m<module>\u001b[0;34m\u001b[0m\n\u001b[0;32m----> 1\u001b[0;31m \u001b[0mconnect_loops2loop\u001b[0m\u001b[0;34m(\u001b[0m\u001b[0mLoops\u001b[0m\u001b[0;34m(\u001b[0m\u001b[0mFailingInner\u001b[0m\u001b[0;34m(\u001b[0m\u001b[0;34m)\u001b[0m\u001b[0;34m,\u001b[0m\u001b[0mInner\u001b[0m\u001b[0;34m(\u001b[0m\u001b[0;34m)\u001b[0m\u001b[0;34m)\u001b[0m\u001b[0;34m,\u001b[0m\u001b[0mOuter\u001b[0m\u001b[0;34m(\u001b[0m\u001b[0mcbs\u001b[0m\u001b[0;34m=\u001b[0m\u001b[0mOuterCallback\u001b[0m\u001b[0;34m(\u001b[0m\u001b[0;34m)\u001b[0m\u001b[0;34m)\u001b[0m\u001b[0;34m)\u001b[0m\u001b[0;34m.\u001b[0m\u001b[0mrun\u001b[0m\u001b[0;34m(\u001b[0m\u001b[0;34m)\u001b[0m\u001b[0;34m\u001b[0m\u001b[0;34m\u001b[0m\u001b[0m\n\u001b[0m",
      "Skipped Loop Code due to # fastrl.skip_traceback found in source code, please use Loop(...verbose=True) to view loop tracebacks\n",
      "\u001b[0;32m/tmp/ipykernel_130/490998065.py\u001b[0m in \u001b[0;36mon_force_fail\u001b[0;34m(self)\u001b[0m\n\u001b[1;32m     33\u001b[0m     \u001b[0;32mdef\u001b[0m \u001b[0mon_force_fail\u001b[0m\u001b[0;34m(\u001b[0m\u001b[0mself\u001b[0m\u001b[0;34m)\u001b[0m\u001b[0;34m:\u001b[0m\u001b[0;34m\u001b[0m\u001b[0;34m\u001b[0m\u001b[0m\n\u001b[1;32m     34\u001b[0m         \u001b[0mprint\u001b[0m\u001b[0;34m(\u001b[0m\u001b[0;34m'on_force_fail'\u001b[0m\u001b[0;34m)\u001b[0m\u001b[0;34m\u001b[0m\u001b[0;34m\u001b[0m\u001b[0m\n\u001b[0;32m---> 35\u001b[0;31m         \u001b[0;32mraise\u001b[0m \u001b[0mException\u001b[0m\u001b[0;34m\u001b[0m\u001b[0;34m\u001b[0m\u001b[0m\n\u001b[0m",
      "\u001b[0;31mException\u001b[0m: "
     ]
    }
   ],
   "source": [
    "connect_loops2loop(Loops(FailingInner(),Inner()),Outer(cbs=OuterCallback())).run()"
   ]
  },
  {
   "cell_type": "code",
   "execution_count": null,
   "id": "a700536e-83d4-4ca9-be27-a2f1be963199",
   "metadata": {},
   "outputs": [],
   "source": [
    "with ExceptionExpected():\n",
    "    connect_loops2loop(Loops(FailingInner(),Inner()),Outer()).run()"
   ]
  },
  {
   "cell_type": "code",
   "execution_count": null,
   "id": "275fa8c3-fd00-4175-928a-8767dea82dca",
   "metadata": {},
   "outputs": [],
   "source": [
    "# hide\n",
    "from fastcore.imports import in_colab\n",
    "\n",
    "# Since colab still requires tornado<6, we don't want to import nbdev if we don't have to\n",
    "if not in_colab():\n",
    "    from nbdev.export import *\n",
    "    from nbdev.export2html import *\n",
    "    from nbverbose.cli import *\n",
    "    make_readme()\n",
    "    notebook2script()\n",
    "    notebook2html()"
   ]
  },
  {
   "cell_type": "code",
   "execution_count": null,
   "id": "b2f6a4be-eae2-427e-8e44-5045582e4089",
   "metadata": {},
   "outputs": [],
   "source": []
  }
 ],
 "metadata": {
  "kernelspec": {
   "display_name": "Python 3 (ipykernel)",
   "language": "python",
   "name": "python3"
  },
  "language_info": {
   "codemirror_mode": {
    "name": "ipython",
    "version": 3
   },
   "file_extension": ".py",
   "mimetype": "text/x-python",
   "name": "python",
   "nbconvert_exporter": "python",
   "pygments_lexer": "ipython3",
   "version": "3.8.8"
  }
 },
 "nbformat": 4,
 "nbformat_minor": 5
}
