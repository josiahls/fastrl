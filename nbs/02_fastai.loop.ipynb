{
 "cells": [
  {
   "cell_type": "code",
   "execution_count": 4,
   "id": "durable-dialogue",
   "metadata": {},
   "outputs": [],
   "source": [
    "#hide\n",
    "#skip\n",
    "%config Completer.use_jedi = False\n",
    "# upgrade fastrl on colab\n",
    "! [ -e /content ] && pip install -Uqq fastrl['dev'] pyvirtualdisplay && \\\n",
    "                     apt-get install -y xvfb python-opengl > /dev/null 2>&1 \n",
    "# NOTE: IF YOU SEE VERSION ERRORS, IT IS SAFE TO IGNORE THEM. COLAB IS BEHIND IN SOME OF THE PACKAGE VERSIONS"
   ]
  },
  {
   "cell_type": "code",
   "execution_count": 5,
   "id": "viral-cambridge",
   "metadata": {},
   "outputs": [],
   "source": [
    "# hide\n",
    "from fastcore.imports import in_colab\n",
    "# Since colab still requires tornado<6, we don't want to import nbdev if we don't have to\n",
    "if not in_colab():\n",
    "    from nbverbose.showdoc import *\n",
    "    from nbdev.imports import *\n",
    "    if not os.environ.get(\"IN_TEST\", None):\n",
    "        assert IN_NOTEBOOK\n",
    "        assert not IN_COLAB\n",
    "        assert IN_IPYTHON\n",
    "else:\n",
    "    # Virutual display is needed for colab\n",
    "    from pyvirtualdisplay import Display\n",
    "    display=Display(visible=0,size=(400,300))\n",
    "    display.start()"
   ]
  },
  {
   "cell_type": "code",
   "execution_count": 6,
   "id": "offshore-stuart",
   "metadata": {},
   "outputs": [],
   "source": [
    "# default_exp fastai.loop"
   ]
  },
  {
   "cell_type": "code",
   "execution_count": 7,
   "id": "assisted-contract",
   "metadata": {},
   "outputs": [],
   "source": [
    "# export\n",
    "# Python native modules\n",
    "import os,sys\n",
    "from copy import deepcopy,copy\n",
    "from typing import *\n",
    "import types\n",
    "import logging\n",
    "import inspect\n",
    "# Third party libs\n",
    "from fastcore.all import *\n",
    "import numpy as np\n",
    "# Local modules\n",
    "\n",
    "_logger=logging.getLogger(__name__)"
   ]
  },
  {
   "cell_type": "markdown",
   "id": "lesser-innocent",
   "metadata": {},
   "source": [
    "# Loop\n",
    "> fastrl concept of generic loop objects. \n",
    "\n",
    "The goal for Loops is to make it easy to customize, and know how sections of code connects\n",
    "to other parts."
   ]
  },
  {
   "cell_type": "markdown",
   "id": "10116234-0510-4456-b50c-0f011c4e958b",
   "metadata": {},
   "source": [
    "### Why do we need this?\n",
    "We have identified at least 3 different kinds of loops already:\n",
    "\n",
    "    Learner (training)\n",
    "    Source/Gym (Data Access)\n",
    "    Agent (How an AI takes in data, generates actions)\n",
    "\n",
    "### What is a loop?\n",
    "\n",
    "    It should be capable of containing inner loops. \n",
    "    It should self-describe its structure. \n",
    "    It should be easy to know which parts of the loop are taking long/short amounts of time.\n",
    "    It should be flexible in state modification.\n",
    "    It should alternatively make it easy show what fields are being changed at what points in time."
   ]
  },
  {
   "cell_type": "markdown",
   "id": "1e736013-c76a-4d9e-bf5a-771983b7ce61",
   "metadata": {},
   "source": [
    "A Loop will act as a compiled structure. The actual result will be a compiled list of nodes that reference the original loop."
   ]
  },
  {
   "cell_type": "code",
   "execution_count": 109,
   "id": "ceeeb9dd-3d50-4e8f-87f1-437d9329845f",
   "metadata": {},
   "outputs": [],
   "source": [
    "# export\n",
    "EVENT_ORDER_MAPPING={}\n",
    "PREFIXES=['before_','on_','after_','failed_','finally_']\n",
    "\n",
    "def _is_event(o): return issubclass(o.__class__,Event)\n",
    "def _last_element(ls): return ls[-1]\n",
    "\n",
    "class NodeException(Exception):pass\n",
    "\n",
    "class Event(object):\n",
    "    def __init__(self,\n",
    "                 function:Callable,\n",
    "                ):\n",
    "        store_attr()\n",
    "        # We set the order over the entire Loop definition\n",
    "        full_name=function.__module__+'.'+function.__qualname__.split('.')[0]\n",
    "        if full_name not in EVENT_ORDER_MAPPING: self.order=1\n",
    "        else: self.order=EVENT_ORDER_MAPPING[full_name]\n",
    "        EVENT_ORDER_MAPPING[full_name]=self.order+1\n",
    "            \n",
    "        if self.name.startswith('_') or not any(self.name.startswith(pre) for pre in PREFIXES):\n",
    "            raise NodeException(f'{self.name} needs to start with any {PREFIXES}')\n",
    "        \n",
    "    def __call__(self,*args,**kwargs): \n",
    "        \n",
    "        return self.function(*args,**kwargs)\n",
    "    def __lt__(self,o:'Event'): return self.order<o.order\n",
    "    @property\n",
    "    def name(self): return self.function.__name__\n",
    "    @property\n",
    "    def prefix(self): return self.name.split('_')[0]\n",
    "    @property\n",
    "    def postfix(self): return '_'.join(self.name.split('_')[1:])\n",
    "\n",
    "event=Event"
   ]
  },
  {
   "cell_type": "code",
   "execution_count": 110,
   "id": "87340d0c-8d36-4b2d-b8f7-038ed68dfa2e",
   "metadata": {},
   "outputs": [],
   "source": [
    "def on_test():pass\n",
    "\n",
    "decorated_on_test=Event(on_test)"
   ]
  },
  {
   "cell_type": "code",
   "execution_count": 111,
   "id": "05ac9a9f-dfbb-48e0-a2c9-829b754a0f97",
   "metadata": {},
   "outputs": [],
   "source": [
    "class B():\n",
    "    def on_test_2_a(self):pass"
   ]
  },
  {
   "cell_type": "code",
   "execution_count": 112,
   "id": "67c6b64f-7efd-46a9-a320-467d0542f0d0",
   "metadata": {},
   "outputs": [],
   "source": [
    "class A():\n",
    "    @classmethod\n",
    "    def events(cls):\n",
    "        return L(inspect.getmembers(cls)).map(_last_element).filter(_is_event)\n",
    "\n",
    "    @event\n",
    "    def before_test_c(self):pass\n",
    "    @event\n",
    "    def on_test_c(self):pass\n",
    "    @event\n",
    "    def after_test_c(self):pass\n",
    "    @event\n",
    "    def after_test_c(self):pass\n",
    "    @event\n",
    "    def on_test_b(self):pass\n",
    "    @event\n",
    "    def on_test_a(self):pass"
   ]
  },
  {
   "cell_type": "markdown",
   "id": "a349b304-f924-4c30-a2d8-1906c531c9e1",
   "metadata": {},
   "source": [
    "Notes:\n",
    "- Having a section object might make this overal loop management better\n",
    "    - remaining stuff, the Section object needs to handle lists and execute those also.\n",
    "    - with this in mind, using the section I think will make the looping run much cleaner."
   ]
  },
  {
   "cell_type": "code",
   "execution_count": 136,
   "id": "ac4a58c3-be96-49f7-9ace-969dad6c1d87",
   "metadata": {},
   "outputs": [],
   "source": [
    "# export\n",
    "def _grab_postfix(o:Event): return o.postfix\n",
    "def _grab_prefix(o:Event): return o.prefix\n",
    "def _default_raise(ex): raise \n",
    "\n",
    "class Section(object):\n",
    "    \n",
    "    def __init__(self,events):\n",
    "        self.events={k:noop if k!='failed' else _default_raise for k in PREFIXES}\n",
    "        self.events=merge(self.events,L(events).map(_grab_prefix))\n",
    "        \n",
    "    \n",
    "    def __repr__(self): return str(self.__class__.__name__)+f' {len(self)} events'\n",
    "    def __len__(self): return len(self.events) \n",
    "\n",
    "    def run(self):\n",
    "        try:\n",
    "            self.events['before_']()\n",
    "            self.events['on_']()\n",
    "            self.events['after_']()\n",
    "        except ex:\n",
    "            self.events['failed_']()\n",
    "        finally:\n",
    "            self.events['finally_']()\n",
    "    \n",
    "    @classmethod\n",
    "    def from_events(cls,events:List[Event]):\n",
    "        event_groups=groupby(events,_grab_postfix)\n",
    "        return [cls(o) for o in event_groups.values()]"
   ]
  },
  {
   "cell_type": "code",
   "execution_count": 133,
   "id": "4871ab34-d4db-4abc-abc1-9eda81afe45f",
   "metadata": {},
   "outputs": [
    {
     "data": {
      "text/plain": [
       "(#3) ['after','before','on']"
      ]
     },
     "execution_count": 133,
     "metadata": {},
     "output_type": "execute_result"
    }
   ],
   "source": [
    "Section.from_events(A.events())[0].events"
   ]
  },
  {
   "cell_type": "code",
   "execution_count": 101,
   "id": "b9c2ac50-d3a7-4743-894c-1f0f493ba926",
   "metadata": {},
   "outputs": [
    {
     "data": {
      "text/plain": [
       "[<__main__.Event at 0x7ff97f8a7970>,\n",
       " <__main__.Event at 0x7ff97f923d00>,\n",
       " <__main__.Event at 0x7ff97f8a78b0>,\n",
       " <__main__.Event at 0x7ff97f97e3d0>,\n",
       " <__main__.Event at 0x7ff97f8a7670>,\n",
       " <__main__.Event at 0x7ff97f923100>,\n",
       " <__main__.Event at 0x7ff97f8a7a30>,\n",
       " <__main__.Event at 0x7ff97f923190>,\n",
       " <__main__.Event at 0x7ff97f8a7910>,\n",
       " <__main__.Event at 0x7ff97f9233d0>]"
      ]
     },
     "execution_count": 101,
     "metadata": {},
     "output_type": "execute_result"
    }
   ],
   "source": [
    "# export\n",
    "def _is_event(o): return issubclass(o.__class__,Event)\n",
    "def _last_element(ls): return ls[-1]\n",
    "\n",
    "class Loop(object):  \n",
    "    \n",
    "    @classmethod\n",
    "    def events(cls,instance=None,instantiate=False):\n",
    "        loop=ifnone(instance,cls()) if instantiate else cls\n",
    "        events=L(inspect.getmembers(loop)).map(_last_element).filter(_is_event)\n",
    "        \n",
    "        \n",
    "        \n",
    "        return events\n",
    "\n",
    "class Outer(Loop):\n",
    "\n",
    "    \n",
    "    @event\n",
    "    def before_step(self) :  print('before_step')\n",
    "    @event\n",
    "    def on_step(self)     :  print('on_step')\n",
    "    @event\n",
    "    def after_step(self)  :  print('after_step')\n",
    "    @event\n",
    "    def failed_step(self) :  print('failed_step')\n",
    "    @event\n",
    "    def finally_step(self):  print('finally_step')\n",
    " \n",
    "    @event\n",
    "    def before_jump(self) :  print('before_jump')\n",
    "    @event\n",
    "    def on_jump(self)     :  print('on_jump')\n",
    "    @event\n",
    "    def after_jump(self)  :  print('after_jump')\n",
    "    @event\n",
    "    def failed_jump(self) :  print('failed_jump')\n",
    "    @event\n",
    "    def finally_jump(self):  print('finally_jump')\n",
    "\n",
    "list(Outer.events())"
   ]
  },
  {
   "cell_type": "code",
   "execution_count": 95,
   "id": "c8c1440f-da17-413a-bd0c-a09ee1bcd92e",
   "metadata": {},
   "outputs": [],
   "source": [
    "\n",
    "class Inner(Loop):\n",
    "    call_on=L(Outer.on_step,Outer.after_step,Outer.finally_jump)\n",
    "    \n",
    "    def run(self,nodes=None):\n",
    "        print(self.tab,'--- ENTERING INNER LOOP ---')\n",
    "        super().run(nodes)\n",
    "        print(self.tab,'--- EXITING INNER LOOP ---')\n",
    "    \n",
    "    @event\n",
    "    def before_iteration(self) : print(self.tab,'before_iteration')\n",
    "    @event\n",
    "    def on_iteration(self)     : print(self.tab,'on_iteration')\n",
    "    @event\n",
    "    def after_iteration(self)  : print(self.tab,'after_iteration')\n",
    "    @event\n",
    "    def failed_iteration(self) : print(self.tab,'failed_iteration')\n",
    "    @event\n",
    "    def finally_iteration(self): print(self.tab,'finally_iteration')\n",
    "    \n",
    "class FailingInner(Loop):\n",
    "    call_on=L(Inner.finally_iteration)\n",
    "    \n",
    "    def run(self,nodes=None):\n",
    "        print(self.tab,'--- ENTERING FailingInner LOOP ---')\n",
    "        super().run(nodes)\n",
    "        print(self.tab,'--- EXITING FailingInner LOOP ---')\n",
    "    \n",
    "    @event\n",
    "    def on_force_fail(self):                    \n",
    "        print(self.tab,'on_force_fail')\n",
    "        raise Exception\n",
    "        "
   ]
  },
  {
   "cell_type": "code",
   "execution_count": 79,
   "id": "current-pilot",
   "metadata": {},
   "outputs": [
    {
     "name": "stdout",
     "output_type": "stream",
     "text": [
      "converting /home/fastrl_user/fastrl/nbs/index.ipynb to README.md\n",
      "Converted 00_core.ipynb.\n",
      "Converted 00_nbdev_extension.ipynb.\n",
      "Converted 02_fastai.loop.ipynb.\n",
      "Converted 02_fastai.loop.old.ipynb.\n",
      "Converted 02_fastai.loop.old.old.ipynb.\n",
      "Converted 03_callback.core.ipynb.\n",
      "Converted 04_agent.ipynb.\n",
      "Converted 05_data.test_async.ipynb.\n",
      "Converted 05a_data.block.ipynb.\n",
      "Converted 05b_data.gym.ipynb.\n",
      "Converted 06a_memory.experience_replay.ipynb.\n",
      "Converted 06f_memory.tensorboard.ipynb.\n",
      "Converted 10a_agents.dqn.core.ipynb.\n",
      "Converted 10b_agents.dqn.targets.ipynb.\n",
      "Converted 10c_agents.dqn.double.ipynb.\n",
      "Converted 10d_agents.dqn.dueling.ipynb.\n",
      "Converted 10e_agents.dqn.categorical.ipynb.\n",
      "Converted 11a_agents.policy_gradient.ppo.ipynb.\n",
      "Converted 20_test_utils.ipynb.\n",
      "Converted index.ipynb.\n",
      "Converted nbdev_template.ipynb.\n",
      "converting: /home/fastrl_user/fastrl/nbs/02_fastai.loop.ipynb\n"
     ]
    }
   ],
   "source": [
    "# hide\n",
    "from fastcore.imports import in_colab\n",
    "\n",
    "# Since colab still requires tornado<6, we don't want to import nbdev if we don't have to\n",
    "if not in_colab():\n",
    "    from nbdev.export import *\n",
    "    from nbdev.export2html import *\n",
    "    from nbverbose.cli import *\n",
    "    make_readme()\n",
    "    notebook2script()\n",
    "    notebook2html()"
   ]
  },
  {
   "cell_type": "code",
   "execution_count": null,
   "id": "275fa8c3-fd00-4175-928a-8767dea82dca",
   "metadata": {},
   "outputs": [],
   "source": []
  }
 ],
 "metadata": {
  "kernelspec": {
   "display_name": "Python 3 (ipykernel)",
   "language": "python",
   "name": "python3"
  },
  "language_info": {
   "codemirror_mode": {
    "name": "ipython",
    "version": 3
   },
   "file_extension": ".py",
   "mimetype": "text/x-python",
   "name": "python",
   "nbconvert_exporter": "python",
   "pygments_lexer": "ipython3",
   "version": "3.8.8"
  }
 },
 "nbformat": 4,
 "nbformat_minor": 5
}
