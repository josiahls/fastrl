{
 "cells": [
  {
   "cell_type": "code",
   "execution_count": 3,
   "id": "durable-dialogue",
   "metadata": {},
   "outputs": [],
   "source": [
    "#hide\n",
    "#skip\n",
    "%config Completer.use_jedi = False\n",
    "# upgrade fastrl on colab\n",
    "! [ -e /content ] && pip install -Uqq fastrl['dev'] pyvirtualdisplay && \\\n",
    "                     apt-get install -y xvfb python-opengl > /dev/null 2>&1 \n",
    "# NOTE: IF YOU SEE VERSION ERRORS, IT IS SAFE TO IGNORE THEM. COLAB IS BEHIND IN SOME OF THE PACKAGE VERSIONS"
   ]
  },
  {
   "cell_type": "code",
   "execution_count": 37,
   "id": "viral-cambridge",
   "metadata": {},
   "outputs": [],
   "source": [
    "# hide\n",
    "from fastcore.imports import in_colab\n",
    "# Since colab still requires tornado<6, we don't want to import nbdev if we don't have to\n",
    "if not in_colab():\n",
    "    from nbverbose.showdoc import *\n",
    "    from nbdev.imports import *\n",
    "    if not os.environ.get(\"IN_TEST\", None):\n",
    "        assert IN_NOTEBOOK\n",
    "        assert not IN_COLAB\n",
    "        assert IN_IPYTHON\n",
    "else:\n",
    "    # Virutual display is needed for colab\n",
    "    from pyvirtualdisplay import Display\n",
    "    display=Display(visible=0,size=(400,300))\n",
    "    display.start()"
   ]
  },
  {
   "cell_type": "code",
   "execution_count": 5,
   "id": "offshore-stuart",
   "metadata": {},
   "outputs": [],
   "source": [
    "# default_exp fastai.loop"
   ]
  },
  {
   "cell_type": "code",
   "execution_count": 36,
   "id": "assisted-contract",
   "metadata": {},
   "outputs": [],
   "source": [
    "# export\n",
    "# Python native modules\n",
    "import os\n",
    "from copy import deepcopy\n",
    "from typing import *\n",
    "import types\n",
    "import logging\n",
    "# Third party libs\n",
    "from fastcore.all import *\n",
    "# Local modules\n",
    "\n",
    "_logger=logging.getLogger(__name__)"
   ]
  },
  {
   "cell_type": "markdown",
   "id": "lesser-innocent",
   "metadata": {},
   "source": [
    "# Loop\n",
    "> fastrl concept of generic loop objects. \n",
    "\n",
    "The goal for Loops is to make it easy to customize, and know how sections of code connects\n",
    "to other parts."
   ]
  },
  {
   "cell_type": "markdown",
   "id": "10116234-0510-4456-b50c-0f011c4e958b",
   "metadata": {},
   "source": [
    "### Why do we need this?\n",
    "We have identified at least 3 different kinds of loops already:\n",
    "\n",
    "    Learner (training)\n",
    "    Source/Gym (Data Access)\n",
    "    Agent (How an AI takes in data, generates actions)\n",
    "\n",
    "### What is a loop?\n",
    "\n",
    "    It should be capable of containing inner loops. \n",
    "    It should be able to handle \"phases\" that might be similar to each other. \n",
    "    It should self-describe its structure. \n",
    "    It should be easy to know which parts of the loop are taking long/short amounts of time.\n",
    "    It should be flexible in state modification.\n",
    "    It should alternatively make it easy show what fields are being changed at what points in time."
   ]
  },
  {
   "cell_type": "markdown",
   "id": "1e736013-c76a-4d9e-bf5a-771983b7ce61",
   "metadata": {},
   "source": [
    "A Loop will act as a compiled structure. The actual result will be a compiled list of nodes that reference the original loop."
   ]
  },
  {
   "cell_type": "markdown",
   "id": "e17dd88a-a25d-48af-9114-294e1f974ed0",
   "metadata": {},
   "source": [
    "Loop is a compiled object that organizes the callbacks and loop calls into a possibly repeating sequence."
   ]
  },
  {
   "cell_type": "markdown",
   "id": "ca70862a-2bae-4e92-a74d-e114ada9a0c9",
   "metadata": {},
   "source": [
    "`Literal['order',int]` contains a int that should be more than or equal to 0. This determines when a \n",
    "function in the loops should be executed relative to other functions."
   ]
  },
  {
   "cell_type": "code",
   "execution_count": 7,
   "id": "51b4ee96-dffe-4b8a-82ce-2724ef71357c",
   "metadata": {},
   "outputs": [],
   "source": [
    "class TestLoop:\n",
    "    def on_iteration(self)->Literal['order',3]:pass\n",
    "    def on_step(self)->Literal['order',3]:pass"
   ]
  },
  {
   "cell_type": "code",
   "execution_count": 43,
   "id": "730de79e-9c3b-4600-9b21-e4c37d745026",
   "metadata": {},
   "outputs": [
    {
     "data": {
      "text/plain": [
       "on_test"
      ]
     },
     "execution_count": 43,
     "metadata": {},
     "output_type": "execute_result"
    }
   ],
   "source": [
    "# export\n",
    "PREFIXES=['on_','after_','before_','failed_','finally_']\n",
    "PRE2ORDER={'on_':1,'after_':1.1,'before_':0.9,'failed_':1.2,\n",
    "           'finally_':1.3}\n",
    "\n",
    "class Node(object):\n",
    "    def __init__(self,\n",
    "                 function:Callable, # The function to be called on this node.\n",
    "                 base_loop=None,         \n",
    "                 # The BASE loop that this node is a part of. This will be\n",
    "                 # different from the loop it is defined in.\n",
    "                 loop=None,\n",
    "                 children:List['Node']=None,\n",
    "                 parent:'Node'=None,\n",
    "                 order=0,\n",
    "                 call_on='',\n",
    "                ):\n",
    "        store_attr()\n",
    "        if not self.isvalid(function):\n",
    "            raise ValueError(f\"\"\"{function} cannot be private ('_'), and must have\n",
    "                                 either {PREFIXES}\"\"\")\n",
    "        self.sig=inspect.signature(function)\n",
    "        self.name=function.__name__\n",
    "        self.order=order\n",
    "        self.user_defined_order=False\n",
    "        for anno in L(anno_ret(function)):\n",
    "            if 'order' in anno.__args__: \n",
    "                self.order+=anno.__args__[-1]\n",
    "                self.user_defined_order=True\n",
    "            \n",
    "        for pre in PREFIXES: \n",
    "            if self.name.startswith(pre): \n",
    "                self.postfix=self.name.strip(pre)\n",
    "                self.prefix=pre\n",
    "                # If order is 0, then we will define the order based on the prefix\n",
    "                if self.order==0: self.order=PRE2ORDER[pre]\n",
    "                break\n",
    "        \n",
    "    def __round__(self): return round(self.order)  \n",
    "    def __lt__(self,o:'Node'): return self.order<o.order\n",
    "            \n",
    "    def __str__(self):\n",
    "        base=f\"{self.function.__name__}\"\n",
    "        if self.call_on!='': base+=f\" -> on -> {self.call_on}\"\n",
    "        return base\n",
    "    \n",
    "    def __repr__(self): return str(self)\n",
    "    def __hash__(self): return hash(f'{self.call_on} {str(self)}')\n",
    "\n",
    "    @property\n",
    "    def level(self):\n",
    "        return 1 if self.parent is None else (1+self.parent.level)\n",
    "\n",
    "    @classmethod\n",
    "    def isvalid(cls,name)->bool:\n",
    "        if isinstance(name,Callable): name=name.__name__\n",
    "        return not name.startswith('_') and \\\n",
    "          any(name.startswith(pre) for pre in PREFIXES)\n",
    "    \n",
    "    def postfix(self):\n",
    "        \"Given `self.name` grab the postfix (i.e. without the `on_`,`after_`,etc.)\"\n",
    "\n",
    "\n",
    "        \n",
    "def on_test()->Literal['order',3]: return {'this':'that'}\n",
    "\n",
    "Node(on_test,0)"
   ]
  },
  {
   "cell_type": "code",
   "execution_count": 44,
   "id": "2a807846-ef4e-46c7-9806-75fcfd6e4603",
   "metadata": {},
   "outputs": [
    {
     "data": {
      "text/plain": [
       "'test'"
      ]
     },
     "execution_count": 44,
     "metadata": {},
     "output_type": "execute_result"
    }
   ],
   "source": [
    "Node(on_test,0).postfix"
   ]
  },
  {
   "cell_type": "code",
   "execution_count": 45,
   "id": "775baa67-4921-4b14-b457-f386b90bbdc7",
   "metadata": {},
   "outputs": [
    {
     "data": {
      "text/plain": [
       "2112245071694279568"
      ]
     },
     "execution_count": 45,
     "metadata": {},
     "output_type": "execute_result"
    }
   ],
   "source": [
    "Node(on_test,0).__hash__()"
   ]
  },
  {
   "cell_type": "code",
   "execution_count": 46,
   "id": "4bc5be23-c6fd-4d46-96d6-c1c66473daa1",
   "metadata": {},
   "outputs": [
    {
     "data": {
      "text/plain": [
       "<function round(number, ndigits=None)>"
      ]
     },
     "execution_count": 46,
     "metadata": {},
     "output_type": "execute_result"
    }
   ],
   "source": [
    "round"
   ]
  },
  {
   "cell_type": "code",
   "execution_count": 58,
   "id": "6c15baf2-1bb6-4a08-9d5a-f9564462ecef",
   "metadata": {},
   "outputs": [],
   "source": [
    "class Loop(object):\n",
    "    core_obj=None\n",
    "    call_on=''\n",
    "    \n",
    "    @classmethod\n",
    "    def nodes(cls)->List[Node]:\n",
    "        nodes=L(Node(node) for k,node in inspect.getmembers(cls) if Node.isvalid(k))\n",
    "        # For a given set of nodes, fix the orders, and defining the order if it\n",
    "        # it not defined for a given node.\n",
    "        for postfix,subnodes in groupby(nodes,lambda o:o.postfix).items():\n",
    "            # For a given subnode, we want to see if the user defined any of the orders\n",
    "            if any(n.user_defined_order for n in subnodes):\n",
    "                # If the user defined ONE of the orders then we need to make sure \n",
    "                # the other nodes have orders that make sense.\n",
    "                user_ordered_nodes=[n for n in subnodes if n.user_defined_order]\n",
    "                if all([n.user_defined_order for n in subnodes]): pass\n",
    "                elif len(user_ordered_nodes)==1:\n",
    "                    max_order=round(user_ordered_nodes)\n",
    "                    idxs=subnodes.argwhere(lambda o:not o.user_defined_order)\n",
    "                    for subn in subnmodes[idxs]:subn.order+=max_order\n",
    "                elif len(user_ordered_nodes)>1:\n",
    "                    # If the user defined MORE THAN ONE of the orders, then we will\n",
    "                    # warn them and not mess with the orders.\n",
    "                    _logger.warning(\"\"\"nodes: %s have %s user defined orders. \n",
    "                                       because there are more than 1 user defined\n",
    "                                       orders, we will not be able to define them\n",
    "                                       automatically.\"\"\",str(subnodes),len(user_ordered_nodes))\n",
    "        # Duplicate the nodes if for a given node, it is called on 2 different\n",
    "        # locations.\n",
    "        final_nodes=L()\n",
    "        if cls.call_on!='': \n",
    "            for n in nodes: \n",
    "                for call in L(cls.call_on.split(',')):\n",
    "                    n.call_on=call\n",
    "                    final_nodes.append(deepcopy(n))\n",
    "        else:\n",
    "            final_nodes=nodes\n",
    "        return final_nodes.sorted()\n",
    "    \n",
    "    @classmethod\n",
    "    def with_inner_loops(cls,inner_loops=None):\n",
    "        return cls.nodes()+L(inner_loops).map(Self.with_inner_loops()).concat()\n",
    "    \n",
    "    @classmethod\n",
    "    def organized_nodes(cls,inner_loops=None,as_dict=False)->Union[List[Node],Dict[str,Node]]:\n",
    "        nodes=list(cls.with_inner_loops(inner_loops))\n",
    "        # For the nodes that have `call_on`s it will be more efficient to map\n",
    "        # them the function they are being called on. Nodes without call_ons we \n",
    "        # can be confident are the root nodes.\n",
    "        call_on_nodes=L(nodes).filter(lambda o:o.call_on!='')\n",
    "        nodes=L(nodes).filter(lambda o:o.call_on=='')\n",
    "        call_ons=call_on_nodes.map(lambda o:o.call_on).unique()\n",
    "        call_on_map={c:call_on_nodes.filter(lambda o:o.call_on==c).sorted() for c in call_ons}\n",
    "        # For each node, add the call_on nodes if they exist \n",
    "        organized_nodes=L()\n",
    "        order=0\n",
    "        while nodes:\n",
    "            n=nodes.pop(0)\n",
    "            # The order will cascade ensuring that all the nodes have their \n",
    "            # respective orders organized. This is needed incase you execute `sorted` \n",
    "            # on the final list of nodes.\n",
    "            if order==0: \n",
    "                order=n.order\n",
    "            else:\n",
    "                _order=order+n.order\n",
    "                n.order+=order\n",
    "                order=_order\n",
    "                \n",
    "            organized_nodes.append(n)\n",
    "            if n.name in call_on_map:\n",
    "                # If there are call_on nodes for `n`, then we want to process them\n",
    "                # immediately after `n`. We reverse the list and add insert them\n",
    "                # on index 0, thus the nodes that should go first will be in \n",
    "                # index 0-ish and the ones that should go later will be farthur \n",
    "                # down this list.\n",
    "                n.children=call_on_map[n.name]\n",
    "                for inner_n in reversed(call_on_map[n.name]): \n",
    "                    inner_n.parent=n\n",
    "                    nodes.insert(0,inner_n)\n",
    "        return organized_nodes\n",
    "\n",
    "class Outer(Loop):\n",
    "    def before_step(self)->Literal['order',1]:   return None\n",
    "    def on_step(self)->Literal['order',2]:       return None\n",
    "    def after_step(self)->Literal['order',3]:    return None\n",
    "    def failed_step(self)->Literal['order',4]:   return None\n",
    "    def finally_step(self)->Literal['order',5]:  return None\n",
    " \n",
    "    def before_jump(self)->Literal['order',6]:   return None\n",
    "    def on_jump(self)->Literal['order',7]:       return None\n",
    "    def after_jump(self)->Literal['order',8]:    return None\n",
    "    def failed_jump(self)->Literal['order',9]:   return None\n",
    "    def finally_jump(self)->Literal['order',10]: return None\n",
    "\n",
    "class Inner(Loop):\n",
    "    call_on='on_step,after_step,finally_jump'\n",
    "    \n",
    "    def before_iteration(self)->Literal['order',1]: return None\n",
    "    def on_iteration(self):                         return None\n",
    "    def after_iteration(self):                      return None\n",
    "    def failed_iteration(self):                     return None\n",
    "    def finally_iteration(self):                    return None"
   ]
  },
  {
   "cell_type": "code",
   "execution_count": 59,
   "id": "2c6e5d2d-affe-40db-aba5-cd0403641a30",
   "metadata": {},
   "outputs": [
    {
     "data": {
      "text/plain": [
       "{'step': [before_step, on_step, after_step, failed_step, finally_step],\n",
       " 'jump': [before_jump, on_jump, after_jump, failed_jump, finally_jump]}"
      ]
     },
     "execution_count": 59,
     "metadata": {},
     "output_type": "execute_result"
    }
   ],
   "source": [
    "groupby(Outer.nodes(),lambda o:o.postfix)"
   ]
  },
  {
   "cell_type": "code",
   "execution_count": 60,
   "id": "605b1c7e-4929-49c3-b6ff-28fc8fcf004a",
   "metadata": {},
   "outputs": [
    {
     "data": {
      "text/plain": [
       "['1 1 before_step',\n",
       " '2 1 on_step',\n",
       " '3 1 after_step',\n",
       " '4 1 failed_step',\n",
       " '5 1 finally_step',\n",
       " '6 1 before_jump',\n",
       " '7 1 on_jump',\n",
       " '8 1 after_jump',\n",
       " '9 1 failed_jump',\n",
       " '10 1 finally_jump']"
      ]
     },
     "execution_count": 60,
     "metadata": {},
     "output_type": "execute_result"
    }
   ],
   "source": [
    "list(Outer.nodes().map(lambda o:f'{o.order} {o.level} {o}'))"
   ]
  },
  {
   "cell_type": "code",
   "execution_count": 61,
   "id": "5af661a9-dd5f-48fd-b311-a10cfb8cb8d6",
   "metadata": {},
   "outputs": [
    {
     "ename": "TypeError",
     "evalue": "type list doesn't define __round__ method",
     "output_type": "error",
     "traceback": [
      "\u001b[0;31m---------------------------------------------------------------------------\u001b[0m",
      "\u001b[0;31mTypeError\u001b[0m                                 Traceback (most recent call last)",
      "\u001b[0;32m/tmp/ipykernel_300/229629928.py\u001b[0m in \u001b[0;36m<module>\u001b[0;34m\u001b[0m\n\u001b[0;32m----> 1\u001b[0;31m \u001b[0mlist\u001b[0m\u001b[0;34m(\u001b[0m\u001b[0mOuter\u001b[0m\u001b[0;34m.\u001b[0m\u001b[0morganized_nodes\u001b[0m\u001b[0;34m(\u001b[0m\u001b[0mInner\u001b[0m\u001b[0;34m)\u001b[0m\u001b[0;34m.\u001b[0m\u001b[0mmap\u001b[0m\u001b[0;34m(\u001b[0m\u001b[0;32mlambda\u001b[0m \u001b[0mo\u001b[0m\u001b[0;34m:\u001b[0m\u001b[0;34mf'{o.order} {o.level} {o}'\u001b[0m\u001b[0;34m)\u001b[0m\u001b[0;34m)\u001b[0m\u001b[0;34m\u001b[0m\u001b[0;34m\u001b[0m\u001b[0m\n\u001b[0m",
      "\u001b[0;32m/tmp/ipykernel_300/723420832.py\u001b[0m in \u001b[0;36morganized_nodes\u001b[0;34m(cls, inner_loops, as_dict)\u001b[0m\n\u001b[1;32m     44\u001b[0m     \u001b[0;34m@\u001b[0m\u001b[0mclassmethod\u001b[0m\u001b[0;34m\u001b[0m\u001b[0;34m\u001b[0m\u001b[0m\n\u001b[1;32m     45\u001b[0m     \u001b[0;32mdef\u001b[0m \u001b[0morganized_nodes\u001b[0m\u001b[0;34m(\u001b[0m\u001b[0mcls\u001b[0m\u001b[0;34m,\u001b[0m\u001b[0minner_loops\u001b[0m\u001b[0;34m=\u001b[0m\u001b[0;32mNone\u001b[0m\u001b[0;34m,\u001b[0m\u001b[0mas_dict\u001b[0m\u001b[0;34m=\u001b[0m\u001b[0;32mFalse\u001b[0m\u001b[0;34m)\u001b[0m\u001b[0;34m->\u001b[0m\u001b[0mUnion\u001b[0m\u001b[0;34m[\u001b[0m\u001b[0mList\u001b[0m\u001b[0;34m[\u001b[0m\u001b[0mNode\u001b[0m\u001b[0;34m]\u001b[0m\u001b[0;34m,\u001b[0m\u001b[0mDict\u001b[0m\u001b[0;34m[\u001b[0m\u001b[0mstr\u001b[0m\u001b[0;34m,\u001b[0m\u001b[0mNode\u001b[0m\u001b[0;34m]\u001b[0m\u001b[0;34m]\u001b[0m\u001b[0;34m:\u001b[0m\u001b[0;34m\u001b[0m\u001b[0;34m\u001b[0m\u001b[0m\n\u001b[0;32m---> 46\u001b[0;31m         \u001b[0mnodes\u001b[0m\u001b[0;34m=\u001b[0m\u001b[0mlist\u001b[0m\u001b[0;34m(\u001b[0m\u001b[0mcls\u001b[0m\u001b[0;34m.\u001b[0m\u001b[0mwith_inner_loops\u001b[0m\u001b[0;34m(\u001b[0m\u001b[0minner_loops\u001b[0m\u001b[0;34m)\u001b[0m\u001b[0;34m)\u001b[0m\u001b[0;34m\u001b[0m\u001b[0;34m\u001b[0m\u001b[0m\n\u001b[0m\u001b[1;32m     47\u001b[0m         \u001b[0;31m# For the nodes that have `call_on`s it will be more efficient to map\u001b[0m\u001b[0;34m\u001b[0m\u001b[0;34m\u001b[0m\u001b[0;34m\u001b[0m\u001b[0m\n\u001b[1;32m     48\u001b[0m         \u001b[0;31m# them the function they are being called on. Nodes without call_ons we\u001b[0m\u001b[0;34m\u001b[0m\u001b[0;34m\u001b[0m\u001b[0;34m\u001b[0m\u001b[0m\n",
      "\u001b[0;32m/tmp/ipykernel_300/723420832.py\u001b[0m in \u001b[0;36mwith_inner_loops\u001b[0;34m(cls, inner_loops)\u001b[0m\n\u001b[1;32m     40\u001b[0m     \u001b[0;34m@\u001b[0m\u001b[0mclassmethod\u001b[0m\u001b[0;34m\u001b[0m\u001b[0;34m\u001b[0m\u001b[0m\n\u001b[1;32m     41\u001b[0m     \u001b[0;32mdef\u001b[0m \u001b[0mwith_inner_loops\u001b[0m\u001b[0;34m(\u001b[0m\u001b[0mcls\u001b[0m\u001b[0;34m,\u001b[0m\u001b[0minner_loops\u001b[0m\u001b[0;34m=\u001b[0m\u001b[0;32mNone\u001b[0m\u001b[0;34m)\u001b[0m\u001b[0;34m:\u001b[0m\u001b[0;34m\u001b[0m\u001b[0;34m\u001b[0m\u001b[0m\n\u001b[0;32m---> 42\u001b[0;31m         \u001b[0;32mreturn\u001b[0m \u001b[0mcls\u001b[0m\u001b[0;34m.\u001b[0m\u001b[0mnodes\u001b[0m\u001b[0;34m(\u001b[0m\u001b[0;34m)\u001b[0m\u001b[0;34m+\u001b[0m\u001b[0mL\u001b[0m\u001b[0;34m(\u001b[0m\u001b[0minner_loops\u001b[0m\u001b[0;34m)\u001b[0m\u001b[0;34m.\u001b[0m\u001b[0mmap\u001b[0m\u001b[0;34m(\u001b[0m\u001b[0mSelf\u001b[0m\u001b[0;34m.\u001b[0m\u001b[0mwith_inner_loops\u001b[0m\u001b[0;34m(\u001b[0m\u001b[0;34m)\u001b[0m\u001b[0;34m)\u001b[0m\u001b[0;34m.\u001b[0m\u001b[0mconcat\u001b[0m\u001b[0;34m(\u001b[0m\u001b[0;34m)\u001b[0m\u001b[0;34m\u001b[0m\u001b[0;34m\u001b[0m\u001b[0m\n\u001b[0m\u001b[1;32m     43\u001b[0m \u001b[0;34m\u001b[0m\u001b[0m\n\u001b[1;32m     44\u001b[0m     \u001b[0;34m@\u001b[0m\u001b[0mclassmethod\u001b[0m\u001b[0;34m\u001b[0m\u001b[0;34m\u001b[0m\u001b[0m\n",
      "\u001b[0;32m~/fastcore/fastcore/foundation.py\u001b[0m in \u001b[0;36mmap\u001b[0;34m(self, f, gen, *args, **kwargs)\u001b[0m\n\u001b[1;32m    153\u001b[0m     \u001b[0;32mdef\u001b[0m \u001b[0mrange\u001b[0m\u001b[0;34m(\u001b[0m\u001b[0mcls\u001b[0m\u001b[0;34m,\u001b[0m \u001b[0ma\u001b[0m\u001b[0;34m,\u001b[0m \u001b[0mb\u001b[0m\u001b[0;34m=\u001b[0m\u001b[0;32mNone\u001b[0m\u001b[0;34m,\u001b[0m \u001b[0mstep\u001b[0m\u001b[0;34m=\u001b[0m\u001b[0;32mNone\u001b[0m\u001b[0;34m)\u001b[0m\u001b[0;34m:\u001b[0m \u001b[0;32mreturn\u001b[0m \u001b[0mcls\u001b[0m\u001b[0;34m(\u001b[0m\u001b[0mrange_of\u001b[0m\u001b[0;34m(\u001b[0m\u001b[0ma\u001b[0m\u001b[0;34m,\u001b[0m \u001b[0mb\u001b[0m\u001b[0;34m=\u001b[0m\u001b[0mb\u001b[0m\u001b[0;34m,\u001b[0m \u001b[0mstep\u001b[0m\u001b[0;34m=\u001b[0m\u001b[0mstep\u001b[0m\u001b[0;34m)\u001b[0m\u001b[0;34m)\u001b[0m\u001b[0;34m\u001b[0m\u001b[0;34m\u001b[0m\u001b[0m\n\u001b[1;32m    154\u001b[0m \u001b[0;34m\u001b[0m\u001b[0m\n\u001b[0;32m--> 155\u001b[0;31m     \u001b[0;32mdef\u001b[0m \u001b[0mmap\u001b[0m\u001b[0;34m(\u001b[0m\u001b[0mself\u001b[0m\u001b[0;34m,\u001b[0m \u001b[0mf\u001b[0m\u001b[0;34m,\u001b[0m \u001b[0;34m*\u001b[0m\u001b[0margs\u001b[0m\u001b[0;34m,\u001b[0m \u001b[0mgen\u001b[0m\u001b[0;34m=\u001b[0m\u001b[0;32mFalse\u001b[0m\u001b[0;34m,\u001b[0m \u001b[0;34m**\u001b[0m\u001b[0mkwargs\u001b[0m\u001b[0;34m)\u001b[0m\u001b[0;34m:\u001b[0m \u001b[0;32mreturn\u001b[0m \u001b[0mself\u001b[0m\u001b[0;34m.\u001b[0m\u001b[0m_new\u001b[0m\u001b[0;34m(\u001b[0m\u001b[0mmap_ex\u001b[0m\u001b[0;34m(\u001b[0m\u001b[0mself\u001b[0m\u001b[0;34m,\u001b[0m \u001b[0mf\u001b[0m\u001b[0;34m,\u001b[0m \u001b[0;34m*\u001b[0m\u001b[0margs\u001b[0m\u001b[0;34m,\u001b[0m \u001b[0mgen\u001b[0m\u001b[0;34m=\u001b[0m\u001b[0mgen\u001b[0m\u001b[0;34m,\u001b[0m \u001b[0;34m**\u001b[0m\u001b[0mkwargs\u001b[0m\u001b[0;34m)\u001b[0m\u001b[0;34m)\u001b[0m\u001b[0;34m\u001b[0m\u001b[0;34m\u001b[0m\u001b[0m\n\u001b[0m\u001b[1;32m    156\u001b[0m     \u001b[0;32mdef\u001b[0m \u001b[0margwhere\u001b[0m\u001b[0;34m(\u001b[0m\u001b[0mself\u001b[0m\u001b[0;34m,\u001b[0m \u001b[0mf\u001b[0m\u001b[0;34m,\u001b[0m \u001b[0mnegate\u001b[0m\u001b[0;34m=\u001b[0m\u001b[0;32mFalse\u001b[0m\u001b[0;34m,\u001b[0m \u001b[0;34m**\u001b[0m\u001b[0mkwargs\u001b[0m\u001b[0;34m)\u001b[0m\u001b[0;34m:\u001b[0m \u001b[0;32mreturn\u001b[0m \u001b[0mself\u001b[0m\u001b[0;34m.\u001b[0m\u001b[0m_new\u001b[0m\u001b[0;34m(\u001b[0m\u001b[0margwhere\u001b[0m\u001b[0;34m(\u001b[0m\u001b[0mself\u001b[0m\u001b[0;34m,\u001b[0m \u001b[0mf\u001b[0m\u001b[0;34m,\u001b[0m \u001b[0mnegate\u001b[0m\u001b[0;34m,\u001b[0m \u001b[0;34m**\u001b[0m\u001b[0mkwargs\u001b[0m\u001b[0;34m)\u001b[0m\u001b[0;34m)\u001b[0m\u001b[0;34m\u001b[0m\u001b[0;34m\u001b[0m\u001b[0m\n\u001b[1;32m    157\u001b[0m     \u001b[0;32mdef\u001b[0m \u001b[0margfirst\u001b[0m\u001b[0;34m(\u001b[0m\u001b[0mself\u001b[0m\u001b[0;34m,\u001b[0m \u001b[0mf\u001b[0m\u001b[0;34m,\u001b[0m \u001b[0mnegate\u001b[0m\u001b[0;34m=\u001b[0m\u001b[0;32mFalse\u001b[0m\u001b[0;34m)\u001b[0m\u001b[0;34m:\u001b[0m \u001b[0;32mreturn\u001b[0m \u001b[0mfirst\u001b[0m\u001b[0;34m(\u001b[0m\u001b[0mi\u001b[0m \u001b[0;32mfor\u001b[0m \u001b[0mi\u001b[0m\u001b[0;34m,\u001b[0m\u001b[0mo\u001b[0m \u001b[0;32min\u001b[0m \u001b[0mself\u001b[0m\u001b[0;34m.\u001b[0m\u001b[0menumerate\u001b[0m\u001b[0;34m(\u001b[0m\u001b[0;34m)\u001b[0m \u001b[0;32mif\u001b[0m \u001b[0mf\u001b[0m\u001b[0;34m(\u001b[0m\u001b[0mo\u001b[0m\u001b[0;34m)\u001b[0m\u001b[0;34m)\u001b[0m\u001b[0;34m\u001b[0m\u001b[0;34m\u001b[0m\u001b[0m\n",
      "\u001b[0;32m~/fastcore/fastcore/basics.py\u001b[0m in \u001b[0;36mmap_ex\u001b[0;34m(iterable, f, gen, *args, **kwargs)\u001b[0m\n\u001b[1;32m    689\u001b[0m     \u001b[0mres\u001b[0m \u001b[0;34m=\u001b[0m \u001b[0mmap\u001b[0m\u001b[0;34m(\u001b[0m\u001b[0mg\u001b[0m\u001b[0;34m,\u001b[0m \u001b[0miterable\u001b[0m\u001b[0;34m)\u001b[0m\u001b[0;34m\u001b[0m\u001b[0;34m\u001b[0m\u001b[0m\n\u001b[1;32m    690\u001b[0m     \u001b[0;32mif\u001b[0m \u001b[0mgen\u001b[0m\u001b[0;34m:\u001b[0m \u001b[0;32mreturn\u001b[0m \u001b[0mres\u001b[0m\u001b[0;34m\u001b[0m\u001b[0;34m\u001b[0m\u001b[0m\n\u001b[0;32m--> 691\u001b[0;31m     \u001b[0;32mreturn\u001b[0m \u001b[0mlist\u001b[0m\u001b[0;34m(\u001b[0m\u001b[0mres\u001b[0m\u001b[0;34m)\u001b[0m\u001b[0;34m\u001b[0m\u001b[0;34m\u001b[0m\u001b[0m\n\u001b[0m\u001b[1;32m    692\u001b[0m \u001b[0;34m\u001b[0m\u001b[0m\n\u001b[1;32m    693\u001b[0m \u001b[0;31m# Cell\u001b[0m\u001b[0;34m\u001b[0m\u001b[0;34m\u001b[0m\u001b[0;34m\u001b[0m\u001b[0m\n",
      "\u001b[0;32m~/fastcore/fastcore/basics.py\u001b[0m in \u001b[0;36m__call__\u001b[0;34m(self, *args, **kwargs)\u001b[0m\n\u001b[1;32m    674\u001b[0m             \u001b[0;32mif\u001b[0m \u001b[0misinstance\u001b[0m\u001b[0;34m(\u001b[0m\u001b[0mv\u001b[0m\u001b[0;34m,\u001b[0m\u001b[0m_Arg\u001b[0m\u001b[0;34m)\u001b[0m\u001b[0;34m:\u001b[0m \u001b[0mkwargs\u001b[0m\u001b[0;34m[\u001b[0m\u001b[0mk\u001b[0m\u001b[0;34m]\u001b[0m \u001b[0;34m=\u001b[0m \u001b[0margs\u001b[0m\u001b[0;34m.\u001b[0m\u001b[0mpop\u001b[0m\u001b[0;34m(\u001b[0m\u001b[0mv\u001b[0m\u001b[0;34m.\u001b[0m\u001b[0mi\u001b[0m\u001b[0;34m)\u001b[0m\u001b[0;34m\u001b[0m\u001b[0;34m\u001b[0m\u001b[0m\n\u001b[1;32m    675\u001b[0m         \u001b[0mfargs\u001b[0m \u001b[0;34m=\u001b[0m \u001b[0;34m[\u001b[0m\u001b[0margs\u001b[0m\u001b[0;34m[\u001b[0m\u001b[0mx\u001b[0m\u001b[0;34m.\u001b[0m\u001b[0mi\u001b[0m\u001b[0;34m]\u001b[0m \u001b[0;32mif\u001b[0m \u001b[0misinstance\u001b[0m\u001b[0;34m(\u001b[0m\u001b[0mx\u001b[0m\u001b[0;34m,\u001b[0m \u001b[0m_Arg\u001b[0m\u001b[0;34m)\u001b[0m \u001b[0;32melse\u001b[0m \u001b[0mx\u001b[0m \u001b[0;32mfor\u001b[0m \u001b[0mx\u001b[0m \u001b[0;32min\u001b[0m \u001b[0mself\u001b[0m\u001b[0;34m.\u001b[0m\u001b[0mpargs\u001b[0m\u001b[0;34m]\u001b[0m \u001b[0;34m+\u001b[0m \u001b[0margs\u001b[0m\u001b[0;34m[\u001b[0m\u001b[0mself\u001b[0m\u001b[0;34m.\u001b[0m\u001b[0mmaxi\u001b[0m\u001b[0;34m+\u001b[0m\u001b[0;36m1\u001b[0m\u001b[0;34m:\u001b[0m\u001b[0;34m]\u001b[0m\u001b[0;34m\u001b[0m\u001b[0;34m\u001b[0m\u001b[0m\n\u001b[0;32m--> 676\u001b[0;31m         \u001b[0;32mreturn\u001b[0m \u001b[0mself\u001b[0m\u001b[0;34m.\u001b[0m\u001b[0mfunc\u001b[0m\u001b[0;34m(\u001b[0m\u001b[0;34m*\u001b[0m\u001b[0mfargs\u001b[0m\u001b[0;34m,\u001b[0m \u001b[0;34m**\u001b[0m\u001b[0mkwargs\u001b[0m\u001b[0;34m)\u001b[0m\u001b[0;34m\u001b[0m\u001b[0;34m\u001b[0m\u001b[0m\n\u001b[0m\u001b[1;32m    677\u001b[0m \u001b[0;34m\u001b[0m\u001b[0m\n\u001b[1;32m    678\u001b[0m \u001b[0;31m# Cell\u001b[0m\u001b[0;34m\u001b[0m\u001b[0;34m\u001b[0m\u001b[0;34m\u001b[0m\u001b[0m\n",
      "\u001b[0;32m~/fastcore/fastcore/basics.py\u001b[0m in \u001b[0;36m__call__\u001b[0;34m(self, *args, **kwargs)\u001b[0m\n\u001b[1;32m    743\u001b[0m             \u001b[0;32mfor\u001b[0m \u001b[0mn\u001b[0m\u001b[0;34m,\u001b[0m\u001b[0ma\u001b[0m\u001b[0;34m,\u001b[0m\u001b[0mk\u001b[0m \u001b[0;32min\u001b[0m \u001b[0mzip\u001b[0m\u001b[0;34m(\u001b[0m\u001b[0mself\u001b[0m\u001b[0;34m.\u001b[0m\u001b[0mnms\u001b[0m\u001b[0;34m,\u001b[0m\u001b[0mself\u001b[0m\u001b[0;34m.\u001b[0m\u001b[0margs\u001b[0m\u001b[0;34m,\u001b[0m\u001b[0mself\u001b[0m\u001b[0;34m.\u001b[0m\u001b[0mkwargs\u001b[0m\u001b[0;34m)\u001b[0m\u001b[0;34m:\u001b[0m\u001b[0;34m\u001b[0m\u001b[0;34m\u001b[0m\u001b[0m\n\u001b[1;32m    744\u001b[0m                 \u001b[0mx\u001b[0m \u001b[0;34m=\u001b[0m \u001b[0mgetattr\u001b[0m\u001b[0;34m(\u001b[0m\u001b[0mx\u001b[0m\u001b[0;34m,\u001b[0m\u001b[0mn\u001b[0m\u001b[0;34m)\u001b[0m\u001b[0;34m\u001b[0m\u001b[0;34m\u001b[0m\u001b[0m\n\u001b[0;32m--> 745\u001b[0;31m                 \u001b[0;32mif\u001b[0m \u001b[0mcallable\u001b[0m\u001b[0;34m(\u001b[0m\u001b[0mx\u001b[0m\u001b[0;34m)\u001b[0m \u001b[0;32mand\u001b[0m \u001b[0ma\u001b[0m \u001b[0;32mis\u001b[0m \u001b[0;32mnot\u001b[0m \u001b[0;32mNone\u001b[0m\u001b[0;34m:\u001b[0m \u001b[0mx\u001b[0m \u001b[0;34m=\u001b[0m \u001b[0mx\u001b[0m\u001b[0;34m(\u001b[0m\u001b[0;34m*\u001b[0m\u001b[0ma\u001b[0m\u001b[0;34m,\u001b[0m \u001b[0;34m**\u001b[0m\u001b[0mk\u001b[0m\u001b[0;34m)\u001b[0m\u001b[0;34m\u001b[0m\u001b[0;34m\u001b[0m\u001b[0m\n\u001b[0m\u001b[1;32m    746\u001b[0m             \u001b[0;32mreturn\u001b[0m \u001b[0mx\u001b[0m\u001b[0;34m\u001b[0m\u001b[0;34m\u001b[0m\u001b[0m\n\u001b[1;32m    747\u001b[0m         \u001b[0;32melse\u001b[0m\u001b[0;34m:\u001b[0m\u001b[0;34m\u001b[0m\u001b[0;34m\u001b[0m\u001b[0m\n",
      "\u001b[0;32m/tmp/ipykernel_300/723420832.py\u001b[0m in \u001b[0;36mwith_inner_loops\u001b[0;34m(cls, inner_loops)\u001b[0m\n\u001b[1;32m     40\u001b[0m     \u001b[0;34m@\u001b[0m\u001b[0mclassmethod\u001b[0m\u001b[0;34m\u001b[0m\u001b[0;34m\u001b[0m\u001b[0m\n\u001b[1;32m     41\u001b[0m     \u001b[0;32mdef\u001b[0m \u001b[0mwith_inner_loops\u001b[0m\u001b[0;34m(\u001b[0m\u001b[0mcls\u001b[0m\u001b[0;34m,\u001b[0m\u001b[0minner_loops\u001b[0m\u001b[0;34m=\u001b[0m\u001b[0;32mNone\u001b[0m\u001b[0;34m)\u001b[0m\u001b[0;34m:\u001b[0m\u001b[0;34m\u001b[0m\u001b[0;34m\u001b[0m\u001b[0m\n\u001b[0;32m---> 42\u001b[0;31m         \u001b[0;32mreturn\u001b[0m \u001b[0mcls\u001b[0m\u001b[0;34m.\u001b[0m\u001b[0mnodes\u001b[0m\u001b[0;34m(\u001b[0m\u001b[0;34m)\u001b[0m\u001b[0;34m+\u001b[0m\u001b[0mL\u001b[0m\u001b[0;34m(\u001b[0m\u001b[0minner_loops\u001b[0m\u001b[0;34m)\u001b[0m\u001b[0;34m.\u001b[0m\u001b[0mmap\u001b[0m\u001b[0;34m(\u001b[0m\u001b[0mSelf\u001b[0m\u001b[0;34m.\u001b[0m\u001b[0mwith_inner_loops\u001b[0m\u001b[0;34m(\u001b[0m\u001b[0;34m)\u001b[0m\u001b[0;34m)\u001b[0m\u001b[0;34m.\u001b[0m\u001b[0mconcat\u001b[0m\u001b[0;34m(\u001b[0m\u001b[0;34m)\u001b[0m\u001b[0;34m\u001b[0m\u001b[0;34m\u001b[0m\u001b[0m\n\u001b[0m\u001b[1;32m     43\u001b[0m \u001b[0;34m\u001b[0m\u001b[0m\n\u001b[1;32m     44\u001b[0m     \u001b[0;34m@\u001b[0m\u001b[0mclassmethod\u001b[0m\u001b[0;34m\u001b[0m\u001b[0;34m\u001b[0m\u001b[0m\n",
      "\u001b[0;32m/tmp/ipykernel_300/723420832.py\u001b[0m in \u001b[0;36mnodes\u001b[0;34m(cls)\u001b[0m\n\u001b[1;32m     16\u001b[0m                 \u001b[0;32mif\u001b[0m \u001b[0mall\u001b[0m\u001b[0;34m(\u001b[0m\u001b[0;34m[\u001b[0m\u001b[0mn\u001b[0m\u001b[0;34m.\u001b[0m\u001b[0muser_defined_order\u001b[0m \u001b[0;32mfor\u001b[0m \u001b[0mn\u001b[0m \u001b[0;32min\u001b[0m \u001b[0msubnodes\u001b[0m\u001b[0;34m]\u001b[0m\u001b[0;34m)\u001b[0m\u001b[0;34m:\u001b[0m \u001b[0;32mpass\u001b[0m\u001b[0;34m\u001b[0m\u001b[0;34m\u001b[0m\u001b[0m\n\u001b[1;32m     17\u001b[0m                 \u001b[0;32melif\u001b[0m \u001b[0mlen\u001b[0m\u001b[0;34m(\u001b[0m\u001b[0muser_ordered_nodes\u001b[0m\u001b[0;34m)\u001b[0m\u001b[0;34m==\u001b[0m\u001b[0;36m1\u001b[0m\u001b[0;34m:\u001b[0m\u001b[0;34m\u001b[0m\u001b[0;34m\u001b[0m\u001b[0m\n\u001b[0;32m---> 18\u001b[0;31m                     \u001b[0mmax_order\u001b[0m\u001b[0;34m=\u001b[0m\u001b[0mround\u001b[0m\u001b[0;34m(\u001b[0m\u001b[0muser_ordered_nodes\u001b[0m\u001b[0;34m)\u001b[0m\u001b[0;34m\u001b[0m\u001b[0;34m\u001b[0m\u001b[0m\n\u001b[0m\u001b[1;32m     19\u001b[0m                     \u001b[0midxs\u001b[0m\u001b[0;34m=\u001b[0m\u001b[0msubnodes\u001b[0m\u001b[0;34m.\u001b[0m\u001b[0margwhere\u001b[0m\u001b[0;34m(\u001b[0m\u001b[0;32mlambda\u001b[0m \u001b[0mo\u001b[0m\u001b[0;34m:\u001b[0m\u001b[0;32mnot\u001b[0m \u001b[0mo\u001b[0m\u001b[0;34m.\u001b[0m\u001b[0muser_defined_order\u001b[0m\u001b[0;34m)\u001b[0m\u001b[0;34m\u001b[0m\u001b[0;34m\u001b[0m\u001b[0m\n\u001b[1;32m     20\u001b[0m                     \u001b[0;32mfor\u001b[0m \u001b[0msubn\u001b[0m \u001b[0;32min\u001b[0m \u001b[0msubnmodes\u001b[0m\u001b[0;34m[\u001b[0m\u001b[0midxs\u001b[0m\u001b[0;34m]\u001b[0m\u001b[0;34m:\u001b[0m\u001b[0msubn\u001b[0m\u001b[0;34m.\u001b[0m\u001b[0morder\u001b[0m\u001b[0;34m+=\u001b[0m\u001b[0mmax_order\u001b[0m\u001b[0;34m\u001b[0m\u001b[0;34m\u001b[0m\u001b[0m\n",
      "\u001b[0;31mTypeError\u001b[0m: type list doesn't define __round__ method"
     ]
    }
   ],
   "source": [
    "list(Outer.organized_nodes(Inner).map(lambda o:f'{o.order} {o.level} {o}'))"
   ]
  },
  {
   "cell_type": "code",
   "execution_count": 34,
   "id": "afc0d4f1-fd31-4f1f-b8b9-1ada597f2453",
   "metadata": {},
   "outputs": [
    {
     "ename": "NameError",
     "evalue": "name 'Hook' is not defined",
     "output_type": "error",
     "traceback": [
      "\u001b[0;31m---------------------------------------------------------------------------\u001b[0m",
      "\u001b[0;31mNameError\u001b[0m                                 Traceback (most recent call last)",
      "\u001b[0;32m/tmp/ipykernel_300/3797790340.py\u001b[0m in \u001b[0;36m<module>\u001b[0;34m\u001b[0m\n\u001b[1;32m      1\u001b[0m \u001b[0;31m# export\u001b[0m\u001b[0;34m\u001b[0m\u001b[0;34m\u001b[0m\u001b[0;34m\u001b[0m\u001b[0m\n\u001b[0;32m----> 2\u001b[0;31m \u001b[0;32mdef\u001b[0m \u001b[0min_phase\u001b[0m\u001b[0;34m(\u001b[0m\u001b[0mhook\u001b[0m\u001b[0;34m:\u001b[0m\u001b[0mHook\u001b[0m\u001b[0;34m,\u001b[0m\u001b[0mcurrent_phase\u001b[0m\u001b[0;34m:\u001b[0m\u001b[0mstr\u001b[0m\u001b[0;34m)\u001b[0m\u001b[0;34m:\u001b[0m \u001b[0;32mreturn\u001b[0m \u001b[0mhook\u001b[0m\u001b[0;34m.\u001b[0m\u001b[0mphase\u001b[0m \u001b[0;32min\u001b[0m \u001b[0;34m[\u001b[0m\u001b[0;32mNone\u001b[0m\u001b[0;34m,\u001b[0m\u001b[0mcurrent_phase\u001b[0m\u001b[0;34m]\u001b[0m\u001b[0;34m\u001b[0m\u001b[0;34m\u001b[0m\u001b[0m\n\u001b[0m\u001b[1;32m      3\u001b[0m \u001b[0;34m\u001b[0m\u001b[0m\n\u001b[1;32m      4\u001b[0m \u001b[0;32mclass\u001b[0m \u001b[0mLoop\u001b[0m\u001b[0;34m(\u001b[0m\u001b[0mGetAttr\u001b[0m\u001b[0;34m)\u001b[0m\u001b[0;34m:\u001b[0m\u001b[0;34m\u001b[0m\u001b[0;34m\u001b[0m\u001b[0m\n\u001b[1;32m      5\u001b[0m     \u001b[0m_default\u001b[0m\u001b[0;34m=\u001b[0m\u001b[0;34m'_base'\u001b[0m\u001b[0;34m\u001b[0m\u001b[0;34m\u001b[0m\u001b[0m\n",
      "\u001b[0;31mNameError\u001b[0m: name 'Hook' is not defined"
     ]
    }
   ],
   "source": [
    "# export\n",
    "def in_phase(hook:Hook,current_phase:str): return hook.phase in [None,current_phase]\n",
    "\n",
    "class Loop(GetAttr):\n",
    "    _default='_base'\n",
    "    phases=None\n",
    "    \n",
    "    def __init__(self,\n",
    "                 inner_loops:Optional[List['Loop']]=None, # Internal `Loop` objects that are called on `indexes` \n",
    "                 cbs:Optional[List['Callback']]=None, # Callbacks to be used for a given `Loop`. These will also be used in internal loops.\n",
    "                 persist_cbs:bool=False, # Whether to review callbacks once a loop ends.\n",
    "                 call_on:List[str]=None, # A list of methods to run this loop on.\n",
    "                 parent:'Loop'=None, # Since loops can be nested, they need to reference the parent loops\n",
    "                 phases:List[str]=None # Phases that a loop supports, for example train,validate,test...\n",
    "                ):\n",
    "        store_attr(but='cbs,inner_loops,call_on,phases')\n",
    "        self.cbs=L()\n",
    "        self.inner_loops=L()\n",
    "        self.call_on=L(call_on)\n",
    "        self.add_objs(L(cbs),self.add_cb)\n",
    "        self.add_objs(L(inner_loops),self.add_loop)\n",
    "        self._base=None\n",
    "        self.__class__.phases=phases\n",
    "        self.__class__.phase=None\n",
    "        \n",
    "    def _grab_objs(self, obj_cls,ls): \n",
    "        return L(o for o in ls if isinstance(o, obj_cls))\n",
    "        \n",
    "    def add_loop(self, loop):\n",
    "        \"Instantiate, add to `self.loops`\"\n",
    "        if isinstance(loop, type):   loop = loop(base_loop=self)\n",
    "        elif loop.parent is None: loop.parent=ifnone(self.parent,self)\n",
    "        self.inner_loops.append(loop)\n",
    "        return self\n",
    "\n",
    "    def remove_loop(self, loop):\n",
    "        \"Instantiate, remove from `self.loops`\"\n",
    "        loop.base_loop=None\n",
    "        if isinstance(loop, type): \n",
    "            self.remove_objs(self._grab_objs(loop,self.inner_loops),self.remove_loop)\n",
    "        else:\n",
    "            if loop in self.inner_loops: self.inner_loops.remove(loop)\n",
    "        return self\n",
    "        \n",
    "    def add_objs(self,objs,adder):\n",
    "        \"add `cbs` to `self`\"\n",
    "        L(objs).map(adder)\n",
    "        return self\n",
    "\n",
    "    def remove_objs(self,objs,remover):\n",
    "        \"rm all `objs` from `self` using `remover`\"\n",
    "        L(objs).map(remover)\n",
    "        return self\n",
    "        \n",
    "    def add_cb(self, cb):\n",
    "        \"Instantiate, set as field in self, set as field in self._default, and add to `self.cbs`\"\n",
    "        if isinstance(cb, type): cb = cb()\n",
    "        setattr(cb,self._default,self)\n",
    "        setattr(self, cb.name, cb)\n",
    "        self.cbs.append(cb)\n",
    "        return self\n",
    "\n",
    "    def remove_cb(self, cb):\n",
    "        \"Instantiate, rm `cb` from self, rm `cb` from self._default, and remove from `self.cbs`\"\n",
    "        if isinstance(cb, type): \n",
    "            self.remove_objs(self._grab_objs(cb,self.cbs),self.remove_cb)\n",
    "        else:\n",
    "            setattr(cb,self._default,None)\n",
    "            if hasattr(self, cb.name): delattr(self, cb.name)\n",
    "            if cb in self.cbs: self.cbs.remove(cb)\n",
    "        return self\n",
    "    \n",
    "    def switch_phase(self,phase): self.phase=phase\n",
    "    \n",
    "    @classmethod\n",
    "    def hooks(cls)->List[Hook]:\n",
    "        hooks=L(Hook(hook) for k,hook in inspect.getmembers(cls) if Hook.ishook(k))\n",
    "        return hooks.sorted()\n",
    "        \n",
    "    def hooks_with_phases(self,phase=None):\n",
    "        hooks=self.hooks()\n",
    "        hooks_with_phases=L()\n",
    "        for phase in L(ifnone(phase,self.phases)):  \n",
    "            hooks_with_phases+=L(Hook(self.switch_phase,phase=phase))\n",
    "            hooks_with_phases+=hooks.filter(in_phase,current_phase=phase).map(Self.copy(phase=phase))\n",
    "            \n",
    "            \n",
    "            return L(hooks_with_phases)"
   ]
  },
  {
   "cell_type": "code",
   "execution_count": null,
   "id": "535e58f6-3f6d-497f-99f4-3bae4d5cc831",
   "metadata": {},
   "outputs": [],
   "source": [
    "class Outer(Loop):\n",
    "    def before_step(self):  return None\n",
    "    def on_step(self,_order=2):      return None\n",
    "    def after_step(self,_order=3):   return None\n",
    "    def failed_step(self,_order=4):  return None\n",
    "    def finally_step(self,_order=5,_phase='valid'): return None\n",
    "\n",
    "class Inner(Loop):\n",
    "    def before_iteration(self):  return None\n",
    "    def on_iteration(self):      return None\n",
    "    def after_iteration(self):   return None\n",
    "    def failed_iteration(self):  return None\n",
    "    def finally_iteration(self): return None"
   ]
  },
  {
   "cell_type": "code",
   "execution_count": null,
   "id": "57767d8e-6081-4efc-ae3a-3be587a80957",
   "metadata": {},
   "outputs": [],
   "source": [
    "loop=Outer(phases=L(['train','valid']),\n",
    "           inner_loops=Inner(call_on=['on_step']))\n",
    "list(loop.hooks_with_phases())"
   ]
  },
  {
   "cell_type": "code",
   "execution_count": null,
   "id": "d4cf8c0f-1615-4be8-bdf0-47e9df463d20",
   "metadata": {},
   "outputs": [],
   "source": [
    "loop=Outer(inner_loops=Inner())\n",
    "list(loop.hooks())"
   ]
  },
  {
   "cell_type": "code",
   "execution_count": null,
   "id": "13ca25af-5e11-4e9f-92be-6407bef47478",
   "metadata": {},
   "outputs": [],
   "source": [
    "# export\n",
    "class CustomLoop(Loop):pass"
   ]
  },
  {
   "cell_type": "code",
   "execution_count": null,
   "id": "7f419b1b-b27f-46ff-8a72-dea77cdd06bb",
   "metadata": {},
   "outputs": [],
   "source": [
    "# export \n",
    "class CustomCallback()"
   ]
  },
  {
   "cell_type": "code",
   "execution_count": null,
   "id": "current-pilot",
   "metadata": {},
   "outputs": [],
   "source": [
    "# hide\n",
    "from fastcore.imports import in_colab\n",
    "\n",
    "# Since colab still requires tornado<6, we don't want to import nbdev if we don't have to\n",
    "if not in_colab():\n",
    "    from nbdev.export import *\n",
    "    from nbdev.export2html import *\n",
    "    from nbverbose.cli import *\n",
    "    make_readme()\n",
    "    notebook2script()\n",
    "    notebook2html()"
   ]
  }
 ],
 "metadata": {
  "kernelspec": {
   "display_name": "Python 3 (ipykernel)",
   "language": "python",
   "name": "python3"
  },
  "language_info": {
   "codemirror_mode": {
    "name": "ipython",
    "version": 3
   },
   "file_extension": ".py",
   "mimetype": "text/x-python",
   "name": "python",
   "nbconvert_exporter": "python",
   "pygments_lexer": "ipython3",
   "version": "3.8.8"
  }
 },
 "nbformat": 4,
 "nbformat_minor": 5
}
