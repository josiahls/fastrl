{
 "cells": [
  {
   "cell_type": "code",
   "execution_count": 455,
   "id": "durable-dialogue",
   "metadata": {},
   "outputs": [],
   "source": [
    "#hide\n",
    "#skip\n",
    "%config Completer.use_jedi = False\n",
    "# upgrade fastrl on colab\n",
    "! [ -e /content ] && pip install -Uqq fastrl['dev'] pyvirtualdisplay && \\\n",
    "                     apt-get install -y xvfb python-opengl > /dev/null 2>&1 \n",
    "# NOTE: IF YOU SEE VERSION ERRORS, IT IS SAFE TO IGNORE THEM. COLAB IS BEHIND IN SOME OF THE PACKAGE VERSIONS"
   ]
  },
  {
   "cell_type": "code",
   "execution_count": 456,
   "id": "viral-cambridge",
   "metadata": {},
   "outputs": [],
   "source": [
    "# hide\n",
    "from fastcore.imports import in_colab\n",
    "# Since colab still requires tornado<6, we don't want to import nbdev if we don't have to\n",
    "if not in_colab():\n",
    "    from nbverbose.showdoc import *\n",
    "    from nbdev.imports import *\n",
    "    if not os.environ.get(\"IN_TEST\", None):\n",
    "        assert IN_NOTEBOOK\n",
    "        assert not IN_COLAB\n",
    "        assert IN_IPYTHON\n",
    "else:\n",
    "    # Virutual display is needed for colab\n",
    "    from pyvirtualdisplay import Display\n",
    "    display=Display(visible=0,size=(400,300))\n",
    "    display.start()"
   ]
  },
  {
   "cell_type": "code",
   "execution_count": 457,
   "id": "offshore-stuart",
   "metadata": {},
   "outputs": [],
   "source": [
    "# default_exp fastai.loop"
   ]
  },
  {
   "cell_type": "code",
   "execution_count": 458,
   "id": "assisted-contract",
   "metadata": {},
   "outputs": [],
   "source": [
    "# export\n",
    "# Python native modules\n",
    "import os\n",
    "from copy import deepcopy,copy\n",
    "from typing import *\n",
    "import types\n",
    "import logging\n",
    "import inspect\n",
    "# Third party libs\n",
    "from fastcore.all import *\n",
    "import numpy as np\n",
    "# Local modules\n",
    "\n",
    "_logger=logging.getLogger(__name__)"
   ]
  },
  {
   "cell_type": "markdown",
   "id": "lesser-innocent",
   "metadata": {},
   "source": [
    "# Loop\n",
    "> fastrl concept of generic loop objects. \n",
    "\n",
    "The goal for Loops is to make it easy to customize, and know how sections of code connects\n",
    "to other parts."
   ]
  },
  {
   "cell_type": "markdown",
   "id": "10116234-0510-4456-b50c-0f011c4e958b",
   "metadata": {},
   "source": [
    "### Why do we need this?\n",
    "We have identified at least 3 different kinds of loops already:\n",
    "\n",
    "    Learner (training)\n",
    "    Source/Gym (Data Access)\n",
    "    Agent (How an AI takes in data, generates actions)\n",
    "\n",
    "### What is a loop?\n",
    "\n",
    "    It should be capable of containing inner loops. \n",
    "    It should be able to handle \"phases\" that might be similar to each other. \n",
    "    It should self-describe its structure. \n",
    "    It should be easy to know which parts of the loop are taking long/short amounts of time.\n",
    "    It should be flexible in state modification.\n",
    "    It should alternatively make it easy show what fields are being changed at what points in time."
   ]
  },
  {
   "cell_type": "markdown",
   "id": "1e736013-c76a-4d9e-bf5a-771983b7ce61",
   "metadata": {},
   "source": [
    "A Loop will act as a compiled structure. The actual result will be a compiled list of nodes that reference the original loop."
   ]
  },
  {
   "cell_type": "markdown",
   "id": "e17dd88a-a25d-48af-9114-294e1f974ed0",
   "metadata": {},
   "source": [
    "Loop is a compiled object that organizes the callbacks and loop calls into a possibly repeating sequence."
   ]
  },
  {
   "cell_type": "markdown",
   "id": "ca70862a-2bae-4e92-a74d-e114ada9a0c9",
   "metadata": {},
   "source": [
    "`Literal['order',int]` contains a int that should be more than or equal to 0. This determines when a \n",
    "function in the loops should be executed relative to other functions."
   ]
  },
  {
   "cell_type": "code",
   "execution_count": 459,
   "id": "1ea9262f-c04f-4fec-94ef-3991889fdab2",
   "metadata": {},
   "outputs": [],
   "source": [
    "# export\n",
    "class Callback(object):\n",
    "    loop=None"
   ]
  },
  {
   "cell_type": "code",
   "execution_count": 460,
   "id": "5189dbac-394f-4488-bd7d-4b1937fe85a3",
   "metadata": {},
   "outputs": [],
   "source": [
    "# export\n",
    "PREFIXES=['before_','on_','after_','failed_','finally_']\n",
    "\n",
    "class NodeException(Exception):pass\n",
    "\n",
    "class Node(object):\n",
    "    def __init__(self,\n",
    "                 function:Callable,\n",
    "                 parent:Optional['Node']=None,\n",
    "                 children:Optional[List['Node']]=None,\n",
    "                 loop:'Loop'=None):\n",
    "        store_attr(but='cbs')\n",
    "        self.order=None\n",
    "        for anno in L(anno_ret(self.function)):\n",
    "            if 'order' in anno.__args__: \n",
    "                self.order=anno.__args__[-1]\n",
    "        if self.order is None: \n",
    "            raise NodeException(f'Node: {self.name} needs Literal[\"order\",int]')\n",
    "        self.cbs=L(cb() for cb in L(loop.get_cbs()) if hasattr(cb,self.name))\n",
    "        \n",
    "    def run(self):\n",
    "        self.function()\n",
    "        for cb in self.cbs: getattr(cb,self.name)(self)\n",
    "\n",
    "    def __str__(self):  return self.name\n",
    "    def __repr__(self): return str(self)\n",
    "    def __lt__(self,o:'Node'): return self.order<o.order\n",
    "    def __eq__(self,o:Union['Node',Callable]):\n",
    "        return getattr(o,'function',o).__qualname__==self.function.__qualname__\n",
    "\n",
    "    @property\n",
    "    def name(self): return self.function.__name__\n",
    "    @property\n",
    "    def prefix(self): return self.name.split('_')[0]\n",
    "    @property\n",
    "    def postfix(self): return '_'.join(self.name.split('_')[1:])\n",
    "\n",
    "    @classmethod\n",
    "    def isvalid(cls,name)->bool:\n",
    "        if isinstance(name,Callable): name=name.__name__\n",
    "        return not name.startswith('_') and \\\n",
    "          any(name.startswith(pre) for pre in PREFIXES)"
   ]
  },
  {
   "cell_type": "markdown",
   "id": "701d4acf-6030-4fde-bbb4-6aaca25b91cf",
   "metadata": {},
   "source": [
    "Nodes are self organizing parts of the Loop Graph.Their execution order is\n",
    "determined by their relationship in the graph."
   ]
  },
  {
   "cell_type": "code",
   "execution_count": 461,
   "id": "465e7302-59c4-4510-a647-d6fd6b36e173",
   "metadata": {},
   "outputs": [],
   "source": [
    "# export\n",
    "def intersection_idxs(a:L,b:L,after_insert=False):\n",
    "    \"Get the idx where elements in `a` appear in `b`. If `after_insert`=True, the offset the idxs.\"\n",
    "    idxs=a.argwhere(lambda o:not isinstance(o,(list,L)) and o in b)\n",
    "    if after_insert: return np.array(idxs)+np.arange(1,len(idxs)+1)\n",
    "    else:            return np.array(idxs)"
   ]
  },
  {
   "cell_type": "code",
   "execution_count": 462,
   "id": "57397239-241f-42f0-9e58-c9de0d0976f7",
   "metadata": {},
   "outputs": [],
   "source": [
    "original_list=L('a b c d e f g h i j k l'.split())"
   ]
  },
  {
   "cell_type": "code",
   "execution_count": 463,
   "id": "f8f08dce-7d65-445b-8e6f-7765ad879059",
   "metadata": {},
   "outputs": [
    {
     "data": {
      "text/plain": [
       "array([ 3,  6, 11])"
      ]
     },
     "execution_count": 463,
     "metadata": {},
     "output_type": "execute_result"
    }
   ],
   "source": [
    "idxs=intersection_idxs(original_list,L('d g l'.split()));idxs"
   ]
  },
  {
   "cell_type": "code",
   "execution_count": 464,
   "id": "4d8bd4d7-0822-46fb-bfc5-7ccbd8b30f38",
   "metadata": {},
   "outputs": [
    {
     "data": {
      "text/plain": [
       "array([ 4,  8, 14])"
      ]
     },
     "execution_count": 464,
     "metadata": {},
     "output_type": "execute_result"
    }
   ],
   "source": [
    "offset_idxs=intersection_idxs(original_list,L('d g l'.split()),after_insert=True);offset_idxs"
   ]
  },
  {
   "cell_type": "code",
   "execution_count": 465,
   "id": "7af1b2a2-6456-455d-827e-c9b62cf3b68c",
   "metadata": {},
   "outputs": [
    {
     "data": {
      "text/plain": [
       "['a',\n",
       " 'b',\n",
       " 'c',\n",
       " 'd',\n",
       " 'thing',\n",
       " 'e',\n",
       " 'f',\n",
       " 'g',\n",
       " 'thing',\n",
       " 'h',\n",
       " 'i',\n",
       " 'j',\n",
       " 'k',\n",
       " 'l',\n",
       " 'thing']"
      ]
     },
     "execution_count": 465,
     "metadata": {},
     "output_type": "execute_result"
    }
   ],
   "source": [
    "inserted_list=deepcopy(original_list)\n",
    "for i in offset_idxs: inserted_list.insert(i,'thing')\n",
    "list(inserted_list)"
   ]
  },
  {
   "cell_type": "code",
   "execution_count": 466,
   "id": "d0359ed0-78f7-4bb5-81f6-869770c42b4f",
   "metadata": {},
   "outputs": [],
   "source": [
    "test_eq(offset_idxs,inserted_list.argwhere(lambda o:o=='thing'))"
   ]
  },
  {
   "cell_type": "code",
   "execution_count": 467,
   "id": "a0d3d14b-55e3-4fad-a18b-558ae7be35d0",
   "metadata": {},
   "outputs": [
    {
     "data": {
      "text/plain": [
       "[before_step,\n",
       " on_step,\n",
       " (#6) [before_iteration,on_iteration,after_iteration,failed_iteration,[on_force_fail],finally_iteration],\n",
       " after_step,\n",
       " (#6) [before_iteration,on_iteration,after_iteration,failed_iteration,[on_force_fail],finally_iteration],\n",
       " failed_step,\n",
       " finally_step,\n",
       " before_jump,\n",
       " on_jump,\n",
       " after_jump,\n",
       " failed_jump,\n",
       " finally_jump,\n",
       " (#6) [before_iteration,on_iteration,after_iteration,failed_iteration,[on_force_fail],finally_iteration]]"
      ]
     },
     "execution_count": 467,
     "metadata": {},
     "output_type": "execute_result"
    }
   ],
   "source": [
    "# export\n",
    "class Loop(object):    \n",
    "    common_obj,cbs,parent_loop=None,None,None\n",
    "    \n",
    "    def __init__(self,common_obj=None,cbs=None): store_attr()\n",
    "   \n",
    "    @classmethod\n",
    "    def from_nodes(cls,loops,**kwargs):\n",
    "        loop=cls(**kwargs)\n",
    "        loop.nodes=loop.nodes(loops,instantiate=True,instance=loop)\n",
    "        return loop \n",
    "    \n",
    "    def __call__(self): return self\n",
    "    def get_cbs(self):\n",
    "        for cb in L(self.cbs): cb.loop=self\n",
    "        return L(self.cbs) if self.parent_loop is None else (self.parent_loop.get_cbs()+L(self.cbs))\n",
    "    def get_common_obj(self):\n",
    "        return ifnone(self.common_obj,ifnone(parent_loop,noop).common_obj)\n",
    "        \n",
    "    @classmethod\n",
    "    def nodes(cls,loops,parent_node=None,instantiate=False,instance=None):\n",
    "        loops=L(loops)\n",
    "        loop=ifnone(instance,cls()) if instantiate else cls\n",
    "        nodes=L(Node(n,loop=loop,parent=parent_node) \n",
    "                for k,n in inspect.getmembers(loop) if Node.isvalid(k))\n",
    "        nodes=nodes.sorted()\n",
    "        for l in loops:\n",
    "            for idx in intersection_idxs(nodes,l.call_on,after_insert=True):\n",
    "                l.parent_loop=loop\n",
    "                nodes.insert(idx,l.nodes(loops,parent_node=nodes[idx-1],\n",
    "                                         instantiate=instantiate))\n",
    "                nodes[idx-1].children=nodes[idx]\n",
    "        return nodes\n",
    "    \n",
    "    def run(self,nodes=None):\n",
    "        for n in ifnone(nodes,self.nodes):\n",
    "            if isinstance(n,(L,list)): \n",
    "                n[0].loop.run(n)\n",
    "            else:                      \n",
    "                n.run()\n",
    "\n",
    "class Outer(Loop):\n",
    "    def run(self,nodes=None):\n",
    "        print('--- ENTERING OUTER LOOP ---')\n",
    "        super().run(nodes)\n",
    "        print('--- EXITING OUTER LOOP ---')\n",
    "    \n",
    "    def before_step(self) ->Literal['order',1]:  print('before_step')\n",
    "    def on_step(self)     ->Literal['order',2]:  print('on_step')\n",
    "    def after_step(self)  ->Literal['order',3]:  print('after_step')\n",
    "    def failed_step(self) ->Literal['order',4]:  print('failed_step')\n",
    "    def finally_step(self)->Literal['order',5]:  print('finally_step')\n",
    " \n",
    "    def before_jump(self) ->Literal['order',6]:  print('before_jump')\n",
    "    def on_jump(self)     ->Literal['order',7]:  print('on_jump')\n",
    "    def after_jump(self)  ->Literal['order',8]:  print('after_jump')\n",
    "    def failed_jump(self) ->Literal['order',9]:  print('failed_jump')\n",
    "    def finally_jump(self)->Literal['order',10]: print('finally_jump')\n",
    "\n",
    "class Inner(Loop):\n",
    "    call_on=L(Outer.on_step,Outer.after_step,Outer.finally_jump)\n",
    "    \n",
    "    tab='\\t'\n",
    "    \n",
    "    def run(self,nodes=None):\n",
    "        print(self.tab,'--- ENTERING INNER LOOP ---')\n",
    "        super().run(nodes)\n",
    "        print(self.tab,'--- EXITING INNER LOOP ---')\n",
    "    \n",
    "    def before_iteration(self) ->Literal['order',1]: print(self.tab,'before_iteration')\n",
    "    def on_iteration(self)     ->Literal['order',2]: print(self.tab,'on_iteration')\n",
    "    def after_iteration(self)  ->Literal['order',3]: print(self.tab,'after_iteration')\n",
    "    def failed_iteration(self) ->Literal['order',4]: print(self.tab,'failed_iteration')\n",
    "    def finally_iteration(self)->Literal['order',5]: print(self.tab,'finally_iteration')\n",
    "    \n",
    "class FailingInner(Loop):\n",
    "    call_on=L(Inner.failed_iteration)\n",
    "    \n",
    "    tab='\\t\\t'\n",
    "    \n",
    "    def run(self,nodes=None):\n",
    "        print(self.tab,'--- ENTERING FailingInner LOOP ---')\n",
    "        super().run(nodes)\n",
    "        print(self.tab,'--- EXITING FailingInner LOOP ---')\n",
    "    \n",
    "    def on_force_fail(self) ->Literal['order',1]:                    \n",
    "        print(self.tab,'on_force_fail')\n",
    "        # raise Exception\n",
    "        \n",
    "list(Outer.nodes([Inner,FailingInner],instantiate=True))"
   ]
  },
  {
   "cell_type": "code",
   "execution_count": 468,
   "id": "237ee054-e638-40ca-8396-8ddecbbc51bc",
   "metadata": {},
   "outputs": [
    {
     "name": "stdout",
     "output_type": "stream",
     "text": [
      "--- ENTERING OUTER LOOP ---\n",
      "before_step\n",
      "on_step\n",
      "\t --- ENTERING INNER LOOP ---\n",
      "\t before_iteration\n",
      "\t on_iteration\n",
      "\t after_iteration\n",
      "\t failed_iteration\n",
      "\t\t --- ENTERING FailingInner LOOP ---\n",
      "\t\t on_force_fail\n",
      "\t\t --- EXITING FailingInner LOOP ---\n",
      "\t finally_iteration\n",
      "\t --- EXITING INNER LOOP ---\n",
      "after_step\n",
      "\t --- ENTERING INNER LOOP ---\n",
      "\t before_iteration\n",
      "\t on_iteration\n",
      "\t after_iteration\n",
      "\t failed_iteration\n",
      "\t\t --- ENTERING FailingInner LOOP ---\n",
      "\t\t on_force_fail\n",
      "\t\t --- EXITING FailingInner LOOP ---\n",
      "\t finally_iteration\n",
      "\t --- EXITING INNER LOOP ---\n",
      "failed_step\n",
      "finally_step\n",
      "before_jump\n",
      "on_jump\n",
      "after_jump\n",
      "failed_jump\n",
      "finally_jump\n",
      "\t --- ENTERING INNER LOOP ---\n",
      "\t before_iteration\n",
      "\t on_iteration\n",
      "\t after_iteration\n",
      "\t failed_iteration\n",
      "\t\t --- ENTERING FailingInner LOOP ---\n",
      "\t\t on_force_fail\n",
      "\t\t --- EXITING FailingInner LOOP ---\n",
      "\t finally_iteration\n",
      "\t --- EXITING INNER LOOP ---\n",
      "--- EXITING OUTER LOOP ---\n"
     ]
    }
   ],
   "source": [
    "Outer.from_nodes([Inner,FailingInner]).run()"
   ]
  },
  {
   "cell_type": "code",
   "execution_count": 472,
   "id": "24be4e9a-1064-4b12-ac87-5825f0d02264",
   "metadata": {},
   "outputs": [],
   "source": [
    "class OuterCallback(Callback):\n",
    "    \n",
    "    def before_iteration(self,n:Node=None):\n",
    "        print(n.loop.tab,'   OuterCallback called lol')"
   ]
  },
  {
   "cell_type": "code",
   "execution_count": 473,
   "id": "6723752e-dcc3-493b-bf1f-f2bf0dc34e83",
   "metadata": {},
   "outputs": [
    {
     "name": "stdout",
     "output_type": "stream",
     "text": [
      "--- ENTERING OUTER LOOP ---\n",
      "before_step\n",
      "on_step\n",
      "\t --- ENTERING INNER LOOP ---\n",
      "\t before_iteration\n",
      "\t    OuterCallback called lol\n",
      "\t on_iteration\n",
      "\t after_iteration\n",
      "\t failed_iteration\n",
      "\t\t --- ENTERING FailingInner LOOP ---\n",
      "\t\t on_force_fail\n",
      "\t\t --- EXITING FailingInner LOOP ---\n",
      "\t finally_iteration\n",
      "\t --- EXITING INNER LOOP ---\n",
      "after_step\n",
      "\t --- ENTERING INNER LOOP ---\n",
      "\t before_iteration\n",
      "\t    OuterCallback called lol\n",
      "\t on_iteration\n",
      "\t after_iteration\n",
      "\t failed_iteration\n",
      "\t\t --- ENTERING FailingInner LOOP ---\n",
      "\t\t on_force_fail\n",
      "\t\t --- EXITING FailingInner LOOP ---\n",
      "\t finally_iteration\n",
      "\t --- EXITING INNER LOOP ---\n",
      "failed_step\n",
      "finally_step\n",
      "before_jump\n",
      "on_jump\n",
      "after_jump\n",
      "failed_jump\n",
      "finally_jump\n",
      "\t --- ENTERING INNER LOOP ---\n",
      "\t before_iteration\n",
      "\t    OuterCallback called lol\n",
      "\t on_iteration\n",
      "\t after_iteration\n",
      "\t failed_iteration\n",
      "\t\t --- ENTERING FailingInner LOOP ---\n",
      "\t\t on_force_fail\n",
      "\t\t --- EXITING FailingInner LOOP ---\n",
      "\t finally_iteration\n",
      "\t --- EXITING INNER LOOP ---\n",
      "--- EXITING OUTER LOOP ---\n"
     ]
    }
   ],
   "source": [
    "Outer.from_nodes([Inner,FailingInner],cbs=L(OuterCallback)).run()"
   ]
  },
  {
   "cell_type": "code",
   "execution_count": 474,
   "id": "current-pilot",
   "metadata": {},
   "outputs": [
    {
     "name": "stdout",
     "output_type": "stream",
     "text": [
      "converting /home/fastrl_user/fastrl/nbs/index.ipynb to README.md\n",
      "Converted 00_core.ipynb.\n",
      "Converted 00_nbdev_extension.ipynb.\n",
      "Converted 02_fastai.loop.ipynb.\n",
      "Converted 02_fastai.loop.old.ipynb.\n",
      "Converted 03_callback.core.ipynb.\n",
      "Converted 04_agent.ipynb.\n",
      "Converted 05_data.test_async.ipynb.\n",
      "Converted 05a_data.block.ipynb.\n",
      "Converted 05b_data.gym.ipynb.\n",
      "Converted 06a_memory.experience_replay.ipynb.\n",
      "Converted 06f_memory.tensorboard.ipynb.\n",
      "Converted 10a_agents.dqn.core.ipynb.\n",
      "Converted 10b_agents.dqn.targets.ipynb.\n",
      "Converted 10c_agents.dqn.double.ipynb.\n",
      "Converted 10d_agents.dqn.dueling.ipynb.\n",
      "Converted 10e_agents.dqn.categorical.ipynb.\n",
      "Converted 11a_agents.policy_gradient.ppo.ipynb.\n",
      "Converted 20_test_utils.ipynb.\n",
      "Converted index.ipynb.\n",
      "Converted nbdev_template.ipynb.\n",
      "converting: /home/fastrl_user/fastrl/nbs/02_fastai.loop.ipynb\n"
     ]
    }
   ],
   "source": [
    "# hide\n",
    "from fastcore.imports import in_colab\n",
    "\n",
    "# Since colab still requires tornado<6, we don't want to import nbdev if we don't have to\n",
    "if not in_colab():\n",
    "    from nbdev.export import *\n",
    "    from nbdev.export2html import *\n",
    "    from nbverbose.cli import *\n",
    "    make_readme()\n",
    "    notebook2script()\n",
    "    notebook2html()"
   ]
  },
  {
   "cell_type": "code",
   "execution_count": null,
   "id": "275fa8c3-fd00-4175-928a-8767dea82dca",
   "metadata": {},
   "outputs": [],
   "source": []
  }
 ],
 "metadata": {
  "kernelspec": {
   "display_name": "Python 3 (ipykernel)",
   "language": "python",
   "name": "python3"
  },
  "language_info": {
   "codemirror_mode": {
    "name": "ipython",
    "version": 3
   },
   "file_extension": ".py",
   "mimetype": "text/x-python",
   "name": "python",
   "nbconvert_exporter": "python",
   "pygments_lexer": "ipython3",
   "version": "3.8.8"
  }
 },
 "nbformat": 4,
 "nbformat_minor": 5
}
