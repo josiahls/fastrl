{
 "cells": [
  {
   "cell_type": "code",
   "execution_count": 1,
   "id": "durable-dialogue",
   "metadata": {},
   "outputs": [],
   "source": [
    "#hide\n",
    "#skip\n",
    "%config Completer.use_jedi = False\n",
    "# upgrade fastrl on colab\n",
    "! [ -e /content ] && pip install -Uqq fastrl['dev'] pyvirtualdisplay && \\\n",
    "                     apt-get install -y xvfb python-opengl > /dev/null 2>&1 \n",
    "# NOTE: IF YOU SEE VERSION ERRORS, IT IS SAFE TO IGNORE THEM. COLAB IS BEHIND IN SOME OF THE PACKAGE VERSIONS"
   ]
  },
  {
   "cell_type": "code",
   "execution_count": 2,
   "id": "viral-cambridge",
   "metadata": {},
   "outputs": [],
   "source": [
    "# hide\n",
    "from fastcore.imports import in_colab\n",
    "# Since colab still requires tornado<6, we don't want to import nbdev if we don't have to\n",
    "if not in_colab():\n",
    "    from nbverbose.showdoc import *\n",
    "    from nbdev.imports import *\n",
    "    if not os.environ.get(\"IN_TEST\", None):\n",
    "        assert IN_NOTEBOOK\n",
    "        assert not IN_COLAB\n",
    "        assert IN_IPYTHON\n",
    "else:\n",
    "    # Virutual display is needed for colab\n",
    "    from pyvirtualdisplay import Display\n",
    "    display=Display(visible=0,size=(400,300))\n",
    "    display.start()"
   ]
  },
  {
   "cell_type": "code",
   "execution_count": 3,
   "id": "offshore-stuart",
   "metadata": {},
   "outputs": [],
   "source": [
    "# default_exp fastai.loop"
   ]
  },
  {
   "cell_type": "code",
   "execution_count": 4,
   "id": "assisted-contract",
   "metadata": {},
   "outputs": [],
   "source": [
    "# export\n",
    "# Python native modules\n",
    "import os\n",
    "from copy import deepcopy\n",
    "from typing import *\n",
    "import types\n",
    "import logging\n",
    "import inspect\n",
    "# Third party libs\n",
    "from fastcore.all import *\n",
    "# Local modules\n",
    "\n",
    "_logger=logging.getLogger(__name__)"
   ]
  },
  {
   "cell_type": "markdown",
   "id": "lesser-innocent",
   "metadata": {},
   "source": [
    "# Loop\n",
    "> fastrl concept of generic loop objects. \n",
    "\n",
    "The goal for Loops is to make it easy to customize, and know how sections of code connects\n",
    "to other parts."
   ]
  },
  {
   "cell_type": "markdown",
   "id": "10116234-0510-4456-b50c-0f011c4e958b",
   "metadata": {},
   "source": [
    "### Why do we need this?\n",
    "We have identified at least 3 different kinds of loops already:\n",
    "\n",
    "    Learner (training)\n",
    "    Source/Gym (Data Access)\n",
    "    Agent (How an AI takes in data, generates actions)\n",
    "\n",
    "### What is a loop?\n",
    "\n",
    "    It should be capable of containing inner loops. \n",
    "    It should be able to handle \"phases\" that might be similar to each other. \n",
    "    It should self-describe its structure. \n",
    "    It should be easy to know which parts of the loop are taking long/short amounts of time.\n",
    "    It should be flexible in state modification.\n",
    "    It should alternatively make it easy show what fields are being changed at what points in time."
   ]
  },
  {
   "cell_type": "markdown",
   "id": "1e736013-c76a-4d9e-bf5a-771983b7ce61",
   "metadata": {},
   "source": [
    "A Loop will act as a compiled structure. The actual result will be a compiled list of nodes that reference the original loop."
   ]
  },
  {
   "cell_type": "markdown",
   "id": "e17dd88a-a25d-48af-9114-294e1f974ed0",
   "metadata": {},
   "source": [
    "Loop is a compiled object that organizes the callbacks and loop calls into a possibly repeating sequence."
   ]
  },
  {
   "cell_type": "markdown",
   "id": "ca70862a-2bae-4e92-a74d-e114ada9a0c9",
   "metadata": {},
   "source": [
    "`Literal['order',int]` contains a int that should be more than or equal to 0. This determines when a \n",
    "function in the loops should be executed relative to other functions."
   ]
  },
  {
   "cell_type": "code",
   "execution_count": 75,
   "id": "5189dbac-394f-4488-bd7d-4b1937fe85a3",
   "metadata": {},
   "outputs": [],
   "source": [
    "# export\n",
    "PREFIXES=['before_','on_','after_','failed_','finally_']\n",
    "\n",
    "class NodeException(Exception):pass\n",
    "\n",
    "class Node(object):\n",
    "    def __init__(self,\n",
    "                 function:Callable,\n",
    "                 parent:Optional['Node']=None,\n",
    "                 children:Optional[List['Node']]=None):\n",
    "        store_attr()\n",
    "        self.order=None\n",
    "        for anno in L(anno_ret(self.function)):\n",
    "            if 'order' in anno.__args__: \n",
    "                self.order=anno.__args__[-1]\n",
    "        if self.order is None: \n",
    "            raise NodeException(f'Node: {self.name} needs Literal[\"order\",int]')\n",
    "        \n",
    "    def __str__(self):  return self.name\n",
    "    def __repr__(self): return str(self)\n",
    "    def __lt__(self,o:'Node'): return self.order<o.order\n",
    "    def __eq__(self,o:Union['Node',Callable]):\n",
    "        return getattr(o,'function',o).__qualname__==self.function.__qualname__\n",
    "\n",
    "    @property\n",
    "    def name(self): return self.function.__name__\n",
    "    @property\n",
    "    def prefix(self): return self.name.split('_')[0]\n",
    "    @property\n",
    "    def postfix(self): return '_'.join(self.name.split('_')[1:])\n",
    "\n",
    "    @classmethod\n",
    "    def isvalid(cls,name)->bool:\n",
    "        if isinstance(name,Callable): name=name.__name__\n",
    "        return not name.startswith('_') and \\\n",
    "          any(name.startswith(pre) for pre in PREFIXES)"
   ]
  },
  {
   "cell_type": "markdown",
   "id": "701d4acf-6030-4fde-bbb4-6aaca25b91cf",
   "metadata": {},
   "source": [
    "Nodes are self organizing parts of the Loop Graph.Their execution order is\n",
    "determined by their relationship in the graph."
   ]
  },
  {
   "cell_type": "code",
   "execution_count": 124,
   "id": "a0d3d14b-55e3-4fad-a18b-558ae7be35d0",
   "metadata": {},
   "outputs": [],
   "source": [
    "# export\n",
    "class BaseLoop(object):\n",
    "    \n",
    "    @classmethod\n",
    "    def nodes(cls,loops,instantiate=False):\n",
    "        loops=L(loops)\n",
    "        loop=cls() if instantiate else cls\n",
    "        nodes=L(Node(node) for k,node in inspect.getmembers(loop) if Node.isvalid(k))\n",
    "        nodes=nodes.sorted()\n",
    "        for l in loops:\n",
    "            print(l)\n",
    "            for n in nodes:\n",
    "                print(n)\n",
    "                print(n in l.call_on)\n",
    "            indexes=nodes.argwhere(lambda o:o in l.call_on)\n",
    "            for i,idx in enumerate(indexes): \n",
    "                nodes.insert(idx+1,l.nodes(loops,instantiate))\n",
    "                for j in range(i,len(indexes)): indexes[j]+=1\n",
    "                \n",
    "        return nodes\n",
    "\n",
    "class Loop(BaseLoop):pass\n",
    "\n",
    "class Outer(BaseLoop):\n",
    "    def before_step(self) ->Literal['order',1]:  print('before_step')\n",
    "    def on_step(self)     ->Literal['order',2]:  print('on_step')\n",
    "    def after_step(self)  ->Literal['order',3]:  print('after_step')\n",
    "    def failed_step(self) ->Literal['order',4]:  print('failed_step')\n",
    "    def finally_step(self)->Literal['order',5]:  print('finally_step')\n",
    " \n",
    "    def before_jump(self) ->Literal['order',6]:  print('before_jump')\n",
    "    def on_jump(self)     ->Literal['order',7]:  print('on_jump')\n",
    "    def after_jump(self)  ->Literal['order',8]:  print('after_jump')\n",
    "    def failed_jump(self) ->Literal['order',9]:  print('failed_jump')\n",
    "    def finally_jump(self)->Literal['order',10]: print('finally_jump')\n",
    "\n",
    "class Inner(Loop):\n",
    "    call_on=L(Outer.on_step,Outer.after_step,Outer.finally_jump)\n",
    "    \n",
    "    def before_iteration(self) ->Literal['order',1]: print('before_iteration')\n",
    "    def on_iteration(self)     ->Literal['order',2]: print('on_iteration')\n",
    "    def after_iteration(self)  ->Literal['order',3]: print('after_iteration')\n",
    "    def failed_iteration(self) ->Literal['order',4]: print('failed_iteration')\n",
    "    def finally_iteration(self)->Literal['order',5]: print('finally_iteration')\n",
    "    \n",
    "class FailingInner(Loop):\n",
    "    call_on=L(Inner.finally_iteration)\n",
    "    \n",
    "    def on_force_fail(self) ->Literal['order',1]:                    \n",
    "        print('on_force_fail')\n",
    "        raise Exception"
   ]
  },
  {
   "cell_type": "code",
   "execution_count": 125,
   "id": "5b8b9c93-9cd1-4a83-91fc-ee4c63d76562",
   "metadata": {},
   "outputs": [
    {
     "name": "stdout",
     "output_type": "stream",
     "text": [
      "<class '__main__.Inner'>\n",
      "before_step\n",
      "False\n",
      "on_step\n",
      "True\n",
      "after_step\n",
      "True\n",
      "failed_step\n",
      "False\n",
      "finally_step\n",
      "False\n",
      "before_jump\n",
      "False\n",
      "on_jump\n",
      "False\n",
      "after_jump\n",
      "False\n",
      "failed_jump\n",
      "False\n",
      "finally_jump\n",
      "True\n",
      "<class '__main__.Inner'>\n",
      "before_iteration\n",
      "False\n",
      "on_iteration\n",
      "False\n",
      "after_iteration\n",
      "False\n",
      "failed_iteration\n",
      "False\n",
      "finally_iteration\n",
      "False\n",
      "<class '__main__.FailingInner'>\n",
      "before_iteration\n",
      "False\n",
      "on_iteration\n",
      "False\n",
      "after_iteration\n",
      "False\n",
      "failed_iteration\n",
      "False\n",
      "finally_iteration\n",
      "True\n",
      "<class '__main__.Inner'>\n",
      "on_force_fail\n",
      "False\n",
      "<class '__main__.FailingInner'>\n",
      "on_force_fail\n",
      "False\n",
      "<class '__main__.Inner'>\n",
      "before_iteration\n",
      "False\n",
      "on_iteration\n",
      "False\n",
      "after_iteration\n",
      "False\n",
      "failed_iteration\n",
      "False\n",
      "finally_iteration\n",
      "False\n",
      "<class '__main__.FailingInner'>\n",
      "before_iteration\n",
      "False\n",
      "on_iteration\n",
      "False\n",
      "after_iteration\n",
      "False\n",
      "failed_iteration\n",
      "False\n",
      "finally_iteration\n",
      "True\n",
      "<class '__main__.Inner'>\n",
      "on_force_fail\n",
      "False\n",
      "<class '__main__.FailingInner'>\n",
      "on_force_fail\n",
      "False\n",
      "<class '__main__.Inner'>\n",
      "before_iteration\n",
      "False\n",
      "on_iteration\n",
      "False\n",
      "after_iteration\n",
      "False\n",
      "failed_iteration\n",
      "False\n",
      "finally_iteration\n",
      "False\n",
      "<class '__main__.FailingInner'>\n",
      "before_iteration\n",
      "False\n",
      "on_iteration\n",
      "False\n",
      "after_iteration\n",
      "False\n",
      "failed_iteration\n",
      "False\n",
      "finally_iteration\n",
      "True\n",
      "<class '__main__.Inner'>\n",
      "on_force_fail\n",
      "False\n",
      "<class '__main__.FailingInner'>\n",
      "on_force_fail\n",
      "False\n",
      "<class '__main__.FailingInner'>\n",
      "before_step\n",
      "False\n",
      "on_step\n",
      "False\n",
      "[before_iteration, on_iteration, after_iteration, failed_iteration, finally_iteration, [on_force_fail]]\n"
     ]
    },
    {
     "ename": "TypeError",
     "evalue": "'function' object is not iterable",
     "output_type": "error",
     "traceback": [
      "\u001b[0;31m---------------------------------------------------------------------------\u001b[0m",
      "\u001b[0;31mTypeError\u001b[0m                                 Traceback (most recent call last)",
      "\u001b[0;32m/tmp/ipykernel_107/536590300.py\u001b[0m in \u001b[0;36m<module>\u001b[0;34m\u001b[0m\n\u001b[0;32m----> 1\u001b[0;31m \u001b[0mn\u001b[0m\u001b[0;34m=\u001b[0m\u001b[0mOuter\u001b[0m\u001b[0;34m.\u001b[0m\u001b[0mnodes\u001b[0m\u001b[0;34m(\u001b[0m\u001b[0;34m[\u001b[0m\u001b[0mInner\u001b[0m\u001b[0;34m,\u001b[0m\u001b[0mFailingInner\u001b[0m\u001b[0;34m]\u001b[0m\u001b[0;34m)\u001b[0m\u001b[0;34m\u001b[0m\u001b[0;34m\u001b[0m\u001b[0m\n\u001b[0m",
      "\u001b[0;32m/tmp/ipykernel_107/2098880156.py\u001b[0m in \u001b[0;36mnodes\u001b[0;34m(cls, loops, instantiate)\u001b[0m\n\u001b[1;32m     12\u001b[0m             \u001b[0;32mfor\u001b[0m \u001b[0mn\u001b[0m \u001b[0;32min\u001b[0m \u001b[0mnodes\u001b[0m\u001b[0;34m:\u001b[0m\u001b[0;34m\u001b[0m\u001b[0;34m\u001b[0m\u001b[0m\n\u001b[1;32m     13\u001b[0m                 \u001b[0mprint\u001b[0m\u001b[0;34m(\u001b[0m\u001b[0mn\u001b[0m\u001b[0;34m)\u001b[0m\u001b[0;34m\u001b[0m\u001b[0;34m\u001b[0m\u001b[0m\n\u001b[0;32m---> 14\u001b[0;31m                 \u001b[0mprint\u001b[0m\u001b[0;34m(\u001b[0m\u001b[0mn\u001b[0m \u001b[0;32min\u001b[0m \u001b[0ml\u001b[0m\u001b[0;34m.\u001b[0m\u001b[0mcall_on\u001b[0m\u001b[0;34m)\u001b[0m\u001b[0;34m\u001b[0m\u001b[0;34m\u001b[0m\u001b[0m\n\u001b[0m\u001b[1;32m     15\u001b[0m             \u001b[0mindexes\u001b[0m\u001b[0;34m=\u001b[0m\u001b[0mnodes\u001b[0m\u001b[0;34m.\u001b[0m\u001b[0margwhere\u001b[0m\u001b[0;34m(\u001b[0m\u001b[0;32mlambda\u001b[0m \u001b[0mo\u001b[0m\u001b[0;34m:\u001b[0m\u001b[0mo\u001b[0m \u001b[0;32min\u001b[0m \u001b[0ml\u001b[0m\u001b[0;34m.\u001b[0m\u001b[0mcall_on\u001b[0m\u001b[0;34m)\u001b[0m\u001b[0;34m\u001b[0m\u001b[0;34m\u001b[0m\u001b[0m\n\u001b[1;32m     16\u001b[0m             \u001b[0;32mfor\u001b[0m \u001b[0mi\u001b[0m\u001b[0;34m,\u001b[0m\u001b[0midx\u001b[0m \u001b[0;32min\u001b[0m \u001b[0menumerate\u001b[0m\u001b[0;34m(\u001b[0m\u001b[0mindexes\u001b[0m\u001b[0;34m)\u001b[0m\u001b[0;34m:\u001b[0m\u001b[0;34m\u001b[0m\u001b[0;34m\u001b[0m\u001b[0m\n",
      "\u001b[0;32m~/fastcore/fastcore/foundation.py\u001b[0m in \u001b[0;36m__contains__\u001b[0;34m(self, b)\u001b[0m\n\u001b[1;32m    135\u001b[0m     \u001b[0;32mdef\u001b[0m \u001b[0msorted\u001b[0m\u001b[0;34m(\u001b[0m\u001b[0mself\u001b[0m\u001b[0;34m,\u001b[0m \u001b[0mkey\u001b[0m\u001b[0;34m=\u001b[0m\u001b[0;32mNone\u001b[0m\u001b[0;34m,\u001b[0m \u001b[0mreverse\u001b[0m\u001b[0;34m=\u001b[0m\u001b[0;32mFalse\u001b[0m\u001b[0;34m)\u001b[0m\u001b[0;34m:\u001b[0m \u001b[0;32mreturn\u001b[0m \u001b[0mself\u001b[0m\u001b[0;34m.\u001b[0m\u001b[0m_new\u001b[0m\u001b[0;34m(\u001b[0m\u001b[0msorted_ex\u001b[0m\u001b[0;34m(\u001b[0m\u001b[0mself\u001b[0m\u001b[0;34m,\u001b[0m \u001b[0mkey\u001b[0m\u001b[0;34m=\u001b[0m\u001b[0mkey\u001b[0m\u001b[0;34m,\u001b[0m \u001b[0mreverse\u001b[0m\u001b[0;34m=\u001b[0m\u001b[0mreverse\u001b[0m\u001b[0;34m)\u001b[0m\u001b[0;34m)\u001b[0m\u001b[0;34m\u001b[0m\u001b[0;34m\u001b[0m\u001b[0m\n\u001b[1;32m    136\u001b[0m     \u001b[0;32mdef\u001b[0m \u001b[0m__iter__\u001b[0m\u001b[0;34m(\u001b[0m\u001b[0mself\u001b[0m\u001b[0;34m)\u001b[0m\u001b[0;34m:\u001b[0m \u001b[0;32mreturn\u001b[0m \u001b[0miter\u001b[0m\u001b[0;34m(\u001b[0m\u001b[0mself\u001b[0m\u001b[0;34m.\u001b[0m\u001b[0mitems\u001b[0m\u001b[0;34m.\u001b[0m\u001b[0mitertuples\u001b[0m\u001b[0;34m(\u001b[0m\u001b[0;34m)\u001b[0m \u001b[0;32mif\u001b[0m \u001b[0mhasattr\u001b[0m\u001b[0;34m(\u001b[0m\u001b[0mself\u001b[0m\u001b[0;34m.\u001b[0m\u001b[0mitems\u001b[0m\u001b[0;34m,\u001b[0m\u001b[0;34m'iloc'\u001b[0m\u001b[0;34m)\u001b[0m \u001b[0;32melse\u001b[0m \u001b[0mself\u001b[0m\u001b[0;34m.\u001b[0m\u001b[0mitems\u001b[0m\u001b[0;34m)\u001b[0m\u001b[0;34m\u001b[0m\u001b[0;34m\u001b[0m\u001b[0m\n\u001b[0;32m--> 137\u001b[0;31m     \u001b[0;32mdef\u001b[0m \u001b[0m__contains__\u001b[0m\u001b[0;34m(\u001b[0m\u001b[0mself\u001b[0m\u001b[0;34m,\u001b[0m\u001b[0mb\u001b[0m\u001b[0;34m)\u001b[0m\u001b[0;34m:\u001b[0m \u001b[0;32mreturn\u001b[0m \u001b[0mb\u001b[0m \u001b[0;32min\u001b[0m \u001b[0mself\u001b[0m\u001b[0;34m.\u001b[0m\u001b[0mitems\u001b[0m\u001b[0;34m\u001b[0m\u001b[0;34m\u001b[0m\u001b[0m\n\u001b[0m\u001b[1;32m    138\u001b[0m     \u001b[0;32mdef\u001b[0m \u001b[0m__reversed__\u001b[0m\u001b[0;34m(\u001b[0m\u001b[0mself\u001b[0m\u001b[0;34m)\u001b[0m\u001b[0;34m:\u001b[0m \u001b[0;32mreturn\u001b[0m \u001b[0mself\u001b[0m\u001b[0;34m.\u001b[0m\u001b[0m_new\u001b[0m\u001b[0;34m(\u001b[0m\u001b[0mreversed\u001b[0m\u001b[0;34m(\u001b[0m\u001b[0mself\u001b[0m\u001b[0;34m.\u001b[0m\u001b[0mitems\u001b[0m\u001b[0;34m)\u001b[0m\u001b[0;34m)\u001b[0m\u001b[0;34m\u001b[0m\u001b[0;34m\u001b[0m\u001b[0m\n\u001b[1;32m    139\u001b[0m     \u001b[0;32mdef\u001b[0m \u001b[0m__invert__\u001b[0m\u001b[0;34m(\u001b[0m\u001b[0mself\u001b[0m\u001b[0;34m)\u001b[0m\u001b[0;34m:\u001b[0m \u001b[0;32mreturn\u001b[0m \u001b[0mself\u001b[0m\u001b[0;34m.\u001b[0m\u001b[0m_new\u001b[0m\u001b[0;34m(\u001b[0m\u001b[0;32mnot\u001b[0m \u001b[0mi\u001b[0m \u001b[0;32mfor\u001b[0m \u001b[0mi\u001b[0m \u001b[0;32min\u001b[0m \u001b[0mself\u001b[0m\u001b[0;34m)\u001b[0m\u001b[0;34m\u001b[0m\u001b[0;34m\u001b[0m\u001b[0m\n",
      "\u001b[0;32m~/fastcore/fastcore/foundation.py\u001b[0m in \u001b[0;36m__eq__\u001b[0;34m(self, b)\u001b[0m\n\u001b[1;32m    131\u001b[0m         \u001b[0;32mif\u001b[0m \u001b[0mrisinstance\u001b[0m\u001b[0;34m(\u001b[0m\u001b[0;34m'ndarray'\u001b[0m\u001b[0;34m,\u001b[0m \u001b[0mb\u001b[0m\u001b[0;34m)\u001b[0m\u001b[0;34m:\u001b[0m \u001b[0;32mreturn\u001b[0m \u001b[0marray_equal\u001b[0m\u001b[0;34m(\u001b[0m\u001b[0mb\u001b[0m\u001b[0;34m,\u001b[0m \u001b[0mself\u001b[0m\u001b[0;34m)\u001b[0m\u001b[0;34m\u001b[0m\u001b[0;34m\u001b[0m\u001b[0m\n\u001b[1;32m    132\u001b[0m         \u001b[0;32mif\u001b[0m \u001b[0misinstance\u001b[0m\u001b[0;34m(\u001b[0m\u001b[0mb\u001b[0m\u001b[0;34m,\u001b[0m \u001b[0;34m(\u001b[0m\u001b[0mstr\u001b[0m\u001b[0;34m,\u001b[0m\u001b[0mdict\u001b[0m\u001b[0;34m)\u001b[0m\u001b[0;34m)\u001b[0m\u001b[0;34m:\u001b[0m \u001b[0;32mreturn\u001b[0m \u001b[0;32mFalse\u001b[0m\u001b[0;34m\u001b[0m\u001b[0;34m\u001b[0m\u001b[0m\n\u001b[0;32m--> 133\u001b[0;31m         \u001b[0;32mreturn\u001b[0m \u001b[0mall_equal\u001b[0m\u001b[0;34m(\u001b[0m\u001b[0mb\u001b[0m\u001b[0;34m,\u001b[0m\u001b[0mself\u001b[0m\u001b[0;34m)\u001b[0m\u001b[0;34m\u001b[0m\u001b[0;34m\u001b[0m\u001b[0m\n\u001b[0m\u001b[1;32m    134\u001b[0m \u001b[0;34m\u001b[0m\u001b[0m\n\u001b[1;32m    135\u001b[0m     \u001b[0;32mdef\u001b[0m \u001b[0msorted\u001b[0m\u001b[0;34m(\u001b[0m\u001b[0mself\u001b[0m\u001b[0;34m,\u001b[0m \u001b[0mkey\u001b[0m\u001b[0;34m=\u001b[0m\u001b[0;32mNone\u001b[0m\u001b[0;34m,\u001b[0m \u001b[0mreverse\u001b[0m\u001b[0;34m=\u001b[0m\u001b[0;32mFalse\u001b[0m\u001b[0;34m)\u001b[0m\u001b[0;34m:\u001b[0m \u001b[0;32mreturn\u001b[0m \u001b[0mself\u001b[0m\u001b[0;34m.\u001b[0m\u001b[0m_new\u001b[0m\u001b[0;34m(\u001b[0m\u001b[0msorted_ex\u001b[0m\u001b[0;34m(\u001b[0m\u001b[0mself\u001b[0m\u001b[0;34m,\u001b[0m \u001b[0mkey\u001b[0m\u001b[0;34m=\u001b[0m\u001b[0mkey\u001b[0m\u001b[0;34m,\u001b[0m \u001b[0mreverse\u001b[0m\u001b[0;34m=\u001b[0m\u001b[0mreverse\u001b[0m\u001b[0;34m)\u001b[0m\u001b[0;34m)\u001b[0m\u001b[0;34m\u001b[0m\u001b[0;34m\u001b[0m\u001b[0m\n",
      "\u001b[0;32m~/fastcore/fastcore/imports.py\u001b[0m in \u001b[0;36mall_equal\u001b[0;34m(a, b)\u001b[0m\n\u001b[1;32m     31\u001b[0m     \u001b[0;34m\"Compares whether `a` and `b` are the same length and have the same contents\"\u001b[0m\u001b[0;34m\u001b[0m\u001b[0;34m\u001b[0m\u001b[0m\n\u001b[1;32m     32\u001b[0m     \u001b[0;32mif\u001b[0m \u001b[0;32mnot\u001b[0m \u001b[0mis_iter\u001b[0m\u001b[0;34m(\u001b[0m\u001b[0mb\u001b[0m\u001b[0;34m)\u001b[0m\u001b[0;34m:\u001b[0m \u001b[0;32mreturn\u001b[0m \u001b[0;32mFalse\u001b[0m\u001b[0;34m\u001b[0m\u001b[0;34m\u001b[0m\u001b[0m\n\u001b[0;32m---> 33\u001b[0;31m     \u001b[0;32mreturn\u001b[0m \u001b[0mall\u001b[0m\u001b[0;34m(\u001b[0m\u001b[0mequals\u001b[0m\u001b[0;34m(\u001b[0m\u001b[0ma_\u001b[0m\u001b[0;34m,\u001b[0m\u001b[0mb_\u001b[0m\u001b[0;34m)\u001b[0m \u001b[0;32mfor\u001b[0m \u001b[0ma_\u001b[0m\u001b[0;34m,\u001b[0m\u001b[0mb_\u001b[0m \u001b[0;32min\u001b[0m \u001b[0mitertools\u001b[0m\u001b[0;34m.\u001b[0m\u001b[0mzip_longest\u001b[0m\u001b[0;34m(\u001b[0m\u001b[0ma\u001b[0m\u001b[0;34m,\u001b[0m\u001b[0mb\u001b[0m\u001b[0;34m)\u001b[0m\u001b[0;34m)\u001b[0m\u001b[0;34m\u001b[0m\u001b[0;34m\u001b[0m\u001b[0m\n\u001b[0m\u001b[1;32m     34\u001b[0m \u001b[0;34m\u001b[0m\u001b[0m\n\u001b[1;32m     35\u001b[0m \u001b[0;32mdef\u001b[0m \u001b[0mnoop\u001b[0m \u001b[0;34m(\u001b[0m\u001b[0mx\u001b[0m\u001b[0;34m=\u001b[0m\u001b[0;32mNone\u001b[0m\u001b[0;34m,\u001b[0m \u001b[0;34m*\u001b[0m\u001b[0margs\u001b[0m\u001b[0;34m,\u001b[0m \u001b[0;34m**\u001b[0m\u001b[0mkwargs\u001b[0m\u001b[0;34m)\u001b[0m\u001b[0;34m:\u001b[0m\u001b[0;34m\u001b[0m\u001b[0;34m\u001b[0m\u001b[0m\n",
      "\u001b[0;31mTypeError\u001b[0m: 'function' object is not iterable"
     ]
    }
   ],
   "source": [
    "n=Outer.nodes([Inner,FailingInner])"
   ]
  },
  {
   "cell_type": "code",
   "execution_count": 119,
   "id": "80444ba2-f4d5-4d2a-b074-60ae764ff340",
   "metadata": {},
   "outputs": [
    {
     "data": {
      "text/plain": [
       "[before_step,\n",
       " on_step,\n",
       " (#5) [before_iteration,on_iteration,after_iteration,failed_iteration,finally_iteration],\n",
       " after_step,\n",
       " (#5) [before_iteration,on_iteration,after_iteration,failed_iteration,finally_iteration],\n",
       " failed_step,\n",
       " finally_step,\n",
       " before_jump,\n",
       " on_jump,\n",
       " after_jump,\n",
       " failed_jump,\n",
       " finally_jump,\n",
       " (#5) [before_iteration,on_iteration,after_iteration,failed_iteration,finally_iteration]]"
      ]
     },
     "execution_count": 119,
     "metadata": {},
     "output_type": "execute_result"
    }
   ],
   "source": [
    "list(n)"
   ]
  },
  {
   "cell_type": "code",
   "execution_count": 13,
   "id": "5891a454-7a6f-44bb-af25-6707c4470bcb",
   "metadata": {},
   "outputs": [],
   "source": [
    "out=inspect.signature(n[0].function)"
   ]
  },
  {
   "cell_type": "code",
   "execution_count": 17,
   "id": "22dcba27-0fcd-489c-9145-ed1c8381f4f8",
   "metadata": {},
   "outputs": [
    {
     "data": {
      "text/plain": [
       "<Signature (self) -> Literal['order', 1]>"
      ]
     },
     "execution_count": 17,
     "metadata": {},
     "output_type": "execute_result"
    }
   ],
   "source": [
    "out"
   ]
  },
  {
   "cell_type": "code",
   "execution_count": 49,
   "id": "88a8213d-2d07-4c67-ad7f-6ebcb9442b0e",
   "metadata": {},
   "outputs": [
    {
     "data": {
      "text/plain": [
       "'__main__'"
      ]
     },
     "execution_count": 49,
     "metadata": {},
     "output_type": "execute_result"
    }
   ],
   "source": [
    "n[0].function.__module__"
   ]
  },
  {
   "cell_type": "code",
   "execution_count": 51,
   "id": "6d7fea0f-1457-4cde-ac5a-c0a90bdd3300",
   "metadata": {},
   "outputs": [
    {
     "data": {
      "text/plain": [
       "{}"
      ]
     },
     "execution_count": 51,
     "metadata": {},
     "output_type": "execute_result"
    }
   ],
   "source": [
    "test.__annotations__"
   ]
  },
  {
   "cell_type": "code",
   "execution_count": 73,
   "id": "f54dc996-8760-40e9-a6bf-cba382affcc8",
   "metadata": {},
   "outputs": [
    {
     "data": {
      "text/plain": [
       "'Outer.on_step'"
      ]
     },
     "execution_count": 73,
     "metadata": {},
     "output_type": "execute_result"
    }
   ],
   "source": [
    "Inner.call_on[0].__qualname__"
   ]
  },
  {
   "cell_type": "code",
   "execution_count": 71,
   "id": "dd8f0526-e43d-4211-ae69-b933f20e2ef1",
   "metadata": {},
   "outputs": [
    {
     "data": {
      "text/plain": [
       "'Outer.before_step'"
      ]
     },
     "execution_count": 71,
     "metadata": {},
     "output_type": "execute_result"
    }
   ],
   "source": [
    "n[0].function.__qualname__"
   ]
  },
  {
   "cell_type": "code",
   "execution_count": 69,
   "id": "0174033b-937a-47b0-81d2-a48bca12aa78",
   "metadata": {},
   "outputs": [
    {
     "data": {
      "text/plain": [
       "{'__repr__': '<function Outer.before_step at 0x7ff4919a4310>',\n",
       " '__call__': <method-wrapper '__call__' of function object at 0x7ff4919a4310>,\n",
       " '__get__': <method-wrapper '__get__' of function object at 0x7ff4919a4310>,\n",
       " '__new__': <function function.__new__(*args, **kwargs)>,\n",
       " '__closure__': None,\n",
       " '__doc__': None,\n",
       " '__module__': '__main__',\n",
       " '__code__': <code object before_step at 0x7ff491992f50, file \"/tmp/ipykernel_107/810355912.py\", line 13>,\n",
       " '__defaults__': None,\n",
       " '__kwdefaults__': None,\n",
       " '__annotations__': {'return': typing.Literal['order', 1]},\n",
       " '__dict__': {},\n",
       " '__name__': 'before_step',\n",
       " '__qualname__': 'Outer.before_step',\n",
       " '__hash__': 8793024472113,\n",
       " '__str__': '<function Outer.before_step at 0x7ff4919a4310>',\n",
       " '__getattribute__': <method-wrapper '__getattribute__' of function object at 0x7ff4919a4310>,\n",
       " '__setattr__': <method-wrapper '__setattr__' of function object at 0x7ff4919a4310>,\n",
       " '__delattr__': <method-wrapper '__delattr__' of function object at 0x7ff4919a4310>,\n",
       " '__lt__': <method-wrapper '__lt__' of function object at 0x7ff4919a4310>,\n",
       " '__le__': <method-wrapper '__le__' of function object at 0x7ff4919a4310>,\n",
       " '__eq__': <method-wrapper '__eq__' of function object at 0x7ff4919a4310>,\n",
       " '__ne__': <method-wrapper '__ne__' of function object at 0x7ff4919a4310>,\n",
       " '__gt__': <method-wrapper '__gt__' of function object at 0x7ff4919a4310>,\n",
       " '__ge__': <method-wrapper '__ge__' of function object at 0x7ff4919a4310>,\n",
       " '__init__': None,\n",
       " '__reduce_ex__': <function function.__reduce_ex__(protocol, /)>,\n",
       " '__reduce__': <function function.__reduce__()>,\n",
       " '__subclasshook__': NotImplemented,\n",
       " '__init_subclass__': None,\n",
       " '__format__': <function function.__format__(format_spec, /)>,\n",
       " '__sizeof__': 120,\n",
       " '__dir__': ['__repr__',\n",
       "  '__call__',\n",
       "  '__get__',\n",
       "  '__new__',\n",
       "  '__closure__',\n",
       "  '__doc__',\n",
       "  '__globals__',\n",
       "  '__module__',\n",
       "  '__code__',\n",
       "  '__defaults__',\n",
       "  '__kwdefaults__',\n",
       "  '__annotations__',\n",
       "  '__dict__',\n",
       "  '__name__',\n",
       "  '__qualname__',\n",
       "  '__hash__',\n",
       "  '__str__',\n",
       "  '__getattribute__',\n",
       "  '__setattr__',\n",
       "  '__delattr__',\n",
       "  '__lt__',\n",
       "  '__le__',\n",
       "  '__eq__',\n",
       "  '__ne__',\n",
       "  '__gt__',\n",
       "  '__ge__',\n",
       "  '__init__',\n",
       "  '__reduce_ex__',\n",
       "  '__reduce__',\n",
       "  '__subclasshook__',\n",
       "  '__init_subclass__',\n",
       "  '__format__',\n",
       "  '__sizeof__',\n",
       "  '__dir__',\n",
       "  '__class__'],\n",
       " '__class__': function}"
      ]
     },
     "execution_count": 69,
     "metadata": {},
     "output_type": "execute_result"
    }
   ],
   "source": [
    "def run_or_return(f):\n",
    "    try: return f()\n",
    "    except: return f\n",
    "\n",
    "{v:run_or_return(getattr(n[0].function,v)) for v in n[0].function.__dir__() if v not in ['__globals__']}"
   ]
  },
  {
   "cell_type": "code",
   "execution_count": 59,
   "id": "74029e7b-3c26-46ae-88d5-bc0bc36454e3",
   "metadata": {},
   "outputs": [
    {
     "data": {
      "text/plain": [
       "function"
      ]
     },
     "execution_count": 59,
     "metadata": {},
     "output_type": "execute_result"
    }
   ],
   "source": [
    "n[0].function.__class__"
   ]
  },
  {
   "cell_type": "code",
   "execution_count": 60,
   "id": "c13a1ac4-afcd-4c0d-bfbe-51cb6d5d83dc",
   "metadata": {},
   "outputs": [
    {
     "data": {
      "text/plain": [
       "function"
      ]
     },
     "execution_count": 60,
     "metadata": {},
     "output_type": "execute_result"
    }
   ],
   "source": [
    "n[0].function.__class__"
   ]
  },
  {
   "cell_type": "code",
   "execution_count": 61,
   "id": "773ec01c-4506-4e10-8797-62cb08c7457f",
   "metadata": {},
   "outputs": [
    {
     "data": {
      "text/plain": [
       "function"
      ]
     },
     "execution_count": 61,
     "metadata": {},
     "output_type": "execute_result"
    }
   ],
   "source": [
    "n[0].function.__class__"
   ]
  },
  {
   "cell_type": "code",
   "execution_count": 62,
   "id": "f3ef676f-29ec-4688-a6bd-84a8aed60ac7",
   "metadata": {},
   "outputs": [
    {
     "data": {
      "text/plain": [
       "function"
      ]
     },
     "execution_count": 62,
     "metadata": {},
     "output_type": "execute_result"
    }
   ],
   "source": [
    "n[0].function.__class__"
   ]
  },
  {
   "cell_type": "code",
   "execution_count": 63,
   "id": "a267385f-0599-469d-ba7e-41481489fdb4",
   "metadata": {},
   "outputs": [
    {
     "data": {
      "text/plain": [
       "function"
      ]
     },
     "execution_count": 63,
     "metadata": {},
     "output_type": "execute_result"
    }
   ],
   "source": [
    "n[0].function.__class__"
   ]
  },
  {
   "cell_type": "code",
   "execution_count": null,
   "id": "210acd8d-5078-4f7d-8cc7-c5923cbc5fdd",
   "metadata": {},
   "outputs": [],
   "source": [
    "n[0].function.__class__"
   ]
  },
  {
   "cell_type": "code",
   "execution_count": 58,
   "id": "e7f8ab6c-4289-4e4c-a78c-1db61e94e615",
   "metadata": {},
   "outputs": [
    {
     "data": {
      "text/plain": [
       "function"
      ]
     },
     "execution_count": 58,
     "metadata": {},
     "output_type": "execute_result"
    }
   ],
   "source": [
    "n[0].function.__class__"
   ]
  },
  {
   "cell_type": "code",
   "execution_count": 26,
   "id": "b42c23dd-9b9f-4724-bc44-b9425a977744",
   "metadata": {},
   "outputs": [
    {
     "data": {
      "text/plain": [
       "function"
      ]
     },
     "execution_count": 26,
     "metadata": {},
     "output_type": "execute_result"
    }
   ],
   "source": [
    "n[0].function.__"
   ]
  },
  {
   "cell_type": "code",
   "execution_count": null,
   "id": "e3d07e32-c770-432a-9521-7d7f2c4e13b8",
   "metadata": {},
   "outputs": [],
   "source": [
    "n.function"
   ]
  },
  {
   "cell_type": "code",
   "execution_count": null,
   "id": "51b4ee96-dffe-4b8a-82ce-2724ef71357c",
   "metadata": {},
   "outputs": [],
   "source": [
    "class TestLoop:\n",
    "    def on_iteration(self)->Literal['order',3]:pass\n",
    "    def on_step(self)->Literal['order',3]:pass"
   ]
  },
  {
   "cell_type": "code",
   "execution_count": null,
   "id": "current-pilot",
   "metadata": {},
   "outputs": [],
   "source": [
    "# hide\n",
    "from fastcore.imports import in_colab\n",
    "\n",
    "# Since colab still requires tornado<6, we don't want to import nbdev if we don't have to\n",
    "if not in_colab():\n",
    "    from nbdev.export import *\n",
    "    from nbdev.export2html import *\n",
    "    from nbverbose.cli import *\n",
    "    make_readme()\n",
    "    notebook2script()\n",
    "    notebook2html()"
   ]
  },
  {
   "cell_type": "code",
   "execution_count": null,
   "id": "275fa8c3-fd00-4175-928a-8767dea82dca",
   "metadata": {},
   "outputs": [],
   "source": []
  }
 ],
 "metadata": {
  "kernelspec": {
   "display_name": "Python 3 (ipykernel)",
   "language": "python",
   "name": "python3"
  },
  "language_info": {
   "codemirror_mode": {
    "name": "ipython",
    "version": 3
   },
   "file_extension": ".py",
   "mimetype": "text/x-python",
   "name": "python",
   "nbconvert_exporter": "python",
   "pygments_lexer": "ipython3",
   "version": "3.8.8"
  }
 },
 "nbformat": 4,
 "nbformat_minor": 5
}
