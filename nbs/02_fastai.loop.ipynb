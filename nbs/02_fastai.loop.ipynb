{
 "cells": [
  {
   "cell_type": "code",
   "execution_count": 82,
   "id": "durable-dialogue",
   "metadata": {},
   "outputs": [],
   "source": [
    "#hide\n",
    "#skip\n",
    "%config Completer.use_jedi = False\n",
    "# upgrade fastrl on colab\n",
    "! [ -e /content ] && pip install -Uqq fastrl['dev'] pyvirtualdisplay && \\\n",
    "                     apt-get install -y xvfb python-opengl > /dev/null 2>&1 \n",
    "# NOTE: IF YOU SEE VERSION ERRORS, IT IS SAFE TO IGNORE THEM. COLAB IS BEHIND IN SOME OF THE PACKAGE VERSIONS"
   ]
  },
  {
   "cell_type": "code",
   "execution_count": 83,
   "id": "viral-cambridge",
   "metadata": {},
   "outputs": [],
   "source": [
    "# hide\n",
    "from fastcore.imports import in_colab\n",
    "# Since colab still requires tornado<6, we don't want to import nbdev if we don't have to\n",
    "if not in_colab():\n",
    "    from nbverbose.showdoc import *\n",
    "    from nbdev.imports import *\n",
    "    if not os.environ.get(\"IN_TEST\", None):\n",
    "        assert IN_NOTEBOOK\n",
    "        assert not IN_COLAB\n",
    "        assert IN_IPYTHON\n",
    "else:\n",
    "    # Virutual display is needed for colab\n",
    "    from pyvirtualdisplay import Display\n",
    "    display = Display(visible=0, size=(400, 300))\n",
    "    display.start()"
   ]
  },
  {
   "cell_type": "code",
   "execution_count": 3,
   "id": "offshore-stuart",
   "metadata": {},
   "outputs": [],
   "source": [
    "# default_exp fastai.loop"
   ]
  },
  {
   "cell_type": "code",
   "execution_count": null,
   "id": "assisted-contract",
   "metadata": {},
   "outputs": [],
   "source": [
    "# export\n",
    "# Python native modules\n",
    "import os\n",
    "# Third party libs\n",
    "from fastcore.all import *\n",
    "# Local modules"
   ]
  },
  {
   "cell_type": "markdown",
   "id": "lesser-innocent",
   "metadata": {},
   "source": [
    "# Loop\n",
    "> fastrl concept of generic loop objects. \n",
    "\n",
    "The goal for Loops is to make it easy to customize, and know how sections of code connects\n",
    "to other parts."
   ]
  },
  {
   "cell_type": "markdown",
   "id": "10116234-0510-4456-b50c-0f011c4e958b",
   "metadata": {},
   "source": [
    "### Why do we need this?\n",
    "We have identified at least 3 different kinds of loops already:\n",
    "\n",
    "    Learner (training)\n",
    "    Source/Gym (Data Access)\n",
    "    Agent (How an AI takes in data, generates actions)\n",
    "\n",
    "### What is a loop?\n",
    "\n",
    "    It should be capable of containing inner loops. \n",
    "    It should be able to handle \"phases\" that might be similar to each other. \n",
    "    It should self-describe its structure. \n",
    "    It should be easy to know which parts of the loop are taking long/short amounts of time.\n",
    "    It should be flexible in state modification.\n",
    "    It should alternatively make it easy show what fields are being changed at what points in time."
   ]
  },
  {
   "cell_type": "code",
   "execution_count": 203,
   "id": "afc0d4f1-fd31-4f1f-b8b9-1ada597f2453",
   "metadata": {},
   "outputs": [],
   "source": [
    "# export\n",
    "def grab_order(m):\n",
    "    sig=inspect.signature(m)\n",
    "    return -1 if '_order' not in sig.parameters else sig.parameters['_order'].default \n",
    "\n",
    "def ishook(name):\n",
    "    return not name.startswith('_') and \\\n",
    "          (name.startswith('on_') or name.startswith('after_') or \\\n",
    "          name.startswith('before_') or name.startswith('failed_') or \\\n",
    "          name.startswith('finally_'))\n",
    "\n",
    "class Loop(GetAttr):\n",
    "    _default='_base'\n",
    "    indexes=None\n",
    "    \n",
    "    def __init__(self,\n",
    "                 inner_loops:Optional[List['Loop']]=None, # Internal `Loop` objects that are called on `indexes` \n",
    "                 cbs:Optional[List['Callback']]=None, # Callbacks to be used for a given `Loop`. These will also be used in internal loops.\n",
    "                 persist_cbs:bool=False, # Whether to review callbacks once a loop ends.\n",
    "                 base_loop:Optional['Loop']=None, # The highest level loop.\n",
    "                 indexes:Optional[List[int]]=None #indexes (found from `self.hooks`)\n",
    "                ):\n",
    "        store_attr(but='cbs,inner_loops,indexes')\n",
    "        self.indexes=ifnone(indexes,self.indexes)\n",
    "        self.cbs=L()\n",
    "        self.inner_loops=L()\n",
    "        self.add_objs(L(cbs),self.add_cb)\n",
    "        self.add_objs(L(inner_loops),self.add_loop)\n",
    "        self._base=None\n",
    "        self.loop_sequence=None\n",
    "        \n",
    "    def _grab_objs(self,obj_cls,ls): \n",
    "        return L(o for o in ls if isinstance(o,obj_cls))\n",
    "        \n",
    "    def add_loop(self, loop):\n",
    "        \"Instantiate, add to `self.loops`\"\n",
    "        if isinstance(loop, type):   loop=loop(base_loop=self)\n",
    "        elif loop.base_loop is None: loop.base_loop=ifnone(self.base_loop,self)\n",
    "        self.inner_loops.append(loop)\n",
    "        return self\n",
    "\n",
    "    def remove_loop(self, loop):\n",
    "        \"Instantiate, remove from `self.loops`\"\n",
    "        loop.base_loop=None\n",
    "        if isinstance(loop, type): \n",
    "            self.remove_objs(self._grab_objs(loop,self.inner_loops),self.remove_loop)\n",
    "        else:\n",
    "            if loop in self.inner_loops: self.inner_loops.remove(loop)\n",
    "        return self\n",
    "        \n",
    "    def add_objs(self,objs,adder):\n",
    "        \"add `cbs` to `self`\"\n",
    "        L(objs).map(adder)\n",
    "        return self\n",
    "\n",
    "    def remove_objs(self,objs,remover):\n",
    "        \"rm all `objs` from `self` using `remover`\"\n",
    "        L(objs).map(remover)\n",
    "        return self\n",
    "        \n",
    "    def add_cb(self, cb):\n",
    "        \"Instantiate, set as field in self, set as field in self._default, and add to `self.cbs`\"\n",
    "        if isinstance(cb,type): cb=cb()\n",
    "        setattr(cb,self._default,self)\n",
    "        setattr(self,cb.name,cb)\n",
    "        self.cbs.append(cb)\n",
    "        return self\n",
    "\n",
    "    def remove_cb(self, cb):\n",
    "        \"Instantiate, rm `cb` from self, rm `cb` from self._default, and remove from `self.cbs`\"\n",
    "        if isinstance(cb,type): \n",
    "            self.remove_objs(self._grab_objs(cb,self.cbs),self.remove_cb)\n",
    "        else:\n",
    "            setattr(cb,self._default,None)\n",
    "            if hasattr(self, cb.name): delattr(self, cb.name)\n",
    "            if cb in self.cbs: self.cbs.remove(cb)\n",
    "        return self\n",
    "    \n",
    "    @classmethod\n",
    "    def hooks(cls):\n",
    "        hooks=[hook for k,hook in inspect.getmembers(cls) if ishook(k)]\n",
    "        # Might be able to simplify python 3.7+\n",
    "        return {str(i):hook for i,hook in enumerate(sorted(hooks,key=grab_order))}"
   ]
  },
  {
   "cell_type": "code",
   "execution_count": 204,
   "id": "535e58f6-3f6d-497f-99f4-3bae4d5cc831",
   "metadata": {},
   "outputs": [],
   "source": [
    "class Outer(Loop):\n",
    "    def before_step(self):           return None\n",
    "    def on_step(self,_order=2):      return None\n",
    "    def after_step(self,_order=3):   return None\n",
    "    def failed_step(self,_order=4):  return None\n",
    "    def finally_step(self,_order=5): return None\n",
    "\n",
    "class Inner(Loop):\n",
    "    def before_iteration(self):  return None\n",
    "    def on_iteration(self):      return None\n",
    "    def after_iteration(self):   return None\n",
    "    def failed_iteration(self):  return None\n",
    "    def finally_iteration(self): return None\n",
    "\n",
    "loop=Outer(inner_loops=Inner())"
   ]
  },
  {
   "cell_type": "code",
   "execution_count": 205,
   "id": "57767d8e-6081-4efc-ae3a-3be587a80957",
   "metadata": {},
   "outputs": [
    {
     "data": {
      "text/plain": [
       "{'0': <function __main__.Outer.before_step(self)>,\n",
       " '1': <function __main__.Outer.on_step(self, _order=2)>,\n",
       " '2': <function __main__.Outer.after_step(self, _order=3)>,\n",
       " '3': <function __main__.Outer.failed_step(self, _order=4)>,\n",
       " '4': <function __main__.Outer.finally_step(self, _order=5)>}"
      ]
     },
     "execution_count": 205,
     "metadata": {},
     "output_type": "execute_result"
    }
   ],
   "source": [
    "loop.hooks()"
   ]
  },
  {
   "cell_type": "code",
   "execution_count": 18,
   "id": "13ca25af-5e11-4e9f-92be-6407bef47478",
   "metadata": {},
   "outputs": [],
   "source": [
    "# export\n",
    "class CustomLoop(Loop):pass"
   ]
  },
  {
   "cell_type": "code",
   "execution_count": null,
   "id": "7f419b1b-b27f-46ff-8a72-dea77cdd06bb",
   "metadata": {},
   "outputs": [],
   "source": [
    "# export \n",
    "class CustomCallback()"
   ]
  },
  {
   "cell_type": "code",
   "execution_count": null,
   "id": "current-pilot",
   "metadata": {},
   "outputs": [
    {
     "name": "stdout",
     "output_type": "stream",
     "text": [
      "converting /home/fastrl_user/fastrl/nbs/index.ipynb to README.md\n",
      "Converted 00_core.ipynb.\n",
      "Converted 00_nbdev_extension.ipynb.\n",
      "Converted 02_fastai.loop.ipynb.\n",
      "Converted 03_callback.core.ipynb.\n",
      "Converted 04_agent.ipynb.\n",
      "Converted 05_data.test_async.ipynb.\n",
      "Converted 05a_data.block.ipynb.\n",
      "Converted 05b_data.gym.ipynb.\n",
      "Converted 06a_memory.experience_replay.ipynb.\n",
      "Converted 06f_memory.tensorboard.ipynb.\n",
      "Converted 10a_agents.dqn.core.ipynb.\n",
      "Converted 10b_agents.dqn.targets.ipynb.\n",
      "Converted 10c_agents.dqn.double.ipynb.\n",
      "Converted 10d_agents.dqn.dueling.ipynb.\n",
      "Converted 10e_agents.dqn.categorical.ipynb.\n",
      "Converted 11a_agents.policy_gradient.ppo.ipynb.\n",
      "Converted 20_test_utils.ipynb.\n",
      "Converted index.ipynb.\n",
      "Converted nbdev_template.ipynb.\n",
      "converting: /home/fastrl_user/fastrl/nbs/02_fastai.loop.ipynb\n"
     ]
    }
   ],
   "source": [
    "# hide\n",
    "from fastcore.imports import in_colab\n",
    "\n",
    "# Since colab still requires tornado<6, we don't want to import nbdev if we don't have to\n",
    "if not in_colab():\n",
    "    from nbdev.export import *\n",
    "    from nbdev.export2html import *\n",
    "    from nbverbose.cli import *\n",
    "    make_readme()\n",
    "    notebook2script()\n",
    "    notebook2html()"
   ]
  }
 ],
 "metadata": {
  "kernelspec": {
   "display_name": "Python 3 (ipykernel)",
   "language": "python",
   "name": "python3"
  },
  "language_info": {
   "codemirror_mode": {
    "name": "ipython",
    "version": 3
   },
   "file_extension": ".py",
   "mimetype": "text/x-python",
   "name": "python",
   "nbconvert_exporter": "python",
   "pygments_lexer": "ipython3",
   "version": "3.8.8"
  }
 },
 "nbformat": 4,
 "nbformat_minor": 5
}
