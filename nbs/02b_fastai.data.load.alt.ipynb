{
 "cells": [
  {
   "cell_type": "code",
   "execution_count": 1,
   "id": "durable-dialogue",
   "metadata": {},
   "outputs": [],
   "source": [
    "#hide\n",
    "#skip\n",
    "%config Completer.use_jedi = False\n",
    "%config IPCompleter.greedy=True\n",
    "# upgrade fastrl on colab\n",
    "! [ -e /content ] && pip install -Uqq fastrl['dev'] pyvirtualdisplay && \\\n",
    "                     apt-get install -y xvfb python-opengl > /dev/null 2>&1 \n",
    "# NOTE: IF YOU SEE VERSION ERRORS, IT IS SAFE TO IGNORE THEM. COLAB IS BEHIND IN SOME OF THE PACKAGE VERSIONS"
   ]
  },
  {
   "cell_type": "code",
   "execution_count": 2,
   "id": "viral-cambridge",
   "metadata": {},
   "outputs": [],
   "source": [
    "# hide\n",
    "from fastcore.imports import in_colab\n",
    "# Since colab still requires tornado<6, we don't want to import nbdev if we don't have to\n",
    "if not in_colab():\n",
    "    from nbverbose.showdoc import *\n",
    "    from nbdev.imports import *\n",
    "    if not os.environ.get(\"IN_TEST\", None):\n",
    "        assert IN_NOTEBOOK\n",
    "        assert not IN_COLAB\n",
    "        assert IN_IPYTHON\n",
    "else:\n",
    "    # Virutual display is needed for colab\n",
    "    from pyvirtualdisplay import Display\n",
    "    display = Display(visible=0, size=(400, 300))\n",
    "    display.start()"
   ]
  },
  {
   "cell_type": "code",
   "execution_count": 3,
   "id": "offshore-stuart",
   "metadata": {},
   "outputs": [],
   "source": [
    "# default_exp fastai.data.load.alt"
   ]
  },
  {
   "cell_type": "code",
   "execution_count": 4,
   "id": "assisted-contract",
   "metadata": {},
   "outputs": [],
   "source": [
    "# export\n",
    "# Python native modules\n",
    "import os\n",
    "# Third party libs\n",
    "from fastcore.all import *\n",
    "from fastai.torch_basics import *\n",
    "# from torch.utils.data.dataloader import DataLoader as OrgDataLoader\n",
    "from torch.utils.data import dataloader\n",
    "# Local modules\n",
    "from fastrl.fastai.loop import *\n",
    "\n",
    "from fastai.data.load import DataLoader as FastaiDataLoader\n",
    "\n",
    "from torchdata.datapipes.iter import HttpReader"
   ]
  },
  {
   "cell_type": "markdown",
   "id": "lesser-innocent",
   "metadata": {},
   "source": [
    "# DataLoader helpers\n",
    "> An implimentation of the torch DataLoader that instead uses Loop as a base. It\n",
    "also uses experimental API from torch.data"
   ]
  },
  {
   "cell_type": "code",
   "execution_count": 5,
   "id": "7860b20f-8f9b-439b-a9fe-7c7b3398f505",
   "metadata": {},
   "outputs": [],
   "source": [
    "bs = 4\n",
    "letters = list(string.ascii_lowercase)"
   ]
  },
  {
   "cell_type": "code",
   "execution_count": 6,
   "id": "3afe4bf7-f02a-4e52-8b19-e4b5765a1dd1",
   "metadata": {},
   "outputs": [],
   "source": [
    "# export\n",
    "@events\n",
    "class DataLoader(dataloader.DataLoader,Loop):\n",
    "    def __init__(self,datapipe,*args,bs=1,n_workers=0,**kwargs):        \n",
    "        Loop.__init__(self)\n",
    "        \n",
    "        # connect_loops2loop((BatchLoop()),self)\n",
    "        \n",
    "        self.it=None\n",
    "        self.current_batch=None\n",
    "        self.iter_section=self.sections['iter']\n",
    "        self.run(['create'])\n",
    "\n",
    "        dataloader.DataLoader.__init__(self,datapipe,*args,batch_size=bs,num_workers=n_workers,**kwargs)\n",
    "        \n",
    "    def on_create(self):pass\n",
    "        \n",
    "    def on_iter(self):\n",
    "        self.it=dataloader.DataLoader.__iter__(self)\n",
    "        \n",
    "    def __iter__(self):\n",
    "        try:\n",
    "            self.iter_section['before_']()\n",
    "            self.iter_section['before_inner'].run()                             # fastrl.skip_traceback\n",
    "            self.iter_section['on_']()\n",
    "            yield from self.it\n",
    "            self.iter_section['after_']()\n",
    "            self.iter_section['after_inner'].run()                              # fastrl.skip_traceback\n",
    "        except Exception as ex:\n",
    "            try:\n",
    "                self.iter_section['failed_']()                                  # fastrl.skip_traceback\n",
    "                raise\n",
    "            finally:\n",
    "                self.iter_section['failed_inner'].run()                         # fastrl.skip_traceback\n",
    "        finally:\n",
    "            self.iter_section['finally_']()\n",
    "            self.iter_section['finally_inner'].run()                            # fastrl.skip_traceback\n",
    "\n",
    "# class LoopyIter():\n",
    "    \n",
    "    \n",
    "            \n",
    "@events\n",
    "class BatchLoop(Loop):\n",
    "    call_on=L(DataLoader.on_iter)\n",
    "    \n",
    "    def __init__(self):\n",
    "        \n",
    "        super().__init__(self)\n",
    "    \n",
    "    @property\n",
    "    def dl(self): return self.root_loop\n",
    "\n",
    "    def on_create_batches(self):pass\n",
    "        "
   ]
  },
  {
   "cell_type": "code",
   "execution_count": 8,
   "id": "7992ca40-c8fb-4002-80bc-bddf2066c614",
   "metadata": {},
   "outputs": [
    {
     "name": "stdout",
     "output_type": "stream",
     "text": [
      "['a', 'b']\n",
      "['c', 'd']\n",
      "['e', 'f']\n",
      "['g', 'h']\n",
      "['i', 'j']\n",
      "['k', 'l']\n",
      "['m', 'n']\n",
      "['o', 'p']\n",
      "['q', 'r']\n",
      "['s', 't']\n",
      "['u', 'v']\n",
      "['w', 'x']\n",
      "['y', 'z']\n"
     ]
    }
   ],
   "source": [
    "for o in DataLoader(letters,bs=2): print(o)"
   ]
  },
  {
   "cell_type": "code",
   "execution_count": null,
   "id": "current-pilot",
   "metadata": {},
   "outputs": [],
   "source": [
    "# hide\n",
    "from fastcore.imports import in_colab\n",
    "\n",
    "# Since colab still requires tornado<6, we don't want to import nbdev if we don't have to\n",
    "if not in_colab():\n",
    "    from nbdev.export import *\n",
    "    from nbdev.export2html import *\n",
    "    from nbverbose.cli import *\n",
    "    make_readme()\n",
    "    notebook2script()\n",
    "    notebook2html()"
   ]
  },
  {
   "cell_type": "code",
   "execution_count": null,
   "id": "c05e5a77-8683-42a3-b941-8c8a1adf9b4e",
   "metadata": {},
   "outputs": [],
   "source": []
  }
 ],
 "metadata": {
  "kernelspec": {
   "display_name": "Python 3 (ipykernel)",
   "language": "python",
   "name": "python3"
  },
  "language_info": {
   "codemirror_mode": {
    "name": "ipython",
    "version": 3
   },
   "file_extension": ".py",
   "mimetype": "text/x-python",
   "name": "python",
   "nbconvert_exporter": "python",
   "pygments_lexer": "ipython3",
   "version": "3.7.11"
  }
 },
 "nbformat": 4,
 "nbformat_minor": 5
}
