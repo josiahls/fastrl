{
 "cells": [
  {
   "cell_type": "code",
   "execution_count": null,
   "id": "durable-dialogue",
   "metadata": {},
   "outputs": [],
   "source": [
    "#|hide\n",
    "from fastrl.test_utils import initialize_notebook\n",
    "initialize_notebook()"
   ]
  },
  {
   "cell_type": "code",
   "execution_count": null,
   "id": "offshore-stuart",
   "metadata": {},
   "outputs": [],
   "source": [
    "#|default_exp agents.core"
   ]
  },
  {
   "cell_type": "code",
   "execution_count": null,
   "id": "assisted-contract",
   "metadata": {},
   "outputs": [],
   "source": [
    "#|export\n",
    "# Python native modules\n",
    "import os\n",
    "from typing import List,Optional\n",
    "# Third party libs\n",
    "from fastcore.all import add_docs,ifnone\n",
    "import torchdata.datapipes as dp\n",
    "import torch\n",
    "from torch import nn\n",
    "from torchdata.dataloader2.graph import traverse_dps\n",
    "import torch.multiprocessing as mp\n",
    "# Local modules\n",
    "from fastrl.core import StepTypes,SimpleStep\n",
    "from fastrl.torch_core import evaluating,Module\n",
    "from fastrl.pipes.core import find_dps,find_dp"
   ]
  },
  {
   "attachments": {},
   "cell_type": "markdown",
   "id": "lesser-innocent",
   "metadata": {},
   "source": [
    "# Agent Core\n",
    "> Minimum Agent DataPipes, objects, and utilities"
   ]
  },
  {
   "cell_type": "code",
   "execution_count": null,
   "id": "984a53f1-93ee-4540-8b8d-50071090280d",
   "metadata": {},
   "outputs": [],
   "source": [
    "#|export\n",
    "# Create a manager for shared objects\n",
    "# manager = mp.Manager()\n",
    "# shared_model_dict = manager.dict()\n",
    "shared_model_dict = {}\n",
    "\n",
    "def share_model(model: nn.Module, name=\"default\"):\n",
    "    \"\"\"Move model's parameters to shared memory and store in manager's dictionary.\"\"\"\n",
    "    # TODO(josiahls): This will not survive multiprocessing. We will need to us something\n",
    "    # like ray to better sync models.\n",
    "    model.share_memory()\n",
    "    shared_model_dict[name] = model\n",
    "\n",
    "def get_shared_model(name=\"default\"):\n",
    "    \"\"\"Retrieve model from shared memory using the manager's dictionary.\"\"\"\n",
    "    return shared_model_dict[name]\n",
    "\n",
    "class AgentBase(dp.iter.IterDataPipe):\n",
    "    def __init__(self,\n",
    "            model:Optional[nn.Module], # The base NN that we getting raw action values out of.\n",
    "            action_iterator:list=None, # A reference to an iterator that contains actions to process.\n",
    "            logger_bases=None\n",
    "    ):\n",
    "        self.model = model\n",
    "        self.iterable = ifnone(action_iterator,[])\n",
    "        self.agent_base = self\n",
    "        self.logger_bases = logger_bases\n",
    "        self._mem_name = 'agent_model'\n",
    "        \n",
    "    def to(self,*args,**kwargs):\n",
    "        if self.model is not None:\n",
    "            self.model.to(**kwargs)\n",
    "\n",
    "    def __iter__(self):\n",
    "        while self.iterable:\n",
    "            yield self.iterable.pop(0)\n",
    "\n",
    "    def __getstate__(self):\n",
    "        if self.model is not None:\n",
    "            share_model(self.model,self._mem_name)\n",
    "        # Store the non-model state\n",
    "        state = self.__dict__.copy()\n",
    "        return state\n",
    "\n",
    "    def __setstate__(self, state):\n",
    "        self.__dict__.update(state)\n",
    "        # Assume a globally shared model instance or a reference method to retrieve it\n",
    "        if self.model is not None:\n",
    "            self.model = get_shared_model(self._mem_name)\n",
    "            \n",
    "add_docs(\n",
    "AgentBase,\n",
    "\"\"\"Acts as the footer of the Agent pipeline. \n",
    "Maintains important state such as the `model` being used for get actions from.\n",
    "Also optionally allows passing a reference list of `action_iterator` which is a\n",
    "persistent list of actions for the entire agent pipeline to process through.\n",
    "\n",
    "> Important: Must be at the start of the pipeline, and be used with AgentHead at the end.\n",
    "\n",
    "> Important: `action_iterator` is stored in the `iterable` field. However the recommended\n",
    "way of passing actions to the pipeline is to call an `AgentHead` instance.\n",
    "\"\"\",\n",
    "to=torch.Tensor.to.__doc__\n",
    ") "
   ]
  },
  {
   "cell_type": "code",
   "execution_count": null,
   "id": "742c9cc6-4be3-4606-b07d-12d30da2144f",
   "metadata": {},
   "outputs": [],
   "source": [
    "#|export               \n",
    "class AgentHead(dp.iter.IterDataPipe):\n",
    "    def __init__(self,source_datapipe):\n",
    "        self.source_datapipe = source_datapipe\n",
    "        self.agent_base = find_dp(traverse_dps(self.source_datapipe),AgentBase)\n",
    "\n",
    "    def __call__(self,steps:list):\n",
    "        if issubclass(steps.__class__,StepTypes.types):\n",
    "            raise Exception(f'Expected List[{StepTypes.types}] object got {type(steps)}\\n{steps}')\n",
    "        self.agent_base.iterable.extend(steps)\n",
    "        return self\n",
    "\n",
    "    def __iter__(self): yield from self.source_datapipe\n",
    "    \n",
    "    def augment_actions(self,actions): return actions\n",
    "\n",
    "    def create_step(self,**kwargs): return SimpleStep(**kwargs,batch_size=[])\n",
    "    \n",
    "add_docs(\n",
    "    AgentHead,\n",
    "    \"\"\"Acts as the head of the Agent pipeline. \n",
    "    Used for conveniently adding actions to the pipeline to process.\n",
    "    \n",
    "    > Important: Must be paired with `AgentBase`\n",
    "    \"\"\",\n",
    "    augment_actions=\"\"\"Called right before being fed into the env. \n",
    "    \n",
    "    > Important: The results of this function will not be kept / used in the step or forwarded to \n",
    "    any training code.\n",
    "\n",
    "    There are cases where either the entire action shouldn't be fed into the env,\n",
    "    or the version of the action that we want to train on would be compat with the env.\n",
    "    \n",
    "    This is also useful if we want to train on the original raw values of the action prior to argmax being run on it for example.\n",
    "    \"\"\",\n",
    "    create_step=\"Creates the step used by the env for running, and used by the model for training.\"\n",
    ")  "
   ]
  },
  {
   "cell_type": "code",
   "execution_count": null,
   "id": "843b0d60-0d54-4cff-a5d1-7c0bbdeff571",
   "metadata": {},
   "outputs": [],
   "source": [
    "#|export\n",
    "class SimpleModelRunner(dp.iter.IterDataPipe):\n",
    "    \"Takes input from `source_datapipe` and pushes through the agent bases model assuming there is only one model field.\"\n",
    "    def __init__(self,\n",
    "                 source_datapipe\n",
    "                ): \n",
    "        self.source_datapipe = source_datapipe\n",
    "        self.agent_base = find_dp(traverse_dps(self.source_datapipe),AgentBase)\n",
    "        self.device = None\n",
    "\n",
    "    def to(self,*args,**kwargs):\n",
    "        if 'device' in kwargs: self.device = kwargs.get('device',None)\n",
    "        return self\n",
    "    \n",
    "    def __iter__(self):\n",
    "        for x in self.source_datapipe:\n",
    "            if self.device is not None: x = x.to(self.device)\n",
    "            if len(x.shape)==1:         x = x.unsqueeze(0)\n",
    "            with torch.no_grad():\n",
    "                with evaluating(self.agent_base.model):\n",
    "                    res = self.agent_base.model(x)\n",
    "            yield res"
   ]
  },
  {
   "attachments": {},
   "cell_type": "markdown",
   "id": "177664aa-5b6d-4fe3-a1dd-7c261045dd84",
   "metadata": {},
   "source": [
    "Check that the 1x4 tensor assuccessfully pushes through the model can get expected outputs..."
   ]
  },
  {
   "cell_type": "code",
   "execution_count": null,
   "id": "d6291148-914f-4d2b-b924-f4a02a83d804",
   "metadata": {},
   "outputs": [],
   "source": [
    "torch.manual_seed(0)\n",
    "\n",
    "class DQN(Module):\n",
    "    def __init__(self,state_sz:int,action_sz:int,hidden=512):\n",
    "        self.layers=nn.Sequential(\n",
    "            nn.Linear(state_sz,hidden),\n",
    "            nn.ReLU(),\n",
    "            nn.Linear(hidden,action_sz),\n",
    "        )\n",
    "    def forward(self,x): return self.layers(x)\n"
   ]
  },
  {
   "cell_type": "code",
   "execution_count": null,
   "id": "430d2e0a",
   "metadata": {},
   "outputs": [],
   "source": [
    "import pickle\n",
    "from fastcore.all import test_eq"
   ]
  },
  {
   "cell_type": "code",
   "execution_count": null,
   "id": "91d93b7f",
   "metadata": {},
   "outputs": [],
   "source": [
    "# Setup up the core NN\n",
    "torch.manual_seed(0)\n",
    "model = DQN(4, 2)\n",
    "# Setup the agent\n",
    "agent = AgentBase(model)\n",
    "agent = SimpleModelRunner(agent)\n",
    "agent = AgentHead(agent)\n",
    "\n",
    "# Extract model parameters before pickling\n",
    "original_params = [param for param in agent.agent_base.model.parameters()]\n",
    "\n",
    "# Pickle and unpickle the agent\n",
    "pickled_agent = pickle.dumps(agent)\n",
    "unpickled_agent = pickle.loads(pickled_agent)\n",
    "\n",
    "# Modify the parameters of the unpickled model\n",
    "with torch.no_grad():\n",
    "    for param in unpickled_agent.agent_base.model.parameters():\n",
    "        param += 1.0\n",
    "\n",
    "# Extract model parameters after modification\n",
    "modified_params = list(agent.agent_base.model.parameters())\n",
    "\n",
    "# Ensure that the original model's parameters have changed in the same way as the unpickled model's\n",
    "for orig_param, modif_param in zip(original_params, modified_params):\n",
    "    assert torch.equal(orig_param, modif_param), \"Model parameters didn't change after modification!\"\n",
    "\n",
    "input_tensor = torch.tensor([1, 2, 3, 4]).float()\n",
    "\n",
    "for action in agent([input_tensor]):\n",
    "    print(action)\n",
    "\n",
    "test_eq(input_tensor, torch.tensor([1., 2., 3., 4.]))\n"
   ]
  },
  {
   "cell_type": "code",
   "execution_count": null,
   "id": "137b9d8b-c2d1-461d-bad9-583c757fd9c4",
   "metadata": {},
   "outputs": [],
   "source": [
    "input_tensor = torch.tensor([1,2,3,4]).float()\n",
    "\n",
    "for action in agent([input_tensor]):\n",
    "    print(action)\n",
    "    \n",
    "test_eq(input_tensor,torch.tensor([1., 2., 3., 4.]))"
   ]
  },
  {
   "cell_type": "code",
   "execution_count": null,
   "id": "08ae8542-7c38-41e2-8f7c-3259ebfb8c44",
   "metadata": {},
   "outputs": [],
   "source": [
    "#|export\n",
    "class StepFieldSelector(dp.iter.IterDataPipe):\n",
    "    \"Grabs `field` from `source_datapipe` to push to the rest of the pipeline.\"\n",
    "    def __init__(self,\n",
    "         source_datapipe, # datapipe whose next(source_datapipe) -> `StepTypes`\n",
    "         field='state' # A field in `StepTypes` to grab\n",
    "        ): \n",
    "        # TODO: support multi-fields\n",
    "        self.source_datapipe = source_datapipe\n",
    "        self.field = field\n",
    "    \n",
    "    def __iter__(self):\n",
    "        for step in self.source_datapipe:\n",
    "            if not issubclass(step.__class__,StepTypes.types):\n",
    "                raise Exception(f'Expected typing.NamedTuple object got {type(step)}\\n{step}')\n",
    "            yield getattr(step,self.field)"
   ]
  },
  {
   "attachments": {},
   "cell_type": "markdown",
   "id": "63928e34-7f29-4182-942a-a5edf444fb7e",
   "metadata": {},
   "source": [
    "Check that using `StepFieldSelector`, we can grab the `state` field from the `Simplestep` to push through the model..."
   ]
  },
  {
   "cell_type": "code",
   "execution_count": null,
   "id": "65b65fb9-e92c-4098-a1cf-8680b220367d",
   "metadata": {},
   "outputs": [],
   "source": [
    "agent = AgentBase(model)\n",
    "agent = StepFieldSelector(agent,field='state')\n",
    "agent = SimpleModelRunner(agent)\n",
    "agent = AgentHead(agent)\n",
    "\n",
    "for action in agent([SimpleStep.random(state=torch.tensor([1.,2.,3.,4.]),batch_size=[])]):\n",
    "    print(action)"
   ]
  },
  {
   "cell_type": "code",
   "execution_count": null,
   "id": "5a48ec65-b385-4dea-87c8-f58c202d2276",
   "metadata": {},
   "outputs": [],
   "source": [
    "# Setup up the core NN\n",
    "torch.manual_seed(0)\n",
    "model = DQN(4,2)\n",
    "# Setup the agent\n",
    "agent = AgentBase(model,[])\n",
    "# All the things that make this agent unique and special\n",
    "# In this instance, all this module does is pass the action directly through to the model.\n",
    "agent = SimpleModelRunner(agent)\n",
    "# Bring everything together into the AgentHead where actions will be passed and then run through the pipeline\n",
    "agent = AgentHead(agent)"
   ]
  },
  {
   "attachments": {},
   "cell_type": "markdown",
   "id": "fc2bb26b-2ade-44d2-970c-7fff000d0ed6",
   "metadata": {},
   "source": [
    "If we pass a list of tensors, we will get a list of actions:"
   ]
  },
  {
   "cell_type": "code",
   "execution_count": null,
   "id": "330318f5-4423-4174-b9fe-499bcbb9de85",
   "metadata": {},
   "outputs": [],
   "source": [
    "for action in agent([torch.tensor([1,2,3,4]).float()]):\n",
    "    print(action)"
   ]
  },
  {
   "cell_type": "code",
   "execution_count": null,
   "id": "385e1141-4961-45dd-ad4e-2d8f049f5294",
   "metadata": {},
   "outputs": [],
   "source": [
    "for action in agent([torch.tensor([1,2,3,4]).float()]*3):\n",
    "    print(action)\n",
    "traverse_dps(agent); # Check that we can traverse it"
   ]
  },
  {
   "cell_type": "code",
   "execution_count": null,
   "id": "6e74c7bd",
   "metadata": {},
   "outputs": [],
   "source": [
    "# from fastrl.pipes.core import *\n",
    "# from fastrl.pipes.map.transforms import *\n",
    "# from fastrl.data.block import *\n",
    "# from fastrl.envs.gym import *"
   ]
  },
  {
   "cell_type": "code",
   "execution_count": null,
   "id": "7496dbff-cda7-4826-8d2e-f4663d46430d",
   "metadata": {},
   "outputs": [],
   "source": [
    "\n",
    "# def baseline_test(envs,total_steps,seed=0):\n",
    "#     pipe = dp.map.Mapper(envs)\n",
    "#     pipe = TypeTransformer(pipe,[GymTypeTransform])\n",
    "#     pipe = dp.iter.MapToIterConverter(pipe)\n",
    "#     pipe = dp.iter.InMemoryCacheHolder(pipe)\n",
    "#     pipe = pipe.cycle()\n",
    "#     pipe = GymStepper(pipe,seed=seed)\n",
    "\n",
    "#     steps = [step for _,step in zip(*(range(total_steps),pipe))]\n",
    "#     return steps, pipe\n"
   ]
  },
  {
   "cell_type": "code",
   "execution_count": null,
   "id": "30e00ef9-f09d-475a-b28f-6878044feb88",
   "metadata": {},
   "outputs": [],
   "source": [
    "# steps, pipe = baseline_test(['CartPole-v1'],0)"
   ]
  },
  {
   "cell_type": "code",
   "execution_count": null,
   "id": "bff29b3a-9c5f-415b-a102-f8d41d275447",
   "metadata": {},
   "outputs": [],
   "source": [
    "#|export\n",
    "class NumpyConverter(dp.iter.IterDataPipe):\n",
    "    debug=False\n",
    "\n",
    "    def __init__(self,source_datapipe): \n",
    "        self.source_datapipe = source_datapipe\n",
    "        \n",
    "    def debug_display(self,step):\n",
    "        print(f'Step: {step}')\n",
    "    \n",
    "    def __iter__(self) -> torch.LongTensor:\n",
    "        for step in self.source_datapipe:\n",
    "            if not issubclass(step.__class__,torch.Tensor):\n",
    "                raise Exception(f'Expected Tensor to  convert to numpy, got {type(step)}\\n{step}')\n",
    "            if self.debug: self.debug_display(step)\n",
    "            yield step.detach().cpu().numpy()\n",
    "\n",
    "add_docs(\n",
    "NumpyConverter,\n",
    "\"\"\"Given input `Tensor` from `source_datapipe` returns a numpy array of same shape with argmax set to 1.\"\"\",\n",
    "debug_display=\"Display the step being processed\"\n",
    ")"
   ]
  },
  {
   "cell_type": "code",
   "execution_count": null,
   "id": "c41a38b6-3849-450a-88f7-b4e6300ba5b0",
   "metadata": {},
   "outputs": [],
   "source": [
    "tensors = [torch.tensor([4]) for _ in range(10)]\n",
    "pipe = NumpyConverter(tensors)\n",
    "list(pipe);"
   ]
  },
  {
   "cell_type": "code",
   "execution_count": null,
   "id": "20feb80b-2418-4bc2-b552-d0d0cad660c0",
   "metadata": {},
   "outputs": [],
   "source": [
    "#|eval:false\n",
    "tensors = [torch.tensor([4]).to(device='cuda') for _ in range(10)]\n",
    "pipe = NumpyConverter(tensors)\n",
    "list(pipe);"
   ]
  },
  {
   "cell_type": "code",
   "execution_count": null,
   "id": "current-pilot",
   "metadata": {},
   "outputs": [],
   "source": [
    "#|hide\n",
    "#|eval: false\n",
    "!nbdev_export"
   ]
  },
  {
   "cell_type": "code",
   "execution_count": null,
   "id": "75d5b423",
   "metadata": {},
   "outputs": [],
   "source": []
  }
 ],
 "metadata": {
  "kernelspec": {
   "display_name": "python3",
   "language": "python",
   "name": "python3"
  }
 },
 "nbformat": 4,
 "nbformat_minor": 5
}
