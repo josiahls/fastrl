{
 "cells": [
  {
   "cell_type": "code",
   "execution_count": null,
   "id": "durable-dialogue",
   "metadata": {},
   "outputs": [],
   "source": [
    "#|hide\n",
    "#|eval: false\n",
    "! [ -e /content ] && pip install -Uqq fastrl['dev'] pyvirtualdisplay && \\\n",
    "                     apt-get install -y xvfb python-opengl > /dev/null 2>&1 \n",
    "# NOTE: IF YOU SEE VERSION ERRORS, IT IS SAFE TO IGNORE THEM. COLAB IS BEHIND IN SOME OF THE PACKAGE VERSIONS"
   ]
  },
  {
   "cell_type": "code",
   "execution_count": null,
   "id": "viral-cambridge",
   "metadata": {},
   "outputs": [],
   "source": [
    "#|hide\n",
    "#|eval: false\n",
    "from fastcore.imports import in_colab\n",
    "# Since colab still requires tornado<6, we don't want to import nbdev if we don't have to\n",
    "if not in_colab():\n",
    "    from nbdev.showdoc import *\n",
    "    from nbdev.imports import *\n",
    "    if not os.environ.get(\"IN_TEST\", None):\n",
    "        assert IN_NOTEBOOK\n",
    "        assert not IN_COLAB\n",
    "        assert IN_IPYTHON\n",
    "else:\n",
    "    # Virutual display is needed for colab\n",
    "    from pyvirtualdisplay import Display\n",
    "    display = Display(visible=0, size=(400, 300))\n",
    "    display.start()"
   ]
  },
  {
   "cell_type": "code",
   "execution_count": null,
   "id": "offshore-stuart",
   "metadata": {},
   "outputs": [],
   "source": [
    "#|default_exp agents.ddpg"
   ]
  },
  {
   "cell_type": "code",
   "execution_count": null,
   "id": "assisted-contract",
   "metadata": {},
   "outputs": [],
   "source": [
    "#|export\n",
    "# Python native modules\n",
    "import os\n",
    "from typing import *\n",
    "from copy import deepcopy\n",
    "# Third party libs\n",
    "from fastcore.all import *\n",
    "import torchdata.datapipes as dp\n",
    "from torch import nn\n",
    "import torch\n",
    "from  torchdata.dataloader2.graph import DataPipe,traverse\n",
    "import numpy as np\n",
    "import pandas as pd\n",
    "from torch.optim import AdamW\n",
    "# Local modules\n",
    "from fastrl.core import *\n",
    "from fastrl.torch_core import *\n",
    "from fastrl.pipes.core import *\n",
    "from fastrl.data.block import *\n",
    "from fastrl.data.dataloader2 import *\n",
    "from fastrl.agents.core import *\n",
    "from fastrl.memory.experience_replay import ExperienceReplay\n",
    "from fastrl.learner.core import *\n",
    "from fastrl.loggers.core import *"
   ]
  },
  {
   "cell_type": "markdown",
   "id": "40e740d6",
   "metadata": {},
   "source": [
    "# DDPG \n",
    "> Deep Deterministic Policy Gradiant for continuous action domains"
   ]
  },
  {
   "cell_type": "markdown",
   "id": "9177b12d",
   "metadata": {},
   "source": [
    "[(Lillicrap et al., 2016) [DDPG] Continuous Control with Deep Reinforcement Learning](https://arxiv.org/abs/1509.02971) based on the \n",
    "DPG algorithm in [(Silver et al., 2014) [DPG] Deterministic Policy Gradient Algorithms](http://proceedings.mlr.press/v32/silver14.pdf).\n",
    "\n",
    "DDPG uses an actor-critic architecture and has a similar training / learning paradym to DQNs."
   ]
  },
  {
   "cell_type": "markdown",
   "id": "237f9a6f",
   "metadata": {},
   "source": [
    "## Model"
   ]
  },
  {
   "cell_type": "code",
   "execution_count": null,
   "id": "d7bb82eb",
   "metadata": {},
   "outputs": [],
   "source": [
    "#|export\n",
    "class Critic(Module):\n",
    "    def __init__(\n",
    "            self,\n",
    "            state_sz:int,  # The input dim of the state\n",
    "            action_sz:int, # The input dim of the actions\n",
    "            hidden=512,    # Number of neurons connected between the 2 input/output layers\n",
    "            head_layer:Module=nn.Linear, # Output layer\n",
    "            activition_fn:Module=nn.ReLU # The activation function\n",
    "        ):\n",
    "        # TODO: Add batch normalization\n",
    "        self.action_sz = action_sz\n",
    "        self.state_sz = state_sz\n",
    "        self.layers = nn.Sequential(\n",
    "            nn.Linear(state_sz+action_sz,hidden),\n",
    "            activition_fn(),\n",
    "            head_layer(hidden,1),\n",
    "        )\n",
    "    def forward(\n",
    "            self,\n",
    "            x:torch.Tensor # A single tensor of shape [Batch,`state_sz`+`action_sz`]\n",
    "            # A single tensor of shape [B,1] representing the cumulative value estimate of state+action combinations  \n",
    "        ) -> torch.Tensor: \n",
    "        return self.layers(x)\n",
    "\n",
    "add_docs(\n",
    "Critic,\n",
    "\"Takes a single tensor of size [B,`state_sz`+`action_sz`] -> [B,1] outputs a 1d tensor repersenting the value\",\n",
    "forward=\"\"\"Takes in a single tensor of a state tensor and action tensor and output\n",
    " the culative value estimates of that state,action combination\"\"\"\n",
    ")"
   ]
  },
  {
   "cell_type": "markdown",
   "id": "8875954b",
   "metadata": {},
   "source": [
    "The `Critic` is used by `DDPG` to estimate the state-action pairs and is updated using the \n",
    "the Bellman-Equation similarly to DQN/Q-Learning and is represeted by $Q(s,a)$"
   ]
  },
  {
   "cell_type": "code",
   "execution_count": null,
   "id": "74e1fcc7",
   "metadata": {},
   "outputs": [],
   "source": [
    "torch.manual_seed(0)\n",
    "critic = Critic(4,2)\n",
    "\n",
    "state = torch.randn(1,4)\n",
    "action = torch.randn(1,2)\n",
    "\n",
    "with torch.no_grad():\n",
    "    test_eq(\n",
    "        str(critic(torch.cat((state,action),dim=1))),\n",
    "        str(tensor([[0.0040]]))\n",
    "    )"
   ]
  },
  {
   "cell_type": "code",
   "execution_count": null,
   "id": "6f696cd2",
   "metadata": {},
   "outputs": [],
   "source": [
    "#|export\n",
    "class Actor(Module):\n",
    "    def __init__(self,\n",
    "                 state_sz:int,  # The input dim of the state\n",
    "                 action_sz:int, # The output dim of the actions\n",
    "                 hidden=512,    # Number of neurons connected between the 2 input/output layers\n",
    "                 head_layer:Module=nn.Linear, # Output layer\n",
    "                 activition_fn:Module=nn.ReLU # The activiation function\n",
    "                ):\n",
    "        # TODO: Add batch normalization\n",
    "        self.action_sz = action_sz\n",
    "        self.state_sz = state_sz\n",
    "        self.layers = nn.Sequential(\n",
    "            nn.Linear(state_sz,hidden),\n",
    "            activition_fn(),\n",
    "            head_layer(hidden,action_sz),\n",
    "            nn.Tanh()\n",
    "        )\n",
    "    def forward(self,x): return self.layers(x)\n",
    "\n",
    "add_docs(\n",
    "Actor,\n",
    "\"Takes a single tensor of size [B,`state_sz`] -> [B,`action_sz`] and outputs a tensor of actions.\",\n",
    "forward=\"\"\"Takes in a state tensor and output\n",
    " the actions value mappings\"\"\"\n",
    ")"
   ]
  },
  {
   "cell_type": "markdown",
   "id": "b13fdb09",
   "metadata": {},
   "source": [
    "The `Actor` is used by `DDPG` to predict actions based on state inputs and is represeted by $\\mu(s|\\theta^\\mu)$"
   ]
  },
  {
   "cell_type": "code",
   "execution_count": null,
   "id": "ce49ffdd",
   "metadata": {},
   "outputs": [],
   "source": [
    "torch.manual_seed(0)\n",
    "actor = Actor(4,2)\n",
    "\n",
    "state = torch.randn(1,4)\n",
    "\n",
    "with torch.no_grad():\n",
    "    test_eq(\n",
    "        str(actor(state)),\n",
    "        str(tensor([[ 0.1430, -0.3305]]))\n",
    "    )"
   ]
  },
  {
   "cell_type": "markdown",
   "id": "abddc041",
   "metadata": {},
   "source": [
    "## Ornstein-Uhlenbeck Exploration"
   ]
  },
  {
   "cell_type": "code",
   "execution_count": null,
   "id": "d2871621",
   "metadata": {},
   "outputs": [],
   "source": [
    "#|export\n",
    "class OrnsteinUhlenbeck(dp.iter.IterDataPipe):\n",
    "\tdef __init__(\n",
    "\t\t\tself, \n",
    "\t\t\tsource_datapipe:DataPipe, # a datapipe whose next(source_datapipe) -> `Tensor` \n",
    "\t\t\taction_sz:int, # The action dimension\n",
    "\t\t\tmu:float=0., # Used in preturbing continuous actions\n",
    "\t\t\ttheta:float=0.15, # Used in preturbing continuous actions\n",
    "\t\t\tsigma:float=0.2, # Used in preturbing continuous actions\n",
    "            min_epsilon:float=0.2, # The minimum epsilon to drop to\n",
    "            # The max/starting epsilon if `epsilon` is None and used for calculating epislon decrease speed.\n",
    "            max_epsilon:float=1, \n",
    "            # Determines how fast the episilon should drop to `min_epsilon`. This should be the number\n",
    "            # of steps that the agent was run through.\n",
    "            max_steps:int=100,\n",
    "            # The starting epsilon which determines how much exploration to do.\n",
    "\t\t\t# epislon close to 1 does maximal exploration, while close to 0\n",
    "\t\t\t# does very little.\n",
    "            epsilon:float=None,\n",
    "            # Based on the `base_agent.model.training`, by default no decrement or step tracking will\n",
    "            # occur during validation steps.\n",
    "            decrement_on_val:bool=False,\n",
    "            # Based on the `base_agent.model.training`, by default random actions will not be attempted\n",
    "            explore_on_val:bool=False,\n",
    "            # Also return the original action prior to exploratory noise\n",
    "            ret_original:bool=False,\n",
    "            # The device to create the masks one\n",
    "            device='cpu'\n",
    "\t\t):\n",
    "\t\tself.source_datapipe = source_datapipe\n",
    "\t\tself.min_epsilon = min_epsilon\n",
    "\t\tself.max_epsilon = max_epsilon\n",
    "\t\tself.max_steps = max_steps\n",
    "\t\tself.epsilon = epsilon\n",
    "\t\tself.decrement_on_val = decrement_on_val\n",
    "\t\tself.explore_on_val = explore_on_val\n",
    "\t\tself.ret_original = ret_original\n",
    "\t\tself.agent_base = None\n",
    "\t\tself.step = 0\n",
    "\t\tself.device = torch.device(device)\n",
    "\t\tself.sigma = sigma\n",
    "\t\tself.theta = theta\n",
    "\t\tself.mu = mu\n",
    "\t\tself.normal_dist = torch.distributions.Normal(0,1)\n",
    "\t\tself.x = torch.full((action_sz,),1).float().to(device=self.device)\n",
    "\t\tif not (self.decrement_on_val and self.explore_on_val):\n",
    "\t\t\tself.agent_base = find_dp(traverse(self.source_datapipe),AgentBase)\n",
    "\n",
    "\tdef __iter__(self):\n",
    "\t\tfor action in self.source_datapipe:\n",
    "\t\t\t# TODO: Support tuples of actions also\n",
    "\t\t\tif not issubclass(action.__class__,torch.Tensor):\n",
    "\t\t\t\traise Exception(f'Expected Tensor, got {type(action)}\\n{action}')\n",
    "\t\t\tif action.dtype not in (torch.float32,torch.float64):\n",
    "\t\t\t\traise ValueError(f'Expected Tensor of dtype float32,float64, got: {action.dtype} from {self.source_datapipe}')\n",
    "\n",
    "\t\t\tif self.decrement_on_val or self.agent_base.model.training:\n",
    "\t\t\t\tself.step+=1\n",
    "\t\t\t\tself.epsilon = max(self.min_epsilon,self.max_epsilon-self.step/self.max_steps)\n",
    "\n",
    "\t\t\t# Add a batch dim if missing\n",
    "\t\t\tif len(action.shape)==1: action.unsqueeze_(0)\n",
    "\n",
    "\t\t\tif self.explore_on_val or self.agent_base.model.training:\n",
    "\t\t\t\tdist = self.normal_dist.sample((len(self.x),)).to(device=self.device)\n",
    "\t\t\t\tself.x += self.theta*(self.mu-self.x)+self.sigma*dist\n",
    "\n",
    "\t\t\t\tif self.ret_original: yield (self.epsilon*self.x+action,action)\n",
    "\t\t\t\telse:                 yield self.epsilon*self.x+action\n",
    "\t\t\telse:\n",
    "\t\t\t\tyield action\n",
    "\n",
    "add_docs(\n",
    "OrnsteinUhlenbeck,\n",
    "\"\"\"Used for exploration in continuous action domains via temporaly correlated noise.\n",
    "\n",
    "[1] From https://math.stackexchange.com/questions/1287634/implementing-ornstein-uhlenbeck-in-matlab\n",
    "\n",
    "[2] Cumulatively based on [Uhlenbeck et al., 1930](http://www.entsphere.com/pub/pdf/1930%20Uhlenbeck,%20on%20the%20theory%20of%20the%20Brownian%20motion.pdf)\"\"\"\n",
    ")"
   ]
  },
  {
   "cell_type": "code",
   "execution_count": null,
   "id": "8eb5b65f",
   "metadata": {},
   "outputs": [],
   "source": [
    "#|export\n",
    "class ExplorationComparisonLogger(LoggerBase):\n",
    "    def __iter__(self):\n",
    "        for element in self.source_datapipe:\n",
    "            if isinstance(element,Record) and element.name=='exploration-compare': \n",
    "                self.buffer.append(element)\n",
    "            elif isinstance(element,tuple) and len(element)==2:\n",
    "                action,original_action = element\n",
    "                self.buffer.append(\n",
    "                    Record(\n",
    "                        'exploration-compare',\n",
    "                        tuple((action.detach().cpu(),original_action.detach().cpu()))\n",
    "                    )\n",
    "                )\n",
    "            yield element\n",
    "    \n",
    "    def show(self,title='Explored Actions vs Original Actions'):\n",
    "        import plotly.express as px\n",
    "        import plotly.io as pio\n",
    "        pio.renderers.default = \"plotly_mimetype+notebook_connected\"\n",
    "\n",
    "        action,original_action = zip(*[o.value for o in self.buffer])\n",
    "        difference = torch.sub(torch.vstack(action),torch.vstack(original_action)).abs()\n",
    "\n",
    "        fig = px.scatter(\n",
    "            pd.DataFrame(difference.numpy()),\n",
    "            title=title,\n",
    "            labels={\n",
    "                \"index\": \"N Steps\",\n",
    "                \"value\": \"Difference between Original/Explored Action\"\n",
    "            },\n",
    "        )\n",
    "        return fig.show()\n",
    "\n",
    "add_docs(\n",
    "ExplorationComparisonLogger,\n",
    "\"\"\"Allows for quickly doing a \"what if\" on exploration methods by comparing\n",
    "the actions selected via exploration with the ones chosen by the model.\n",
    "\"\"\",\n",
    "show=\"\"\"Shows the absolute difference between explored actions and original actions.\n",
    "We would expect as the number of steps increase, the difference between the \n",
    "explored and original actions would get smaller. In other words, if there is no\n",
    "exploration, then the explored actions and the original actions should be almost\n",
    "identical.\"\"\"\n",
    ")"
   ]
  },
  {
   "cell_type": "markdown",
   "id": "cea31dc7",
   "metadata": {},
   "source": [
    "Below we demonstrate that the exploration works. As the number of steps increase,\n",
    "epsilon will decrease to zero, and so the actions slowly become more deterministic."
   ]
  },
  {
   "cell_type": "code",
   "execution_count": null,
   "id": "3d64d1ca",
   "metadata": {},
   "outputs": [
    {
     "data": {
      "text/html": [
       "        <script type=\"text/javascript\">\n",
       "        window.PlotlyConfig = {MathJaxConfig: 'local'};\n",
       "        if (window.MathJax && window.MathJax.Hub && window.MathJax.Hub.Config) {window.MathJax.Hub.Config({SVG: {font: \"STIX-Web\"}});}\n",
       "        if (typeof require !== 'undefined') {\n",
       "        require.undef(\"plotly\");\n",
       "        requirejs.config({\n",
       "            paths: {\n",
       "                'plotly': ['https://cdn.plot.ly/plotly-2.14.0.min']\n",
       "            }\n",
       "        });\n",
       "        require(['plotly'], function(Plotly) {\n",
       "            window._Plotly = Plotly;\n",
       "        });\n",
       "        }\n",
       "        </script>\n",
       "        "
      ]
     },
     "metadata": {},
     "output_type": "display_data"
    },
    {
     "data": {
      "application/vnd.plotly.v1+json": {
       "config": {
        "plotlyServerURL": "https://plot.ly"
       },
       "data": [
        {
         "hovertemplate": "variable=0<br>N Steps=%{x}<br>Difference between Original/Explored Action=%{y}<extra></extra>",
         "legendgroup": "0",
         "marker": {
          "color": "#636efa",
          "symbol": "circle"
         },
         "mode": "markers",
         "name": "0",
         "orientation": "v",
         "showlegend": true,
         "type": "scatter",
         "x": [
          0,
          1,
          2,
          3,
          4,
          5,
          6,
          7,
          8,
          9,
          10,
          11,
          12,
          13,
          14,
          15,
          16,
          17,
          18,
          19,
          20,
          21,
          22,
          23,
          24,
          25,
          26,
          27,
          28,
          29,
          30,
          31,
          32,
          33,
          34,
          35,
          36,
          37,
          38,
          39,
          40,
          41,
          42,
          43,
          44,
          45,
          46,
          47,
          48,
          49,
          50,
          51,
          52,
          53,
          54,
          55,
          56,
          57,
          58,
          59,
          60,
          61,
          62,
          63,
          64,
          65,
          66,
          67,
          68,
          69,
          70,
          71,
          72,
          73,
          74,
          75,
          76,
          77,
          78,
          79,
          80,
          81,
          82,
          83,
          84,
          85,
          86,
          87,
          88,
          89,
          90,
          91,
          92,
          93,
          94,
          95,
          96,
          97,
          98,
          99,
          100,
          101,
          102,
          103,
          104,
          105,
          106,
          107,
          108,
          109,
          110,
          111,
          112,
          113,
          114,
          115,
          116,
          117,
          118,
          119,
          120,
          121,
          122,
          123,
          124,
          125,
          126,
          127,
          128,
          129,
          130,
          131,
          132,
          133,
          134,
          135,
          136,
          137,
          138,
          139,
          140,
          141,
          142,
          143,
          144,
          145,
          146,
          147,
          148,
          149,
          150,
          151,
          152,
          153,
          154,
          155,
          156,
          157,
          158,
          159,
          160,
          161,
          162,
          163,
          164,
          165,
          166,
          167,
          168,
          169,
          170,
          171,
          172,
          173,
          174,
          175,
          176,
          177,
          178,
          179,
          180,
          181,
          182,
          183,
          184,
          185,
          186,
          187,
          188,
          189,
          190,
          191,
          192,
          193,
          194,
          195,
          196,
          197,
          198,
          199
         ],
         "xaxis": "x",
         "y": [
          0.7026176452636719,
          0.4760901927947998,
          0.23386788368225098,
          0.012174069881439209,
          0.1207270622253418,
          0.27513885498046875,
          0.16117656230926514,
          0.04415327310562134,
          0.0739818811416626,
          0.18262743949890137,
          0.15836238861083984,
          0.03639212250709534,
          0.0051343441009521484,
          0.4083521366119385,
          0.5357280969619751,
          0.4026077687740326,
          0.34775376319885254,
          0.2953472137451172,
          0.4466993808746338,
          0.3435005247592926,
          0.07795548439025879,
          0.0770559310913086,
          0.259696900844574,
          0.2503451108932495,
          0.05187642574310303,
          0.1863940954208374,
          0.10823512077331543,
          0.41704869270324707,
          0.2740447521209717,
          0.035321950912475586,
          0.20584577322006226,
          0.24676358699798584,
          0.014619588851928711,
          0.11512875556945801,
          0.13422298431396484,
          0.018475234508514404,
          0.03709590435028076,
          0.041049957275390625,
          0.19180083274841309,
          0.28333431482315063,
          0.34206724166870117,
          0.5699572563171387,
          0.4427844285964966,
          0.40181833505630493,
          0.29690635204315186,
          0.3543999195098877,
          0.09364116191864014,
          0.16517727077007294,
          0.5173244476318359,
          0.8376984596252441,
          0.6329776048660278,
          0.5716389417648315,
          0.5648214221000671,
          0.5007097721099854,
          0.5804809331893921,
          0.4564843475818634,
          0.48241686820983887,
          0.12819242477416992,
          0.17238092422485352,
          0.07595127820968628,
          0.1190798282623291,
          0.07727646827697754,
          0.20475983619689941,
          0.1881641149520874,
          0.11369991302490234,
          0.26389527320861816,
          0.06465315818786621,
          0.1670217216014862,
          0.00419926643371582,
          0.001959562301635742,
          0.017026305198669434,
          0.2759811282157898,
          0.2743833065032959,
          0.057065725326538086,
          0.06782793998718262,
          0.09618383646011353,
          0.04089391231536865,
          0.020344257354736328,
          0.10714596509933472,
          0.17801159620285034,
          0.28849589824676514,
          0.3268383741378784,
          0.04867696762084961,
          0.11537349224090576,
          0.13141727447509766,
          0.15984630584716797,
          0.18854355812072754,
          0.11992916464805603,
          0.11533701419830322,
          0.0384371280670166,
          0.08633911609649658,
          0.24370212852954865,
          0.22395598888397217,
          0.28371572494506836,
          0.24609482288360596,
          0.1193544864654541,
          0.14726662635803223,
          0.24990463256835938,
          0.3674964904785156,
          0.35802018642425537,
          0.2178030014038086,
          0.1684401035308838,
          0.06277906894683838,
          0.06800404191017151,
          0.12492513656616211,
          0.08933138847351074,
          0.10896873474121094,
          0.11243140697479248,
          0.12728822231292725,
          0.19102764129638672,
          0.1950322985649109,
          0.3214670419692993,
          0.2527296543121338,
          0.32849836349487305,
          0.2492607831954956,
          0.09104543924331665,
          0.13444042205810547,
          0.035012245178222656,
          0.058962106704711914,
          0.12426090240478516,
          0.04560506343841553,
          0.036180973052978516,
          0.015052318572998047,
          0.04864615201950073,
          0.04765939712524414,
          0.10207772254943848,
          0.10067987442016602,
          0.01970776915550232,
          0.24017763137817383,
          0.3839454650878906,
          0.4100834131240845,
          0.3673839569091797,
          0.2542816400527954,
          0.1687610149383545,
          0.24480348825454712,
          0.24883228540420532,
          0.27882492542266846,
          0.2079329490661621,
          0.2143864631652832,
          0.20052558183670044,
          0.1213301420211792,
          0.13737154006958008,
          0.08094847202301025,
          0.09133702516555786,
          0.005505919456481934,
          0.08785247802734375,
          0.10153138637542725,
          0.08922681212425232,
          0.005110502243041992,
          0.030684709548950195,
          0.02395153045654297,
          0.08863711357116699,
          0.10973620414733887,
          0.057817935943603516,
          0.043212890625,
          0.07271385192871094,
          0.08385169506072998,
          0.1219797134399414,
          0.09065163135528564,
          0.1117139458656311,
          0.1028527021408081,
          0.00526881217956543,
          0.031690359115600586,
          0.02403801679611206,
          0.033199310302734375,
          0.073333740234375,
          0.10317075252532959,
          0.07840365171432495,
          0.022475719451904297,
          0.04321861267089844,
          0.012325525283813477,
          0.010249108076095581,
          0.023240089416503906,
          0.00636601448059082,
          0.04891347885131836,
          0.028050780296325684,
          0.02204132080078125,
          0.026057004928588867,
          0.03418076038360596,
          0.01651543378829956,
          0.02491438388824463,
          0.014991998672485352,
          0.00627744197845459,
          0.020903289318084717,
          0.002185821533203125,
          0.0031876564025878906,
          0.012217164039611816,
          0.01565861701965332,
          0.0035674571990966797,
          0.0012710094451904297,
          0.029331564903259277,
          0.014498770236968994,
          0.013657569885253906,
          0.015244483947753906,
          0.01254129409790039,
          0.005033522844314575,
          0.0035659074783325195,
          0.007517337799072266,
          0.0030745267868041992,
          0
         ],
         "yaxis": "y"
        },
        {
         "hovertemplate": "variable=1<br>N Steps=%{x}<br>Difference between Original/Explored Action=%{y}<extra></extra>",
         "legendgroup": "1",
         "marker": {
          "color": "#EF553B",
          "symbol": "circle"
         },
         "mode": "markers",
         "name": "1",
         "orientation": "v",
         "showlegend": true,
         "type": "scatter",
         "x": [
          0,
          1,
          2,
          3,
          4,
          5,
          6,
          7,
          8,
          9,
          10,
          11,
          12,
          13,
          14,
          15,
          16,
          17,
          18,
          19,
          20,
          21,
          22,
          23,
          24,
          25,
          26,
          27,
          28,
          29,
          30,
          31,
          32,
          33,
          34,
          35,
          36,
          37,
          38,
          39,
          40,
          41,
          42,
          43,
          44,
          45,
          46,
          47,
          48,
          49,
          50,
          51,
          52,
          53,
          54,
          55,
          56,
          57,
          58,
          59,
          60,
          61,
          62,
          63,
          64,
          65,
          66,
          67,
          68,
          69,
          70,
          71,
          72,
          73,
          74,
          75,
          76,
          77,
          78,
          79,
          80,
          81,
          82,
          83,
          84,
          85,
          86,
          87,
          88,
          89,
          90,
          91,
          92,
          93,
          94,
          95,
          96,
          97,
          98,
          99,
          100,
          101,
          102,
          103,
          104,
          105,
          106,
          107,
          108,
          109,
          110,
          111,
          112,
          113,
          114,
          115,
          116,
          117,
          118,
          119,
          120,
          121,
          122,
          123,
          124,
          125,
          126,
          127,
          128,
          129,
          130,
          131,
          132,
          133,
          134,
          135,
          136,
          137,
          138,
          139,
          140,
          141,
          142,
          143,
          144,
          145,
          146,
          147,
          148,
          149,
          150,
          151,
          152,
          153,
          154,
          155,
          156,
          157,
          158,
          159,
          160,
          161,
          162,
          163,
          164,
          165,
          166,
          167,
          168,
          169,
          170,
          171,
          172,
          173,
          174,
          175,
          176,
          177,
          178,
          179,
          180,
          181,
          182,
          183,
          184,
          185,
          186,
          187,
          188,
          189,
          190,
          191,
          192,
          193,
          194,
          195,
          196,
          197,
          198,
          199
         ],
         "xaxis": "x",
         "y": [
          0.765484631061554,
          0.6834354400634766,
          0.7948052287101746,
          0.6962044835090637,
          0.6615119576454163,
          0.2666347026824951,
          0.5065761804580688,
          0.5771297812461853,
          0.7293900847434998,
          0.4664260149002075,
          0.25858283042907715,
          0.0281217098236084,
          0.07772193849086761,
          0.11388146877288818,
          0.0036385059356689453,
          0.16585439443588257,
          0.08748465776443481,
          0.24039381742477417,
          0.25146591663360596,
          0.2519891858100891,
          0.21934139728546143,
          0.32180115580558777,
          0.2159130573272705,
          0.01854151487350464,
          0.10000121593475342,
          0.0780574381351471,
          0.08905291557312012,
          0.45984214544296265,
          0.3311394155025482,
          0.4891775846481323,
          0.6112713813781738,
          0.22515219449996948,
          0.3383851945400238,
          0.29538583755493164,
          0.340639591217041,
          0.2906952500343323,
          0.4118063151836395,
          0.421115517616272,
          0.47024786472320557,
          0.29425472021102905,
          0.22325752675533295,
          0.32250428199768066,
          0.2518002986907959,
          0.11970770359039307,
          0.1891278475522995,
          0.026546478271484375,
          0.34221458435058594,
          0.1136314868927002,
          0.2281605452299118,
          0.1879522204399109,
          0.08071911334991455,
          0.08806788921356201,
          0.09194910526275635,
          0.11419269442558289,
          0.09575986862182617,
          0.19893497228622437,
          0.03586646914482117,
          0.13930654525756836,
          0.2188502550125122,
          0.36810749769210815,
          0.32309404015541077,
          0.20741349458694458,
          0.26107144355773926,
          0.2832741141319275,
          0.46099528670310974,
          0.38101595640182495,
          0.4843370318412781,
          0.2509707808494568,
          0.29788026213645935,
          0.31081056594848633,
          0.07904410362243652,
          0.19003409147262573,
          0.023147284984588623,
          0.1201530396938324,
          0.0044509172439575195,
          0.09921497106552124,
          0.12523165345191956,
          0.006978750228881836,
          0.14152741432189941,
          0.12457811832427979,
          0.0869259238243103,
          0.025214016437530518,
          0.17100250720977783,
          0.13712328672409058,
          0.0622616708278656,
          0.007432222366333008,
          0.185272216796875,
          0.2210872769355774,
          0.29794466495513916,
          0.24203789234161377,
          0.41453295946121216,
          0.28543370962142944,
          0.27813249826431274,
          0.16505658626556396,
          0.09813356399536133,
          0.21411705017089844,
          0.19808369874954224,
          0.3109791874885559,
          0.30424392223358154,
          0.21892398595809937,
          0.23414313793182373,
          0.1323021650314331,
          0.11919069290161133,
          0.045756399631500244,
          0.013967245817184448,
          0.18646013736724854,
          0.10712027549743652,
          0.0005462169647216797,
          0.07290835678577423,
          0.04851478338241577,
          0.19485688209533691,
          0.2409389615058899,
          0.31215256452560425,
          0.17645978927612305,
          0.23026621341705322,
          0.12484419345855713,
          0.22091646492481232,
          0.13441169261932373,
          0.1437995433807373,
          0.11262768507003784,
          0.015621811151504517,
          0.020333468914031982,
          0.056534647941589355,
          0.087088942527771,
          0.0787087082862854,
          0.04766416549682617,
          0.03250598907470703,
          0.05935347080230713,
          0.06512117385864258,
          0.07386502623558044,
          0.0728379487991333,
          0.07615214586257935,
          0.08095920085906982,
          0.07476124167442322,
          0.10242021083831787,
          0.01892620325088501,
          0.039330631494522095,
          0.04863530397415161,
          0.08616077899932861,
          0.018920719623565674,
          0.08628270030021667,
          0.11490166187286377,
          0.1939547061920166,
          0.11045557260513306,
          0.03024137020111084,
          0.0484277606010437,
          0.06887626647949219,
          0.034571170806884766,
          0.015645474195480347,
          0.03185629844665527,
          0.03192877769470215,
          0.12035620212554932,
          0.057377889752388,
          0.0915079116821289,
          0.1281822919845581,
          0.17662662267684937,
          0.12125781178474426,
          0.13549327850341797,
          0.08921599388122559,
          0.11805546283721924,
          0.08431990444660187,
          0.06822681427001953,
          0.07487738132476807,
          0.04299736022949219,
          0.07896046340465546,
          0.09680616855621338,
          0.07811212539672852,
          0.034563422203063965,
          0.02367246150970459,
          0.00699228048324585,
          0.055082082748413086,
          0.024096965789794922,
          0.012510418891906738,
          0.006214022636413574,
          0.0006555318832397461,
          0.035815298557281494,
          0.05085602402687073,
          0.005380392074584961,
          0.011446833610534668,
          0.01687997579574585,
          0.01487782597541809,
          0.002177298069000244,
          0.014880180358886719,
          0.022456347942352295,
          0.01700812578201294,
          0.0009175539016723633,
          0.009383082389831543,
          0.004910111427307129,
          0.007818222045898438,
          0.004676878452301025,
          0.0007179975509643555,
          0.0037946105003356934,
          0.010048329830169678,
          0.012211322784423828,
          0.002706289291381836,
          0.0032041072845458984,
          0.00013497471809387207,
          0.0004698038101196289,
          0.0003019571304321289,
          0
         ],
         "yaxis": "y"
        }
       ],
       "layout": {
        "legend": {
         "title": {
          "text": "variable"
         },
         "tracegroupgap": 0
        },
        "template": {
         "data": {
          "bar": [
           {
            "error_x": {
             "color": "#2a3f5f"
            },
            "error_y": {
             "color": "#2a3f5f"
            },
            "marker": {
             "line": {
              "color": "#E5ECF6",
              "width": 0.5
             },
             "pattern": {
              "fillmode": "overlay",
              "size": 10,
              "solidity": 0.2
             }
            },
            "type": "bar"
           }
          ],
          "barpolar": [
           {
            "marker": {
             "line": {
              "color": "#E5ECF6",
              "width": 0.5
             },
             "pattern": {
              "fillmode": "overlay",
              "size": 10,
              "solidity": 0.2
             }
            },
            "type": "barpolar"
           }
          ],
          "carpet": [
           {
            "aaxis": {
             "endlinecolor": "#2a3f5f",
             "gridcolor": "white",
             "linecolor": "white",
             "minorgridcolor": "white",
             "startlinecolor": "#2a3f5f"
            },
            "baxis": {
             "endlinecolor": "#2a3f5f",
             "gridcolor": "white",
             "linecolor": "white",
             "minorgridcolor": "white",
             "startlinecolor": "#2a3f5f"
            },
            "type": "carpet"
           }
          ],
          "choropleth": [
           {
            "colorbar": {
             "outlinewidth": 0,
             "ticks": ""
            },
            "type": "choropleth"
           }
          ],
          "contour": [
           {
            "colorbar": {
             "outlinewidth": 0,
             "ticks": ""
            },
            "colorscale": [
             [
              0,
              "#0d0887"
             ],
             [
              0.1111111111111111,
              "#46039f"
             ],
             [
              0.2222222222222222,
              "#7201a8"
             ],
             [
              0.3333333333333333,
              "#9c179e"
             ],
             [
              0.4444444444444444,
              "#bd3786"
             ],
             [
              0.5555555555555556,
              "#d8576b"
             ],
             [
              0.6666666666666666,
              "#ed7953"
             ],
             [
              0.7777777777777778,
              "#fb9f3a"
             ],
             [
              0.8888888888888888,
              "#fdca26"
             ],
             [
              1,
              "#f0f921"
             ]
            ],
            "type": "contour"
           }
          ],
          "contourcarpet": [
           {
            "colorbar": {
             "outlinewidth": 0,
             "ticks": ""
            },
            "type": "contourcarpet"
           }
          ],
          "heatmap": [
           {
            "colorbar": {
             "outlinewidth": 0,
             "ticks": ""
            },
            "colorscale": [
             [
              0,
              "#0d0887"
             ],
             [
              0.1111111111111111,
              "#46039f"
             ],
             [
              0.2222222222222222,
              "#7201a8"
             ],
             [
              0.3333333333333333,
              "#9c179e"
             ],
             [
              0.4444444444444444,
              "#bd3786"
             ],
             [
              0.5555555555555556,
              "#d8576b"
             ],
             [
              0.6666666666666666,
              "#ed7953"
             ],
             [
              0.7777777777777778,
              "#fb9f3a"
             ],
             [
              0.8888888888888888,
              "#fdca26"
             ],
             [
              1,
              "#f0f921"
             ]
            ],
            "type": "heatmap"
           }
          ],
          "heatmapgl": [
           {
            "colorbar": {
             "outlinewidth": 0,
             "ticks": ""
            },
            "colorscale": [
             [
              0,
              "#0d0887"
             ],
             [
              0.1111111111111111,
              "#46039f"
             ],
             [
              0.2222222222222222,
              "#7201a8"
             ],
             [
              0.3333333333333333,
              "#9c179e"
             ],
             [
              0.4444444444444444,
              "#bd3786"
             ],
             [
              0.5555555555555556,
              "#d8576b"
             ],
             [
              0.6666666666666666,
              "#ed7953"
             ],
             [
              0.7777777777777778,
              "#fb9f3a"
             ],
             [
              0.8888888888888888,
              "#fdca26"
             ],
             [
              1,
              "#f0f921"
             ]
            ],
            "type": "heatmapgl"
           }
          ],
          "histogram": [
           {
            "marker": {
             "pattern": {
              "fillmode": "overlay",
              "size": 10,
              "solidity": 0.2
             }
            },
            "type": "histogram"
           }
          ],
          "histogram2d": [
           {
            "colorbar": {
             "outlinewidth": 0,
             "ticks": ""
            },
            "colorscale": [
             [
              0,
              "#0d0887"
             ],
             [
              0.1111111111111111,
              "#46039f"
             ],
             [
              0.2222222222222222,
              "#7201a8"
             ],
             [
              0.3333333333333333,
              "#9c179e"
             ],
             [
              0.4444444444444444,
              "#bd3786"
             ],
             [
              0.5555555555555556,
              "#d8576b"
             ],
             [
              0.6666666666666666,
              "#ed7953"
             ],
             [
              0.7777777777777778,
              "#fb9f3a"
             ],
             [
              0.8888888888888888,
              "#fdca26"
             ],
             [
              1,
              "#f0f921"
             ]
            ],
            "type": "histogram2d"
           }
          ],
          "histogram2dcontour": [
           {
            "colorbar": {
             "outlinewidth": 0,
             "ticks": ""
            },
            "colorscale": [
             [
              0,
              "#0d0887"
             ],
             [
              0.1111111111111111,
              "#46039f"
             ],
             [
              0.2222222222222222,
              "#7201a8"
             ],
             [
              0.3333333333333333,
              "#9c179e"
             ],
             [
              0.4444444444444444,
              "#bd3786"
             ],
             [
              0.5555555555555556,
              "#d8576b"
             ],
             [
              0.6666666666666666,
              "#ed7953"
             ],
             [
              0.7777777777777778,
              "#fb9f3a"
             ],
             [
              0.8888888888888888,
              "#fdca26"
             ],
             [
              1,
              "#f0f921"
             ]
            ],
            "type": "histogram2dcontour"
           }
          ],
          "mesh3d": [
           {
            "colorbar": {
             "outlinewidth": 0,
             "ticks": ""
            },
            "type": "mesh3d"
           }
          ],
          "parcoords": [
           {
            "line": {
             "colorbar": {
              "outlinewidth": 0,
              "ticks": ""
             }
            },
            "type": "parcoords"
           }
          ],
          "pie": [
           {
            "automargin": true,
            "type": "pie"
           }
          ],
          "scatter": [
           {
            "fillpattern": {
             "fillmode": "overlay",
             "size": 10,
             "solidity": 0.2
            },
            "type": "scatter"
           }
          ],
          "scatter3d": [
           {
            "line": {
             "colorbar": {
              "outlinewidth": 0,
              "ticks": ""
             }
            },
            "marker": {
             "colorbar": {
              "outlinewidth": 0,
              "ticks": ""
             }
            },
            "type": "scatter3d"
           }
          ],
          "scattercarpet": [
           {
            "marker": {
             "colorbar": {
              "outlinewidth": 0,
              "ticks": ""
             }
            },
            "type": "scattercarpet"
           }
          ],
          "scattergeo": [
           {
            "marker": {
             "colorbar": {
              "outlinewidth": 0,
              "ticks": ""
             }
            },
            "type": "scattergeo"
           }
          ],
          "scattergl": [
           {
            "marker": {
             "colorbar": {
              "outlinewidth": 0,
              "ticks": ""
             }
            },
            "type": "scattergl"
           }
          ],
          "scattermapbox": [
           {
            "marker": {
             "colorbar": {
              "outlinewidth": 0,
              "ticks": ""
             }
            },
            "type": "scattermapbox"
           }
          ],
          "scatterpolar": [
           {
            "marker": {
             "colorbar": {
              "outlinewidth": 0,
              "ticks": ""
             }
            },
            "type": "scatterpolar"
           }
          ],
          "scatterpolargl": [
           {
            "marker": {
             "colorbar": {
              "outlinewidth": 0,
              "ticks": ""
             }
            },
            "type": "scatterpolargl"
           }
          ],
          "scatterternary": [
           {
            "marker": {
             "colorbar": {
              "outlinewidth": 0,
              "ticks": ""
             }
            },
            "type": "scatterternary"
           }
          ],
          "surface": [
           {
            "colorbar": {
             "outlinewidth": 0,
             "ticks": ""
            },
            "colorscale": [
             [
              0,
              "#0d0887"
             ],
             [
              0.1111111111111111,
              "#46039f"
             ],
             [
              0.2222222222222222,
              "#7201a8"
             ],
             [
              0.3333333333333333,
              "#9c179e"
             ],
             [
              0.4444444444444444,
              "#bd3786"
             ],
             [
              0.5555555555555556,
              "#d8576b"
             ],
             [
              0.6666666666666666,
              "#ed7953"
             ],
             [
              0.7777777777777778,
              "#fb9f3a"
             ],
             [
              0.8888888888888888,
              "#fdca26"
             ],
             [
              1,
              "#f0f921"
             ]
            ],
            "type": "surface"
           }
          ],
          "table": [
           {
            "cells": {
             "fill": {
              "color": "#EBF0F8"
             },
             "line": {
              "color": "white"
             }
            },
            "header": {
             "fill": {
              "color": "#C8D4E3"
             },
             "line": {
              "color": "white"
             }
            },
            "type": "table"
           }
          ]
         },
         "layout": {
          "annotationdefaults": {
           "arrowcolor": "#2a3f5f",
           "arrowhead": 0,
           "arrowwidth": 1
          },
          "autotypenumbers": "strict",
          "coloraxis": {
           "colorbar": {
            "outlinewidth": 0,
            "ticks": ""
           }
          },
          "colorscale": {
           "diverging": [
            [
             0,
             "#8e0152"
            ],
            [
             0.1,
             "#c51b7d"
            ],
            [
             0.2,
             "#de77ae"
            ],
            [
             0.3,
             "#f1b6da"
            ],
            [
             0.4,
             "#fde0ef"
            ],
            [
             0.5,
             "#f7f7f7"
            ],
            [
             0.6,
             "#e6f5d0"
            ],
            [
             0.7,
             "#b8e186"
            ],
            [
             0.8,
             "#7fbc41"
            ],
            [
             0.9,
             "#4d9221"
            ],
            [
             1,
             "#276419"
            ]
           ],
           "sequential": [
            [
             0,
             "#0d0887"
            ],
            [
             0.1111111111111111,
             "#46039f"
            ],
            [
             0.2222222222222222,
             "#7201a8"
            ],
            [
             0.3333333333333333,
             "#9c179e"
            ],
            [
             0.4444444444444444,
             "#bd3786"
            ],
            [
             0.5555555555555556,
             "#d8576b"
            ],
            [
             0.6666666666666666,
             "#ed7953"
            ],
            [
             0.7777777777777778,
             "#fb9f3a"
            ],
            [
             0.8888888888888888,
             "#fdca26"
            ],
            [
             1,
             "#f0f921"
            ]
           ],
           "sequentialminus": [
            [
             0,
             "#0d0887"
            ],
            [
             0.1111111111111111,
             "#46039f"
            ],
            [
             0.2222222222222222,
             "#7201a8"
            ],
            [
             0.3333333333333333,
             "#9c179e"
            ],
            [
             0.4444444444444444,
             "#bd3786"
            ],
            [
             0.5555555555555556,
             "#d8576b"
            ],
            [
             0.6666666666666666,
             "#ed7953"
            ],
            [
             0.7777777777777778,
             "#fb9f3a"
            ],
            [
             0.8888888888888888,
             "#fdca26"
            ],
            [
             1,
             "#f0f921"
            ]
           ]
          },
          "colorway": [
           "#636efa",
           "#EF553B",
           "#00cc96",
           "#ab63fa",
           "#FFA15A",
           "#19d3f3",
           "#FF6692",
           "#B6E880",
           "#FF97FF",
           "#FECB52"
          ],
          "font": {
           "color": "#2a3f5f"
          },
          "geo": {
           "bgcolor": "white",
           "lakecolor": "white",
           "landcolor": "#E5ECF6",
           "showlakes": true,
           "showland": true,
           "subunitcolor": "white"
          },
          "hoverlabel": {
           "align": "left"
          },
          "hovermode": "closest",
          "mapbox": {
           "style": "light"
          },
          "paper_bgcolor": "white",
          "plot_bgcolor": "#E5ECF6",
          "polar": {
           "angularaxis": {
            "gridcolor": "white",
            "linecolor": "white",
            "ticks": ""
           },
           "bgcolor": "#E5ECF6",
           "radialaxis": {
            "gridcolor": "white",
            "linecolor": "white",
            "ticks": ""
           }
          },
          "scene": {
           "xaxis": {
            "backgroundcolor": "#E5ECF6",
            "gridcolor": "white",
            "gridwidth": 2,
            "linecolor": "white",
            "showbackground": true,
            "ticks": "",
            "zerolinecolor": "white"
           },
           "yaxis": {
            "backgroundcolor": "#E5ECF6",
            "gridcolor": "white",
            "gridwidth": 2,
            "linecolor": "white",
            "showbackground": true,
            "ticks": "",
            "zerolinecolor": "white"
           },
           "zaxis": {
            "backgroundcolor": "#E5ECF6",
            "gridcolor": "white",
            "gridwidth": 2,
            "linecolor": "white",
            "showbackground": true,
            "ticks": "",
            "zerolinecolor": "white"
           }
          },
          "shapedefaults": {
           "line": {
            "color": "#2a3f5f"
           }
          },
          "ternary": {
           "aaxis": {
            "gridcolor": "white",
            "linecolor": "white",
            "ticks": ""
           },
           "baxis": {
            "gridcolor": "white",
            "linecolor": "white",
            "ticks": ""
           },
           "bgcolor": "#E5ECF6",
           "caxis": {
            "gridcolor": "white",
            "linecolor": "white",
            "ticks": ""
           }
          },
          "title": {
           "x": 0.05
          },
          "xaxis": {
           "automargin": true,
           "gridcolor": "white",
           "linecolor": "white",
           "ticks": "",
           "title": {
            "standoff": 15
           },
           "zerolinecolor": "white",
           "zerolinewidth": 2
          },
          "yaxis": {
           "automargin": true,
           "gridcolor": "white",
           "linecolor": "white",
           "ticks": "",
           "title": {
            "standoff": 15
           },
           "zerolinecolor": "white",
           "zerolinewidth": 2
          }
         }
        },
        "title": {
         "text": "Explored Actions vs Original Actions"
        },
        "xaxis": {
         "anchor": "y",
         "domain": [
          0,
          1
         ],
         "title": {
          "text": "N Steps"
         }
        },
        "yaxis": {
         "anchor": "x",
         "domain": [
          0,
          1
         ],
         "title": {
          "text": "Difference between Original/Explored Action"
         }
        }
       }
      },
      "text/html": [
       "<div>                            <div id=\"80c59ea0-c4ec-4847-a849-567a834e56fb\" class=\"plotly-graph-div\" style=\"height:525px; width:100%;\"></div>            <script type=\"text/javascript\">                require([\"plotly\"], function(Plotly) {                    window.PLOTLYENV=window.PLOTLYENV || {};                                    if (document.getElementById(\"80c59ea0-c4ec-4847-a849-567a834e56fb\")) {                    Plotly.newPlot(                        \"80c59ea0-c4ec-4847-a849-567a834e56fb\",                        [{\"hovertemplate\":\"variable=0<br>N Steps=%{x}<br>Difference between Original/Explored Action=%{y}<extra></extra>\",\"legendgroup\":\"0\",\"marker\":{\"color\":\"#636efa\",\"symbol\":\"circle\"},\"mode\":\"markers\",\"name\":\"0\",\"orientation\":\"v\",\"showlegend\":true,\"x\":[0,1,2,3,4,5,6,7,8,9,10,11,12,13,14,15,16,17,18,19,20,21,22,23,24,25,26,27,28,29,30,31,32,33,34,35,36,37,38,39,40,41,42,43,44,45,46,47,48,49,50,51,52,53,54,55,56,57,58,59,60,61,62,63,64,65,66,67,68,69,70,71,72,73,74,75,76,77,78,79,80,81,82,83,84,85,86,87,88,89,90,91,92,93,94,95,96,97,98,99,100,101,102,103,104,105,106,107,108,109,110,111,112,113,114,115,116,117,118,119,120,121,122,123,124,125,126,127,128,129,130,131,132,133,134,135,136,137,138,139,140,141,142,143,144,145,146,147,148,149,150,151,152,153,154,155,156,157,158,159,160,161,162,163,164,165,166,167,168,169,170,171,172,173,174,175,176,177,178,179,180,181,182,183,184,185,186,187,188,189,190,191,192,193,194,195,196,197,198,199],\"xaxis\":\"x\",\"y\":[0.7026176452636719,0.4760901927947998,0.23386788368225098,0.012174069881439209,0.1207270622253418,0.27513885498046875,0.16117656230926514,0.04415327310562134,0.0739818811416626,0.18262743949890137,0.15836238861083984,0.03639212250709534,0.0051343441009521484,0.4083521366119385,0.5357280969619751,0.4026077687740326,0.34775376319885254,0.2953472137451172,0.4466993808746338,0.3435005247592926,0.07795548439025879,0.0770559310913086,0.259696900844574,0.2503451108932495,0.05187642574310303,0.1863940954208374,0.10823512077331543,0.41704869270324707,0.2740447521209717,0.035321950912475586,0.20584577322006226,0.24676358699798584,0.014619588851928711,0.11512875556945801,0.13422298431396484,0.018475234508514404,0.03709590435028076,0.041049957275390625,0.19180083274841309,0.28333431482315063,0.34206724166870117,0.5699572563171387,0.4427844285964966,0.40181833505630493,0.29690635204315186,0.3543999195098877,0.09364116191864014,0.16517727077007294,0.5173244476318359,0.8376984596252441,0.6329776048660278,0.5716389417648315,0.5648214221000671,0.5007097721099854,0.5804809331893921,0.4564843475818634,0.48241686820983887,0.12819242477416992,0.17238092422485352,0.07595127820968628,0.1190798282623291,0.07727646827697754,0.20475983619689941,0.1881641149520874,0.11369991302490234,0.26389527320861816,0.06465315818786621,0.1670217216014862,0.00419926643371582,0.001959562301635742,0.017026305198669434,0.2759811282157898,0.2743833065032959,0.057065725326538086,0.06782793998718262,0.09618383646011353,0.04089391231536865,0.020344257354736328,0.10714596509933472,0.17801159620285034,0.28849589824676514,0.3268383741378784,0.04867696762084961,0.11537349224090576,0.13141727447509766,0.15984630584716797,0.18854355812072754,0.11992916464805603,0.11533701419830322,0.0384371280670166,0.08633911609649658,0.24370212852954865,0.22395598888397217,0.28371572494506836,0.24609482288360596,0.1193544864654541,0.14726662635803223,0.24990463256835938,0.3674964904785156,0.35802018642425537,0.2178030014038086,0.1684401035308838,0.06277906894683838,0.06800404191017151,0.12492513656616211,0.08933138847351074,0.10896873474121094,0.11243140697479248,0.12728822231292725,0.19102764129638672,0.1950322985649109,0.3214670419692993,0.2527296543121338,0.32849836349487305,0.2492607831954956,0.09104543924331665,0.13444042205810547,0.035012245178222656,0.058962106704711914,0.12426090240478516,0.04560506343841553,0.036180973052978516,0.015052318572998047,0.04864615201950073,0.04765939712524414,0.10207772254943848,0.10067987442016602,0.01970776915550232,0.24017763137817383,0.3839454650878906,0.4100834131240845,0.3673839569091797,0.2542816400527954,0.1687610149383545,0.24480348825454712,0.24883228540420532,0.27882492542266846,0.2079329490661621,0.2143864631652832,0.20052558183670044,0.1213301420211792,0.13737154006958008,0.08094847202301025,0.09133702516555786,0.005505919456481934,0.08785247802734375,0.10153138637542725,0.08922681212425232,0.005110502243041992,0.030684709548950195,0.02395153045654297,0.08863711357116699,0.10973620414733887,0.057817935943603516,0.043212890625,0.07271385192871094,0.08385169506072998,0.1219797134399414,0.09065163135528564,0.1117139458656311,0.1028527021408081,0.00526881217956543,0.031690359115600586,0.02403801679611206,0.033199310302734375,0.073333740234375,0.10317075252532959,0.07840365171432495,0.022475719451904297,0.04321861267089844,0.012325525283813477,0.010249108076095581,0.023240089416503906,0.00636601448059082,0.04891347885131836,0.028050780296325684,0.02204132080078125,0.026057004928588867,0.03418076038360596,0.01651543378829956,0.02491438388824463,0.014991998672485352,0.00627744197845459,0.020903289318084717,0.002185821533203125,0.0031876564025878906,0.012217164039611816,0.01565861701965332,0.0035674571990966797,0.0012710094451904297,0.029331564903259277,0.014498770236968994,0.013657569885253906,0.015244483947753906,0.01254129409790039,0.005033522844314575,0.0035659074783325195,0.007517337799072266,0.0030745267868041992,0.0],\"yaxis\":\"y\",\"type\":\"scatter\"},{\"hovertemplate\":\"variable=1<br>N Steps=%{x}<br>Difference between Original/Explored Action=%{y}<extra></extra>\",\"legendgroup\":\"1\",\"marker\":{\"color\":\"#EF553B\",\"symbol\":\"circle\"},\"mode\":\"markers\",\"name\":\"1\",\"orientation\":\"v\",\"showlegend\":true,\"x\":[0,1,2,3,4,5,6,7,8,9,10,11,12,13,14,15,16,17,18,19,20,21,22,23,24,25,26,27,28,29,30,31,32,33,34,35,36,37,38,39,40,41,42,43,44,45,46,47,48,49,50,51,52,53,54,55,56,57,58,59,60,61,62,63,64,65,66,67,68,69,70,71,72,73,74,75,76,77,78,79,80,81,82,83,84,85,86,87,88,89,90,91,92,93,94,95,96,97,98,99,100,101,102,103,104,105,106,107,108,109,110,111,112,113,114,115,116,117,118,119,120,121,122,123,124,125,126,127,128,129,130,131,132,133,134,135,136,137,138,139,140,141,142,143,144,145,146,147,148,149,150,151,152,153,154,155,156,157,158,159,160,161,162,163,164,165,166,167,168,169,170,171,172,173,174,175,176,177,178,179,180,181,182,183,184,185,186,187,188,189,190,191,192,193,194,195,196,197,198,199],\"xaxis\":\"x\",\"y\":[0.765484631061554,0.6834354400634766,0.7948052287101746,0.6962044835090637,0.6615119576454163,0.2666347026824951,0.5065761804580688,0.5771297812461853,0.7293900847434998,0.4664260149002075,0.25858283042907715,0.0281217098236084,0.07772193849086761,0.11388146877288818,0.0036385059356689453,0.16585439443588257,0.08748465776443481,0.24039381742477417,0.25146591663360596,0.2519891858100891,0.21934139728546143,0.32180115580558777,0.2159130573272705,0.01854151487350464,0.10000121593475342,0.0780574381351471,0.08905291557312012,0.45984214544296265,0.3311394155025482,0.4891775846481323,0.6112713813781738,0.22515219449996948,0.3383851945400238,0.29538583755493164,0.340639591217041,0.2906952500343323,0.4118063151836395,0.421115517616272,0.47024786472320557,0.29425472021102905,0.22325752675533295,0.32250428199768066,0.2518002986907959,0.11970770359039307,0.1891278475522995,0.026546478271484375,0.34221458435058594,0.1136314868927002,0.2281605452299118,0.1879522204399109,0.08071911334991455,0.08806788921356201,0.09194910526275635,0.11419269442558289,0.09575986862182617,0.19893497228622437,0.03586646914482117,0.13930654525756836,0.2188502550125122,0.36810749769210815,0.32309404015541077,0.20741349458694458,0.26107144355773926,0.2832741141319275,0.46099528670310974,0.38101595640182495,0.4843370318412781,0.2509707808494568,0.29788026213645935,0.31081056594848633,0.07904410362243652,0.19003409147262573,0.023147284984588623,0.1201530396938324,0.0044509172439575195,0.09921497106552124,0.12523165345191956,0.006978750228881836,0.14152741432189941,0.12457811832427979,0.0869259238243103,0.025214016437530518,0.17100250720977783,0.13712328672409058,0.0622616708278656,0.007432222366333008,0.185272216796875,0.2210872769355774,0.29794466495513916,0.24203789234161377,0.41453295946121216,0.28543370962142944,0.27813249826431274,0.16505658626556396,0.09813356399536133,0.21411705017089844,0.19808369874954224,0.3109791874885559,0.30424392223358154,0.21892398595809937,0.23414313793182373,0.1323021650314331,0.11919069290161133,0.045756399631500244,0.013967245817184448,0.18646013736724854,0.10712027549743652,0.0005462169647216797,0.07290835678577423,0.04851478338241577,0.19485688209533691,0.2409389615058899,0.31215256452560425,0.17645978927612305,0.23026621341705322,0.12484419345855713,0.22091646492481232,0.13441169261932373,0.1437995433807373,0.11262768507003784,0.015621811151504517,0.020333468914031982,0.056534647941589355,0.087088942527771,0.0787087082862854,0.04766416549682617,0.03250598907470703,0.05935347080230713,0.06512117385864258,0.07386502623558044,0.0728379487991333,0.07615214586257935,0.08095920085906982,0.07476124167442322,0.10242021083831787,0.01892620325088501,0.039330631494522095,0.04863530397415161,0.08616077899932861,0.018920719623565674,0.08628270030021667,0.11490166187286377,0.1939547061920166,0.11045557260513306,0.03024137020111084,0.0484277606010437,0.06887626647949219,0.034571170806884766,0.015645474195480347,0.03185629844665527,0.03192877769470215,0.12035620212554932,0.057377889752388,0.0915079116821289,0.1281822919845581,0.17662662267684937,0.12125781178474426,0.13549327850341797,0.08921599388122559,0.11805546283721924,0.08431990444660187,0.06822681427001953,0.07487738132476807,0.04299736022949219,0.07896046340465546,0.09680616855621338,0.07811212539672852,0.034563422203063965,0.02367246150970459,0.00699228048324585,0.055082082748413086,0.024096965789794922,0.012510418891906738,0.006214022636413574,0.0006555318832397461,0.035815298557281494,0.05085602402687073,0.005380392074584961,0.011446833610534668,0.01687997579574585,0.01487782597541809,0.002177298069000244,0.014880180358886719,0.022456347942352295,0.01700812578201294,0.0009175539016723633,0.009383082389831543,0.004910111427307129,0.007818222045898438,0.004676878452301025,0.0007179975509643555,0.0037946105003356934,0.010048329830169678,0.012211322784423828,0.002706289291381836,0.0032041072845458984,0.00013497471809387207,0.0004698038101196289,0.0003019571304321289,0.0],\"yaxis\":\"y\",\"type\":\"scatter\"}],                        {\"template\":{\"data\":{\"histogram2dcontour\":[{\"type\":\"histogram2dcontour\",\"colorbar\":{\"outlinewidth\":0,\"ticks\":\"\"},\"colorscale\":[[0.0,\"#0d0887\"],[0.1111111111111111,\"#46039f\"],[0.2222222222222222,\"#7201a8\"],[0.3333333333333333,\"#9c179e\"],[0.4444444444444444,\"#bd3786\"],[0.5555555555555556,\"#d8576b\"],[0.6666666666666666,\"#ed7953\"],[0.7777777777777778,\"#fb9f3a\"],[0.8888888888888888,\"#fdca26\"],[1.0,\"#f0f921\"]]}],\"choropleth\":[{\"type\":\"choropleth\",\"colorbar\":{\"outlinewidth\":0,\"ticks\":\"\"}}],\"histogram2d\":[{\"type\":\"histogram2d\",\"colorbar\":{\"outlinewidth\":0,\"ticks\":\"\"},\"colorscale\":[[0.0,\"#0d0887\"],[0.1111111111111111,\"#46039f\"],[0.2222222222222222,\"#7201a8\"],[0.3333333333333333,\"#9c179e\"],[0.4444444444444444,\"#bd3786\"],[0.5555555555555556,\"#d8576b\"],[0.6666666666666666,\"#ed7953\"],[0.7777777777777778,\"#fb9f3a\"],[0.8888888888888888,\"#fdca26\"],[1.0,\"#f0f921\"]]}],\"heatmap\":[{\"type\":\"heatmap\",\"colorbar\":{\"outlinewidth\":0,\"ticks\":\"\"},\"colorscale\":[[0.0,\"#0d0887\"],[0.1111111111111111,\"#46039f\"],[0.2222222222222222,\"#7201a8\"],[0.3333333333333333,\"#9c179e\"],[0.4444444444444444,\"#bd3786\"],[0.5555555555555556,\"#d8576b\"],[0.6666666666666666,\"#ed7953\"],[0.7777777777777778,\"#fb9f3a\"],[0.8888888888888888,\"#fdca26\"],[1.0,\"#f0f921\"]]}],\"heatmapgl\":[{\"type\":\"heatmapgl\",\"colorbar\":{\"outlinewidth\":0,\"ticks\":\"\"},\"colorscale\":[[0.0,\"#0d0887\"],[0.1111111111111111,\"#46039f\"],[0.2222222222222222,\"#7201a8\"],[0.3333333333333333,\"#9c179e\"],[0.4444444444444444,\"#bd3786\"],[0.5555555555555556,\"#d8576b\"],[0.6666666666666666,\"#ed7953\"],[0.7777777777777778,\"#fb9f3a\"],[0.8888888888888888,\"#fdca26\"],[1.0,\"#f0f921\"]]}],\"contourcarpet\":[{\"type\":\"contourcarpet\",\"colorbar\":{\"outlinewidth\":0,\"ticks\":\"\"}}],\"contour\":[{\"type\":\"contour\",\"colorbar\":{\"outlinewidth\":0,\"ticks\":\"\"},\"colorscale\":[[0.0,\"#0d0887\"],[0.1111111111111111,\"#46039f\"],[0.2222222222222222,\"#7201a8\"],[0.3333333333333333,\"#9c179e\"],[0.4444444444444444,\"#bd3786\"],[0.5555555555555556,\"#d8576b\"],[0.6666666666666666,\"#ed7953\"],[0.7777777777777778,\"#fb9f3a\"],[0.8888888888888888,\"#fdca26\"],[1.0,\"#f0f921\"]]}],\"surface\":[{\"type\":\"surface\",\"colorbar\":{\"outlinewidth\":0,\"ticks\":\"\"},\"colorscale\":[[0.0,\"#0d0887\"],[0.1111111111111111,\"#46039f\"],[0.2222222222222222,\"#7201a8\"],[0.3333333333333333,\"#9c179e\"],[0.4444444444444444,\"#bd3786\"],[0.5555555555555556,\"#d8576b\"],[0.6666666666666666,\"#ed7953\"],[0.7777777777777778,\"#fb9f3a\"],[0.8888888888888888,\"#fdca26\"],[1.0,\"#f0f921\"]]}],\"mesh3d\":[{\"type\":\"mesh3d\",\"colorbar\":{\"outlinewidth\":0,\"ticks\":\"\"}}],\"scatter\":[{\"fillpattern\":{\"fillmode\":\"overlay\",\"size\":10,\"solidity\":0.2},\"type\":\"scatter\"}],\"parcoords\":[{\"type\":\"parcoords\",\"line\":{\"colorbar\":{\"outlinewidth\":0,\"ticks\":\"\"}}}],\"scatterpolargl\":[{\"type\":\"scatterpolargl\",\"marker\":{\"colorbar\":{\"outlinewidth\":0,\"ticks\":\"\"}}}],\"bar\":[{\"error_x\":{\"color\":\"#2a3f5f\"},\"error_y\":{\"color\":\"#2a3f5f\"},\"marker\":{\"line\":{\"color\":\"#E5ECF6\",\"width\":0.5},\"pattern\":{\"fillmode\":\"overlay\",\"size\":10,\"solidity\":0.2}},\"type\":\"bar\"}],\"scattergeo\":[{\"type\":\"scattergeo\",\"marker\":{\"colorbar\":{\"outlinewidth\":0,\"ticks\":\"\"}}}],\"scatterpolar\":[{\"type\":\"scatterpolar\",\"marker\":{\"colorbar\":{\"outlinewidth\":0,\"ticks\":\"\"}}}],\"histogram\":[{\"marker\":{\"pattern\":{\"fillmode\":\"overlay\",\"size\":10,\"solidity\":0.2}},\"type\":\"histogram\"}],\"scattergl\":[{\"type\":\"scattergl\",\"marker\":{\"colorbar\":{\"outlinewidth\":0,\"ticks\":\"\"}}}],\"scatter3d\":[{\"type\":\"scatter3d\",\"line\":{\"colorbar\":{\"outlinewidth\":0,\"ticks\":\"\"}},\"marker\":{\"colorbar\":{\"outlinewidth\":0,\"ticks\":\"\"}}}],\"scattermapbox\":[{\"type\":\"scattermapbox\",\"marker\":{\"colorbar\":{\"outlinewidth\":0,\"ticks\":\"\"}}}],\"scatterternary\":[{\"type\":\"scatterternary\",\"marker\":{\"colorbar\":{\"outlinewidth\":0,\"ticks\":\"\"}}}],\"scattercarpet\":[{\"type\":\"scattercarpet\",\"marker\":{\"colorbar\":{\"outlinewidth\":0,\"ticks\":\"\"}}}],\"carpet\":[{\"aaxis\":{\"endlinecolor\":\"#2a3f5f\",\"gridcolor\":\"white\",\"linecolor\":\"white\",\"minorgridcolor\":\"white\",\"startlinecolor\":\"#2a3f5f\"},\"baxis\":{\"endlinecolor\":\"#2a3f5f\",\"gridcolor\":\"white\",\"linecolor\":\"white\",\"minorgridcolor\":\"white\",\"startlinecolor\":\"#2a3f5f\"},\"type\":\"carpet\"}],\"table\":[{\"cells\":{\"fill\":{\"color\":\"#EBF0F8\"},\"line\":{\"color\":\"white\"}},\"header\":{\"fill\":{\"color\":\"#C8D4E3\"},\"line\":{\"color\":\"white\"}},\"type\":\"table\"}],\"barpolar\":[{\"marker\":{\"line\":{\"color\":\"#E5ECF6\",\"width\":0.5},\"pattern\":{\"fillmode\":\"overlay\",\"size\":10,\"solidity\":0.2}},\"type\":\"barpolar\"}],\"pie\":[{\"automargin\":true,\"type\":\"pie\"}]},\"layout\":{\"autotypenumbers\":\"strict\",\"colorway\":[\"#636efa\",\"#EF553B\",\"#00cc96\",\"#ab63fa\",\"#FFA15A\",\"#19d3f3\",\"#FF6692\",\"#B6E880\",\"#FF97FF\",\"#FECB52\"],\"font\":{\"color\":\"#2a3f5f\"},\"hovermode\":\"closest\",\"hoverlabel\":{\"align\":\"left\"},\"paper_bgcolor\":\"white\",\"plot_bgcolor\":\"#E5ECF6\",\"polar\":{\"bgcolor\":\"#E5ECF6\",\"angularaxis\":{\"gridcolor\":\"white\",\"linecolor\":\"white\",\"ticks\":\"\"},\"radialaxis\":{\"gridcolor\":\"white\",\"linecolor\":\"white\",\"ticks\":\"\"}},\"ternary\":{\"bgcolor\":\"#E5ECF6\",\"aaxis\":{\"gridcolor\":\"white\",\"linecolor\":\"white\",\"ticks\":\"\"},\"baxis\":{\"gridcolor\":\"white\",\"linecolor\":\"white\",\"ticks\":\"\"},\"caxis\":{\"gridcolor\":\"white\",\"linecolor\":\"white\",\"ticks\":\"\"}},\"coloraxis\":{\"colorbar\":{\"outlinewidth\":0,\"ticks\":\"\"}},\"colorscale\":{\"sequential\":[[0.0,\"#0d0887\"],[0.1111111111111111,\"#46039f\"],[0.2222222222222222,\"#7201a8\"],[0.3333333333333333,\"#9c179e\"],[0.4444444444444444,\"#bd3786\"],[0.5555555555555556,\"#d8576b\"],[0.6666666666666666,\"#ed7953\"],[0.7777777777777778,\"#fb9f3a\"],[0.8888888888888888,\"#fdca26\"],[1.0,\"#f0f921\"]],\"sequentialminus\":[[0.0,\"#0d0887\"],[0.1111111111111111,\"#46039f\"],[0.2222222222222222,\"#7201a8\"],[0.3333333333333333,\"#9c179e\"],[0.4444444444444444,\"#bd3786\"],[0.5555555555555556,\"#d8576b\"],[0.6666666666666666,\"#ed7953\"],[0.7777777777777778,\"#fb9f3a\"],[0.8888888888888888,\"#fdca26\"],[1.0,\"#f0f921\"]],\"diverging\":[[0,\"#8e0152\"],[0.1,\"#c51b7d\"],[0.2,\"#de77ae\"],[0.3,\"#f1b6da\"],[0.4,\"#fde0ef\"],[0.5,\"#f7f7f7\"],[0.6,\"#e6f5d0\"],[0.7,\"#b8e186\"],[0.8,\"#7fbc41\"],[0.9,\"#4d9221\"],[1,\"#276419\"]]},\"xaxis\":{\"gridcolor\":\"white\",\"linecolor\":\"white\",\"ticks\":\"\",\"title\":{\"standoff\":15},\"zerolinecolor\":\"white\",\"automargin\":true,\"zerolinewidth\":2},\"yaxis\":{\"gridcolor\":\"white\",\"linecolor\":\"white\",\"ticks\":\"\",\"title\":{\"standoff\":15},\"zerolinecolor\":\"white\",\"automargin\":true,\"zerolinewidth\":2},\"scene\":{\"xaxis\":{\"backgroundcolor\":\"#E5ECF6\",\"gridcolor\":\"white\",\"linecolor\":\"white\",\"showbackground\":true,\"ticks\":\"\",\"zerolinecolor\":\"white\",\"gridwidth\":2},\"yaxis\":{\"backgroundcolor\":\"#E5ECF6\",\"gridcolor\":\"white\",\"linecolor\":\"white\",\"showbackground\":true,\"ticks\":\"\",\"zerolinecolor\":\"white\",\"gridwidth\":2},\"zaxis\":{\"backgroundcolor\":\"#E5ECF6\",\"gridcolor\":\"white\",\"linecolor\":\"white\",\"showbackground\":true,\"ticks\":\"\",\"zerolinecolor\":\"white\",\"gridwidth\":2}},\"shapedefaults\":{\"line\":{\"color\":\"#2a3f5f\"}},\"annotationdefaults\":{\"arrowcolor\":\"#2a3f5f\",\"arrowhead\":0,\"arrowwidth\":1},\"geo\":{\"bgcolor\":\"white\",\"landcolor\":\"#E5ECF6\",\"subunitcolor\":\"white\",\"showland\":true,\"showlakes\":true,\"lakecolor\":\"white\"},\"title\":{\"x\":0.05},\"mapbox\":{\"style\":\"light\"}}},\"xaxis\":{\"anchor\":\"y\",\"domain\":[0.0,1.0],\"title\":{\"text\":\"N Steps\"}},\"yaxis\":{\"anchor\":\"x\",\"domain\":[0.0,1.0],\"title\":{\"text\":\"Difference between Original/Explored Action\"}},\"legend\":{\"title\":{\"text\":\"variable\"},\"tracegroupgap\":0},\"title\":{\"text\":\"Explored Actions vs Original Actions\"}},                        {\"responsive\": true}                    ).then(function(){\n",
       "                            \n",
       "var gd = document.getElementById('80c59ea0-c4ec-4847-a849-567a834e56fb');\n",
       "var x = new MutationObserver(function (mutations, observer) {{\n",
       "        var display = window.getComputedStyle(gd).display;\n",
       "        if (!display || display === 'none') {{\n",
       "            console.log([gd, 'removed!']);\n",
       "            Plotly.purge(gd);\n",
       "            observer.disconnect();\n",
       "        }}\n",
       "}});\n",
       "\n",
       "// Listen for the removal of the full notebook cells\n",
       "var notebookContainer = gd.closest('#notebook-container');\n",
       "if (notebookContainer) {{\n",
       "    x.observe(notebookContainer, {childList: true});\n",
       "}}\n",
       "\n",
       "// Listen for the clearing of the current output cell\n",
       "var outputEl = gd.closest('.output');\n",
       "if (outputEl) {{\n",
       "    x.observe(outputEl, {childList: true});\n",
       "}}\n",
       "\n",
       "                        })                };                });            </script>        </div>"
      ]
     },
     "metadata": {},
     "output_type": "display_data"
    }
   ],
   "source": [
    "torch.manual_seed(0)\n",
    "\n",
    "actions = dp.iter.IterableWrapper(\n",
    "    # Batch of 4 actions with dimensions 2\n",
    "    torch.randn(4,2)\n",
    ")\n",
    "\n",
    "actions = OrnsteinUhlenbeck(\n",
    "    actions,\n",
    "    min_epsilon=0,\n",
    "    max_steps=200,\n",
    "    action_sz=2,\n",
    "    decrement_on_val=True,\n",
    "    explore_on_val=True,\n",
    "    ret_original=True\n",
    ")\n",
    "actions = actions.cycle(count=50)\n",
    "actions = ExplorationComparisonLogger(actions)\n",
    "list(actions)\n",
    "actions.show()"
   ]
  },
  {
   "cell_type": "markdown",
   "id": "b4256df9",
   "metadata": {},
   "source": [
    "## Agent"
   ]
  },
  {
   "cell_type": "code",
   "execution_count": null,
   "id": "6a68ca9f",
   "metadata": {},
   "outputs": [],
   "source": [
    "#|export\n",
    "class ActionUnbatcher(dp.iter.IterDataPipe):\n",
    "    def __init__(self,source_datapipe):\n",
    "        self.source_datapipe = source_datapipe\n",
    "\n",
    "    def __iter__(self):\n",
    "        for action in self.source_datapipe:\n",
    "            if len(action.shape)==2: yield action.squeeze(0)\n",
    "            else:                    yield action"
   ]
  },
  {
   "cell_type": "code",
   "execution_count": null,
   "id": "327ae25e",
   "metadata": {},
   "outputs": [],
   "source": [
    "#|export\n",
    "def DDPGAgent(\n",
    "    model:Actor, # The actor to use for mapping states to actions\n",
    "    # LoggerBases push logs to. If None, logs will be collected and output\n",
    "    # by the dataloader.\n",
    "    logger_bases:Optional[LoggerBase]=None, \n",
    "    min_epsilon:float=0.2, # The minimum epsilon to drop to\n",
    "    # The max/starting epsilon if `epsilon` is None and used for calculating epislon decrease speed.\n",
    "    max_epsilon:float=1, \n",
    "    # Determines how fast the episilon should drop to `min_epsilon`. This should be the number\n",
    "    # of steps that the agent was run through.\n",
    "    max_steps:int=100,\n",
    "    # Any augmentations to the DDPG agent.\n",
    "    dp_augmentation_fns:Optional[List[DataPipeAugmentationFn]]=None\n",
    ")->AgentHead:\n",
    "    agent_base = AgentBase(model,logger_bases=ifnone(logger_bases,[CacheLoggerBase()]))\n",
    "    agent = StepFieldSelector(agent_base,field='state')\n",
    "    agent = InputInjester(agent)\n",
    "    agent = SimpleModelRunner(agent)\n",
    "    agent = OrnsteinUhlenbeck(\n",
    "        agent,\n",
    "        action_sz=model.action_sz,\n",
    "        min_epsilon=min_epsilon,max_epsilon=max_epsilon,max_steps=max_steps\n",
    "    )\n",
    "    \n",
    "    agent = NumpyConverter(agent)\n",
    "    agent = ActionUnbatcher(agent)\n",
    "    agent = AgentHead(agent)\n",
    "    \n",
    "    agent = apply_dp_augmentation_fns(agent,dp_augmentation_fns)\n",
    "\n",
    "    return agent\n",
    "\n"
   ]
  },
  {
   "cell_type": "markdown",
   "id": "26226100",
   "metadata": {},
   "source": [
    "Check that given a `step`, we can get actions from the `DDPGAgent`..."
   ]
  },
  {
   "cell_type": "code",
   "execution_count": null,
   "id": "55777fb8",
   "metadata": {},
   "outputs": [
    {
     "name": "stdout",
     "output_type": "stream",
     "text": [
      "[ 0.77837396 -0.11519533]\n",
      "[ 0.4515079  -0.11048907]\n",
      "[ 0.40100798 -0.08514518]\n",
      "[ 0.18760318 -0.15851909]\n",
      "[-0.07062025  0.09121162]\n",
      "[-0.10439175  0.08990866]\n",
      "[-0.19303241  0.034298  ]\n",
      "[-0.06407389 -0.00715178]\n",
      "[-0.24715258 -0.15897244]\n",
      "[-0.07872333 -0.53513074]\n"
     ]
    }
   ],
   "source": [
    "torch.manual_seed(0)\n",
    "\n",
    "actor = Actor(4,2)\n",
    "\n",
    "agent = DDPGAgent(actor)\n",
    "\n",
    "input_tensor = tensor([1,2,3,4]).float()\n",
    "step = SimpleStep(state=input_tensor)\n",
    "\n",
    "for _ in range(10):\n",
    "    for action in agent([step]):\n",
    "        print(action)"
   ]
  },
  {
   "cell_type": "code",
   "execution_count": null,
   "id": "cff674fe",
   "metadata": {},
   "outputs": [],
   "source": [
    "from fastrl.envs.gym import GymTransformBlock\n",
    "from fastrl.loggers.vscode_visualizers import VSCodeTransformBlock"
   ]
  },
  {
   "cell_type": "code",
   "execution_count": null,
   "id": "2b4bac74",
   "metadata": {},
   "outputs": [
    {
     "name": "stdout",
     "output_type": "stream",
     "text": [
      "Creating gif from 100 frames\n"
     ]
    },
    {
     "data": {
      "image/png": "[encoded data removed]",
      "text/plain": [
       "<IPython.core.display.Image object>"
      ]
     },
     "execution_count": null,
     "metadata": {},
     "output_type": "execute_result"
    }
   ],
   "source": [
    "torch.manual_seed(0)\n",
    "\n",
    "actor = Actor(3,1)\n",
    "\n",
    "# Setup the Agent\n",
    "agent = DDPGAgent(actor,max_steps=10000)\n",
    "\n",
    "pipe = GymTransformBlock(agent=agent,n=100,seed=None,include_images=True)(['Pendulum-v1'])\n",
    "pipe = VSCodeTransformBlock()(pipe)\n",
    "\n",
    "L(pipe);\n",
    "pipe.show(step=2)"
   ]
  },
  {
   "cell_type": "markdown",
   "id": "c1546842",
   "metadata": {},
   "source": [
    "## Learner"
   ]
  },
  {
   "cell_type": "code",
   "execution_count": null,
   "id": "cf5731f6",
   "metadata": {},
   "outputs": [],
   "source": [
    "#|export\n",
    "class BasicOptStepper(dp.iter.IterDataPipe):\n",
    "    def __init__(self,\n",
    "        # The parent datapipe that should produce a dict of format `{'loss':tensor(...)}`\n",
    "        # all other types will be passed through.\n",
    "        source_datapipe:DataPipe, \n",
    "        # The model to attach\n",
    "        model:nn.Module,\n",
    "        # The learning rate\n",
    "        lr:float,\n",
    "        # The optimizer to use\n",
    "        opt:torch.optim.Optimizer=AdamW,\n",
    "        # If an input is loss, catch it and prevent it from proceeding to the\n",
    "        # rest of the pipeline.\n",
    "        filter:bool=False,\n",
    "        # kwargs to be passed to the `opt`\n",
    "        **opt_kwargs\n",
    "    ):\n",
    "        self.source_datapipe = source_datapipe\n",
    "        self.lr = lr\n",
    "        self.model = model\n",
    "        self.opt = opt\n",
    "        self.opt_kwargs = opt_kwargs\n",
    "        self.filter = filter\n",
    "        self._opt = self.opt(self.model.parameters(),lr=self.lr,**self.opt_kwargs)\n",
    "\n",
    "    def __iter__(self):\n",
    "        for x in self.source_datapipe:\n",
    "            if isinstance(x,dict) and 'loss' in x:\n",
    "                x['loss'].backward()\n",
    "                self._opt.step()\n",
    "                self._opt.zero_grad()\n",
    "                if self.filter: continue \n",
    "            yield x"
   ]
  },
  {
   "cell_type": "code",
   "execution_count": null,
   "id": "e941f8e4",
   "metadata": {},
   "outputs": [],
   "source": [
    "#|export\n",
    "class LossCollector(LogCollector):\n",
    "    def __init__(self,\n",
    "            source_datapipe:DataPipe, # The parent datapipe, likely the one to collect metrics from\n",
    "            header:str='loss', # Name of the record. Change if using multiple instances.\n",
    "            # If an input is loss, catch it and prevent it from proceeding to the\n",
    "            # rest of the pipeline.\n",
    "            filter:bool=False,\n",
    "            # By default, LossCollector will search the pipeline for logger bases\n",
    "            # and attach them here. However we can directly attach them here if\n",
    "            # we need. This must be a list of lists/queues.\n",
    "            main_buffers:Optional[List[List]]=None \n",
    "        ):\n",
    "        self.source_datapipe = source_datapipe\n",
    "        self.main_buffers = main_buffers\n",
    "        self.header = header\n",
    "        self.filter = filter\n",
    "        \n",
    "    def __iter__(self):\n",
    "        for x in self.source_datapipe:\n",
    "            if isinstance(x,dict) and 'loss' in x:\n",
    "                for q in self.main_buffers: \n",
    "                    q.append(Record(self.header,x['loss'].cpu().detach().numpy()))\n",
    "                if self.filter: continue\n",
    "            yield x\n",
    "\n",
    "    def show(self,title='Loss over N-Steps'):\n",
    "        import plotly.express as px\n",
    "        import plotly.io as pio\n",
    "        pio.renderers.default = \"plotly_mimetype+notebook_connected\"\n",
    "\n",
    "        losses = {i:[o.value for o in ls] for i,ls in enumerate(self.main_buffers)}\n",
    "\n",
    "        fig = px.line(\n",
    "            pd.DataFrame(losses),\n",
    "            title=title,\n",
    "            labels={\n",
    "                \"index\": \"N Steps\",\n",
    "                \"value\": \"Loss\"\n",
    "            },\n",
    "        )\n",
    "        return fig.show()\n",
    "\n",
    "add_docs(\n",
    "LossCollector,\n",
    "\"\"\"Itercepts dictionary results generated from `source_datapipe` that are in the \n",
    "format: `{'loss':tensor(...)}`. All other elements will be ignored and passed through.\n",
    "\n",
    "If `filter=true`, then intercepted dictionaries will filtered out by this pipe, and will\n",
    "not be propagated to the rest of the pipeline. \n",
    "\"\"\",\n",
    "show=\"\"\"Shows the loss over n-steps/n-batchs depending on how the loss values are loaded \n",
    "into the `main_buffers`. If there is no `LoggerBase`s, then \n",
    "`LossCollector(...,main_buffers=[[]],...)` must be passed so that \n",
    "losses can be cached for showing.\"\"\"\n",
    ")"
   ]
  },
  {
   "cell_type": "code",
   "execution_count": null,
   "id": "df8d7c47",
   "metadata": {},
   "outputs": [],
   "source": [
    "#|export\n",
    "class SoftTargetUpdater(dp.iter.IterDataPipe):\n",
    "    def __init__(\n",
    "            self,\n",
    "            source_datapipe,\n",
    "            model,\n",
    "            target_sync:int=1,\n",
    "            tau:int=0.001\n",
    "        ):\n",
    "        self.source_datapipe = source_datapipe\n",
    "        self.model = model\n",
    "        self.target_model = deepcopy(model)\n",
    "        self.target_sync = target_sync\n",
    "        self.tau = tau\n",
    "        self.n_batch = 0\n",
    "        \n",
    "    def __iter__(self):\n",
    "        for batch in self.source_datapipe:\n",
    "            if self.n_batch%self.target_sync==0:\n",
    "                for tp, fp in zip(self.target_model.parameters(), self.model.parameters()):\n",
    "                    tp.data.copy_(self.tau * fp.data + (1.0 - self.tau) * tp.data)\n",
    "\n",
    "            self.n_batch+=1\n",
    "            yield batch\n"
   ]
  },
  {
   "cell_type": "code",
   "execution_count": null,
   "id": "01aff1c1",
   "metadata": {},
   "outputs": [],
   "source": [
    "#|export\n",
    "def get_target_model(\n",
    "        model,\n",
    "        pipe,\n",
    "        model_cls,\n",
    "        target_updater_cls=(SoftTargetUpdater,),\n",
    "        debug:bool=False\n",
    "    ):\n",
    "        if model is not None: return model\n",
    "        target_updaters = []\n",
    "        for target_updater in target_updater_cls:\n",
    "            target_updaters.extend(find_dps(traverse(pipe),target_updater))\n",
    "        if debug: print(target_updaters)\n",
    "        target_updaters = [o for o in target_updaters if isinstance(o.target_model,model_cls)]\n",
    "        if debug: print(f'After filtering on {model_cls}: {target_updaters}')\n",
    "        if len(target_updaters)==0: raise RuntimeError('target_updaters is empty')\n",
    "        elif len(target_updaters)>1: \n",
    "            warn(f'Found multiple target updaters with {model_cls}, {target_updaters}')\n",
    "        return target_updaters[0].target_model"
   ]
  },
  {
   "cell_type": "code",
   "execution_count": null,
   "id": "9185117e",
   "metadata": {},
   "outputs": [],
   "source": [
    "#|export\n",
    "class CriticLossProcessor(dp.iter.IterDataPipe):\n",
    "    debug:bool=False\n",
    "\n",
    "    def __init__(self,\n",
    "            source_datapipe:DataPipe, # The parent datapipe that should yield step types\n",
    "            critic:Critic,\n",
    "            t_actor:Optional[Actor]=None,\n",
    "            t_critic:Optional[Critic]=None,\n",
    "            loss:nn.Module=nn.MSELoss,\n",
    "            discount:float=0.99,\n",
    "            nsteps:int=1\n",
    "        ):\n",
    "        self.source_datapipe = source_datapipe\n",
    "        self.critic = critic\n",
    "        self.t_critic = get_target_model(t_critic,source_datapipe,Critic,debug=self.debug)\n",
    "        self.t_actor = get_target_model(t_actor,source_datapipe,Actor,debug=self.debug)\n",
    "        self.loss = loss()\n",
    "        self.t_actor = t_actor\n",
    "        self.discount = discount\n",
    "        self.nsteps = nsteps\n",
    "\n",
    "    def __iter__(self) -> Union[Dict,SimpleStep]:\n",
    "        for batch in self.source_datapipe:\n",
    "            done_mask = batch.terminated.reshape(-1,)\n",
    "            with torch.no_grad():\n",
    "                t_actions = self.t_actor(batch.next_state)\n",
    "                q = self.t_critic(torch.hstack((batch.next_state,t_actions)))\n",
    "                q[done_mask] = 0\n",
    "            targets = batch.reward+q*(self.discount**self.nsteps)\n",
    "            pred = self.critic(torch.hstack((batch.state,batch.action)))\n",
    "            yield {'loss':self.loss(pred,targets)}\n",
    "            yield batch"
   ]
  },
  {
   "cell_type": "code",
   "execution_count": null,
   "id": "64c466dd",
   "metadata": {},
   "outputs": [],
   "source": [
    "from fastrl.pipes.iter.nstep import NStepFlattener"
   ]
  },
  {
   "cell_type": "code",
   "execution_count": null,
   "id": "6b765a1d",
   "metadata": {},
   "outputs": [
    {
     "data": {
      "text/html": [
       "        <script type=\"text/javascript\">\n",
       "        window.PlotlyConfig = {MathJaxConfig: 'local'};\n",
       "        if (window.MathJax && window.MathJax.Hub && window.MathJax.Hub.Config) {window.MathJax.Hub.Config({SVG: {font: \"STIX-Web\"}});}\n",
       "        if (typeof require !== 'undefined') {\n",
       "        require.undef(\"plotly\");\n",
       "        requirejs.config({\n",
       "            paths: {\n",
       "                'plotly': ['https://cdn.plot.ly/plotly-2.14.0.min']\n",
       "            }\n",
       "        });\n",
       "        require(['plotly'], function(Plotly) {\n",
       "            window._Plotly = Plotly;\n",
       "        });\n",
       "        }\n",
       "        </script>\n",
       "        "
      ]
     },
     "metadata": {},
     "output_type": "display_data"
    },
    {
     "data": {
      "application/vnd.plotly.v1+json": {
       "config": {
        "plotlyServerURL": "https://plot.ly"
       },
       "data": [
        {
         "hovertemplate": "variable=0<br>N Steps=%{x}<br>Loss=%{y}<extra></extra>",
         "legendgroup": "0",
         "line": {
          "color": "#636efa",
          "dash": "solid"
         },
         "marker": {
          "symbol": "circle"
         },
         "mode": "lines",
         "name": "0",
         "orientation": "v",
         "showlegend": true,
         "type": "scatter",
         "x": [
          0,
          1,
          2,
          3,
          4,
          5,
          6,
          7,
          8,
          9,
          10,
          11,
          12,
          13,
          14,
          15,
          16,
          17,
          18,
          19,
          20,
          21,
          22,
          23,
          24,
          25,
          26,
          27,
          28,
          29,
          30,
          31,
          32,
          33,
          34,
          35,
          36,
          37,
          38,
          39,
          40,
          41,
          42,
          43,
          44,
          45,
          46,
          47,
          48,
          49,
          50,
          51,
          52,
          53,
          54,
          55,
          56,
          57,
          58,
          59,
          60,
          61,
          62,
          63,
          64,
          65,
          66,
          67,
          68,
          69,
          70,
          71,
          72,
          73,
          74,
          75,
          76,
          77,
          78,
          79,
          80,
          81,
          82,
          83,
          84,
          85,
          86,
          87,
          88,
          89,
          90,
          91,
          92,
          93,
          94,
          95,
          96,
          97,
          98,
          99
         ],
         "xaxis": "x",
         "y": [
          19.93290138244629,
          35.659461975097656,
          1.0020983219146729,
          1.813622236251831,
          16.553970336914062,
          26.286108016967773,
          23.24689483642578,
          4.817938327789307,
          4.187649726867676,
          2.697183132171631,
          4.824551105499268,
          2.4606690406799316,
          0.11642184108495712,
          12.532793045043945,
          0.9647909998893738,
          0.16725818812847137,
          2.356750965118408,
          23.076061248779297,
          0.18994435667991638,
          10.769676208496094,
          2.7047743797302246,
          0.09772752225399017,
          4.130190849304199,
          10.021452903747559,
          1.008370041847229,
          5.040321350097656,
          5.162604808807373,
          0.9310110211372375,
          9.163957595825195,
          1.8766849040985107,
          5.251406669616699,
          2.088653564453125,
          2.1358656883239746,
          1.5642917156219482,
          0.515971839427948,
          1.9754762649536133,
          1.6641420125961304,
          0.504561722278595,
          5.077347755432129,
          1.2797605991363525,
          3.2889416217803955,
          2.63663911819458,
          0.46034717559814453,
          3.3131065368652344,
          0.29108428955078125,
          0.1774873286485672,
          2.8995070457458496,
          0.9522688984870911,
          1.6926708221435547,
          2.297858238220215,
          1.0466797351837158,
          2.654029369354248,
          11.290846824645996,
          1.0889668464660645,
          0.8833559155464172,
          1.4863078594207764,
          3.0415143966674805,
          0.2933264374732971,
          0.22061245143413544,
          1.8372952938079834,
          4.690234184265137,
          0.39157789945602417,
          0.23854658007621765,
          2.0822246074676514,
          0.44718146324157715,
          4.381508827209473,
          0.05012315511703491,
          0.1671571582555771,
          3.4198107719421387,
          0.033242907375097275,
          0.629463791847229,
          1.1796848773956299,
          0.1692626029253006,
          1.2222075462341309,
          2.413052797317505,
          0.9022425413131714,
          1.660167932510376,
          0.11566053330898285,
          2.58451509475708,
          0.07130453735589981,
          0.3387010097503662,
          2.048553943634033,
          0.10475480556488037,
          0.35847991704940796,
          0.9679625630378723,
          0.6263578534126282,
          0.9353355169296265,
          3.9370293617248535,
          0.36181217432022095,
          1.0649266242980957,
          0.9408628344535828,
          2.705599784851074,
          0.6453569531440735,
          0.47222480177879333,
          1.3630845546722412,
          1.4115221500396729,
          0.7719132900238037,
          0.8568291664123535,
          0.9183605909347534,
          0.70905601978302
         ],
         "yaxis": "y"
        }
       ],
       "layout": {
        "legend": {
         "title": {
          "text": "variable"
         },
         "tracegroupgap": 0
        },
        "template": {
         "data": {
          "bar": [
           {
            "error_x": {
             "color": "#2a3f5f"
            },
            "error_y": {
             "color": "#2a3f5f"
            },
            "marker": {
             "line": {
              "color": "#E5ECF6",
              "width": 0.5
             },
             "pattern": {
              "fillmode": "overlay",
              "size": 10,
              "solidity": 0.2
             }
            },
            "type": "bar"
           }
          ],
          "barpolar": [
           {
            "marker": {
             "line": {
              "color": "#E5ECF6",
              "width": 0.5
             },
             "pattern": {
              "fillmode": "overlay",
              "size": 10,
              "solidity": 0.2
             }
            },
            "type": "barpolar"
           }
          ],
          "carpet": [
           {
            "aaxis": {
             "endlinecolor": "#2a3f5f",
             "gridcolor": "white",
             "linecolor": "white",
             "minorgridcolor": "white",
             "startlinecolor": "#2a3f5f"
            },
            "baxis": {
             "endlinecolor": "#2a3f5f",
             "gridcolor": "white",
             "linecolor": "white",
             "minorgridcolor": "white",
             "startlinecolor": "#2a3f5f"
            },
            "type": "carpet"
           }
          ],
          "choropleth": [
           {
            "colorbar": {
             "outlinewidth": 0,
             "ticks": ""
            },
            "type": "choropleth"
           }
          ],
          "contour": [
           {
            "colorbar": {
             "outlinewidth": 0,
             "ticks": ""
            },
            "colorscale": [
             [
              0,
              "#0d0887"
             ],
             [
              0.1111111111111111,
              "#46039f"
             ],
             [
              0.2222222222222222,
              "#7201a8"
             ],
             [
              0.3333333333333333,
              "#9c179e"
             ],
             [
              0.4444444444444444,
              "#bd3786"
             ],
             [
              0.5555555555555556,
              "#d8576b"
             ],
             [
              0.6666666666666666,
              "#ed7953"
             ],
             [
              0.7777777777777778,
              "#fb9f3a"
             ],
             [
              0.8888888888888888,
              "#fdca26"
             ],
             [
              1,
              "#f0f921"
             ]
            ],
            "type": "contour"
           }
          ],
          "contourcarpet": [
           {
            "colorbar": {
             "outlinewidth": 0,
             "ticks": ""
            },
            "type": "contourcarpet"
           }
          ],
          "heatmap": [
           {
            "colorbar": {
             "outlinewidth": 0,
             "ticks": ""
            },
            "colorscale": [
             [
              0,
              "#0d0887"
             ],
             [
              0.1111111111111111,
              "#46039f"
             ],
             [
              0.2222222222222222,
              "#7201a8"
             ],
             [
              0.3333333333333333,
              "#9c179e"
             ],
             [
              0.4444444444444444,
              "#bd3786"
             ],
             [
              0.5555555555555556,
              "#d8576b"
             ],
             [
              0.6666666666666666,
              "#ed7953"
             ],
             [
              0.7777777777777778,
              "#fb9f3a"
             ],
             [
              0.8888888888888888,
              "#fdca26"
             ],
             [
              1,
              "#f0f921"
             ]
            ],
            "type": "heatmap"
           }
          ],
          "heatmapgl": [
           {
            "colorbar": {
             "outlinewidth": 0,
             "ticks": ""
            },
            "colorscale": [
             [
              0,
              "#0d0887"
             ],
             [
              0.1111111111111111,
              "#46039f"
             ],
             [
              0.2222222222222222,
              "#7201a8"
             ],
             [
              0.3333333333333333,
              "#9c179e"
             ],
             [
              0.4444444444444444,
              "#bd3786"
             ],
             [
              0.5555555555555556,
              "#d8576b"
             ],
             [
              0.6666666666666666,
              "#ed7953"
             ],
             [
              0.7777777777777778,
              "#fb9f3a"
             ],
             [
              0.8888888888888888,
              "#fdca26"
             ],
             [
              1,
              "#f0f921"
             ]
            ],
            "type": "heatmapgl"
           }
          ],
          "histogram": [
           {
            "marker": {
             "pattern": {
              "fillmode": "overlay",
              "size": 10,
              "solidity": 0.2
             }
            },
            "type": "histogram"
           }
          ],
          "histogram2d": [
           {
            "colorbar": {
             "outlinewidth": 0,
             "ticks": ""
            },
            "colorscale": [
             [
              0,
              "#0d0887"
             ],
             [
              0.1111111111111111,
              "#46039f"
             ],
             [
              0.2222222222222222,
              "#7201a8"
             ],
             [
              0.3333333333333333,
              "#9c179e"
             ],
             [
              0.4444444444444444,
              "#bd3786"
             ],
             [
              0.5555555555555556,
              "#d8576b"
             ],
             [
              0.6666666666666666,
              "#ed7953"
             ],
             [
              0.7777777777777778,
              "#fb9f3a"
             ],
             [
              0.8888888888888888,
              "#fdca26"
             ],
             [
              1,
              "#f0f921"
             ]
            ],
            "type": "histogram2d"
           }
          ],
          "histogram2dcontour": [
           {
            "colorbar": {
             "outlinewidth": 0,
             "ticks": ""
            },
            "colorscale": [
             [
              0,
              "#0d0887"
             ],
             [
              0.1111111111111111,
              "#46039f"
             ],
             [
              0.2222222222222222,
              "#7201a8"
             ],
             [
              0.3333333333333333,
              "#9c179e"
             ],
             [
              0.4444444444444444,
              "#bd3786"
             ],
             [
              0.5555555555555556,
              "#d8576b"
             ],
             [
              0.6666666666666666,
              "#ed7953"
             ],
             [
              0.7777777777777778,
              "#fb9f3a"
             ],
             [
              0.8888888888888888,
              "#fdca26"
             ],
             [
              1,
              "#f0f921"
             ]
            ],
            "type": "histogram2dcontour"
           }
          ],
          "mesh3d": [
           {
            "colorbar": {
             "outlinewidth": 0,
             "ticks": ""
            },
            "type": "mesh3d"
           }
          ],
          "parcoords": [
           {
            "line": {
             "colorbar": {
              "outlinewidth": 0,
              "ticks": ""
             }
            },
            "type": "parcoords"
           }
          ],
          "pie": [
           {
            "automargin": true,
            "type": "pie"
           }
          ],
          "scatter": [
           {
            "fillpattern": {
             "fillmode": "overlay",
             "size": 10,
             "solidity": 0.2
            },
            "type": "scatter"
           }
          ],
          "scatter3d": [
           {
            "line": {
             "colorbar": {
              "outlinewidth": 0,
              "ticks": ""
             }
            },
            "marker": {
             "colorbar": {
              "outlinewidth": 0,
              "ticks": ""
             }
            },
            "type": "scatter3d"
           }
          ],
          "scattercarpet": [
           {
            "marker": {
             "colorbar": {
              "outlinewidth": 0,
              "ticks": ""
             }
            },
            "type": "scattercarpet"
           }
          ],
          "scattergeo": [
           {
            "marker": {
             "colorbar": {
              "outlinewidth": 0,
              "ticks": ""
             }
            },
            "type": "scattergeo"
           }
          ],
          "scattergl": [
           {
            "marker": {
             "colorbar": {
              "outlinewidth": 0,
              "ticks": ""
             }
            },
            "type": "scattergl"
           }
          ],
          "scattermapbox": [
           {
            "marker": {
             "colorbar": {
              "outlinewidth": 0,
              "ticks": ""
             }
            },
            "type": "scattermapbox"
           }
          ],
          "scatterpolar": [
           {
            "marker": {
             "colorbar": {
              "outlinewidth": 0,
              "ticks": ""
             }
            },
            "type": "scatterpolar"
           }
          ],
          "scatterpolargl": [
           {
            "marker": {
             "colorbar": {
              "outlinewidth": 0,
              "ticks": ""
             }
            },
            "type": "scatterpolargl"
           }
          ],
          "scatterternary": [
           {
            "marker": {
             "colorbar": {
              "outlinewidth": 0,
              "ticks": ""
             }
            },
            "type": "scatterternary"
           }
          ],
          "surface": [
           {
            "colorbar": {
             "outlinewidth": 0,
             "ticks": ""
            },
            "colorscale": [
             [
              0,
              "#0d0887"
             ],
             [
              0.1111111111111111,
              "#46039f"
             ],
             [
              0.2222222222222222,
              "#7201a8"
             ],
             [
              0.3333333333333333,
              "#9c179e"
             ],
             [
              0.4444444444444444,
              "#bd3786"
             ],
             [
              0.5555555555555556,
              "#d8576b"
             ],
             [
              0.6666666666666666,
              "#ed7953"
             ],
             [
              0.7777777777777778,
              "#fb9f3a"
             ],
             [
              0.8888888888888888,
              "#fdca26"
             ],
             [
              1,
              "#f0f921"
             ]
            ],
            "type": "surface"
           }
          ],
          "table": [
           {
            "cells": {
             "fill": {
              "color": "#EBF0F8"
             },
             "line": {
              "color": "white"
             }
            },
            "header": {
             "fill": {
              "color": "#C8D4E3"
             },
             "line": {
              "color": "white"
             }
            },
            "type": "table"
           }
          ]
         },
         "layout": {
          "annotationdefaults": {
           "arrowcolor": "#2a3f5f",
           "arrowhead": 0,
           "arrowwidth": 1
          },
          "autotypenumbers": "strict",
          "coloraxis": {
           "colorbar": {
            "outlinewidth": 0,
            "ticks": ""
           }
          },
          "colorscale": {
           "diverging": [
            [
             0,
             "#8e0152"
            ],
            [
             0.1,
             "#c51b7d"
            ],
            [
             0.2,
             "#de77ae"
            ],
            [
             0.3,
             "#f1b6da"
            ],
            [
             0.4,
             "#fde0ef"
            ],
            [
             0.5,
             "#f7f7f7"
            ],
            [
             0.6,
             "#e6f5d0"
            ],
            [
             0.7,
             "#b8e186"
            ],
            [
             0.8,
             "#7fbc41"
            ],
            [
             0.9,
             "#4d9221"
            ],
            [
             1,
             "#276419"
            ]
           ],
           "sequential": [
            [
             0,
             "#0d0887"
            ],
            [
             0.1111111111111111,
             "#46039f"
            ],
            [
             0.2222222222222222,
             "#7201a8"
            ],
            [
             0.3333333333333333,
             "#9c179e"
            ],
            [
             0.4444444444444444,
             "#bd3786"
            ],
            [
             0.5555555555555556,
             "#d8576b"
            ],
            [
             0.6666666666666666,
             "#ed7953"
            ],
            [
             0.7777777777777778,
             "#fb9f3a"
            ],
            [
             0.8888888888888888,
             "#fdca26"
            ],
            [
             1,
             "#f0f921"
            ]
           ],
           "sequentialminus": [
            [
             0,
             "#0d0887"
            ],
            [
             0.1111111111111111,
             "#46039f"
            ],
            [
             0.2222222222222222,
             "#7201a8"
            ],
            [
             0.3333333333333333,
             "#9c179e"
            ],
            [
             0.4444444444444444,
             "#bd3786"
            ],
            [
             0.5555555555555556,
             "#d8576b"
            ],
            [
             0.6666666666666666,
             "#ed7953"
            ],
            [
             0.7777777777777778,
             "#fb9f3a"
            ],
            [
             0.8888888888888888,
             "#fdca26"
            ],
            [
             1,
             "#f0f921"
            ]
           ]
          },
          "colorway": [
           "#636efa",
           "#EF553B",
           "#00cc96",
           "#ab63fa",
           "#FFA15A",
           "#19d3f3",
           "#FF6692",
           "#B6E880",
           "#FF97FF",
           "#FECB52"
          ],
          "font": {
           "color": "#2a3f5f"
          },
          "geo": {
           "bgcolor": "white",
           "lakecolor": "white",
           "landcolor": "#E5ECF6",
           "showlakes": true,
           "showland": true,
           "subunitcolor": "white"
          },
          "hoverlabel": {
           "align": "left"
          },
          "hovermode": "closest",
          "mapbox": {
           "style": "light"
          },
          "paper_bgcolor": "white",
          "plot_bgcolor": "#E5ECF6",
          "polar": {
           "angularaxis": {
            "gridcolor": "white",
            "linecolor": "white",
            "ticks": ""
           },
           "bgcolor": "#E5ECF6",
           "radialaxis": {
            "gridcolor": "white",
            "linecolor": "white",
            "ticks": ""
           }
          },
          "scene": {
           "xaxis": {
            "backgroundcolor": "#E5ECF6",
            "gridcolor": "white",
            "gridwidth": 2,
            "linecolor": "white",
            "showbackground": true,
            "ticks": "",
            "zerolinecolor": "white"
           },
           "yaxis": {
            "backgroundcolor": "#E5ECF6",
            "gridcolor": "white",
            "gridwidth": 2,
            "linecolor": "white",
            "showbackground": true,
            "ticks": "",
            "zerolinecolor": "white"
           },
           "zaxis": {
            "backgroundcolor": "#E5ECF6",
            "gridcolor": "white",
            "gridwidth": 2,
            "linecolor": "white",
            "showbackground": true,
            "ticks": "",
            "zerolinecolor": "white"
           }
          },
          "shapedefaults": {
           "line": {
            "color": "#2a3f5f"
           }
          },
          "ternary": {
           "aaxis": {
            "gridcolor": "white",
            "linecolor": "white",
            "ticks": ""
           },
           "baxis": {
            "gridcolor": "white",
            "linecolor": "white",
            "ticks": ""
           },
           "bgcolor": "#E5ECF6",
           "caxis": {
            "gridcolor": "white",
            "linecolor": "white",
            "ticks": ""
           }
          },
          "title": {
           "x": 0.05
          },
          "xaxis": {
           "automargin": true,
           "gridcolor": "white",
           "linecolor": "white",
           "ticks": "",
           "title": {
            "standoff": 15
           },
           "zerolinecolor": "white",
           "zerolinewidth": 2
          },
          "yaxis": {
           "automargin": true,
           "gridcolor": "white",
           "linecolor": "white",
           "ticks": "",
           "title": {
            "standoff": 15
           },
           "zerolinecolor": "white",
           "zerolinewidth": 2
          }
         }
        },
        "title": {
         "text": "Loss over N-Steps"
        },
        "xaxis": {
         "anchor": "y",
         "domain": [
          0,
          1
         ],
         "title": {
          "text": "N Steps"
         }
        },
        "yaxis": {
         "anchor": "x",
         "domain": [
          0,
          1
         ],
         "title": {
          "text": "Loss"
         }
        }
       }
      },
      "text/html": [
       "<div>                            <div id=\"c9f76f6a-6e12-49f8-9d2f-85d9050f875f\" class=\"plotly-graph-div\" style=\"height:525px; width:100%;\"></div>            <script type=\"text/javascript\">                require([\"plotly\"], function(Plotly) {                    window.PLOTLYENV=window.PLOTLYENV || {};                                    if (document.getElementById(\"c9f76f6a-6e12-49f8-9d2f-85d9050f875f\")) {                    Plotly.newPlot(                        \"c9f76f6a-6e12-49f8-9d2f-85d9050f875f\",                        [{\"hovertemplate\":\"variable=0<br>N Steps=%{x}<br>Loss=%{y}<extra></extra>\",\"legendgroup\":\"0\",\"line\":{\"color\":\"#636efa\",\"dash\":\"solid\"},\"marker\":{\"symbol\":\"circle\"},\"mode\":\"lines\",\"name\":\"0\",\"orientation\":\"v\",\"showlegend\":true,\"x\":[0,1,2,3,4,5,6,7,8,9,10,11,12,13,14,15,16,17,18,19,20,21,22,23,24,25,26,27,28,29,30,31,32,33,34,35,36,37,38,39,40,41,42,43,44,45,46,47,48,49,50,51,52,53,54,55,56,57,58,59,60,61,62,63,64,65,66,67,68,69,70,71,72,73,74,75,76,77,78,79,80,81,82,83,84,85,86,87,88,89,90,91,92,93,94,95,96,97,98,99],\"xaxis\":\"x\",\"y\":[19.93290138244629,35.659461975097656,1.0020983219146729,1.813622236251831,16.553970336914062,26.286108016967773,23.24689483642578,4.817938327789307,4.187649726867676,2.697183132171631,4.824551105499268,2.4606690406799316,0.11642184108495712,12.532793045043945,0.9647909998893738,0.16725818812847137,2.356750965118408,23.076061248779297,0.18994435667991638,10.769676208496094,2.7047743797302246,0.09772752225399017,4.130190849304199,10.021452903747559,1.008370041847229,5.040321350097656,5.162604808807373,0.9310110211372375,9.163957595825195,1.8766849040985107,5.251406669616699,2.088653564453125,2.1358656883239746,1.5642917156219482,0.515971839427948,1.9754762649536133,1.6641420125961304,0.504561722278595,5.077347755432129,1.2797605991363525,3.2889416217803955,2.63663911819458,0.46034717559814453,3.3131065368652344,0.29108428955078125,0.1774873286485672,2.8995070457458496,0.9522688984870911,1.6926708221435547,2.297858238220215,1.0466797351837158,2.654029369354248,11.290846824645996,1.0889668464660645,0.8833559155464172,1.4863078594207764,3.0415143966674805,0.2933264374732971,0.22061245143413544,1.8372952938079834,4.690234184265137,0.39157789945602417,0.23854658007621765,2.0822246074676514,0.44718146324157715,4.381508827209473,0.05012315511703491,0.1671571582555771,3.4198107719421387,0.033242907375097275,0.629463791847229,1.1796848773956299,0.1692626029253006,1.2222075462341309,2.413052797317505,0.9022425413131714,1.660167932510376,0.11566053330898285,2.58451509475708,0.07130453735589981,0.3387010097503662,2.048553943634033,0.10475480556488037,0.35847991704940796,0.9679625630378723,0.6263578534126282,0.9353355169296265,3.9370293617248535,0.36181217432022095,1.0649266242980957,0.9408628344535828,2.705599784851074,0.6453569531440735,0.47222480177879333,1.3630845546722412,1.4115221500396729,0.7719132900238037,0.8568291664123535,0.9183605909347534,0.70905601978302],\"yaxis\":\"y\",\"type\":\"scatter\"}],                        {\"template\":{\"data\":{\"histogram2dcontour\":[{\"type\":\"histogram2dcontour\",\"colorbar\":{\"outlinewidth\":0,\"ticks\":\"\"},\"colorscale\":[[0.0,\"#0d0887\"],[0.1111111111111111,\"#46039f\"],[0.2222222222222222,\"#7201a8\"],[0.3333333333333333,\"#9c179e\"],[0.4444444444444444,\"#bd3786\"],[0.5555555555555556,\"#d8576b\"],[0.6666666666666666,\"#ed7953\"],[0.7777777777777778,\"#fb9f3a\"],[0.8888888888888888,\"#fdca26\"],[1.0,\"#f0f921\"]]}],\"choropleth\":[{\"type\":\"choropleth\",\"colorbar\":{\"outlinewidth\":0,\"ticks\":\"\"}}],\"histogram2d\":[{\"type\":\"histogram2d\",\"colorbar\":{\"outlinewidth\":0,\"ticks\":\"\"},\"colorscale\":[[0.0,\"#0d0887\"],[0.1111111111111111,\"#46039f\"],[0.2222222222222222,\"#7201a8\"],[0.3333333333333333,\"#9c179e\"],[0.4444444444444444,\"#bd3786\"],[0.5555555555555556,\"#d8576b\"],[0.6666666666666666,\"#ed7953\"],[0.7777777777777778,\"#fb9f3a\"],[0.8888888888888888,\"#fdca26\"],[1.0,\"#f0f921\"]]}],\"heatmap\":[{\"type\":\"heatmap\",\"colorbar\":{\"outlinewidth\":0,\"ticks\":\"\"},\"colorscale\":[[0.0,\"#0d0887\"],[0.1111111111111111,\"#46039f\"],[0.2222222222222222,\"#7201a8\"],[0.3333333333333333,\"#9c179e\"],[0.4444444444444444,\"#bd3786\"],[0.5555555555555556,\"#d8576b\"],[0.6666666666666666,\"#ed7953\"],[0.7777777777777778,\"#fb9f3a\"],[0.8888888888888888,\"#fdca26\"],[1.0,\"#f0f921\"]]}],\"heatmapgl\":[{\"type\":\"heatmapgl\",\"colorbar\":{\"outlinewidth\":0,\"ticks\":\"\"},\"colorscale\":[[0.0,\"#0d0887\"],[0.1111111111111111,\"#46039f\"],[0.2222222222222222,\"#7201a8\"],[0.3333333333333333,\"#9c179e\"],[0.4444444444444444,\"#bd3786\"],[0.5555555555555556,\"#d8576b\"],[0.6666666666666666,\"#ed7953\"],[0.7777777777777778,\"#fb9f3a\"],[0.8888888888888888,\"#fdca26\"],[1.0,\"#f0f921\"]]}],\"contourcarpet\":[{\"type\":\"contourcarpet\",\"colorbar\":{\"outlinewidth\":0,\"ticks\":\"\"}}],\"contour\":[{\"type\":\"contour\",\"colorbar\":{\"outlinewidth\":0,\"ticks\":\"\"},\"colorscale\":[[0.0,\"#0d0887\"],[0.1111111111111111,\"#46039f\"],[0.2222222222222222,\"#7201a8\"],[0.3333333333333333,\"#9c179e\"],[0.4444444444444444,\"#bd3786\"],[0.5555555555555556,\"#d8576b\"],[0.6666666666666666,\"#ed7953\"],[0.7777777777777778,\"#fb9f3a\"],[0.8888888888888888,\"#fdca26\"],[1.0,\"#f0f921\"]]}],\"surface\":[{\"type\":\"surface\",\"colorbar\":{\"outlinewidth\":0,\"ticks\":\"\"},\"colorscale\":[[0.0,\"#0d0887\"],[0.1111111111111111,\"#46039f\"],[0.2222222222222222,\"#7201a8\"],[0.3333333333333333,\"#9c179e\"],[0.4444444444444444,\"#bd3786\"],[0.5555555555555556,\"#d8576b\"],[0.6666666666666666,\"#ed7953\"],[0.7777777777777778,\"#fb9f3a\"],[0.8888888888888888,\"#fdca26\"],[1.0,\"#f0f921\"]]}],\"mesh3d\":[{\"type\":\"mesh3d\",\"colorbar\":{\"outlinewidth\":0,\"ticks\":\"\"}}],\"scatter\":[{\"fillpattern\":{\"fillmode\":\"overlay\",\"size\":10,\"solidity\":0.2},\"type\":\"scatter\"}],\"parcoords\":[{\"type\":\"parcoords\",\"line\":{\"colorbar\":{\"outlinewidth\":0,\"ticks\":\"\"}}}],\"scatterpolargl\":[{\"type\":\"scatterpolargl\",\"marker\":{\"colorbar\":{\"outlinewidth\":0,\"ticks\":\"\"}}}],\"bar\":[{\"error_x\":{\"color\":\"#2a3f5f\"},\"error_y\":{\"color\":\"#2a3f5f\"},\"marker\":{\"line\":{\"color\":\"#E5ECF6\",\"width\":0.5},\"pattern\":{\"fillmode\":\"overlay\",\"size\":10,\"solidity\":0.2}},\"type\":\"bar\"}],\"scattergeo\":[{\"type\":\"scattergeo\",\"marker\":{\"colorbar\":{\"outlinewidth\":0,\"ticks\":\"\"}}}],\"scatterpolar\":[{\"type\":\"scatterpolar\",\"marker\":{\"colorbar\":{\"outlinewidth\":0,\"ticks\":\"\"}}}],\"histogram\":[{\"marker\":{\"pattern\":{\"fillmode\":\"overlay\",\"size\":10,\"solidity\":0.2}},\"type\":\"histogram\"}],\"scattergl\":[{\"type\":\"scattergl\",\"marker\":{\"colorbar\":{\"outlinewidth\":0,\"ticks\":\"\"}}}],\"scatter3d\":[{\"type\":\"scatter3d\",\"line\":{\"colorbar\":{\"outlinewidth\":0,\"ticks\":\"\"}},\"marker\":{\"colorbar\":{\"outlinewidth\":0,\"ticks\":\"\"}}}],\"scattermapbox\":[{\"type\":\"scattermapbox\",\"marker\":{\"colorbar\":{\"outlinewidth\":0,\"ticks\":\"\"}}}],\"scatterternary\":[{\"type\":\"scatterternary\",\"marker\":{\"colorbar\":{\"outlinewidth\":0,\"ticks\":\"\"}}}],\"scattercarpet\":[{\"type\":\"scattercarpet\",\"marker\":{\"colorbar\":{\"outlinewidth\":0,\"ticks\":\"\"}}}],\"carpet\":[{\"aaxis\":{\"endlinecolor\":\"#2a3f5f\",\"gridcolor\":\"white\",\"linecolor\":\"white\",\"minorgridcolor\":\"white\",\"startlinecolor\":\"#2a3f5f\"},\"baxis\":{\"endlinecolor\":\"#2a3f5f\",\"gridcolor\":\"white\",\"linecolor\":\"white\",\"minorgridcolor\":\"white\",\"startlinecolor\":\"#2a3f5f\"},\"type\":\"carpet\"}],\"table\":[{\"cells\":{\"fill\":{\"color\":\"#EBF0F8\"},\"line\":{\"color\":\"white\"}},\"header\":{\"fill\":{\"color\":\"#C8D4E3\"},\"line\":{\"color\":\"white\"}},\"type\":\"table\"}],\"barpolar\":[{\"marker\":{\"line\":{\"color\":\"#E5ECF6\",\"width\":0.5},\"pattern\":{\"fillmode\":\"overlay\",\"size\":10,\"solidity\":0.2}},\"type\":\"barpolar\"}],\"pie\":[{\"automargin\":true,\"type\":\"pie\"}]},\"layout\":{\"autotypenumbers\":\"strict\",\"colorway\":[\"#636efa\",\"#EF553B\",\"#00cc96\",\"#ab63fa\",\"#FFA15A\",\"#19d3f3\",\"#FF6692\",\"#B6E880\",\"#FF97FF\",\"#FECB52\"],\"font\":{\"color\":\"#2a3f5f\"},\"hovermode\":\"closest\",\"hoverlabel\":{\"align\":\"left\"},\"paper_bgcolor\":\"white\",\"plot_bgcolor\":\"#E5ECF6\",\"polar\":{\"bgcolor\":\"#E5ECF6\",\"angularaxis\":{\"gridcolor\":\"white\",\"linecolor\":\"white\",\"ticks\":\"\"},\"radialaxis\":{\"gridcolor\":\"white\",\"linecolor\":\"white\",\"ticks\":\"\"}},\"ternary\":{\"bgcolor\":\"#E5ECF6\",\"aaxis\":{\"gridcolor\":\"white\",\"linecolor\":\"white\",\"ticks\":\"\"},\"baxis\":{\"gridcolor\":\"white\",\"linecolor\":\"white\",\"ticks\":\"\"},\"caxis\":{\"gridcolor\":\"white\",\"linecolor\":\"white\",\"ticks\":\"\"}},\"coloraxis\":{\"colorbar\":{\"outlinewidth\":0,\"ticks\":\"\"}},\"colorscale\":{\"sequential\":[[0.0,\"#0d0887\"],[0.1111111111111111,\"#46039f\"],[0.2222222222222222,\"#7201a8\"],[0.3333333333333333,\"#9c179e\"],[0.4444444444444444,\"#bd3786\"],[0.5555555555555556,\"#d8576b\"],[0.6666666666666666,\"#ed7953\"],[0.7777777777777778,\"#fb9f3a\"],[0.8888888888888888,\"#fdca26\"],[1.0,\"#f0f921\"]],\"sequentialminus\":[[0.0,\"#0d0887\"],[0.1111111111111111,\"#46039f\"],[0.2222222222222222,\"#7201a8\"],[0.3333333333333333,\"#9c179e\"],[0.4444444444444444,\"#bd3786\"],[0.5555555555555556,\"#d8576b\"],[0.6666666666666666,\"#ed7953\"],[0.7777777777777778,\"#fb9f3a\"],[0.8888888888888888,\"#fdca26\"],[1.0,\"#f0f921\"]],\"diverging\":[[0,\"#8e0152\"],[0.1,\"#c51b7d\"],[0.2,\"#de77ae\"],[0.3,\"#f1b6da\"],[0.4,\"#fde0ef\"],[0.5,\"#f7f7f7\"],[0.6,\"#e6f5d0\"],[0.7,\"#b8e186\"],[0.8,\"#7fbc41\"],[0.9,\"#4d9221\"],[1,\"#276419\"]]},\"xaxis\":{\"gridcolor\":\"white\",\"linecolor\":\"white\",\"ticks\":\"\",\"title\":{\"standoff\":15},\"zerolinecolor\":\"white\",\"automargin\":true,\"zerolinewidth\":2},\"yaxis\":{\"gridcolor\":\"white\",\"linecolor\":\"white\",\"ticks\":\"\",\"title\":{\"standoff\":15},\"zerolinecolor\":\"white\",\"automargin\":true,\"zerolinewidth\":2},\"scene\":{\"xaxis\":{\"backgroundcolor\":\"#E5ECF6\",\"gridcolor\":\"white\",\"linecolor\":\"white\",\"showbackground\":true,\"ticks\":\"\",\"zerolinecolor\":\"white\",\"gridwidth\":2},\"yaxis\":{\"backgroundcolor\":\"#E5ECF6\",\"gridcolor\":\"white\",\"linecolor\":\"white\",\"showbackground\":true,\"ticks\":\"\",\"zerolinecolor\":\"white\",\"gridwidth\":2},\"zaxis\":{\"backgroundcolor\":\"#E5ECF6\",\"gridcolor\":\"white\",\"linecolor\":\"white\",\"showbackground\":true,\"ticks\":\"\",\"zerolinecolor\":\"white\",\"gridwidth\":2}},\"shapedefaults\":{\"line\":{\"color\":\"#2a3f5f\"}},\"annotationdefaults\":{\"arrowcolor\":\"#2a3f5f\",\"arrowhead\":0,\"arrowwidth\":1},\"geo\":{\"bgcolor\":\"white\",\"landcolor\":\"#E5ECF6\",\"subunitcolor\":\"white\",\"showland\":true,\"showlakes\":true,\"lakecolor\":\"white\"},\"title\":{\"x\":0.05},\"mapbox\":{\"style\":\"light\"}}},\"xaxis\":{\"anchor\":\"y\",\"domain\":[0.0,1.0],\"title\":{\"text\":\"N Steps\"}},\"yaxis\":{\"anchor\":\"x\",\"domain\":[0.0,1.0],\"title\":{\"text\":\"Loss\"}},\"legend\":{\"title\":{\"text\":\"variable\"},\"tracegroupgap\":0},\"title\":{\"text\":\"Loss over N-Steps\"}},                        {\"responsive\": true}                    ).then(function(){\n",
       "                            \n",
       "var gd = document.getElementById('c9f76f6a-6e12-49f8-9d2f-85d9050f875f');\n",
       "var x = new MutationObserver(function (mutations, observer) {{\n",
       "        var display = window.getComputedStyle(gd).display;\n",
       "        if (!display || display === 'none') {{\n",
       "            console.log([gd, 'removed!']);\n",
       "            Plotly.purge(gd);\n",
       "            observer.disconnect();\n",
       "        }}\n",
       "}});\n",
       "\n",
       "// Listen for the removal of the full notebook cells\n",
       "var notebookContainer = gd.closest('#notebook-container');\n",
       "if (notebookContainer) {{\n",
       "    x.observe(notebookContainer, {childList: true});\n",
       "}}\n",
       "\n",
       "// Listen for the clearing of the current output cell\n",
       "var outputEl = gd.closest('.output');\n",
       "if (outputEl) {{\n",
       "    x.observe(outputEl, {childList: true});\n",
       "}}\n",
       "\n",
       "                        })                };                });            </script>        </div>"
      ]
     },
     "metadata": {},
     "output_type": "display_data"
    }
   ],
   "source": [
    "pipe = GymTransformBlock(agent=None,n=1000,bs=10)(['Pendulum-v1'])\n",
    "pipe = StepBatcher(pipe)\n",
    "steps = list(pipe);\n",
    "\n",
    "actor = Actor(3,1)\n",
    "critic = Critic(3,1)\n",
    "\n",
    "pipe = SoftTargetUpdater(pipe,critic)\n",
    "pipe = CriticLossProcessor(pipe,critic,actor)\n",
    "\n",
    "pipe_loss = LossCollector(pipe,main_buffers=[[]])\n",
    "pipe = BasicOptStepper(pipe_loss,critic,0.01)\n",
    "list(pipe)\n",
    "pipe_loss.show()"
   ]
  },
  {
   "cell_type": "code",
   "execution_count": null,
   "id": "3b053802",
   "metadata": {},
   "outputs": [],
   "source": [
    "#|export\n",
    "class ActorLossProcessor(dp.iter.IterDataPipe):\n",
    "    def __init__(self,\n",
    "            source_datapipe:DataPipe, # The parent datapipe that should yield step types\n",
    "            critic:Critic,\n",
    "            actor:Actor,\n",
    "        ):\n",
    "        self.source_datapipe = source_datapipe\n",
    "        self.critic = critic\n",
    "        self.actor = actor\n",
    "\n",
    "    def __iter__(self) -> Union[Dict,SimpleStep]:\n",
    "        for batch in self.source_datapipe:\n",
    "            q = self.critic(torch.hstack((batch.state,self.actor(batch.state))))\n",
    "            # TODO: Does setting terminal states to 0 still make sense here?\n",
    "            loss = -q.mean()\n",
    "            yield {'loss':loss}\n",
    "            yield batch"
   ]
  },
  {
   "cell_type": "code",
   "execution_count": null,
   "id": "89a969b5",
   "metadata": {},
   "outputs": [
    {
     "data": {
      "text/html": [
       "        <script type=\"text/javascript\">\n",
       "        window.PlotlyConfig = {MathJaxConfig: 'local'};\n",
       "        if (window.MathJax && window.MathJax.Hub && window.MathJax.Hub.Config) {window.MathJax.Hub.Config({SVG: {font: \"STIX-Web\"}});}\n",
       "        if (typeof require !== 'undefined') {\n",
       "        require.undef(\"plotly\");\n",
       "        requirejs.config({\n",
       "            paths: {\n",
       "                'plotly': ['https://cdn.plot.ly/plotly-2.14.0.min']\n",
       "            }\n",
       "        });\n",
       "        require(['plotly'], function(Plotly) {\n",
       "            window._Plotly = Plotly;\n",
       "        });\n",
       "        }\n",
       "        </script>\n",
       "        "
      ]
     },
     "metadata": {},
     "output_type": "display_data"
    },
    {
     "data": {
      "application/vnd.plotly.v1+json": {
       "config": {
        "plotlyServerURL": "https://plot.ly"
       },
       "data": [
        {
         "hovertemplate": "variable=0<br>N Steps=%{x}<br>Loss=%{y}<extra></extra>",
         "legendgroup": "0",
         "line": {
          "color": "#636efa",
          "dash": "solid"
         },
         "marker": {
          "symbol": "circle"
         },
         "mode": "lines",
         "name": "0",
         "orientation": "v",
         "showlegend": true,
         "type": "scatter",
         "x": [
          0,
          1,
          2,
          3,
          4,
          5,
          6,
          7,
          8,
          9,
          10,
          11,
          12,
          13,
          14,
          15,
          16,
          17,
          18,
          19,
          20,
          21,
          22,
          23,
          24,
          25,
          26,
          27,
          28,
          29,
          30,
          31,
          32,
          33,
          34,
          35,
          36,
          37,
          38,
          39,
          40,
          41,
          42,
          43,
          44,
          45,
          46,
          47,
          48,
          49,
          50,
          51,
          52,
          53,
          54,
          55,
          56,
          57,
          58,
          59,
          60,
          61,
          62,
          63,
          64,
          65,
          66,
          67,
          68,
          69,
          70,
          71,
          72,
          73,
          74,
          75,
          76,
          77,
          78,
          79,
          80,
          81,
          82,
          83,
          84,
          85,
          86,
          87,
          88,
          89,
          90,
          91,
          92,
          93,
          94,
          95,
          96,
          97,
          98,
          99
         ],
         "xaxis": "x",
         "y": [
          -0.4653688371181488,
          -1.3666101694107056,
          -0.25299185514450073,
          0.15944316983222961,
          -1.0278551578521729,
          -1.3241100311279297,
          -0.24008353054523468,
          0.08373279124498367,
          -1.127253770828247,
          -1.6113687753677368,
          -0.5536349415779114,
          -0.0839502140879631,
          -0.19219659268856049,
          -1.9131065607070923,
          -1.2120205163955688,
          -0.5891844630241394,
          -0.49590978026390076,
          -0.40627139806747437,
          0.008373905904591084,
          -0.56502765417099,
          -1.7818111181259155,
          -0.7319817543029785,
          -0.19185470044612885,
          -0.07399295270442963,
          -1.5630093812942505,
          -1.0427049398422241,
          -0.27807193994522095,
          0.04238811880350113,
          -1.2406487464904785,
          -1.5969600677490234,
          -0.6433947682380676,
          -0.2544763386249542,
          0.00853769388049841,
          -1.5001857280731201,
          -1.3842480182647705,
          -0.507747232913971,
          -0.08902786672115326,
          -0.19431379437446594,
          -1.7465438842773438,
          -1.126800298690796,
          -0.34646177291870117,
          0.049669329077005386,
          -0.9813640713691711,
          -2.054811954498291,
          -1.2014516592025757,
          -2.243117570877075,
          -1.9463932514190674,
          -2.3997063636779785,
          -1.753739595413208,
          -2.202763319015503,
          -2.132301092147827,
          -2.4034488201141357,
          -1.9228483438491821,
          -2.39984130859375,
          -1.854050636291504,
          -2.357292413711548,
          -1.8149728775024414,
          -2.235568046569824,
          -1.9930193424224854,
          -2.312619686126709,
          -2.0297975540161133,
          -2.3767387866973877,
          -1.9877970218658447,
          -2.4121475219726562,
          -1.8063150644302368,
          -2.3562979698181152,
          -1.9831842184066772,
          -2.457307815551758,
          -1.903908371925354,
          -2.444443464279175,
          -1.8174508810043335,
          -2.4487695693969727,
          -1.9118635654449463,
          -2.494318962097168,
          -1.9108428955078125,
          -2.4742465019226074,
          -1.6499611139297485,
          -2.4784018993377686,
          -2.0737826824188232,
          -2.4480929374694824,
          -1.764756202697754,
          -2.4848313331604004,
          -1.978109359741211,
          -2.436431407928467,
          -1.8723955154418945,
          -2.4705748558044434,
          -2.110630989074707,
          -2.3485236167907715,
          -2.1233630180358887,
          -2.3081068992614746,
          -2.188704252243042,
          -2.1807031631469727,
          -2.2112479209899902,
          -2.1049063205718994,
          -2.2634758949279785,
          -2.069270610809326,
          -2.2116711139678955,
          -2.027963638305664,
          -2.1803650856018066,
          -2.091599941253662
         ],
         "yaxis": "y"
        }
       ],
       "layout": {
        "legend": {
         "title": {
          "text": "variable"
         },
         "tracegroupgap": 0
        },
        "template": {
         "data": {
          "bar": [
           {
            "error_x": {
             "color": "#2a3f5f"
            },
            "error_y": {
             "color": "#2a3f5f"
            },
            "marker": {
             "line": {
              "color": "#E5ECF6",
              "width": 0.5
             },
             "pattern": {
              "fillmode": "overlay",
              "size": 10,
              "solidity": 0.2
             }
            },
            "type": "bar"
           }
          ],
          "barpolar": [
           {
            "marker": {
             "line": {
              "color": "#E5ECF6",
              "width": 0.5
             },
             "pattern": {
              "fillmode": "overlay",
              "size": 10,
              "solidity": 0.2
             }
            },
            "type": "barpolar"
           }
          ],
          "carpet": [
           {
            "aaxis": {
             "endlinecolor": "#2a3f5f",
             "gridcolor": "white",
             "linecolor": "white",
             "minorgridcolor": "white",
             "startlinecolor": "#2a3f5f"
            },
            "baxis": {
             "endlinecolor": "#2a3f5f",
             "gridcolor": "white",
             "linecolor": "white",
             "minorgridcolor": "white",
             "startlinecolor": "#2a3f5f"
            },
            "type": "carpet"
           }
          ],
          "choropleth": [
           {
            "colorbar": {
             "outlinewidth": 0,
             "ticks": ""
            },
            "type": "choropleth"
           }
          ],
          "contour": [
           {
            "colorbar": {
             "outlinewidth": 0,
             "ticks": ""
            },
            "colorscale": [
             [
              0,
              "#0d0887"
             ],
             [
              0.1111111111111111,
              "#46039f"
             ],
             [
              0.2222222222222222,
              "#7201a8"
             ],
             [
              0.3333333333333333,
              "#9c179e"
             ],
             [
              0.4444444444444444,
              "#bd3786"
             ],
             [
              0.5555555555555556,
              "#d8576b"
             ],
             [
              0.6666666666666666,
              "#ed7953"
             ],
             [
              0.7777777777777778,
              "#fb9f3a"
             ],
             [
              0.8888888888888888,
              "#fdca26"
             ],
             [
              1,
              "#f0f921"
             ]
            ],
            "type": "contour"
           }
          ],
          "contourcarpet": [
           {
            "colorbar": {
             "outlinewidth": 0,
             "ticks": ""
            },
            "type": "contourcarpet"
           }
          ],
          "heatmap": [
           {
            "colorbar": {
             "outlinewidth": 0,
             "ticks": ""
            },
            "colorscale": [
             [
              0,
              "#0d0887"
             ],
             [
              0.1111111111111111,
              "#46039f"
             ],
             [
              0.2222222222222222,
              "#7201a8"
             ],
             [
              0.3333333333333333,
              "#9c179e"
             ],
             [
              0.4444444444444444,
              "#bd3786"
             ],
             [
              0.5555555555555556,
              "#d8576b"
             ],
             [
              0.6666666666666666,
              "#ed7953"
             ],
             [
              0.7777777777777778,
              "#fb9f3a"
             ],
             [
              0.8888888888888888,
              "#fdca26"
             ],
             [
              1,
              "#f0f921"
             ]
            ],
            "type": "heatmap"
           }
          ],
          "heatmapgl": [
           {
            "colorbar": {
             "outlinewidth": 0,
             "ticks": ""
            },
            "colorscale": [
             [
              0,
              "#0d0887"
             ],
             [
              0.1111111111111111,
              "#46039f"
             ],
             [
              0.2222222222222222,
              "#7201a8"
             ],
             [
              0.3333333333333333,
              "#9c179e"
             ],
             [
              0.4444444444444444,
              "#bd3786"
             ],
             [
              0.5555555555555556,
              "#d8576b"
             ],
             [
              0.6666666666666666,
              "#ed7953"
             ],
             [
              0.7777777777777778,
              "#fb9f3a"
             ],
             [
              0.8888888888888888,
              "#fdca26"
             ],
             [
              1,
              "#f0f921"
             ]
            ],
            "type": "heatmapgl"
           }
          ],
          "histogram": [
           {
            "marker": {
             "pattern": {
              "fillmode": "overlay",
              "size": 10,
              "solidity": 0.2
             }
            },
            "type": "histogram"
           }
          ],
          "histogram2d": [
           {
            "colorbar": {
             "outlinewidth": 0,
             "ticks": ""
            },
            "colorscale": [
             [
              0,
              "#0d0887"
             ],
             [
              0.1111111111111111,
              "#46039f"
             ],
             [
              0.2222222222222222,
              "#7201a8"
             ],
             [
              0.3333333333333333,
              "#9c179e"
             ],
             [
              0.4444444444444444,
              "#bd3786"
             ],
             [
              0.5555555555555556,
              "#d8576b"
             ],
             [
              0.6666666666666666,
              "#ed7953"
             ],
             [
              0.7777777777777778,
              "#fb9f3a"
             ],
             [
              0.8888888888888888,
              "#fdca26"
             ],
             [
              1,
              "#f0f921"
             ]
            ],
            "type": "histogram2d"
           }
          ],
          "histogram2dcontour": [
           {
            "colorbar": {
             "outlinewidth": 0,
             "ticks": ""
            },
            "colorscale": [
             [
              0,
              "#0d0887"
             ],
             [
              0.1111111111111111,
              "#46039f"
             ],
             [
              0.2222222222222222,
              "#7201a8"
             ],
             [
              0.3333333333333333,
              "#9c179e"
             ],
             [
              0.4444444444444444,
              "#bd3786"
             ],
             [
              0.5555555555555556,
              "#d8576b"
             ],
             [
              0.6666666666666666,
              "#ed7953"
             ],
             [
              0.7777777777777778,
              "#fb9f3a"
             ],
             [
              0.8888888888888888,
              "#fdca26"
             ],
             [
              1,
              "#f0f921"
             ]
            ],
            "type": "histogram2dcontour"
           }
          ],
          "mesh3d": [
           {
            "colorbar": {
             "outlinewidth": 0,
             "ticks": ""
            },
            "type": "mesh3d"
           }
          ],
          "parcoords": [
           {
            "line": {
             "colorbar": {
              "outlinewidth": 0,
              "ticks": ""
             }
            },
            "type": "parcoords"
           }
          ],
          "pie": [
           {
            "automargin": true,
            "type": "pie"
           }
          ],
          "scatter": [
           {
            "fillpattern": {
             "fillmode": "overlay",
             "size": 10,
             "solidity": 0.2
            },
            "type": "scatter"
           }
          ],
          "scatter3d": [
           {
            "line": {
             "colorbar": {
              "outlinewidth": 0,
              "ticks": ""
             }
            },
            "marker": {
             "colorbar": {
              "outlinewidth": 0,
              "ticks": ""
             }
            },
            "type": "scatter3d"
           }
          ],
          "scattercarpet": [
           {
            "marker": {
             "colorbar": {
              "outlinewidth": 0,
              "ticks": ""
             }
            },
            "type": "scattercarpet"
           }
          ],
          "scattergeo": [
           {
            "marker": {
             "colorbar": {
              "outlinewidth": 0,
              "ticks": ""
             }
            },
            "type": "scattergeo"
           }
          ],
          "scattergl": [
           {
            "marker": {
             "colorbar": {
              "outlinewidth": 0,
              "ticks": ""
             }
            },
            "type": "scattergl"
           }
          ],
          "scattermapbox": [
           {
            "marker": {
             "colorbar": {
              "outlinewidth": 0,
              "ticks": ""
             }
            },
            "type": "scattermapbox"
           }
          ],
          "scatterpolar": [
           {
            "marker": {
             "colorbar": {
              "outlinewidth": 0,
              "ticks": ""
             }
            },
            "type": "scatterpolar"
           }
          ],
          "scatterpolargl": [
           {
            "marker": {
             "colorbar": {
              "outlinewidth": 0,
              "ticks": ""
             }
            },
            "type": "scatterpolargl"
           }
          ],
          "scatterternary": [
           {
            "marker": {
             "colorbar": {
              "outlinewidth": 0,
              "ticks": ""
             }
            },
            "type": "scatterternary"
           }
          ],
          "surface": [
           {
            "colorbar": {
             "outlinewidth": 0,
             "ticks": ""
            },
            "colorscale": [
             [
              0,
              "#0d0887"
             ],
             [
              0.1111111111111111,
              "#46039f"
             ],
             [
              0.2222222222222222,
              "#7201a8"
             ],
             [
              0.3333333333333333,
              "#9c179e"
             ],
             [
              0.4444444444444444,
              "#bd3786"
             ],
             [
              0.5555555555555556,
              "#d8576b"
             ],
             [
              0.6666666666666666,
              "#ed7953"
             ],
             [
              0.7777777777777778,
              "#fb9f3a"
             ],
             [
              0.8888888888888888,
              "#fdca26"
             ],
             [
              1,
              "#f0f921"
             ]
            ],
            "type": "surface"
           }
          ],
          "table": [
           {
            "cells": {
             "fill": {
              "color": "#EBF0F8"
             },
             "line": {
              "color": "white"
             }
            },
            "header": {
             "fill": {
              "color": "#C8D4E3"
             },
             "line": {
              "color": "white"
             }
            },
            "type": "table"
           }
          ]
         },
         "layout": {
          "annotationdefaults": {
           "arrowcolor": "#2a3f5f",
           "arrowhead": 0,
           "arrowwidth": 1
          },
          "autotypenumbers": "strict",
          "coloraxis": {
           "colorbar": {
            "outlinewidth": 0,
            "ticks": ""
           }
          },
          "colorscale": {
           "diverging": [
            [
             0,
             "#8e0152"
            ],
            [
             0.1,
             "#c51b7d"
            ],
            [
             0.2,
             "#de77ae"
            ],
            [
             0.3,
             "#f1b6da"
            ],
            [
             0.4,
             "#fde0ef"
            ],
            [
             0.5,
             "#f7f7f7"
            ],
            [
             0.6,
             "#e6f5d0"
            ],
            [
             0.7,
             "#b8e186"
            ],
            [
             0.8,
             "#7fbc41"
            ],
            [
             0.9,
             "#4d9221"
            ],
            [
             1,
             "#276419"
            ]
           ],
           "sequential": [
            [
             0,
             "#0d0887"
            ],
            [
             0.1111111111111111,
             "#46039f"
            ],
            [
             0.2222222222222222,
             "#7201a8"
            ],
            [
             0.3333333333333333,
             "#9c179e"
            ],
            [
             0.4444444444444444,
             "#bd3786"
            ],
            [
             0.5555555555555556,
             "#d8576b"
            ],
            [
             0.6666666666666666,
             "#ed7953"
            ],
            [
             0.7777777777777778,
             "#fb9f3a"
            ],
            [
             0.8888888888888888,
             "#fdca26"
            ],
            [
             1,
             "#f0f921"
            ]
           ],
           "sequentialminus": [
            [
             0,
             "#0d0887"
            ],
            [
             0.1111111111111111,
             "#46039f"
            ],
            [
             0.2222222222222222,
             "#7201a8"
            ],
            [
             0.3333333333333333,
             "#9c179e"
            ],
            [
             0.4444444444444444,
             "#bd3786"
            ],
            [
             0.5555555555555556,
             "#d8576b"
            ],
            [
             0.6666666666666666,
             "#ed7953"
            ],
            [
             0.7777777777777778,
             "#fb9f3a"
            ],
            [
             0.8888888888888888,
             "#fdca26"
            ],
            [
             1,
             "#f0f921"
            ]
           ]
          },
          "colorway": [
           "#636efa",
           "#EF553B",
           "#00cc96",
           "#ab63fa",
           "#FFA15A",
           "#19d3f3",
           "#FF6692",
           "#B6E880",
           "#FF97FF",
           "#FECB52"
          ],
          "font": {
           "color": "#2a3f5f"
          },
          "geo": {
           "bgcolor": "white",
           "lakecolor": "white",
           "landcolor": "#E5ECF6",
           "showlakes": true,
           "showland": true,
           "subunitcolor": "white"
          },
          "hoverlabel": {
           "align": "left"
          },
          "hovermode": "closest",
          "mapbox": {
           "style": "light"
          },
          "paper_bgcolor": "white",
          "plot_bgcolor": "#E5ECF6",
          "polar": {
           "angularaxis": {
            "gridcolor": "white",
            "linecolor": "white",
            "ticks": ""
           },
           "bgcolor": "#E5ECF6",
           "radialaxis": {
            "gridcolor": "white",
            "linecolor": "white",
            "ticks": ""
           }
          },
          "scene": {
           "xaxis": {
            "backgroundcolor": "#E5ECF6",
            "gridcolor": "white",
            "gridwidth": 2,
            "linecolor": "white",
            "showbackground": true,
            "ticks": "",
            "zerolinecolor": "white"
           },
           "yaxis": {
            "backgroundcolor": "#E5ECF6",
            "gridcolor": "white",
            "gridwidth": 2,
            "linecolor": "white",
            "showbackground": true,
            "ticks": "",
            "zerolinecolor": "white"
           },
           "zaxis": {
            "backgroundcolor": "#E5ECF6",
            "gridcolor": "white",
            "gridwidth": 2,
            "linecolor": "white",
            "showbackground": true,
            "ticks": "",
            "zerolinecolor": "white"
           }
          },
          "shapedefaults": {
           "line": {
            "color": "#2a3f5f"
           }
          },
          "ternary": {
           "aaxis": {
            "gridcolor": "white",
            "linecolor": "white",
            "ticks": ""
           },
           "baxis": {
            "gridcolor": "white",
            "linecolor": "white",
            "ticks": ""
           },
           "bgcolor": "#E5ECF6",
           "caxis": {
            "gridcolor": "white",
            "linecolor": "white",
            "ticks": ""
           }
          },
          "title": {
           "x": 0.05
          },
          "xaxis": {
           "automargin": true,
           "gridcolor": "white",
           "linecolor": "white",
           "ticks": "",
           "title": {
            "standoff": 15
           },
           "zerolinecolor": "white",
           "zerolinewidth": 2
          },
          "yaxis": {
           "automargin": true,
           "gridcolor": "white",
           "linecolor": "white",
           "ticks": "",
           "title": {
            "standoff": 15
           },
           "zerolinecolor": "white",
           "zerolinewidth": 2
          }
         }
        },
        "title": {
         "text": "Loss over N-Steps"
        },
        "xaxis": {
         "anchor": "y",
         "domain": [
          0,
          1
         ],
         "title": {
          "text": "N Steps"
         }
        },
        "yaxis": {
         "anchor": "x",
         "domain": [
          0,
          1
         ],
         "title": {
          "text": "Loss"
         }
        }
       }
      },
      "text/html": [
       "<div>                            <div id=\"b3dbfc7a-9fec-4184-b188-3be49e13998f\" class=\"plotly-graph-div\" style=\"height:525px; width:100%;\"></div>            <script type=\"text/javascript\">                require([\"plotly\"], function(Plotly) {                    window.PLOTLYENV=window.PLOTLYENV || {};                                    if (document.getElementById(\"b3dbfc7a-9fec-4184-b188-3be49e13998f\")) {                    Plotly.newPlot(                        \"b3dbfc7a-9fec-4184-b188-3be49e13998f\",                        [{\"hovertemplate\":\"variable=0<br>N Steps=%{x}<br>Loss=%{y}<extra></extra>\",\"legendgroup\":\"0\",\"line\":{\"color\":\"#636efa\",\"dash\":\"solid\"},\"marker\":{\"symbol\":\"circle\"},\"mode\":\"lines\",\"name\":\"0\",\"orientation\":\"v\",\"showlegend\":true,\"x\":[0,1,2,3,4,5,6,7,8,9,10,11,12,13,14,15,16,17,18,19,20,21,22,23,24,25,26,27,28,29,30,31,32,33,34,35,36,37,38,39,40,41,42,43,44,45,46,47,48,49,50,51,52,53,54,55,56,57,58,59,60,61,62,63,64,65,66,67,68,69,70,71,72,73,74,75,76,77,78,79,80,81,82,83,84,85,86,87,88,89,90,91,92,93,94,95,96,97,98,99],\"xaxis\":\"x\",\"y\":[-0.4653688371181488,-1.3666101694107056,-0.25299185514450073,0.15944316983222961,-1.0278551578521729,-1.3241100311279297,-0.24008353054523468,0.08373279124498367,-1.127253770828247,-1.6113687753677368,-0.5536349415779114,-0.0839502140879631,-0.19219659268856049,-1.9131065607070923,-1.2120205163955688,-0.5891844630241394,-0.49590978026390076,-0.40627139806747437,0.008373905904591084,-0.56502765417099,-1.7818111181259155,-0.7319817543029785,-0.19185470044612885,-0.07399295270442963,-1.5630093812942505,-1.0427049398422241,-0.27807193994522095,0.04238811880350113,-1.2406487464904785,-1.5969600677490234,-0.6433947682380676,-0.2544763386249542,0.00853769388049841,-1.5001857280731201,-1.3842480182647705,-0.507747232913971,-0.08902786672115326,-0.19431379437446594,-1.7465438842773438,-1.126800298690796,-0.34646177291870117,0.049669329077005386,-0.9813640713691711,-2.054811954498291,-1.2014516592025757,-2.243117570877075,-1.9463932514190674,-2.3997063636779785,-1.753739595413208,-2.202763319015503,-2.132301092147827,-2.4034488201141357,-1.9228483438491821,-2.39984130859375,-1.854050636291504,-2.357292413711548,-1.8149728775024414,-2.235568046569824,-1.9930193424224854,-2.312619686126709,-2.0297975540161133,-2.3767387866973877,-1.9877970218658447,-2.4121475219726562,-1.8063150644302368,-2.3562979698181152,-1.9831842184066772,-2.457307815551758,-1.903908371925354,-2.444443464279175,-1.8174508810043335,-2.4487695693969727,-1.9118635654449463,-2.494318962097168,-1.9108428955078125,-2.4742465019226074,-1.6499611139297485,-2.4784018993377686,-2.0737826824188232,-2.4480929374694824,-1.764756202697754,-2.4848313331604004,-1.978109359741211,-2.436431407928467,-1.8723955154418945,-2.4705748558044434,-2.110630989074707,-2.3485236167907715,-2.1233630180358887,-2.3081068992614746,-2.188704252243042,-2.1807031631469727,-2.2112479209899902,-2.1049063205718994,-2.2634758949279785,-2.069270610809326,-2.2116711139678955,-2.027963638305664,-2.1803650856018066,-2.091599941253662],\"yaxis\":\"y\",\"type\":\"scatter\"}],                        {\"template\":{\"data\":{\"histogram2dcontour\":[{\"type\":\"histogram2dcontour\",\"colorbar\":{\"outlinewidth\":0,\"ticks\":\"\"},\"colorscale\":[[0.0,\"#0d0887\"],[0.1111111111111111,\"#46039f\"],[0.2222222222222222,\"#7201a8\"],[0.3333333333333333,\"#9c179e\"],[0.4444444444444444,\"#bd3786\"],[0.5555555555555556,\"#d8576b\"],[0.6666666666666666,\"#ed7953\"],[0.7777777777777778,\"#fb9f3a\"],[0.8888888888888888,\"#fdca26\"],[1.0,\"#f0f921\"]]}],\"choropleth\":[{\"type\":\"choropleth\",\"colorbar\":{\"outlinewidth\":0,\"ticks\":\"\"}}],\"histogram2d\":[{\"type\":\"histogram2d\",\"colorbar\":{\"outlinewidth\":0,\"ticks\":\"\"},\"colorscale\":[[0.0,\"#0d0887\"],[0.1111111111111111,\"#46039f\"],[0.2222222222222222,\"#7201a8\"],[0.3333333333333333,\"#9c179e\"],[0.4444444444444444,\"#bd3786\"],[0.5555555555555556,\"#d8576b\"],[0.6666666666666666,\"#ed7953\"],[0.7777777777777778,\"#fb9f3a\"],[0.8888888888888888,\"#fdca26\"],[1.0,\"#f0f921\"]]}],\"heatmap\":[{\"type\":\"heatmap\",\"colorbar\":{\"outlinewidth\":0,\"ticks\":\"\"},\"colorscale\":[[0.0,\"#0d0887\"],[0.1111111111111111,\"#46039f\"],[0.2222222222222222,\"#7201a8\"],[0.3333333333333333,\"#9c179e\"],[0.4444444444444444,\"#bd3786\"],[0.5555555555555556,\"#d8576b\"],[0.6666666666666666,\"#ed7953\"],[0.7777777777777778,\"#fb9f3a\"],[0.8888888888888888,\"#fdca26\"],[1.0,\"#f0f921\"]]}],\"heatmapgl\":[{\"type\":\"heatmapgl\",\"colorbar\":{\"outlinewidth\":0,\"ticks\":\"\"},\"colorscale\":[[0.0,\"#0d0887\"],[0.1111111111111111,\"#46039f\"],[0.2222222222222222,\"#7201a8\"],[0.3333333333333333,\"#9c179e\"],[0.4444444444444444,\"#bd3786\"],[0.5555555555555556,\"#d8576b\"],[0.6666666666666666,\"#ed7953\"],[0.7777777777777778,\"#fb9f3a\"],[0.8888888888888888,\"#fdca26\"],[1.0,\"#f0f921\"]]}],\"contourcarpet\":[{\"type\":\"contourcarpet\",\"colorbar\":{\"outlinewidth\":0,\"ticks\":\"\"}}],\"contour\":[{\"type\":\"contour\",\"colorbar\":{\"outlinewidth\":0,\"ticks\":\"\"},\"colorscale\":[[0.0,\"#0d0887\"],[0.1111111111111111,\"#46039f\"],[0.2222222222222222,\"#7201a8\"],[0.3333333333333333,\"#9c179e\"],[0.4444444444444444,\"#bd3786\"],[0.5555555555555556,\"#d8576b\"],[0.6666666666666666,\"#ed7953\"],[0.7777777777777778,\"#fb9f3a\"],[0.8888888888888888,\"#fdca26\"],[1.0,\"#f0f921\"]]}],\"surface\":[{\"type\":\"surface\",\"colorbar\":{\"outlinewidth\":0,\"ticks\":\"\"},\"colorscale\":[[0.0,\"#0d0887\"],[0.1111111111111111,\"#46039f\"],[0.2222222222222222,\"#7201a8\"],[0.3333333333333333,\"#9c179e\"],[0.4444444444444444,\"#bd3786\"],[0.5555555555555556,\"#d8576b\"],[0.6666666666666666,\"#ed7953\"],[0.7777777777777778,\"#fb9f3a\"],[0.8888888888888888,\"#fdca26\"],[1.0,\"#f0f921\"]]}],\"mesh3d\":[{\"type\":\"mesh3d\",\"colorbar\":{\"outlinewidth\":0,\"ticks\":\"\"}}],\"scatter\":[{\"fillpattern\":{\"fillmode\":\"overlay\",\"size\":10,\"solidity\":0.2},\"type\":\"scatter\"}],\"parcoords\":[{\"type\":\"parcoords\",\"line\":{\"colorbar\":{\"outlinewidth\":0,\"ticks\":\"\"}}}],\"scatterpolargl\":[{\"type\":\"scatterpolargl\",\"marker\":{\"colorbar\":{\"outlinewidth\":0,\"ticks\":\"\"}}}],\"bar\":[{\"error_x\":{\"color\":\"#2a3f5f\"},\"error_y\":{\"color\":\"#2a3f5f\"},\"marker\":{\"line\":{\"color\":\"#E5ECF6\",\"width\":0.5},\"pattern\":{\"fillmode\":\"overlay\",\"size\":10,\"solidity\":0.2}},\"type\":\"bar\"}],\"scattergeo\":[{\"type\":\"scattergeo\",\"marker\":{\"colorbar\":{\"outlinewidth\":0,\"ticks\":\"\"}}}],\"scatterpolar\":[{\"type\":\"scatterpolar\",\"marker\":{\"colorbar\":{\"outlinewidth\":0,\"ticks\":\"\"}}}],\"histogram\":[{\"marker\":{\"pattern\":{\"fillmode\":\"overlay\",\"size\":10,\"solidity\":0.2}},\"type\":\"histogram\"}],\"scattergl\":[{\"type\":\"scattergl\",\"marker\":{\"colorbar\":{\"outlinewidth\":0,\"ticks\":\"\"}}}],\"scatter3d\":[{\"type\":\"scatter3d\",\"line\":{\"colorbar\":{\"outlinewidth\":0,\"ticks\":\"\"}},\"marker\":{\"colorbar\":{\"outlinewidth\":0,\"ticks\":\"\"}}}],\"scattermapbox\":[{\"type\":\"scattermapbox\",\"marker\":{\"colorbar\":{\"outlinewidth\":0,\"ticks\":\"\"}}}],\"scatterternary\":[{\"type\":\"scatterternary\",\"marker\":{\"colorbar\":{\"outlinewidth\":0,\"ticks\":\"\"}}}],\"scattercarpet\":[{\"type\":\"scattercarpet\",\"marker\":{\"colorbar\":{\"outlinewidth\":0,\"ticks\":\"\"}}}],\"carpet\":[{\"aaxis\":{\"endlinecolor\":\"#2a3f5f\",\"gridcolor\":\"white\",\"linecolor\":\"white\",\"minorgridcolor\":\"white\",\"startlinecolor\":\"#2a3f5f\"},\"baxis\":{\"endlinecolor\":\"#2a3f5f\",\"gridcolor\":\"white\",\"linecolor\":\"white\",\"minorgridcolor\":\"white\",\"startlinecolor\":\"#2a3f5f\"},\"type\":\"carpet\"}],\"table\":[{\"cells\":{\"fill\":{\"color\":\"#EBF0F8\"},\"line\":{\"color\":\"white\"}},\"header\":{\"fill\":{\"color\":\"#C8D4E3\"},\"line\":{\"color\":\"white\"}},\"type\":\"table\"}],\"barpolar\":[{\"marker\":{\"line\":{\"color\":\"#E5ECF6\",\"width\":0.5},\"pattern\":{\"fillmode\":\"overlay\",\"size\":10,\"solidity\":0.2}},\"type\":\"barpolar\"}],\"pie\":[{\"automargin\":true,\"type\":\"pie\"}]},\"layout\":{\"autotypenumbers\":\"strict\",\"colorway\":[\"#636efa\",\"#EF553B\",\"#00cc96\",\"#ab63fa\",\"#FFA15A\",\"#19d3f3\",\"#FF6692\",\"#B6E880\",\"#FF97FF\",\"#FECB52\"],\"font\":{\"color\":\"#2a3f5f\"},\"hovermode\":\"closest\",\"hoverlabel\":{\"align\":\"left\"},\"paper_bgcolor\":\"white\",\"plot_bgcolor\":\"#E5ECF6\",\"polar\":{\"bgcolor\":\"#E5ECF6\",\"angularaxis\":{\"gridcolor\":\"white\",\"linecolor\":\"white\",\"ticks\":\"\"},\"radialaxis\":{\"gridcolor\":\"white\",\"linecolor\":\"white\",\"ticks\":\"\"}},\"ternary\":{\"bgcolor\":\"#E5ECF6\",\"aaxis\":{\"gridcolor\":\"white\",\"linecolor\":\"white\",\"ticks\":\"\"},\"baxis\":{\"gridcolor\":\"white\",\"linecolor\":\"white\",\"ticks\":\"\"},\"caxis\":{\"gridcolor\":\"white\",\"linecolor\":\"white\",\"ticks\":\"\"}},\"coloraxis\":{\"colorbar\":{\"outlinewidth\":0,\"ticks\":\"\"}},\"colorscale\":{\"sequential\":[[0.0,\"#0d0887\"],[0.1111111111111111,\"#46039f\"],[0.2222222222222222,\"#7201a8\"],[0.3333333333333333,\"#9c179e\"],[0.4444444444444444,\"#bd3786\"],[0.5555555555555556,\"#d8576b\"],[0.6666666666666666,\"#ed7953\"],[0.7777777777777778,\"#fb9f3a\"],[0.8888888888888888,\"#fdca26\"],[1.0,\"#f0f921\"]],\"sequentialminus\":[[0.0,\"#0d0887\"],[0.1111111111111111,\"#46039f\"],[0.2222222222222222,\"#7201a8\"],[0.3333333333333333,\"#9c179e\"],[0.4444444444444444,\"#bd3786\"],[0.5555555555555556,\"#d8576b\"],[0.6666666666666666,\"#ed7953\"],[0.7777777777777778,\"#fb9f3a\"],[0.8888888888888888,\"#fdca26\"],[1.0,\"#f0f921\"]],\"diverging\":[[0,\"#8e0152\"],[0.1,\"#c51b7d\"],[0.2,\"#de77ae\"],[0.3,\"#f1b6da\"],[0.4,\"#fde0ef\"],[0.5,\"#f7f7f7\"],[0.6,\"#e6f5d0\"],[0.7,\"#b8e186\"],[0.8,\"#7fbc41\"],[0.9,\"#4d9221\"],[1,\"#276419\"]]},\"xaxis\":{\"gridcolor\":\"white\",\"linecolor\":\"white\",\"ticks\":\"\",\"title\":{\"standoff\":15},\"zerolinecolor\":\"white\",\"automargin\":true,\"zerolinewidth\":2},\"yaxis\":{\"gridcolor\":\"white\",\"linecolor\":\"white\",\"ticks\":\"\",\"title\":{\"standoff\":15},\"zerolinecolor\":\"white\",\"automargin\":true,\"zerolinewidth\":2},\"scene\":{\"xaxis\":{\"backgroundcolor\":\"#E5ECF6\",\"gridcolor\":\"white\",\"linecolor\":\"white\",\"showbackground\":true,\"ticks\":\"\",\"zerolinecolor\":\"white\",\"gridwidth\":2},\"yaxis\":{\"backgroundcolor\":\"#E5ECF6\",\"gridcolor\":\"white\",\"linecolor\":\"white\",\"showbackground\":true,\"ticks\":\"\",\"zerolinecolor\":\"white\",\"gridwidth\":2},\"zaxis\":{\"backgroundcolor\":\"#E5ECF6\",\"gridcolor\":\"white\",\"linecolor\":\"white\",\"showbackground\":true,\"ticks\":\"\",\"zerolinecolor\":\"white\",\"gridwidth\":2}},\"shapedefaults\":{\"line\":{\"color\":\"#2a3f5f\"}},\"annotationdefaults\":{\"arrowcolor\":\"#2a3f5f\",\"arrowhead\":0,\"arrowwidth\":1},\"geo\":{\"bgcolor\":\"white\",\"landcolor\":\"#E5ECF6\",\"subunitcolor\":\"white\",\"showland\":true,\"showlakes\":true,\"lakecolor\":\"white\"},\"title\":{\"x\":0.05},\"mapbox\":{\"style\":\"light\"}}},\"xaxis\":{\"anchor\":\"y\",\"domain\":[0.0,1.0],\"title\":{\"text\":\"N Steps\"}},\"yaxis\":{\"anchor\":\"x\",\"domain\":[0.0,1.0],\"title\":{\"text\":\"Loss\"}},\"legend\":{\"title\":{\"text\":\"variable\"},\"tracegroupgap\":0},\"title\":{\"text\":\"Loss over N-Steps\"}},                        {\"responsive\": true}                    ).then(function(){\n",
       "                            \n",
       "var gd = document.getElementById('b3dbfc7a-9fec-4184-b188-3be49e13998f');\n",
       "var x = new MutationObserver(function (mutations, observer) {{\n",
       "        var display = window.getComputedStyle(gd).display;\n",
       "        if (!display || display === 'none') {{\n",
       "            console.log([gd, 'removed!']);\n",
       "            Plotly.purge(gd);\n",
       "            observer.disconnect();\n",
       "        }}\n",
       "}});\n",
       "\n",
       "// Listen for the removal of the full notebook cells\n",
       "var notebookContainer = gd.closest('#notebook-container');\n",
       "if (notebookContainer) {{\n",
       "    x.observe(notebookContainer, {childList: true});\n",
       "}}\n",
       "\n",
       "// Listen for the clearing of the current output cell\n",
       "var outputEl = gd.closest('.output');\n",
       "if (outputEl) {{\n",
       "    x.observe(outputEl, {childList: true});\n",
       "}}\n",
       "\n",
       "                        })                };                });            </script>        </div>"
      ]
     },
     "metadata": {},
     "output_type": "display_data"
    }
   ],
   "source": [
    "actor = Actor(3,1)\n",
    "critic = Critic(3,1)\n",
    "\n",
    "agent = DDPGAgent(actor,max_steps=10000)\n",
    "\n",
    "pipe = GymTransformBlock(agent=agent,n=1000,bs=10)(['Pendulum-v1'])\n",
    "pipe = StepBatcher(pipe)\n",
    "\n",
    "pipe = ActorLossProcessor(pipe,critic,actor)\n",
    "\n",
    "pipe_loss = LossCollector(pipe,main_buffers=[[]])\n",
    "pipe = BasicOptStepper(pipe_loss,actor,0.001)\n",
    "list(pipe)\n",
    "pipe_loss.show()"
   ]
  },
  {
   "cell_type": "code",
   "execution_count": null,
   "id": "039eee48",
   "metadata": {},
   "outputs": [],
   "source": [
    "#|export\n",
    "def DDPGLearner(\n",
    "    actor,\n",
    "    critic,\n",
    "    dls,\n",
    "    logger_bases=None,\n",
    "    loss_func=nn.MSELoss(),\n",
    "    opt=AdamW,\n",
    "    lr=0.001,\n",
    "    bs=128,\n",
    "    max_sz=10000,\n",
    "    nsteps=1,\n",
    "    device=None,\n",
    "    batches=None,\n",
    "    dp_augmentation_fns:Optional[List[DataPipeAugmentationFn]]=None\n",
    ") -> LearnerHead:\n",
    "    learner = LearnerBase([actor,critic],dls,batches=batches,loss_func=loss_func)\n",
    "    learner = LoggerBasePassThrough(learner,logger_bases)\n",
    "    learner = BatchCollector(learner,batch_on_pipe=LearnerBase)\n",
    "    learner = EpocherCollector(learner)\n",
    "    for logger_base in L(logger_bases): learner = logger_base.connect_source_datapipe(learner)\n",
    "    if logger_bases: \n",
    "        learner = RollingTerminatedRewardCollector(learner)\n",
    "        learner = EpisodeCollector(learner)\n",
    "    learner = ExperienceReplay(learner,bs=bs,max_sz=max_sz)\n",
    "    learner = StepBatcher(learner,device=device)\n",
    "    # learner = QCalc(learner)\n",
    "    # learner = TargetCalc(learner,nsteps=nsteps)\n",
    "    # learner = LossCalc(learner)\n",
    "    # learner = ModelLearnCalc(learner)\n",
    "    # if logger_bases: \n",
    "    #     learner = LossCollector(learner)\n",
    "    learner = LearnerHead(learner)\n",
    "    \n",
    "    learner = apply_dp_augmentation_fns(learner,dp_augmentation_fns)\n",
    "    \n",
    "    return learner"
   ]
  },
  {
   "cell_type": "code",
   "execution_count": null,
   "id": "5b33febb",
   "metadata": {},
   "outputs": [
    {
     "ename": "TypeError",
     "evalue": "__new__() missing 1 required positional argument: 'num_instances'",
     "output_type": "error",
     "traceback": [
      "\u001b[0;31m---------------------------------------------------------------------------\u001b[0m",
      "\u001b[0;31mTypeError\u001b[0m                                 Traceback (most recent call last)",
      "\u001b[0;32m/tmp/ipykernel_526/1767002489.py\u001b[0m in \u001b[0;36m<module>\u001b[0;34m\u001b[0m\n\u001b[1;32m     20\u001b[0m \u001b[0;31m# Setup the Learner\u001b[0m\u001b[0;34m\u001b[0m\u001b[0;34m\u001b[0m\u001b[0;34m\u001b[0m\u001b[0m\n\u001b[1;32m     21\u001b[0m learner = DDPGLearner(action,critic,dls,logger_bases=[logger_base],bs=128,max_sz=20_000,nsteps=2,lr=0.001,\n\u001b[0;32m---> 22\u001b[0;31m                      batches=1000)\n\u001b[0m\u001b[1;32m     23\u001b[0m \u001b[0mlearner\u001b[0m\u001b[0;34m.\u001b[0m\u001b[0mfit\u001b[0m\u001b[0;34m(\u001b[0m\u001b[0;36m1\u001b[0m\u001b[0;34m)\u001b[0m\u001b[0;34m\u001b[0m\u001b[0;34m\u001b[0m\u001b[0m\n\u001b[1;32m     24\u001b[0m \u001b[0;31m# learner.fit(10)\u001b[0m\u001b[0;34m\u001b[0m\u001b[0;34m\u001b[0m\u001b[0;34m\u001b[0m\u001b[0m\n",
      "\u001b[0;32m/tmp/ipykernel_526/3940709244.py\u001b[0m in \u001b[0;36mDDPGLearner\u001b[0;34m(actor, critic, dls, logger_bases, loss_func, opt, lr, bs, max_sz, nsteps, device, batches, dp_augmentation_fns)\u001b[0m\n\u001b[1;32m     25\u001b[0m     \u001b[0mlearner\u001b[0m \u001b[0;34m=\u001b[0m \u001b[0mExperienceReplay\u001b[0m\u001b[0;34m(\u001b[0m\u001b[0mlearner\u001b[0m\u001b[0;34m,\u001b[0m\u001b[0mbs\u001b[0m\u001b[0;34m=\u001b[0m\u001b[0mbs\u001b[0m\u001b[0;34m,\u001b[0m\u001b[0mmax_sz\u001b[0m\u001b[0;34m=\u001b[0m\u001b[0mmax_sz\u001b[0m\u001b[0;34m)\u001b[0m\u001b[0;34m\u001b[0m\u001b[0;34m\u001b[0m\u001b[0m\n\u001b[1;32m     26\u001b[0m     \u001b[0mlearner\u001b[0m \u001b[0;34m=\u001b[0m \u001b[0mStepBatcher\u001b[0m\u001b[0;34m(\u001b[0m\u001b[0mlearner\u001b[0m\u001b[0;34m,\u001b[0m\u001b[0mdevice\u001b[0m\u001b[0;34m=\u001b[0m\u001b[0mdevice\u001b[0m\u001b[0;34m)\u001b[0m\u001b[0;34m\u001b[0m\u001b[0;34m\u001b[0m\u001b[0m\n\u001b[0;32m---> 27\u001b[0;31m     \u001b[0mlearner\u001b[0m \u001b[0;34m=\u001b[0m \u001b[0mlearner\u001b[0m\u001b[0;34m.\u001b[0m\u001b[0mfork\u001b[0m\u001b[0;34m(\u001b[0m\u001b[0mbuffer_size\u001b[0m\u001b[0;34m=\u001b[0m\u001b[0;36m1\u001b[0m\u001b[0;34m)\u001b[0m\u001b[0;34m\u001b[0m\u001b[0;34m\u001b[0m\u001b[0m\n\u001b[0m\u001b[1;32m     28\u001b[0m     \u001b[0;31m# learner = QCalc(learner)\u001b[0m\u001b[0;34m\u001b[0m\u001b[0;34m\u001b[0m\u001b[0;34m\u001b[0m\u001b[0m\n\u001b[1;32m     29\u001b[0m     \u001b[0;31m# learner = TargetCalc(learner,nsteps=nsteps)\u001b[0m\u001b[0;34m\u001b[0m\u001b[0;34m\u001b[0m\u001b[0;34m\u001b[0m\u001b[0m\n",
      "\u001b[0;32m/opt/conda/lib/python3.7/site-packages/torch/utils/data/datapipes/datapipe.py\u001b[0m in \u001b[0;36mclass_function\u001b[0;34m(cls, enable_df_api_tracing, source_dp, *args, **kwargs)\u001b[0m\n\u001b[1;32m    137\u001b[0m \u001b[0;34m\u001b[0m\u001b[0m\n\u001b[1;32m    138\u001b[0m         \u001b[0;32mdef\u001b[0m \u001b[0mclass_function\u001b[0m\u001b[0;34m(\u001b[0m\u001b[0mcls\u001b[0m\u001b[0;34m,\u001b[0m \u001b[0menable_df_api_tracing\u001b[0m\u001b[0;34m,\u001b[0m \u001b[0msource_dp\u001b[0m\u001b[0;34m,\u001b[0m \u001b[0;34m*\u001b[0m\u001b[0margs\u001b[0m\u001b[0;34m,\u001b[0m \u001b[0;34m**\u001b[0m\u001b[0mkwargs\u001b[0m\u001b[0;34m)\u001b[0m\u001b[0;34m:\u001b[0m\u001b[0;34m\u001b[0m\u001b[0;34m\u001b[0m\u001b[0m\n\u001b[0;32m--> 139\u001b[0;31m             \u001b[0mresult_pipe\u001b[0m \u001b[0;34m=\u001b[0m \u001b[0mcls\u001b[0m\u001b[0;34m(\u001b[0m\u001b[0msource_dp\u001b[0m\u001b[0;34m,\u001b[0m \u001b[0;34m*\u001b[0m\u001b[0margs\u001b[0m\u001b[0;34m,\u001b[0m \u001b[0;34m**\u001b[0m\u001b[0mkwargs\u001b[0m\u001b[0;34m)\u001b[0m\u001b[0;34m\u001b[0m\u001b[0;34m\u001b[0m\u001b[0m\n\u001b[0m\u001b[1;32m    140\u001b[0m             \u001b[0;32mif\u001b[0m \u001b[0misinstance\u001b[0m\u001b[0;34m(\u001b[0m\u001b[0mresult_pipe\u001b[0m\u001b[0;34m,\u001b[0m \u001b[0mIterDataPipe\u001b[0m\u001b[0;34m)\u001b[0m\u001b[0;34m:\u001b[0m\u001b[0;34m\u001b[0m\u001b[0;34m\u001b[0m\u001b[0m\n\u001b[1;32m    141\u001b[0m                 \u001b[0;32mif\u001b[0m \u001b[0menable_df_api_tracing\u001b[0m \u001b[0;32mor\u001b[0m \u001b[0misinstance\u001b[0m\u001b[0;34m(\u001b[0m\u001b[0msource_dp\u001b[0m\u001b[0;34m,\u001b[0m \u001b[0mDFIterDataPipe\u001b[0m\u001b[0;34m)\u001b[0m\u001b[0;34m:\u001b[0m\u001b[0;34m\u001b[0m\u001b[0;34m\u001b[0m\u001b[0m\n",
      "\u001b[0;31mTypeError\u001b[0m: __new__() missing 1 required positional argument: 'num_instances'"
     ]
    }
   ],
   "source": [
    "#|eval:false\n",
    "# Setup Loggers\n",
    "logger_base = ProgressBarLogger(epoch_on_pipe=EpocherCollector,\n",
    "                 batch_on_pipe=BatchCollector)\n",
    "\n",
    "# Setup up the core NN\n",
    "torch.manual_seed(0)\n",
    "\n",
    "actor = Actor(3,1)\n",
    "critic = Critic(3,1)\n",
    "\n",
    "# Setup the Agent\n",
    "agent = DDPGAgent(actor,[logger_base],max_steps=10000)\n",
    "\n",
    "# Setup the DataBlock\n",
    "block = DataBlock(\n",
    "    GymTransformBlock(agent=agent,nsteps=2,nskips=2,firstlast=True), # We basically merge 2 steps into 1 and skip. \n",
    "    (GymTransformBlock(agent=agent,nsteps=2,nskips=2,firstlast=True,n=100,include_images=True),VSCodeTransformBlock())\n",
    ")\n",
    "dls = L(block.dataloaders(['Pendulum-v1']*1))\n",
    "# Setup the Learner\n",
    "learner = DDPGLearner(action,critic,dls,logger_bases=[logger_base],\n",
    "                      bs=128,max_sz=20_000,nsteps=2,lr=0.001,\n",
    "                      batches=1000)\n",
    "learner.fit(1)\n",
    "# learner.fit(10)"
   ]
  },
  {
   "cell_type": "code",
   "execution_count": null,
   "id": "current-pilot",
   "metadata": {},
   "outputs": [],
   "source": [
    "#|hide\n",
    "#|eval: false\n",
    "from fastcore.imports import in_colab\n",
    "\n",
    "# Since colab still requires tornado<6, we don't want to import nbdev if we don't have to\n",
    "if not in_colab():\n",
    "    from nbdev import nbdev_export\n",
    "    nbdev_export()"
   ]
  }
 ],
 "metadata": {
  "kernelspec": {
   "display_name": "Python 3.7.11 ('base')",
   "language": "python",
   "name": "python3"
  }
 },
 "nbformat": 4,
 "nbformat_minor": 5
}
