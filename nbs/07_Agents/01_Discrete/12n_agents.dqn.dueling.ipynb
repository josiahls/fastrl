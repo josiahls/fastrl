{
 "cells": [
  {
   "cell_type": "code",
   "execution_count": null,
   "id": "durable-dialogue",
   "metadata": {},
   "outputs": [],
   "source": [
    "#|hide\n",
    "from fastrl.test_utils import initialize_notebook\n",
    "initialize_notebook()"
   ]
  },
  {
   "cell_type": "code",
   "execution_count": null,
   "id": "offshore-stuart",
   "metadata": {},
   "outputs": [],
   "source": [
    "#|default_exp agents.dqn.dueling"
   ]
  },
  {
   "cell_type": "code",
   "execution_count": null,
   "id": "assisted-contract",
   "metadata": {},
   "outputs": [],
   "source": [
    "#|export\n",
    "# Python native modules\n",
    "# Third party libs\n",
    "import torch\n",
    "from torch import nn\n",
    "# Local modules\n",
    "from fastrl.agents.dqn.basic import (\n",
    "    DQN,\n",
    "    DQNAgent\n",
    ")\n",
    "from fastrl.agents.dqn.target import DQNTargetLearner"
   ]
  },
  {
   "cell_type": "markdown",
   "id": "lesser-innocent",
   "metadata": {},
   "source": [
    "# DQN Dueling\n",
    "> DQN using a split head for comparing the davantage of different actions"
   ]
  },
  {
   "cell_type": "markdown",
   "id": "30c98be0-6288-443a-b4ab-9390fbe3081c",
   "metadata": {},
   "source": [
    "\n",
    "\n",
    "## Training DataPipes"
   ]
  },
  {
   "cell_type": "code",
   "execution_count": null,
   "id": "d921085e-7d53-40ac-9b37-56a31b15d47c",
   "metadata": {},
   "outputs": [],
   "source": [
    "#|export\n",
    "class DuelingHead(nn.Module):\n",
    "    def __init__(\n",
    "            self,\n",
    "            hidden: int, # Input into the DuelingHead, likely a hidden layer input\n",
    "            n_actions: int, # Number/dim of actions to output\n",
    "            lin_cls = nn.Linear\n",
    "        ):\n",
    "        super().__init__()\n",
    "        self.val = lin_cls(hidden,1)\n",
    "        self.adv = lin_cls(hidden,n_actions)\n",
    "\n",
    "    def forward(self,xi):\n",
    "        val,adv = self.val(xi),self.adv(xi)\n",
    "        xi = val.expand_as(adv)+(adv-adv.mean()).squeeze(0)\n",
    "        return xi"
   ]
  },
  {
   "cell_type": "markdown",
   "id": "2b8f9ed8-fb05-40a1-ac0d-d4cafee8fa07",
   "metadata": {},
   "source": [
    "Try training with basic defaults..."
   ]
  },
  {
   "cell_type": "code",
   "execution_count": null,
   "id": "56acb9ff",
   "metadata": {},
   "outputs": [],
   "source": [
    "from fastrl.envs.gym import GymDataPipe\n",
    "from fastrl.dataloading.core import dataloaders"
   ]
  },
  {
   "cell_type": "code",
   "execution_count": null,
   "id": "63d9b481-5998-472a-a2df-18d79bf07ae2",
   "metadata": {},
   "outputs": [],
   "source": [
    "#|eval:false\n",
    "# Setup up the core NN\n",
    "torch.manual_seed(0)\n",
    "model = DQN(4,2,head_layer=DuelingHead)\n",
    "# Setup the Agent\n",
    "model.train()\n",
    "agent = DQNAgent(model,do_logging=True,min_epsilon=0.02,max_epsilon=1,max_steps=5000)\n",
    "# Setup the Dataloaders\n",
    "params = dict(\n",
    "    source=['CartPole-v1']*1,\n",
    "    agent=agent,\n",
    "    nsteps=2,\n",
    "    nskips=2,\n",
    "    firstlast=True\n",
    ")\n",
    "dls = dataloaders((GymDataPipe(**params),GymDataPipe(**params,include_images=True).unbatch()))\n",
    "# Setup the Learner\n",
    "learner = DQNTargetLearner(\n",
    "    model,\n",
    "    dls,\n",
    "    bs=128,\n",
    "    max_sz=100_000,\n",
    "    nsteps=2,\n",
    "    lr=0.01,\n",
    "    batches=1000,\n",
    "    target_sync=300\n",
    ")\n",
    "learner.fit(7)"
   ]
  },
  {
   "cell_type": "code",
   "execution_count": null,
   "id": "cf3c74e6",
   "metadata": {},
   "outputs": [],
   "source": [
    "#|eval:false\n",
    "learner.validate()"
   ]
  },
  {
   "cell_type": "code",
   "execution_count": null,
   "id": "current-pilot",
   "metadata": {},
   "outputs": [],
   "source": [
    "#|hide\n",
    "#|eval: false\n",
    "!nbdev_export"
   ]
  },
  {
   "cell_type": "code",
   "execution_count": null,
   "id": "ab3d3626-1702-4f22-ae15-bb93a75bec68",
   "metadata": {},
   "outputs": [],
   "source": []
  }
 ],
 "metadata": {
  "kernelspec": {
   "display_name": "python3",
   "language": "python",
   "name": "python3"
  }
 },
 "nbformat": 4,
 "nbformat_minor": 5
}
