{
 "cells": [
  {
   "cell_type": "code",
   "execution_count": null,
   "id": "durable-dialogue",
   "metadata": {},
   "outputs": [],
   "source": [
    "#|hide\n",
    "#|eval: false\n",
    "! [ -e /content ] && pip install -Uqq fastrl['dev'] pyvirtualdisplay && \\\n",
    "                     apt-get install -y xvfb python-opengl > /dev/null 2>&1 \n",
    "# NOTE: IF YOU SEE VERSION ERRORS, IT IS SAFE TO IGNORE THEM. COLAB IS BEHIND IN SOME OF THE PACKAGE VERSIONS"
   ]
  },
  {
   "cell_type": "code",
   "execution_count": null,
   "id": "viral-cambridge",
   "metadata": {},
   "outputs": [],
   "source": [
    "#|hide\n",
    "#|eval: false\n",
    "from fastcore.imports import in_colab\n",
    "# Since colab still requires tornado<6, we don't want to import nbdev if we don't have to\n",
    "if not in_colab():\n",
    "    from nbdev.showdoc import *\n",
    "    from nbdev.imports import *\n",
    "    if not os.environ.get(\"IN_TEST\", None):\n",
    "        assert IN_NOTEBOOK\n",
    "        assert not IN_COLAB\n",
    "        assert IN_IPYTHON\n",
    "else:\n",
    "    # Virutual display is needed for colab\n",
    "    from pyvirtualdisplay import Display\n",
    "    display = Display(visible=0, size=(400, 300))\n",
    "    display.start()"
   ]
  },
  {
   "cell_type": "code",
   "execution_count": null,
   "id": "offshore-stuart",
   "metadata": {},
   "outputs": [],
   "source": [
    "#|default_exp agents.discrete"
   ]
  },
  {
   "cell_type": "code",
   "execution_count": null,
   "id": "assisted-contract",
   "metadata": {},
   "outputs": [],
   "source": [
    "#|export\n",
    "# Python native modules\n",
    "import os\n",
    "# Third party libs\n",
    "from fastcore.all import *\n",
    "import torchdata.datapipes as dp\n",
    "import torch\n",
    "from torch.nn import *\n",
    "import torch.nn.functional as F\n",
    "from torchdata.dataloader2.graph import find_dps,traverse\n",
    "import numpy as np\n",
    "# Local modules\n",
    "from fastrl.core import *\n",
    "from fastrl.pipes.core import *\n",
    "from fastrl.agents.core import *\n",
    "from fastrl.loggers.core import *\n",
    "from fastrl.torch_core import *"
   ]
  },
  {
   "cell_type": "markdown",
   "id": "lesser-innocent",
   "metadata": {},
   "source": [
    "# Agent Discrete\n",
    "> DataPipes used by Agent operating in the Discrete action space."
   ]
  },
  {
   "cell_type": "code",
   "execution_count": null,
   "id": "3152c0f7-7a61-4291-9421-0f5b8a38e020",
   "metadata": {},
   "outputs": [],
   "source": [
    "#|export\n",
    "class ArgMaxer(dp.iter.IterDataPipe):\n",
    "    debug=False\n",
    "    \n",
    "    \"Given input `Tensor` from `source_datapipe` returns a tensor of same shape with argmax set to 1.\"\n",
    "    def __init__(self,source_datapipe,axis=1,only_idx=False): \n",
    "        self.source_datapipe = source_datapipe\n",
    "        self.axis = axis\n",
    "        self.only_idx = only_idx\n",
    "        \n",
    "    def debug_display(self,step,idx):\n",
    "        print(f'Step: {step}\\n{idx}')\n",
    "    \n",
    "    def __iter__(self) -> torch.LongTensor:\n",
    "        for step in self.source_datapipe:\n",
    "            if not issubclass(step.__class__,torch.Tensor):\n",
    "                raise Exception(f'Expected Tensor to take the argmax, got {type(step)}\\n{step}')\n",
    "            # Might want to support simple tuples also depending on if we are processing multiple fields.\n",
    "            idx = torch.argmax(step,axis=self.axis).reshape(-1,1)\n",
    "            if self.only_idx: \n",
    "                yield idx.long()\n",
    "                continue\n",
    "            step[:] = 0\n",
    "            if self.debug: self.debug_display(step,idx)\n",
    "            step.scatter_(1,idx,1)\n",
    "            yield step.long()\n",
    "            "
   ]
  },
  {
   "cell_type": "code",
   "execution_count": null,
   "id": "23a2465b-52b2-4e94-b3d7-10e88f811595",
   "metadata": {},
   "outputs": [],
   "source": [
    "\n",
    "\n",
    "\n",
    "# class DQN(Module):\n",
    "#     def __init__(self,state_sz:int,action_sz:int,hidden=512):\n",
    "#         self.layers=Sequential(\n",
    "#             Linear(state_sz,hidden),\n",
    "#             ReLU(),\n",
    "#             Linear(hidden,action_sz),\n",
    "#         )\n",
    "#     def forward(self,x): return self.layers(x)\n"
   ]
  },
  {
   "cell_type": "code",
   "execution_count": null,
   "id": "aea5eb58",
   "metadata": {},
   "outputs": [],
   "source": [
    "from fastrl.agents.dqn.basic import DQN"
   ]
  },
  {
   "cell_type": "code",
   "execution_count": null,
   "id": "29e168ec-3d2b-4379-ba3e-dd948199db5f",
   "metadata": {},
   "outputs": [
    {
     "name": "stdout",
     "output_type": "stream",
     "text": [
      "tensor([[1, 0]])\n"
     ]
    },
    {
     "data": {
      "text/plain": [
       "{140047797327504: (AgentHead,\n",
       "  {140047624286480: (ArgMaxer,\n",
       "    {140047623235216: (SimpleModelRunner,\n",
       "      {140047623536912: (StepFieldSelector,\n",
       "        {140047623234960: (AgentBase, {})}),\n",
       "       140047623234960: (AgentBase, {})})}),\n",
       "   140047623234960: (AgentBase, {})})}"
      ]
     },
     "execution_count": null,
     "metadata": {},
     "output_type": "execute_result"
    }
   ],
   "source": [
    "# from fastrl.agents.dqn.basic import DQN\n",
    "# Setup up the core NN\n",
    "torch.manual_seed(0)\n",
    "model = DQN(4,2)\n",
    "# Setup the agent\n",
    "agent = AgentBase(model)\n",
    "agent = StepFieldSelector(agent,field='state')\n",
    "agent = SimpleModelRunner(agent)\n",
    "agent = ArgMaxer(agent)\n",
    "agent = AgentHead(agent)\n",
    "\n",
    "for action in agent([SimpleStep.random(state=tensor([[1.,2.,3.,4.]]))]):\n",
    "    print(action)\n",
    "\n",
    "traverse(agent)"
   ]
  },
  {
   "cell_type": "code",
   "execution_count": null,
   "id": "27101a88-b3c1-4a0b-b948-fe7c2800ec2b",
   "metadata": {},
   "outputs": [],
   "source": [
    "#|export\n",
    "class EpsilonSelector(dp.iter.IterDataPipe):\n",
    "    debug=False\n",
    "    \"Given input `Tensor` from `source_datapipe`.\"\n",
    "    def __init__(self,\n",
    "            source_datapipe, # a datapipe whose next(source_datapipe) -> `Tensor` \n",
    "            min_epsilon:float=0.2, # The minimum epsilon to drop to\n",
    "            # The max/starting epsilon if `epsilon` is None and used for calculating epislon decrease speed.\n",
    "            max_epsilon:float=1, \n",
    "            # Determines how fast the episilon should drop to `min_epsilon`. This should be the number\n",
    "            # of steps that the agent was run through.\n",
    "            max_steps:int=100,\n",
    "            # The starting epsilon\n",
    "            epsilon:float=None,\n",
    "            # Based on the `base_agent.model.training`, by default no decrement or step tracking will\n",
    "            # occur during validation steps.\n",
    "            decrement_on_val:bool=False,\n",
    "            # Based on the `base_agent.model.training`, by default random actions will not be attempted\n",
    "            select_on_val:bool=False,\n",
    "            # Also return the mask that, where True, the action should be randomly selected.\n",
    "            ret_mask:bool=False,\n",
    "            # The device to create the masks one\n",
    "            device='cpu'\n",
    "        ): \n",
    "        self.source_datapipe = source_datapipe\n",
    "        self.min_epsilon = min_epsilon\n",
    "        self.max_epsilon = max_epsilon\n",
    "        self.max_steps = max_steps\n",
    "        self.epsilon = epsilon\n",
    "        self.decrement_on_val = decrement_on_val\n",
    "        self.select_on_val = select_on_val\n",
    "        self.ret_mask = ret_mask\n",
    "        self.agent_base = find_dp(traverse(self.source_datapipe,only_datapipe=True),AgentBase)\n",
    "        self.step = 0\n",
    "        self.device = torch.device(device)\n",
    "    \n",
    "    def __iter__(self):\n",
    "        for action in self.source_datapipe:\n",
    "            # TODO: Support tuples of actions also\n",
    "            if not issubclass(action.__class__,torch.Tensor):\n",
    "                raise Exception(f'Expected Tensor, got {type(action)}\\n{action}')\n",
    "            if action.dtype!=torch.int64:\n",
    "                raise ValueError(f'Expected Tensor of dtype int64, got: {action.dtype} from {self.source_datapipe}')\n",
    "                \n",
    "            if self.agent_base.model.training or self.decrement_on_val:\n",
    "                self.step+=1\n",
    "                \n",
    "            self.epsilon = max(self.min_epsilon,self.max_epsilon-self.step/self.max_steps)\n",
    "            # Add a batch dim if missing\n",
    "            if len(action.shape)==1: action.unsqueeze_(0)\n",
    "            mask = None\n",
    "            if self.agent_base.model.training or self.select_on_val:\n",
    "                # Given N(action.shape[0]) actions, select the ones we want to randomly assign... \n",
    "                mask = torch.rand(action.shape[0],).to(self.device)<self.epsilon\n",
    "                # Get random actions as their indexes\n",
    "                rand_action_idxs = torch.LongTensor(int(mask.sum().long()),).to(self.device).random_(action.shape[1])\n",
    "                # If the input action is [[0,1],[1,0]] and...\n",
    "                # If mask is [True,False] and...\n",
    "                # if rand_action_idxs is [0]\n",
    "                # the action[mask] will have [[1,0]] assigned to it resulting in... \n",
    "                # an action with [[1,0],[1,0]]\n",
    "                # print(action.shape[1])\n",
    "                if self.debug: print(f'Mask: {mask}\\nRandom Actions: {rand_action_idxs}\\nPre-random Actions: {action}')\n",
    "                action[mask] = F.one_hot(rand_action_idxs,action.shape[1])\n",
    "            \n",
    "            yield ((action,mask) if self.ret_mask else action)"
   ]
  },
  {
   "cell_type": "markdown",
   "id": "60b125c9-6b85-4db6-9ee2-3a0654b19555",
   "metadata": {},
   "source": [
    "Check that when `min_epsilon=1`, that the actions have 100% likihood of randomness applied \n",
    "(even though some might not change due to the random action matching the chosen action). Check that this \n",
    "works on a large batch of `200 steps`..."
   ]
  },
  {
   "cell_type": "code",
   "execution_count": null,
   "id": "069bdbd7-02c7-4efe-aeac-bbc1cfdf3c39",
   "metadata": {},
   "outputs": [
    {
     "data": {
      "text/plain": [
       "{140047623236880: (AgentHead,\n",
       "  {140047623235856: (EpsilonSelector,\n",
       "    {140047623234448: (ArgMaxer,\n",
       "      {140047623234512: (SimpleModelRunner,\n",
       "        {140047623234704: (StepFieldSelector,\n",
       "          {140047623237328: (AgentBase, {})}),\n",
       "         140047623237328: (AgentBase, {})})}),\n",
       "     140047623237328: (AgentBase, {})}),\n",
       "   140047623237328: (AgentBase, {})})}"
      ]
     },
     "execution_count": null,
     "metadata": {},
     "output_type": "execute_result"
    }
   ],
   "source": [
    "agent = AgentBase(model)\n",
    "agent = StepFieldSelector(agent,field='state')\n",
    "agent = SimpleModelRunner(agent)\n",
    "agent = ArgMaxer(agent)\n",
    "selector = EpsilonSelector(agent,min_epsilon=1,ret_mask=True)\n",
    "agent = AgentHead(selector)\n",
    "\n",
    "for action,mask in agent([SimpleStep.random(state=tensor([[1.,2.,3.,4.]]*200))]):\n",
    "    test_eq(mask.sum(),200)\n",
    "    test_ne(action.sum(0)[0],200) # Only some of the actions should 1\n",
    "    test_ne(action.sum(0)[1],0) # Only some of the actions should be 0\n",
    "    test_eq(selector.epsilon,1)\n",
    "    test_eq(selector.step,1)\n",
    "\n",
    "traverse(agent)"
   ]
  },
  {
   "cell_type": "markdown",
   "id": "9160217f-3cf3-4c3c-9835-2aeba3ac5767",
   "metadata": {},
   "source": [
    "Check that when `min_epsilon=1`, that the actions have 100% likihood of randomness applied \n",
    "(even though some might not change due to the random action matching the chosen action). Check that this \n",
    "works on single batches over `200 steps`..."
   ]
  },
  {
   "cell_type": "code",
   "execution_count": null,
   "id": "229b348f-55cd-422b-965e-0963338ed281",
   "metadata": {},
   "outputs": [],
   "source": [
    "ArgMaxer.debug=False"
   ]
  },
  {
   "cell_type": "code",
   "execution_count": null,
   "id": "69b41eb2-f898-4d0b-8cef-7b736020e7a1",
   "metadata": {},
   "outputs": [
    {
     "data": {
      "text/plain": [
       "{140047623595664: (AgentHead,\n",
       "  {140047623595216: (EpsilonSelector,\n",
       "    {140047623594704: (ArgMaxer,\n",
       "      {140047623595728: (SimpleModelRunner,\n",
       "        {140047623597712: (StepFieldSelector,\n",
       "          {140047623594896: (AgentBase, {})}),\n",
       "         140047623594896: (AgentBase, {})})}),\n",
       "     140047623594896: (AgentBase, {})}),\n",
       "   140047623594896: (AgentBase, {})})}"
      ]
     },
     "execution_count": null,
     "metadata": {},
     "output_type": "execute_result"
    }
   ],
   "source": [
    "agent = AgentBase(model)\n",
    "agent = StepFieldSelector(agent,field='state')\n",
    "agent = SimpleModelRunner(agent)\n",
    "agent = ArgMaxer(agent,axis=1)\n",
    "selector = EpsilonSelector(agent,min_epsilon=1,ret_mask=True)\n",
    "agent = AgentHead(selector)\n",
    "\n",
    "actions = None\n",
    "for i in range(200):\n",
    "    for action,mask in agent([SimpleStep.random(state=tensor([[1.,2.,3.,4.]]))]):\n",
    "        test_eq(mask.sum(),1)\n",
    "        if actions is None: actions = action\n",
    "        else:               actions = torch.vstack((actions,action))\n",
    "test_ne(actions.sum(0)[0],200) # Only some of the actions should 1\n",
    "test_ne(actions.sum(0)[1],0) # Only some of the actions should be 0\n",
    "test_eq(selector.epsilon,1)\n",
    "test_eq(selector.step,200)\n",
    "traverse(agent)"
   ]
  },
  {
   "cell_type": "markdown",
   "id": "fcef0ced-d978-43ef-9310-87a8cbf73a6e",
   "metadata": {},
   "source": [
    "Check that when `min_epsilon=0 and max_epsilon=0`, that the actions have 0% likihood of randomness applied. Check that this \n",
    "works on a large batch of `200 steps`..."
   ]
  },
  {
   "cell_type": "code",
   "execution_count": null,
   "id": "454bea33-c7d3-45ed-a371-e204123ddde2",
   "metadata": {},
   "outputs": [
    {
     "data": {
      "text/plain": [
       "{140047796955600: (AgentHead,\n",
       "  {140047796956048: (EpsilonSelector,\n",
       "    {140047796954256: (ArgMaxer,\n",
       "      {140047796956688: (SimpleModelRunner,\n",
       "        {140047796956496: (StepFieldSelector,\n",
       "          {140047796954896: (AgentBase, {})}),\n",
       "         140047796954896: (AgentBase, {})})}),\n",
       "     140047796954896: (AgentBase, {})}),\n",
       "   140047796954896: (AgentBase, {})})}"
      ]
     },
     "execution_count": null,
     "metadata": {},
     "output_type": "execute_result"
    }
   ],
   "source": [
    "agent = AgentBase(model)\n",
    "agent = StepFieldSelector(agent,field='state')\n",
    "agent = SimpleModelRunner(agent)\n",
    "agent = ArgMaxer(agent)\n",
    "selector = EpsilonSelector(agent,min_epsilon=0,max_epsilon=0,ret_mask=True)\n",
    "agent = AgentHead(selector)\n",
    "\n",
    "for action,mask in agent([SimpleStep.random(state=tensor([[1.,2.,3.,4.]]*200))]):\n",
    "    test_eq(mask.sum(),0)\n",
    "    test_eq(action.sum(0)[0],200) # All the \"left\" actions should be 1\n",
    "    test_eq(action.sum(0)[1],0) # All the \"right\" actions should be 0\n",
    "    test_eq(selector.epsilon,0)\n",
    "    test_eq(selector.step,1)\n",
    "traverse(agent)"
   ]
  },
  {
   "cell_type": "markdown",
   "id": "17cff176-a71b-4ceb-b826-977d910fb851",
   "metadata": {},
   "source": [
    "Check that when `min_epsilon=0 and max_epsilon=0`, that the actions have 0% likihood of randomness applied. Check that this \n",
    "works on single batches over `200 steps`..."
   ]
  },
  {
   "cell_type": "code",
   "execution_count": null,
   "id": "6cd04ef8-280d-459d-9151-7ab252f541ba",
   "metadata": {},
   "outputs": [
    {
     "data": {
      "text/plain": [
       "{140047799059920: (AgentHead,\n",
       "  {140047623596816: (EpsilonSelector,\n",
       "    {140047623597008: (ArgMaxer,\n",
       "      {140047623595024: (SimpleModelRunner,\n",
       "        {140047623594320: (StepFieldSelector,\n",
       "          {140047623597328: (AgentBase, {})}),\n",
       "         140047623597328: (AgentBase, {})})}),\n",
       "     140047623597328: (AgentBase, {})}),\n",
       "   140047623597328: (AgentBase, {})})}"
      ]
     },
     "execution_count": null,
     "metadata": {},
     "output_type": "execute_result"
    }
   ],
   "source": [
    "agent = AgentBase(model)\n",
    "agent = StepFieldSelector(agent,field='state')\n",
    "agent = SimpleModelRunner(agent)\n",
    "agent = ArgMaxer(agent)\n",
    "selector = EpsilonSelector(agent,min_epsilon=0,max_epsilon=0,ret_mask=True)\n",
    "agent = AgentHead(selector)\n",
    "\n",
    "actions = None\n",
    "for i in range(200):\n",
    "    for action,mask in agent([SimpleStep.random(state=tensor([[1.,2.,3.,4.]]))]):\n",
    "        test_eq(mask.sum(),0)\n",
    "        if actions is None: actions = action\n",
    "        else:               actions = torch.vstack((actions,action))\n",
    "test_eq(actions.sum(0)[0],200) # All the \"left\" actions should be 1\n",
    "test_eq(actions.sum(0)[1],0) # All the \"right\" actions should be 0\n",
    "test_eq(selector.epsilon,0)\n",
    "test_eq(selector.step,200)\n",
    "traverse(agent)"
   ]
  },
  {
   "cell_type": "markdown",
   "id": "f562a997-ddc6-440f-879c-562118c42f67",
   "metadata": {},
   "source": [
    "Check that when `min_epsilon=0 and max_epsilon=1`, the actions should become less random\n",
    "as the steps go on. Check that this works on a large batch of `200 steps`...\n",
    "\n",
    "`epislon` should be 0 at the end of this..."
   ]
  },
  {
   "cell_type": "code",
   "execution_count": null,
   "id": "e6616859-cb89-4c98-a30a-82f1427ee919",
   "metadata": {},
   "outputs": [
    {
     "data": {
      "text/plain": [
       "{140047622145488: (AgentHead,\n",
       "  {140047622147472: (EpsilonSelector,\n",
       "    {140047622146256: (ArgMaxer,\n",
       "      {140047622146128: (SimpleModelRunner,\n",
       "        {140047622147600: (StepFieldSelector,\n",
       "          {140047622146192: (AgentBase, {})}),\n",
       "         140047622146192: (AgentBase, {})})}),\n",
       "     140047622146192: (AgentBase, {})}),\n",
       "   140047622146192: (AgentBase, {})})}"
      ]
     },
     "execution_count": null,
     "metadata": {},
     "output_type": "execute_result"
    }
   ],
   "source": [
    "agent = AgentBase(model)\n",
    "agent = StepFieldSelector(agent,field='state')\n",
    "agent = SimpleModelRunner(agent)\n",
    "agent = ArgMaxer(agent)\n",
    "selector = EpsilonSelector(agent,min_epsilon=0,max_epsilon=1,max_steps=100,ret_mask=True)\n",
    "agent = AgentHead(selector)\n",
    "\n",
    "actions = None\n",
    "masks = None\n",
    "epsilons = None\n",
    "for i in range(200):\n",
    "    for action,mask in agent([SimpleStep.random(state=tensor([[1.,2.,3.,4.]]*200))]):\n",
    "        if actions is None: actions = action\n",
    "        else:               actions = torch.vstack((actions,action))\n",
    "        if masks is None: masks = mask\n",
    "        else:             masks = torch.hstack((masks,mask))\n",
    "        if epsilons is None: epsilons = tensor([selector.epsilon])\n",
    "        else:                epsilons = torch.hstack((epsilons,tensor([selector.epsilon])))\n",
    "        \n",
    "test_ne(masks[:((200*200)//2)].sum(),200) # We do not expect this to equal a perfect 200...\n",
    "test_ne(masks[:((200*200)//2)].sum(),0)   # ... but we also dont expect it to be 0\n",
    "assert 1000<masks[:((200*200)//2)].sum()<10_000,\\\n",
    "        \"\"\"We expect this to be somewhere between 1000 and 10,000, generally in the 9000 range since \n",
    "           for 200 steps, we are running 200 inputs\"\"\"\n",
    "test_eq(masks[((200*200)//2):].sum(),0) # We fully expect this to be 0 after the half way point\n",
    "test_ne(actions.sum(0)[0],200) # All the \"left\" generally shouldnt be 1\n",
    "test_ne(actions.sum(0)[1],0) # All the \"right\"  generally shouldnt be 0\n",
    "test_eq(selector.epsilon,0)\n",
    "test_eq(selector.step,200)\n",
    "# Since the max steps are 100, and we go for 200 steps, the first 100 epislon entries shouldnt be 0\n",
    "test_ne(epsilons[:100].sum(),0) \n",
    "# In fact the first 100 should sum up to somewhere between 40 and 50. (expected 49.5)\n",
    "test_eq(40<epsilons[:100].sum()<50,True) \n",
    "# Everything after 100 should be 0\n",
    "test_eq(epsilons[100:].sum(),0)\n",
    "traverse(agent)"
   ]
  },
  {
   "cell_type": "markdown",
   "id": "5fe45e84-d1cd-4ac1-846e-d3542284b4ca",
   "metadata": {},
   "source": [
    "Check that when `min_epsilon=0 and max_epsilon=0`, that the actions have 0% likihood of randomness applied. Check that this \n",
    "works on single batches over `200 steps`..."
   ]
  },
  {
   "cell_type": "code",
   "execution_count": null,
   "id": "421278ed-5c2e-46d4-a068-c5860ef6970e",
   "metadata": {},
   "outputs": [
    {
     "data": {
      "text/plain": [
       "{140047623236112: (AgentHead,\n",
       "  {140047623236496: (EpsilonSelector,\n",
       "    {140047623237136: (ArgMaxer,\n",
       "      {140047623236944: (SimpleModelRunner,\n",
       "        {140047623234128: (StepFieldSelector,\n",
       "          {140047623233616: (AgentBase, {})}),\n",
       "         140047623233616: (AgentBase, {})})}),\n",
       "     140047623233616: (AgentBase, {})}),\n",
       "   140047623233616: (AgentBase, {})})}"
      ]
     },
     "execution_count": null,
     "metadata": {},
     "output_type": "execute_result"
    }
   ],
   "source": [
    "agent = AgentBase(model)\n",
    "agent = StepFieldSelector(agent,field='state')\n",
    "agent = SimpleModelRunner(agent)\n",
    "agent = ArgMaxer(agent)\n",
    "selector = EpsilonSelector(agent,min_epsilon=0,max_epsilon=1,max_steps=100,ret_mask=True)\n",
    "agent = AgentHead(selector)\n",
    "\n",
    "actions = None\n",
    "masks = None\n",
    "epsilons = None\n",
    "for i in range(200):\n",
    "    for action,mask in agent([SimpleStep.random(state=tensor([[1.,2.,3.,4.]]))]):\n",
    "        if actions is None: actions = action\n",
    "        else:               actions = torch.vstack((actions,action))\n",
    "        if masks is None: masks = mask\n",
    "        else:             masks = torch.hstack((masks,mask))\n",
    "        if epsilons is None: epsilons = tensor([selector.epsilon])\n",
    "        else:                epsilons = torch.hstack((epsilons,tensor([selector.epsilon])))\n",
    "        \n",
    "test_ne(masks[:(200//2)].sum(),200) # We do not expect this to equal a perfect 200...\n",
    "test_ne(masks[:(200//2)].sum(),0)   # ... but we also dont expect it to be 0\n",
    "assert 40<masks[:(200//2)].sum()<60,'We expect this to be somewhere between 60, generally in the ~50 range'\n",
    "test_eq(masks[(200//2):].sum(),0) # We fully expect this to be 0 after the half way point\n",
    "test_ne(actions.sum(0)[0],200) # All the \"left\" generally shouldnt be 1\n",
    "test_ne(actions.sum(0)[1],0) # All the \"right\"  generally shouldnt be 0\n",
    "test_eq(selector.epsilon,0)\n",
    "test_eq(selector.step,200)\n",
    "# Since the max steps are 100, and we go for 200 steps, the first 100 epislon entries shouldnt be 0\n",
    "test_ne(epsilons[:100].sum(),0) \n",
    "# In fact the first 100 should sum up to somewhere between 40 and 50. (expected 49.5)\n",
    "test_eq(40<epsilons[:100].sum()<50,True) \n",
    "# Everything after 100 should be 0\n",
    "test_eq(epsilons[100:].sum(),0)\n",
    "\n",
    "traverse(agent)"
   ]
  },
  {
   "cell_type": "code",
   "execution_count": null,
   "id": "88894174-853e-4bf3-a1f1-09dc56549e0a",
   "metadata": {},
   "outputs": [],
   "source": [
    "#|export\n",
    "class EpsilonCollector(LogCollector):\n",
    "    header:str='epsilon'\n",
    "    # def __init__(self,\n",
    "    #      source_datapipe, # The parent datapipe, likely the one to collect metrics from\n",
    "    #      logger_bases:List[LoggerBase] # `LoggerBase`s that we want to send metrics to\n",
    "    #     ):\n",
    "    #     self.source_datapipe = source_datapipe\n",
    "    #     self.main_buffers = [o.buffer for o in logger_bases]\n",
    "        \n",
    "    def __iter__(self):\n",
    "        # for q in self.main_buffers: q.append(Record('epsilon',None))\n",
    "        for action in self.source_datapipe:\n",
    "            for q in self.main_buffers: \n",
    "                q.append(Record('epsilon',self.source_datapipe.epsilon))\n",
    "            yield action"
   ]
  },
  {
   "cell_type": "code",
   "execution_count": null,
   "id": "03d931a1-a3d4-48be-8e06-96a7bf4543f7",
   "metadata": {},
   "outputs": [],
   "source": [
    "#|export\n",
    "class PyPrimativeConverter(dp.iter.IterDataPipe):\n",
    "    debug=False\n",
    "    \n",
    "    \"Given input `Tensor` from `source_datapipe` returns a numpy array of same shape with argmax set to 1.\"\n",
    "    def __init__(self,source_datapipe,remove_batch_dim=True): \n",
    "        self.source_datapipe = source_datapipe\n",
    "        self.remove_batch_dim = remove_batch_dim\n",
    "        \n",
    "    def debug_display(self,step): print(f'Step: {step}')\n",
    "    \n",
    "    def __iter__(self) -> Union[float,bool,int]:\n",
    "        for step in self.source_datapipe:\n",
    "            if not issubclass(step.__class__,(np.ndarray)):\n",
    "                raise Exception(f'Expected list or np.ndarray to  convert to python primitive, got {type(step)}\\n{step}')\n",
    "            if self.debug: self.debug_display(step)\n",
    "            \n",
    "            if len(step)>1 or len(step)==0:\n",
    "                raise Exception(f'`step` from {self.source_datapipe} needs to be len 1, not {len(step)}')\n",
    "            else:\n",
    "                step = step[0]\n",
    "                \n",
    "            if np.issubdtype(step.dtype,np.integer):\n",
    "                yield int(step)\n",
    "            elif np.issubdtype(step.dtype,np.floating):\n",
    "                yield float(step)\n",
    "            elif np.issubdtype(step.dtype,np.bool8):\n",
    "                yield bool(step)\n",
    "            else:\n",
    "                raise Exception(f'`step` from {self.source_datapipe} must be one of the 3 python types: bool,int,float, not {step.dtype}')"
   ]
  },
  {
   "cell_type": "code",
   "execution_count": null,
   "id": "b0b07de6-81a8-4bc9-b95b-b5770bfe6dc3",
   "metadata": {},
   "outputs": [
    {
     "data": {
      "text/plain": [
       "(#1) [0.5]"
      ]
     },
     "execution_count": null,
     "metadata": {},
     "output_type": "execute_result"
    }
   ],
   "source": [
    "pipe = PyPrimativeConverter([np.array([0.5])])\n",
    "L(pipe)"
   ]
  },
  {
   "cell_type": "code",
   "execution_count": null,
   "id": "20657c07-df48-437f-a8ab-17fc19e82bb1",
   "metadata": {},
   "outputs": [
    {
     "data": {
      "text/plain": [
       "(#1) [1]"
      ]
     },
     "execution_count": null,
     "metadata": {},
     "output_type": "execute_result"
    }
   ],
   "source": [
    "pipe = PyPrimativeConverter([np.array([1])])\n",
    "L(pipe)"
   ]
  },
  {
   "cell_type": "code",
   "execution_count": null,
   "id": "649a84bd-3ffc-4dba-9a6a-e933b1d5da35",
   "metadata": {},
   "outputs": [
    {
     "data": {
      "text/plain": [
       "(#1) [True]"
      ]
     },
     "execution_count": null,
     "metadata": {},
     "output_type": "execute_result"
    }
   ],
   "source": [
    "pipe = PyPrimativeConverter([np.array([True])])\n",
    "L(pipe)"
   ]
  },
  {
   "cell_type": "code",
   "execution_count": null,
   "id": "7f714a78-59f7-49aa-9b3e-d0990a918ac4",
   "metadata": {},
   "outputs": [],
   "source": [
    "from multiprocessing import get_start_method"
   ]
  },
  {
   "cell_type": "code",
   "execution_count": null,
   "id": "fc22888e-18e4-4791-bcbb-d8748fad482f",
   "metadata": {},
   "outputs": [
    {
     "data": {
      "text/plain": [
       "'fork'"
      ]
     },
     "execution_count": null,
     "metadata": {},
     "output_type": "execute_result"
    }
   ],
   "source": [
    "get_start_method()"
   ]
  },
  {
   "cell_type": "code",
   "execution_count": null,
   "id": "ff35a68b-13c0-4fb3-b5c8-0b6cd041bf17",
   "metadata": {},
   "outputs": [],
   "source": [
    "logger_base = ProgressBarLogger()"
   ]
  },
  {
   "cell_type": "code",
   "execution_count": null,
   "id": "815906ac-41f1-4c5b-9e84-ec6c33732210",
   "metadata": {},
   "outputs": [
    {
     "data": {
      "text/plain": [
       "{140047796619344: (ProgressBarLogger, {})}"
      ]
     },
     "execution_count": null,
     "metadata": {},
     "output_type": "execute_result"
    }
   ],
   "source": [
    "traverse(logger_base)"
   ]
  },
  {
   "cell_type": "code",
   "execution_count": null,
   "id": "ce24a852-1a53-493b-87a6-8f51ac4a0abb",
   "metadata": {},
   "outputs": [
    {
     "data": {
      "text/plain": [
       "{140047622144464: (AgentHead,\n",
       "  {140047622144656: (PyPrimativeConverter,\n",
       "    {140047622145360: (NumpyConverter,\n",
       "      {140047622144208: (ArgMaxer,\n",
       "        {140047622147152: (EpsilonCollector,\n",
       "          {140047622147088: (EpsilonSelector,\n",
       "            {140047622147728: (ArgMaxer,\n",
       "              {140047622811472: (SimpleModelRunner,\n",
       "                {140047796723664: (StepFieldSelector,\n",
       "                  {140047796643280: (LoggerBasePassThrough,\n",
       "                    {140047624034640: (AgentBase, {}),\n",
       "                     140047796619344: (ProgressBarLogger, {})})}),\n",
       "                 140047624034640: (AgentBase, {})})}),\n",
       "             140047624034640: (AgentBase, {})})})})})}),\n",
       "   140047624034640: (AgentBase, {})})}"
      ]
     },
     "execution_count": null,
     "metadata": {},
     "output_type": "execute_result"
    }
   ],
   "source": [
    "# Setup up the core NN\n",
    "torch.manual_seed(0)\n",
    "model = DQN(4,2)\n",
    "\n",
    "agent = AgentBase(model)\n",
    "agent = LoggerBasePassThrough(agent,[logger_base])\n",
    "agent = StepFieldSelector(agent,field='state')\n",
    "agent = SimpleModelRunner(agent)\n",
    "agent = ArgMaxer(agent)\n",
    "selector = EpsilonSelector(agent,min_epsilon=0,max_epsilon=1,max_steps=100)\n",
    "agent = EpsilonCollector(selector)\n",
    "agent = ArgMaxer(agent,only_idx=True)\n",
    "agent = NumpyConverter(agent)\n",
    "agent = PyPrimativeConverter(agent)\n",
    "agent = AgentHead(agent)\n",
    "\n",
    "traverse(agent)"
   ]
  },
  {
   "cell_type": "code",
   "execution_count": null,
   "id": "cd8b4c5e-ff38-48e9-a4bd-2ad8a3baa736",
   "metadata": {},
   "outputs": [],
   "source": [
    "for action in agent([SimpleStep.random(state=tensor([[1.,2.,3.,4.]]))]*800):\n",
    "    pass # print(action)\n",
    "\n",
    "epsilon_logs = list(logger_base.dequeue())\n",
    "test_eq(len(epsilon_logs),801)"
   ]
  },
  {
   "cell_type": "code",
   "execution_count": null,
   "id": "bfdb78a1-32f8-42e8-a3c4-9ac906d8eaba",
   "metadata": {},
   "outputs": [],
   "source": []
  },
  {
   "cell_type": "code",
   "execution_count": null,
   "id": "current-pilot",
   "metadata": {},
   "outputs": [],
   "source": [
    "#|hide\n",
    "#|eval: false\n",
    "from fastcore.imports import in_colab\n",
    "\n",
    "# Since colab still requires tornado<6, we don't want to import nbdev if we don't have to\n",
    "if not in_colab():\n",
    "    from nbdev import nbdev_export\n",
    "    nbdev_export()"
   ]
  },
  {
   "cell_type": "code",
   "execution_count": null,
   "id": "6f5f7311-f9ea-4a67-b504-427cb509f5d9",
   "metadata": {},
   "outputs": [],
   "source": []
  }
 ],
 "metadata": {
  "kernelspec": {
   "display_name": "python3",
   "language": "python",
   "name": "python3"
  }
 },
 "nbformat": 4,
 "nbformat_minor": 5
}
