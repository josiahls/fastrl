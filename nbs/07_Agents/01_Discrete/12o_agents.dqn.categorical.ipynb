{
 "cells": [
  {
   "cell_type": "code",
   "execution_count": null,
   "id": "durable-dialogue",
   "metadata": {},
   "outputs": [],
   "source": [
    "#|hide\n",
    "#|eval: false\n",
    "! [ -e /content ] && pip install -Uqq fastrl['dev'] pyvirtualdisplay && \\\n",
    "                     apt-get install -y xvfb python-opengl > /dev/null 2>&1 \n",
    "# NOTE: IF YOU SEE VERSION ERRORS, IT IS SAFE TO IGNORE THEM. COLAB IS BEHIND IN SOME OF THE PACKAGE VERSIONS"
   ]
  },
  {
   "cell_type": "code",
   "execution_count": null,
   "id": "bdcc4403",
   "metadata": {},
   "outputs": [],
   "source": []
  },
  {
   "cell_type": "code",
   "execution_count": null,
   "id": "viral-cambridge",
   "metadata": {},
   "outputs": [],
   "source": [
    "#|hide\n",
    "#|eval: false\n",
    "from fastcore.imports import in_colab\n",
    "# Since colab still requires tornado<6, we don't want to import nbdev if we don't have to\n",
    "if not in_colab():\n",
    "    from nbdev.showdoc import *\n",
    "    from nbdev.imports import *\n",
    "    if not os.environ.get(\"IN_TEST\", None):\n",
    "        assert IN_NOTEBOOK\n",
    "        assert not IN_COLAB\n",
    "        assert IN_IPYTHON\n",
    "else:\n",
    "    # Virutual display is needed for colab\n",
    "    from pyvirtualdisplay import Display\n",
    "    display = Display(visible=0, size=(400, 300))\n",
    "    display.start()"
   ]
  },
  {
   "cell_type": "code",
   "execution_count": null,
   "id": "offshore-stuart",
   "metadata": {},
   "outputs": [],
   "source": [
    "#|default_exp agents.dqn.categorical"
   ]
  },
  {
   "cell_type": "code",
   "execution_count": null,
   "id": "assisted-contract",
   "metadata": {},
   "outputs": [],
   "source": [
    "#|export\n",
    "# Python native modules\n",
    "import os\n",
    "from collections import deque\n",
    "from typing import *\n",
    "from copy import copy\n",
    "# Third party libs\n",
    "from fastcore.all import *\n",
    "import torchdata.datapipes as dp\n",
    "from torch.utils.data.dataloader_experimental import DataLoader2\n",
    "from torch.utils.data.datapipes._typing import _DataPipeMeta, _IterDataPipeMeta\n",
    "from torchdata.dataloader2.graph import find_dps,traverse,DataPipe,remove_dp,replace_dp\n",
    "import torch\n",
    "from torch.nn import *\n",
    "import torch.nn.functional as F\n",
    "from torch.optim import *\n",
    "import matplotlib.pyplot as plt\n",
    "import numpy as np\n",
    "# Local modules\n",
    "from fastrl.torch_core import *\n",
    "from fastrl.core import *\n",
    "from fastrl.agents.core import *\n",
    "from fastrl.pipes.core import *\n",
    "from fastrl.data.block import *\n",
    "from fastrl.memory.experience_replay import *\n",
    "from fastrl.agents.core import *\n",
    "from fastrl.agents.discrete import *\n",
    "from fastrl.loggers.core import *\n",
    "from fastrl.loggers.vscode_visualizers import *\n",
    "from fastrl.learner.core import *\n",
    "from fastrl.agents.dqn.basic import *\n",
    "from fastrl.agents.dqn.target import *"
   ]
  },
  {
   "cell_type": "markdown",
   "id": "lesser-innocent",
   "metadata": {},
   "source": [
    "# Categorical DQN\n",
    "> An implimentation of a DQN that uses distributions to represent Q from the paper [A Distributional Perspective on Reinforcement Learning](https://arxiv.org/abs/1707.06887)"
   ]
  },
  {
   "cell_type": "markdown",
   "id": "b45d8044-4a06-48e1-aa09-c8bd43f8b615",
   "metadata": {},
   "source": [
    "The Categorical DQN can be summarized as:\n",
    "    \n",
    "    Instead of action outputs being single Q values, they are instead distributions of `N` size.\n",
    "    \n",
    "We start off with the idea of atoms and supports. A support acts as a mask over the output action\n",
    "distributions. This is illistrated by the equations and the corresponding functions.\n",
    "\n",
    "We start with the equation...\n",
    "\n",
    "$$\n",
    "{\\large\n",
    "Z_{\\theta}(z,a) = z_i \\quad w.p. \\: p_i(x,a):= \\frac{ e^{\\theta_i(x,a)}} {\\sum_j{e^{\\theta_j(x,a)}}} \n",
    "}\n",
    "$$\n",
    "\n",
    "... which shows that the end of our neural net model needs to be squished to be a proper probability.\n",
    "It also defines $z_i$ which is a support we will define very soon.\n",
    "Below is the implimentation of the right side equation for $p_i(x,a)$\n",
    "\n",
    "An important note is that $\\frac{ e^{\\theta_i(x,a)}} {\\sum_j{e^{\\theta_j(x,a)}}} $ is just:\n"
   ]
  },
  {
   "cell_type": "code",
   "execution_count": null,
   "id": "cdb11dbe-fad6-4715-a7e6-d4fe48903376",
   "metadata": {},
   "outputs": [
    {
     "data": {
      "text/plain": [
       "torch.nn.modules.activation.Softmax"
      ]
     },
     "execution_count": null,
     "metadata": {},
     "output_type": "execute_result"
    }
   ],
   "source": [
    "Softmax"
   ]
  },
  {
   "cell_type": "markdown",
   "id": "cb9dcbbb-66c6-439c-af95-4c19104c147d",
   "metadata": {},
   "source": [
    "We pretend that the output of the neural net is of shape `(batch_sz,n_actions,n_atoms)`. In this instance,\n",
    "there is only one action. This implies that $Z_{\\theta}$ is just $z_0$."
   ]
  },
  {
   "cell_type": "code",
   "execution_count": null,
   "id": "1bb2669a-1ebc-42c7-b8ee-90086e9194df",
   "metadata": {},
   "outputs": [
    {
     "data": {
      "text/plain": [
       "[<matplotlib.lines.Line2D>]"
      ]
     },
     "execution_count": null,
     "metadata": {},
     "output_type": "execute_result"
    },
    {
     "data": {
      "image/png": "[encoded data removed]",
      "text/plain": [
       "<Figure size 432x288 with 1 Axes>"
      ]
     },
     "metadata": {
      "needs_background": "light"
     },
     "output_type": "display_data"
    }
   ],
   "source": [
    "out=Softmax(dim=1)(torch.randn(1,51,1))[0] # Action 0\n",
    "plt.plot(out.numpy())"
   ]
  },
  {
   "cell_type": "markdown",
   "id": "22d11e62-bbb4-4d4b-8b8c-62f84df030f2",
   "metadata": {},
   "source": [
    "The next function describes how propabilities are calculated from the neural net output. The equation describes a $z_i$ which\n",
    "is explained by:\n",
    "$$\n",
    "\\{z_i = V_{min} + i\\Delta z : 0 \\leq i < N \\}, \\: \\Delta z := \\frac{V_{max} - V_{min}}{N - 1}\n",
    "$$\n",
    "\n",
    "Where $V_{max}$, $V_{min}$, and $N$ are constants that we define. Note that $N$ is the number of atoms.\n",
    "So what does a $z_i$ look like? We will define this in code below..."
   ]
  },
  {
   "cell_type": "code",
   "execution_count": null,
   "id": "de331a86-565d-450d-8a4c-c361165aede5",
   "metadata": {},
   "outputs": [],
   "source": [
    "#|export\n",
    "def create_support(v_min=-10,v_max=10,n_atoms=51)->Tuple[torch.Tensor,float]:\n",
    "    \"Creates the support and returns the z_delta that was used.\"\n",
    "    z_delta=(v_max-v_min)/(n_atoms-1)\n",
    "    return (torch.Tensor([i*z_delta for i in range(n_atoms)])+v_min,z_delta)"
   ]
  },
  {
   "cell_type": "code",
   "execution_count": null,
   "id": "0bb09134-ac1c-400b-9f57-ccb376210eeb",
   "metadata": {},
   "outputs": [
    {
     "name": "stdout",
     "output_type": "stream",
     "text": [
      "z_delta:  0.4\n"
     ]
    },
    {
     "data": {
      "text/plain": [
       "[<matplotlib.lines.Line2D>]"
      ]
     },
     "execution_count": null,
     "metadata": {},
     "output_type": "execute_result"
    },
    {
     "data": {
      "image/png": "[encoded data removed]",
      "text/plain": [
       "<Figure size 432x288 with 1 Axes>"
      ]
     },
     "metadata": {
      "needs_background": "light"
     },
     "output_type": "display_data"
    }
   ],
   "source": [
    "support_dist,z_delta=create_support()\n",
    "print('z_delta: ',z_delta)\n",
    "plt.plot(support_dist.numpy())"
   ]
  },
  {
   "cell_type": "markdown",
   "id": "6dfc3734-5323-4604-9521-621578a69cd6",
   "metadata": {},
   "source": [
    "This is a single $z_i$ in $Z_{\\theta}$. The number of $z_i$s is equal to the number of actions that the DQN is operating with.\n",
    "\n",
    "> Note: Josiah: Is this always the case? Could there be only $z_0$ and multiple actions?\n",
    "\n",
    "Ok! Hopefully this wasn't too bad to go through. We basically normalized the neural net output to be nicer to deal with, \n",
    "and created/initialized a (bunch) of increasing arrays that we are calling discrete distributions i.e. output from `create_support`.\n",
    "\n",
    "Now for the fun part! We have this giant ass update equation:\n",
    "\n",
    "$$\n",
    "{\\large\n",
    "(\\Phi\\hat{\\mathcal{T}}Z_{\\theta}(x,a))_i = \\sum_{j=0}^{N-1} \\left[ 1 - \\frac{ | \\mathcal{T}z_j |_{V_{min}}^{V_{max}} - z_i }{ \\Delta z } \\right]_0^1 p_j(x^{\\prime},\\pi(x^{\\prime}))\n",
    "}\n",
    "$$\n",
    "Good god... and we also have\n",
    "\n",
    "$$\n",
    "\\hat{\\mathcal{T}}z_j := r + \\gamma z_j\n",
    "$$\n",
    "\n",
    "where, to quote the paper:\n",
    "\n",
    "<center>\n",
    "\"for each atom $z_j$, [and] then distribute its probability $ p_j(x^{\\prime},\\pi(x^{\\prime})) $ to the immediate neighbors of $ \\hat{\\mathcal{T}}z_j $\"\n",
    "</center><br>\n",
    "\n",
    "I highly recommend reading pg6 in the paper for a fuller explaination. I was originally wondering what the difference was between $\\pi$ and simple $\\theta$, which the main difference is that $\\pi$ is a greedy action selection i.e. we run argmax to get the action.\n",
    "\n",
    "This was a lot! Luckily they have a re-formalation in algorithmic form:"
   ]
  },
  {
   "cell_type": "code",
   "execution_count": null,
   "id": "829cc01e-f4a9-4a23-8b8c-7054cb5fceef",
   "metadata": {},
   "outputs": [],
   "source": [
    "def categorical_update(v_min,v_max,n_atoms,support,delta_z,model,reward,gamma,action,next_state):\n",
    "    t_q=(support*Softmax(model(next_state).gather(action))).sum()\n",
    "    a_star=torch.argmax(t_q)\n",
    "    \n",
    "    m=torch.zeros((N,)) # m_i = 0 where i in 1,...,N-1\n",
    "    \n",
    "    for j in range(n_atoms):\n",
    "        # Compute the projection of $ \\hat{\\mathcal{T}}z_j $ onto support $ z_j $\n",
    "        target_z=torch.clamp(reward+gamma*support[:,j],v_min,v_max)\n",
    "        b_j=(target_z-v_min)/delta_z # b_j in [0,N-1]\n",
    "        l=torch.floor(b_j)\n",
    "        u=torch.ceil(b_j)\n",
    "        # Distribute probability of $ \\hat{\\mathcal{T}}z_j $\n",
    "        m[:,l]=m[:,l]+a_star*(u-b)\n",
    "        m[:,u]=m[:,u]+a_star*(b-l)\n",
    "    return # Some cross entropy loss"
   ]
  },
  {
   "cell_type": "markdown",
   "id": "6f73c496-b76d-4cea-875b-5f7227ff38b9",
   "metadata": {},
   "source": [
    "There is a small problem with the above equation. This was a (fairly) literal convertion from `Algorithm 1` in the paper to Python.\n",
    "There are some problems here:<br>\n",
    "- The current setup doesnt handle batches\n",
    "- Some of the variables are a little vague\n",
    "- Does not handle terminal states\n",
    "\n",
    "Lets rename these! We will instead have:<br>\n",
    "$$\n",
    "m\\_i    \\rightarrow projection\\\\\n",
    "a\\_star \\rightarrow next\\_action\\\\\n",
    "b\\_j    \\rightarrow support\\_value\\\\\n",
    "l      \\rightarrow support\\_left\\\\\n",
    "u      \\rightarrow support\\_right\\\\\n",
    "$$\n",
    "\n",
    "So lets revise the problem and pretend that we have a 2 action model, batch size of 8, where the last element has a reward of 0, and where\n",
    "left actions are -1, while right actions are 1."
   ]
  },
  {
   "cell_type": "code",
   "execution_count": null,
   "id": "1edcfaa3-ec9a-48b0-8d12-3ee02557297e",
   "metadata": {},
   "outputs": [],
   "source": [
    "from torch.distributions.normal import Normal"
   ]
  },
  {
   "cell_type": "markdown",
   "id": "f7e4db35-36f1-45c0-982f-b3ed352ab9c7",
   "metadata": {},
   "source": [
    "So for a single action we would have a distribution like this..."
   ]
  },
  {
   "cell_type": "code",
   "execution_count": null,
   "id": "5364c85c-a667-4925-aac2-446176b8b815",
   "metadata": {},
   "outputs": [
    {
     "data": {
      "text/plain": [
       "[<matplotlib.lines.Line2D>]"
      ]
     },
     "execution_count": null,
     "metadata": {},
     "output_type": "execute_result"
    },
    {
     "data": {
      "image/png": "[encoded data removed]",
      "text/plain": [
       "<Figure size 432x288 with 1 Axes>"
      ]
     },
     "metadata": {
      "needs_background": "light"
     },
     "output_type": "display_data"
    }
   ],
   "source": [
    "plt.plot(Normal(0,1).sample((51,)).numpy())"
   ]
  },
  {
   "cell_type": "markdown",
   "id": "6fb81c7c-3ca1-420c-b29d-e354c0d1d120",
   "metadata": {},
   "source": [
    "So since our model has 2 actions that it can pick, we create some distributions for them..."
   ]
  },
  {
   "cell_type": "code",
   "execution_count": null,
   "id": "6b28b1d9-2e96-41cf-b96a-7d3c742e158d",
   "metadata": {},
   "outputs": [
    {
     "data": {
      "text/plain": [
       "(torch.Size([1, 2, 51]), torch.Size([1, 2, 51]))"
      ]
     },
     "execution_count": null,
     "metadata": {},
     "output_type": "execute_result"
    }
   ],
   "source": [
    "dist_left=torch.vstack([Normal(0.5,1).sample((1,51)),Normal(0.5,0.1).sample((1,51))]).unsqueeze(0)\n",
    "dist_right=torch.vstack([Normal(0.5,0.1).sample((1,51)),Normal(0.5,1).sample((1,51))]).unsqueeze(0)\n",
    "(dist_left.shape,dist_right.shape)"
   ]
  },
  {
   "cell_type": "markdown",
   "id": "c6acaefe-0064-4736-bf28-ca5ab20e6c92",
   "metadata": {},
   "source": [
    "...where the $[1, 2, 51]$ is $[batch, action, n\\_atoms]$"
   ]
  },
  {
   "cell_type": "code",
   "execution_count": null,
   "id": "3eb6785b-8deb-4339-814f-48ac5cae0a52",
   "metadata": {},
   "outputs": [
    {
     "data": {
      "text/plain": [
       "torch.Size([8, 2, 51])"
      ]
     },
     "execution_count": null,
     "metadata": {},
     "output_type": "execute_result"
    }
   ],
   "source": [
    "model_out=torch.vstack([copy([dist_left,dist_right][i%2==0]) for i in range(1,9)]).to(device=default_device())\n",
    "(model_out.shape)"
   ]
  },
  {
   "cell_type": "code",
   "execution_count": null,
   "id": "90334790-beae-41f8-9f52-457bcba85493",
   "metadata": {},
   "outputs": [
    {
     "data": {
      "text/plain": [
       "(torch.Size([8, 2]),\n",
       " tensor([[0.1954, 0.8046],\n",
       "         [0.0060, 0.9940],\n",
       "         [0.1954, 0.8046],\n",
       "         [0.0060, 0.9940],\n",
       "         [0.1954, 0.8046],\n",
       "         [0.0060, 0.9940],\n",
       "         [0.1954, 0.8046],\n",
       "         [0.0060, 0.9940]], device='cuda:0'))"
      ]
     },
     "execution_count": null,
     "metadata": {},
     "output_type": "execute_result"
    }
   ],
   "source": [
    "summed_model_out=model_out.sum(dim=2);summed_model_out=Softmax(dim=1)(summed_model_out).to(device=default_device())\n",
    "(summed_model_out.shape,summed_model_out)"
   ]
  },
  {
   "cell_type": "markdown",
   "id": "ee5c6d46-acb9-4096-8132-856c82b54dfc",
   "metadata": {},
   "source": [
    "So when we sum/normalize the distrubtions per batch, per action, we get an output that looks like your typical dqn output...\n",
    "\n",
    "We can also treat this like a regular DQN and do an argmax to get actions like usual..."
   ]
  },
  {
   "cell_type": "code",
   "execution_count": null,
   "id": "f52b8ae0-fb02-4224-8ef8-23126f214bd4",
   "metadata": {},
   "outputs": [
    {
     "data": {
      "text/plain": [
       "tensor([[1],\n",
       "        [1],\n",
       "        [1],\n",
       "        [1],\n",
       "        [1],\n",
       "        [1],\n",
       "        [1],\n",
       "        [1]], device='cuda:0')"
      ]
     },
     "execution_count": null,
     "metadata": {},
     "output_type": "execute_result"
    }
   ],
   "source": [
    "actions=torch.argmax(summed_model_out,dim=1).reshape(-1,1).to(device=default_device());actions"
   ]
  },
  {
   "cell_type": "code",
   "execution_count": null,
   "id": "2aa4378b-385f-422f-a7fb-e60ec38a2bfc",
   "metadata": {},
   "outputs": [
    {
     "data": {
      "text/plain": [
       "tensor([[1],\n",
       "        [1],\n",
       "        [1],\n",
       "        [1],\n",
       "        [1],\n",
       "        [1],\n",
       "        [1],\n",
       "        [1]], device='cuda:0')"
      ]
     },
     "execution_count": null,
     "metadata": {},
     "output_type": "execute_result"
    }
   ],
   "source": [
    "rewards=actions;rewards"
   ]
  },
  {
   "cell_type": "code",
   "execution_count": null,
   "id": "bc86b45a-bc6c-4fb4-a7b6-4bdf52e17884",
   "metadata": {},
   "outputs": [
    {
     "data": {
      "text/plain": [
       "tensor([[False],\n",
       "        [False],\n",
       "        [False],\n",
       "        [False],\n",
       "        [False],\n",
       "        [False],\n",
       "        [False],\n",
       "        [ True]], device='cuda:0')"
      ]
     },
     "execution_count": null,
     "metadata": {},
     "output_type": "execute_result"
    }
   ],
   "source": [
    "dones=torch.Tensor().new_zeros((8,1)).bool().to(device=default_device());dones[-1][0]=1;dones"
   ]
  },
  {
   "cell_type": "markdown",
   "id": "2349e28b-39e4-417e-a3d7-13885f82f776",
   "metadata": {},
   "source": [
    "So lets decompose the `categorical_update` above into something easier to read. First we will note the author's original algorithm:\n",
    "\n",
    "<img src=\"../../images/10e_agents.dqn.categorical_algorithm1.png\" width=\"500\" height=\"500\">"
   ]
  },
  {
   "cell_type": "markdown",
   "id": "eec07e56-5fcc-4035-9774-035866a226cd",
   "metadata": {},
   "source": [
    "We can break this into 3 different functions:<br> \n",
    "    - getting the Q<br>\n",
    "    - calculating the update<br>\n",
    "    - calculating the loss\n",
    "    \n",
    "We will start with the $Q(x_{t+1},a):=\\sum_iz_ip_i(x_{t_1},a))$"
   ]
  },
  {
   "cell_type": "code",
   "execution_count": null,
   "id": "61ce7888-a342-4707-99ac-c78758369db1",
   "metadata": {},
   "outputs": [],
   "source": [
    "#|export\n",
    "class CategoricalDQN(Module):\n",
    "    def __init__(self,\n",
    "                 state_sz:int,\n",
    "                 action_sz:int,\n",
    "                 n_atoms:int=51,\n",
    "                 hidden=512,\n",
    "                 v_min=-10,\n",
    "                 v_max=10,\n",
    "                 head_layer=Linear,\n",
    "                 activation_fn=ReLU\n",
    "                ):\n",
    "        store_attr()\n",
    "        self.layers=Sequential(\n",
    "            Linear(state_sz,hidden),\n",
    "            activation_fn(),\n",
    "            head_layer(hidden,action_sz*n_atoms),\n",
    "        )\n",
    "        self.supports,self.z_delta=create_support(v_min=v_min,v_max=v_max,n_atoms=n_atoms)\n",
    "        self.softmax=Softmax(dim=2)\n",
    "    \n",
    "    def to(self, *args, **kwargs):\n",
    "        self = super().to(*args, **kwargs) \n",
    "        self.supports=self.supports.to(*args, **kwargs)\n",
    "        return self\n",
    "    \n",
    "    def forward(self,x): \n",
    "        return self.layers(x).view(x.shape[0],self.action_sz,self.n_atoms)\n",
    "    def policy(self,x): return (self.supports*self.p(x)).mean(dim=2)\n",
    "    def q(self,x): return (self.supports*self.p(x)).sum(dim=2)\n",
    "    def p(self,x): return self.softmax(self(x))"
   ]
  },
  {
   "cell_type": "markdown",
   "id": "2e4dbd72-0ed2-49a3-8fec-fdde6ace68a0",
   "metadata": {},
   "source": [
    "The `CategoricalDQN.q` function gets us 90% of the way to the equation above. However, \n",
    "you will notice that that equation is for a specific action. We will handle this in the actual update function."
   ]
  },
  {
   "cell_type": "code",
   "execution_count": null,
   "id": "22e634c3-0d14-4386-8914-3bd09478c005",
   "metadata": {},
   "outputs": [
    {
     "data": {
      "text/plain": [
       "torch.Size([8, 2, 51])"
      ]
     },
     "execution_count": null,
     "metadata": {},
     "output_type": "execute_result"
    }
   ],
   "source": [
    "dqn=CategoricalDQN(4,2).to(device=default_device())\n",
    "dqn(torch.randn(8,4).to(device=default_device())).shape"
   ]
  },
  {
   "cell_type": "code",
   "execution_count": null,
   "id": "e9b4bdf3-ed63-4f00-b671-a8f15c2a4e19",
   "metadata": {},
   "outputs": [
    {
     "data": {
      "text/plain": [
       "tensor([[ 0.3418, -0.2006],\n",
       "        [ 0.1096, -0.0358],\n",
       "        [-0.2790,  0.0382],\n",
       "        [ 0.1743,  0.0024],\n",
       "        [-0.5164,  0.0867],\n",
       "        [-0.0825, -0.0634],\n",
       "        [-0.5792,  0.2759],\n",
       "        [-0.0598, -0.0087]], device='cuda:0', grad_fn=<SumBackward1>)"
      ]
     },
     "execution_count": null,
     "metadata": {},
     "output_type": "execute_result"
    }
   ],
   "source": [
    "dqn.q(torch.randn(8,4).to(device=default_device()))"
   ]
  },
  {
   "cell_type": "code",
   "execution_count": null,
   "id": "510e45fe-42e4-4537-85b1-8aa3d5d8e463",
   "metadata": {},
   "outputs": [
    {
     "data": {
      "text/plain": [
       "tensor([[-0.0020,  0.0022],\n",
       "        [-0.0043, -0.0014],\n",
       "        [-0.0063,  0.0037],\n",
       "        [-0.0079,  0.0028],\n",
       "        [-0.0001,  0.0039],\n",
       "        [-0.0001, -0.0017],\n",
       "        [-0.0008,  0.0004],\n",
       "        [-0.0108,  0.0052]], device='cuda:0', grad_fn=<MeanBackward1>)"
      ]
     },
     "execution_count": null,
     "metadata": {},
     "output_type": "execute_result"
    }
   ],
   "source": [
    "dqn.policy(torch.randn(8,4).to(device=default_device()))"
   ]
  },
  {
   "cell_type": "code",
   "execution_count": null,
   "id": "b3f5129b-c076-4956-8544-27bb2a95cde1",
   "metadata": {},
   "outputs": [],
   "source": [
    "#|export\n",
    "def distribute(projection,left,right,support_value,p_a,atom,done):\n",
    "    \"Does: m_l <- m_l + p_j(x_{t+1},a*)(u - b_j) operation for non-final states.\"\n",
    "    diffs=torch.hstack((support_value-left,right-support_value))\n",
    "    # If they are the same location, then just split the value in half, and add twice\n",
    "    diffs[(left==right).reshape(-1,),:]=0.5 \n",
    "    mask=~done.reshape(-1,)\n",
    "    \n",
    "    left_v=projection[mask].gather(1,left[mask])+(p_a[:,atom][mask]*diffs[:,0][mask]).reshape(-1,1)\n",
    "    right_v=projection[mask].gather(1,right[mask])+(p_a[:,atom][mask]*diffs[:,1][mask]).reshape(-1,1)\n",
    "    \n",
    "    projection[mask]=projection[mask].scatter(dim=1,index=left[mask],src=left_v)\n",
    "    projection[mask]=projection[mask].scatter(dim=1,index=right[mask],src=right_v)\n",
    "\n",
    "def final_distribute(projection,left,right,support_value,p_a,atom,done):\n",
    "    \"Does: m_l <- m_l + p_j(x_{t+1},a*)(u - b_j) operation for final states.\"\n",
    "    diffs=torch.hstack((support_value-left,right-support_value))\n",
    "    # If they are the location, then just split the value in half, and add twice\n",
    "    diffs[(left==right).reshape(-1,),:]=0.5 \n",
    "    mask=done.reshape(-1,)\n",
    "    \n",
    "    left_v=diffs[:,0].reshape(-1,1)\n",
    "    right_v=projection[mask].gather(1,right)+diffs[:,1].reshape(-1,1)\n",
    "\n",
    "    projection[mask]=0.0\n",
    "    projection[mask]=projection[mask].scatter(dim=1,index=left,src=left_v)\n",
    "    projection[mask]=projection[mask].scatter(dim=1,index=right,src=right_v)"
   ]
  },
  {
   "cell_type": "code",
   "execution_count": null,
   "id": "87567db0-65da-4bc5-8358-af7306c69a1d",
   "metadata": {},
   "outputs": [],
   "source": [
    "#|export\n",
    "def categorical_update(support,delta_z,q,p,actions,rewards,dones,v_min=-10,\n",
    "                       v_max=10,n_atoms=51,gamma=0.99,passes=None,nsteps=1,debug=False):\n",
    "    if debug:\n",
    "        print(f'support: {support.shape}, delta_z: {delta_z}, q: {q.shape}\\n',\n",
    "              f'\\tp: {p.shape}, actions: {actions.shape}, rewards: {rewards.shape}\\n',\n",
    "              f'\\tdones: {dones.shape}')\n",
    "    \n",
    "    bs=q.shape[0]\n",
    "    passes=ifnone(passes,n_atoms)\n",
    "    # Do this outside of the loop so we only have to do it once\n",
    "    # Represents: p_j(x_{t+1},a*)\n",
    "    p_a=p[torch.arange(bs),actions.reshape(-1,)]#.reshape(-1,1)\n",
    "    # get a*\n",
    "    next_actions=torch.argmax(q,dim=1)\n",
    "    # m_i = 0 for i in [0,N-1]\n",
    "    projection=torch.zeros((bs,n_atoms)).to(device=default_device())\n",
    "    # j in [0, N - 1]\n",
    "    for atom in range(0,passes):\n",
    "        # Tz_j <- [r_t + gamma * z_j]_v_min^v_max\n",
    "        target_z=rewards+(gamma**nsteps)*support[atom]\n",
    "        target_z[dones.reshape(-1)]=rewards[dones.reshape(-1)].float()\n",
    "        target_z=torch.clamp(target_z,v_min,v_max)\n",
    "        # b_j <- (Tz_j - Vmin)/delta_z\n",
    "        support_value=(target_z-v_min)/delta_z\n",
    "        # l <- floor(b_j), u <- ceil(b_j)\n",
    "        left,right=support_value.floor().long(),support_value.ceil().long()\n",
    "        # m_l <- m_l + p_j(x_{t+1},a*)(u - b_j)\n",
    "        distribute(projection,left,right,support_value,p_a,atom,dones)\n",
    "\n",
    "    if dones.sum()>=1:\n",
    "        target_z=rewards[dones.reshape(-1)]\n",
    "        target_z=torch.clamp(target_z,v_min,v_max)\n",
    "        support_value=(target_z-v_min)/delta_z\n",
    "        left,right=support_value.floor().long(),support_value.ceil().long()\n",
    "        final_distribute(projection,left,right,support_value,p_a,atom,dones)\n",
    "    return projection"
   ]
  },
  {
   "cell_type": "code",
   "execution_count": null,
   "id": "78fc2573-9cf8-407f-931d-230785f1329c",
   "metadata": {},
   "outputs": [],
   "source": [
    "#|export\n",
    "def show_q_distribution(cat_dist,title='Update Distributions'):\n",
    "    \"`cat_dist` being shape: (bs,n_atoms)\"\n",
    "    from IPython.display import HTML\n",
    "    import plotly.graph_objects as go\n",
    "    import plotly.io as pio\n",
    "    pio.renderers.default = \"plotly_mimetype+notebook_connected\"\n",
    "    fig = go.Figure(data=[go.Surface(z=to_detach(cat_dist).numpy())])\n",
    "    fig.update_layout(title=title,autosize=False,\n",
    "                      width=500, height=500,#template='plotly_dark',\n",
    "                      margin=dict(l=65, r=50, b=80, t=90))\n",
    "    # return HTML(fig.to_html())\n",
    "    return fig.show()"
   ]
  },
  {
   "cell_type": "code",
   "execution_count": null,
   "id": "36ce5e88-da37-41d4-a8d0-a5205a9e2043",
   "metadata": {},
   "outputs": [
    {
     "data": {
      "text/html": [
       "        <script type=\"text/javascript\">\n",
       "        window.PlotlyConfig = {MathJaxConfig: 'local'};\n",
       "        if (window.MathJax && window.MathJax.Hub && window.MathJax.Hub.Config) {window.MathJax.Hub.Config({SVG: {font: \"STIX-Web\"}});}\n",
       "        if (typeof require !== 'undefined') {\n",
       "        require.undef(\"plotly\");\n",
       "        requirejs.config({\n",
       "            paths: {\n",
       "                'plotly': ['https://cdn.plot.ly/plotly-2.14.0.min']\n",
       "            }\n",
       "        });\n",
       "        require(['plotly'], function(Plotly) {\n",
       "            window._Plotly = Plotly;\n",
       "        });\n",
       "        }\n",
       "        </script>\n",
       "        "
      ]
     },
     "metadata": {},
     "output_type": "display_data"
    },
    {
     "data": {
      "application/vnd.plotly.v1+json": {
       "config": {
        "plotlyServerURL": "https://plot.ly"
       },
       "data": [
        {
         "type": "surface",
         "z": [
          [
           0,
           0,
           0.015379608608782291,
           0.021219812333583832,
           0.021025842055678368,
           0.01863214373588562,
           0.018445145338773727,
           0.02138305827975273,
           0.019703898578882217,
           0.018109235912561417,
           0.017762750387191772,
           0.017588939517736435,
           0.019404593855142593,
           0.020336393266916275,
           0.020587608218193054,
           0.018312614411115646,
           0.01764305680990219,
           0.019549889490008354,
           0.019860632717609406,
           0.02039569616317749,
           0.020235944539308548,
           0.018412141129374504,
           0.01894092559814453,
           0.020019639283418655,
           0.02264317497611046,
           0.02153550274670124,
           0.018913667649030685,
           0.019246982410550117,
           0.018969040364027023,
           0.020062632858753204,
           0.02028503268957138,
           0.017558898776769638,
           0.01784699782729149,
           0.019453730434179306,
           0.01912938617169857,
           0.020296406000852585,
           0.018487535417079926,
           0.017716269940137863,
           0.021190613508224487,
           0.020504552870988846,
           0.02004348486661911,
           0.0205881055444479,
           0.018488630652427673,
           0.018839403986930847,
           0.0188214723020792,
           0.017656415700912476,
           0.02008100599050522,
           0.01936536654829979,
           0.01837002858519554,
           0.019095538184046745,
           0.04287818819284439
          ],
          [
           0,
           0,
           0.00721451360732317,
           0.015198299661278725,
           0.010654203593730927,
           0.009032772853970528,
           0.012685481458902359,
           0.03749135509133339,
           0.03328389301896095,
           0.013443226926028728,
           0.009067442268133163,
           0.008288703858852386,
           0.005423836875706911,
           0.009584154933691025,
           0.008540770038962364,
           0.01105558779090643,
           0.012060709297657013,
           0.017541276291012764,
           0.013294147327542305,
           0.03755611553788185,
           0.05071980133652687,
           0.028094695881009102,
           0.04488026723265648,
           0.04818778485059738,
           0.02004103548824787,
           0.01010998897254467,
           0.011310248635709286,
           0.044932492077350616,
           0.04508322849869728,
           0.010922564193606377,
           0.00900639034807682,
           0.007897283881902695,
           0.01449156366288662,
           0.01699121668934822,
           0.018208097666502,
           0.023529507219791412,
           0.015224440023303032,
           0.01367065031081438,
           0.00906355306506157,
           0.02057790569961071,
           0.020437313243746758,
           0.015410447493195534,
           0.02581208571791649,
           0.007471434772014618,
           0.017109351232647896,
           0.024260418489575386,
           0.021172931417822838,
           0.03237837925553322,
           0.007652278058230877,
           0.007581264711916447,
           0.047920577228069305
          ],
          [
           0,
           0,
           0.015379608608782291,
           0.021219812333583832,
           0.021025842055678368,
           0.01863214373588562,
           0.018445145338773727,
           0.02138305827975273,
           0.019703898578882217,
           0.018109235912561417,
           0.017762750387191772,
           0.017588939517736435,
           0.019404593855142593,
           0.020336393266916275,
           0.020587608218193054,
           0.018312614411115646,
           0.01764305680990219,
           0.019549889490008354,
           0.019860632717609406,
           0.02039569616317749,
           0.020235944539308548,
           0.018412141129374504,
           0.01894092559814453,
           0.020019639283418655,
           0.02264317497611046,
           0.02153550274670124,
           0.018913667649030685,
           0.019246982410550117,
           0.018969040364027023,
           0.020062632858753204,
           0.02028503268957138,
           0.017558898776769638,
           0.01784699782729149,
           0.019453730434179306,
           0.01912938617169857,
           0.020296406000852585,
           0.018487535417079926,
           0.017716269940137863,
           0.021190613508224487,
           0.020504552870988846,
           0.02004348486661911,
           0.0205881055444479,
           0.018488630652427673,
           0.018839403986930847,
           0.0188214723020792,
           0.017656415700912476,
           0.02008100599050522,
           0.01936536654829979,
           0.01837002858519554,
           0.019095538184046745,
           0.04287818819284439
          ],
          [
           0,
           0,
           0.00721451360732317,
           0.015198299661278725,
           0.010654203593730927,
           0.009032772853970528,
           0.012685481458902359,
           0.03749135509133339,
           0.03328389301896095,
           0.013443226926028728,
           0.009067442268133163,
           0.008288703858852386,
           0.005423836875706911,
           0.009584154933691025,
           0.008540770038962364,
           0.01105558779090643,
           0.012060709297657013,
           0.017541276291012764,
           0.013294147327542305,
           0.03755611553788185,
           0.05071980133652687,
           0.028094695881009102,
           0.04488026723265648,
           0.04818778485059738,
           0.02004103548824787,
           0.01010998897254467,
           0.011310248635709286,
           0.044932492077350616,
           0.04508322849869728,
           0.010922564193606377,
           0.00900639034807682,
           0.007897283881902695,
           0.01449156366288662,
           0.01699121668934822,
           0.018208097666502,
           0.023529507219791412,
           0.015224440023303032,
           0.01367065031081438,
           0.00906355306506157,
           0.02057790569961071,
           0.020437313243746758,
           0.015410447493195534,
           0.02581208571791649,
           0.007471434772014618,
           0.017109351232647896,
           0.024260418489575386,
           0.021172931417822838,
           0.03237837925553322,
           0.007652278058230877,
           0.007581264711916447,
           0.047920577228069305
          ],
          [
           0,
           0,
           0.015379608608782291,
           0.021219812333583832,
           0.021025842055678368,
           0.01863214373588562,
           0.018445145338773727,
           0.02138305827975273,
           0.019703898578882217,
           0.018109235912561417,
           0.017762750387191772,
           0.017588939517736435,
           0.019404593855142593,
           0.020336393266916275,
           0.020587608218193054,
           0.018312614411115646,
           0.01764305680990219,
           0.019549889490008354,
           0.019860632717609406,
           0.02039569616317749,
           0.020235944539308548,
           0.018412141129374504,
           0.01894092559814453,
           0.020019639283418655,
           0.02264317497611046,
           0.02153550274670124,
           0.018913667649030685,
           0.019246982410550117,
           0.018969040364027023,
           0.020062632858753204,
           0.02028503268957138,
           0.017558898776769638,
           0.01784699782729149,
           0.019453730434179306,
           0.01912938617169857,
           0.020296406000852585,
           0.018487535417079926,
           0.017716269940137863,
           0.021190613508224487,
           0.020504552870988846,
           0.02004348486661911,
           0.0205881055444479,
           0.018488630652427673,
           0.018839403986930847,
           0.0188214723020792,
           0.017656415700912476,
           0.02008100599050522,
           0.01936536654829979,
           0.01837002858519554,
           0.019095538184046745,
           0.04287818819284439
          ],
          [
           0,
           0,
           0.00721451360732317,
           0.015198299661278725,
           0.010654203593730927,
           0.009032772853970528,
           0.012685481458902359,
           0.03749135509133339,
           0.03328389301896095,
           0.013443226926028728,
           0.009067442268133163,
           0.008288703858852386,
           0.005423836875706911,
           0.009584154933691025,
           0.008540770038962364,
           0.01105558779090643,
           0.012060709297657013,
           0.017541276291012764,
           0.013294147327542305,
           0.03755611553788185,
           0.05071980133652687,
           0.028094695881009102,
           0.04488026723265648,
           0.04818778485059738,
           0.02004103548824787,
           0.01010998897254467,
           0.011310248635709286,
           0.044932492077350616,
           0.04508322849869728,
           0.010922564193606377,
           0.00900639034807682,
           0.007897283881902695,
           0.01449156366288662,
           0.01699121668934822,
           0.018208097666502,
           0.023529507219791412,
           0.015224440023303032,
           0.01367065031081438,
           0.00906355306506157,
           0.02057790569961071,
           0.020437313243746758,
           0.015410447493195534,
           0.02581208571791649,
           0.007471434772014618,
           0.017109351232647896,
           0.024260418489575386,
           0.021172931417822838,
           0.03237837925553322,
           0.007652278058230877,
           0.007581264711916447,
           0.047920577228069305
          ],
          [
           0,
           0,
           0.015379608608782291,
           0.021219812333583832,
           0.021025842055678368,
           0.01863214373588562,
           0.018445145338773727,
           0.02138305827975273,
           0.019703898578882217,
           0.018109235912561417,
           0.017762750387191772,
           0.017588939517736435,
           0.019404593855142593,
           0.020336393266916275,
           0.020587608218193054,
           0.018312614411115646,
           0.01764305680990219,
           0.019549889490008354,
           0.019860632717609406,
           0.02039569616317749,
           0.020235944539308548,
           0.018412141129374504,
           0.01894092559814453,
           0.020019639283418655,
           0.02264317497611046,
           0.02153550274670124,
           0.018913667649030685,
           0.019246982410550117,
           0.018969040364027023,
           0.020062632858753204,
           0.02028503268957138,
           0.017558898776769638,
           0.01784699782729149,
           0.019453730434179306,
           0.01912938617169857,
           0.020296406000852585,
           0.018487535417079926,
           0.017716269940137863,
           0.021190613508224487,
           0.020504552870988846,
           0.02004348486661911,
           0.0205881055444479,
           0.018488630652427673,
           0.018839403986930847,
           0.0188214723020792,
           0.017656415700912476,
           0.02008100599050522,
           0.01936536654829979,
           0.01837002858519554,
           0.019095538184046745,
           0.04287818819284439
          ],
          [
           0,
           0,
           0,
           0,
           0,
           0,
           0,
           0,
           0,
           0,
           0,
           0,
           0,
           0,
           0,
           0,
           0,
           0,
           0,
           0,
           0,
           0,
           0,
           0,
           0,
           0,
           0,
           0.5,
           0.5,
           0,
           0,
           0,
           0,
           0,
           0,
           0,
           0,
           0,
           0,
           0,
           0,
           0,
           0,
           0,
           0,
           0,
           0,
           0,
           0,
           0,
           0
          ]
         ]
        }
       ],
       "layout": {
        "autosize": false,
        "height": 500,
        "margin": {
         "b": 80,
         "l": 65,
         "r": 50,
         "t": 90
        },
        "template": {
         "data": {
          "bar": [
           {
            "error_x": {
             "color": "#2a3f5f"
            },
            "error_y": {
             "color": "#2a3f5f"
            },
            "marker": {
             "line": {
              "color": "#E5ECF6",
              "width": 0.5
             },
             "pattern": {
              "fillmode": "overlay",
              "size": 10,
              "solidity": 0.2
             }
            },
            "type": "bar"
           }
          ],
          "barpolar": [
           {
            "marker": {
             "line": {
              "color": "#E5ECF6",
              "width": 0.5
             },
             "pattern": {
              "fillmode": "overlay",
              "size": 10,
              "solidity": 0.2
             }
            },
            "type": "barpolar"
           }
          ],
          "carpet": [
           {
            "aaxis": {
             "endlinecolor": "#2a3f5f",
             "gridcolor": "white",
             "linecolor": "white",
             "minorgridcolor": "white",
             "startlinecolor": "#2a3f5f"
            },
            "baxis": {
             "endlinecolor": "#2a3f5f",
             "gridcolor": "white",
             "linecolor": "white",
             "minorgridcolor": "white",
             "startlinecolor": "#2a3f5f"
            },
            "type": "carpet"
           }
          ],
          "choropleth": [
           {
            "colorbar": {
             "outlinewidth": 0,
             "ticks": ""
            },
            "type": "choropleth"
           }
          ],
          "contour": [
           {
            "colorbar": {
             "outlinewidth": 0,
             "ticks": ""
            },
            "colorscale": [
             [
              0,
              "#0d0887"
             ],
             [
              0.1111111111111111,
              "#46039f"
             ],
             [
              0.2222222222222222,
              "#7201a8"
             ],
             [
              0.3333333333333333,
              "#9c179e"
             ],
             [
              0.4444444444444444,
              "#bd3786"
             ],
             [
              0.5555555555555556,
              "#d8576b"
             ],
             [
              0.6666666666666666,
              "#ed7953"
             ],
             [
              0.7777777777777778,
              "#fb9f3a"
             ],
             [
              0.8888888888888888,
              "#fdca26"
             ],
             [
              1,
              "#f0f921"
             ]
            ],
            "type": "contour"
           }
          ],
          "contourcarpet": [
           {
            "colorbar": {
             "outlinewidth": 0,
             "ticks": ""
            },
            "type": "contourcarpet"
           }
          ],
          "heatmap": [
           {
            "colorbar": {
             "outlinewidth": 0,
             "ticks": ""
            },
            "colorscale": [
             [
              0,
              "#0d0887"
             ],
             [
              0.1111111111111111,
              "#46039f"
             ],
             [
              0.2222222222222222,
              "#7201a8"
             ],
             [
              0.3333333333333333,
              "#9c179e"
             ],
             [
              0.4444444444444444,
              "#bd3786"
             ],
             [
              0.5555555555555556,
              "#d8576b"
             ],
             [
              0.6666666666666666,
              "#ed7953"
             ],
             [
              0.7777777777777778,
              "#fb9f3a"
             ],
             [
              0.8888888888888888,
              "#fdca26"
             ],
             [
              1,
              "#f0f921"
             ]
            ],
            "type": "heatmap"
           }
          ],
          "heatmapgl": [
           {
            "colorbar": {
             "outlinewidth": 0,
             "ticks": ""
            },
            "colorscale": [
             [
              0,
              "#0d0887"
             ],
             [
              0.1111111111111111,
              "#46039f"
             ],
             [
              0.2222222222222222,
              "#7201a8"
             ],
             [
              0.3333333333333333,
              "#9c179e"
             ],
             [
              0.4444444444444444,
              "#bd3786"
             ],
             [
              0.5555555555555556,
              "#d8576b"
             ],
             [
              0.6666666666666666,
              "#ed7953"
             ],
             [
              0.7777777777777778,
              "#fb9f3a"
             ],
             [
              0.8888888888888888,
              "#fdca26"
             ],
             [
              1,
              "#f0f921"
             ]
            ],
            "type": "heatmapgl"
           }
          ],
          "histogram": [
           {
            "marker": {
             "pattern": {
              "fillmode": "overlay",
              "size": 10,
              "solidity": 0.2
             }
            },
            "type": "histogram"
           }
          ],
          "histogram2d": [
           {
            "colorbar": {
             "outlinewidth": 0,
             "ticks": ""
            },
            "colorscale": [
             [
              0,
              "#0d0887"
             ],
             [
              0.1111111111111111,
              "#46039f"
             ],
             [
              0.2222222222222222,
              "#7201a8"
             ],
             [
              0.3333333333333333,
              "#9c179e"
             ],
             [
              0.4444444444444444,
              "#bd3786"
             ],
             [
              0.5555555555555556,
              "#d8576b"
             ],
             [
              0.6666666666666666,
              "#ed7953"
             ],
             [
              0.7777777777777778,
              "#fb9f3a"
             ],
             [
              0.8888888888888888,
              "#fdca26"
             ],
             [
              1,
              "#f0f921"
             ]
            ],
            "type": "histogram2d"
           }
          ],
          "histogram2dcontour": [
           {
            "colorbar": {
             "outlinewidth": 0,
             "ticks": ""
            },
            "colorscale": [
             [
              0,
              "#0d0887"
             ],
             [
              0.1111111111111111,
              "#46039f"
             ],
             [
              0.2222222222222222,
              "#7201a8"
             ],
             [
              0.3333333333333333,
              "#9c179e"
             ],
             [
              0.4444444444444444,
              "#bd3786"
             ],
             [
              0.5555555555555556,
              "#d8576b"
             ],
             [
              0.6666666666666666,
              "#ed7953"
             ],
             [
              0.7777777777777778,
              "#fb9f3a"
             ],
             [
              0.8888888888888888,
              "#fdca26"
             ],
             [
              1,
              "#f0f921"
             ]
            ],
            "type": "histogram2dcontour"
           }
          ],
          "mesh3d": [
           {
            "colorbar": {
             "outlinewidth": 0,
             "ticks": ""
            },
            "type": "mesh3d"
           }
          ],
          "parcoords": [
           {
            "line": {
             "colorbar": {
              "outlinewidth": 0,
              "ticks": ""
             }
            },
            "type": "parcoords"
           }
          ],
          "pie": [
           {
            "automargin": true,
            "type": "pie"
           }
          ],
          "scatter": [
           {
            "fillpattern": {
             "fillmode": "overlay",
             "size": 10,
             "solidity": 0.2
            },
            "type": "scatter"
           }
          ],
          "scatter3d": [
           {
            "line": {
             "colorbar": {
              "outlinewidth": 0,
              "ticks": ""
             }
            },
            "marker": {
             "colorbar": {
              "outlinewidth": 0,
              "ticks": ""
             }
            },
            "type": "scatter3d"
           }
          ],
          "scattercarpet": [
           {
            "marker": {
             "colorbar": {
              "outlinewidth": 0,
              "ticks": ""
             }
            },
            "type": "scattercarpet"
           }
          ],
          "scattergeo": [
           {
            "marker": {
             "colorbar": {
              "outlinewidth": 0,
              "ticks": ""
             }
            },
            "type": "scattergeo"
           }
          ],
          "scattergl": [
           {
            "marker": {
             "colorbar": {
              "outlinewidth": 0,
              "ticks": ""
             }
            },
            "type": "scattergl"
           }
          ],
          "scattermapbox": [
           {
            "marker": {
             "colorbar": {
              "outlinewidth": 0,
              "ticks": ""
             }
            },
            "type": "scattermapbox"
           }
          ],
          "scatterpolar": [
           {
            "marker": {
             "colorbar": {
              "outlinewidth": 0,
              "ticks": ""
             }
            },
            "type": "scatterpolar"
           }
          ],
          "scatterpolargl": [
           {
            "marker": {
             "colorbar": {
              "outlinewidth": 0,
              "ticks": ""
             }
            },
            "type": "scatterpolargl"
           }
          ],
          "scatterternary": [
           {
            "marker": {
             "colorbar": {
              "outlinewidth": 0,
              "ticks": ""
             }
            },
            "type": "scatterternary"
           }
          ],
          "surface": [
           {
            "colorbar": {
             "outlinewidth": 0,
             "ticks": ""
            },
            "colorscale": [
             [
              0,
              "#0d0887"
             ],
             [
              0.1111111111111111,
              "#46039f"
             ],
             [
              0.2222222222222222,
              "#7201a8"
             ],
             [
              0.3333333333333333,
              "#9c179e"
             ],
             [
              0.4444444444444444,
              "#bd3786"
             ],
             [
              0.5555555555555556,
              "#d8576b"
             ],
             [
              0.6666666666666666,
              "#ed7953"
             ],
             [
              0.7777777777777778,
              "#fb9f3a"
             ],
             [
              0.8888888888888888,
              "#fdca26"
             ],
             [
              1,
              "#f0f921"
             ]
            ],
            "type": "surface"
           }
          ],
          "table": [
           {
            "cells": {
             "fill": {
              "color": "#EBF0F8"
             },
             "line": {
              "color": "white"
             }
            },
            "header": {
             "fill": {
              "color": "#C8D4E3"
             },
             "line": {
              "color": "white"
             }
            },
            "type": "table"
           }
          ]
         },
         "layout": {
          "annotationdefaults": {
           "arrowcolor": "#2a3f5f",
           "arrowhead": 0,
           "arrowwidth": 1
          },
          "autotypenumbers": "strict",
          "coloraxis": {
           "colorbar": {
            "outlinewidth": 0,
            "ticks": ""
           }
          },
          "colorscale": {
           "diverging": [
            [
             0,
             "#8e0152"
            ],
            [
             0.1,
             "#c51b7d"
            ],
            [
             0.2,
             "#de77ae"
            ],
            [
             0.3,
             "#f1b6da"
            ],
            [
             0.4,
             "#fde0ef"
            ],
            [
             0.5,
             "#f7f7f7"
            ],
            [
             0.6,
             "#e6f5d0"
            ],
            [
             0.7,
             "#b8e186"
            ],
            [
             0.8,
             "#7fbc41"
            ],
            [
             0.9,
             "#4d9221"
            ],
            [
             1,
             "#276419"
            ]
           ],
           "sequential": [
            [
             0,
             "#0d0887"
            ],
            [
             0.1111111111111111,
             "#46039f"
            ],
            [
             0.2222222222222222,
             "#7201a8"
            ],
            [
             0.3333333333333333,
             "#9c179e"
            ],
            [
             0.4444444444444444,
             "#bd3786"
            ],
            [
             0.5555555555555556,
             "#d8576b"
            ],
            [
             0.6666666666666666,
             "#ed7953"
            ],
            [
             0.7777777777777778,
             "#fb9f3a"
            ],
            [
             0.8888888888888888,
             "#fdca26"
            ],
            [
             1,
             "#f0f921"
            ]
           ],
           "sequentialminus": [
            [
             0,
             "#0d0887"
            ],
            [
             0.1111111111111111,
             "#46039f"
            ],
            [
             0.2222222222222222,
             "#7201a8"
            ],
            [
             0.3333333333333333,
             "#9c179e"
            ],
            [
             0.4444444444444444,
             "#bd3786"
            ],
            [
             0.5555555555555556,
             "#d8576b"
            ],
            [
             0.6666666666666666,
             "#ed7953"
            ],
            [
             0.7777777777777778,
             "#fb9f3a"
            ],
            [
             0.8888888888888888,
             "#fdca26"
            ],
            [
             1,
             "#f0f921"
            ]
           ]
          },
          "colorway": [
           "#636efa",
           "#EF553B",
           "#00cc96",
           "#ab63fa",
           "#FFA15A",
           "#19d3f3",
           "#FF6692",
           "#B6E880",
           "#FF97FF",
           "#FECB52"
          ],
          "font": {
           "color": "#2a3f5f"
          },
          "geo": {
           "bgcolor": "white",
           "lakecolor": "white",
           "landcolor": "#E5ECF6",
           "showlakes": true,
           "showland": true,
           "subunitcolor": "white"
          },
          "hoverlabel": {
           "align": "left"
          },
          "hovermode": "closest",
          "mapbox": {
           "style": "light"
          },
          "paper_bgcolor": "white",
          "plot_bgcolor": "#E5ECF6",
          "polar": {
           "angularaxis": {
            "gridcolor": "white",
            "linecolor": "white",
            "ticks": ""
           },
           "bgcolor": "#E5ECF6",
           "radialaxis": {
            "gridcolor": "white",
            "linecolor": "white",
            "ticks": ""
           }
          },
          "scene": {
           "xaxis": {
            "backgroundcolor": "#E5ECF6",
            "gridcolor": "white",
            "gridwidth": 2,
            "linecolor": "white",
            "showbackground": true,
            "ticks": "",
            "zerolinecolor": "white"
           },
           "yaxis": {
            "backgroundcolor": "#E5ECF6",
            "gridcolor": "white",
            "gridwidth": 2,
            "linecolor": "white",
            "showbackground": true,
            "ticks": "",
            "zerolinecolor": "white"
           },
           "zaxis": {
            "backgroundcolor": "#E5ECF6",
            "gridcolor": "white",
            "gridwidth": 2,
            "linecolor": "white",
            "showbackground": true,
            "ticks": "",
            "zerolinecolor": "white"
           }
          },
          "shapedefaults": {
           "line": {
            "color": "#2a3f5f"
           }
          },
          "ternary": {
           "aaxis": {
            "gridcolor": "white",
            "linecolor": "white",
            "ticks": ""
           },
           "baxis": {
            "gridcolor": "white",
            "linecolor": "white",
            "ticks": ""
           },
           "bgcolor": "#E5ECF6",
           "caxis": {
            "gridcolor": "white",
            "linecolor": "white",
            "ticks": ""
           }
          },
          "title": {
           "x": 0.05
          },
          "xaxis": {
           "automargin": true,
           "gridcolor": "white",
           "linecolor": "white",
           "ticks": "",
           "title": {
            "standoff": 15
           },
           "zerolinecolor": "white",
           "zerolinewidth": 2
          },
          "yaxis": {
           "automargin": true,
           "gridcolor": "white",
           "linecolor": "white",
           "ticks": "",
           "title": {
            "standoff": 15
           },
           "zerolinecolor": "white",
           "zerolinewidth": 2
          }
         }
        },
        "title": {
         "text": "Update Distributions"
        },
        "width": 500
       }
      },
      "text/html": [
       "<div>                            <div id=\"9f35dde2-c73a-4816-bcf9-b455be55ebf8\" class=\"plotly-graph-div\" style=\"height:500px; width:500px;\"></div>            <script type=\"text/javascript\">                require([\"plotly\"], function(Plotly) {                    window.PLOTLYENV=window.PLOTLYENV || {};                                    if (document.getElementById(\"9f35dde2-c73a-4816-bcf9-b455be55ebf8\")) {                    Plotly.newPlot(                        \"9f35dde2-c73a-4816-bcf9-b455be55ebf8\",                        [{\"z\":[[0.0,0.0,0.015379608608782291,0.021219812333583832,0.021025842055678368,0.01863214373588562,0.018445145338773727,0.02138305827975273,0.019703898578882217,0.018109235912561417,0.017762750387191772,0.017588939517736435,0.019404593855142593,0.020336393266916275,0.020587608218193054,0.018312614411115646,0.01764305680990219,0.019549889490008354,0.019860632717609406,0.02039569616317749,0.020235944539308548,0.018412141129374504,0.01894092559814453,0.020019639283418655,0.02264317497611046,0.02153550274670124,0.018913667649030685,0.019246982410550117,0.018969040364027023,0.020062632858753204,0.02028503268957138,0.017558898776769638,0.01784699782729149,0.019453730434179306,0.01912938617169857,0.020296406000852585,0.018487535417079926,0.017716269940137863,0.021190613508224487,0.020504552870988846,0.02004348486661911,0.0205881055444479,0.018488630652427673,0.018839403986930847,0.0188214723020792,0.017656415700912476,0.02008100599050522,0.01936536654829979,0.01837002858519554,0.019095538184046745,0.04287818819284439],[0.0,0.0,0.00721451360732317,0.015198299661278725,0.010654203593730927,0.009032772853970528,0.012685481458902359,0.03749135509133339,0.03328389301896095,0.013443226926028728,0.009067442268133163,0.008288703858852386,0.005423836875706911,0.009584154933691025,0.008540770038962364,0.01105558779090643,0.012060709297657013,0.017541276291012764,0.013294147327542305,0.03755611553788185,0.05071980133652687,0.028094695881009102,0.04488026723265648,0.04818778485059738,0.02004103548824787,0.01010998897254467,0.011310248635709286,0.044932492077350616,0.04508322849869728,0.010922564193606377,0.00900639034807682,0.007897283881902695,0.01449156366288662,0.01699121668934822,0.018208097666502,0.023529507219791412,0.015224440023303032,0.01367065031081438,0.00906355306506157,0.02057790569961071,0.020437313243746758,0.015410447493195534,0.02581208571791649,0.007471434772014618,0.017109351232647896,0.024260418489575386,0.021172931417822838,0.03237837925553322,0.007652278058230877,0.007581264711916447,0.047920577228069305],[0.0,0.0,0.015379608608782291,0.021219812333583832,0.021025842055678368,0.01863214373588562,0.018445145338773727,0.02138305827975273,0.019703898578882217,0.018109235912561417,0.017762750387191772,0.017588939517736435,0.019404593855142593,0.020336393266916275,0.020587608218193054,0.018312614411115646,0.01764305680990219,0.019549889490008354,0.019860632717609406,0.02039569616317749,0.020235944539308548,0.018412141129374504,0.01894092559814453,0.020019639283418655,0.02264317497611046,0.02153550274670124,0.018913667649030685,0.019246982410550117,0.018969040364027023,0.020062632858753204,0.02028503268957138,0.017558898776769638,0.01784699782729149,0.019453730434179306,0.01912938617169857,0.020296406000852585,0.018487535417079926,0.017716269940137863,0.021190613508224487,0.020504552870988846,0.02004348486661911,0.0205881055444479,0.018488630652427673,0.018839403986930847,0.0188214723020792,0.017656415700912476,0.02008100599050522,0.01936536654829979,0.01837002858519554,0.019095538184046745,0.04287818819284439],[0.0,0.0,0.00721451360732317,0.015198299661278725,0.010654203593730927,0.009032772853970528,0.012685481458902359,0.03749135509133339,0.03328389301896095,0.013443226926028728,0.009067442268133163,0.008288703858852386,0.005423836875706911,0.009584154933691025,0.008540770038962364,0.01105558779090643,0.012060709297657013,0.017541276291012764,0.013294147327542305,0.03755611553788185,0.05071980133652687,0.028094695881009102,0.04488026723265648,0.04818778485059738,0.02004103548824787,0.01010998897254467,0.011310248635709286,0.044932492077350616,0.04508322849869728,0.010922564193606377,0.00900639034807682,0.007897283881902695,0.01449156366288662,0.01699121668934822,0.018208097666502,0.023529507219791412,0.015224440023303032,0.01367065031081438,0.00906355306506157,0.02057790569961071,0.020437313243746758,0.015410447493195534,0.02581208571791649,0.007471434772014618,0.017109351232647896,0.024260418489575386,0.021172931417822838,0.03237837925553322,0.007652278058230877,0.007581264711916447,0.047920577228069305],[0.0,0.0,0.015379608608782291,0.021219812333583832,0.021025842055678368,0.01863214373588562,0.018445145338773727,0.02138305827975273,0.019703898578882217,0.018109235912561417,0.017762750387191772,0.017588939517736435,0.019404593855142593,0.020336393266916275,0.020587608218193054,0.018312614411115646,0.01764305680990219,0.019549889490008354,0.019860632717609406,0.02039569616317749,0.020235944539308548,0.018412141129374504,0.01894092559814453,0.020019639283418655,0.02264317497611046,0.02153550274670124,0.018913667649030685,0.019246982410550117,0.018969040364027023,0.020062632858753204,0.02028503268957138,0.017558898776769638,0.01784699782729149,0.019453730434179306,0.01912938617169857,0.020296406000852585,0.018487535417079926,0.017716269940137863,0.021190613508224487,0.020504552870988846,0.02004348486661911,0.0205881055444479,0.018488630652427673,0.018839403986930847,0.0188214723020792,0.017656415700912476,0.02008100599050522,0.01936536654829979,0.01837002858519554,0.019095538184046745,0.04287818819284439],[0.0,0.0,0.00721451360732317,0.015198299661278725,0.010654203593730927,0.009032772853970528,0.012685481458902359,0.03749135509133339,0.03328389301896095,0.013443226926028728,0.009067442268133163,0.008288703858852386,0.005423836875706911,0.009584154933691025,0.008540770038962364,0.01105558779090643,0.012060709297657013,0.017541276291012764,0.013294147327542305,0.03755611553788185,0.05071980133652687,0.028094695881009102,0.04488026723265648,0.04818778485059738,0.02004103548824787,0.01010998897254467,0.011310248635709286,0.044932492077350616,0.04508322849869728,0.010922564193606377,0.00900639034807682,0.007897283881902695,0.01449156366288662,0.01699121668934822,0.018208097666502,0.023529507219791412,0.015224440023303032,0.01367065031081438,0.00906355306506157,0.02057790569961071,0.020437313243746758,0.015410447493195534,0.02581208571791649,0.007471434772014618,0.017109351232647896,0.024260418489575386,0.021172931417822838,0.03237837925553322,0.007652278058230877,0.007581264711916447,0.047920577228069305],[0.0,0.0,0.015379608608782291,0.021219812333583832,0.021025842055678368,0.01863214373588562,0.018445145338773727,0.02138305827975273,0.019703898578882217,0.018109235912561417,0.017762750387191772,0.017588939517736435,0.019404593855142593,0.020336393266916275,0.020587608218193054,0.018312614411115646,0.01764305680990219,0.019549889490008354,0.019860632717609406,0.02039569616317749,0.020235944539308548,0.018412141129374504,0.01894092559814453,0.020019639283418655,0.02264317497611046,0.02153550274670124,0.018913667649030685,0.019246982410550117,0.018969040364027023,0.020062632858753204,0.02028503268957138,0.017558898776769638,0.01784699782729149,0.019453730434179306,0.01912938617169857,0.020296406000852585,0.018487535417079926,0.017716269940137863,0.021190613508224487,0.020504552870988846,0.02004348486661911,0.0205881055444479,0.018488630652427673,0.018839403986930847,0.0188214723020792,0.017656415700912476,0.02008100599050522,0.01936536654829979,0.01837002858519554,0.019095538184046745,0.04287818819284439],[0.0,0.0,0.0,0.0,0.0,0.0,0.0,0.0,0.0,0.0,0.0,0.0,0.0,0.0,0.0,0.0,0.0,0.0,0.0,0.0,0.0,0.0,0.0,0.0,0.0,0.0,0.0,0.5,0.5,0.0,0.0,0.0,0.0,0.0,0.0,0.0,0.0,0.0,0.0,0.0,0.0,0.0,0.0,0.0,0.0,0.0,0.0,0.0,0.0,0.0,0.0]],\"type\":\"surface\"}],                        {\"template\":{\"data\":{\"histogram2dcontour\":[{\"type\":\"histogram2dcontour\",\"colorbar\":{\"outlinewidth\":0,\"ticks\":\"\"},\"colorscale\":[[0.0,\"#0d0887\"],[0.1111111111111111,\"#46039f\"],[0.2222222222222222,\"#7201a8\"],[0.3333333333333333,\"#9c179e\"],[0.4444444444444444,\"#bd3786\"],[0.5555555555555556,\"#d8576b\"],[0.6666666666666666,\"#ed7953\"],[0.7777777777777778,\"#fb9f3a\"],[0.8888888888888888,\"#fdca26\"],[1.0,\"#f0f921\"]]}],\"choropleth\":[{\"type\":\"choropleth\",\"colorbar\":{\"outlinewidth\":0,\"ticks\":\"\"}}],\"histogram2d\":[{\"type\":\"histogram2d\",\"colorbar\":{\"outlinewidth\":0,\"ticks\":\"\"},\"colorscale\":[[0.0,\"#0d0887\"],[0.1111111111111111,\"#46039f\"],[0.2222222222222222,\"#7201a8\"],[0.3333333333333333,\"#9c179e\"],[0.4444444444444444,\"#bd3786\"],[0.5555555555555556,\"#d8576b\"],[0.6666666666666666,\"#ed7953\"],[0.7777777777777778,\"#fb9f3a\"],[0.8888888888888888,\"#fdca26\"],[1.0,\"#f0f921\"]]}],\"heatmap\":[{\"type\":\"heatmap\",\"colorbar\":{\"outlinewidth\":0,\"ticks\":\"\"},\"colorscale\":[[0.0,\"#0d0887\"],[0.1111111111111111,\"#46039f\"],[0.2222222222222222,\"#7201a8\"],[0.3333333333333333,\"#9c179e\"],[0.4444444444444444,\"#bd3786\"],[0.5555555555555556,\"#d8576b\"],[0.6666666666666666,\"#ed7953\"],[0.7777777777777778,\"#fb9f3a\"],[0.8888888888888888,\"#fdca26\"],[1.0,\"#f0f921\"]]}],\"heatmapgl\":[{\"type\":\"heatmapgl\",\"colorbar\":{\"outlinewidth\":0,\"ticks\":\"\"},\"colorscale\":[[0.0,\"#0d0887\"],[0.1111111111111111,\"#46039f\"],[0.2222222222222222,\"#7201a8\"],[0.3333333333333333,\"#9c179e\"],[0.4444444444444444,\"#bd3786\"],[0.5555555555555556,\"#d8576b\"],[0.6666666666666666,\"#ed7953\"],[0.7777777777777778,\"#fb9f3a\"],[0.8888888888888888,\"#fdca26\"],[1.0,\"#f0f921\"]]}],\"contourcarpet\":[{\"type\":\"contourcarpet\",\"colorbar\":{\"outlinewidth\":0,\"ticks\":\"\"}}],\"contour\":[{\"type\":\"contour\",\"colorbar\":{\"outlinewidth\":0,\"ticks\":\"\"},\"colorscale\":[[0.0,\"#0d0887\"],[0.1111111111111111,\"#46039f\"],[0.2222222222222222,\"#7201a8\"],[0.3333333333333333,\"#9c179e\"],[0.4444444444444444,\"#bd3786\"],[0.5555555555555556,\"#d8576b\"],[0.6666666666666666,\"#ed7953\"],[0.7777777777777778,\"#fb9f3a\"],[0.8888888888888888,\"#fdca26\"],[1.0,\"#f0f921\"]]}],\"surface\":[{\"type\":\"surface\",\"colorbar\":{\"outlinewidth\":0,\"ticks\":\"\"},\"colorscale\":[[0.0,\"#0d0887\"],[0.1111111111111111,\"#46039f\"],[0.2222222222222222,\"#7201a8\"],[0.3333333333333333,\"#9c179e\"],[0.4444444444444444,\"#bd3786\"],[0.5555555555555556,\"#d8576b\"],[0.6666666666666666,\"#ed7953\"],[0.7777777777777778,\"#fb9f3a\"],[0.8888888888888888,\"#fdca26\"],[1.0,\"#f0f921\"]]}],\"mesh3d\":[{\"type\":\"mesh3d\",\"colorbar\":{\"outlinewidth\":0,\"ticks\":\"\"}}],\"scatter\":[{\"fillpattern\":{\"fillmode\":\"overlay\",\"size\":10,\"solidity\":0.2},\"type\":\"scatter\"}],\"parcoords\":[{\"type\":\"parcoords\",\"line\":{\"colorbar\":{\"outlinewidth\":0,\"ticks\":\"\"}}}],\"scatterpolargl\":[{\"type\":\"scatterpolargl\",\"marker\":{\"colorbar\":{\"outlinewidth\":0,\"ticks\":\"\"}}}],\"bar\":[{\"error_x\":{\"color\":\"#2a3f5f\"},\"error_y\":{\"color\":\"#2a3f5f\"},\"marker\":{\"line\":{\"color\":\"#E5ECF6\",\"width\":0.5},\"pattern\":{\"fillmode\":\"overlay\",\"size\":10,\"solidity\":0.2}},\"type\":\"bar\"}],\"scattergeo\":[{\"type\":\"scattergeo\",\"marker\":{\"colorbar\":{\"outlinewidth\":0,\"ticks\":\"\"}}}],\"scatterpolar\":[{\"type\":\"scatterpolar\",\"marker\":{\"colorbar\":{\"outlinewidth\":0,\"ticks\":\"\"}}}],\"histogram\":[{\"marker\":{\"pattern\":{\"fillmode\":\"overlay\",\"size\":10,\"solidity\":0.2}},\"type\":\"histogram\"}],\"scattergl\":[{\"type\":\"scattergl\",\"marker\":{\"colorbar\":{\"outlinewidth\":0,\"ticks\":\"\"}}}],\"scatter3d\":[{\"type\":\"scatter3d\",\"line\":{\"colorbar\":{\"outlinewidth\":0,\"ticks\":\"\"}},\"marker\":{\"colorbar\":{\"outlinewidth\":0,\"ticks\":\"\"}}}],\"scattermapbox\":[{\"type\":\"scattermapbox\",\"marker\":{\"colorbar\":{\"outlinewidth\":0,\"ticks\":\"\"}}}],\"scatterternary\":[{\"type\":\"scatterternary\",\"marker\":{\"colorbar\":{\"outlinewidth\":0,\"ticks\":\"\"}}}],\"scattercarpet\":[{\"type\":\"scattercarpet\",\"marker\":{\"colorbar\":{\"outlinewidth\":0,\"ticks\":\"\"}}}],\"carpet\":[{\"aaxis\":{\"endlinecolor\":\"#2a3f5f\",\"gridcolor\":\"white\",\"linecolor\":\"white\",\"minorgridcolor\":\"white\",\"startlinecolor\":\"#2a3f5f\"},\"baxis\":{\"endlinecolor\":\"#2a3f5f\",\"gridcolor\":\"white\",\"linecolor\":\"white\",\"minorgridcolor\":\"white\",\"startlinecolor\":\"#2a3f5f\"},\"type\":\"carpet\"}],\"table\":[{\"cells\":{\"fill\":{\"color\":\"#EBF0F8\"},\"line\":{\"color\":\"white\"}},\"header\":{\"fill\":{\"color\":\"#C8D4E3\"},\"line\":{\"color\":\"white\"}},\"type\":\"table\"}],\"barpolar\":[{\"marker\":{\"line\":{\"color\":\"#E5ECF6\",\"width\":0.5},\"pattern\":{\"fillmode\":\"overlay\",\"size\":10,\"solidity\":0.2}},\"type\":\"barpolar\"}],\"pie\":[{\"automargin\":true,\"type\":\"pie\"}]},\"layout\":{\"autotypenumbers\":\"strict\",\"colorway\":[\"#636efa\",\"#EF553B\",\"#00cc96\",\"#ab63fa\",\"#FFA15A\",\"#19d3f3\",\"#FF6692\",\"#B6E880\",\"#FF97FF\",\"#FECB52\"],\"font\":{\"color\":\"#2a3f5f\"},\"hovermode\":\"closest\",\"hoverlabel\":{\"align\":\"left\"},\"paper_bgcolor\":\"white\",\"plot_bgcolor\":\"#E5ECF6\",\"polar\":{\"bgcolor\":\"#E5ECF6\",\"angularaxis\":{\"gridcolor\":\"white\",\"linecolor\":\"white\",\"ticks\":\"\"},\"radialaxis\":{\"gridcolor\":\"white\",\"linecolor\":\"white\",\"ticks\":\"\"}},\"ternary\":{\"bgcolor\":\"#E5ECF6\",\"aaxis\":{\"gridcolor\":\"white\",\"linecolor\":\"white\",\"ticks\":\"\"},\"baxis\":{\"gridcolor\":\"white\",\"linecolor\":\"white\",\"ticks\":\"\"},\"caxis\":{\"gridcolor\":\"white\",\"linecolor\":\"white\",\"ticks\":\"\"}},\"coloraxis\":{\"colorbar\":{\"outlinewidth\":0,\"ticks\":\"\"}},\"colorscale\":{\"sequential\":[[0.0,\"#0d0887\"],[0.1111111111111111,\"#46039f\"],[0.2222222222222222,\"#7201a8\"],[0.3333333333333333,\"#9c179e\"],[0.4444444444444444,\"#bd3786\"],[0.5555555555555556,\"#d8576b\"],[0.6666666666666666,\"#ed7953\"],[0.7777777777777778,\"#fb9f3a\"],[0.8888888888888888,\"#fdca26\"],[1.0,\"#f0f921\"]],\"sequentialminus\":[[0.0,\"#0d0887\"],[0.1111111111111111,\"#46039f\"],[0.2222222222222222,\"#7201a8\"],[0.3333333333333333,\"#9c179e\"],[0.4444444444444444,\"#bd3786\"],[0.5555555555555556,\"#d8576b\"],[0.6666666666666666,\"#ed7953\"],[0.7777777777777778,\"#fb9f3a\"],[0.8888888888888888,\"#fdca26\"],[1.0,\"#f0f921\"]],\"diverging\":[[0,\"#8e0152\"],[0.1,\"#c51b7d\"],[0.2,\"#de77ae\"],[0.3,\"#f1b6da\"],[0.4,\"#fde0ef\"],[0.5,\"#f7f7f7\"],[0.6,\"#e6f5d0\"],[0.7,\"#b8e186\"],[0.8,\"#7fbc41\"],[0.9,\"#4d9221\"],[1,\"#276419\"]]},\"xaxis\":{\"gridcolor\":\"white\",\"linecolor\":\"white\",\"ticks\":\"\",\"title\":{\"standoff\":15},\"zerolinecolor\":\"white\",\"automargin\":true,\"zerolinewidth\":2},\"yaxis\":{\"gridcolor\":\"white\",\"linecolor\":\"white\",\"ticks\":\"\",\"title\":{\"standoff\":15},\"zerolinecolor\":\"white\",\"automargin\":true,\"zerolinewidth\":2},\"scene\":{\"xaxis\":{\"backgroundcolor\":\"#E5ECF6\",\"gridcolor\":\"white\",\"linecolor\":\"white\",\"showbackground\":true,\"ticks\":\"\",\"zerolinecolor\":\"white\",\"gridwidth\":2},\"yaxis\":{\"backgroundcolor\":\"#E5ECF6\",\"gridcolor\":\"white\",\"linecolor\":\"white\",\"showbackground\":true,\"ticks\":\"\",\"zerolinecolor\":\"white\",\"gridwidth\":2},\"zaxis\":{\"backgroundcolor\":\"#E5ECF6\",\"gridcolor\":\"white\",\"linecolor\":\"white\",\"showbackground\":true,\"ticks\":\"\",\"zerolinecolor\":\"white\",\"gridwidth\":2}},\"shapedefaults\":{\"line\":{\"color\":\"#2a3f5f\"}},\"annotationdefaults\":{\"arrowcolor\":\"#2a3f5f\",\"arrowhead\":0,\"arrowwidth\":1},\"geo\":{\"bgcolor\":\"white\",\"landcolor\":\"#E5ECF6\",\"subunitcolor\":\"white\",\"showland\":true,\"showlakes\":true,\"lakecolor\":\"white\"},\"title\":{\"x\":0.05},\"mapbox\":{\"style\":\"light\"}}},\"margin\":{\"l\":65,\"r\":50,\"b\":80,\"t\":90},\"title\":{\"text\":\"Update Distributions\"},\"autosize\":false,\"width\":500,\"height\":500},                        {\"responsive\": true}                    ).then(function(){\n",
       "                            \n",
       "var gd = document.getElementById('9f35dde2-c73a-4816-bcf9-b455be55ebf8');\n",
       "var x = new MutationObserver(function (mutations, observer) {{\n",
       "        var display = window.getComputedStyle(gd).display;\n",
       "        if (!display || display === 'none') {{\n",
       "            console.log([gd, 'removed!']);\n",
       "            Plotly.purge(gd);\n",
       "            observer.disconnect();\n",
       "        }}\n",
       "}});\n",
       "\n",
       "// Listen for the removal of the full notebook cells\n",
       "var notebookContainer = gd.closest('#notebook-container');\n",
       "if (notebookContainer) {{\n",
       "    x.observe(notebookContainer, {childList: true});\n",
       "}}\n",
       "\n",
       "// Listen for the clearing of the current output cell\n",
       "var outputEl = gd.closest('.output');\n",
       "if (outputEl) {{\n",
       "    x.observe(outputEl, {childList: true});\n",
       "}}\n",
       "\n",
       "                        })                };                });            </script>        </div>"
      ]
     },
     "metadata": {},
     "output_type": "display_data"
    }
   ],
   "source": [
    "output=categorical_update(dqn.supports,dqn.z_delta,summed_model_out,\n",
    "                          Softmax(dim=2)(model_out),actions,rewards,dones,passes=None)\n",
    "show_q_distribution(output)"
   ]
  },
  {
   "cell_type": "code",
   "execution_count": null,
   "id": "33a233df-edc0-4551-b450-8bc9c3e3c00f",
   "metadata": {},
   "outputs": [
    {
     "data": {
      "text/html": [
       "        <script type=\"text/javascript\">\n",
       "        window.PlotlyConfig = {MathJaxConfig: 'local'};\n",
       "        if (window.MathJax && window.MathJax.Hub && window.MathJax.Hub.Config) {window.MathJax.Hub.Config({SVG: {font: \"STIX-Web\"}});}\n",
       "        if (typeof require !== 'undefined') {\n",
       "        require.undef(\"plotly\");\n",
       "        requirejs.config({\n",
       "            paths: {\n",
       "                'plotly': ['https://cdn.plot.ly/plotly-2.14.0.min']\n",
       "            }\n",
       "        });\n",
       "        require(['plotly'], function(Plotly) {\n",
       "            window._Plotly = Plotly;\n",
       "        });\n",
       "        }\n",
       "        </script>\n",
       "        "
      ]
     },
     "metadata": {},
     "output_type": "display_data"
    },
    {
     "data": {
      "application/vnd.plotly.v1+json": {
       "config": {
        "plotlyServerURL": "https://plot.ly"
       },
       "data": [
        {
         "type": "surface",
         "z": [
          [
           0,
           0,
           0.014435975812375546,
           0.01931307092308998,
           0.018437014892697334,
           0.018309660255908966,
           0.016178928315639496,
           0.02089754305779934,
           0.017822759225964546,
           0.020353320986032486,
           0.02029142528772354,
           0.020943360403180122,
           0.02197290025651455,
           0.022275980561971664,
           0.02055809274315834,
           0.01497628539800644,
           0.02046317234635353,
           0.02121054194867611,
           0.01909339614212513,
           0.021679937839508057,
           0.020409397780895233,
           0.018590440973639488,
           0.016747333109378815,
           0.015162192285060883,
           0.022771991789340973,
           0.027686068788170815,
           0.021818311884999275,
           0.01880265772342682,
           0.017305605113506317,
           0.012686507776379585,
           0.018337935209274292,
           0.023874931037425995,
           0.019682161509990692,
           0.016196422278881073,
           0.018182285130023956,
           0.021825233474373817,
           0.016530804336071014,
           0.01831197366118431,
           0.02479008212685585,
           0.026454396545886993,
           0.020862191915512085,
           0.016749892383813858,
           0.015576556324958801,
           0.013423857279121876,
           0.014485243707895279,
           0.01655406318604946,
           0.021889325231313705,
           0.024316107854247093,
           0.022472789511084557,
           0.020503655076026917,
           0.0423138365149498
          ],
          [
           0,
           0,
           0.01320612896233797,
           0.027120305225253105,
           0.019451860338449478,
           0.02176240086555481,
           0.02427997998893261,
           0.023101050406694412,
           0.016202133148908615,
           0.012586080469191074,
           0.01670120283961296,
           0.021350929513573647,
           0.022285982966423035,
           0.01884402520954609,
           0.023921601474285126,
           0.01672879233956337,
           0.019615523517131805,
           0.017579659819602966,
           0.011171020567417145,
           0.014167915098369122,
           0.02440323494374752,
           0.023444294929504395,
           0.018663600087165833,
           0.015978090465068817,
           0.016913780942559242,
           0.018692858517169952,
           0.018520347774028778,
           0.02054867334663868,
           0.018232034519314766,
           0.017016544938087463,
           0.018020998686552048,
           0.0202164426445961,
           0.01985832303762436,
           0.01568177528679371,
           0.018026098608970642,
           0.017642758786678314,
           0.01706862449645996,
           0.02012774348258972,
           0.021875742822885513,
           0.01603352651000023,
           0.016421187669038773,
           0.02201114594936371,
           0.015191282145678997,
           0.016163524240255356,
           0.021529335528612137,
           0.01711253635585308,
           0.016178738325834274,
           0.015039206482470036,
           0.016413748264312744,
           0.025488968938589096,
           0.058984920382499695
          ],
          [
           0,
           0,
           0.011994143947958946,
           0.023719409480690956,
           0.021855879575014114,
           0.020594418048858643,
           0.020148277282714844,
           0.022483766078948975,
           0.016155842691659927,
           0.020357180386781693,
           0.019735971465706825,
           0.02247351035475731,
           0.01870681159198284,
           0.01637454144656658,
           0.02195916324853897,
           0.017585117369890213,
           0.01686040312051773,
           0.018947232514619827,
           0.02063726633787155,
           0.018612872809171677,
           0.01765226200222969,
           0.017885122448205948,
           0.015494009479880333,
           0.015484046190977097,
           0.01848866418004036,
           0.01854899153113365,
           0.01942216232419014,
           0.020801061764359474,
           0.017613161355257034,
           0.01612723618745804,
           0.01919129118323326,
           0.019207604229450226,
           0.01651681773364544,
           0.015434245578944683,
           0.0175689235329628,
           0.018981169909238815,
           0.015723979100584984,
           0.02061210572719574,
           0.02450849860906601,
           0.02043542079627514,
           0.018351998180150986,
           0.016329823061823845,
           0.01739816926419735,
           0.01849428378045559,
           0.02158249169588089,
           0.02342405542731285,
           0.022767888382077217,
           0.020174507051706314,
           0.022365514189004898,
           0.023970261216163635,
           0.04949798434972763
          ],
          [
           0,
           0,
           0.01605060137808323,
           0.019400576129555702,
           0.01784730702638626,
           0.018121877685189247,
           0.01708276756107807,
           0.02092503197491169,
           0.017600810155272484,
           0.01944206841289997,
           0.019310250878334045,
           0.02300860919058323,
           0.02193264663219452,
           0.022851131856441498,
           0.021782593801617622,
           0.016630809754133224,
           0.020783061161637306,
           0.02035381644964218,
           0.020908748731017113,
           0.022175343707203865,
           0.0186308640986681,
           0.019283052533864975,
           0.018754003569483757,
           0.01510192733258009,
           0.01904790848493576,
           0.02497057616710663,
           0.02356882207095623,
           0.020641256123781204,
           0.018092680722475052,
           0.013867850415408611,
           0.018151763826608658,
           0.022882696241140366,
           0.01914633810520172,
           0.016050325706601143,
           0.01790502481162548,
           0.020551182329654694,
           0.016607506200671196,
           0.019133316352963448,
           0.02316358871757984,
           0.02324645221233368,
           0.020496336743235588,
           0.017941782251000404,
           0.016259539872407913,
           0.015244134701788425,
           0.01784042827785015,
           0.01744154281914234,
           0.02137438766658306,
           0.02223500981926918,
           0.020075852051377296,
           0.0180968027561903,
           0.04186795651912689
          ],
          [
           0,
           0,
           0.01398992259055376,
           0.022331248968839645,
           0.01824839785695076,
           0.020842798054218292,
           0.022546198219060898,
           0.022583652287721634,
           0.017302585765719414,
           0.017204485833644867,
           0.01835302636027336,
           0.023129738867282867,
           0.020289286971092224,
           0.018267925828695297,
           0.022770613431930542,
           0.018430372700095177,
           0.019243493676185608,
           0.01885121688246727,
           0.018244536593556404,
           0.018851058557629585,
           0.01925666630268097,
           0.0201013945043087,
           0.01889999955892563,
           0.01634102128446102,
           0.016952596604824066,
           0.01864318549633026,
           0.02128177136182785,
           0.022668134421110153,
           0.018980981782078743,
           0.017216091975569725,
           0.018617995083332062,
           0.019618093967437744,
           0.018357668071985245,
           0.016131730750203133,
           0.01812072843313217,
           0.018763098865747452,
           0.017062317579984665,
           0.02011977508664131,
           0.021424949169158936,
           0.017611084505915642,
           0.017782101407647133,
           0.019147802144289017,
           0.017490016296505928,
           0.019208602607250214,
           0.02207338437438011,
           0.018537212163209915,
           0.018873563036322594,
           0.017394043505191803,
           0.018642064183950424,
           0.01954125240445137,
           0.05005228891968727
          ],
          [
           0,
           0,
           0.012293701060116291,
           0.04158494994044304,
           0.02504262700676918,
           0.022065307945013046,
           0.02273828163743019,
           0.01953701302409172,
           0.012780636548995972,
           0.01153101958334446,
           0.017119064927101135,
           0.021271880716085434,
           0.023327643051743507,
           0.016158806160092354,
           0.02296268194913864,
           0.015743566676974297,
           0.016385937109589577,
           0.016698136925697327,
           0.012047726660966873,
           0.013231288641691208,
           0.024908242747187614,
           0.02153775840997696,
           0.01217876560986042,
           0.012583021074533463,
           0.017704321071505547,
           0.016660509631037712,
           0.015709269791841507,
           0.018548838794231415,
           0.015553882345557213,
           0.015428844839334488,
           0.017099300399422646,
           0.017868701368570328,
           0.01625078357756138,
           0.013137347996234894,
           0.017404314130544662,
           0.018460368737578392,
           0.015651222318410873,
           0.017187558114528656,
           0.019741063937544823,
           0.016412468627095222,
           0.018366936594247818,
           0.02191755920648575,
           0.01327344961464405,
           0.01372012123465538,
           0.019766109064221382,
           0.020644862204790115,
           0.01658099889755249,
           0.015853866934776306,
           0.018544137477874756,
           0.03589973226189613,
           0.07424193620681763
          ],
          [
           0,
           0,
           0.011482765898108482,
           0.02258288860321045,
           0.018973158672451973,
           0.021822938695549965,
           0.027784138917922974,
           0.029458068311214447,
           0.01930158957839012,
           0.009805071167647839,
           0.017179269343614578,
           0.022633161395788193,
           0.02044740691781044,
           0.017776064574718475,
           0.0195732694119215,
           0.012998681515455246,
           0.018665842711925507,
           0.01652112603187561,
           0.010305298492312431,
           0.012911699712276459,
           0.023852761834859848,
           0.023033849895000458,
           0.016941960901021957,
           0.013653263449668884,
           0.011227946728467941,
           0.01164078526198864,
           0.015293155796825886,
           0.021827109158039093,
           0.019198618829250336,
           0.02043592557311058,
           0.022137172520160675,
           0.02107302099466324,
           0.02177957072854042,
           0.014326507225632668,
           0.016109252348542213,
           0.018008526414632797,
           0.01835581660270691,
           0.020290646702051163,
           0.01726069301366806,
           0.012688940390944481,
           0.01638360135257244,
           0.02324078232049942,
           0.015021448954939842,
           0.018159355968236923,
           0.02937709167599678,
           0.01620277762413025,
           0.014236808754503727,
           0.013439810834825039,
           0.017191123217344284,
           0.02913287840783596,
           0.06878312677145004
          ],
          [
           0,
           0,
           0,
           0,
           0,
           0,
           0,
           0,
           0,
           0,
           0,
           0,
           0,
           0,
           0,
           0,
           0,
           0,
           0,
           0,
           0,
           0,
           0,
           0,
           0,
           0,
           0,
           0.5,
           0.5,
           0,
           0,
           0,
           0,
           0,
           0,
           0,
           0,
           0,
           0,
           0,
           0,
           0,
           0,
           0,
           0,
           0,
           0,
           0,
           0,
           0,
           0
          ]
         ]
        }
       ],
       "layout": {
        "autosize": false,
        "height": 500,
        "margin": {
         "b": 80,
         "l": 65,
         "r": 50,
         "t": 90
        },
        "template": {
         "data": {
          "bar": [
           {
            "error_x": {
             "color": "#2a3f5f"
            },
            "error_y": {
             "color": "#2a3f5f"
            },
            "marker": {
             "line": {
              "color": "#E5ECF6",
              "width": 0.5
             },
             "pattern": {
              "fillmode": "overlay",
              "size": 10,
              "solidity": 0.2
             }
            },
            "type": "bar"
           }
          ],
          "barpolar": [
           {
            "marker": {
             "line": {
              "color": "#E5ECF6",
              "width": 0.5
             },
             "pattern": {
              "fillmode": "overlay",
              "size": 10,
              "solidity": 0.2
             }
            },
            "type": "barpolar"
           }
          ],
          "carpet": [
           {
            "aaxis": {
             "endlinecolor": "#2a3f5f",
             "gridcolor": "white",
             "linecolor": "white",
             "minorgridcolor": "white",
             "startlinecolor": "#2a3f5f"
            },
            "baxis": {
             "endlinecolor": "#2a3f5f",
             "gridcolor": "white",
             "linecolor": "white",
             "minorgridcolor": "white",
             "startlinecolor": "#2a3f5f"
            },
            "type": "carpet"
           }
          ],
          "choropleth": [
           {
            "colorbar": {
             "outlinewidth": 0,
             "ticks": ""
            },
            "type": "choropleth"
           }
          ],
          "contour": [
           {
            "colorbar": {
             "outlinewidth": 0,
             "ticks": ""
            },
            "colorscale": [
             [
              0,
              "#0d0887"
             ],
             [
              0.1111111111111111,
              "#46039f"
             ],
             [
              0.2222222222222222,
              "#7201a8"
             ],
             [
              0.3333333333333333,
              "#9c179e"
             ],
             [
              0.4444444444444444,
              "#bd3786"
             ],
             [
              0.5555555555555556,
              "#d8576b"
             ],
             [
              0.6666666666666666,
              "#ed7953"
             ],
             [
              0.7777777777777778,
              "#fb9f3a"
             ],
             [
              0.8888888888888888,
              "#fdca26"
             ],
             [
              1,
              "#f0f921"
             ]
            ],
            "type": "contour"
           }
          ],
          "contourcarpet": [
           {
            "colorbar": {
             "outlinewidth": 0,
             "ticks": ""
            },
            "type": "contourcarpet"
           }
          ],
          "heatmap": [
           {
            "colorbar": {
             "outlinewidth": 0,
             "ticks": ""
            },
            "colorscale": [
             [
              0,
              "#0d0887"
             ],
             [
              0.1111111111111111,
              "#46039f"
             ],
             [
              0.2222222222222222,
              "#7201a8"
             ],
             [
              0.3333333333333333,
              "#9c179e"
             ],
             [
              0.4444444444444444,
              "#bd3786"
             ],
             [
              0.5555555555555556,
              "#d8576b"
             ],
             [
              0.6666666666666666,
              "#ed7953"
             ],
             [
              0.7777777777777778,
              "#fb9f3a"
             ],
             [
              0.8888888888888888,
              "#fdca26"
             ],
             [
              1,
              "#f0f921"
             ]
            ],
            "type": "heatmap"
           }
          ],
          "heatmapgl": [
           {
            "colorbar": {
             "outlinewidth": 0,
             "ticks": ""
            },
            "colorscale": [
             [
              0,
              "#0d0887"
             ],
             [
              0.1111111111111111,
              "#46039f"
             ],
             [
              0.2222222222222222,
              "#7201a8"
             ],
             [
              0.3333333333333333,
              "#9c179e"
             ],
             [
              0.4444444444444444,
              "#bd3786"
             ],
             [
              0.5555555555555556,
              "#d8576b"
             ],
             [
              0.6666666666666666,
              "#ed7953"
             ],
             [
              0.7777777777777778,
              "#fb9f3a"
             ],
             [
              0.8888888888888888,
              "#fdca26"
             ],
             [
              1,
              "#f0f921"
             ]
            ],
            "type": "heatmapgl"
           }
          ],
          "histogram": [
           {
            "marker": {
             "pattern": {
              "fillmode": "overlay",
              "size": 10,
              "solidity": 0.2
             }
            },
            "type": "histogram"
           }
          ],
          "histogram2d": [
           {
            "colorbar": {
             "outlinewidth": 0,
             "ticks": ""
            },
            "colorscale": [
             [
              0,
              "#0d0887"
             ],
             [
              0.1111111111111111,
              "#46039f"
             ],
             [
              0.2222222222222222,
              "#7201a8"
             ],
             [
              0.3333333333333333,
              "#9c179e"
             ],
             [
              0.4444444444444444,
              "#bd3786"
             ],
             [
              0.5555555555555556,
              "#d8576b"
             ],
             [
              0.6666666666666666,
              "#ed7953"
             ],
             [
              0.7777777777777778,
              "#fb9f3a"
             ],
             [
              0.8888888888888888,
              "#fdca26"
             ],
             [
              1,
              "#f0f921"
             ]
            ],
            "type": "histogram2d"
           }
          ],
          "histogram2dcontour": [
           {
            "colorbar": {
             "outlinewidth": 0,
             "ticks": ""
            },
            "colorscale": [
             [
              0,
              "#0d0887"
             ],
             [
              0.1111111111111111,
              "#46039f"
             ],
             [
              0.2222222222222222,
              "#7201a8"
             ],
             [
              0.3333333333333333,
              "#9c179e"
             ],
             [
              0.4444444444444444,
              "#bd3786"
             ],
             [
              0.5555555555555556,
              "#d8576b"
             ],
             [
              0.6666666666666666,
              "#ed7953"
             ],
             [
              0.7777777777777778,
              "#fb9f3a"
             ],
             [
              0.8888888888888888,
              "#fdca26"
             ],
             [
              1,
              "#f0f921"
             ]
            ],
            "type": "histogram2dcontour"
           }
          ],
          "mesh3d": [
           {
            "colorbar": {
             "outlinewidth": 0,
             "ticks": ""
            },
            "type": "mesh3d"
           }
          ],
          "parcoords": [
           {
            "line": {
             "colorbar": {
              "outlinewidth": 0,
              "ticks": ""
             }
            },
            "type": "parcoords"
           }
          ],
          "pie": [
           {
            "automargin": true,
            "type": "pie"
           }
          ],
          "scatter": [
           {
            "fillpattern": {
             "fillmode": "overlay",
             "size": 10,
             "solidity": 0.2
            },
            "type": "scatter"
           }
          ],
          "scatter3d": [
           {
            "line": {
             "colorbar": {
              "outlinewidth": 0,
              "ticks": ""
             }
            },
            "marker": {
             "colorbar": {
              "outlinewidth": 0,
              "ticks": ""
             }
            },
            "type": "scatter3d"
           }
          ],
          "scattercarpet": [
           {
            "marker": {
             "colorbar": {
              "outlinewidth": 0,
              "ticks": ""
             }
            },
            "type": "scattercarpet"
           }
          ],
          "scattergeo": [
           {
            "marker": {
             "colorbar": {
              "outlinewidth": 0,
              "ticks": ""
             }
            },
            "type": "scattergeo"
           }
          ],
          "scattergl": [
           {
            "marker": {
             "colorbar": {
              "outlinewidth": 0,
              "ticks": ""
             }
            },
            "type": "scattergl"
           }
          ],
          "scattermapbox": [
           {
            "marker": {
             "colorbar": {
              "outlinewidth": 0,
              "ticks": ""
             }
            },
            "type": "scattermapbox"
           }
          ],
          "scatterpolar": [
           {
            "marker": {
             "colorbar": {
              "outlinewidth": 0,
              "ticks": ""
             }
            },
            "type": "scatterpolar"
           }
          ],
          "scatterpolargl": [
           {
            "marker": {
             "colorbar": {
              "outlinewidth": 0,
              "ticks": ""
             }
            },
            "type": "scatterpolargl"
           }
          ],
          "scatterternary": [
           {
            "marker": {
             "colorbar": {
              "outlinewidth": 0,
              "ticks": ""
             }
            },
            "type": "scatterternary"
           }
          ],
          "surface": [
           {
            "colorbar": {
             "outlinewidth": 0,
             "ticks": ""
            },
            "colorscale": [
             [
              0,
              "#0d0887"
             ],
             [
              0.1111111111111111,
              "#46039f"
             ],
             [
              0.2222222222222222,
              "#7201a8"
             ],
             [
              0.3333333333333333,
              "#9c179e"
             ],
             [
              0.4444444444444444,
              "#bd3786"
             ],
             [
              0.5555555555555556,
              "#d8576b"
             ],
             [
              0.6666666666666666,
              "#ed7953"
             ],
             [
              0.7777777777777778,
              "#fb9f3a"
             ],
             [
              0.8888888888888888,
              "#fdca26"
             ],
             [
              1,
              "#f0f921"
             ]
            ],
            "type": "surface"
           }
          ],
          "table": [
           {
            "cells": {
             "fill": {
              "color": "#EBF0F8"
             },
             "line": {
              "color": "white"
             }
            },
            "header": {
             "fill": {
              "color": "#C8D4E3"
             },
             "line": {
              "color": "white"
             }
            },
            "type": "table"
           }
          ]
         },
         "layout": {
          "annotationdefaults": {
           "arrowcolor": "#2a3f5f",
           "arrowhead": 0,
           "arrowwidth": 1
          },
          "autotypenumbers": "strict",
          "coloraxis": {
           "colorbar": {
            "outlinewidth": 0,
            "ticks": ""
           }
          },
          "colorscale": {
           "diverging": [
            [
             0,
             "#8e0152"
            ],
            [
             0.1,
             "#c51b7d"
            ],
            [
             0.2,
             "#de77ae"
            ],
            [
             0.3,
             "#f1b6da"
            ],
            [
             0.4,
             "#fde0ef"
            ],
            [
             0.5,
             "#f7f7f7"
            ],
            [
             0.6,
             "#e6f5d0"
            ],
            [
             0.7,
             "#b8e186"
            ],
            [
             0.8,
             "#7fbc41"
            ],
            [
             0.9,
             "#4d9221"
            ],
            [
             1,
             "#276419"
            ]
           ],
           "sequential": [
            [
             0,
             "#0d0887"
            ],
            [
             0.1111111111111111,
             "#46039f"
            ],
            [
             0.2222222222222222,
             "#7201a8"
            ],
            [
             0.3333333333333333,
             "#9c179e"
            ],
            [
             0.4444444444444444,
             "#bd3786"
            ],
            [
             0.5555555555555556,
             "#d8576b"
            ],
            [
             0.6666666666666666,
             "#ed7953"
            ],
            [
             0.7777777777777778,
             "#fb9f3a"
            ],
            [
             0.8888888888888888,
             "#fdca26"
            ],
            [
             1,
             "#f0f921"
            ]
           ],
           "sequentialminus": [
            [
             0,
             "#0d0887"
            ],
            [
             0.1111111111111111,
             "#46039f"
            ],
            [
             0.2222222222222222,
             "#7201a8"
            ],
            [
             0.3333333333333333,
             "#9c179e"
            ],
            [
             0.4444444444444444,
             "#bd3786"
            ],
            [
             0.5555555555555556,
             "#d8576b"
            ],
            [
             0.6666666666666666,
             "#ed7953"
            ],
            [
             0.7777777777777778,
             "#fb9f3a"
            ],
            [
             0.8888888888888888,
             "#fdca26"
            ],
            [
             1,
             "#f0f921"
            ]
           ]
          },
          "colorway": [
           "#636efa",
           "#EF553B",
           "#00cc96",
           "#ab63fa",
           "#FFA15A",
           "#19d3f3",
           "#FF6692",
           "#B6E880",
           "#FF97FF",
           "#FECB52"
          ],
          "font": {
           "color": "#2a3f5f"
          },
          "geo": {
           "bgcolor": "white",
           "lakecolor": "white",
           "landcolor": "#E5ECF6",
           "showlakes": true,
           "showland": true,
           "subunitcolor": "white"
          },
          "hoverlabel": {
           "align": "left"
          },
          "hovermode": "closest",
          "mapbox": {
           "style": "light"
          },
          "paper_bgcolor": "white",
          "plot_bgcolor": "#E5ECF6",
          "polar": {
           "angularaxis": {
            "gridcolor": "white",
            "linecolor": "white",
            "ticks": ""
           },
           "bgcolor": "#E5ECF6",
           "radialaxis": {
            "gridcolor": "white",
            "linecolor": "white",
            "ticks": ""
           }
          },
          "scene": {
           "xaxis": {
            "backgroundcolor": "#E5ECF6",
            "gridcolor": "white",
            "gridwidth": 2,
            "linecolor": "white",
            "showbackground": true,
            "ticks": "",
            "zerolinecolor": "white"
           },
           "yaxis": {
            "backgroundcolor": "#E5ECF6",
            "gridcolor": "white",
            "gridwidth": 2,
            "linecolor": "white",
            "showbackground": true,
            "ticks": "",
            "zerolinecolor": "white"
           },
           "zaxis": {
            "backgroundcolor": "#E5ECF6",
            "gridcolor": "white",
            "gridwidth": 2,
            "linecolor": "white",
            "showbackground": true,
            "ticks": "",
            "zerolinecolor": "white"
           }
          },
          "shapedefaults": {
           "line": {
            "color": "#2a3f5f"
           }
          },
          "ternary": {
           "aaxis": {
            "gridcolor": "white",
            "linecolor": "white",
            "ticks": ""
           },
           "baxis": {
            "gridcolor": "white",
            "linecolor": "white",
            "ticks": ""
           },
           "bgcolor": "#E5ECF6",
           "caxis": {
            "gridcolor": "white",
            "linecolor": "white",
            "ticks": ""
           }
          },
          "title": {
           "x": 0.05
          },
          "xaxis": {
           "automargin": true,
           "gridcolor": "white",
           "linecolor": "white",
           "ticks": "",
           "title": {
            "standoff": 15
           },
           "zerolinecolor": "white",
           "zerolinewidth": 2
          },
          "yaxis": {
           "automargin": true,
           "gridcolor": "white",
           "linecolor": "white",
           "ticks": "",
           "title": {
            "standoff": 15
           },
           "zerolinecolor": "white",
           "zerolinewidth": 2
          }
         }
        },
        "title": {
         "text": "Real Model Update Distributions"
        },
        "width": 500
       }
      },
      "text/html": [
       "<div>                            <div id=\"fb719efa-ec71-4df4-a56c-3f3dfc75e860\" class=\"plotly-graph-div\" style=\"height:500px; width:500px;\"></div>            <script type=\"text/javascript\">                require([\"plotly\"], function(Plotly) {                    window.PLOTLYENV=window.PLOTLYENV || {};                                    if (document.getElementById(\"fb719efa-ec71-4df4-a56c-3f3dfc75e860\")) {                    Plotly.newPlot(                        \"fb719efa-ec71-4df4-a56c-3f3dfc75e860\",                        [{\"z\":[[0.0,0.0,0.014435975812375546,0.01931307092308998,0.018437014892697334,0.018309660255908966,0.016178928315639496,0.02089754305779934,0.017822759225964546,0.020353320986032486,0.02029142528772354,0.020943360403180122,0.02197290025651455,0.022275980561971664,0.02055809274315834,0.01497628539800644,0.02046317234635353,0.02121054194867611,0.01909339614212513,0.021679937839508057,0.020409397780895233,0.018590440973639488,0.016747333109378815,0.015162192285060883,0.022771991789340973,0.027686068788170815,0.021818311884999275,0.01880265772342682,0.017305605113506317,0.012686507776379585,0.018337935209274292,0.023874931037425995,0.019682161509990692,0.016196422278881073,0.018182285130023956,0.021825233474373817,0.016530804336071014,0.01831197366118431,0.02479008212685585,0.026454396545886993,0.020862191915512085,0.016749892383813858,0.015576556324958801,0.013423857279121876,0.014485243707895279,0.01655406318604946,0.021889325231313705,0.024316107854247093,0.022472789511084557,0.020503655076026917,0.0423138365149498],[0.0,0.0,0.01320612896233797,0.027120305225253105,0.019451860338449478,0.02176240086555481,0.02427997998893261,0.023101050406694412,0.016202133148908615,0.012586080469191074,0.01670120283961296,0.021350929513573647,0.022285982966423035,0.01884402520954609,0.023921601474285126,0.01672879233956337,0.019615523517131805,0.017579659819602966,0.011171020567417145,0.014167915098369122,0.02440323494374752,0.023444294929504395,0.018663600087165833,0.015978090465068817,0.016913780942559242,0.018692858517169952,0.018520347774028778,0.02054867334663868,0.018232034519314766,0.017016544938087463,0.018020998686552048,0.0202164426445961,0.01985832303762436,0.01568177528679371,0.018026098608970642,0.017642758786678314,0.01706862449645996,0.02012774348258972,0.021875742822885513,0.01603352651000023,0.016421187669038773,0.02201114594936371,0.015191282145678997,0.016163524240255356,0.021529335528612137,0.01711253635585308,0.016178738325834274,0.015039206482470036,0.016413748264312744,0.025488968938589096,0.058984920382499695],[0.0,0.0,0.011994143947958946,0.023719409480690956,0.021855879575014114,0.020594418048858643,0.020148277282714844,0.022483766078948975,0.016155842691659927,0.020357180386781693,0.019735971465706825,0.02247351035475731,0.01870681159198284,0.01637454144656658,0.02195916324853897,0.017585117369890213,0.01686040312051773,0.018947232514619827,0.02063726633787155,0.018612872809171677,0.01765226200222969,0.017885122448205948,0.015494009479880333,0.015484046190977097,0.01848866418004036,0.01854899153113365,0.01942216232419014,0.020801061764359474,0.017613161355257034,0.01612723618745804,0.01919129118323326,0.019207604229450226,0.01651681773364544,0.015434245578944683,0.0175689235329628,0.018981169909238815,0.015723979100584984,0.02061210572719574,0.02450849860906601,0.02043542079627514,0.018351998180150986,0.016329823061823845,0.01739816926419735,0.01849428378045559,0.02158249169588089,0.02342405542731285,0.022767888382077217,0.020174507051706314,0.022365514189004898,0.023970261216163635,0.04949798434972763],[0.0,0.0,0.01605060137808323,0.019400576129555702,0.01784730702638626,0.018121877685189247,0.01708276756107807,0.02092503197491169,0.017600810155272484,0.01944206841289997,0.019310250878334045,0.02300860919058323,0.02193264663219452,0.022851131856441498,0.021782593801617622,0.016630809754133224,0.020783061161637306,0.02035381644964218,0.020908748731017113,0.022175343707203865,0.0186308640986681,0.019283052533864975,0.018754003569483757,0.01510192733258009,0.01904790848493576,0.02497057616710663,0.02356882207095623,0.020641256123781204,0.018092680722475052,0.013867850415408611,0.018151763826608658,0.022882696241140366,0.01914633810520172,0.016050325706601143,0.01790502481162548,0.020551182329654694,0.016607506200671196,0.019133316352963448,0.02316358871757984,0.02324645221233368,0.020496336743235588,0.017941782251000404,0.016259539872407913,0.015244134701788425,0.01784042827785015,0.01744154281914234,0.02137438766658306,0.02223500981926918,0.020075852051377296,0.0180968027561903,0.04186795651912689],[0.0,0.0,0.01398992259055376,0.022331248968839645,0.01824839785695076,0.020842798054218292,0.022546198219060898,0.022583652287721634,0.017302585765719414,0.017204485833644867,0.01835302636027336,0.023129738867282867,0.020289286971092224,0.018267925828695297,0.022770613431930542,0.018430372700095177,0.019243493676185608,0.01885121688246727,0.018244536593556404,0.018851058557629585,0.01925666630268097,0.0201013945043087,0.01889999955892563,0.01634102128446102,0.016952596604824066,0.01864318549633026,0.02128177136182785,0.022668134421110153,0.018980981782078743,0.017216091975569725,0.018617995083332062,0.019618093967437744,0.018357668071985245,0.016131730750203133,0.01812072843313217,0.018763098865747452,0.017062317579984665,0.02011977508664131,0.021424949169158936,0.017611084505915642,0.017782101407647133,0.019147802144289017,0.017490016296505928,0.019208602607250214,0.02207338437438011,0.018537212163209915,0.018873563036322594,0.017394043505191803,0.018642064183950424,0.01954125240445137,0.05005228891968727],[0.0,0.0,0.012293701060116291,0.04158494994044304,0.02504262700676918,0.022065307945013046,0.02273828163743019,0.01953701302409172,0.012780636548995972,0.01153101958334446,0.017119064927101135,0.021271880716085434,0.023327643051743507,0.016158806160092354,0.02296268194913864,0.015743566676974297,0.016385937109589577,0.016698136925697327,0.012047726660966873,0.013231288641691208,0.024908242747187614,0.02153775840997696,0.01217876560986042,0.012583021074533463,0.017704321071505547,0.016660509631037712,0.015709269791841507,0.018548838794231415,0.015553882345557213,0.015428844839334488,0.017099300399422646,0.017868701368570328,0.01625078357756138,0.013137347996234894,0.017404314130544662,0.018460368737578392,0.015651222318410873,0.017187558114528656,0.019741063937544823,0.016412468627095222,0.018366936594247818,0.02191755920648575,0.01327344961464405,0.01372012123465538,0.019766109064221382,0.020644862204790115,0.01658099889755249,0.015853866934776306,0.018544137477874756,0.03589973226189613,0.07424193620681763],[0.0,0.0,0.011482765898108482,0.02258288860321045,0.018973158672451973,0.021822938695549965,0.027784138917922974,0.029458068311214447,0.01930158957839012,0.009805071167647839,0.017179269343614578,0.022633161395788193,0.02044740691781044,0.017776064574718475,0.0195732694119215,0.012998681515455246,0.018665842711925507,0.01652112603187561,0.010305298492312431,0.012911699712276459,0.023852761834859848,0.023033849895000458,0.016941960901021957,0.013653263449668884,0.011227946728467941,0.01164078526198864,0.015293155796825886,0.021827109158039093,0.019198618829250336,0.02043592557311058,0.022137172520160675,0.02107302099466324,0.02177957072854042,0.014326507225632668,0.016109252348542213,0.018008526414632797,0.01835581660270691,0.020290646702051163,0.01726069301366806,0.012688940390944481,0.01638360135257244,0.02324078232049942,0.015021448954939842,0.018159355968236923,0.02937709167599678,0.01620277762413025,0.014236808754503727,0.013439810834825039,0.017191123217344284,0.02913287840783596,0.06878312677145004],[0.0,0.0,0.0,0.0,0.0,0.0,0.0,0.0,0.0,0.0,0.0,0.0,0.0,0.0,0.0,0.0,0.0,0.0,0.0,0.0,0.0,0.0,0.0,0.0,0.0,0.0,0.0,0.5,0.5,0.0,0.0,0.0,0.0,0.0,0.0,0.0,0.0,0.0,0.0,0.0,0.0,0.0,0.0,0.0,0.0,0.0,0.0,0.0,0.0,0.0,0.0]],\"type\":\"surface\"}],                        {\"template\":{\"data\":{\"histogram2dcontour\":[{\"type\":\"histogram2dcontour\",\"colorbar\":{\"outlinewidth\":0,\"ticks\":\"\"},\"colorscale\":[[0.0,\"#0d0887\"],[0.1111111111111111,\"#46039f\"],[0.2222222222222222,\"#7201a8\"],[0.3333333333333333,\"#9c179e\"],[0.4444444444444444,\"#bd3786\"],[0.5555555555555556,\"#d8576b\"],[0.6666666666666666,\"#ed7953\"],[0.7777777777777778,\"#fb9f3a\"],[0.8888888888888888,\"#fdca26\"],[1.0,\"#f0f921\"]]}],\"choropleth\":[{\"type\":\"choropleth\",\"colorbar\":{\"outlinewidth\":0,\"ticks\":\"\"}}],\"histogram2d\":[{\"type\":\"histogram2d\",\"colorbar\":{\"outlinewidth\":0,\"ticks\":\"\"},\"colorscale\":[[0.0,\"#0d0887\"],[0.1111111111111111,\"#46039f\"],[0.2222222222222222,\"#7201a8\"],[0.3333333333333333,\"#9c179e\"],[0.4444444444444444,\"#bd3786\"],[0.5555555555555556,\"#d8576b\"],[0.6666666666666666,\"#ed7953\"],[0.7777777777777778,\"#fb9f3a\"],[0.8888888888888888,\"#fdca26\"],[1.0,\"#f0f921\"]]}],\"heatmap\":[{\"type\":\"heatmap\",\"colorbar\":{\"outlinewidth\":0,\"ticks\":\"\"},\"colorscale\":[[0.0,\"#0d0887\"],[0.1111111111111111,\"#46039f\"],[0.2222222222222222,\"#7201a8\"],[0.3333333333333333,\"#9c179e\"],[0.4444444444444444,\"#bd3786\"],[0.5555555555555556,\"#d8576b\"],[0.6666666666666666,\"#ed7953\"],[0.7777777777777778,\"#fb9f3a\"],[0.8888888888888888,\"#fdca26\"],[1.0,\"#f0f921\"]]}],\"heatmapgl\":[{\"type\":\"heatmapgl\",\"colorbar\":{\"outlinewidth\":0,\"ticks\":\"\"},\"colorscale\":[[0.0,\"#0d0887\"],[0.1111111111111111,\"#46039f\"],[0.2222222222222222,\"#7201a8\"],[0.3333333333333333,\"#9c179e\"],[0.4444444444444444,\"#bd3786\"],[0.5555555555555556,\"#d8576b\"],[0.6666666666666666,\"#ed7953\"],[0.7777777777777778,\"#fb9f3a\"],[0.8888888888888888,\"#fdca26\"],[1.0,\"#f0f921\"]]}],\"contourcarpet\":[{\"type\":\"contourcarpet\",\"colorbar\":{\"outlinewidth\":0,\"ticks\":\"\"}}],\"contour\":[{\"type\":\"contour\",\"colorbar\":{\"outlinewidth\":0,\"ticks\":\"\"},\"colorscale\":[[0.0,\"#0d0887\"],[0.1111111111111111,\"#46039f\"],[0.2222222222222222,\"#7201a8\"],[0.3333333333333333,\"#9c179e\"],[0.4444444444444444,\"#bd3786\"],[0.5555555555555556,\"#d8576b\"],[0.6666666666666666,\"#ed7953\"],[0.7777777777777778,\"#fb9f3a\"],[0.8888888888888888,\"#fdca26\"],[1.0,\"#f0f921\"]]}],\"surface\":[{\"type\":\"surface\",\"colorbar\":{\"outlinewidth\":0,\"ticks\":\"\"},\"colorscale\":[[0.0,\"#0d0887\"],[0.1111111111111111,\"#46039f\"],[0.2222222222222222,\"#7201a8\"],[0.3333333333333333,\"#9c179e\"],[0.4444444444444444,\"#bd3786\"],[0.5555555555555556,\"#d8576b\"],[0.6666666666666666,\"#ed7953\"],[0.7777777777777778,\"#fb9f3a\"],[0.8888888888888888,\"#fdca26\"],[1.0,\"#f0f921\"]]}],\"mesh3d\":[{\"type\":\"mesh3d\",\"colorbar\":{\"outlinewidth\":0,\"ticks\":\"\"}}],\"scatter\":[{\"fillpattern\":{\"fillmode\":\"overlay\",\"size\":10,\"solidity\":0.2},\"type\":\"scatter\"}],\"parcoords\":[{\"type\":\"parcoords\",\"line\":{\"colorbar\":{\"outlinewidth\":0,\"ticks\":\"\"}}}],\"scatterpolargl\":[{\"type\":\"scatterpolargl\",\"marker\":{\"colorbar\":{\"outlinewidth\":0,\"ticks\":\"\"}}}],\"bar\":[{\"error_x\":{\"color\":\"#2a3f5f\"},\"error_y\":{\"color\":\"#2a3f5f\"},\"marker\":{\"line\":{\"color\":\"#E5ECF6\",\"width\":0.5},\"pattern\":{\"fillmode\":\"overlay\",\"size\":10,\"solidity\":0.2}},\"type\":\"bar\"}],\"scattergeo\":[{\"type\":\"scattergeo\",\"marker\":{\"colorbar\":{\"outlinewidth\":0,\"ticks\":\"\"}}}],\"scatterpolar\":[{\"type\":\"scatterpolar\",\"marker\":{\"colorbar\":{\"outlinewidth\":0,\"ticks\":\"\"}}}],\"histogram\":[{\"marker\":{\"pattern\":{\"fillmode\":\"overlay\",\"size\":10,\"solidity\":0.2}},\"type\":\"histogram\"}],\"scattergl\":[{\"type\":\"scattergl\",\"marker\":{\"colorbar\":{\"outlinewidth\":0,\"ticks\":\"\"}}}],\"scatter3d\":[{\"type\":\"scatter3d\",\"line\":{\"colorbar\":{\"outlinewidth\":0,\"ticks\":\"\"}},\"marker\":{\"colorbar\":{\"outlinewidth\":0,\"ticks\":\"\"}}}],\"scattermapbox\":[{\"type\":\"scattermapbox\",\"marker\":{\"colorbar\":{\"outlinewidth\":0,\"ticks\":\"\"}}}],\"scatterternary\":[{\"type\":\"scatterternary\",\"marker\":{\"colorbar\":{\"outlinewidth\":0,\"ticks\":\"\"}}}],\"scattercarpet\":[{\"type\":\"scattercarpet\",\"marker\":{\"colorbar\":{\"outlinewidth\":0,\"ticks\":\"\"}}}],\"carpet\":[{\"aaxis\":{\"endlinecolor\":\"#2a3f5f\",\"gridcolor\":\"white\",\"linecolor\":\"white\",\"minorgridcolor\":\"white\",\"startlinecolor\":\"#2a3f5f\"},\"baxis\":{\"endlinecolor\":\"#2a3f5f\",\"gridcolor\":\"white\",\"linecolor\":\"white\",\"minorgridcolor\":\"white\",\"startlinecolor\":\"#2a3f5f\"},\"type\":\"carpet\"}],\"table\":[{\"cells\":{\"fill\":{\"color\":\"#EBF0F8\"},\"line\":{\"color\":\"white\"}},\"header\":{\"fill\":{\"color\":\"#C8D4E3\"},\"line\":{\"color\":\"white\"}},\"type\":\"table\"}],\"barpolar\":[{\"marker\":{\"line\":{\"color\":\"#E5ECF6\",\"width\":0.5},\"pattern\":{\"fillmode\":\"overlay\",\"size\":10,\"solidity\":0.2}},\"type\":\"barpolar\"}],\"pie\":[{\"automargin\":true,\"type\":\"pie\"}]},\"layout\":{\"autotypenumbers\":\"strict\",\"colorway\":[\"#636efa\",\"#EF553B\",\"#00cc96\",\"#ab63fa\",\"#FFA15A\",\"#19d3f3\",\"#FF6692\",\"#B6E880\",\"#FF97FF\",\"#FECB52\"],\"font\":{\"color\":\"#2a3f5f\"},\"hovermode\":\"closest\",\"hoverlabel\":{\"align\":\"left\"},\"paper_bgcolor\":\"white\",\"plot_bgcolor\":\"#E5ECF6\",\"polar\":{\"bgcolor\":\"#E5ECF6\",\"angularaxis\":{\"gridcolor\":\"white\",\"linecolor\":\"white\",\"ticks\":\"\"},\"radialaxis\":{\"gridcolor\":\"white\",\"linecolor\":\"white\",\"ticks\":\"\"}},\"ternary\":{\"bgcolor\":\"#E5ECF6\",\"aaxis\":{\"gridcolor\":\"white\",\"linecolor\":\"white\",\"ticks\":\"\"},\"baxis\":{\"gridcolor\":\"white\",\"linecolor\":\"white\",\"ticks\":\"\"},\"caxis\":{\"gridcolor\":\"white\",\"linecolor\":\"white\",\"ticks\":\"\"}},\"coloraxis\":{\"colorbar\":{\"outlinewidth\":0,\"ticks\":\"\"}},\"colorscale\":{\"sequential\":[[0.0,\"#0d0887\"],[0.1111111111111111,\"#46039f\"],[0.2222222222222222,\"#7201a8\"],[0.3333333333333333,\"#9c179e\"],[0.4444444444444444,\"#bd3786\"],[0.5555555555555556,\"#d8576b\"],[0.6666666666666666,\"#ed7953\"],[0.7777777777777778,\"#fb9f3a\"],[0.8888888888888888,\"#fdca26\"],[1.0,\"#f0f921\"]],\"sequentialminus\":[[0.0,\"#0d0887\"],[0.1111111111111111,\"#46039f\"],[0.2222222222222222,\"#7201a8\"],[0.3333333333333333,\"#9c179e\"],[0.4444444444444444,\"#bd3786\"],[0.5555555555555556,\"#d8576b\"],[0.6666666666666666,\"#ed7953\"],[0.7777777777777778,\"#fb9f3a\"],[0.8888888888888888,\"#fdca26\"],[1.0,\"#f0f921\"]],\"diverging\":[[0,\"#8e0152\"],[0.1,\"#c51b7d\"],[0.2,\"#de77ae\"],[0.3,\"#f1b6da\"],[0.4,\"#fde0ef\"],[0.5,\"#f7f7f7\"],[0.6,\"#e6f5d0\"],[0.7,\"#b8e186\"],[0.8,\"#7fbc41\"],[0.9,\"#4d9221\"],[1,\"#276419\"]]},\"xaxis\":{\"gridcolor\":\"white\",\"linecolor\":\"white\",\"ticks\":\"\",\"title\":{\"standoff\":15},\"zerolinecolor\":\"white\",\"automargin\":true,\"zerolinewidth\":2},\"yaxis\":{\"gridcolor\":\"white\",\"linecolor\":\"white\",\"ticks\":\"\",\"title\":{\"standoff\":15},\"zerolinecolor\":\"white\",\"automargin\":true,\"zerolinewidth\":2},\"scene\":{\"xaxis\":{\"backgroundcolor\":\"#E5ECF6\",\"gridcolor\":\"white\",\"linecolor\":\"white\",\"showbackground\":true,\"ticks\":\"\",\"zerolinecolor\":\"white\",\"gridwidth\":2},\"yaxis\":{\"backgroundcolor\":\"#E5ECF6\",\"gridcolor\":\"white\",\"linecolor\":\"white\",\"showbackground\":true,\"ticks\":\"\",\"zerolinecolor\":\"white\",\"gridwidth\":2},\"zaxis\":{\"backgroundcolor\":\"#E5ECF6\",\"gridcolor\":\"white\",\"linecolor\":\"white\",\"showbackground\":true,\"ticks\":\"\",\"zerolinecolor\":\"white\",\"gridwidth\":2}},\"shapedefaults\":{\"line\":{\"color\":\"#2a3f5f\"}},\"annotationdefaults\":{\"arrowcolor\":\"#2a3f5f\",\"arrowhead\":0,\"arrowwidth\":1},\"geo\":{\"bgcolor\":\"white\",\"landcolor\":\"#E5ECF6\",\"subunitcolor\":\"white\",\"showland\":true,\"showlakes\":true,\"lakecolor\":\"white\"},\"title\":{\"x\":0.05},\"mapbox\":{\"style\":\"light\"}}},\"margin\":{\"l\":65,\"r\":50,\"b\":80,\"t\":90},\"title\":{\"text\":\"Real Model Update Distributions\"},\"autosize\":false,\"width\":500,\"height\":500},                        {\"responsive\": true}                    ).then(function(){\n",
       "                            \n",
       "var gd = document.getElementById('fb719efa-ec71-4df4-a56c-3f3dfc75e860');\n",
       "var x = new MutationObserver(function (mutations, observer) {{\n",
       "        var display = window.getComputedStyle(gd).display;\n",
       "        if (!display || display === 'none') {{\n",
       "            console.log([gd, 'removed!']);\n",
       "            Plotly.purge(gd);\n",
       "            observer.disconnect();\n",
       "        }}\n",
       "}});\n",
       "\n",
       "// Listen for the removal of the full notebook cells\n",
       "var notebookContainer = gd.closest('#notebook-container');\n",
       "if (notebookContainer) {{\n",
       "    x.observe(notebookContainer, {childList: true});\n",
       "}}\n",
       "\n",
       "// Listen for the clearing of the current output cell\n",
       "var outputEl = gd.closest('.output');\n",
       "if (outputEl) {{\n",
       "    x.observe(outputEl, {childList: true});\n",
       "}}\n",
       "\n",
       "                        })                };                });            </script>        </div>"
      ]
     },
     "metadata": {},
     "output_type": "display_data"
    }
   ],
   "source": [
    "q=dqn.q(torch.randn(8,4).to(device=default_device()))\n",
    "p=dqn.p(torch.randn(8,4).to(device=default_device()))\n",
    "\n",
    "output=categorical_update(dqn.supports,dqn.z_delta,q,p,actions,rewards,dones)\n",
    "show_q_distribution(output,title='Real Model Update Distributions')"
   ]
  },
  {
   "cell_type": "code",
   "execution_count": null,
   "id": "f2ff7f35-68f3-4191-af16-9746c5d2e076",
   "metadata": {},
   "outputs": [],
   "source": [
    "#|export\n",
    "def PartialCrossEntropy(p,q): return (-p*q).sum(dim=1).mean()"
   ]
  },
  {
   "cell_type": "code",
   "execution_count": null,
   "id": "a37c3433-2c59-4275-b9cb-b88358cc0f2e",
   "metadata": {},
   "outputs": [],
   "source": [
    "#|export\n",
    "class CategoricalTargetQCalc(dp.iter.IterDataPipe):\n",
    "    debug = False\n",
    "    \n",
    "    def __init__(self,source_datapipe,discount=0.99,nsteps=1,device=None,double_dqn_strategy=False):\n",
    "        self.source_datapipe = source_datapipe\n",
    "        self.discount = discount\n",
    "        self.nsteps = nsteps\n",
    "        self.device = device\n",
    "        self.double_dqn_strategy = double_dqn_strategy\n",
    "        if source_datapipe is not None: self.learner = find_dp(traverse(self),LearnerBase)\n",
    "        \n",
    "    def reset(self):\n",
    "        self.learner = find_dp(traverse(self),LearnerBase)\n",
    "        \n",
    "    def __iter__(self):\n",
    "        for batch in self.source_datapipe:            \n",
    "            if self.device is not None: batch = batch.device(self.device)\n",
    "            actions = batch.action.long()\n",
    "            self.learner.done_mask = batch.terminated.reshape(-1,)\n",
    "            with torch.no_grad():\n",
    "                target_actions = actions\n",
    "                if self.double_dqn_strategy:\n",
    "                    target_actions = self.learner.model.policy(batch.next_state).argmax(dim=1).reshape(-1,)\n",
    "                    target_actions = target_actions.long()\n",
    "                \n",
    "                distribution_m = categorical_update(self.learner.target_model.supports,\n",
    "                                          self.learner.target_model.z_delta,\n",
    "                                          self.learner.target_model.q(batch.next_state),\n",
    "                                          self.learner.target_model.p(batch.next_state),\n",
    "                                          target_actions,batch.reward,\n",
    "                                          self.learner.done_mask,nsteps=self.nsteps,\n",
    "                                          debug=self.debug)\n",
    "            self.learner.target_qs = distribution_m # (distribution_m,)\n",
    "            v = self.learner.model(batch.state)\n",
    "            self.learner.pred_raw = v[np.arange(v.shape[0]),actions.reshape(-1,),:]\n",
    "            self.learner.pred = F.log_softmax(self.learner.pred_raw,dim=1)\n",
    "            yield batch\n",
    "    \n",
    "    @classmethod\n",
    "    def replace_remove_dp(cls,\n",
    "                          old_dp=(QCalc,TargetModelQCalc),\n",
    "                          rm_dp=(TargetCalc,),\n",
    "                          device=None,\n",
    "                          discount=0.99,\n",
    "                          nsteps=1,\n",
    "                          double_dqn_strategy=False\n",
    "                         ) -> Callable[[DataPipe],DataPipe]:\n",
    "        def _replace_remove_dp(pipe):\n",
    "            found = False\n",
    "            for _old_dp in old_dp:\n",
    "                try:\n",
    "                    old_dp_instance = find_dp(traverse(pipe),_old_dp)\n",
    "                    v = replace_dp(\n",
    "                        traverse(pipe),\n",
    "                        old_dp_instance,\n",
    "                        cls(old_dp_instance.source_datapipe,device=device,discount=discount,nsteps=nsteps,\n",
    "                            double_dqn_strategy=double_dqn_strategy)\n",
    "                    )\n",
    "                    pipe = list(v.values())[0][0]\n",
    "                    found = True\n",
    "                except LookupError: pass\n",
    "            if not found: \n",
    "                warn(f'Unable to find any: {old_dp} to replace with {cls} given {traverse(pipe)}')\n",
    "            found = False\n",
    "            for _rm_dp in rm_dp:\n",
    "                try:\n",
    "                    old_dp_instance = find_dp(traverse(pipe),_rm_dp)\n",
    "                    v = remove_dp(\n",
    "                        traverse(pipe),\n",
    "                        old_dp_instance\n",
    "                    )\n",
    "                    pipe = list(v.values())[0][0]\n",
    "                    found = True\n",
    "                except LookupError: pass\n",
    "                except RuntimeError:\n",
    "                    print(traverse(pipe))\n",
    "                    raise\n",
    "            if not found: \n",
    "                warn(f'Unable to find any: {rm_dp} to replace with {cls} given {traverse(pipe)}')\n",
    "            return pipe\n",
    "        return _replace_remove_dp"
   ]
  },
  {
   "cell_type": "code",
   "execution_count": null,
   "id": "a040a01b-0dd0-4281-b1e5-13ac4362ce59",
   "metadata": {},
   "outputs": [],
   "source": [
    "#|export\n",
    "class MultiModelRunner(dp.iter.IterDataPipe):\n",
    "    \"If a model contains multiple models, then we support selecting a sub model.\"\n",
    "    def __init__(self,\n",
    "                 source_datapipe,\n",
    "                 device:Optional[str]=None,\n",
    "                 model_name:str='policy'\n",
    "                ): \n",
    "        self.source_datapipe = source_datapipe\n",
    "        self.agent_base = find_dp(traverse(self),AgentBase)\n",
    "        self.model = getattr(self.agent_base.model,model_name)\n",
    "        self.device = device\n",
    "    \n",
    "    def __iter__(self):\n",
    "        for x in self.source_datapipe:\n",
    "            if self.device is not None: \n",
    "                x = x.to(torch.device(self.device))\n",
    "            if len(x.shape)==1: x = x.unsqueeze(0)\n",
    "            yield self.model(x)\n",
    "            \n",
    "    @classmethod\n",
    "    def _replace_dp(cls,pipe,old_dp=SimpleModelRunner,device=None,model_name:str='policy'):\n",
    "        old_dp_instance = find_dp(traverse(pipe),old_dp)\n",
    "        v = replace_dp(\n",
    "            traverse(pipe),\n",
    "            old_dp_instance,\n",
    "            cls(old_dp_instance.source_datapipe,device=device,model_name=model_name)\n",
    "        )\n",
    "        return list(v.values())[0][0]\n",
    "            \n",
    "    @classmethod\n",
    "    def replace_dp(cls,old_dp=SimpleModelRunner,device=None,model_name:str='policy') -> Callable[[DataPipe],DataPipe]:\n",
    "        return partial(cls._replace_dp,old_dp=old_dp,device=device,model_name=model_name)"
   ]
  },
  {
   "cell_type": "code",
   "execution_count": null,
   "id": "8ed03064-9284-47da-8294-f97c3590eb8d",
   "metadata": {},
   "outputs": [],
   "source": [
    "from torchdata.datapipes.utils import to_graph\n",
    "from fastrl.envs.gym import *\n",
    "from fastrl.agents.dqn.target import *"
   ]
  },
  {
   "cell_type": "code",
   "execution_count": null,
   "id": "0a89f614-19bf-4d27-8551-0e205a80224a",
   "metadata": {},
   "outputs": [
    {
     "data": {
      "text/html": [
       "\n",
       "<style>\n",
       "    /* Turns off some styling */\n",
       "    progress {\n",
       "        /* gets rid of default border in Firefox and Opera. */\n",
       "        border: none;\n",
       "        /* Needs to be in here for Safari polyfill so background images work as expected. */\n",
       "        background-size: auto;\n",
       "    }\n",
       "    progress:not([value]), progress:not([value])::-webkit-progress-bar {\n",
       "        background: repeating-linear-gradient(45deg, #7e7e7e, #7e7e7e 10px, #5c5c5c 10px, #5c5c5c 20px);\n",
       "    }\n",
       "    .progress-bar-interrupted, .progress-bar-interrupted::-webkit-progress-bar {\n",
       "        background: #F44336;\n",
       "    }\n",
       "</style>\n"
      ],
      "text/plain": [
       "<IPython.core.display.HTML object>"
      ]
     },
     "metadata": {},
     "output_type": "display_data"
    },
    {
     "data": {
      "text/html": [
       "<table border=\"1\" class=\"dataframe\">\n",
       "  <thead>\n",
       "    <tr style=\"text-align: left;\">\n",
       "      <th>loss</th>\n",
       "      <th>episode</th>\n",
       "      <th>rolling_reward</th>\n",
       "      <th>epoch</th>\n",
       "      <th>batch</th>\n",
       "      <th>epsilon</th>\n",
       "    </tr>\n",
       "  </thead>\n",
       "  <tbody>\n",
       "    <tr>\n",
       "      <td>2.8483639</td>\n",
       "      <td>65</td>\n",
       "      <td>30.870000</td>\n",
       "      <td>0</td>\n",
       "      <td>1001</td>\n",
       "      <td>0.523000</td>\n",
       "    </tr>\n",
       "  </tbody>\n",
       "</table>"
      ],
      "text/plain": [
       "<IPython.core.display.HTML object>"
      ]
     },
     "metadata": {},
     "output_type": "display_data"
    }
   ],
   "source": [
    "#|eval: false\n",
    "# Setup Loggers\n",
    "logger_base = ProgressBarLogger(epoch_on_pipe=EpocherCollector,\n",
    "                 batch_on_pipe=BatchCollector)\n",
    "\n",
    "# Setup up the core NN\n",
    "torch.manual_seed(0)\n",
    "model = CategoricalDQN(4,2).to(device='cuda')\n",
    "# Setup the Agent\n",
    "agent = DQNAgent(model,[logger_base],max_steps=4000,device='cuda',\n",
    "                dp_augmentation_fns=[\n",
    "                    MultiModelRunner.replace_dp(device='cuda')\n",
    "])\n",
    "# Setup the DataBlock\n",
    "block = DataBlock(\n",
    "    GymTransformBlock(agent=agent,nsteps=2,nskips=2,firstlast=True), # We basically merge 2 steps into 1 and skip. \n",
    "    (GymTransformBlock(agent=agent,nsteps=2,nskips=2,firstlast=True,n=100,include_images=True),VSCodeTransformBlock())\n",
    ")\n",
    "# pipes = L(block.datapipes(['CartPole-v1']*1,n=10))\n",
    "dls = L(block.dataloaders(['CartPole-v1']*1))\n",
    "# Setup the Learner\n",
    "learner = DQNLearner(model,dls,logger_bases=[logger_base],bs=128,\n",
    "                     batches=1000,\n",
    "                     loss_func = PartialCrossEntropy,\n",
    "                     device='cuda',\n",
    "                     max_sz=100_000,\n",
    "                     lr=0.001,\n",
    "                     dp_augmentation_fns=[\n",
    "                         TargetModelUpdater.insert_dp(),\n",
    "                         CategoricalTargetQCalc.replace_remove_dp(device='cuda',nsteps=2,double_dqn_strategy=True)\n",
    "                     ])\n",
    "learner.fit(1)\n",
    "# learner.fit(7)"
   ]
  },
  {
   "cell_type": "code",
   "execution_count": null,
   "id": "af609734",
   "metadata": {},
   "outputs": [
    {
     "name": "stdout",
     "output_type": "stream",
     "text": [
      "Creating gif from 100 frames\n"
     ]
    },
    {
     "data": {
      "image/png": "[encoded data removed]",
      "text/plain": [
       "<IPython.core.display.Image object>"
      ]
     },
     "execution_count": null,
     "metadata": {},
     "output_type": "execute_result"
    }
   ],
   "source": [
    "#|hide\n",
    "#|eval: false\n",
    "learner.validate()"
   ]
  },
  {
   "cell_type": "code",
   "execution_count": null,
   "id": "0e3f974d-076c-4acf-b293-728dd6c0e69e",
   "metadata": {},
   "outputs": [],
   "source": [
    "from IPython.display import HTML\n",
    "import plotly.express as px\n",
    "from torchdata.dataloader2.graph import find_dps,traverse"
   ]
  },
  {
   "cell_type": "code",
   "execution_count": null,
   "id": "ef0398a3-0d81-45c4-ba79-a06272ec45ae",
   "metadata": {},
   "outputs": [],
   "source": [
    "#|export\n",
    "def show_q(cat_dist,title='Update Distributions'):\n",
    "    \"`cat_dist` being shape: (bs,n_atoms)\"\n",
    "    from IPython.display import HTML\n",
    "    import plotly.graph_objects as go\n",
    "    from plotly.subplots import make_subplots\n",
    "    \n",
    "    distributions=to_detach(cat_dist).numpy()\n",
    "    actions=np.argmax(distributions,axis=1).reshape(-1,)\n",
    "    fig = make_subplots(rows=1, cols=2,\n",
    "                        specs=[[{\"type\": \"surface\"},{\"type\": \"xy\"}]])\n",
    "    fig.add_trace(go.Surface(z=distributions, showscale=False),row=1, col=1)\n",
    "    fig.add_trace(go.Scatter(x=np.arange(len(actions)),y=actions),row=1, col=2)\n",
    "    fig.update_layout(title=title,autosize=False,\n",
    "                      width=1000, height=500,#template='plotly_dark',\n",
    "                      margin=dict(l=65, r=50, b=80, t=90))\n",
    "    return fig.show()"
   ]
  },
  {
   "cell_type": "code",
   "execution_count": null,
   "id": "current-pilot",
   "metadata": {},
   "outputs": [],
   "source": [
    "#|hide\n",
    "#|eval: false\n",
    "from fastcore.imports import in_colab\n",
    "\n",
    "# Since colab still requires tornado<6, we don't want to import nbdev if we don't have to\n",
    "if not in_colab():\n",
    "    from nbdev import nbdev_export\n",
    "    nbdev_export()"
   ]
  },
  {
   "cell_type": "code",
   "execution_count": null,
   "id": "58f49e1d",
   "metadata": {},
   "outputs": [],
   "source": []
  }
 ],
 "metadata": {
  "kernelspec": {
   "display_name": "python3",
   "language": "python",
   "name": "python3"
  }
 },
 "nbformat": 4,
 "nbformat_minor": 5
}
