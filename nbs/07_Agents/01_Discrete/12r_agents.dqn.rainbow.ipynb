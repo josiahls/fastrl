{
 "cells": [
  {
   "cell_type": "code",
   "execution_count": null,
   "id": "durable-dialogue",
   "metadata": {},
   "outputs": [],
   "source": [
    "#|hide\n",
    "#|eval: false\n",
    "! [ -e /content ] && pip install -Uqq fastrl['dev'] pyvirtualdisplay && \\\n",
    "                     apt-get install -y xvfb python-opengl > /dev/null 2>&1 \n",
    "# NOTE: IF YOU SEE VERSION ERRORS, IT IS SAFE TO IGNORE THEM. COLAB IS BEHIND IN SOME OF THE PACKAGE VERSIONS"
   ]
  },
  {
   "cell_type": "code",
   "execution_count": null,
   "id": "viral-cambridge",
   "metadata": {},
   "outputs": [],
   "source": [
    "#|hide\n",
    "#|eval: false\n",
    "from fastcore.imports import in_colab\n",
    "# Since colab still requires tornado<6, we don't want to import nbdev if we don't have to\n",
    "if not in_colab():\n",
    "    from nbdev.showdoc import *\n",
    "    from nbdev.imports import *\n",
    "    if not os.environ.get(\"IN_TEST\", None):\n",
    "        assert IN_NOTEBOOK\n",
    "        assert not IN_COLAB\n",
    "        assert IN_IPYTHON\n",
    "else:\n",
    "    # Virutual display is needed for colab\n",
    "    from pyvirtualdisplay import Display\n",
    "    display = Display(visible=0, size=(400, 300))\n",
    "    display.start()"
   ]
  },
  {
   "cell_type": "code",
   "execution_count": null,
   "id": "offshore-stuart",
   "metadata": {},
   "outputs": [],
   "source": [
    "#|default_exp agents.dqn.dueling"
   ]
  },
  {
   "cell_type": "code",
   "execution_count": null,
   "id": "assisted-contract",
   "metadata": {},
   "outputs": [],
   "source": [
    "#|export\n",
    "# Python native modules\n",
    "import os\n",
    "from collections import deque\n",
    "from typing import *\n",
    "# Third party libs\n",
    "from fastcore.all import *\n",
    "import torchdata.datapipes as dp\n",
    "from torch.utils.data.dataloader_experimental import DataLoader2\n",
    "from torch.utils.data.datapipes._typing import _DataPipeMeta, _IterDataPipeMeta\n",
    "from torchdata.dataloader2.graph import find_dps,traverse,DataPipe,replace_dp,remove_dp\n",
    "# Local modules\n",
    "import torch\n",
    "from torch.nn import *\n",
    "import torch.nn.functional as F\n",
    "from torch.optim import *\n",
    "\n",
    "from fastrl.torch_core import *\n",
    "\n",
    "from fastrl.core import *\n",
    "from fastrl.agents.core import *\n",
    "from fastrl.pipes.core import *\n",
    "from fastrl.data.block import *\n",
    "from fastrl.memory.experience_replay import *\n",
    "from fastrl.agents.core import *\n",
    "from fastrl.agents.discrete import *\n",
    "from fastrl.loggers.core import *\n",
    "from fastrl.loggers.vscode_visualizers import *\n",
    "from fastrl.learner.core import *\n",
    "from fastrl.agents.dqn.basic import *\n",
    "from fastrl.agents.dqn.target import *\n",
    "from fastrl.agents.dqn.double import *\n",
    "from fastrl.agents.dqn.dueling import *\n",
    "from fastrl.agents.dqn.categorical import *"
   ]
  },
  {
   "cell_type": "markdown",
   "id": "lesser-innocent",
   "metadata": {},
   "source": [
    "# DQN Rainbow\n",
    "> Combines target, dueling, double, categorical dqns\n",
    "\n",
    "> Important: I think this also needs special exploration layers also to be officially a rainbow implimentation"
   ]
  },
  {
   "cell_type": "code",
   "execution_count": null,
   "id": "a73013fe",
   "metadata": {},
   "outputs": [],
   "source": [
    "from fastrl.envs.gym import *"
   ]
  },
  {
   "cell_type": "code",
   "execution_count": null,
   "id": "7b6828da-23ae-4762-8e33-a3a7f123fed3",
   "metadata": {},
   "outputs": [],
   "source": [
    "#|eval: false\n",
    "# Setup Loggers\n",
    "logger_base = ProgressBarLogger(epoch_on_pipe=EpocherCollector,\n",
    "                 batch_on_pipe=BatchCollector)\n",
    "\n",
    "# Setup up the core NN\n",
    "torch.manual_seed(0)\n",
    "model = CategoricalDQN( # CategoricalDQN\n",
    "    4,2,\n",
    "    head_layer=DuelingHead # DuelingDQN\n",
    ").to(device='cuda')\n",
    "# Setup the Agent\n",
    "agent = DQNAgent(model,[logger_base],max_steps=4000,device='cuda',\n",
    "                dp_augmentation_fns=[\n",
    "                    MultiModelRunner.replace_dp(device='cuda') # CategoricalDQN\n",
    "])\n",
    "# Setup the DataBlock\n",
    "block = DataBlock(\n",
    "    GymTransformBlock(agent=agent,nsteps=2,nskips=2,firstlast=True), # We basically merge 2 steps into 1 and skip. \n",
    "    (GymTransformBlock(agent=agent,nsteps=2,nskips=2,firstlast=True,n=100,include_images=True),VSCodeTransformBlock())\n",
    ")\n",
    "dls = L(block.dataloaders(['CartPole-v1']*1))\n",
    "# Setup the Learner\n",
    "learner = DQNLearner(model,dls,logger_bases=[logger_base],bs=128,\n",
    "                     batches=1000,\n",
    "                     loss_func = PartialCrossEntropy, # CategoricalDQN\n",
    "                     device='cuda',\n",
    "                     max_sz=100_000,\n",
    "                     lr=0.001,\n",
    "                     dp_augmentation_fns=[\n",
    "                         TargetModelUpdater.insert_dp(),# TargetDQN\n",
    "                         CategoricalTargetQCalc.replace_remove_dp( # CategoricalDQN\n",
    "                             device='cuda',\n",
    "                             nsteps=2,\n",
    "                             double_dqn_strategy=True # DoubleDQN\n",
    "                         )\n",
    "                     ])\n",
    "learner.fit(1)\n",
    "# learner.fit(7)"
   ]
  },
  {
   "cell_type": "code",
   "execution_count": null,
   "id": "b87fc47b",
   "metadata": {},
   "outputs": [],
   "source": [
    "#|hide\n",
    "#|eval:false\n",
    "learner.validate()"
   ]
  },
  {
   "cell_type": "code",
   "execution_count": null,
   "id": "current-pilot",
   "metadata": {},
   "outputs": [],
   "source": [
    "#|hide\n",
    "#|eval: false\n",
    "from fastcore.imports import in_colab\n",
    "\n",
    "# Since colab still requires tornado<6, we don't want to import nbdev if we don't have to\n",
    "if not in_colab():\n",
    "    from nbdev import nbdev_export\n",
    "    nbdev_export()"
   ]
  },
  {
   "cell_type": "code",
   "execution_count": null,
   "id": "ab3d3626-1702-4f22-ae15-bb93a75bec68",
   "metadata": {},
   "outputs": [],
   "source": []
  }
 ],
 "metadata": {
  "kernelspec": {
   "display_name": "python3",
   "language": "python",
   "name": "python3"
  }
 },
 "nbformat": 4,
 "nbformat_minor": 5
}
