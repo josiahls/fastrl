{
 "cells": [
  {
   "cell_type": "code",
   "execution_count": 1,
   "id": "durable-dialogue",
   "metadata": {},
   "outputs": [],
   "source": [
    "#|hide\n",
    "from fastrl.test_utils import initialize_notebook\n",
    "initialize_notebook()"
   ]
  },
  {
   "cell_type": "code",
   "execution_count": 2,
   "id": "offshore-stuart",
   "metadata": {},
   "outputs": [],
   "source": [
    "#|default_exp agents.dqn.basic"
   ]
  },
  {
   "cell_type": "code",
   "execution_count": 3,
   "id": "assisted-contract",
   "metadata": {},
   "outputs": [],
   "source": [
    "#|export\n",
    "# Python native modules\n",
    "import os\n",
    "from collections import deque\n",
    "from typing import Callable,Optional,List\n",
    "# Third party libs\n",
    "from fastcore.all import ifnone\n",
    "import torchdata.datapipes as dp\n",
    "from torchdata.dataloader2 import DataLoader2\n",
    "from torchdata.dataloader2.graph import traverse_dps,DataPipe\n",
    "import torch\n",
    "import torch.nn.functional as F\n",
    "from torch import optim\n",
    "from torch import nn\n",
    "import numpy as np\n",
    "# Local modules\n",
    "# from fastrl.core import *\n",
    "from fastrl.agents.core import AgentHead,AgentBase\n",
    "from fastrl.pipes.core import find_dp\n",
    "# from fastrl.data.block import *\n",
    "# from fastrl.dataloader2_ext import *\n",
    "from fastrl.memory.experience_replay import ExperienceReplay\n",
    "from fastrl.agents.core import StepFieldSelector,SimpleModelRunner,NumpyConverter\n",
    "from fastrl.agents.discrete import EpsilonCollector,PyPrimativeConverter,ArgMaxer,EpsilonSelector\n",
    "from fastrl.loggers.core import (\n",
    "    CacheLoggerBase,LogCollector,Record,LoggerBasePassThrough,BatchCollector,EpocherCollector,RollingTerminatedRewardCollector,EpisodeCollector\n",
    ")\n",
    "# from fastrl.loggers.vscode_visualizers import *\n",
    "from fastrl.learner.core import LearnerBase,LearnerHead,StepBatcher\n",
    "from fastrl.torch_core import Module\n",
    "# from fastrl.data.dataloader2 import *"
   ]
  },
  {
   "attachments": {},
   "cell_type": "markdown",
   "id": "lesser-innocent",
   "metadata": {},
   "source": [
    "# DQN Basic\n",
    "> Core DQN modules, pipes, and tooling"
   ]
  },
  {
   "attachments": {},
   "cell_type": "markdown",
   "id": "f18f79cf-4763-451d-92a2-817b532ba9d8",
   "metadata": {},
   "source": [
    "## Model"
   ]
  },
  {
   "cell_type": "code",
   "execution_count": 4,
   "id": "6241ea68-611d-4cdf-abdb-4e2a58af23ae",
   "metadata": {},
   "outputs": [],
   "source": [
    "#|export\n",
    "class DQN(Module):\n",
    "    def __init__(self,\n",
    "                 state_sz:int,  # The input dim of the state\n",
    "                 action_sz:int, # The output dim of the actions\n",
    "                 hidden=512,    # Number of neurons connected between the 2 input/output layers\n",
    "                 head_layer:Module=nn.Linear, # DQN extensions such as Dueling DQNs have custom heads\n",
    "                 activition_fn:Module=nn.ReLU # The activiation fn used by `DQN`\n",
    "                ):\n",
    "        self.layers=nn.Sequential(\n",
    "            nn.Linear(state_sz,hidden),\n",
    "            activition_fn(),\n",
    "            head_layer(hidden,action_sz),\n",
    "        )\n",
    "    def forward(self,x): return self.layers(x)\n"
   ]
  },
  {
   "attachments": {},
   "cell_type": "markdown",
   "id": "c4cfe338-de27-4c61-a18d-d74ea33fde37",
   "metadata": {},
   "source": [
    "## Agent"
   ]
  },
  {
   "cell_type": "code",
   "execution_count": 5,
   "id": "480529a0-a23f-425a-a165-d4915c96c2f0",
   "metadata": {},
   "outputs": [],
   "source": [
    "#|export\n",
    "DataPipeAugmentationFn = Callable[[DataPipe],Optional[DataPipe]]\n",
    "\n",
    "def DQNAgent(\n",
    "    model,\n",
    "    logger_bases=None,\n",
    "    min_epsilon=0.02,\n",
    "    max_epsilon=1,\n",
    "    max_steps=1000,\n",
    "    device='cpu',\n",
    "    dp_augmentation_fns:Optional[List[DataPipeAugmentationFn]]=None\n",
    ")->AgentHead:\n",
    "    agent_base = AgentBase(model,logger_bases=ifnone(logger_bases,[CacheLoggerBase()]))\n",
    "    agent = StepFieldSelector(agent_base,field='state')\n",
    "    # agent = InputInjester(agent)\n",
    "    agent = SimpleModelRunner(agent).to(device=device)\n",
    "    agent = ArgMaxer(agent)\n",
    "    agent = EpsilonSelector(agent,min_epsilon=min_epsilon,max_epsilon=max_epsilon,max_steps=max_steps,device=device)\n",
    "    if agent_base.logger_bases is not None: \n",
    "        agent = EpsilonCollector(agent)\n",
    "    agent = ArgMaxer(agent,only_idx=True)\n",
    "    agent = NumpyConverter(agent)\n",
    "    agent = PyPrimativeConverter(agent)\n",
    "    agent = AgentHead(agent)\n",
    "    \n",
    "    for fn in ifnone(dp_augmentation_fns,[]):\n",
    "        result = fn(agent)\n",
    "        if result is not None: agent = result\n",
    "    return agent"
   ]
  },
  {
   "cell_type": "code",
   "execution_count": 6,
   "id": "437f871a-64bb-42ac-868c-d37b0282c9d0",
   "metadata": {},
   "outputs": [],
   "source": [
    "torch.manual_seed(0)\n",
    "model = DQN(4,2)\n",
    "\n",
    "agent = DQNAgent(model)"
   ]
  },
  {
   "cell_type": "code",
   "execution_count": 7,
   "id": "fe7ed064",
   "metadata": {},
   "outputs": [],
   "source": [
    "from fastcore.all import test_eq\n",
    "from fastrl.core import SimpleStep"
   ]
  },
  {
   "cell_type": "code",
   "execution_count": 8,
   "id": "441c6eac-7851-4539-aa91-295479d05cdb",
   "metadata": {},
   "outputs": [
    {
     "name": "stdout",
     "output_type": "stream",
     "text": [
      "1\n"
     ]
    }
   ],
   "source": [
    "input_tensor = torch.tensor([1,2,3,4]).float()\n",
    "step = SimpleStep(state=input_tensor)\n",
    "\n",
    "for action in agent([step]):\n",
    "    print(action)\n",
    "    \n",
    "test_eq(input_tensor,torch.tensor([1., 2., 3., 4.]))"
   ]
  },
  {
   "cell_type": "code",
   "execution_count": 9,
   "id": "47810afd-4430-4ba6-a840-3d8e5878aa8c",
   "metadata": {},
   "outputs": [],
   "source": [
    "from fastrl.envs.gym import GymDataPipe\n",
    "from fastrl.loggers.core import ProgressBarLogger"
   ]
  },
  {
   "cell_type": "code",
   "execution_count": 10,
   "id": "5ccbec06-fcc5-4be3-8b46-cd76c2a56b93",
   "metadata": {},
   "outputs": [],
   "source": [
    "AgentHead.debug=True"
   ]
  },
  {
   "cell_type": "code",
   "execution_count": 11,
   "id": "b61711f0-7a1d-4b0e-bd81-46ff7547179a",
   "metadata": {},
   "outputs": [
    {
     "name": "stderr",
     "output_type": "stream",
     "text": [
      "/usr/local/lib/python3.8/dist-packages/torchdata/datapipes/iter/util/header.py:57: UserWarning: The length of this HeaderIterDataPipe is inferred to be equal to its limit.The actual value may be smaller if the actual length of source_datapipe is smaller than the limit.\n",
      "  warn(\n",
      "/home/fastrl_user/fastrl/fastrl/envs/gym.py:121: UserWarning: To copy construct from a tensor, it is recommended to use sourceTensor.clone().detach() or sourceTensor.clone().detach().requires_grad_(True), rather than torch.tensor(sourceTensor).\n",
      "  state=torch.tensor(step.next_state),\n"
     ]
    },
    {
     "data": {
      "text/plain": [
       "{140005789327760: (AgentHead,\n",
       "  {140005789327712: (PyPrimativeConverter,\n",
       "    {140005789327616: (NumpyConverter,\n",
       "      {140005789327568: (ArgMaxer,\n",
       "        {140008236654800: (EpsilonCollector,\n",
       "          {140008236655568: (EpsilonSelector,\n",
       "            {140008236654656: (ArgMaxer,\n",
       "              {140008236655232: (SimpleModelRunner,\n",
       "                {140009223915936: (StepFieldSelector,\n",
       "                  {140005789798304: (AgentBase,\n",
       "                    {140005789798352: (ProgressBarLogger, {})})}),\n",
       "                 140005789798304: (AgentBase,\n",
       "                  {140005789798352: (ProgressBarLogger, {})})})}),\n",
       "             140005789798304: (AgentBase,\n",
       "              {140005789798352: (ProgressBarLogger, {})})})})})})}),\n",
       "   140005789798304: (AgentBase, {140005789798352: (ProgressBarLogger, {})})})}"
      ]
     },
     "execution_count": 11,
     "metadata": {},
     "output_type": "execute_result"
    }
   ],
   "source": [
    "# Setup Logger\n",
    "logger_base = ProgressBarLogger()\n",
    "\n",
    "# Setup up the core NN\n",
    "torch.manual_seed(0)\n",
    "model = DQN(4,2)\n",
    "\n",
    "agent = DQNAgent(model,[logger_base])\n",
    "\n",
    "pipes = GymDataPipe(['CartPole-v1']*1,agent=agent,n=10)\n",
    "# dls = L(block.dataloaders(['CartPole-v1']*1,n=10,bs=1))\n",
    "# pipes = list(block(['CartPole-v1']*1))\n",
    "\n",
    "# list(dls[0])\n",
    "list(pipes)\n",
    "traverse_dps(agent)"
   ]
  },
  {
   "attachments": {},
   "cell_type": "markdown",
   "id": "30c98be0-6288-443a-b4ab-9390fbe3081c",
   "metadata": {},
   "source": [
    "## Training DataPipes"
   ]
  },
  {
   "cell_type": "code",
   "execution_count": 12,
   "id": "1578d4b1-fa02-49b4-a02a-6bb881a45d3c",
   "metadata": {},
   "outputs": [],
   "source": [
    "#|export\n",
    "class QCalc(dp.iter.IterDataPipe):\n",
    "    def __init__(self,source_datapipe):\n",
    "        self.source_datapipe = source_datapipe\n",
    "        \n",
    "    def __iter__(self):\n",
    "        self.learner = find_dp(traverse_dps(self),LearnerBase)\n",
    "        for batch in self.source_datapipe:\n",
    "            self.learner.done_mask = batch.terminated.reshape(-1,)\n",
    "            self.learner.next_q = self.learner.model(batch.next_state)\n",
    "            self.learner.next_q = self.learner.next_q.max(dim=1).values.reshape(-1,1)\n",
    "            self.learner.next_q[self.learner.done_mask] = 0 \n",
    "            yield batch"
   ]
  },
  {
   "cell_type": "code",
   "execution_count": 13,
   "id": "9eea139c-52c0-4005-9101-a45c25c2d656",
   "metadata": {},
   "outputs": [],
   "source": [
    "#|export\n",
    "class TargetCalc(dp.iter.IterDataPipe):\n",
    "    def __init__(self,source_datapipe,discount=0.99,nsteps=1):\n",
    "        self.source_datapipe = source_datapipe\n",
    "        self.discount = discount\n",
    "        self.nsteps = nsteps\n",
    "        self.learner = None\n",
    "        \n",
    "    def __iter__(self):\n",
    "        self.learner = find_dp(traverse_dps(self),LearnerBase)\n",
    "        for batch in self.source_datapipe:\n",
    "            self.learner.targets = batch.reward+self.learner.next_q*(self.discount**self.nsteps)\n",
    "            self.learner.pred = self.learner.model(batch.state)\n",
    "            self.learner.target_qs = self.learner.pred.clone().float()\n",
    "            self.learner.target_qs.scatter_(1,batch.action.long(),self.learner.targets.float())\n",
    "            yield batch"
   ]
  },
  {
   "cell_type": "code",
   "execution_count": 14,
   "id": "b6c1f7c0-8ae0-4bf9-b193-6f5ce0300606",
   "metadata": {},
   "outputs": [],
   "source": [
    "#|export\n",
    "class LossCalc(dp.iter.IterDataPipe):\n",
    "    def __init__(self,source_datapipe,discount=0.99,nsteps=1):\n",
    "        self.source_datapipe = source_datapipe\n",
    "        self.discount = discount\n",
    "        self.nsteps = nsteps\n",
    "        self.learner = find_dp(traverse_dps(self),LearnerBase)\n",
    "        \n",
    "    def __iter__(self):\n",
    "        for batch in self.source_datapipe:\n",
    "            self.learner.loss_grad = self.learner.loss_func(self.learner.pred, self.learner.target_qs)\n",
    "            yield batch"
   ]
  },
  {
   "cell_type": "code",
   "execution_count": 15,
   "id": "42ca2d01-a3c4-4f9e-8fef-186c9e1f1e45",
   "metadata": {},
   "outputs": [],
   "source": [
    "#|export\n",
    "class ModelLearnCalc(dp.iter.IterDataPipe):\n",
    "    def __init__(self,source_datapipe):\n",
    "        self.source_datapipe = source_datapipe\n",
    "        \n",
    "    def __iter__(self):\n",
    "        self.learner = find_dp(traverse_dps(self),LearnerBase)\n",
    "        for batch in self.source_datapipe:\n",
    "            self.learner.loss_grad.backward()\n",
    "            self.learner.opt.step()\n",
    "            self.learner.opt.zero_grad()\n",
    "            self.learner.loss = self.learner.loss_grad.clone()\n",
    "            yield self.learner.loss"
   ]
  },
  {
   "cell_type": "code",
   "execution_count": 16,
   "id": "28aa721c-22fc-49e6-8bc4-fc01b20e6df1",
   "metadata": {},
   "outputs": [],
   "source": [
    "#|export\n",
    "class LossCollector(LogCollector):\n",
    "    title:str='loss'\n",
    "\n",
    "    def __init__(self,\n",
    "            source_datapipe, # The parent datapipe, likely the one to collect metrics from\n",
    "        ):\n",
    "        self.source_datapipe = source_datapipe\n",
    "        self.main_buffers = None\n",
    "        \n",
    "    def __iter__(self):\n",
    "        self.learner = find_dp(traverse_dps(self),LearnerBase)\n",
    "        for i,steps in enumerate(self.source_datapipe):\n",
    "            # if i==0: self.push_header('loss')\n",
    "            for q in self.main_buffers: q.append(Record('loss',self.learner.loss.cpu().detach().numpy()))\n",
    "            yield steps"
   ]
  },
  {
   "cell_type": "code",
   "execution_count": 17,
   "id": "0c50c9dd-89fc-4a89-a6f0-ccd6126135d6",
   "metadata": {},
   "outputs": [],
   "source": [
    "#|export\n",
    "def DQNLearner(\n",
    "    model,\n",
    "    dls,\n",
    "    logger_bases=(),\n",
    "    loss_func=nn.MSELoss(),\n",
    "    opt=optim.AdamW,\n",
    "    lr=0.005,\n",
    "    bs=128,\n",
    "    max_sz=10000,\n",
    "    nsteps=1,\n",
    "    device=None,\n",
    "    batches=None,\n",
    "    dp_augmentation_fns:Optional[List[DataPipeAugmentationFn]]=None\n",
    ") -> LearnerHead:\n",
    "    learner = LearnerBase(model,dls,batches=batches,loss_func=loss_func,opt=opt(model.parameters(),lr=lr))\n",
    "    learner = LoggerBasePassThrough(learner,logger_bases)\n",
    "    learner = BatchCollector(learner,batch_on_pipe=LearnerBase)\n",
    "    learner = EpocherCollector(learner)\n",
    "    for logger_base in logger_bases: learner = logger_base.connect_source_datapipe(learner)\n",
    "    if logger_bases: \n",
    "        learner = RollingTerminatedRewardCollector(learner)\n",
    "        learner = EpisodeCollector(learner)\n",
    "    learner = ExperienceReplay(learner,bs=bs,max_sz=max_sz)\n",
    "    learner = StepBatcher(learner,device=device)\n",
    "    learner = QCalc(learner)\n",
    "    learner = TargetCalc(learner,nsteps=nsteps)\n",
    "    learner = LossCalc(learner)\n",
    "    learner = ModelLearnCalc(learner)\n",
    "    if logger_bases: \n",
    "        learner = LossCollector(learner)\n",
    "    learner = LearnerHead(learner)\n",
    "    \n",
    "    for fn in ifnone(dp_augmentation_fns,[]):\n",
    "        result = fn(learner)\n",
    "        if result is not None: learner = result\n",
    "    \n",
    "    return learner"
   ]
  },
  {
   "attachments": {},
   "cell_type": "markdown",
   "id": "2b8f9ed8-fb05-40a1-ac0d-d4cafee8fa07",
   "metadata": {},
   "source": [
    "Try training with basic defaults..."
   ]
  },
  {
   "cell_type": "code",
   "execution_count": 18,
   "id": "2df20853-a286-4695-b3a4-8cf44f5bf70e",
   "metadata": {},
   "outputs": [
    {
     "data": {
      "text/html": [
       "\n",
       "<style>\n",
       "    /* Turns off some styling */\n",
       "    progress {\n",
       "        /* gets rid of default border in Firefox and Opera. */\n",
       "        border: none;\n",
       "        /* Needs to be in here for Safari polyfill so background images work as expected. */\n",
       "        background-size: auto;\n",
       "    }\n",
       "    progress:not([value]), progress:not([value])::-webkit-progress-bar {\n",
       "        background: repeating-linear-gradient(45deg, #7e7e7e, #7e7e7e 10px, #5c5c5c 10px, #5c5c5c 20px);\n",
       "    }\n",
       "    .progress-bar-interrupted, .progress-bar-interrupted::-webkit-progress-bar {\n",
       "        background: #F44336;\n",
       "    }\n",
       "</style>\n"
      ],
      "text/plain": [
       "<IPython.core.display.HTML object>"
      ]
     },
     "metadata": {},
     "output_type": "display_data"
    },
    {
     "data": {
      "text/html": [
       "<table border=\"1\" class=\"dataframe\">\n",
       "  <thead>\n",
       "    <tr style=\"text-align: left;\">\n",
       "      <th>None</th>\n",
       "      <th>episode</th>\n",
       "      <th>rolling_reward</th>\n",
       "      <th>epoch</th>\n",
       "      <th>batch</th>\n",
       "    </tr>\n",
       "  </thead>\n",
       "  <tbody>\n",
       "    <tr>\n",
       "      <td>None</td>\n",
       "      <td>1</td>\n",
       "      <td>None</td>\n",
       "      <td>1</td>\n",
       "      <td>4</td>\n",
       "    </tr>\n",
       "    <tr>\n",
       "      <td>None</td>\n",
       "      <td>1</td>\n",
       "      <td>None</td>\n",
       "      <td>1</td>\n",
       "      <td>4</td>\n",
       "    </tr>\n",
       "  </tbody>\n",
       "</table>"
      ],
      "text/plain": [
       "<IPython.core.display.HTML object>"
      ]
     },
     "metadata": {},
     "output_type": "display_data"
    }
   ],
   "source": [
    "#|eval:false\n",
    "# Setup Loggers\n",
    "logger_base = ProgressBarLogger(epoch_on_pipe=EpocherCollector,\n",
    "                 batch_on_pipe=BatchCollector)\n",
    "\n",
    "# Setup up the core NN\n",
    "torch.manual_seed(0)\n",
    "model = DQN(4,2).cuda()\n",
    "# Setup the Agent\n",
    "agent = DQNAgent(model,[logger_base],max_steps=4000,device='cuda')\n",
    "# Setup the DataBlock\n",
    "# block = DataBlock(\n",
    "#     GymTransformBlock(agent=agent,nsteps=1,nskips=1,firstlast=False,bs=1)\n",
    "# )\n",
    "dls = GymDataPipe(['CartPole-v1']*1,agent=agent,nsteps=1,nskips=1,firstlast=False,bs=1,as_dataloader=True,num_workers=0)\n",
    "\n",
    "# Setup the Learner\n",
    "learner = DQNLearner(model,(dls,),batches=4,#1000,\n",
    "                     logger_bases=[logger_base],\n",
    "                      bs=2,#128,\n",
    "                      max_sz=100_000,device='cuda')\n",
    "# learner.fit(3)\n",
    "learner.fit(2)\n",
    "\n"
   ]
  },
  {
   "attachments": {},
   "cell_type": "markdown",
   "id": "d5e0ed73-7bbf-415b-9ee7-9a95de31d638",
   "metadata": {},
   "source": [
    "If we try a regular DQN with nsteps/nskips it doesnt really converge after 130. We cant expect stability at all, and im pretty sure that nsteps (correctly) tries to reduce to number of duplicated states so that the agent can sample more unique state transitions. The problem with this is that the base dqn is not stable, so giving it lots of \"new\" stuff, im not sure helps. In otherwords, its going to forget the old stuff very quickly, and having duplicate states helps \"remind it\""
   ]
  },
  {
   "cell_type": "code",
   "execution_count": 19,
   "id": "c95d510e-38c1-458c-9830-df5a68e6a53c",
   "metadata": {},
   "outputs": [
    {
     "data": {
      "text/html": [
       "\n",
       "<style>\n",
       "    /* Turns off some styling */\n",
       "    progress {\n",
       "        /* gets rid of default border in Firefox and Opera. */\n",
       "        border: none;\n",
       "        /* Needs to be in here for Safari polyfill so background images work as expected. */\n",
       "        background-size: auto;\n",
       "    }\n",
       "    progress:not([value]), progress:not([value])::-webkit-progress-bar {\n",
       "        background: repeating-linear-gradient(45deg, #7e7e7e, #7e7e7e 10px, #5c5c5c 10px, #5c5c5c 20px);\n",
       "    }\n",
       "    .progress-bar-interrupted, .progress-bar-interrupted::-webkit-progress-bar {\n",
       "        background: #F44336;\n",
       "    }\n",
       "</style>\n"
      ],
      "text/plain": [
       "<IPython.core.display.HTML object>"
      ]
     },
     "metadata": {},
     "output_type": "display_data"
    },
    {
     "data": {
      "text/html": [
       "\n",
       "    <div>\n",
       "      <progress value='0' class='' max='20' style='width:300px; height:20px; vertical-align: middle;'></progress>\n",
       "      0.00% [0/20 00:00&lt;?]\n",
       "    </div>\n",
       "    \n",
       "<table border=\"1\" class=\"dataframe\">\n",
       "  <thead>\n",
       "    <tr style=\"text-align: left;\">\n",
       "      <th>None</th>\n",
       "      <th>episode</th>\n",
       "      <th>rolling_reward</th>\n",
       "      <th>epoch</th>\n",
       "      <th>batch</th>\n",
       "    </tr>\n",
       "  </thead>\n",
       "  <tbody>\n",
       "  </tbody>\n",
       "</table><p>\n",
       "\n",
       "    <div>\n",
       "      <progress value='47' class='' max='1000' style='width:300px; height:20px; vertical-align: middle;'></progress>\n",
       "      4.70% [47/1000 00:00&lt;00:01]\n",
       "    </div>\n",
       "    "
      ],
      "text/plain": [
       "<IPython.core.display.HTML object>"
      ]
     },
     "metadata": {},
     "output_type": "display_data"
    },
    {
     "ename": "KeyboardInterrupt",
     "evalue": "",
     "output_type": "error",
     "traceback": [
      "\u001b[0;31m---------------------------------------------------------------------------\u001b[0m",
      "\u001b[0;31mKeyboardInterrupt\u001b[0m                         Traceback (most recent call last)",
      "Cell \u001b[0;32mIn[19], line 17\u001b[0m\n\u001b[1;32m     13\u001b[0m learner \u001b[39m=\u001b[39m DQNLearner(model,(dls,),batches\u001b[39m=\u001b[39m\u001b[39m1000\u001b[39m,logger_bases\u001b[39m=\u001b[39m[logger_base],bs\u001b[39m=\u001b[39m\u001b[39m128\u001b[39m,max_sz\u001b[39m=\u001b[39m\u001b[39m20_000\u001b[39m,nsteps\u001b[39m=\u001b[39m\u001b[39m2\u001b[39m,lr\u001b[39m=\u001b[39m\u001b[39m0.001\u001b[39m)\n\u001b[1;32m     15\u001b[0m \u001b[39m# del agent\u001b[39;00m\n\u001b[1;32m     16\u001b[0m \u001b[39m# learner.fit(3)\u001b[39;00m\n\u001b[0;32m---> 17\u001b[0m learner\u001b[39m.\u001b[39;49mfit(\u001b[39m20\u001b[39;49m)\n",
      "File \u001b[0;32m~/fastrl/fastrl/learner/core.py:145\u001b[0m, in \u001b[0;36mLearnerHead.fit\u001b[0;34m(self, epochs)\u001b[0m\n\u001b[1;32m    142\u001b[0m epocher \u001b[39m=\u001b[39m find_dp(traverse_dps(\u001b[39mself\u001b[39m),EpocherCollector)\n\u001b[1;32m    143\u001b[0m epocher\u001b[39m.\u001b[39mepochs \u001b[39m=\u001b[39m epochs\n\u001b[0;32m--> 145\u001b[0m \u001b[39mfor\u001b[39;00m iteration \u001b[39min\u001b[39;00m \u001b[39mself\u001b[39m: \n\u001b[1;32m    146\u001b[0m     \u001b[39mpass\u001b[39;00m\n",
      "File \u001b[0;32m/usr/local/lib/python3.8/dist-packages/torch/utils/data/datapipes/_hook_iterator.py:195\u001b[0m, in \u001b[0;36mhook_iterator.<locals>.wrap_generator\u001b[0;34m(*args, **kwargs)\u001b[0m\n\u001b[1;32m    193\u001b[0m         \u001b[39melse\u001b[39;00m:  \u001b[39m# Decided against using `contextlib.nullcontext` for performance reasons\u001b[39;00m\n\u001b[1;32m    194\u001b[0m             _check_iterator_valid(datapipe, iterator_id)\n\u001b[0;32m--> 195\u001b[0m             response \u001b[39m=\u001b[39m gen\u001b[39m.\u001b[39;49msend(request)\n\u001b[1;32m    196\u001b[0m \u001b[39mexcept\u001b[39;00m \u001b[39mStopIteration\u001b[39;00m \u001b[39mas\u001b[39;00m e:\n\u001b[1;32m    197\u001b[0m     \u001b[39mreturn\u001b[39;00m\n",
      "File \u001b[0;32m~/fastrl/fastrl/learner/core.py:139\u001b[0m, in \u001b[0;36mLearnerHead.__iter__\u001b[0;34m(self)\u001b[0m\n\u001b[0;32m--> 139\u001b[0m \u001b[39mdef\u001b[39;00m \u001b[39m__iter__\u001b[39m(\u001b[39mself\u001b[39m): \u001b[39myield from\u001b[39;00m \u001b[39mself\u001b[39m\u001b[39m.\u001b[39msource_datapipe\n",
      "File \u001b[0;32m/usr/local/lib/python3.8/dist-packages/torch/utils/data/datapipes/_hook_iterator.py:195\u001b[0m, in \u001b[0;36mhook_iterator.<locals>.wrap_generator\u001b[0;34m(*args, **kwargs)\u001b[0m\n\u001b[1;32m    193\u001b[0m         \u001b[39melse\u001b[39;00m:  \u001b[39m# Decided against using `contextlib.nullcontext` for performance reasons\u001b[39;00m\n\u001b[1;32m    194\u001b[0m             _check_iterator_valid(datapipe, iterator_id)\n\u001b[0;32m--> 195\u001b[0m             response \u001b[39m=\u001b[39m gen\u001b[39m.\u001b[39;49msend(request)\n\u001b[1;32m    196\u001b[0m \u001b[39mexcept\u001b[39;00m \u001b[39mStopIteration\u001b[39;00m \u001b[39mas\u001b[39;00m e:\n\u001b[1;32m    197\u001b[0m     \u001b[39mreturn\u001b[39;00m\n",
      "Cell \u001b[0;32mIn[16], line 13\u001b[0m, in \u001b[0;36mLossCollector.__iter__\u001b[0;34m(self)\u001b[0m\n\u001b[1;32m     11\u001b[0m \u001b[39mdef\u001b[39;00m \u001b[39m__iter__\u001b[39m(\u001b[39mself\u001b[39m):\n\u001b[1;32m     12\u001b[0m     \u001b[39mself\u001b[39m\u001b[39m.\u001b[39mlearner \u001b[39m=\u001b[39m find_dp(traverse_dps(\u001b[39mself\u001b[39m),LearnerBase)\n\u001b[0;32m---> 13\u001b[0m     \u001b[39mfor\u001b[39;00m i,steps \u001b[39min\u001b[39;00m \u001b[39menumerate\u001b[39m(\u001b[39mself\u001b[39m\u001b[39m.\u001b[39msource_datapipe):\n\u001b[1;32m     14\u001b[0m         \u001b[39m# if i==0: self.push_header('loss')\u001b[39;00m\n\u001b[1;32m     15\u001b[0m         \u001b[39mfor\u001b[39;00m q \u001b[39min\u001b[39;00m \u001b[39mself\u001b[39m\u001b[39m.\u001b[39mmain_buffers: q\u001b[39m.\u001b[39mappend(Record(\u001b[39m'\u001b[39m\u001b[39mloss\u001b[39m\u001b[39m'\u001b[39m,\u001b[39mself\u001b[39m\u001b[39m.\u001b[39mlearner\u001b[39m.\u001b[39mloss\u001b[39m.\u001b[39mcpu()\u001b[39m.\u001b[39mdetach()\u001b[39m.\u001b[39mnumpy()))\n\u001b[1;32m     16\u001b[0m         \u001b[39myield\u001b[39;00m steps\n",
      "File \u001b[0;32m/usr/local/lib/python3.8/dist-packages/torch/utils/data/datapipes/_hook_iterator.py:195\u001b[0m, in \u001b[0;36mhook_iterator.<locals>.wrap_generator\u001b[0;34m(*args, **kwargs)\u001b[0m\n\u001b[1;32m    193\u001b[0m         \u001b[39melse\u001b[39;00m:  \u001b[39m# Decided against using `contextlib.nullcontext` for performance reasons\u001b[39;00m\n\u001b[1;32m    194\u001b[0m             _check_iterator_valid(datapipe, iterator_id)\n\u001b[0;32m--> 195\u001b[0m             response \u001b[39m=\u001b[39m gen\u001b[39m.\u001b[39;49msend(request)\n\u001b[1;32m    196\u001b[0m \u001b[39mexcept\u001b[39;00m \u001b[39mStopIteration\u001b[39;00m \u001b[39mas\u001b[39;00m e:\n\u001b[1;32m    197\u001b[0m     \u001b[39mreturn\u001b[39;00m\n",
      "Cell \u001b[0;32mIn[15], line 8\u001b[0m, in \u001b[0;36mModelLearnCalc.__iter__\u001b[0;34m(self)\u001b[0m\n\u001b[1;32m      6\u001b[0m \u001b[39mdef\u001b[39;00m \u001b[39m__iter__\u001b[39m(\u001b[39mself\u001b[39m):\n\u001b[1;32m      7\u001b[0m     \u001b[39mself\u001b[39m\u001b[39m.\u001b[39mlearner \u001b[39m=\u001b[39m find_dp(traverse_dps(\u001b[39mself\u001b[39m),LearnerBase)\n\u001b[0;32m----> 8\u001b[0m     \u001b[39mfor\u001b[39;00m batch \u001b[39min\u001b[39;00m \u001b[39mself\u001b[39m\u001b[39m.\u001b[39msource_datapipe:\n\u001b[1;32m      9\u001b[0m         \u001b[39mself\u001b[39m\u001b[39m.\u001b[39mlearner\u001b[39m.\u001b[39mloss_grad\u001b[39m.\u001b[39mbackward()\n\u001b[1;32m     10\u001b[0m         \u001b[39mself\u001b[39m\u001b[39m.\u001b[39mlearner\u001b[39m.\u001b[39mopt\u001b[39m.\u001b[39mstep()\n",
      "File \u001b[0;32m/usr/local/lib/python3.8/dist-packages/torch/utils/data/datapipes/_hook_iterator.py:195\u001b[0m, in \u001b[0;36mhook_iterator.<locals>.wrap_generator\u001b[0;34m(*args, **kwargs)\u001b[0m\n\u001b[1;32m    193\u001b[0m         \u001b[39melse\u001b[39;00m:  \u001b[39m# Decided against using `contextlib.nullcontext` for performance reasons\u001b[39;00m\n\u001b[1;32m    194\u001b[0m             _check_iterator_valid(datapipe, iterator_id)\n\u001b[0;32m--> 195\u001b[0m             response \u001b[39m=\u001b[39m gen\u001b[39m.\u001b[39;49msend(request)\n\u001b[1;32m    196\u001b[0m \u001b[39mexcept\u001b[39;00m \u001b[39mStopIteration\u001b[39;00m \u001b[39mas\u001b[39;00m e:\n\u001b[1;32m    197\u001b[0m     \u001b[39mreturn\u001b[39;00m\n",
      "Cell \u001b[0;32mIn[14], line 10\u001b[0m, in \u001b[0;36mLossCalc.__iter__\u001b[0;34m(self)\u001b[0m\n\u001b[1;32m      9\u001b[0m \u001b[39mdef\u001b[39;00m \u001b[39m__iter__\u001b[39m(\u001b[39mself\u001b[39m):\n\u001b[0;32m---> 10\u001b[0m     \u001b[39mfor\u001b[39;00m batch \u001b[39min\u001b[39;00m \u001b[39mself\u001b[39m\u001b[39m.\u001b[39msource_datapipe:\n\u001b[1;32m     11\u001b[0m         \u001b[39mself\u001b[39m\u001b[39m.\u001b[39mlearner\u001b[39m.\u001b[39mloss_grad \u001b[39m=\u001b[39m \u001b[39mself\u001b[39m\u001b[39m.\u001b[39mlearner\u001b[39m.\u001b[39mloss_func(\u001b[39mself\u001b[39m\u001b[39m.\u001b[39mlearner\u001b[39m.\u001b[39mpred, \u001b[39mself\u001b[39m\u001b[39m.\u001b[39mlearner\u001b[39m.\u001b[39mtarget_qs)\n\u001b[1;32m     12\u001b[0m         \u001b[39myield\u001b[39;00m batch\n",
      "File \u001b[0;32m/usr/local/lib/python3.8/dist-packages/torch/utils/data/datapipes/_hook_iterator.py:195\u001b[0m, in \u001b[0;36mhook_iterator.<locals>.wrap_generator\u001b[0;34m(*args, **kwargs)\u001b[0m\n\u001b[1;32m    193\u001b[0m         \u001b[39melse\u001b[39;00m:  \u001b[39m# Decided against using `contextlib.nullcontext` for performance reasons\u001b[39;00m\n\u001b[1;32m    194\u001b[0m             _check_iterator_valid(datapipe, iterator_id)\n\u001b[0;32m--> 195\u001b[0m             response \u001b[39m=\u001b[39m gen\u001b[39m.\u001b[39;49msend(request)\n\u001b[1;32m    196\u001b[0m \u001b[39mexcept\u001b[39;00m \u001b[39mStopIteration\u001b[39;00m \u001b[39mas\u001b[39;00m e:\n\u001b[1;32m    197\u001b[0m     \u001b[39mreturn\u001b[39;00m\n",
      "Cell \u001b[0;32mIn[13], line 11\u001b[0m, in \u001b[0;36mTargetCalc.__iter__\u001b[0;34m(self)\u001b[0m\n\u001b[1;32m      9\u001b[0m \u001b[39mdef\u001b[39;00m \u001b[39m__iter__\u001b[39m(\u001b[39mself\u001b[39m):\n\u001b[1;32m     10\u001b[0m     \u001b[39mself\u001b[39m\u001b[39m.\u001b[39mlearner \u001b[39m=\u001b[39m find_dp(traverse_dps(\u001b[39mself\u001b[39m),LearnerBase)\n\u001b[0;32m---> 11\u001b[0m     \u001b[39mfor\u001b[39;00m batch \u001b[39min\u001b[39;00m \u001b[39mself\u001b[39m\u001b[39m.\u001b[39msource_datapipe:\n\u001b[1;32m     12\u001b[0m         \u001b[39mself\u001b[39m\u001b[39m.\u001b[39mlearner\u001b[39m.\u001b[39mtargets \u001b[39m=\u001b[39m batch\u001b[39m.\u001b[39mreward\u001b[39m+\u001b[39m\u001b[39mself\u001b[39m\u001b[39m.\u001b[39mlearner\u001b[39m.\u001b[39mnext_q\u001b[39m*\u001b[39m(\u001b[39mself\u001b[39m\u001b[39m.\u001b[39mdiscount\u001b[39m*\u001b[39m\u001b[39m*\u001b[39m\u001b[39mself\u001b[39m\u001b[39m.\u001b[39mnsteps)\n\u001b[1;32m     13\u001b[0m         \u001b[39mself\u001b[39m\u001b[39m.\u001b[39mlearner\u001b[39m.\u001b[39mpred \u001b[39m=\u001b[39m \u001b[39mself\u001b[39m\u001b[39m.\u001b[39mlearner\u001b[39m.\u001b[39mmodel(batch\u001b[39m.\u001b[39mstate)\n",
      "File \u001b[0;32m/usr/local/lib/python3.8/dist-packages/torch/utils/data/datapipes/_hook_iterator.py:195\u001b[0m, in \u001b[0;36mhook_iterator.<locals>.wrap_generator\u001b[0;34m(*args, **kwargs)\u001b[0m\n\u001b[1;32m    193\u001b[0m         \u001b[39melse\u001b[39;00m:  \u001b[39m# Decided against using `contextlib.nullcontext` for performance reasons\u001b[39;00m\n\u001b[1;32m    194\u001b[0m             _check_iterator_valid(datapipe, iterator_id)\n\u001b[0;32m--> 195\u001b[0m             response \u001b[39m=\u001b[39m gen\u001b[39m.\u001b[39;49msend(request)\n\u001b[1;32m    196\u001b[0m \u001b[39mexcept\u001b[39;00m \u001b[39mStopIteration\u001b[39;00m \u001b[39mas\u001b[39;00m e:\n\u001b[1;32m    197\u001b[0m     \u001b[39mreturn\u001b[39;00m\n",
      "Cell \u001b[0;32mIn[12], line 8\u001b[0m, in \u001b[0;36mQCalc.__iter__\u001b[0;34m(self)\u001b[0m\n\u001b[1;32m      6\u001b[0m \u001b[39mdef\u001b[39;00m \u001b[39m__iter__\u001b[39m(\u001b[39mself\u001b[39m):\n\u001b[1;32m      7\u001b[0m     \u001b[39mself\u001b[39m\u001b[39m.\u001b[39mlearner \u001b[39m=\u001b[39m find_dp(traverse_dps(\u001b[39mself\u001b[39m),LearnerBase)\n\u001b[0;32m----> 8\u001b[0m     \u001b[39mfor\u001b[39;00m batch \u001b[39min\u001b[39;00m \u001b[39mself\u001b[39m\u001b[39m.\u001b[39msource_datapipe:\n\u001b[1;32m      9\u001b[0m         \u001b[39mself\u001b[39m\u001b[39m.\u001b[39mlearner\u001b[39m.\u001b[39mdone_mask \u001b[39m=\u001b[39m batch\u001b[39m.\u001b[39mterminated\u001b[39m.\u001b[39mreshape(\u001b[39m-\u001b[39m\u001b[39m1\u001b[39m,)\n\u001b[1;32m     10\u001b[0m         \u001b[39mself\u001b[39m\u001b[39m.\u001b[39mlearner\u001b[39m.\u001b[39mnext_q \u001b[39m=\u001b[39m \u001b[39mself\u001b[39m\u001b[39m.\u001b[39mlearner\u001b[39m.\u001b[39mmodel(batch\u001b[39m.\u001b[39mnext_state)\n",
      "File \u001b[0;32m/usr/local/lib/python3.8/dist-packages/torch/utils/data/datapipes/_hook_iterator.py:195\u001b[0m, in \u001b[0;36mhook_iterator.<locals>.wrap_generator\u001b[0;34m(*args, **kwargs)\u001b[0m\n\u001b[1;32m    193\u001b[0m         \u001b[39melse\u001b[39;00m:  \u001b[39m# Decided against using `contextlib.nullcontext` for performance reasons\u001b[39;00m\n\u001b[1;32m    194\u001b[0m             _check_iterator_valid(datapipe, iterator_id)\n\u001b[0;32m--> 195\u001b[0m             response \u001b[39m=\u001b[39m gen\u001b[39m.\u001b[39;49msend(request)\n\u001b[1;32m    196\u001b[0m \u001b[39mexcept\u001b[39;00m \u001b[39mStopIteration\u001b[39;00m \u001b[39mas\u001b[39;00m e:\n\u001b[1;32m    197\u001b[0m     \u001b[39mreturn\u001b[39;00m\n",
      "File \u001b[0;32m~/fastrl/fastrl/learner/core.py:185\u001b[0m, in \u001b[0;36mStepBatcher.__iter__\u001b[0;34m(self)\u001b[0m\n\u001b[1;32m    183\u001b[0m \u001b[39mfor\u001b[39;00m batch \u001b[39min\u001b[39;00m \u001b[39mself\u001b[39m\u001b[39m.\u001b[39msource_datapipe:\n\u001b[1;32m    184\u001b[0m     \u001b[39mcls\u001b[39m \u001b[39m=\u001b[39m batch[\u001b[39m0\u001b[39m]\u001b[39m.\u001b[39m\u001b[39m__class__\u001b[39m\n\u001b[0;32m--> 185\u001b[0m     \u001b[39myield\u001b[39;00m \u001b[39mcls\u001b[39m(\u001b[39m*\u001b[39m\u001b[39m*\u001b[39m{fld:\u001b[39mself\u001b[39m\u001b[39m.\u001b[39mvstack_by_fld(batch,fld) \u001b[39mfor\u001b[39;00m fld \u001b[39min\u001b[39;00m \u001b[39mcls\u001b[39m\u001b[39m.\u001b[39m_fields})\n",
      "File \u001b[0;32m~/fastrl/fastrl/learner/core.py:185\u001b[0m, in \u001b[0;36m<dictcomp>\u001b[0;34m(.0)\u001b[0m\n\u001b[1;32m    183\u001b[0m \u001b[39mfor\u001b[39;00m batch \u001b[39min\u001b[39;00m \u001b[39mself\u001b[39m\u001b[39m.\u001b[39msource_datapipe:\n\u001b[1;32m    184\u001b[0m     \u001b[39mcls\u001b[39m \u001b[39m=\u001b[39m batch[\u001b[39m0\u001b[39m]\u001b[39m.\u001b[39m\u001b[39m__class__\u001b[39m\n\u001b[0;32m--> 185\u001b[0m     \u001b[39myield\u001b[39;00m \u001b[39mcls\u001b[39m(\u001b[39m*\u001b[39m\u001b[39m*\u001b[39m{fld:\u001b[39mself\u001b[39;49m\u001b[39m.\u001b[39;49mvstack_by_fld(batch,fld) \u001b[39mfor\u001b[39;00m fld \u001b[39min\u001b[39;00m \u001b[39mcls\u001b[39m\u001b[39m.\u001b[39m_fields})\n",
      "File \u001b[0;32m~/fastrl/fastrl/learner/core.py:176\u001b[0m, in \u001b[0;36mStepBatcher.vstack_by_fld\u001b[0;34m(self, batch, fld)\u001b[0m\n\u001b[1;32m    174\u001b[0m \u001b[39mdef\u001b[39;00m \u001b[39mvstack_by_fld\u001b[39m(\u001b[39mself\u001b[39m,batch,fld):\n\u001b[1;32m    175\u001b[0m     \u001b[39mtry\u001b[39;00m:\n\u001b[0;32m--> 176\u001b[0m         \u001b[39mif\u001b[39;00m \u001b[39mself\u001b[39m\u001b[39m.\u001b[39mdevice \u001b[39mis\u001b[39;00m \u001b[39mNone\u001b[39;00m: \u001b[39mreturn\u001b[39;00m torch\u001b[39m.\u001b[39;49mvstack(\u001b[39mtuple\u001b[39;49m(\u001b[39mgetattr\u001b[39;49m(step,fld) \u001b[39mfor\u001b[39;49;00m step \u001b[39min\u001b[39;49;00m batch))\n\u001b[1;32m    177\u001b[0m         \u001b[39mreturn\u001b[39;00m torch\u001b[39m.\u001b[39mvstack(\u001b[39mtuple\u001b[39m(\u001b[39mgetattr\u001b[39m(step,fld) \u001b[39mfor\u001b[39;00m step \u001b[39min\u001b[39;00m batch))\u001b[39m.\u001b[39mto(torch\u001b[39m.\u001b[39mdevice(\u001b[39mself\u001b[39m\u001b[39m.\u001b[39mdevice))\n\u001b[1;32m    178\u001b[0m     \u001b[39mexcept\u001b[39;00m \u001b[39mRuntimeError\u001b[39;00m \u001b[39mas\u001b[39;00m e:\n",
      "\u001b[0;31mKeyboardInterrupt\u001b[0m: "
     ]
    }
   ],
   "source": [
    "logger_base = ProgressBarLogger(epoch_on_pipe=EpocherCollector,\n",
    "                 batch_on_pipe=BatchCollector)\n",
    "\n",
    "# Setup up the core NN\n",
    "torch.manual_seed(0)\n",
    "model = DQN(4,2)\n",
    "# Setup the Agent\n",
    "agent = DQNAgent(model,[logger_base],max_steps=10000)\n",
    "# Setup the DataBlock\n",
    "dls = GymDataPipe(['CartPole-v1']*1,agent=agent,nsteps=1,nskips=1,firstlast=False,bs=1,as_dataloader=True,num_workers=0)\n",
    "\n",
    "# Setup the Learner\n",
    "learner = DQNLearner(model,(dls,),batches=1000,logger_bases=[logger_base],bs=128,max_sz=20_000,lr=0.001)\n",
    "\n",
    "# del agent\n",
    "# learner.fit(3)\n",
    "learner.fit(20)"
   ]
  },
  {
   "cell_type": "code",
   "execution_count": null,
   "id": "9791de5b",
   "metadata": {},
   "outputs": [],
   "source": [
    "from fastrl.loggers.vscode_visualizers import VSCodePipeline"
   ]
  },
  {
   "cell_type": "code",
   "execution_count": null,
   "id": "c8784650-6f5c-42b7-9a72-68a0d37d8983",
   "metadata": {},
   "outputs": [
    {
     "name": "stderr",
     "output_type": "stream",
     "text": [
      "No protocol specified\n"
     ]
    },
    {
     "name": "stdout",
     "output_type": "stream",
     "text": [
      "Creating gif from 100 frames\n"
     ]
    },
    {
     "data": {
      "image/png": "[encoded data removed]",
      "text/plain": [
       "<IPython.core.display.Image object>"
      ]
     },
     "execution_count": 25,
     "metadata": {},
     "output_type": "execute_result"
    }
   ],
   "source": [
    "#|hide\n",
    "#|eval: false\n",
    "model.eval()\n",
    "\n",
    "pipe = GymDataPipe(['CartPole-v1']*1,agent=agent,n=100,seed=0,include_images=True)\n",
    "pipe = VSCodePipeline(pipe)\n",
    "\n",
    "list(pipe);\n",
    "pipe.show()"
   ]
  },
  {
   "cell_type": "code",
   "execution_count": null,
   "id": "dccaa785-605b-4e75-bff7-bae8c5603817",
   "metadata": {},
   "outputs": [
    {
     "data": {
      "text/html": [
       "\n",
       "<style>\n",
       "    /* Turns off some styling */\n",
       "    progress {\n",
       "        /* gets rid of default border in Firefox and Opera. */\n",
       "        border: none;\n",
       "        /* Needs to be in here for Safari polyfill so background images work as expected. */\n",
       "        background-size: auto;\n",
       "    }\n",
       "    progress:not([value]), progress:not([value])::-webkit-progress-bar {\n",
       "        background: repeating-linear-gradient(45deg, #7e7e7e, #7e7e7e 10px, #5c5c5c 10px, #5c5c5c 20px);\n",
       "    }\n",
       "    .progress-bar-interrupted, .progress-bar-interrupted::-webkit-progress-bar {\n",
       "        background: #F44336;\n",
       "    }\n",
       "</style>\n"
      ],
      "text/plain": [
       "<IPython.core.display.HTML object>"
      ]
     },
     "metadata": {},
     "output_type": "display_data"
    },
    {
     "data": {
      "text/html": [
       "<table border=\"1\" class=\"dataframe\">\n",
       "  <thead>\n",
       "    <tr style=\"text-align: left;\">\n",
       "      <th>None</th>\n",
       "      <th>episode</th>\n",
       "      <th>rolling_reward</th>\n",
       "      <th>epoch</th>\n",
       "      <th>batch</th>\n",
       "    </tr>\n",
       "  </thead>\n",
       "  <tbody>\n",
       "    <tr>\n",
       "      <td>None</td>\n",
       "      <td>12</td>\n",
       "      <td>-211.060887</td>\n",
       "      <td>1</td>\n",
       "      <td>1000</td>\n",
       "    </tr>\n",
       "    <tr>\n",
       "      <td>None</td>\n",
       "      <td>22</td>\n",
       "      <td>-277.200427</td>\n",
       "      <td>2</td>\n",
       "      <td>1000</td>\n",
       "    </tr>\n",
       "    <tr>\n",
       "      <td>None</td>\n",
       "      <td>34</td>\n",
       "      <td>-276.059554</td>\n",
       "      <td>2</td>\n",
       "      <td>1000</td>\n",
       "    </tr>\n",
       "  </tbody>\n",
       "</table>"
      ],
      "text/plain": [
       "<IPython.core.display.HTML object>"
      ]
     },
     "metadata": {},
     "output_type": "display_data"
    }
   ],
   "source": [
    "# Setup Loggers\n",
    "logger_base = ProgressBarLogger(\n",
    "    epoch_on_pipe=EpocherCollector,\n",
    "    batch_on_pipe=BatchCollector\n",
    ")\n",
    "\n",
    "# Setup up the core NN\n",
    "torch.manual_seed(0)\n",
    "model = DQN(8,4)\n",
    "# Setup the Agent\n",
    "agent = DQNAgent(model,[logger_base])\n",
    "# Setup the DataBlock\n",
    "dls = GymDataPipe(['LunarLander-v2']*1,agent=agent,n=1000,bs=1,as_dataloader=True,num_workers=0)\n",
    "\n",
    "# Setup the Learner\n",
    "learner = DQNLearner(model,(dls,),logger_bases=[logger_base])\n",
    "learner.fit(3)\n",
    "# learner.fit(30)"
   ]
  },
  {
   "cell_type": "code",
   "execution_count": null,
   "id": "723a8a98-5091-4e31-9cca-9220c64ecdb7",
   "metadata": {},
   "outputs": [
    {
     "ename": "AttributeError",
     "evalue": "'super' object has no attribute '__setstate__'",
     "output_type": "error",
     "traceback": [
      "\u001b[0;31m---------------------------------------------------------------------------\u001b[0m",
      "\u001b[0;31mAttributeError\u001b[0m                            Traceback (most recent call last)",
      "Cell \u001b[0;32mIn[28], line 4\u001b[0m\n\u001b[1;32m      1\u001b[0m \u001b[39m#|hide\u001b[39;00m\n\u001b[1;32m      2\u001b[0m \u001b[39m#|eval: false\u001b[39;00m\n\u001b[1;32m      3\u001b[0m \u001b[39m# pipe = GymTransformBlock(agent=agent,n=100,seed=None,include_images=True)(['LunarLander-v2'])\u001b[39;00m\n\u001b[0;32m----> 4\u001b[0m dls \u001b[39m=\u001b[39m GymDataPipe([\u001b[39m'\u001b[39;49m\u001b[39mLunarLander-v2\u001b[39;49m\u001b[39m'\u001b[39;49m]\u001b[39m*\u001b[39;49m\u001b[39m1\u001b[39;49m,agent\u001b[39m=\u001b[39;49magent,n\u001b[39m=\u001b[39;49m\u001b[39m1000\u001b[39;49m,bs\u001b[39m=\u001b[39;49m\u001b[39m1\u001b[39;49m,as_dataloader\u001b[39m=\u001b[39;49m\u001b[39mTrue\u001b[39;49;00m,include_images\u001b[39m=\u001b[39;49m\u001b[39mTrue\u001b[39;49;00m,num_workers\u001b[39m=\u001b[39;49m\u001b[39m0\u001b[39;49m)\n\u001b[1;32m      5\u001b[0m pipe \u001b[39m=\u001b[39m VSCodeTransformBlock()(pipe)\n\u001b[1;32m      7\u001b[0m L(pipe);\n",
      "File \u001b[0;32m~/fastrl/fastrl/envs/gym.py:205\u001b[0m, in \u001b[0;36mGymDataPipe\u001b[0;34m(source, agent, seed, nsteps, nskips, firstlast, bs, n, synchronized_reset, include_images, terminate_on_truncation, as_dataloader, num_workers)\u001b[0m\n\u001b[1;32m    202\u001b[0m pipe  \u001b[39m=\u001b[39m pipe\u001b[39m.\u001b[39mbatch(batch_size\u001b[39m=\u001b[39mbs)\n\u001b[1;32m    204\u001b[0m \u001b[39mif\u001b[39;00m as_dataloader:\n\u001b[0;32m--> 205\u001b[0m     pipe \u001b[39m=\u001b[39m DataLoader2(\n\u001b[1;32m    206\u001b[0m         datapipe\u001b[39m=\u001b[39;49mpipe,\n\u001b[1;32m    207\u001b[0m         reading_service\u001b[39m=\u001b[39;49mMultiProcessingReadingService(\n\u001b[1;32m    208\u001b[0m             num_workers \u001b[39m=\u001b[39;49m num_workers\n\u001b[1;32m    209\u001b[0m         ) \u001b[39mif\u001b[39;49;00m num_workers \u001b[39m>\u001b[39;49m \u001b[39m0\u001b[39;49m \u001b[39melse\u001b[39;49;00m \u001b[39mNone\u001b[39;49;00m\n\u001b[1;32m    210\u001b[0m     )\n\u001b[1;32m    211\u001b[0m \u001b[39mreturn\u001b[39;00m pipe\n",
      "File \u001b[0;32m/usr/local/lib/python3.8/dist-packages/torchdata/dataloader2/dataloader2.py:170\u001b[0m, in \u001b[0;36mDataLoader2.__init__\u001b[0;34m(self, datapipe, datapipe_adapter_fn, reading_service)\u001b[0m\n\u001b[1;32m    168\u001b[0m \u001b[39mif\u001b[39;00m \u001b[39misinstance\u001b[39m(datapipe, MapDataPipe):\n\u001b[1;32m    169\u001b[0m     datapipe \u001b[39m=\u001b[39m datapipe\u001b[39m.\u001b[39mto_iter_datapipe()\n\u001b[0;32m--> 170\u001b[0m \u001b[39mself\u001b[39m\u001b[39m.\u001b[39mdatapipe \u001b[39m=\u001b[39m clone(datapipe) \u001b[39mif\u001b[39;00m datapipe \u001b[39mis\u001b[39;00m \u001b[39mnot\u001b[39;00m \u001b[39mNone\u001b[39;00m \u001b[39melse\u001b[39;00m \u001b[39mNone\u001b[39;00m\n\u001b[1;32m    171\u001b[0m \u001b[39mself\u001b[39m\u001b[39m.\u001b[39m_adapted: \u001b[39mbool\u001b[39m \u001b[39m=\u001b[39m \u001b[39mFalse\u001b[39;00m\n\u001b[1;32m    172\u001b[0m \u001b[39mself\u001b[39m\u001b[39m.\u001b[39m_datapipe_iter: Optional[Iterator[T_co]] \u001b[39m=\u001b[39m \u001b[39mNone\u001b[39;00m\n",
      "File \u001b[0;32m/usr/local/lib/python3.8/dist-packages/torchdata/dataloader2/graph/_serialization.py:96\u001b[0m, in \u001b[0;36mclone\u001b[0;34m(obj)\u001b[0m\n\u001b[1;32m     94\u001b[0m     \u001b[39mreturn\u001b[39;00m dill\u001b[39m.\u001b[39mloads(states)\n\u001b[1;32m     95\u001b[0m \u001b[39melse\u001b[39;00m:\n\u001b[0;32m---> 96\u001b[0m     \u001b[39mreturn\u001b[39;00m pickle\u001b[39m.\u001b[39;49mloads(states)\n",
      "File \u001b[0;32m~/fastrl/fastrl/learner/core.py:71\u001b[0m, in \u001b[0;36mLearnerBase.__setstate__\u001b[0;34m(self, state)\u001b[0m\n\u001b[1;32m     69\u001b[0m \u001b[39mdef\u001b[39;00m \u001b[39m__setstate__\u001b[39m(\u001b[39mself\u001b[39m, state):\n\u001b[1;32m     70\u001b[0m     \u001b[39m# state['iterable'] = [d.from_state_dict() for d in state['iterable']]\u001b[39;00m\n\u001b[0;32m---> 71\u001b[0m     \u001b[39msuper\u001b[39;49m()\u001b[39m.\u001b[39;49m__setstate__(state)\n",
      "\u001b[0;31mAttributeError\u001b[0m: 'super' object has no attribute '__setstate__'"
     ]
    }
   ],
   "source": [
    "#|hide\n",
    "#|eval: false\n",
    "dls = GymDataPipe(['LunarLander-v2']*1,agent=agent,n=1000,bs=1,as_dataloader=True,include_images=True,num_workers=0)\n",
    "pipe = VSCodePipeline(pipe)\n",
    "\n",
    "list(pipe);\n",
    "pipe.show(step=2)"
   ]
  },
  {
   "cell_type": "code",
   "execution_count": null,
   "id": "current-pilot",
   "metadata": {},
   "outputs": [
    {
     "name": "stdout",
     "output_type": "stream",
     "text": [
      "/usr/local/lib/python3.8/dist-packages/nbdev/export.py:54: UserWarning: Notebook '/home/fastrl_user/fastrl/nbs/07_Agents/02_Continuous/12u_agents.ppo.ipynb' uses `#|export` without `#|default_exp` cell.\n",
      "Note nbdev2 no longer supports nbdev1 syntax. Run `nbdev_migrate` to upgrade.\n",
      "See https://nbdev.fast.ai/getting_started.html for more information.\n",
      "  warn(f\"Notebook '{nbname}' uses `#|export` without `#|default_exp` cell.\\n\"\n"
     ]
    }
   ],
   "source": [
    "#|hide\n",
    "#|eval: false\n",
    "!nbdev_export"
   ]
  },
  {
   "cell_type": "code",
   "execution_count": null,
   "id": "ab3d3626-1702-4f22-ae15-bb93a75bec68",
   "metadata": {},
   "outputs": [],
   "source": []
  }
 ],
 "metadata": {
  "kernelspec": {
   "display_name": "python3",
   "language": "python",
   "name": "python3"
  },
  "language_info": {
   "codemirror_mode": {
    "name": "ipython",
    "version": 3
   },
   "file_extension": ".py",
   "mimetype": "text/x-python",
   "name": "python",
   "nbconvert_exporter": "python",
   "pygments_lexer": "ipython3",
   "version": "3.8.0"
  }
 },
 "nbformat": 4,
 "nbformat_minor": 5
}
