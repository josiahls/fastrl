{
 "cells": [
  {
   "cell_type": "code",
   "execution_count": null,
   "id": "durable-dialogue",
   "metadata": {},
   "outputs": [],
   "source": [
    "#|hide\n",
    "from fastrl.test_utils import initialize_notebook\n",
    "initialize_notebook()"
   ]
  },
  {
   "cell_type": "code",
   "execution_count": null,
   "id": "offshore-stuart",
   "metadata": {},
   "outputs": [],
   "source": [
    "#|default_exp pipes.iter.cacheholder"
   ]
  },
  {
   "cell_type": "code",
   "execution_count": null,
   "id": "assisted-contract",
   "metadata": {},
   "outputs": [],
   "source": [
    "#|export\n",
    "# Copyright (c) Meta Platforms, Inc. and affiliates.\n",
    "# All rights reserved.\n",
    "#\n",
    "# This source code is licensed under the BSD-style license found in the\n",
    "# LICENSE file in the root directory of this source tree.\n",
    "\n",
    "# Python native modules\n",
    "import hashlib\n",
    "import inspect\n",
    "import os.path\n",
    "import sys\n",
    "import time\n",
    "import uuid\n",
    "import warnings\n",
    "from enum import IntEnum\n",
    "\n",
    "from collections import deque\n",
    "from functools import partial\n",
    "from typing import Any, Callable, Deque, Dict, Iterator, List, Optional, Tuple, TypeVar\n",
    "# Third party libs\n",
    "try:\n",
    "    import portalocker\n",
    "except ImportError:\n",
    "    portalocker = None\n",
    "\n",
    "from torch.utils.data.datapipes.utils.common import _check_unpickable_fn, DILL_AVAILABLE\n",
    "\n",
    "from torch.utils.data.graph import traverse_dps\n",
    "from torchdata.datapipes import functional_datapipe\n",
    "from torchdata.datapipes.iter import IterableWrapper, IterDataPipe\n",
    "# Local modules\n"
   ]
  },
  {
   "cell_type": "markdown",
   "id": "40e740d6",
   "metadata": {},
   "source": [
    "# Picklable Cache Holder\n",
    "> The current (0.7.*) torchdata `in_memory_cache` fails traversals and pickling\n",
    "if the `self.cache` field contains elements not picklable. "
   ]
  },
  {
   "cell_type": "code",
   "execution_count": null,
   "id": "3e7c1b69",
   "metadata": {},
   "outputs": [],
   "source": [
    "#|export\n",
    "if DILL_AVAILABLE:\n",
    "    import dill\n",
    "\n",
    "    dill.extend(use_dill=False)\n",
    "\n",
    "T_co = TypeVar(\"T_co\", covariant=True)\n",
    "\n",
    "@functional_datapipe(\"pickleable_in_memory_cache\")\n",
    "class PickleableInMemoryCacheHolderIterDataPipe(IterDataPipe[T_co]):\n",
    "    r\"\"\"\n",
    "    Stores elements from the source DataPipe in memory, up to a size limit\n",
    "    if specified (functional name: ``in_memory_cache``). This cache is FIFO - once the cache is full,\n",
    "    further elements will not be added to the cache until the previous ones are yielded and popped off from the cache.\n",
    "\n",
    "    Args:\n",
    "        source_dp: source DataPipe from which elements are read and stored in memory\n",
    "        size: The maximum size (in megabytes) that this DataPipe can hold in memory. This defaults to unlimited.\n",
    "\n",
    "    Example:\n",
    "        >>> from torchdata.datapipes.iter import IterableWrapper\n",
    "        >>> source_dp = IterableWrapper(range(10))\n",
    "        >>> cache_dp = source_dp.pickleable_in_memory_cache(size=5)\n",
    "        >>> list(cache_dp)\n",
    "        [0, 1, 2, 3, 4, 5, 6, 7, 8, 9]\n",
    "    \"\"\"\n",
    "    size: Optional[int] = None\n",
    "    idx: int\n",
    "\n",
    "    def __init__(self, source_dp: IterDataPipe[T_co], size: Optional[int] = None) -> None:\n",
    "        self.source_dp: IterDataPipe[T_co] = source_dp\n",
    "        # cache size in MB\n",
    "        if size is not None:\n",
    "            self.size = size * 1024 * 1024\n",
    "        self.cache: Optional[Deque] = None\n",
    "        self.idx: int = 0\n",
    "\n",
    "    def __getstate__(self):\n",
    "        state = (\n",
    "            self.source_dp,\n",
    "            self.size\n",
    "        )\n",
    "        if IterDataPipe.getstate_hook is not None:\n",
    "            return IterDataPipe.getstate_hook(state)\n",
    "        return state\n",
    "\n",
    "    def __setstate__(self, state):\n",
    "        (\n",
    "            self.source_dp,\n",
    "            self.size\n",
    "        ) = state\n",
    "        self.cache: Optional[Deque] = None\n",
    "        self.idx: int = 0\n",
    "\n",
    "    def __iter__(self) -> Iterator[T_co]:\n",
    "        if self.cache:\n",
    "            if self.idx > 0:\n",
    "                for idx, data in enumerate(self.source_dp):\n",
    "                    if idx < self.idx:\n",
    "                        yield data\n",
    "                    else:\n",
    "                        break\n",
    "            yield from self.cache\n",
    "        else:\n",
    "            # Local cache\n",
    "            cache: Deque = deque()\n",
    "            idx = 0\n",
    "            for data in self.source_dp:\n",
    "                cache.append(data)\n",
    "                # Cache reaches limit\n",
    "                if self.size is not None and sys.getsizeof(cache) > self.size:\n",
    "                    cache.popleft()\n",
    "                    idx += 1\n",
    "                yield data\n",
    "            self.cache = cache\n",
    "            self.idx = idx\n",
    "\n",
    "    def __len__(self) -> int:\n",
    "        try:\n",
    "            return len(self.source_dp)\n",
    "        except TypeError:\n",
    "            if self.cache:\n",
    "                return self.idx + len(self.cache)\n",
    "            else:\n",
    "                raise TypeError(f\"{type(self).__name__} instance doesn't have valid length until the cache is loaded.\")\n"
   ]
  },
  {
   "cell_type": "code",
   "execution_count": null,
   "id": "030ac80e",
   "metadata": {},
   "outputs": [],
   "source": [
    "import gymnasium as gym\n",
    "import torchdata.datapipes as dp\n",
    "from torchdata.dataloader2.graph import traverse_dps"
   ]
  },
  {
   "cell_type": "code",
   "execution_count": null,
   "id": "ac11cb0a",
   "metadata": {},
   "outputs": [
    {
     "name": "stdout",
     "output_type": "stream",
     "text": [
      "CartPole-v1\n",
      "CartPole-v1\n",
      "CartPole-v1\n"
     ]
    },
    {
     "data": {
      "text/plain": [
       "{140461350713280: (HeaderIterDataPipe,\n",
       "  {140461350713088: (MapperIterDataPipe,\n",
       "    {140461350713136: (CyclerIterDataPipe,\n",
       "      {140461350712800: (PickleableInMemoryCacheHolderIterDataPipe,\n",
       "        {140461350712704: (MapperIterDataPipe,\n",
       "          {140464894078400: (IterableWrapperIterDataPipe, {})})})})})})}"
      ]
     },
     "execution_count": null,
     "metadata": {},
     "output_type": "execute_result"
    }
   ],
   "source": [
    "    def make_env(env:str):\n",
    "        print(env)\n",
    "        return gym.make(env,render_mode='rgb_array')\n",
    "    def reset_env(env):\n",
    "        env.reset()\n",
    "        env.render()\n",
    "        return env\n",
    "\n",
    "    pipe = dp.iter.IterableWrapper(['CartPole-v1']*3)\n",
    "    pipe = pipe.map(make_env)\n",
    "    pipe = pipe.pickleable_in_memory_cache()\n",
    "    # pipe = dp.iter.InMemoryCacheHolder(pipe)\n",
    "    # pipe = PickleableInMemoryCacheHolderIterDataPipe(pipe)\n",
    "    pipe = pipe.cycle()\n",
    "    pipe = pipe.map(reset_env)\n",
    "    pipe = pipe.header(10)\n",
    "    traverse_dps(pipe)\n",
    "    for o in pipe:pass\n",
    "    traverse_dps(pipe)"
   ]
  },
  {
   "cell_type": "code",
   "execution_count": null,
   "id": "current-pilot",
   "metadata": {},
   "outputs": [],
   "source": [
    "#|hide\n",
    "#|eval: false\n",
    "from fastcore.imports import in_colab\n",
    "\n",
    "# Since colab still requires tornado<6, we don't want to import nbdev if we don't have to\n",
    "if not in_colab():\n",
    "    from nbdev import nbdev_export\n",
    "    nbdev_export()"
   ]
  },
  {
   "cell_type": "code",
   "execution_count": null,
   "id": "0d620c48",
   "metadata": {},
   "outputs": [],
   "source": []
  }
 ],
 "metadata": {
  "kernelspec": {
   "display_name": "python3",
   "language": "python",
   "name": "python3"
  }
 },
 "nbformat": 4,
 "nbformat_minor": 5
}
