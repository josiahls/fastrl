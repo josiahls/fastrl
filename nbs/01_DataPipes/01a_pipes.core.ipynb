{
 "cells": [
  {
   "cell_type": "code",
   "execution_count": 1,
   "id": "durable-dialogue",
   "metadata": {},
   "outputs": [],
   "source": [
    "#|hide\n",
    "#|eval: false\n",
    "! [ -e /content ] && pip install -Uqq fastrl['dev'] pyvirtualdisplay && \\\n",
    "                     apt-get install -y xvfb python-opengl > /dev/null 2>&1 \n",
    "# NOTE: IF YOU SEE VERSION ERRORS, IT IS SAFE TO IGNORE THEM. COLAB IS BEHIND IN SOME OF THE PACKAGE VERSIONS"
   ]
  },
  {
   "cell_type": "code",
   "execution_count": 2,
   "id": "viral-cambridge",
   "metadata": {},
   "outputs": [],
   "source": [
    "#|hide\n",
    "#|eval: false\n",
    "from fastcore.imports import in_colab\n",
    "# Since colab still requires tornado<6, we don't want to import nbdev if we don't have to\n",
    "if not in_colab():\n",
    "    from nbdev.showdoc import *\n",
    "    from nbdev.imports import *\n",
    "    if not os.environ.get(\"IN_TEST\", None):\n",
    "        assert IN_NOTEBOOK\n",
    "        assert not IN_COLAB\n",
    "        assert IN_IPYTHON\n",
    "else:\n",
    "    # Virutual display is needed for colab\n",
    "    from pyvirtualdisplay import Display\n",
    "    display = Display(visible=0, size=(400, 300))\n",
    "    display.start()"
   ]
  },
  {
   "cell_type": "code",
   "execution_count": 3,
   "id": "offshore-stuart",
   "metadata": {},
   "outputs": [],
   "source": [
    "#|default_exp pipes.core"
   ]
  },
  {
   "cell_type": "code",
   "execution_count": 169,
   "id": "assisted-contract",
   "metadata": {},
   "outputs": [],
   "source": [
    "#|export\n",
    "# Python native modules\n",
    "import os\n",
    "import logging\n",
    "import inspect\n",
    "from typing import Callable,Union,TypeVar\n",
    "# Third party libs\n",
    "from fastcore.all import *\n",
    "import torchdata.datapipes as dp\n",
    "from torchdata.datapipes import functional_datapipe\n",
    "from torchdata.datapipes.iter import IterDataPipe\n",
    "from torchdata.datapipes.map import MapDataPipe\n",
    "from torchdata.dataloader2.graph import find_dps,DataPipeGraph,Type,DataPipe,traverse,_assign_attr,replace_dp\n",
    "# Local modules"
   ]
  },
  {
   "cell_type": "markdown",
   "id": "lesser-innocent",
   "metadata": {},
   "source": [
    "# Pipes Core\n",
    "> Utilities for templating pipelines"
   ]
  },
  {
   "cell_type": "code",
   "execution_count": 5,
   "id": "1cf57ad4-0124-4af1-ae76-81d607bdce00",
   "metadata": {},
   "outputs": [],
   "source": [
    "#|export\n",
    "def find_dp(graph: DataPipeGraph, dp_type: Type[DataPipe]) -> DataPipe:\n",
    "    pipes = find_dps(graph,dp_type)\n",
    "    if len(pipes)==1: return pipes[0]\n",
    "    elif len(pipes)>1:\n",
    "        found_ids = set([id(pipe) for pipe in pipes])\n",
    "        if len(found_ids)>1:\n",
    "            warn(f\"\"\"There are {len(pipes)} pipes of type {dp_type}. If this is intended, \n",
    "                     please use `find_dps` directly. Returning first instance.\"\"\")\n",
    "        return pipes[0]\n",
    "    else:\n",
    "        raise LookupError(f'Unable to find {dp_type} starting at {graph}')\n",
    "    \n",
    "find_dp.__doc__ = \"Returns a single `DataPipe` as opposed to `find_dps`.\\n\"+find_dps.__doc__"
   ]
  },
  {
   "cell_type": "markdown",
   "id": "d9a1353c-c245-4021-b8ed-fe747b5305c0",
   "metadata": {},
   "source": [
    "For example if we have a pipeline such as:"
   ]
  },
  {
   "cell_type": "code",
   "execution_count": 160,
   "id": "384863a5-99e1-4186-bf5e-364f78811f62",
   "metadata": {},
   "outputs": [
    {
     "data": {
      "text/plain": [
       "[0, 1, 2, 3, 4, 5, 6, 7, 8, 9]"
      ]
     },
     "execution_count": 160,
     "metadata": {},
     "output_type": "execute_result"
    }
   ],
   "source": [
    "class Template(dp.iter.IterDataPipe):\n",
    "    def __init__(self,source_datapipe=None): self.source_datapipe = source_datapipe\n",
    "    def __iter__(self): return (o for o in self.source_datapipe)\n",
    "\n",
    "class A(Template):pass\n",
    "class B(Template):pass\n",
    "class C(Template):pass\n",
    "class D(Template):pass\n",
    "class E(Template):pass\n",
    "class F(Template):pass\n",
    "\n",
    "pipe = A(range(10))\n",
    "pipe = B(pipe)\n",
    "pipe = C(pipe)\n",
    "pipe = D(pipe)\n",
    "pipe = D(pipe)\n",
    "pipe = E(pipe)\n",
    "list(pipe)"
   ]
  },
  {
   "cell_type": "markdown",
   "id": "cfd05730-0365-4a1e-b140-3aff7aa7b7d5",
   "metadata": {},
   "source": [
    "We can grab the instance `C` in the middle of the graph via..."
   ]
  },
  {
   "cell_type": "code",
   "execution_count": 154,
   "id": "21ed0c76-0760-4bb3-bdd2-c4acc472362c",
   "metadata": {},
   "outputs": [
    {
     "data": {
      "text/plain": [
       "C"
      ]
     },
     "execution_count": 154,
     "metadata": {},
     "output_type": "execute_result"
    }
   ],
   "source": [
    "find_dp(traverse(pipe),C)"
   ]
  },
  {
   "cell_type": "markdown",
   "id": "2c66f7d0-0336-446e-bb1e-3f6bfaf64de2",
   "metadata": {},
   "source": [
    "If the pipe doesnt exist a `LookupError` gets raised..."
   ]
  },
  {
   "cell_type": "code",
   "execution_count": 158,
   "id": "d350099c-857c-4e02-b2f1-2af476c21e6c",
   "metadata": {},
   "outputs": [],
   "source": [
    "with ExceptionExpected(LookupError):\n",
    "    find_dp(traverse(pipe),F)"
   ]
  },
  {
   "cell_type": "markdown",
   "id": "741ce9b4-24ca-4fa0-a6d4-aced939001d7",
   "metadata": {},
   "source": [
    "And if there are multiple instances of the same time, you will be warned to use `find_dps` instead..."
   ]
  },
  {
   "cell_type": "code",
   "execution_count": 161,
   "id": "a5b00bf6-008b-4e30-ab13-ec068db4f981",
   "metadata": {},
   "outputs": [
    {
     "name": "stderr",
     "output_type": "stream",
     "text": [
      "/opt/conda/lib/python3.7/site-packages/ipykernel_launcher.py:9: UserWarning: There are 2 pipes of type <class '__main__.D'>. If this is intended, \n",
      "                     please use `find_dps` directly. Returning first instance.\n",
      "  if __name__ == \"__main__\":\n"
     ]
    },
    {
     "data": {
      "text/plain": [
       "D"
      ]
     },
     "execution_count": 161,
     "metadata": {},
     "output_type": "execute_result"
    }
   ],
   "source": [
    "find_dp(traverse(pipe),D)"
   ]
  },
  {
   "cell_type": "code",
   "execution_count": 164,
   "id": "current-pilot",
   "metadata": {},
   "outputs": [],
   "source": [
    "#|hide\n",
    "#|eval: false\n",
    "from fastcore.imports import in_colab\n",
    "\n",
    "# Since colab still requires tornado<6, we don't want to import nbdev if we don't have to\n",
    "if not in_colab():\n",
    "    from nbdev import nbdev_export\n",
    "    nbdev_export()"
   ]
  },
  {
   "cell_type": "code",
   "execution_count": null,
   "id": "036c64d0-f9c6-4432-82f8-c171840afc55",
   "metadata": {},
   "outputs": [],
   "source": []
  }
 ],
 "metadata": {
  "kernelspec": {
   "display_name": "Python 3 (ipykernel)",
   "language": "python",
   "name": "python3"
  },
  "language_info": {
   "codemirror_mode": {
    "name": "ipython",
    "version": 3
   },
   "file_extension": ".py",
   "mimetype": "text/x-python",
   "name": "python",
   "nbconvert_exporter": "python",
   "pygments_lexer": "ipython3",
   "version": "3.7.11"
  }
 },
 "nbformat": 4,
 "nbformat_minor": 5
}
