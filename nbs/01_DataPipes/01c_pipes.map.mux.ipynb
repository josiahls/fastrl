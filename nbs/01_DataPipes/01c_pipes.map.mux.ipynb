{
 "cells": [
  {
   "cell_type": "code",
   "execution_count": null,
   "id": "durable-dialogue",
   "metadata": {},
   "outputs": [],
   "source": [
    "#|hide\n",
    "#|eval: false\n",
    "! [ -e /content ] && pip install -Uqq fastrl['dev'] pyvirtualdisplay && \\\n",
    "                     apt-get install -y xvfb python-opengl > /dev/null 2>&1 \n",
    "# NOTE: IF YOU SEE VERSION ERRORS, IT IS SAFE TO IGNORE THEM. COLAB IS BEHIND IN SOME OF THE PACKAGE VERSIONS"
   ]
  },
  {
   "cell_type": "code",
   "execution_count": null,
   "id": "viral-cambridge",
   "metadata": {},
   "outputs": [],
   "source": [
    "#|hide\n",
    "#|eval: false\n",
    "from fastcore.imports import in_colab\n",
    "# Since colab still requires tornado<6, we don't want to import nbdev if we don't have to\n",
    "if not in_colab():\n",
    "    from nbdev.showdoc import *\n",
    "    from nbdev.imports import *\n",
    "    if not os.environ.get(\"IN_TEST\", None):\n",
    "        assert IN_NOTEBOOK\n",
    "        assert not IN_COLAB\n",
    "        assert IN_IPYTHON\n",
    "else:\n",
    "    # Virutual display is needed for colab\n",
    "    from pyvirtualdisplay import Display\n",
    "    display = Display(visible=0, size=(400, 300))\n",
    "    display.start()"
   ]
  },
  {
   "cell_type": "code",
   "execution_count": null,
   "id": "offshore-stuart",
   "metadata": {},
   "outputs": [],
   "source": [
    "#|default_exp pipes.map.mux\n",
    "from nbdev.showdoc import *"
   ]
  },
  {
   "cell_type": "code",
   "execution_count": null,
   "id": "assisted-contract",
   "metadata": {},
   "outputs": [],
   "source": [
    "#|export\n",
    "# Python native modules\n",
    "import os\n",
    "from inspect import isfunction,ismethod\n",
    "from itertools import chain, zip_longest\n",
    "from typing import Callable, Dict, Iterable, Optional, TypeVar\n",
    "# Third party libs\n",
    "from fastcore.all import *\n",
    "from fastai.torch_basics import *\n",
    "# from torch.utils.data.dataloader import DataLoader as OrgDataLoader\n",
    "import torchdata.datapipes as dp\n",
    "from torchdata.datapipes import functional_datapipe\n",
    "from torchdata.dataloader2.graph import find_dps,DataPipeGraph,Type,DataPipe,MapDataPipe,IterDataPipe\n",
    "from torchdata.dataloader2.dataloader2 import DataLoader2\n",
    "# Local modules"
   ]
  },
  {
   "cell_type": "markdown",
   "id": "1dd7b619-2f07-4e11-8a8f-6eac9d59ed1e",
   "metadata": {},
   "source": [
    "# Multiplexer\n",
    "> MapDataPipe for splitting a single datapipe into multiple"
   ]
  },
  {
   "cell_type": "code",
   "execution_count": null,
   "id": "e6f05319-516e-4b0c-acef-aac36879379b",
   "metadata": {},
   "outputs": [],
   "source": [
    "#|export\n",
    "T_co = TypeVar(\"T_co\", covariant=True)\n",
    "\n",
    "@functional_datapipe(\"mux\")\n",
    "class MultiplexerMapDataPipe(MapDataPipe[T_co]):\n",
    "    def __init__(self, *datapipes, dp_index_map: Optional[Dict[MapDataPipe, Iterable]] = None):\n",
    "        self.datapipes = datapipes\n",
    "        self.dp_index_map = dp_index_map if dp_index_map else {}\n",
    "        self.length: Optional[int] = None\n",
    "        self.index_map = {}\n",
    "        # Create a generator that yields (index, (dp_num, old_index)) in sequentially order.\n",
    "        indices = (self._add_dp_num(i, dp) for i, dp in enumerate(datapipes))\n",
    "        dp_id_and_key_tuples = chain.from_iterable(zip_longest(*indices))\n",
    "        self.key_gen = enumerate(e for e in dp_id_and_key_tuples if e is not None)\n",
    "\n",
    "    def _add_dp_num(self, dp_num: int, dp: MapDataPipe):\n",
    "        # Assume 0-index for all DataPipes unless alternate indices are defined in `self.dp_index_map`\n",
    "        dp_indices = self.dp_index_map[dp] if dp in self.dp_index_map else range(len(dp))\n",
    "        for idx in dp_indices:\n",
    "            yield dp_num, idx\n",
    "\n",
    "    def __getitem__(self, index):\n",
    "        if 0 <= index < len(self):\n",
    "            if index in self.index_map:\n",
    "                dp_num, old_key = self.index_map[index]\n",
    "            else:\n",
    "                curr_key = -1\n",
    "                while curr_key < index:\n",
    "                    curr_key, dp_num_key_tuple = next(self.key_gen)\n",
    "                    dp_num, old_key = dp_num_key_tuple\n",
    "                self.index_map[index] = dp_num, old_key\n",
    "            try:\n",
    "                return self.datapipes[dp_num][old_key]\n",
    "            except KeyError:\n",
    "                raise RuntimeError(\n",
    "                    f\"Incorrect key is given to MapDataPipe {dp_num} in Multiplexer, likely because\"\n",
    "                    f\"that DataPipe is not 0-index but alternate indices are not given.\"\n",
    "                )\n",
    "        raise RuntimeError(f\"Index {index} is out of bound for Multiplexer.\")\n",
    "\n",
    "    def __iter__(self):\n",
    "        for i in range(len(self)):\n",
    "            yield self[i]\n",
    "\n",
    "    def __len__(self):\n",
    "        if self.length is None:\n",
    "            self.length = 0\n",
    "            for dp in self.datapipes:\n",
    "                self.length += len(dp)\n",
    "        return self.length\n",
    "    \n",
    "MultiplexerMapDataPipe.__doc__ = \"\"\"Yields one element at a time from each of the input Iterable DataPipes (functional name: ``mux``). As in,\n",
    "    one element from the 1st input DataPipe, then one element from the 2nd DataPipe in the next iteration,\n",
    "    and so on. It ends when the shortest input DataPipe is exhausted.\n",
    "\"\"\""
   ]
  },
  {
   "cell_type": "markdown",
   "id": "ff45a873-dd4c-4a38-a82c-d2457025d621",
   "metadata": {},
   "source": [
    "For example we can have a datapipe `a` that contains a list of numbers from `0->10`,\n",
    "and `b` that is a map that maps letters to some integers.\n",
    "\n",
    "`dp_index_map` gives instructions for each additional datapipe (`b`) on the order to querying for values.\n",
    "\n",
    "The result is that the letters `a`,`b`, etc get mapped to their respective integers."
   ]
  },
  {
   "cell_type": "code",
   "execution_count": null,
   "id": "a9d2c364-ea9d-42b6-822c-f82eaae8c1f2",
   "metadata": {},
   "outputs": [
    {
     "data": {
      "text/plain": [
       "[0, 100, 1, 200, 2, 300, 3, 400, 4, 5, 6, 7, 8, 9]"
      ]
     },
     "execution_count": null,
     "metadata": {},
     "output_type": "execute_result"
    }
   ],
   "source": [
    "a = dp.map.SequenceWrapper(range(10))\n",
    "b = dp.map.SequenceWrapper({'a': 100, 'b': 200, 'c': 300, 'd': 400})\n",
    "datapipe = a.mux(b, dp_index_map={b: ['a', 'b', 'c', 'd']})\n",
    "test_eq(list(datapipe),[0, 100, 1, 200, 2, 300, 3, 400, 4, 5, 6, 7, 8, 9])\n",
    "list(datapipe)"
   ]
  },
  {
   "cell_type": "markdown",
   "id": "d7911b79-c069-409b-801d-144ac7b0dd4d",
   "metadata": {},
   "source": [
    "In the second example we take a list of numbers `0->12` and split them equally into 3 datapipes..."
   ]
  },
  {
   "cell_type": "code",
   "execution_count": null,
   "id": "7eb5a14b",
   "metadata": {},
   "outputs": [],
   "source": [
    "from fastrl.pipes.map.demux import DemultiplexerMapDataPipe"
   ]
  },
  {
   "cell_type": "code",
   "execution_count": null,
   "id": "0db9f3bb-8747-421f-a499-edf375c6d074",
   "metadata": {},
   "outputs": [
    {
     "data": {
      "text/plain": [
       "(4, 4, 4)"
      ]
     },
     "execution_count": null,
     "metadata": {},
     "output_type": "execute_result"
    }
   ],
   "source": [
    "a = dp.map.SequenceWrapper(range(12))\n",
    "\n",
    "def split_three_way(a):\n",
    "    return a%3\n",
    "\n",
    "k1,k2,k3 = a.demux(num_instances=3,classifier_fn=split_three_way)\n",
    "for pipe in (k1,k2,k3): test_eq(len(pipe),4)\n",
    "len(k1),len(k2),len(k3)"
   ]
  },
  {
   "cell_type": "markdown",
   "id": "1d225369-5edc-4105-8630-69de5a5150d0",
   "metadata": {},
   "source": [
    "We can then recombine them back into a single datapipe..."
   ]
  },
  {
   "cell_type": "code",
   "execution_count": null,
   "id": "60ed4eba-db91-4cbe-ad0a-014d7f213795",
   "metadata": {},
   "outputs": [
    {
     "data": {
      "text/plain": [
       "[0, 1, 2, 3, 4, 5, 6, 7, 8, 9, 10, 11]"
      ]
     },
     "execution_count": null,
     "metadata": {},
     "output_type": "execute_result"
    }
   ],
   "source": [
    "combined_pipes=MultiplexerMapDataPipe(k1,k2,k3)\n",
    "test_eq(list(combined_pipes),range(12))\n",
    "list(combined_pipes)"
   ]
  },
  {
   "cell_type": "code",
   "execution_count": null,
   "id": "current-pilot",
   "metadata": {},
   "outputs": [],
   "source": [
    "#|hide\n",
    "#|eval: false\n",
    "from fastcore.imports import in_colab\n",
    "\n",
    "# Since colab still requires tornado<6, we don't want to import nbdev if we don't have to\n",
    "if not in_colab():\n",
    "    from nbdev import nbdev_export\n",
    "    nbdev_export()"
   ]
  },
  {
   "cell_type": "code",
   "execution_count": null,
   "id": "592b6c79-586f-4f73-bc90-95df3fa74fce",
   "metadata": {},
   "outputs": [],
   "source": []
  }
 ],
 "metadata": {
  "kernelspec": {
   "display_name": "Python 3.7.11 ('base')",
   "language": "python",
   "name": "python3"
  }
 },
 "nbformat": 4,
 "nbformat_minor": 5
}
