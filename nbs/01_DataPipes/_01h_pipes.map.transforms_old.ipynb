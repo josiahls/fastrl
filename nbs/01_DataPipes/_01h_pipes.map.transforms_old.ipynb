{
 "cells": [
  {
   "cell_type": "code",
   "execution_count": null,
   "id": "durable-dialogue",
   "metadata": {},
   "outputs": [],
   "source": [
    "#|hide\n",
    "#|eval: false\n",
    "! [ -e /content ] && pip install -Uqq fastrl['dev'] pyvirtualdisplay && \\\n",
    "                     apt-get install -y xvfb python-opengl > /dev/null 2>&1 \n",
    "# NOTE: IF YOU SEE VERSION ERRORS, IT IS SAFE TO IGNORE THEM. COLAB IS BEHIND IN SOME OF THE PACKAGE VERSIONS"
   ]
  },
  {
   "cell_type": "code",
   "execution_count": null,
   "id": "viral-cambridge",
   "metadata": {},
   "outputs": [],
   "source": [
    "#|hide\n",
    "#|eval: false\n",
    "from fastcore.imports import in_colab\n",
    "# Since colab still requires tornado<6, we don't want to import nbdev if we don't have to\n",
    "if not in_colab():\n",
    "    from nbdev.showdoc import *\n",
    "    from nbdev.imports import *\n",
    "    if not os.environ.get(\"IN_TEST\", None):\n",
    "        assert IN_NOTEBOOK\n",
    "        assert not IN_COLAB\n",
    "        assert IN_IPYTHON\n",
    "else:\n",
    "    # Virutual display is needed for colab\n",
    "    from pyvirtualdisplay import Display\n",
    "    display = Display(visible=0, size=(400, 300))\n",
    "    display.start()"
   ]
  },
  {
   "cell_type": "code",
   "execution_count": null,
   "id": "offshore-stuart",
   "metadata": {},
   "outputs": [],
   "source": [
    "#|default_exp pipes.map.transforms_old"
   ]
  },
  {
   "cell_type": "code",
   "execution_count": null,
   "id": "assisted-contract",
   "metadata": {},
   "outputs": [],
   "source": [
    "#|export\n",
    "# Python native modules\n",
    "from typing import Callable,Union,TypeVar\n",
    "# Third party libs\n",
    "from fastcore.all import *\n",
    "import torchdata.datapipes as dp\n",
    "from torchdata.datapipes.map import MapDataPipe\n",
    "from torchdata.dataloader2.graph import find_dps,DataPipeGraph,Type,DataPipe\n",
    "# Local modules"
   ]
  },
  {
   "attachments": {},
   "cell_type": "markdown",
   "id": "85e26879-6e79-42ee-a23c-bb3c88c2e828",
   "metadata": {},
   "source": [
    "# Type Transforms\n",
    "> DataPipes for calling functions over map based `__getitem__` calls"
   ]
  },
  {
   "cell_type": "code",
   "execution_count": null,
   "id": "1125daaf-64fc-4b9f-a084-4f61ed7278de",
   "metadata": {},
   "outputs": [],
   "source": [
    "#|export\n",
    "T_co = TypeVar(\"T_co\", covariant=True)\n",
    "\n",
    "class TypeTransformer(dp.map.MapDataPipe):\n",
    "    def __init__(\n",
    "            self,\n",
    "            # Should allow `__getitem__` and producing elements to be injested by `type_tfms`\n",
    "            source_datapipe:MapDataPipe[T_co],\n",
    "            # A list of Callables that accept an input, and return an output\n",
    "            type_tfms:List[Callable]\n",
    "    ) -> None:\n",
    "        self.type_tfms:Pipeline[Callable] = Pipeline(type_tfms)\n",
    "        self.source_datapipe:MapDataPipe[T_co] = source_datapipe\n",
    "    \n",
    "    def __getitem__(self, index) -> T_co:\n",
    "        data = self.source_datapipe[index]\n",
    "        return self.type_tfms(data)\n",
    "            \n",
    "    def __len__(self) -> int: return len(self.source_datapipe)\n",
    "\n",
    "TypeTransformer.__doc__ = \"\"\"On `__getitem__` functions in `self.type_tfms` get called over each element.\n",
    "Generally `TypeTransformer` as the name suggests is intended to convert elements from one type to another.\n",
    "reference documentation on how to combine this with `InMemoryCacheHolder`.\"\"\""
   ]
  },
  {
   "attachments": {},
   "cell_type": "markdown",
   "id": "c37bbe2a-1b16-4c8b-898a-4c8165efc37f",
   "metadata": {},
   "source": [
    "Similar to the `fastrl.pipes.iter.transforms`, `TypeTransformer` can be used to convert elements into\n",
    "different values..."
   ]
  },
  {
   "cell_type": "code",
   "execution_count": null,
   "id": "1ebeff77-cbb9-412d-a87a-5a1778cc9936",
   "metadata": {},
   "outputs": [],
   "source": [
    "add_one = lambda o:o+1\n",
    "multiple_by_two = lambda o:o*2\n",
    "pipe = TypeTransformer(range(10),[add_one,multiple_by_two])\n",
    "\n",
    "results = [pipe[i] for i in range(10)] \n",
    "test_eq(results,[2, 4, 6, 8, 10, 12, 14, 16, 18, 20])"
   ]
  },
  {
   "attachments": {},
   "cell_type": "markdown",
   "id": "80e5c19c-52ad-4818-9ea4-83df26c65271",
   "metadata": {},
   "source": [
    "However if we want to convert types and keep them, we can combine `TypeTransformer` with `InMemoryCacheHolder`..."
   ]
  },
  {
   "cell_type": "code",
   "execution_count": null,
   "id": "4c30c82f-18a4-4d17-bf61-0f1302d02e0b",
   "metadata": {},
   "outputs": [],
   "source": [
    "num2str = lambda o:str(o)\n",
    "add_str_postfix = lambda o:o+'_postfix'\n",
    "pipe = TypeTransformer(range(10),[num2str,add_str_postfix])\n",
    "pipe = dp.map.InMemoryCacheHolder(pipe)\n",
    "\n",
    "results = [pipe[i] for i in range(10)] \n",
    "test_eq(results,['0_postfix', '1_postfix', '2_postfix', '3_postfix', \n",
    "                 '4_postfix', '5_postfix', '6_postfix', '7_postfix', '8_postfix', '9_postfix'])"
   ]
  },
  {
   "cell_type": "code",
   "execution_count": null,
   "id": "current-pilot",
   "metadata": {},
   "outputs": [],
   "source": [
    "#|hide\n",
    "#|eval: false\n",
    "from fastcore.imports import in_colab\n",
    "\n",
    "# Since colab still requires tornado<6, we don't want to import nbdev if we don't have to\n",
    "if not in_colab():\n",
    "    from nbdev import nbdev_export\n",
    "    nbdev_export()"
   ]
  },
  {
   "cell_type": "code",
   "execution_count": null,
   "id": "036c64d0-f9c6-4432-82f8-c171840afc55",
   "metadata": {},
   "outputs": [],
   "source": []
  }
 ],
 "metadata": {
  "kernelspec": {
   "display_name": "python3",
   "language": "python",
   "name": "python3"
  }
 },
 "nbformat": 4,
 "nbformat_minor": 5
}
