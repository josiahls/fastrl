{
 "cells": [
  {
   "cell_type": "code",
   "execution_count": 1,
   "id": "durable-dialogue",
   "metadata": {},
   "outputs": [],
   "source": [
    "#|hide\n",
    "#|eval: false\n",
    "! [ -e /content ] && pip install -Uqq fastrl['dev'] pyvirtualdisplay && \\\n",
    "                     apt-get install -y xvfb python-opengl > /dev/null 2>&1 \n",
    "# NOTE: IF YOU SEE VERSION ERRORS, IT IS SAFE TO IGNORE THEM. COLAB IS BEHIND IN SOME OF THE PACKAGE VERSIONS"
   ]
  },
  {
   "cell_type": "code",
   "execution_count": 2,
   "id": "viral-cambridge",
   "metadata": {},
   "outputs": [],
   "source": [
    "#|hide\n",
    "#|eval: false\n",
    "from fastcore.imports import in_colab\n",
    "# Since colab still requires tornado<6, we don't want to import nbdev if we don't have to\n",
    "if not in_colab():\n",
    "    from nbdev.showdoc import *\n",
    "    from nbdev.imports import *\n",
    "    if not os.environ.get(\"IN_TEST\", None):\n",
    "        assert IN_NOTEBOOK\n",
    "        assert not IN_COLAB\n",
    "        assert IN_IPYTHON\n",
    "else:\n",
    "    # Virutual display is needed for colab\n",
    "    from pyvirtualdisplay import Display\n",
    "    display = Display(visible=0, size=(400, 300))\n",
    "    display.start()"
   ]
  },
  {
   "cell_type": "code",
   "execution_count": 11,
   "id": "offshore-stuart",
   "metadata": {},
   "outputs": [],
   "source": [
    "#|default_exp pipes.iter.transforms"
   ]
  },
  {
   "cell_type": "code",
   "execution_count": 25,
   "id": "assisted-contract",
   "metadata": {},
   "outputs": [],
   "source": [
    "#|export\n",
    "# Python native modules\n",
    "from typing import Callable,Union,TypeVar\n",
    "# Third party libs\n",
    "from fastcore.all import *\n",
    "import torchdata.datapipes as dp\n",
    "from torchdata.datapipes.iter import IterDataPipe\n",
    "from torchdata.dataloader2.graph import find_dps,DataPipeGraph,Type,DataPipe\n",
    "# Local modules"
   ]
  },
  {
   "cell_type": "markdown",
   "id": "lesser-innocent",
   "metadata": {},
   "source": [
    "# Item and Batch Transforms\n",
    "> DataPipes for calling functions over iterations"
   ]
  },
  {
   "cell_type": "code",
   "execution_count": 16,
   "id": "f69a5777-6aa4-46e4-b54e-0cc8f0776607",
   "metadata": {},
   "outputs": [],
   "source": [
    "#|export\n",
    "T_co = TypeVar(\"T_co\", covariant=True)\n",
    "\n",
    "class ItemTransformer(IterDataPipe[T_co]):\n",
    "    def __init__(\n",
    "            self,\n",
    "            # Should allow iterating and producing elements to be injested by `item_tfms`\n",
    "            source_datapipe:IterDataPipe[T_co],\n",
    "            # A list of Callables that accept an input, and return an output\n",
    "            item_tfms:List[Callable]\n",
    "    ) -> None: \n",
    "        self.item_tfms:Pipeline[Callable] = Pipeline(item_tfms)\n",
    "        self.source_datapipe:IterDataPipe[T_co] = source_datapipe\n",
    "    \n",
    "    def __iter__(self) -> Iterator[T_co]:\n",
    "        for data in self.source_datapipe:\n",
    "            yield self.item_tfms(data)\n",
    "    \n",
    "ItemTransformer.__doc__ = \"\"\"Converts `item_tfms` into a `Pipeline` that is run over for every iter in `source_datapipe`\"\"\""
   ]
  },
  {
   "cell_type": "markdown",
   "id": "3b87ac54-bdc8-4326-9713-5a112d84dcd5",
   "metadata": {},
   "source": [
    "`ItemTransformer` can be used to do quick augmentations to an existing pipeline by passing simple\n",
    "functions into `item_tfms`. For example below given an input of `0->10` we add one to each element and\n",
    "then multiply that element by 2..."
   ]
  },
  {
   "cell_type": "code",
   "execution_count": 21,
   "id": "5dc65bb7-98a6-4b85-867e-d80c99b592ae",
   "metadata": {},
   "outputs": [
    {
     "data": {
      "text/plain": [
       "[2, 4, 6, 8, 10, 12, 14, 16, 18, 20]"
      ]
     },
     "execution_count": 21,
     "metadata": {},
     "output_type": "execute_result"
    }
   ],
   "source": [
    "add_one = lambda o:o+1\n",
    "multiple_by_two = lambda o:o*2\n",
    "pipe = ItemTransformer(range(10),[add_one,multiple_by_two])\n",
    "test_eq(list(pipe),[2, 4, 6, 8, 10, 12, 14, 16, 18, 20])\n",
    "list(pipe)"
   ]
  },
  {
   "cell_type": "code",
   "execution_count": 26,
   "id": "1125daaf-64fc-4b9f-a084-4f61ed7278de",
   "metadata": {},
   "outputs": [],
   "source": [
    "#|export\n",
    "class BatchTransformer(IterDataPipe[T_co]):\n",
    "    def __init__(\n",
    "            self,\n",
    "            # Should allow iterating and producing batches of elements to be injested by `batch_tfms`\n",
    "            source_datapipe:IterDataPipe[T_co],\n",
    "            # A list of Callables that accept a (batch) input, and return an (batch) output\n",
    "            batch_tfms:List[Callable]\n",
    "    ) -> None:\n",
    "        self.batch_tfms:Pipeline[Callable] = Pipeline(batch_tfms)\n",
    "        self.source_datapipe:IterDataPipe[T_co] = source_datapipe\n",
    "    \n",
    "    def __iter__(self) -> Iterator[T_co]:\n",
    "        for data in self.source_datapipe:\n",
    "            yield self.batch_tfms(data)\n",
    "            \n",
    "BatchTransformer.__doc__ = \"\"\"Converts `batch_tfms` into a `Pipeline` that is run over for every iter in `source_datapipe`\"\"\""
   ]
  },
  {
   "cell_type": "markdown",
   "id": "086048f1-68ad-41bd-a962-24f870bb247f",
   "metadata": {},
   "source": [
    "`BatchTransformer` is identical to `ItemTransformer` but semantically the functions it runs should\n",
    "operate on an entire batch of elements..."
   ]
  },
  {
   "cell_type": "code",
   "execution_count": 23,
   "id": "685ab5fe-c05e-4f70-8e74-b4b5580969e6",
   "metadata": {},
   "outputs": [
    {
     "data": {
      "text/plain": [
       "[[2, 4], [6, 8], [10, 12], [14, 16], [18, 20]]"
      ]
     },
     "execution_count": 23,
     "metadata": {},
     "output_type": "execute_result"
    }
   ],
   "source": [
    "add_one = lambda o:[element+1 for element in o]\n",
    "multiple_by_two = lambda o:[element*2 for element in o]\n",
    "\n",
    "pipe = dp.iter.IterableWrapper(range(10))\n",
    "pipe = pipe.batch(2)\n",
    "pipe = BatchTransformer(pipe,[add_one,multiple_by_two])\n",
    "test_eq(list(pipe),[[2, 4], [6, 8], [10, 12], [14, 16], [18, 20]])\n",
    "list(pipe)"
   ]
  },
  {
   "cell_type": "code",
   "execution_count": 24,
   "id": "current-pilot",
   "metadata": {},
   "outputs": [],
   "source": [
    "#|hide\n",
    "#|eval: false\n",
    "from fastcore.imports import in_colab\n",
    "\n",
    "# Since colab still requires tornado<6, we don't want to import nbdev if we don't have to\n",
    "if not in_colab():\n",
    "    from nbdev import nbdev_export\n",
    "    nbdev_export()"
   ]
  },
  {
   "cell_type": "code",
   "execution_count": null,
   "id": "036c64d0-f9c6-4432-82f8-c171840afc55",
   "metadata": {},
   "outputs": [],
   "source": []
  }
 ],
 "metadata": {
  "kernelspec": {
   "display_name": "Python 3 (ipykernel)",
   "language": "python",
   "name": "python3"
  },
  "language_info": {
   "codemirror_mode": {
    "name": "ipython",
    "version": 3
   },
   "file_extension": ".py",
   "mimetype": "text/x-python",
   "name": "python",
   "nbconvert_exporter": "python",
   "pygments_lexer": "ipython3",
   "version": "3.7.11"
  }
 },
 "nbformat": 4,
 "nbformat_minor": 5
}
