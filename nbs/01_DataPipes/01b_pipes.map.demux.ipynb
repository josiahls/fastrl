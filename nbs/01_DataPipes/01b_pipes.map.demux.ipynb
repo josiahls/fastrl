{
 "cells": [
  {
   "cell_type": "code",
   "execution_count": null,
   "id": "durable-dialogue",
   "metadata": {},
   "outputs": [],
   "source": [
    "#|hide\n",
    "#|eval: false\n",
    "! [ -e /content ] && pip install -Uqq fastrl['dev'] pyvirtualdisplay && \\\n",
    "                     apt-get install -y xvfb python-opengl > /dev/null 2>&1 \n",
    "# NOTE: IF YOU SEE VERSION ERRORS, IT IS SAFE TO IGNORE THEM. COLAB IS BEHIND IN SOME OF THE PACKAGE VERSIONS"
   ]
  },
  {
   "cell_type": "code",
   "execution_count": null,
   "id": "viral-cambridge",
   "metadata": {},
   "outputs": [],
   "source": [
    "#|hide\n",
    "#|eval: false\n",
    "from fastcore.imports import in_colab\n",
    "# Since colab still requires tornado<6, we don't want to import nbdev if we don't have to\n",
    "if not in_colab():\n",
    "    from nbdev.showdoc import *\n",
    "    from nbdev.imports import *\n",
    "    if not os.environ.get(\"IN_TEST\", None):\n",
    "        assert IN_NOTEBOOK\n",
    "        assert not IN_COLAB\n",
    "        assert IN_IPYTHON\n",
    "else:\n",
    "    # Virutual display is needed for colab\n",
    "    from pyvirtualdisplay import Display\n",
    "    display = Display(visible=0, size=(400, 300))\n",
    "    display.start()"
   ]
  },
  {
   "cell_type": "code",
   "execution_count": null,
   "id": "offshore-stuart",
   "metadata": {},
   "outputs": [],
   "source": [
    "#|default_exp pipes.map.demux\n",
    "from nbdev.showdoc import *"
   ]
  },
  {
   "cell_type": "code",
   "execution_count": null,
   "id": "assisted-contract",
   "metadata": {},
   "outputs": [],
   "source": [
    "#|export\n",
    "# Python native modules\n",
    "import os\n",
    "from inspect import isfunction,ismethod\n",
    "from typing import Callable, Dict, Iterable, Optional, TypeVar\n",
    "# Third party libs\n",
    "from fastcore.all import *\n",
    "from fastrl.torch_core import *\n",
    "from torch.utils.data.datapipes.utils.common import _check_unpickable_fn\n",
    "import torchdata.datapipes as dp\n",
    "from torchdata.datapipes import functional_datapipe\n",
    "from torchdata.dataloader2.graph import find_dps,DataPipeGraph,Type,DataPipe,MapDataPipe,IterDataPipe\n",
    "from torchdata.dataloader2.dataloader2 import DataLoader2\n",
    "# Local modules"
   ]
  },
  {
   "cell_type": "markdown",
   "id": "lesser-innocent",
   "metadata": {},
   "source": [
    "# DeMultiplexer\n",
    "> MapDataPipe for splitting a single datapipe into multiple"
   ]
  },
  {
   "cell_type": "code",
   "execution_count": null,
   "id": "fa47b9ac-6049-414d-acc9-6272cd8afe2e",
   "metadata": {},
   "outputs": [],
   "source": [
    "#|export\n",
    "T_co = TypeVar(\"T_co\", covariant=True)\n",
    "\n",
    "@functional_datapipe(\"demux\")\n",
    "class DemultiplexerMapDataPipe(MapDataPipe[T_co]):\n",
    "    def __new__(cls, datapipe: MapDataPipe, num_instances: int, classifier_fn: Callable, drop_none: bool = False,\n",
    "                source_index: Optional[Iterable] = None):\n",
    "        if num_instances < 1:\n",
    "            raise ValueError(f\"Expected `num_instances` larger than 0, but {num_instances} is found\")\n",
    "        _check_unpickable_fn(classifier_fn)\n",
    "        container = _DemultiplexerMapDataPipe(datapipe, num_instances, classifier_fn, drop_none, source_index)\n",
    "        return [_DemultiplexerChildMapDataPipe(container, i) for i in range(num_instances)]\n",
    "\n",
    "class _DemultiplexerMapDataPipe(MapDataPipe[T_co]):\n",
    "    def __init__(\n",
    "        self,\n",
    "        datapipe: MapDataPipe[T_co],\n",
    "        num_instances: int,\n",
    "        classifier_fn: Callable[[T_co], Optional[int]],\n",
    "        drop_none: bool,\n",
    "        source_index: Optional[Iterable],\n",
    "    ):\n",
    "        self.main_datapipe = datapipe\n",
    "        self.num_instances = num_instances\n",
    "        self.classifier_fn = classifier_fn\n",
    "        self.drop_none = drop_none\n",
    "        self.iterator = None\n",
    "        self.exhausted = False  # Once we iterate through `main_datapipe` once, we know all the index mapping\n",
    "        self.index_mapping = [[] for _ in range(num_instances)]\n",
    "        self.source_index = source_index  # if None, assume `main_datapipe` 0-index\n",
    "\n",
    "    def _classify_next(self):\n",
    "        if self.source_index is None:\n",
    "            self.source_index = range(len(self.main_datapipe))\n",
    "        if self.iterator is None:\n",
    "            self.iterator = iter(self.source_index)\n",
    "        try:\n",
    "            next_source_idx = next(self.iterator)\n",
    "        except StopIteration:\n",
    "            self.exhausted = True\n",
    "            return\n",
    "        value = self.main_datapipe[next_source_idx]\n",
    "        classification = self.classifier_fn(value)\n",
    "        if classification is None and self.drop_none:\n",
    "            self._classify_next()\n",
    "        else:\n",
    "            self.index_mapping[classification].append(value)\n",
    "\n",
    "    def classify_all(self):\n",
    "        while not self.exhausted:\n",
    "            self._classify_next()\n",
    "\n",
    "    def get_value(self, instance_id: int, index: int) -> T_co:\n",
    "        while not self.exhausted and len(self.index_mapping[instance_id]) <= index:\n",
    "            self._classify_next()\n",
    "        if len(self.index_mapping[instance_id]) > index:\n",
    "            return self.index_mapping[instance_id][index]\n",
    "        raise RuntimeError(\"Index is out of bound.\")\n",
    "\n",
    "    def __len__(self):\n",
    "        return len(self.main_datapipe)\n",
    "\n",
    "class _DemultiplexerChildMapDataPipe(MapDataPipe[T_co]):\n",
    "    def __init__(self, main_datapipe: _DemultiplexerMapDataPipe, instance_id: int):\n",
    "        self.main_datapipe: _DemultiplexerMapDataPipe = main_datapipe\n",
    "        self.instance_id = instance_id\n",
    "\n",
    "    def __getitem__(self, index: int):\n",
    "        return self.main_datapipe.get_value(self.instance_id, index)\n",
    "\n",
    "    def __len__(self):\n",
    "        self.main_datapipe.classify_all()  # You have to read through the entirety of main_datapipe to know `len`\n",
    "        return len(self.main_datapipe.index_mapping[self.instance_id])\n",
    "\n",
    "    def __iter__(self):\n",
    "        for i in range(len(self)):\n",
    "            yield self[i]\n",
    "            \n",
    "DemultiplexerMapDataPipe.__doc__ = \"\"\"Splits the input DataPipe into multiple child DataPipes, using the given\n",
    "    classification function (functional name: ``demux``). A list of the child DataPipes is returned from this operation.\n",
    "\"\"\""
   ]
  },
  {
   "cell_type": "markdown",
   "id": "91195d23-71f5-44bc-9e50-bc24aff6a0fa",
   "metadata": {},
   "source": [
    "For example we can have a function that splits a map of numbers into even and odd..."
   ]
  },
  {
   "cell_type": "code",
   "execution_count": null,
   "id": "72207ad4-da4c-4086-bc3b-16f717c5f8b1",
   "metadata": {},
   "outputs": [
    {
     "data": {
      "text/plain": [
       "[0, 2, 4]"
      ]
     },
     "execution_count": null,
     "metadata": {},
     "output_type": "execute_result"
    }
   ],
   "source": [
    "def odd_or_even(n):\n",
    "    return n % 2\n",
    "source_dp = dp.map.SequenceWrapper(range(5))\n",
    "dp1, dp2 = source_dp.demux(num_instances=2, classifier_fn=odd_or_even)\n",
    "list([dp1[i] for i in range(len(dp1))])"
   ]
  },
  {
   "cell_type": "markdown",
   "id": "77b213c3-d49f-4c10-9ce5-7966e24b4e65",
   "metadata": {},
   "source": [
    "> Note: The resulting datapipes from `DemultiplexerMapDataPipe` will be \"re-indexed\"."
   ]
  },
  {
   "cell_type": "code",
   "execution_count": null,
   "id": "86b822f3-4d4b-4d85-b56e-f187125bf81e",
   "metadata": {},
   "outputs": [
    {
     "data": {
      "text/plain": [
       "[1, 3]"
      ]
     },
     "execution_count": null,
     "metadata": {},
     "output_type": "execute_result"
    }
   ],
   "source": [
    "list([dp2[i] for i in range(len(dp2))])"
   ]
  },
  {
   "cell_type": "markdown",
   "id": "d59deff5-d871-40ba-b2d5-6eb65e53311d",
   "metadata": {},
   "source": [
    "It can also filter out any element that gets `None` from the `classifier_fn`"
   ]
  },
  {
   "cell_type": "code",
   "execution_count": null,
   "id": "0a63c1d5-5b72-4815-8100-b8c060f0751b",
   "metadata": {},
   "outputs": [
    {
     "data": {
      "text/plain": [
       "[2, 4]"
      ]
     },
     "execution_count": null,
     "metadata": {},
     "output_type": "execute_result"
    }
   ],
   "source": [
    "def odd_or_even_no_zero(n):\n",
    "    return n % 2 if n != 0 else None\n",
    "\n",
    "source_dp = dp.map.SequenceWrapper(range(5))\n",
    "dp1, dp2 = source_dp.demux(num_instances=2, classifier_fn=odd_or_even_no_zero, drop_none=True)\n",
    "list([dp1[i] for i in range(len(dp1))])"
   ]
  },
  {
   "cell_type": "code",
   "execution_count": null,
   "id": "aa732ef2-42de-480f-b293-7136578a2b89",
   "metadata": {},
   "outputs": [
    {
     "data": {
      "text/plain": [
       "[1, 3]"
      ]
     },
     "execution_count": null,
     "metadata": {},
     "output_type": "execute_result"
    }
   ],
   "source": [
    "list([dp2[i] for i in range(len(dp2))])"
   ]
  },
  {
   "cell_type": "code",
   "execution_count": null,
   "id": "current-pilot",
   "metadata": {},
   "outputs": [],
   "source": [
    "#|hide\n",
    "#|eval: false\n",
    "from fastcore.imports import in_colab\n",
    "\n",
    "# Since colab still requires tornado<6, we don't want to import nbdev if we don't have to\n",
    "if not in_colab():\n",
    "    from nbdev import nbdev_export\n",
    "    nbdev_export()"
   ]
  },
  {
   "cell_type": "code",
   "execution_count": null,
   "id": "f8c97e71-7d22-4c7e-8c8a-45b6f5ec1b66",
   "metadata": {},
   "outputs": [],
   "source": []
  }
 ],
 "metadata": {
  "kernelspec": {
   "display_name": "Python 3.7.11 ('base')",
   "language": "python",
   "name": "python3"
  },
  "language_info": {
   "name": "python",
   "version": "3.7.11"
  },
  "vscode": {
   "interpreter": {
    "hash": "d4d1e4263499bec80672ea0156c357c1ee493ec2b1c70f0acce89fc37c4a6abe"
   }
  }
 },
 "nbformat": 4,
 "nbformat_minor": 5
}
