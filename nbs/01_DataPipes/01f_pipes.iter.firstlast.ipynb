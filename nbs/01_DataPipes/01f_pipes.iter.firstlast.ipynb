{
 "cells": [
  {
   "cell_type": "code",
   "execution_count": 1,
   "id": "durable-dialogue",
   "metadata": {},
   "outputs": [],
   "source": [
    "#|hide\n",
    "#|eval: false\n",
    "! [ -e /content ] && pip install -Uqq fastrl['dev'] pyvirtualdisplay && \\\n",
    "                     apt-get install -y xvfb python-opengl > /dev/null 2>&1 \n",
    "# NOTE: IF YOU SEE VERSION ERRORS, IT IS SAFE TO IGNORE THEM. COLAB IS BEHIND IN SOME OF THE PACKAGE VERSIONS"
   ]
  },
  {
   "cell_type": "code",
   "execution_count": 2,
   "id": "viral-cambridge",
   "metadata": {},
   "outputs": [],
   "source": [
    "#|hide\n",
    "#|eval: false\n",
    "from fastcore.imports import in_colab\n",
    "# Since colab still requires tornado<6, we don't want to import nbdev if we don't have to\n",
    "if not in_colab():\n",
    "    from nbdev.showdoc import *\n",
    "    from nbdev.imports import *\n",
    "    if not os.environ.get(\"IN_TEST\", None):\n",
    "        assert IN_NOTEBOOK\n",
    "        assert not IN_COLAB\n",
    "        assert IN_IPYTHON\n",
    "else:\n",
    "    # Virutual display is needed for colab\n",
    "    from pyvirtualdisplay import Display\n",
    "    display = Display(visible=0, size=(400, 300))\n",
    "    display.start()"
   ]
  },
  {
   "cell_type": "code",
   "execution_count": 3,
   "id": "offshore-stuart",
   "metadata": {},
   "outputs": [],
   "source": [
    "#|default_exp pipes.iter.firstlast"
   ]
  },
  {
   "cell_type": "code",
   "execution_count": 4,
   "id": "assisted-contract",
   "metadata": {},
   "outputs": [],
   "source": [
    "#|export\n",
    "# Python native modules\n",
    "import os\n",
    "from warnings import warn\n",
    "# Third party libs\n",
    "from fastcore.all import *\n",
    "import torchdata.datapipes as dp\n",
    "import typing\n",
    "from fastai.torch_basics import *\n",
    "from fastai.torch_core import *\n",
    "# Local modules\n",
    "from fastrl.core import *\n",
    "from fastrl.pipes.core import *\n",
    "from fastrl.data.block import *\n",
    "from fastrl.pipes.core import *"
   ]
  },
  {
   "cell_type": "markdown",
   "id": "lesser-innocent",
   "metadata": {},
   "source": [
    "# FirstLast\n",
    "> DataPipe for merging multiple `StepTypes` into a single one by keeping the first and last steps."
   ]
  },
  {
   "cell_type": "code",
   "execution_count": 5,
   "id": "c9bf8259-f901-4c0a-9c27-479e2e0c833f",
   "metadata": {},
   "outputs": [],
   "source": [
    "#|export\n",
    "class FirstLastMerger(dp.iter.IterDataPipe):\n",
    "    def __init__(self, \n",
    "                 source_datapipe, \n",
    "                 gamma:float=0.99\n",
    "        ):\n",
    "        self.source_datapipe = source_datapipe\n",
    "        self.gamma = gamma\n",
    "        \n",
    "    def __iter__(self) -> StepType:\n",
    "        self.env_buffer = {}\n",
    "        for steps in self.source_datapipe:\n",
    "            if not isinstance(steps,(list,tuple)):\n",
    "                raise ValueError(f'Expected {self.source_datapipe} to return a list/tuple of steps, however got {type(steps)}')\n",
    "                \n",
    "            if len(steps)==1:\n",
    "                yield steps[0]\n",
    "                continue\n",
    "                \n",
    "            fstep,lstep = steps[0],steps[-1]\n",
    "            \n",
    "            reward = fstep.reward\n",
    "            for step in steps[1:]:\n",
    "                reward*=self.gamma\n",
    "                reward+=step.reward\n",
    "                \n",
    "            yield SimpleStep(\n",
    "                state=tensor(fstep.state),\n",
    "                next_state=tensor(lstep.next_state),\n",
    "                action=fstep.action,\n",
    "                terminated=lstep.terminated,\n",
    "                truncated=lstep.truncated,\n",
    "                reward=reward,\n",
    "                total_reward=lstep.total_reward,\n",
    "                env_id=lstep.env_id,\n",
    "                proc_id=lstep.proc_id,\n",
    "                step_n=lstep.step_n,\n",
    "                episode_n=fstep.episode_n,\n",
    "                image=fstep.image\n",
    "            )\n",
    "                \n",
    "add_docs(\n",
    "    FirstLastMerger,\n",
    "    \"\"\"Takes multiple steps and converts them into a single step consisting of properties\n",
    "    from the first and last steps. Reward is recalculated to factor in the multiple steps.\"\"\",\n",
    ")"
   ]
  },
  {
   "cell_type": "code",
   "execution_count": 6,
   "id": "13fbc336-7f21-4ff4-9277-7f077066556d",
   "metadata": {},
   "outputs": [],
   "source": [
    "#|hide\n",
    "# Used here to avoid UserWarnings related to gym complaining about bounding box / action space format.\n",
    "# There must be a bug in the CartPole-v1 env that is causing this to show. Also couldnt figure out the \n",
    "# regex, so instead we filter on the lineno, which is line 98.\n",
    "warnings.filterwarnings(\"ignore\",category=UserWarning,lineno=98)"
   ]
  },
  {
   "cell_type": "markdown",
   "id": "3d80222c-a450-4faf-9c72-c11122384460",
   "metadata": {},
   "source": [
    "Below we see an example where we collect 2 steps for each env, **then** yield them. This is useful for\n",
    "training models of larger chunks of env step output."
   ]
  },
  {
   "cell_type": "code",
   "execution_count": 7,
   "id": "731cae90-2f4d-44e1-a03c-5ba23f2f5323",
   "metadata": {},
   "outputs": [
    {
     "data": {
      "text/html": [
       "<div>\n",
       "<style scoped>\n",
       "    .dataframe tbody tr th:only-of-type {\n",
       "        vertical-align: middle;\n",
       "    }\n",
       "\n",
       "    .dataframe tbody tr th {\n",
       "        vertical-align: top;\n",
       "    }\n",
       "\n",
       "    .dataframe thead th {\n",
       "        text-align: right;\n",
       "    }\n",
       "</style>\n",
       "<table border=\"1\" class=\"dataframe\">\n",
       "  <thead>\n",
       "    <tr style=\"text-align: right;\">\n",
       "      <th></th>\n",
       "      <th>state</th>\n",
       "      <th>next_state</th>\n",
       "      <th>env_id</th>\n",
       "      <th>terminated</th>\n",
       "    </tr>\n",
       "  </thead>\n",
       "  <tbody>\n",
       "    <tr>\n",
       "      <th>0</th>\n",
       "      <td>[tensor(0.0137), tensor(-0.0230), tensor(-0.0459), tensor(-0.0483)]</td>\n",
       "      <td>[tensor(0.0167), tensor(0.3685), tensor(-0.0540), tensor(-0.6622)]</td>\n",
       "      <td>tensor(140680598067088)</td>\n",
       "      <td>tensor(False)</td>\n",
       "    </tr>\n",
       "    <tr>\n",
       "      <th>1</th>\n",
       "      <td>[tensor(0.0137), tensor(-0.0230), tensor(-0.0459), tensor(-0.0483)]</td>\n",
       "      <td>[tensor(0.0167), tensor(0.3685), tensor(-0.0540), tensor(-0.6622)]</td>\n",
       "      <td>tensor(140680598068176)</td>\n",
       "      <td>tensor(False)</td>\n",
       "    </tr>\n",
       "    <tr>\n",
       "      <th>2</th>\n",
       "      <td>[tensor(0.0137), tensor(-0.0230), tensor(-0.0459), tensor(-0.0483)]</td>\n",
       "      <td>[tensor(0.0167), tensor(0.3685), tensor(-0.0540), tensor(-0.6622)]</td>\n",
       "      <td>tensor(140680598134928)</td>\n",
       "      <td>tensor(False)</td>\n",
       "    </tr>\n",
       "    <tr>\n",
       "      <th>3</th>\n",
       "      <td>[tensor(0.0132), tensor(0.1727), tensor(-0.0469), tensor(-0.3552)]</td>\n",
       "      <td>[tensor(0.0241), tensor(0.5643), tensor(-0.0672), tensor(-0.9714)]</td>\n",
       "      <td>tensor(140680598067088)</td>\n",
       "      <td>tensor(False)</td>\n",
       "    </tr>\n",
       "    <tr>\n",
       "      <th>4</th>\n",
       "      <td>[tensor(0.0132), tensor(0.1727), tensor(-0.0469), tensor(-0.3552)]</td>\n",
       "      <td>[tensor(0.0241), tensor(0.5643), tensor(-0.0672), tensor(-0.9714)]</td>\n",
       "      <td>tensor(140680598068176)</td>\n",
       "      <td>tensor(False)</td>\n",
       "    </tr>\n",
       "    <tr>\n",
       "      <th>5</th>\n",
       "      <td>[tensor(0.0132), tensor(0.1727), tensor(-0.0469), tensor(-0.3552)]</td>\n",
       "      <td>[tensor(0.0241), tensor(0.5643), tensor(-0.0672), tensor(-0.9714)]</td>\n",
       "      <td>tensor(140680598134928)</td>\n",
       "      <td>tensor(False)</td>\n",
       "    </tr>\n",
       "    <tr>\n",
       "      <th>6</th>\n",
       "      <td>[tensor(0.0167), tensor(0.3685), tensor(-0.0540), tensor(-0.6622)]</td>\n",
       "      <td>[tensor(0.0353), tensor(0.3702), tensor(-0.0866), tensor(-0.7006)]</td>\n",
       "      <td>tensor(140680598067088)</td>\n",
       "      <td>tensor(False)</td>\n",
       "    </tr>\n",
       "    <tr>\n",
       "      <th>7</th>\n",
       "      <td>[tensor(0.0167), tensor(0.3685), tensor(-0.0540), tensor(-0.6622)]</td>\n",
       "      <td>[tensor(0.0353), tensor(0.3702), tensor(-0.0866), tensor(-0.7006)]</td>\n",
       "      <td>tensor(140680598068176)</td>\n",
       "      <td>tensor(False)</td>\n",
       "    </tr>\n",
       "    <tr>\n",
       "      <th>8</th>\n",
       "      <td>[tensor(0.0167), tensor(0.3685), tensor(-0.0540), tensor(-0.6622)]</td>\n",
       "      <td>[tensor(0.0353), tensor(0.3702), tensor(-0.0866), tensor(-0.7006)]</td>\n",
       "      <td>tensor(140680598134928)</td>\n",
       "      <td>tensor(False)</td>\n",
       "    </tr>\n",
       "    <tr>\n",
       "      <th>9</th>\n",
       "      <td>[tensor(0.0241), tensor(0.5643), tensor(-0.0672), tensor(-0.9714)]</td>\n",
       "      <td>[tensor(0.0427), tensor(0.1763), tensor(-0.1007), tensor(-0.4364)]</td>\n",
       "      <td>tensor(140680598067088)</td>\n",
       "      <td>tensor(False)</td>\n",
       "    </tr>\n",
       "  </tbody>\n",
       "</table>\n",
       "</div>"
      ],
      "text/plain": [
       "                                                                 state  \\\n",
       "0  [tensor(0.0137), tensor(-0.0230), tensor(-0.0459), tensor(-0.0483)]   \n",
       "1  [tensor(0.0137), tensor(-0.0230), tensor(-0.0459), tensor(-0.0483)]   \n",
       "2  [tensor(0.0137), tensor(-0.0230), tensor(-0.0459), tensor(-0.0483)]   \n",
       "3   [tensor(0.0132), tensor(0.1727), tensor(-0.0469), tensor(-0.3552)]   \n",
       "4   [tensor(0.0132), tensor(0.1727), tensor(-0.0469), tensor(-0.3552)]   \n",
       "5   [tensor(0.0132), tensor(0.1727), tensor(-0.0469), tensor(-0.3552)]   \n",
       "6   [tensor(0.0167), tensor(0.3685), tensor(-0.0540), tensor(-0.6622)]   \n",
       "7   [tensor(0.0167), tensor(0.3685), tensor(-0.0540), tensor(-0.6622)]   \n",
       "8   [tensor(0.0167), tensor(0.3685), tensor(-0.0540), tensor(-0.6622)]   \n",
       "9   [tensor(0.0241), tensor(0.5643), tensor(-0.0672), tensor(-0.9714)]   \n",
       "\n",
       "                                                           next_state  \\\n",
       "0  [tensor(0.0167), tensor(0.3685), tensor(-0.0540), tensor(-0.6622)]   \n",
       "1  [tensor(0.0167), tensor(0.3685), tensor(-0.0540), tensor(-0.6622)]   \n",
       "2  [tensor(0.0167), tensor(0.3685), tensor(-0.0540), tensor(-0.6622)]   \n",
       "3  [tensor(0.0241), tensor(0.5643), tensor(-0.0672), tensor(-0.9714)]   \n",
       "4  [tensor(0.0241), tensor(0.5643), tensor(-0.0672), tensor(-0.9714)]   \n",
       "5  [tensor(0.0241), tensor(0.5643), tensor(-0.0672), tensor(-0.9714)]   \n",
       "6  [tensor(0.0353), tensor(0.3702), tensor(-0.0866), tensor(-0.7006)]   \n",
       "7  [tensor(0.0353), tensor(0.3702), tensor(-0.0866), tensor(-0.7006)]   \n",
       "8  [tensor(0.0353), tensor(0.3702), tensor(-0.0866), tensor(-0.7006)]   \n",
       "9  [tensor(0.0427), tensor(0.1763), tensor(-0.1007), tensor(-0.4364)]   \n",
       "\n",
       "                    env_id     terminated  \n",
       "0  tensor(140680598067088)  tensor(False)  \n",
       "1  tensor(140680598068176)  tensor(False)  \n",
       "2  tensor(140680598134928)  tensor(False)  \n",
       "3  tensor(140680598067088)  tensor(False)  \n",
       "4  tensor(140680598068176)  tensor(False)  \n",
       "5  tensor(140680598134928)  tensor(False)  \n",
       "6  tensor(140680598067088)  tensor(False)  \n",
       "7  tensor(140680598068176)  tensor(False)  \n",
       "8  tensor(140680598134928)  tensor(False)  \n",
       "9  tensor(140680598067088)  tensor(False)  "
      ]
     },
     "execution_count": 7,
     "metadata": {},
     "output_type": "execute_result"
    }
   ],
   "source": [
    "import pandas as pd\n",
    "from fastrl.envs.gym import GymTypeTransform,GymStepper\n",
    "from fastrl.pipes.iter.nstep import *\n",
    "\n",
    "def first_last_test(envs,total_steps,n=1,seed=0):\n",
    "    pipe = dp.map.Mapper(envs)\n",
    "    pipe = TypeTransformLoop(pipe,[GymTypeTransform])\n",
    "    pipe = dp.iter.MapToIterConverter(pipe)\n",
    "    pipe = dp.iter.InMemoryCacheHolder(pipe)\n",
    "    pipe = pipe.cycle()\n",
    "    pipe = GymStepper(pipe,seed=seed)\n",
    "    pipe = NStepper(pipe,n=n)\n",
    "    pipe = FirstLastMerger(pipe)\n",
    "\n",
    "    steps = [step for step,_ in zip(*(pipe,range(total_steps)))]\n",
    "    return steps\n",
    "\n",
    "steps = first_last_test(['CartPole-v1']*3,200,2,0)\n",
    "pd.DataFrame(steps)[['state','next_state','env_id','terminated']][:10]"
   ]
  },
  {
   "cell_type": "markdown",
   "id": "05c71c78-66e5-4929-9dea-b2894d7fb9e2",
   "metadata": {},
   "source": [
    "First, `NStepper(pipe,n=1)` with `FirstLastMerger` should be identical to a pipelines that never used it."
   ]
  },
  {
   "cell_type": "code",
   "execution_count": 8,
   "id": "a95076e6-8918-4b4b-8137-b9e0a50c1ff3",
   "metadata": {},
   "outputs": [],
   "source": [
    "import pandas as pd\n",
    "from fastrl.envs.gym import GymTypeTransform,GymStepper\n",
    "\n",
    "pipe = dp.map.Mapper(['CartPole-v1']*3)\n",
    "pipe = TypeTransformLoop(pipe,[GymTypeTransform])\n",
    "pipe = dp.iter.MapToIterConverter(pipe)\n",
    "pipe = dp.iter.InMemoryCacheHolder(pipe)\n",
    "pipe = pipe.cycle()\n",
    "pipe = GymStepper(pipe,seed=0)\n",
    "\n",
    "no_n_steps = [step for step,_ in zip(*(pipe,range(10)))]\n",
    "steps = first_last_test(['CartPole-v1']*3,10,1,0)"
   ]
  },
  {
   "cell_type": "markdown",
   "id": "ebf102f3-8208-44a8-a456-83d26fe0337b",
   "metadata": {},
   "source": [
    "If `n=1` we should expect that regardless of the number of envs, both n-step and simple environment\n",
    "pipelines should be identical."
   ]
  },
  {
   "cell_type": "code",
   "execution_count": 9,
   "id": "7ec6bf29-b775-4faa-ad26-adb2cd2eed68",
   "metadata": {},
   "outputs": [],
   "source": [
    "test_len(steps,no_n_steps)\n",
    "for field in ['next_state','state','terminated']:\n",
    "    for i,(step,no_n_step) in enumerate(zip(steps,no_n_steps)): \n",
    "        test_eq(getattr(step,field),getattr(no_n_step,field))"
   ]
  },
  {
   "cell_type": "code",
   "execution_count": 10,
   "id": "46ee1e29-f09c-4c70-bcbe-c447498dade5",
   "metadata": {},
   "outputs": [],
   "source": [
    "#|export\n",
    "def n_first_last_steps_expected(\n",
    "    default_steps:int, # The number of steps the episode would run without n_steps\n",
    "):\n",
    "    return default_steps \n",
    "    \n",
    "n_first_last_steps_expected.__doc__=r\"\"\"\n",
    "This function doesnt do much for now. `FirstLastMerger` pretty much undoes the number of steps `nsteps` does.\n",
    "\"\"\"    "
   ]
  },
  {
   "cell_type": "code",
   "execution_count": 11,
   "id": "ee621f23-5a97-4741-88ad-13b0db29fb91",
   "metadata": {},
   "outputs": [
    {
     "name": "stdout",
     "output_type": "stream",
     "text": [
      "Given the above values, we expect a single episode to be  18  steps long\n"
     ]
    }
   ],
   "source": [
    "expected_n_steps = n_first_last_steps_expected(default_steps=18)\n",
    "print('Given the above values, we expect a single episode to be ',expected_n_steps,' steps long')\n",
    "steps = first_last_test(['CartPole-v1']*1,expected_n_steps+1,2,0)\n",
    "# The first episode should have ended on row 34, beign 35 steps long. The 36th row should be a new episode\n",
    "test_eq(steps[-2].terminated,tensor([True]))\n",
    "test_eq(steps[-2].episode_n,tensor([1]))\n",
    "test_eq(steps[-2].step_n,tensor([18]))\n",
    "test_eq(steps[-1].terminated,tensor([False]))\n",
    "test_eq(steps[-1].episode_n,tensor([2]))\n",
    "test_eq(steps[-1].step_n,tensor([2])) # Main difference, the \"step\" for the new episode will be 2 instead of 1"
   ]
  },
  {
   "cell_type": "code",
   "execution_count": 12,
   "id": "478abe33-777c-4d96-869c-6ee7ff81d1b7",
   "metadata": {},
   "outputs": [
    {
     "name": "stdout",
     "output_type": "stream",
     "text": [
      "Given the above values, we expect a single episode to be  18  steps long\n"
     ]
    }
   ],
   "source": [
    "expected_n_steps = n_first_last_steps_expected(default_steps=18)\n",
    "print('Given the above values, we expect a single episode to be ',expected_n_steps,' steps long')\n",
    "steps = first_last_test(['CartPole-v1']*1,expected_n_steps+1,4,0)\n",
    "# The first episode should have ended on row 34, beign 35 steps long. The 36th row should be a new episode\n",
    "test_eq(steps[-2].terminated,tensor([True]))\n",
    "test_eq(steps[-2].episode_n,tensor([1]))\n",
    "test_eq(steps[-2].step_n,tensor([18]))\n",
    "test_eq(steps[-1].terminated,tensor([False]))\n",
    "test_eq(steps[-1].episode_n,tensor([2]))\n",
    "test_eq(steps[-1].step_n,tensor([4]))"
   ]
  },
  {
   "cell_type": "code",
   "execution_count": 13,
   "id": "829af9ec-2a38-4099-b73a-cbd170926c56",
   "metadata": {},
   "outputs": [
    {
     "name": "stdout",
     "output_type": "stream",
     "text": [
      "Given the above values, we expect a single episode to be  18  steps long\n"
     ]
    }
   ],
   "source": [
    "expected_n_steps = n_first_last_steps_expected(default_steps=18)\n",
    "print('Given the above values, we expect a single episode to be ',expected_n_steps,' steps long')\n",
    "steps = first_last_test(['CartPole-v1']*3,expected_n_steps*3+1,2,0)\n",
    "# The first episode should have ended on row 34, beign 35 steps long. The 36th row should be a new episode\n",
    "test_eq(steps[-2].terminated,tensor([True]))\n",
    "test_eq(steps[-2].episode_n,tensor([1]))\n",
    "test_eq(steps[-2].step_n,tensor([18]))\n",
    "test_eq(steps[-1].terminated,tensor([False]))\n",
    "test_eq(steps[-1].episode_n,tensor([2]))\n",
    "test_eq(steps[-1].step_n,tensor([2]))"
   ]
  },
  {
   "cell_type": "code",
   "execution_count": 15,
   "id": "current-pilot",
   "metadata": {},
   "outputs": [],
   "source": [
    "#|hide\n",
    "#|eval: false\n",
    "from fastcore.imports import in_colab\n",
    "\n",
    "# Since colab still requires tornado<6, we don't want to import nbdev if we don't have to\n",
    "if not in_colab():\n",
    "    from nbdev import nbdev_export\n",
    "    nbdev_export()"
   ]
  },
  {
   "cell_type": "code",
   "execution_count": null,
   "id": "e9f6f751-9cc9-41e8-a781-b6c806dab84f",
   "metadata": {},
   "outputs": [],
   "source": []
  }
 ],
 "metadata": {
  "kernelspec": {
   "display_name": "Python 3 (ipykernel)",
   "language": "python",
   "name": "python3"
  },
  "language_info": {
   "codemirror_mode": {
    "name": "ipython",
    "version": 3
   },
   "file_extension": ".py",
   "mimetype": "text/x-python",
   "name": "python",
   "nbconvert_exporter": "python",
   "pygments_lexer": "ipython3",
   "version": "3.7.11"
  }
 },
 "nbformat": 4,
 "nbformat_minor": 5
}
