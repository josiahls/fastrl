{
 "cells": [
  {
   "cell_type": "code",
   "execution_count": 1,
   "id": "viral-cambridge",
   "metadata": {},
   "outputs": [],
   "source": [
    "#|hide\n",
    "#|eval: false\n",
    "from fastcore.imports import in_colab\n",
    "# Since colab still requires tornado<6, we don't want to import nbdev if we don't have to\n",
    "if not in_colab():\n",
    "    from nbdev.showdoc import *\n",
    "    from nbdev.imports import *\n",
    "    if not os.environ.get(\"IN_TEST\", None):\n",
    "        assert IN_NOTEBOOK\n",
    "        assert not IN_COLAB\n",
    "        assert IN_IPYTHON\n",
    "else:\n",
    "    # Virutual display is needed for colab\n",
    "    from pyvirtualdisplay import Display\n",
    "    display = Display(visible=0, size=(400, 300))\n",
    "    display.start()"
   ]
  },
  {
   "cell_type": "code",
   "execution_count": 2,
   "id": "offshore-stuart",
   "metadata": {},
   "outputs": [],
   "source": [
    "#|default_exp pipes.iter.nskip"
   ]
  },
  {
   "cell_type": "code",
   "execution_count": 3,
   "id": "assisted-contract",
   "metadata": {},
   "outputs": [],
   "source": [
    "#|export\n",
    "# Python native modules\n",
    "import os\n",
    "# Third party libs\n",
    "from fastcore.all import *\n",
    "import torchdata.datapipes as dp\n",
    "import typing\n",
    "from fastai.torch_basics import *\n",
    "from fastai.torch_core import *\n",
    "# Local modules\n",
    "from fastrl.core import *\n",
    "from fastrl.pipes.core import *\n",
    "from fastrl.pipes.iter.nstep import *\n",
    "from fastrl.data.block import *"
   ]
  },
  {
   "cell_type": "markdown",
   "id": "lesser-innocent",
   "metadata": {},
   "source": [
    "# NSkip\n",
    "> DataPipe for skipping env steps env-wise."
   ]
  },
  {
   "cell_type": "code",
   "execution_count": 4,
   "id": "c9bf8259-f901-4c0a-9c27-479e2e0c833f",
   "metadata": {},
   "outputs": [],
   "source": [
    "#|export\n",
    "_msg = \"\"\"\n",
    "NSkipper should not go after NStepper. Please make the order:\n",
    "\n",
    "```python\n",
    "...\n",
    "pipe = NSkipper(pipe,n=3)\n",
    "pipe = NStepper(pipe,n=3)\n",
    "...\n",
    "```\n",
    "\n",
    "\"\"\"\n",
    "\n",
    "class NSkipper(dp.iter.IterDataPipe):\n",
    "    def __init__(self, source_datapipe, n=1) -> None:\n",
    "        if isinstance(source_datapipe,NStepper): raise Exception(_msg)\n",
    "        self.source_datapipe = source_datapipe\n",
    "        self.n = n\n",
    "        self.env_buffer = {}\n",
    "        \n",
    "    def __iter__(self) -> typing.NamedTuple:\n",
    "        self.env_buffer = {}\n",
    "        for step in self.source_datapipe:\n",
    "            if not issubclass(step.__class__,StepType):\n",
    "                raise Exception(f'Expected typing.NamedTuple object got {type(step)}\\n{step}')\n",
    "    \n",
    "            env_id,terminated,step_n = int(step.env_id),bool(step.terminated),int(step.step_n)\n",
    "        \n",
    "            if env_id in self.env_buffer: self.env_buffer[env_id] += 1\n",
    "            else:                         self.env_buffer[env_id] = 1\n",
    "                \n",
    "            if self.env_buffer[env_id]%self.n==0: yield step  \n",
    "            elif terminated:                      yield step  \n",
    "            elif step_n==1:                       yield step\n",
    "            \n",
    "            if terminated: self.env_buffer[env_id] = 1                \n",
    "            \n",
    "add_docs(\n",
    "    NSkipper,\n",
    "    \"\"\"Accepts a `source_datapipe` or iterable whose `next()` produces a `typing.NamedTuple` that\n",
    "       skips N steps for individual environments *while always producing 1st steps and terminated steps.*\n",
    "    \"\"\",\n",
    ")"
   ]
  },
  {
   "cell_type": "code",
   "execution_count": 5,
   "id": "13fbc336-7f21-4ff4-9277-7f077066556d",
   "metadata": {},
   "outputs": [],
   "source": [
    "#|hide\n",
    "# Used here to avoid UserWarnings related to gym complaining about bounding box / action space format.\n",
    "# There must be a bug in the CartPole-v1 env that is causing this to show. Also couldnt figure out the \n",
    "# regex, so instead we filter on the lineno, which is line 98.\n",
    "warnings.filterwarnings(\"ignore\",category=UserWarning,lineno=98)"
   ]
  },
  {
   "cell_type": "markdown",
   "id": "3d80222c-a450-4faf-9c72-c11122384460",
   "metadata": {},
   "source": [
    "Below we skip every other step given 3 envs while always keeping the 1st and terminated steps."
   ]
  },
  {
   "cell_type": "code",
   "execution_count": 6,
   "id": "731cae90-2f4d-44e1-a03c-5ba23f2f5323",
   "metadata": {},
   "outputs": [
    {
     "data": {
      "text/html": [
       "<div>\n",
       "<style scoped>\n",
       "    .dataframe tbody tr th:only-of-type {\n",
       "        vertical-align: middle;\n",
       "    }\n",
       "\n",
       "    .dataframe tbody tr th {\n",
       "        vertical-align: top;\n",
       "    }\n",
       "\n",
       "    .dataframe thead th {\n",
       "        text-align: right;\n",
       "    }\n",
       "</style>\n",
       "<table border=\"1\" class=\"dataframe\">\n",
       "  <thead>\n",
       "    <tr style=\"text-align: right;\">\n",
       "      <th></th>\n",
       "      <th>state</th>\n",
       "      <th>next_state</th>\n",
       "      <th>env_id</th>\n",
       "      <th>terminated</th>\n",
       "    </tr>\n",
       "  </thead>\n",
       "  <tbody>\n",
       "    <tr>\n",
       "      <th>0</th>\n",
       "      <td>[tensor(0.0137), tensor(-0.0230), tensor(-0.0459), tensor(-0.0483)]</td>\n",
       "      <td>[tensor(0.0132), tensor(0.1727), tensor(-0.0469), tensor(-0.3552)]</td>\n",
       "      <td>tensor(139998508568336)</td>\n",
       "      <td>tensor(False)</td>\n",
       "    </tr>\n",
       "    <tr>\n",
       "      <th>1</th>\n",
       "      <td>[tensor(0.0137), tensor(-0.0230), tensor(-0.0459), tensor(-0.0483)]</td>\n",
       "      <td>[tensor(0.0132), tensor(0.1727), tensor(-0.0469), tensor(-0.3552)]</td>\n",
       "      <td>tensor(139998508622096)</td>\n",
       "      <td>tensor(False)</td>\n",
       "    </tr>\n",
       "    <tr>\n",
       "      <th>2</th>\n",
       "      <td>[tensor(0.0137), tensor(-0.0230), tensor(-0.0459), tensor(-0.0483)]</td>\n",
       "      <td>[tensor(0.0132), tensor(0.1727), tensor(-0.0469), tensor(-0.3552)]</td>\n",
       "      <td>tensor(139998508623376)</td>\n",
       "      <td>tensor(False)</td>\n",
       "    </tr>\n",
       "    <tr>\n",
       "      <th>3</th>\n",
       "      <td>[tensor(0.0132), tensor(0.1727), tensor(-0.0469), tensor(-0.3552)]</td>\n",
       "      <td>[tensor(0.0167), tensor(0.3685), tensor(-0.0540), tensor(-0.6622)]</td>\n",
       "      <td>tensor(139998508568336)</td>\n",
       "      <td>tensor(False)</td>\n",
       "    </tr>\n",
       "    <tr>\n",
       "      <th>4</th>\n",
       "      <td>[tensor(0.0132), tensor(0.1727), tensor(-0.0469), tensor(-0.3552)]</td>\n",
       "      <td>[tensor(0.0167), tensor(0.3685), tensor(-0.0540), tensor(-0.6622)]</td>\n",
       "      <td>tensor(139998508622096)</td>\n",
       "      <td>tensor(False)</td>\n",
       "    </tr>\n",
       "    <tr>\n",
       "      <th>5</th>\n",
       "      <td>[tensor(0.0132), tensor(0.1727), tensor(-0.0469), tensor(-0.3552)]</td>\n",
       "      <td>[tensor(0.0167), tensor(0.3685), tensor(-0.0540), tensor(-0.6622)]</td>\n",
       "      <td>tensor(139998508623376)</td>\n",
       "      <td>tensor(False)</td>\n",
       "    </tr>\n",
       "    <tr>\n",
       "      <th>6</th>\n",
       "      <td>[tensor(0.0241), tensor(0.5643), tensor(-0.0672), tensor(-0.9714)]</td>\n",
       "      <td>[tensor(0.0353), tensor(0.3702), tensor(-0.0866), tensor(-0.7006)]</td>\n",
       "      <td>tensor(139998508568336)</td>\n",
       "      <td>tensor(False)</td>\n",
       "    </tr>\n",
       "    <tr>\n",
       "      <th>7</th>\n",
       "      <td>[tensor(0.0241), tensor(0.5643), tensor(-0.0672), tensor(-0.9714)]</td>\n",
       "      <td>[tensor(0.0353), tensor(0.3702), tensor(-0.0866), tensor(-0.7006)]</td>\n",
       "      <td>tensor(139998508622096)</td>\n",
       "      <td>tensor(False)</td>\n",
       "    </tr>\n",
       "    <tr>\n",
       "      <th>8</th>\n",
       "      <td>[tensor(0.0241), tensor(0.5643), tensor(-0.0672), tensor(-0.9714)]</td>\n",
       "      <td>[tensor(0.0353), tensor(0.3702), tensor(-0.0866), tensor(-0.7006)]</td>\n",
       "      <td>tensor(139998508623376)</td>\n",
       "      <td>tensor(False)</td>\n",
       "    </tr>\n",
       "    <tr>\n",
       "      <th>9</th>\n",
       "      <td>[tensor(0.0427), tensor(0.1763), tensor(-0.1007), tensor(-0.4364)]</td>\n",
       "      <td>[tensor(0.0463), tensor(-0.0172), tensor(-0.1094), tensor(-0.1771)]</td>\n",
       "      <td>tensor(139998508568336)</td>\n",
       "      <td>tensor(False)</td>\n",
       "    </tr>\n",
       "  </tbody>\n",
       "</table>\n",
       "</div>"
      ],
      "text/plain": [
       "                                                                 state  \\\n",
       "0  [tensor(0.0137), tensor(-0.0230), tensor(-0.0459), tensor(-0.0483)]   \n",
       "1  [tensor(0.0137), tensor(-0.0230), tensor(-0.0459), tensor(-0.0483)]   \n",
       "2  [tensor(0.0137), tensor(-0.0230), tensor(-0.0459), tensor(-0.0483)]   \n",
       "3   [tensor(0.0132), tensor(0.1727), tensor(-0.0469), tensor(-0.3552)]   \n",
       "4   [tensor(0.0132), tensor(0.1727), tensor(-0.0469), tensor(-0.3552)]   \n",
       "5   [tensor(0.0132), tensor(0.1727), tensor(-0.0469), tensor(-0.3552)]   \n",
       "6   [tensor(0.0241), tensor(0.5643), tensor(-0.0672), tensor(-0.9714)]   \n",
       "7   [tensor(0.0241), tensor(0.5643), tensor(-0.0672), tensor(-0.9714)]   \n",
       "8   [tensor(0.0241), tensor(0.5643), tensor(-0.0672), tensor(-0.9714)]   \n",
       "9   [tensor(0.0427), tensor(0.1763), tensor(-0.1007), tensor(-0.4364)]   \n",
       "\n",
       "                                                            next_state  \\\n",
       "0   [tensor(0.0132), tensor(0.1727), tensor(-0.0469), tensor(-0.3552)]   \n",
       "1   [tensor(0.0132), tensor(0.1727), tensor(-0.0469), tensor(-0.3552)]   \n",
       "2   [tensor(0.0132), tensor(0.1727), tensor(-0.0469), tensor(-0.3552)]   \n",
       "3   [tensor(0.0167), tensor(0.3685), tensor(-0.0540), tensor(-0.6622)]   \n",
       "4   [tensor(0.0167), tensor(0.3685), tensor(-0.0540), tensor(-0.6622)]   \n",
       "5   [tensor(0.0167), tensor(0.3685), tensor(-0.0540), tensor(-0.6622)]   \n",
       "6   [tensor(0.0353), tensor(0.3702), tensor(-0.0866), tensor(-0.7006)]   \n",
       "7   [tensor(0.0353), tensor(0.3702), tensor(-0.0866), tensor(-0.7006)]   \n",
       "8   [tensor(0.0353), tensor(0.3702), tensor(-0.0866), tensor(-0.7006)]   \n",
       "9  [tensor(0.0463), tensor(-0.0172), tensor(-0.1094), tensor(-0.1771)]   \n",
       "\n",
       "                    env_id     terminated  \n",
       "0  tensor(139998508568336)  tensor(False)  \n",
       "1  tensor(139998508622096)  tensor(False)  \n",
       "2  tensor(139998508623376)  tensor(False)  \n",
       "3  tensor(139998508568336)  tensor(False)  \n",
       "4  tensor(139998508622096)  tensor(False)  \n",
       "5  tensor(139998508623376)  tensor(False)  \n",
       "6  tensor(139998508568336)  tensor(False)  \n",
       "7  tensor(139998508622096)  tensor(False)  \n",
       "8  tensor(139998508623376)  tensor(False)  \n",
       "9  tensor(139998508568336)  tensor(False)  "
      ]
     },
     "execution_count": 6,
     "metadata": {},
     "output_type": "execute_result"
    }
   ],
   "source": [
    "import pandas as pd\n",
    "from fastrl.envs.gym import GymTypeTransform,GymStepper\n",
    "\n",
    "def n_skip_test(envs,total_steps,n=1,seed=0):\n",
    "    pipe = dp.map.Mapper(envs)\n",
    "    pipe = TypeTransformLoop(pipe,[GymTypeTransform])\n",
    "    pipe = dp.iter.MapToIterConverter(pipe)\n",
    "    pipe = dp.iter.InMemoryCacheHolder(pipe)\n",
    "    pipe = pipe.cycle()\n",
    "    pipe = GymStepper(pipe,seed=seed)\n",
    "    pipe = NSkipper(pipe,n=n)\n",
    "\n",
    "    steps = [step for step,_ in zip(*(pipe,range(total_steps)))]\n",
    "    return steps\n",
    "\n",
    "steps = n_skip_test(['CartPole-v1']*3,200,2,0)\n",
    "pd.DataFrame(steps)[['state','next_state','env_id','terminated']][:10]"
   ]
  },
  {
   "cell_type": "code",
   "execution_count": 7,
   "id": "daeae7b3-bdb9-4d2f-a348-5e5838272558",
   "metadata": {},
   "outputs": [
    {
     "data": {
      "text/html": [
       "<div>\n",
       "<style scoped>\n",
       "    .dataframe tbody tr th:only-of-type {\n",
       "        vertical-align: middle;\n",
       "    }\n",
       "\n",
       "    .dataframe tbody tr th {\n",
       "        vertical-align: top;\n",
       "    }\n",
       "\n",
       "    .dataframe thead th {\n",
       "        text-align: right;\n",
       "    }\n",
       "</style>\n",
       "<table border=\"1\" class=\"dataframe\">\n",
       "  <thead>\n",
       "    <tr style=\"text-align: right;\">\n",
       "      <th></th>\n",
       "      <th>state</th>\n",
       "      <th>next_state</th>\n",
       "      <th>env_id</th>\n",
       "      <th>terminated</th>\n",
       "    </tr>\n",
       "  </thead>\n",
       "  <tbody>\n",
       "    <tr>\n",
       "      <th>0</th>\n",
       "      <td>[tensor(0.0137), tensor(-0.0230), tensor(-0.0459), tensor(-0.0483)]</td>\n",
       "      <td>[tensor(0.0132), tensor(0.1727), tensor(-0.0469), tensor(-0.3552)]</td>\n",
       "      <td>tensor(139998507740880)</td>\n",
       "      <td>tensor(False)</td>\n",
       "    </tr>\n",
       "    <tr>\n",
       "      <th>1</th>\n",
       "      <td>[tensor(0.0132), tensor(0.1727), tensor(-0.0469), tensor(-0.3552)]</td>\n",
       "      <td>[tensor(0.0167), tensor(0.3685), tensor(-0.0540), tensor(-0.6622)]</td>\n",
       "      <td>tensor(139998507740880)</td>\n",
       "      <td>tensor(False)</td>\n",
       "    </tr>\n",
       "    <tr>\n",
       "      <th>2</th>\n",
       "      <td>[tensor(0.0241), tensor(0.5643), tensor(-0.0672), tensor(-0.9714)]</td>\n",
       "      <td>[tensor(0.0353), tensor(0.3702), tensor(-0.0866), tensor(-0.7006)]</td>\n",
       "      <td>tensor(139998507740880)</td>\n",
       "      <td>tensor(False)</td>\n",
       "    </tr>\n",
       "    <tr>\n",
       "      <th>3</th>\n",
       "      <td>[tensor(0.0427), tensor(0.1763), tensor(-0.1007), tensor(-0.4364)]</td>\n",
       "      <td>[tensor(0.0463), tensor(-0.0172), tensor(-0.1094), tensor(-0.1771)]</td>\n",
       "      <td>tensor(139998507740880)</td>\n",
       "      <td>tensor(False)</td>\n",
       "    </tr>\n",
       "    <tr>\n",
       "      <th>4</th>\n",
       "      <td>[tensor(0.0459), tensor(-0.2106), tensor(-0.1129), tensor(0.0792)]</td>\n",
       "      <td>[tensor(0.0417), tensor(-0.4040), tensor(-0.1113), tensor(0.3342)]</td>\n",
       "      <td>tensor(139998507740880)</td>\n",
       "      <td>tensor(False)</td>\n",
       "    </tr>\n",
       "    <tr>\n",
       "      <th>5</th>\n",
       "      <td>[tensor(0.0336), tensor(-0.5973), tensor(-0.1047), tensor(0.5899)]</td>\n",
       "      <td>[tensor(0.0217), tensor(-0.4009), tensor(-0.0929), tensor(0.2661)]</td>\n",
       "      <td>tensor(139998507740880)</td>\n",
       "      <td>tensor(False)</td>\n",
       "    </tr>\n",
       "    <tr>\n",
       "      <th>6</th>\n",
       "      <td>[tensor(0.0137), tensor(-0.2046), tensor(-0.0875), tensor(-0.0543)]</td>\n",
       "      <td>[tensor(0.0096), tensor(-0.0083), tensor(-0.0886), tensor(-0.3733)]</td>\n",
       "      <td>tensor(139998507740880)</td>\n",
       "      <td>tensor(False)</td>\n",
       "    </tr>\n",
       "    <tr>\n",
       "      <th>7</th>\n",
       "      <td>[tensor(0.0094), tensor(0.1879), tensor(-0.0961), tensor(-0.6926)]</td>\n",
       "      <td>[tensor(0.0132), tensor(0.3842), tensor(-0.1099), tensor(-1.0139)]</td>\n",
       "      <td>tensor(139998507740880)</td>\n",
       "      <td>tensor(False)</td>\n",
       "    </tr>\n",
       "    <tr>\n",
       "      <th>8</th>\n",
       "      <td>[tensor(0.0209), tensor(0.5806), tensor(-0.1302), tensor(-1.3390)]</td>\n",
       "      <td>[tensor(0.0325), tensor(0.7771), tensor(-0.1570), tensor(-1.6694)]</td>\n",
       "      <td>tensor(139998507740880)</td>\n",
       "      <td>tensor(False)</td>\n",
       "    </tr>\n",
       "    <tr>\n",
       "      <th>9</th>\n",
       "      <td>[tensor(0.0480), tensor(0.9737), tensor(-0.1904), tensor(-2.0066)]</td>\n",
       "      <td>[tensor(0.0675), tensor(1.1702), tensor(-0.2305), tensor(-2.3517)]</td>\n",
       "      <td>tensor(139998507740880)</td>\n",
       "      <td>tensor(True)</td>\n",
       "    </tr>\n",
       "  </tbody>\n",
       "</table>\n",
       "</div>"
      ],
      "text/plain": [
       "                                                                 state  \\\n",
       "0  [tensor(0.0137), tensor(-0.0230), tensor(-0.0459), tensor(-0.0483)]   \n",
       "1   [tensor(0.0132), tensor(0.1727), tensor(-0.0469), tensor(-0.3552)]   \n",
       "2   [tensor(0.0241), tensor(0.5643), tensor(-0.0672), tensor(-0.9714)]   \n",
       "3   [tensor(0.0427), tensor(0.1763), tensor(-0.1007), tensor(-0.4364)]   \n",
       "4   [tensor(0.0459), tensor(-0.2106), tensor(-0.1129), tensor(0.0792)]   \n",
       "5   [tensor(0.0336), tensor(-0.5973), tensor(-0.1047), tensor(0.5899)]   \n",
       "6  [tensor(0.0137), tensor(-0.2046), tensor(-0.0875), tensor(-0.0543)]   \n",
       "7   [tensor(0.0094), tensor(0.1879), tensor(-0.0961), tensor(-0.6926)]   \n",
       "8   [tensor(0.0209), tensor(0.5806), tensor(-0.1302), tensor(-1.3390)]   \n",
       "9   [tensor(0.0480), tensor(0.9737), tensor(-0.1904), tensor(-2.0066)]   \n",
       "\n",
       "                                                            next_state  \\\n",
       "0   [tensor(0.0132), tensor(0.1727), tensor(-0.0469), tensor(-0.3552)]   \n",
       "1   [tensor(0.0167), tensor(0.3685), tensor(-0.0540), tensor(-0.6622)]   \n",
       "2   [tensor(0.0353), tensor(0.3702), tensor(-0.0866), tensor(-0.7006)]   \n",
       "3  [tensor(0.0463), tensor(-0.0172), tensor(-0.1094), tensor(-0.1771)]   \n",
       "4   [tensor(0.0417), tensor(-0.4040), tensor(-0.1113), tensor(0.3342)]   \n",
       "5   [tensor(0.0217), tensor(-0.4009), tensor(-0.0929), tensor(0.2661)]   \n",
       "6  [tensor(0.0096), tensor(-0.0083), tensor(-0.0886), tensor(-0.3733)]   \n",
       "7   [tensor(0.0132), tensor(0.3842), tensor(-0.1099), tensor(-1.0139)]   \n",
       "8   [tensor(0.0325), tensor(0.7771), tensor(-0.1570), tensor(-1.6694)]   \n",
       "9   [tensor(0.0675), tensor(1.1702), tensor(-0.2305), tensor(-2.3517)]   \n",
       "\n",
       "                    env_id     terminated  \n",
       "0  tensor(139998507740880)  tensor(False)  \n",
       "1  tensor(139998507740880)  tensor(False)  \n",
       "2  tensor(139998507740880)  tensor(False)  \n",
       "3  tensor(139998507740880)  tensor(False)  \n",
       "4  tensor(139998507740880)  tensor(False)  \n",
       "5  tensor(139998507740880)  tensor(False)  \n",
       "6  tensor(139998507740880)  tensor(False)  \n",
       "7  tensor(139998507740880)  tensor(False)  \n",
       "8  tensor(139998507740880)  tensor(False)  \n",
       "9  tensor(139998507740880)   tensor(True)  "
      ]
     },
     "execution_count": 7,
     "metadata": {},
     "output_type": "execute_result"
    }
   ],
   "source": [
    "steps = n_skip_test(['CartPole-v1']*1,200,2,0)\n",
    "pd.DataFrame(steps)[['state','next_state','env_id','terminated']][:10]"
   ]
  },
  {
   "cell_type": "markdown",
   "id": "6b4d66ca-460b-44a8-b955-3fae8d594cc1",
   "metadata": {},
   "source": [
    "## NSkipper Tests\n",
    "\n",
    "There are a couple properties that we expect from `NSkipper`:\n",
    "\n",
    "    - The 1st step should always be returned.\n",
    "    - The terminated step should always be returned.\n",
    "    - Every env should have its own steps skipped/kept"
   ]
  },
  {
   "cell_type": "markdown",
   "id": "05c71c78-66e5-4929-9dea-b2894d7fb9e2",
   "metadata": {},
   "source": [
    "First, `NSkipper(pipe,n=1)` should be identical to a pipelines that never used it."
   ]
  },
  {
   "cell_type": "code",
   "execution_count": 8,
   "id": "a95076e6-8918-4b4b-8137-b9e0a50c1ff3",
   "metadata": {},
   "outputs": [],
   "source": [
    "import pandas as pd\n",
    "from fastrl.envs.gym import GymTypeTransform,GymStepper\n",
    "\n",
    "pipe = dp.map.Mapper(['CartPole-v1']*3)\n",
    "pipe = TypeTransformLoop(pipe,[GymTypeTransform])\n",
    "pipe = dp.iter.MapToIterConverter(pipe)\n",
    "pipe = dp.iter.InMemoryCacheHolder(pipe)\n",
    "pipe = pipe.cycle()\n",
    "pipe = GymStepper(pipe,seed=0)\n",
    "\n",
    "no_n_skips = [step for step,_ in zip(*(pipe,range(60)))]\n",
    "steps = n_skip_test(['CartPole-v1']*3,60,1,0)"
   ]
  },
  {
   "cell_type": "markdown",
   "id": "ebf102f3-8208-44a8-a456-83d26fe0337b",
   "metadata": {},
   "source": [
    "If `n=1` we should expect that regardless of the number of envs, both n-step and simple environment\n",
    "pipelines should be identical."
   ]
  },
  {
   "cell_type": "code",
   "execution_count": 9,
   "id": "7ec6bf29-b775-4faa-ad26-adb2cd2eed68",
   "metadata": {},
   "outputs": [],
   "source": [
    "test_len(steps,no_n_skips)\n",
    "for field in ['next_state','state','terminated']:\n",
    "    for i,(step,no_n_step) in enumerate(zip(steps,no_n_skips)): \n",
    "        test_eq(getattr(step,field),getattr(no_n_step,field))"
   ]
  },
  {
   "cell_type": "code",
   "execution_count": 10,
   "id": "1721278c-4588-45a4-815e-587fc055bfb1",
   "metadata": {},
   "outputs": [],
   "source": [
    "#|hide\n",
    "# pd.set_option('display.max_rows', 500)\n",
    "# pd.DataFrame(steps)[['state','next_state','env_id','done']]\n",
    "# pd.DataFrame(no_n_skips)[['state','next_state','env_id','done']]"
   ]
  },
  {
   "cell_type": "code",
   "execution_count": 11,
   "id": "46ee1e29-f09c-4c70-bcbe-c447498dade5",
   "metadata": {},
   "outputs": [],
   "source": [
    "#|export\n",
    "def n_skips_expected(\n",
    "    default_steps:int, # The number of steps the episode would run without n_skips\n",
    "    n:int # The n-skip value that we are planning to use\n",
    "):\n",
    "    if n==1: return default_steps # All the steps will eb retained including the 1st step. No offset needed\n",
    "    # If n goes into default_steps evenly, then the final \"done\" will be technically an \"extra\" step\n",
    "    elif default_steps%n==0: return (default_steps // n) + 1 # first step will be kept\n",
    "    else:\n",
    "        # If the steps dont divide evenly then it will attempt to skip done, but ofcourse, we dont\n",
    "        # let that happen\n",
    "        return (default_steps // n) + 2 # first step and done will be kept\n",
    "    \n",
    "n_skips_expected.__doc__=r\"\"\"\n",
    "Produces the expected number of steps, assuming a fully deterministic episode based on `default_steps` and `n`\n",
    "\n",
    "Given `n=2`, given 1 envs, knowing that `CartPole-v1` when `seed=0` will always run 18 steps, the total \n",
    "steps will be:\n",
    "\n",
    "$$\n",
    "18 // n + 1 (1st+last)\n",
    "$$\n",
    "\"\"\"    "
   ]
  },
  {
   "cell_type": "code",
   "execution_count": 12,
   "id": "832d8d66-22e6-4940-a06f-0d7b99455a39",
   "metadata": {},
   "outputs": [
    {
     "name": "stdout",
     "output_type": "stream",
     "text": [
      "Given the above values, we expect a single episode to be  18  steps long\n"
     ]
    }
   ],
   "source": [
    "expected_n_skips = n_skips_expected(default_steps=18,n=1)\n",
    "print('Given the above values, we expect a single episode to be ',expected_n_skips,' steps long')\n",
    "steps = n_skip_test(['CartPole-v1']*1,expected_n_skips+1,1,0)\n",
    "# The first episode should have ended on row 34, beign 35 steps long. The 36th row should be a new episode\n",
    "test_eq(steps[-2].terminated,tensor([True]))\n",
    "test_eq(steps[-2].episode_n,tensor([1]))\n",
    "test_eq(steps[-2].step_n,tensor([18]))\n",
    "test_eq(steps[-1].terminated,tensor([False]))\n",
    "test_eq(steps[-1].episode_n,tensor([2]))\n",
    "test_eq(steps[-1].step_n,tensor([1]))"
   ]
  },
  {
   "cell_type": "code",
   "execution_count": 13,
   "id": "ee621f23-5a97-4741-88ad-13b0db29fb91",
   "metadata": {},
   "outputs": [
    {
     "name": "stdout",
     "output_type": "stream",
     "text": [
      "Given the above values, we expect a single episode to be  10  steps long\n"
     ]
    }
   ],
   "source": [
    "expected_n_skips = n_skips_expected(default_steps=18,n=2)\n",
    "print('Given the above values, we expect a single episode to be ',expected_n_skips,' steps long')\n",
    "steps = n_skip_test(['CartPole-v1']*1,expected_n_skips+1,2,0)\n",
    "# The first episode should have ended on row 34, beign 35 steps long. The 36th row should be a new episode\n",
    "test_eq(steps[-2].terminated,tensor([True]))\n",
    "test_eq(steps[-2].episode_n,tensor([1]))\n",
    "test_eq(steps[-2].step_n,tensor([18]))\n",
    "test_eq(steps[-1].terminated,tensor([False]))\n",
    "test_eq(steps[-1].episode_n,tensor([2]))\n",
    "test_eq(steps[-1].step_n,tensor([1]))"
   ]
  },
  {
   "cell_type": "code",
   "execution_count": 14,
   "id": "478abe33-777c-4d96-869c-6ee7ff81d1b7",
   "metadata": {},
   "outputs": [
    {
     "name": "stdout",
     "output_type": "stream",
     "text": [
      "Given the above values, we expect a single episode to be  6  steps long\n"
     ]
    }
   ],
   "source": [
    "expected_n_skips = n_skips_expected(default_steps=18,n=4)\n",
    "print('Given the above values, we expect a single episode to be ',expected_n_skips,' steps long')\n",
    "steps = n_skip_test(['CartPole-v1']*1,expected_n_skips+1,4,0)\n",
    "# The first episode should have ended on row 34, beign 35 steps long. The 36th row should be a new episode\n",
    "test_eq(steps[-2].terminated,tensor([True]))\n",
    "test_eq(steps[-2].episode_n,tensor([1]))\n",
    "test_eq(steps[-2].step_n,tensor([18]))\n",
    "test_eq(steps[-1].terminated,tensor([False]))\n",
    "test_eq(steps[-1].episode_n,tensor([2]))\n",
    "test_eq(steps[-1].step_n,tensor([1]))"
   ]
  },
  {
   "cell_type": "code",
   "execution_count": 15,
   "id": "829af9ec-2a38-4099-b73a-cbd170926c56",
   "metadata": {},
   "outputs": [
    {
     "name": "stdout",
     "output_type": "stream",
     "text": [
      "Given the above values, we expect a single episode to be  10  steps long\n"
     ]
    }
   ],
   "source": [
    "expected_n_skips = n_skips_expected(default_steps=18,n=2)\n",
    "print('Given the above values, we expect a single episode to be ',expected_n_skips,' steps long')\n",
    "steps = n_skip_test(['CartPole-v1']*3,expected_n_skips*3+1,2,0)\n",
    "# The first episode should have ended on row 34, beign 35 steps long. The 36th row should be a new episode\n",
    "test_eq(steps[-2].terminated,tensor([True]))\n",
    "test_eq(steps[-2].episode_n,tensor([1]))\n",
    "test_eq(steps[-2].step_n,tensor([18]))\n",
    "test_eq(steps[-1].terminated,tensor([False]))\n",
    "test_eq(steps[-1].episode_n,tensor([2]))\n",
    "test_eq(steps[-1].step_n,tensor([1]))"
   ]
  },
  {
   "cell_type": "code",
   "execution_count": 16,
   "id": "current-pilot",
   "metadata": {},
   "outputs": [
    {
     "name": "stderr",
     "output_type": "stream",
     "text": [
      "/opt/conda/lib/python3.7/site-packages/astroid/node_classes.py:96: DeprecationWarning: The 'astroid.node_classes' module is deprecated and will be replaced by 'astroid.nodes' in astroid 3.0.0\n",
      "  DeprecationWarning,\n"
     ]
    }
   ],
   "source": [
    "#|hide\n",
    "#|eval: false\n",
    "from fastcore.imports import in_colab\n",
    "\n",
    "# Since colab still requires tornado<6, we don't want to import nbdev if we don't have to\n",
    "if not in_colab():\n",
    "    from nbdev import nbdev_export\n",
    "    nbdev_export()"
   ]
  },
  {
   "cell_type": "code",
   "execution_count": null,
   "id": "8334a1cf-4b5c-496d-8cce-559aaeca7e4e",
   "metadata": {},
   "outputs": [],
   "source": []
  }
 ],
 "metadata": {
  "kernelspec": {
   "display_name": "Python 3 (ipykernel)",
   "language": "python",
   "name": "python3"
  },
  "language_info": {
   "codemirror_mode": {
    "name": "ipython",
    "version": 3
   },
   "file_extension": ".py",
   "mimetype": "text/x-python",
   "name": "python",
   "nbconvert_exporter": "python",
   "pygments_lexer": "ipython3",
   "version": "3.7.11"
  }
 },
 "nbformat": 4,
 "nbformat_minor": 5
}
