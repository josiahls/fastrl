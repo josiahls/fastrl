{
 "cells": [
  {
   "cell_type": "code",
   "execution_count": null,
   "id": "viral-cambridge",
   "metadata": {},
   "outputs": [],
   "source": [
    "#|hide\n",
    "from fastrl.test_utils import initialize_notebook\n",
    "initialize_notebook()"
   ]
  },
  {
   "cell_type": "code",
   "execution_count": null,
   "id": "offshore-stuart",
   "metadata": {},
   "outputs": [],
   "source": [
    "#|default_exp pipes.iter.nskip"
   ]
  },
  {
   "cell_type": "code",
   "execution_count": null,
   "id": "assisted-contract",
   "metadata": {},
   "outputs": [],
   "source": [
    "#|export\n",
    "# Python native modules\n",
    "import os\n",
    "import warnings\n",
    "from typing import Callable, Dict, Iterable, Optional, TypeVar, Type\n",
    "# Third party libs\n",
    "import torchdata.datapipes as dp\n",
    "from torchdata.datapipes.iter import IterDataPipe\n",
    "from fastcore.all import add_docs\n",
    "# Local modules\n",
    "from fastrl.core import StepTypes\n",
    "# from fastrl.pipes.core import *\n",
    "from fastrl.pipes.iter.nstep import NStepper\n",
    "# from fastrl.data.block import *"
   ]
  },
  {
   "attachments": {},
   "cell_type": "markdown",
   "id": "lesser-innocent",
   "metadata": {},
   "source": [
    "# NSkip\n",
    "> DataPipe for skipping env steps env-wise."
   ]
  },
  {
   "cell_type": "code",
   "execution_count": null,
   "id": "c9bf8259-f901-4c0a-9c27-479e2e0c833f",
   "metadata": {},
   "outputs": [],
   "source": [
    "#|export\n",
    "_msg = \"\"\"\n",
    "NSkipper should not go after NStepper. Please make the order:\n",
    "\n",
    "```python\n",
    "...\n",
    "pipe = NSkipper(pipe,n=3)\n",
    "pipe = NStepper(pipe,n=3)\n",
    "...\n",
    "```\n",
    "\n",
    "\"\"\"\n",
    "\n",
    "class NSkipper(IterDataPipe[StepTypes.types]):\n",
    "    def __init__(\n",
    "            self, \n",
    "            # The datapipe we are extracting from must produce `StepType`\n",
    "            source_datapipe:IterDataPipe[StepTypes.types], \n",
    "            # Number of steps to skip per env. Default will not skip at all.\n",
    "            n:int=1\n",
    "        ) -> None:\n",
    "        if isinstance(source_datapipe,NStepper): raise Exception(_msg)\n",
    "        self.source_datapipe = source_datapipe\n",
    "        self.n = n\n",
    "        self.env_buffer = {}\n",
    "        \n",
    "    def __iter__(self) -> StepTypes.types:\n",
    "        self.env_buffer = {}\n",
    "        for step in self.source_datapipe:\n",
    "            if not issubclass(step.__class__,StepTypes.types):\n",
    "                raise Exception(f'Expected {StepTypes.types} object got {type(step)}\\n{step}')\n",
    "    \n",
    "            env_id,terminated,step_n = int(step.env_id),bool(step.terminated),int(step.step_n)\n",
    "        \n",
    "            if env_id in self.env_buffer: self.env_buffer[env_id] += 1\n",
    "            else:                         self.env_buffer[env_id] = 1\n",
    "                \n",
    "            if self.env_buffer[env_id]%self.n==0: yield step  \n",
    "            elif terminated:                      yield step  \n",
    "            elif step_n==1:                       yield step\n",
    "            \n",
    "            if terminated: self.env_buffer[env_id] = 1                \n",
    "            \n",
    "add_docs(\n",
    "NSkipper,\n",
    "\"\"\"Accepts a `source_datapipe` or iterable whose `next()` produces a `StepType` that\n",
    "skips N steps for individual environments *while always producing 1st steps and terminated steps.*\n",
    "\"\"\"\n",
    ")"
   ]
  },
  {
   "cell_type": "code",
   "execution_count": null,
   "id": "13fbc336-7f21-4ff4-9277-7f077066556d",
   "metadata": {},
   "outputs": [],
   "source": [
    "#|hide\n",
    "# Used here to avoid UserWarnings related to gym complaining about bounding box / action space format.\n",
    "# There must be a bug in the CartPole-v1 env that is causing this to show. Also couldnt figure out the \n",
    "# regex, so instead we filter on the lineno, which is line 98.\n",
    "warnings.filterwarnings(\"ignore\",category=UserWarning,lineno=98)"
   ]
  },
  {
   "attachments": {},
   "cell_type": "markdown",
   "id": "3d80222c-a450-4faf-9c72-c11122384460",
   "metadata": {},
   "source": [
    "Below we skip every other step given 3 envs while always keeping the 1st and terminated steps."
   ]
  },
  {
   "cell_type": "code",
   "execution_count": null,
   "id": "80e1d937-cdab-439f-89be-09975c2d149f",
   "metadata": {},
   "outputs": [],
   "source": [
    "import pandas as pd\n",
    "import gymnasium as gym\n",
    "from fastrl.envs.gym import GymStepper\n",
    "from fastrl.pipes.iter.nstep import NStepper"
   ]
  },
  {
   "cell_type": "code",
   "execution_count": null,
   "id": "731cae90-2f4d-44e1-a03c-5ba23f2f5323",
   "metadata": {},
   "outputs": [],
   "source": [
    "def n_skip_test(envs,total_steps,n=1,seed=0):\n",
    "    pipe = dp.map.Mapper(envs)\n",
    "    pipe = pipe.map(gym.make)\n",
    "    pipe = dp.iter.MapToIterConverter(pipe)\n",
    "    pipe = dp.iter.InMemoryCacheHolder(pipe)\n",
    "    pipe = pipe.cycle()\n",
    "    pipe = GymStepper(pipe,seed=seed)\n",
    "    pipe = NSkipper(pipe,n=n)\n",
    "\n",
    "    steps = [step for step,_ in zip(*(pipe,range(total_steps)))]\n",
    "    return steps\n",
    "\n",
    "steps = n_skip_test(['CartPole-v1']*3,200,2,0)\n",
    "pd.DataFrame(steps)[['state','next_state','env_id','terminated']][:10]"
   ]
  },
  {
   "attachments": {},
   "cell_type": "markdown",
   "id": "aea37a75-1d2d-43b9-8d86-7214142bb719",
   "metadata": {},
   "source": [
    "Here is a simple 1-env result..."
   ]
  },
  {
   "cell_type": "code",
   "execution_count": null,
   "id": "daeae7b3-bdb9-4d2f-a348-5e5838272558",
   "metadata": {},
   "outputs": [],
   "source": [
    "steps = n_skip_test(['CartPole-v1']*1,200,2,0)\n",
    "pd.DataFrame(steps)[['state','next_state','step_n','terminated']][:10]"
   ]
  },
  {
   "attachments": {},
   "cell_type": "markdown",
   "id": "6b4d66ca-460b-44a8-b955-3fae8d594cc1",
   "metadata": {},
   "source": [
    "#|hide\n",
    "## NSkipper Tests\n",
    "\n",
    "There are a couple properties that we expect from `NSkipper`:\n",
    "\n",
    "    - The 1st step should always be returned.\n",
    "    - The terminated step should always be returned.\n",
    "    - Every env should have its own steps skipped/kept\n",
    "    \n",
    "First, `NSkipper(pipe,n=1)` should be identical to a pipelines that never used it."
   ]
  },
  {
   "cell_type": "code",
   "execution_count": null,
   "id": "a95076e6-8918-4b4b-8137-b9e0a50c1ff3",
   "metadata": {},
   "outputs": [],
   "source": [
    "#|hide\n",
    "pipe = dp.map.Mapper(['CartPole-v1']*3)\n",
    "pipe = pipe.map(gym.make)\n",
    "pipe = dp.iter.MapToIterConverter(pipe)\n",
    "pipe = dp.iter.InMemoryCacheHolder(pipe)\n",
    "pipe = pipe.cycle()\n",
    "pipe = GymStepper(pipe,seed=0)\n",
    "\n",
    "no_n_skips = [step for step,_ in zip(*(pipe,range(60)))]\n",
    "steps = n_skip_test(['CartPole-v1']*3,60,1,0)"
   ]
  },
  {
   "attachments": {},
   "cell_type": "markdown",
   "id": "ebf102f3-8208-44a8-a456-83d26fe0337b",
   "metadata": {},
   "source": [
    "#|hide\n",
    "If `n=1` we should expect that regardless of the number of envs, both n-step and simple environment\n",
    "pipelines should be identical."
   ]
  },
  {
   "cell_type": "code",
   "execution_count": null,
   "id": "7a1c6b84",
   "metadata": {},
   "outputs": [],
   "source": [
    "from fastcore.all import test_eq\n",
    "from fastrl.core import test_len"
   ]
  },
  {
   "cell_type": "code",
   "execution_count": null,
   "id": "7ec6bf29-b775-4faa-ad26-adb2cd2eed68",
   "metadata": {},
   "outputs": [],
   "source": [
    "#|hide\n",
    "test_len(steps,no_n_skips)\n",
    "for field in ['next_state','state','terminated']:\n",
    "    for i,(step,no_n_step) in enumerate(zip(steps,no_n_skips)): \n",
    "        test_eq(getattr(step,field),getattr(no_n_step,field))"
   ]
  },
  {
   "cell_type": "code",
   "execution_count": null,
   "id": "1721278c-4588-45a4-815e-587fc055bfb1",
   "metadata": {},
   "outputs": [],
   "source": [
    "#|hide\n",
    "# pd.set_option('display.max_rows', 500)\n",
    "# pd.DataFrame(steps)[['state','next_state','env_id','done']]\n",
    "# pd.DataFrame(no_n_skips)[['state','next_state','env_id','done']]"
   ]
  },
  {
   "cell_type": "code",
   "execution_count": null,
   "id": "46ee1e29-f09c-4c70-bcbe-c447498dade5",
   "metadata": {},
   "outputs": [],
   "source": [
    "#|export\n",
    "def n_skips_expected(\n",
    "    default_steps:int, # The number of steps the episode would run without n_skips\n",
    "    n:int # The n-skip value that we are planning to use\n",
    "):\n",
    "    if n==1: return default_steps # All the steps will eb retained including the 1st step. No offset needed\n",
    "    # If n goes into default_steps evenly, then the final \"done\" will be technically an \"extra\" step\n",
    "    elif default_steps%n==0: return (default_steps // n) + 1 # first step will be kept\n",
    "    else:\n",
    "        # If the steps dont divide evenly then it will attempt to skip done, but ofcourse, we dont\n",
    "        # let that happen\n",
    "        return (default_steps // n) + 2 # first step and done will be kept\n",
    "    \n",
    "n_skips_expected.__doc__=r\"\"\"\n",
    "Produces the expected number of steps, assuming a fully deterministic episode based on `default_steps` and `n`.\n",
    "\n",
    "Mainly used for testing.\n",
    "\n",
    "Given `n=2`, given 1 envs, knowing that `CartPole-v1` when `seed=0` will always run 18 steps, the total \n",
    "steps will be:\n",
    "\n",
    "$$\n",
    "18 // n + 1 (1st+last)\n",
    "$$\n",
    "\"\"\"    "
   ]
  },
  {
   "cell_type": "code",
   "execution_count": null,
   "id": "3fa2c601",
   "metadata": {},
   "outputs": [],
   "source": [
    "import torch"
   ]
  },
  {
   "cell_type": "code",
   "execution_count": null,
   "id": "832d8d66-22e6-4940-a06f-0d7b99455a39",
   "metadata": {},
   "outputs": [],
   "source": [
    "#|hide\n",
    "expected_n_skips = n_skips_expected(default_steps=18,n=1)\n",
    "print('Given the above values, we expect a single episode to be ',expected_n_skips,' steps long')\n",
    "steps = n_skip_test(['CartPole-v1']*1,expected_n_skips+1,1,0)\n",
    "# The first episode should have ended on row 34, beign 35 steps long. The 36th row should be a new episode\n",
    "test_eq(steps[-2].terminated,torch.tensor([True]))\n",
    "test_eq(steps[-2].episode_n,torch.tensor([1]))\n",
    "test_eq(steps[-2].step_n,torch.tensor([18]))\n",
    "test_eq(steps[-1].terminated,torch.tensor([False]))\n",
    "test_eq(steps[-1].episode_n,torch.tensor([2]))\n",
    "test_eq(steps[-1].step_n,torch.tensor([1]))"
   ]
  },
  {
   "cell_type": "code",
   "execution_count": null,
   "id": "ee621f23-5a97-4741-88ad-13b0db29fb91",
   "metadata": {},
   "outputs": [],
   "source": [
    "#|hide\n",
    "expected_n_skips = n_skips_expected(default_steps=18,n=2)\n",
    "print('Given the above values, we expect a single episode to be ',expected_n_skips,' steps long')\n",
    "steps = n_skip_test(['CartPole-v1']*1,expected_n_skips+1,2,0)\n",
    "# The first episode should have ended on row 34, beign 35 steps long. The 36th row should be a new episode\n",
    "test_eq(steps[-2].terminated,torch.tensor([True]))\n",
    "test_eq(steps[-2].episode_n,torch.tensor([1]))\n",
    "test_eq(steps[-2].step_n,torch.tensor([18]))\n",
    "test_eq(steps[-1].terminated,torch.tensor([False]))\n",
    "test_eq(steps[-1].episode_n,torch.tensor([2]))\n",
    "test_eq(steps[-1].step_n,torch.tensor([1]))"
   ]
  },
  {
   "cell_type": "code",
   "execution_count": null,
   "id": "478abe33-777c-4d96-869c-6ee7ff81d1b7",
   "metadata": {},
   "outputs": [],
   "source": [
    "#|hide\n",
    "expected_n_skips = n_skips_expected(default_steps=18,n=4)\n",
    "print('Given the above values, we expect a single episode to be ',expected_n_skips,' steps long')\n",
    "steps = n_skip_test(['CartPole-v1']*1,expected_n_skips+1,4,0)\n",
    "# The first episode should have ended on row 34, beign 35 steps long. The 36th row should be a new episode\n",
    "test_eq(steps[-2].terminated,torch.tensor([True]))\n",
    "test_eq(steps[-2].episode_n,torch.tensor([1]))\n",
    "test_eq(steps[-2].step_n,torch.tensor([18]))\n",
    "test_eq(steps[-1].terminated,torch.tensor([False]))\n",
    "test_eq(steps[-1].episode_n,torch.tensor([2]))\n",
    "test_eq(steps[-1].step_n,torch.tensor([1]))"
   ]
  },
  {
   "cell_type": "code",
   "execution_count": null,
   "id": "829af9ec-2a38-4099-b73a-cbd170926c56",
   "metadata": {},
   "outputs": [],
   "source": [
    "#|hide\n",
    "expected_n_skips = n_skips_expected(default_steps=18,n=2)\n",
    "print('Given the above values, we expect a single episode to be ',expected_n_skips,' steps long')\n",
    "steps = n_skip_test(['CartPole-v1']*3,expected_n_skips*3+1,2,0)\n",
    "# The first episode should have ended on row 34, beign 35 steps long. The 36th row should be a new episode\n",
    "test_eq(steps[-2].terminated,torch.tensor([True]))\n",
    "test_eq(steps[-2].episode_n,torch.tensor([1]))\n",
    "test_eq(steps[-2].step_n,torch.tensor([18]))\n",
    "test_eq(steps[-1].terminated,torch.tensor([False]))\n",
    "test_eq(steps[-1].episode_n,torch.tensor([2]))\n",
    "test_eq(steps[-1].step_n,torch.tensor([1]))"
   ]
  },
  {
   "cell_type": "code",
   "execution_count": null,
   "id": "current-pilot",
   "metadata": {},
   "outputs": [],
   "source": [
    "#|hide\n",
    "#|eval: false\n",
    "!nbdev_export"
   ]
  },
  {
   "cell_type": "code",
   "execution_count": null,
   "id": "8334a1cf-4b5c-496d-8cce-559aaeca7e4e",
   "metadata": {},
   "outputs": [],
   "source": []
  }
 ],
 "metadata": {
  "kernelspec": {
   "display_name": "python3",
   "language": "python",
   "name": "python3"
  }
 },
 "nbformat": 4,
 "nbformat_minor": 5
}
