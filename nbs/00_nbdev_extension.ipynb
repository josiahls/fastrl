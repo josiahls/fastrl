{
 "cells": [
  {
   "cell_type": "code",
   "execution_count": null,
   "id": "sound-circle",
   "metadata": {},
   "outputs": [],
   "source": [
    "#hide\n",
    "#skip\n",
    "%config Completer.use_jedi = False\n",
    "# upgrade fastrl on colab\n",
    "! [ -e /content ] && pip install -Uqq fastrl['dev'] pyvirtualdisplay && \\\n",
    "                     apt-get install -y xvfb python-opengl > /dev/null 2>&1 \n",
    "# NOTE: IF YOU SEE VERSION ERRORS, IT IS SAFE TO IGNORE THEM. COLAB IS BEHIND IN SOME OF THE PACKAGE VERSIONS"
   ]
  },
  {
   "cell_type": "code",
   "execution_count": null,
   "id": "interstate-belly",
   "metadata": {},
   "outputs": [],
   "source": [
    "# hide\n",
    "from fastcore.imports import in_colab\n",
    "from warnings import warn\n",
    "# Since colab still requires tornado<6, we don't want to import nbdev if we don't have to\n",
    "if not in_colab():\n",
    "    from nbdev.showdoc import *\n",
    "    from nbdev.imports import *\n",
    "    if not os.environ.get(\"IN_TEST\", None):\n",
    "        assert IN_NOTEBOOK\n",
    "        assert not IN_COLAB\n",
    "        assert IN_IPYTHON\n",
    "else:\n",
    "    warn('jupyterlab==3.* requires tornado>6.1. colab expects')\n",
    "import yaml"
   ]
  },
  {
   "cell_type": "code",
   "execution_count": null,
   "id": "adolescent-consolidation",
   "metadata": {},
   "outputs": [],
   "source": [
    "# default_exp nbdev_extensions"
   ]
  },
  {
   "cell_type": "markdown",
   "id": "preceding-lottery",
   "metadata": {},
   "source": [
    "# Nbdev Extensions\n",
    "> Extensions on the nbdev library for conda yml creation and nightly build support"
   ]
  },
  {
   "cell_type": "code",
   "execution_count": null,
   "id": "uniform-apple",
   "metadata": {},
   "outputs": [],
   "source": [
    "%%bash\n",
    "cat > test_settings.ini << EndOfMessage\n",
    "[DEFAULT]\n",
    "lib_name = fastrl_test\n",
    "user = josiahls\n",
    "branch = master\n",
    "version = 0.0.1\n",
    "min_python = 3.6\n",
    "requirements = fastai>=2.0.0 moviepy\n",
    "pip_requirements = pytest nvidia-ml-py3 dataclasses pandas pyyaml\n",
    "conda_requirements = jupyter notebook setuptools\n",
    "dev_requirements = jupyterlab nbdev ipywidgets moviepy pygifsicle aquirdturtle_collapsible_headings\n",
    "EndOfMessage\n",
    "\n",
    "cp test_settings.ini testing/test_settings.ini"
   ]
  },
  {
   "cell_type": "code",
   "execution_count": null,
   "id": "medical-fundamental",
   "metadata": {},
   "outputs": [],
   "source": [
    "# export\n",
    "def dependencies(dev:bool=False,cfg_name='settings.ini'):\n",
    "    \"Gets a list of dependencies in a `cfg_name` for conda compatability.\"\n",
    "    c=Config(cfg_name)\n",
    "    deps=[f'python={c.min_python}','pip','setuptools']\n",
    "    if c.requirements:             deps+=c.requirements.split(' ')\n",
    "    if c.conda_requirements:       deps+=c.conda_requirements.split(' ')\n",
    "    if dev and c.dev_requirements: deps+=c.dev_requirements.split(' ')\n",
    "    if c.pip_requirements:         deps+=[{'pip':c.pip_requirements.split(' ')}]\n",
    "    return deps"
   ]
  },
  {
   "cell_type": "code",
   "execution_count": null,
   "id": "frequent-remains",
   "metadata": {},
   "outputs": [],
   "source": [
    "test_eq(dependencies(cfg_name='test_settings.ini'),\n",
    "        ['python=3.6', 'pip', 'setuptools', 'fastai>=2.0.0', 'moviepy', \n",
    "         'jupyter', 'notebook', 'setuptools', \n",
    "         {'pip': ['pytest', 'nvidia-ml-py3', 'dataclasses', 'pandas', 'pyyaml']}])\n",
    "test_eq(dependencies(dev=True,cfg_name='test_settings.ini'),\n",
    "        ['python=3.6', 'pip', 'setuptools', 'fastai>=2.0.0', 'moviepy', 'jupyter', \n",
    "         'notebook', 'setuptools', 'jupyterlab', 'nbdev', 'ipywidgets', 'moviepy', \n",
    "         'pygifsicle', 'aquirdturtle_collapsible_headings', \n",
    "         {'pip': ['pytest', 'nvidia-ml-py3', 'dataclasses', 'pandas', 'pyyaml']}])"
   ]
  },
  {
   "cell_type": "code",
   "execution_count": null,
   "id": "optional-shadow",
   "metadata": {},
   "outputs": [],
   "source": [
    "# export\n",
    "def create_conda_yaml(channels:str='conda-forge,pytorch,fastai',\n",
    "                      cfg_name='settings.ini',dev:bool=False):\n",
    "    \"Creates a conda dictionary of the format of an env file.\"\n",
    "    c=Config()\n",
    "    return {'name':c.lib_name if not dev else c.lib_name+'_dev',\n",
    "            'channels': channels.split(','),\n",
    "            'dependencies': dependencies(dev=dev,cfg_name=cfg_name)}"
   ]
  },
  {
   "cell_type": "code",
   "execution_count": null,
   "id": "tracked-missouri",
   "metadata": {},
   "outputs": [],
   "source": [
    "test_eq(create_conda_yaml(cfg_name='test_settings.ini'),\n",
    "       {'name': 'fastrl', 'channels': ['conda-forge', 'pytorch', 'fastai'], \n",
    "        'dependencies': ['python=3.6', 'pip', 'setuptools', 'fastai>=2.0.0', \n",
    "                         'moviepy', 'jupyter', 'notebook', 'setuptools', \n",
    "                         {'pip': ['pytest', 'nvidia-ml-py3', 'dataclasses', 'pandas', 'pyyaml']}]})\n",
    "test_eq(create_conda_yaml(cfg_name='test_settings.ini',dev=True),\n",
    "       {'name': 'fastrl_dev', 'channels': ['conda-forge', 'pytorch', 'fastai'], \n",
    "        'dependencies': ['python=3.6', 'pip', 'setuptools', 'fastai>=2.0.0', \n",
    "                         'moviepy', 'jupyter', 'notebook', 'setuptools', 'jupyterlab', \n",
    "                         'nbdev', 'ipywidgets', 'moviepy', 'pygifsicle', 'aquirdturtle_collapsible_headings', \n",
    "                         {'pip': ['pytest', 'nvidia-ml-py3', 'dataclasses', 'pandas', 'pyyaml']}]})"
   ]
  },
  {
   "cell_type": "code",
   "execution_count": null,
   "id": "coastal-playlist",
   "metadata": {},
   "outputs": [],
   "source": [
    "# export\n",
    "def create_conda_yamls(also_dev:bool=True,cfg_name='settings.ini',sub_dir=''):\n",
    "    \"Creates conda env for normal and development environments.\"\n",
    "    c=Config(cfg_name)\n",
    "    parent=c.config_path/Path(sub_dir) if sub_dir else c.config_path\n",
    "    parent.mkdir(parents=True,exist_ok=True)\n",
    "    for is_dev in ([False,True] if also_dev else [False]):\n",
    "        fname=(c.lib_name+f'{\"_dev\" if is_dev else \"\"}_env.yaml')\n",
    "        with open(parent/fname,'w') as f:\n",
    "            d=create_conda_yaml(cfg_name=cfg_name,dev=is_dev)\n",
    "            yaml.dump(d,f)"
   ]
  },
  {
   "cell_type": "code",
   "execution_count": null,
   "id": "blond-macintosh",
   "metadata": {},
   "outputs": [],
   "source": [
    "create_conda_yamls(cfg_name='test_settings.ini',sub_dir='testing')"
   ]
  },
  {
   "cell_type": "code",
   "execution_count": null,
   "id": "radical-walker",
   "metadata": {},
   "outputs": [
    {
     "name": "stdout",
     "output_type": "stream",
     "text": [
      "Object `testing/fastrl_test_env.yaml` not found.\n"
     ]
    },
    {
     "data": {
      "text/plain": [
       "\u001b[0mchannels\u001b[0m\u001b[0;34m:\u001b[0m\u001b[0;34m\u001b[0m\n",
       "\u001b[0;34m\u001b[0m\u001b[0;34m-\u001b[0m \u001b[0mconda\u001b[0m\u001b[0;34m-\u001b[0m\u001b[0mforge\u001b[0m\u001b[0;34m\u001b[0m\n",
       "\u001b[0;34m\u001b[0m\u001b[0;34m-\u001b[0m \u001b[0mpytorch\u001b[0m\u001b[0;34m\u001b[0m\n",
       "\u001b[0;34m\u001b[0m\u001b[0;34m-\u001b[0m \u001b[0mfastai\u001b[0m\u001b[0;34m\u001b[0m\n",
       "\u001b[0;34m\u001b[0m\u001b[0mdependencies\u001b[0m\u001b[0;34m:\u001b[0m\u001b[0;34m\u001b[0m\n",
       "\u001b[0;34m\u001b[0m\u001b[0;34m-\u001b[0m \u001b[0mpython\u001b[0m\u001b[0;34m=\u001b[0m\u001b[0;36m3.6\u001b[0m\u001b[0;34m\u001b[0m\n",
       "\u001b[0;34m\u001b[0m\u001b[0;34m-\u001b[0m \u001b[0mpip\u001b[0m\u001b[0;34m\u001b[0m\n",
       "\u001b[0;34m\u001b[0m\u001b[0;34m-\u001b[0m \u001b[0msetuptools\u001b[0m\u001b[0;34m\u001b[0m\n",
       "\u001b[0;34m\u001b[0m\u001b[0;34m-\u001b[0m \u001b[0mfastai\u001b[0m\u001b[0;34m>=\u001b[0m\u001b[0;36m2.0\u001b[0m\u001b[0;36m.0\u001b[0m\u001b[0;34m\u001b[0m\n",
       "\u001b[0;34m\u001b[0m\u001b[0;34m-\u001b[0m \u001b[0mmoviepy\u001b[0m\u001b[0;34m\u001b[0m\n",
       "\u001b[0;34m\u001b[0m\u001b[0;34m-\u001b[0m \u001b[0mjupyter\u001b[0m\u001b[0;34m\u001b[0m\n",
       "\u001b[0;34m\u001b[0m\u001b[0;34m-\u001b[0m \u001b[0mnotebook\u001b[0m\u001b[0;34m\u001b[0m\n",
       "\u001b[0;34m\u001b[0m\u001b[0;34m-\u001b[0m \u001b[0msetuptools\u001b[0m\u001b[0;34m\u001b[0m\n",
       "\u001b[0;34m\u001b[0m\u001b[0;34m-\u001b[0m \u001b[0mpip\u001b[0m\u001b[0;34m:\u001b[0m\u001b[0;34m\u001b[0m\n",
       "\u001b[0;34m\u001b[0m  \u001b[0;34m-\u001b[0m \u001b[0mpytest\u001b[0m\u001b[0;34m\u001b[0m\n",
       "\u001b[0;34m\u001b[0m  \u001b[0;34m-\u001b[0m \u001b[0mnvidia\u001b[0m\u001b[0;34m-\u001b[0m\u001b[0mml\u001b[0m\u001b[0;34m-\u001b[0m\u001b[0mpy3\u001b[0m\u001b[0;34m\u001b[0m\n",
       "\u001b[0;34m\u001b[0m  \u001b[0;34m-\u001b[0m \u001b[0mdataclasses\u001b[0m\u001b[0;34m\u001b[0m\n",
       "\u001b[0;34m\u001b[0m  \u001b[0;34m-\u001b[0m \u001b[0mpandas\u001b[0m\u001b[0;34m\u001b[0m\n",
       "\u001b[0;34m\u001b[0m  \u001b[0;34m-\u001b[0m \u001b[0mpyyaml\u001b[0m\u001b[0;34m\u001b[0m\n",
       "\u001b[0;34m\u001b[0m\u001b[0mname\u001b[0m\u001b[0;34m:\u001b[0m \u001b[0mfastrl\u001b[0m\u001b[0;34m\u001b[0m\u001b[0;34m\u001b[0m\u001b[0m\n"
      ]
     },
     "metadata": {},
     "output_type": "display_data"
    }
   ],
   "source": [
    "%pfile testing/fastrl_test_env.yaml"
   ]
  },
  {
   "cell_type": "code",
   "execution_count": null,
   "id": "later-communist",
   "metadata": {},
   "outputs": [],
   "source": [
    "create_conda_yamls(sub_dir='extra')"
   ]
  },
  {
   "cell_type": "code",
   "execution_count": null,
   "id": "tropical-secret",
   "metadata": {},
   "outputs": [],
   "source": [
    "%%bash\n",
    "rm test_settings.ini"
   ]
  },
  {
   "cell_type": "code",
   "execution_count": null,
   "id": "given-annotation",
   "metadata": {},
   "outputs": [
    {
     "name": "stdout",
     "output_type": "stream",
     "text": [
      "converting /home/fastrl_user/fastrl/nbs/index.ipynb to README.md\n",
      "Converted 00_core.ipynb.\n",
      "Converted 00_nbdev_extension.ipynb.\n",
      "Converted 05_data.block.ipynb.\n",
      "Converted 05_data.test_async.ipynb.\n",
      "Converted 20_test_utils.ipynb.\n",
      "Converted index.ipynb.\n",
      "Converted nbdev_template.ipynb.\n",
      "converting: /home/fastrl_user/fastrl/nbs/00_nbdev_extension.ipynb\n"
     ]
    }
   ],
   "source": [
    "# hide\n",
    "from fastcore.imports import in_colab\n",
    "# Since colab still requires tornado<6, we don't want to import nbdev if we don't have to\n",
    "if not in_colab():\n",
    "    from nbdev.export import *\n",
    "    from nbdev.export2html import *\n",
    "    from nbdev.cli import make_readme\n",
    "    make_readme()\n",
    "    notebook2script()\n",
    "    notebook2html()"
   ]
  },
  {
   "cell_type": "code",
   "execution_count": null,
   "id": "linear-conjunction",
   "metadata": {},
   "outputs": [],
   "source": []
  }
 ],
 "metadata": {
  "kernelspec": {
   "display_name": "Python 3",
   "language": "python",
   "name": "python3"
  }
 },
 "nbformat": 4,
 "nbformat_minor": 5
}
