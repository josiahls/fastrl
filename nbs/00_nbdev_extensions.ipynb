{
 "cells": [
  {
   "cell_type": "code",
   "execution_count": null,
   "id": "sound-circle",
   "metadata": {},
   "outputs": [],
   "source": [
    "#|hide\n",
    "from fastrl.test_utils import initialize_notebook\n",
    "initialize_notebook()"
   ]
  },
  {
   "cell_type": "code",
   "execution_count": null,
   "id": "bf0a82ed-a58d-4dbf-8877-0ef4b5bba817",
   "metadata": {},
   "outputs": [],
   "source": [
    "#|export\n",
    "# Python native modules\n",
    "import os\n",
    "from datetime import datetime\n",
    "import os\n",
    "import shutil\n",
    "import json\n",
    "# Third party libs\n",
    "from fastcore.all import *\n",
    "from nbdev.config import get_config\n",
    "import yaml\n",
    "from IPython.display import display, Markdown\n",
    "from fastcore.all import call_parse\n",
    "# Local modules"
   ]
  },
  {
   "cell_type": "code",
   "execution_count": null,
   "id": "adolescent-consolidation",
   "metadata": {},
   "outputs": [],
   "source": [
    "#|default_exp nbdev_extensions"
   ]
  },
  {
   "attachments": {},
   "cell_type": "markdown",
   "id": "preceding-lottery",
   "metadata": {},
   "source": [
    "# Nbdev Extensions\n",
    "> Extensions on the nbdev library for nightly build support"
   ]
  },
  {
   "attachments": {},
   "cell_type": "markdown",
   "id": "10022356",
   "metadata": {},
   "source": [
    "## Blogging Extensions"
   ]
  },
  {
   "cell_type": "code",
   "execution_count": null,
   "id": "1f34cc55",
   "metadata": {},
   "outputs": [],
   "source": [
    "#|export\n",
    "def header(\n",
    "    # The main header title to display.\n",
    "    title: str,     \n",
    "    # The subtitle to display underneath the title. If None, no subtitle will be displayed.                \n",
    "    subtitle: Optional[str] = None, \n",
    "    # If True, the date associated with the header will be frozen, \n",
    "    # meaning it won't change in subsequent runs. \n",
    "    # If False, a new date will be generated each time the function is run,\n",
    "    # and the date will not be saved to file.\n",
    "    freeze: bool = False           \n",
    "):\n",
    "    \"\"\"\n",
    "    Function to generate a Markdown formatted header with an associated date.\n",
    "    Dates are auto-incremented and can be frozen. This function also controls the persistent storage of dates.\n",
    "    \"\"\"\n",
    "    filename = 'header_dates.json'\n",
    "    date = None\n",
    "    id:int = None\n",
    "\n",
    "    # Load or initialize date dictionary\n",
    "    if os.path.exists(filename):\n",
    "        with open(filename, 'r') as file:\n",
    "            dates = json.load(file)\n",
    "    else:\n",
    "        dates = {}\n",
    "\n",
    "    # Determine the id for the new entry\n",
    "    if freeze:\n",
    "        # If frozen, use the maximum id from the file, or 0 if the file is empty\n",
    "        id = max(dates.keys(), default=0)\n",
    "    else:\n",
    "        # If not frozen, increment the maximum id from the file, or use 0 if the file is empty\n",
    "        id = max(dates.keys(), default=-1) + 1\n",
    "\n",
    "    # Get or create the date\n",
    "    date = dates.get(id)\n",
    "    if date is None:\n",
    "        date = datetime.now().strftime('%Y-%m-%d')\n",
    "        dates[id] = date\n",
    "\n",
    "        # Only write to file if the date is frozen\n",
    "        if freeze:\n",
    "            with open(filename, 'w') as file:\n",
    "                json.dump(dates, file)\n",
    "\n",
    "    # Display the markdown\n",
    "    if subtitle is None:\n",
    "        display(Markdown(f\"# `{date}` **{title}**\"))\n",
    "    else:\n",
    "        display(Markdown(f\"# `{date}` **{title}**\\n> {subtitle}\"))\n"
   ]
  },
  {
   "cell_type": "code",
   "execution_count": null,
   "id": "012fb25e",
   "metadata": {},
   "outputs": [],
   "source": [
    "header(1,\"Some custom message\",freeze=True)"
   ]
  },
  {
   "cell_type": "code",
   "execution_count": null,
   "id": "cd30dbe6",
   "metadata": {},
   "outputs": [],
   "source": [
    "rm header_dates.json"
   ]
  },
  {
   "cell_type": "code",
   "execution_count": null,
   "id": "ba601df3",
   "metadata": {},
   "outputs": [],
   "source": [
    "#|export\n",
    "@call_parse\n",
    "def create_blog_notebook() -> None: # Creates a new blog notebook from template\n",
    "    template = '99_blog.from_xxxx_xx_to_xx.ipynb'\n",
    "    new_name = datetime.now().strftime('99_blog.from_%Y_%m_to_now.ipynb')\n",
    "\n",
    "    # Check if the template file exists\n",
    "    if not os.path.exists(template):\n",
    "        raise FileNotFoundError(f\"Template file '{template}' not found in current directory.\")\n",
    "\n",
    "    # Rename old notebooks and update sidebar.yml\n",
    "    sidebar_file = '../sidebar.yml'\n",
    "    with open(sidebar_file, 'r') as f:\n",
    "        sidebar = yaml.safe_load(f)\n",
    "\n",
    "    blog_section = None\n",
    "    for section in sidebar['website']['sidebar']['contents']:\n",
    "        print(section)\n",
    "        if 'section' in section and section['section'] == 'Blog':\n",
    "            blog_section = section['contents']\n",
    "            break\n",
    "\n",
    "    # Rename old notebooks\n",
    "    for filename in os.listdir():\n",
    "        if filename.startswith('99_blog.from_') and filename.endswith('_to_now.ipynb'):\n",
    "            date_from = filename[13:20]  # corrected substring indexing\n",
    "            date_to = datetime.now().strftime('%Y_%m')\n",
    "            new_filename = f'99_blog.from_{date_from}_to_{date_to}.ipynb'\n",
    "            os.rename(filename, new_filename)\n",
    "\n",
    "            if blog_section is not None:\n",
    "                # Update sidebar.yml\n",
    "                old_entry = f'12_Blog/{filename}'\n",
    "                new_entry = f'12_Blog/{new_filename}'\n",
    "                if old_entry in blog_section:\n",
    "                    blog_section.remove(old_entry)\n",
    "                    blog_section.append(new_entry)\n",
    "\n",
    "    # Add new notebook to sidebar.yml\n",
    "    if f'12_Blog/{new_name}' not in blog_section:\n",
    "        blog_section.append(f'12_Blog/{new_name}')\n",
    "        \n",
    "        with open(sidebar_file, 'w') as f:\n",
    "            yaml.safe_dump(sidebar, f)\n",
    "\n",
    "    # Create new notebook from template\n",
    "    shutil.copy(template, new_name)"
   ]
  },
  {
   "cell_type": "code",
   "execution_count": null,
   "id": "given-annotation",
   "metadata": {},
   "outputs": [],
   "source": [
    "#|hide\n",
    "#|eval: false\n",
    "from fastcore.imports import in_colab\n",
    "\n",
    "# Since colab still requires tornado<6, we don't want to import nbdev if we don't have to\n",
    "if not in_colab():\n",
    "    from nbdev import nbdev_export\n",
    "    nbdev_export()"
   ]
  },
  {
   "cell_type": "code",
   "execution_count": null,
   "id": "linear-conjunction",
   "metadata": {},
   "outputs": [],
   "source": []
  }
 ],
 "metadata": {
  "kernelspec": {
   "display_name": "python3",
   "language": "python",
   "name": "python3"
  }
 },
 "nbformat": 4,
 "nbformat_minor": 5
}
