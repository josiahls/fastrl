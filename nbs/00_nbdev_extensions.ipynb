{
 "cells": [
  {
   "cell_type": "code",
   "execution_count": null,
   "id": "sound-circle",
   "metadata": {},
   "outputs": [],
   "source": [
    "#|hide\n",
    "from fastrl.test_utils import initialize_notebook\n",
    "initialize_notebook()"
   ]
  },
  {
   "cell_type": "code",
   "execution_count": null,
   "id": "bf0a82ed-a58d-4dbf-8877-0ef4b5bba817",
   "metadata": {},
   "outputs": [],
   "source": [
    "#|export\n",
    "# Python native modules\n",
    "import os\n",
    "from datetime import datetime\n",
    "import os\n",
    "import shutil\n",
    "import json\n",
    "# Third party libs\n",
    "from fastcore.all import *\n",
    "from nbdev.config import get_config\n",
    "import yaml\n",
    "from IPython.display import display, Markdown\n",
    "from fastcore.all import call_parse\n",
    "# Local modules"
   ]
  },
  {
   "cell_type": "code",
   "execution_count": null,
   "id": "adolescent-consolidation",
   "metadata": {},
   "outputs": [],
   "source": [
    "#|default_exp nbdev_extensions"
   ]
  },
  {
   "attachments": {},
   "cell_type": "markdown",
   "id": "preceding-lottery",
   "metadata": {},
   "source": [
    "# Nbdev Extensions\n",
    "> Extensions on the nbdev library for conda yml creation and nightly build support"
   ]
  },
  {
   "cell_type": "code",
   "execution_count": null,
   "id": "uniform-apple",
   "metadata": {},
   "outputs": [
    {
     "name": "stderr",
     "output_type": "stream",
     "text": [
      "mkdir: cannot create directory ‘testing’: File exists\n"
     ]
    }
   ],
   "source": [
    "%%bash\n",
    "cat > test_settings.ini << EndOfMessage\n",
    "[DEFAULT]\n",
    "lib_name = fastrl_test\n",
    "user = josiahls\n",
    "branch = master\n",
    "version = 0.0.1\n",
    "min_python = 3.6\n",
    "requirements = fastai>=2.0.0 moviepy\n",
    "pip_requirements = pytest nvidia-ml-py3 dataclasses pandas pyyaml\n",
    "conda_requirements = jupyter notebook setuptools\n",
    "dev_requirements = jupyterlab nbdev ipywidgets moviepy pygifsicle aquirdturtle_collapsible_headings\n",
    "EndOfMessage\n",
    "\n",
    "mkdir testing\n",
    "cp test_settings.ini testing/test_settings.ini"
   ]
  },
  {
   "cell_type": "code",
   "execution_count": null,
   "id": "medical-fundamental",
   "metadata": {},
   "outputs": [],
   "source": [
    "#|export\n",
    "def dependencies(dev:bool=False,cfg_name='settings.ini'):\n",
    "    \"Gets a list of dependencies in a `cfg_name` for conda compatability.\"\n",
    "    c = get_config(cfg_name)\n",
    "    deps=[f'python={c.min_python}','pip','setuptools']\n",
    "    if c.requirements:             deps+=c.requirements.split(' ')\n",
    "    if c.conda_requirements:       deps+=c.conda_requirements.split(' ')\n",
    "    if dev and c.dev_requirements: deps+=c.dev_requirements.split(' ')\n",
    "    if c.pip_requirements:         deps+=[{'pip':c.pip_requirements.split(' ')}]\n",
    "    return deps"
   ]
  },
  {
   "cell_type": "code",
   "execution_count": null,
   "id": "frequent-remains",
   "metadata": {},
   "outputs": [],
   "source": [
    "test_eq(dependencies(cfg_name='test_settings.ini'),\n",
    "        ['python=3.6', 'pip', 'setuptools', 'fastai>=2.0.0', 'moviepy', \n",
    "         'jupyter', 'notebook', 'setuptools', \n",
    "         {'pip': ['pytest', 'nvidia-ml-py3', 'dataclasses', 'pandas', 'pyyaml']}])\n",
    "test_eq(dependencies(dev=True,cfg_name='test_settings.ini'),\n",
    "        ['python=3.6', 'pip', 'setuptools', 'fastai>=2.0.0', 'moviepy', 'jupyter', \n",
    "         'notebook', 'setuptools', 'jupyterlab', 'nbdev', 'ipywidgets', 'moviepy', \n",
    "         'pygifsicle', 'aquirdturtle_collapsible_headings', \n",
    "         {'pip': ['pytest', 'nvidia-ml-py3', 'dataclasses', 'pandas', 'pyyaml']}])"
   ]
  },
  {
   "cell_type": "code",
   "execution_count": null,
   "id": "optional-shadow",
   "metadata": {},
   "outputs": [],
   "source": [
    "#|export\n",
    "def create_conda_yaml(channels:str='conda-forge,pytorch,fastai',\n",
    "                      cfg_name='settings.ini',dev:bool=False):\n",
    "    \"Creates a conda dictionary of the format of an env file.\"\n",
    "    c = get_config(cfg_name)\n",
    "    return {'name':c.lib_name if not dev else c.lib_name+'_dev',\n",
    "            'channels': channels.split(','),\n",
    "            'dependencies': dependencies(dev=dev,cfg_name=cfg_name)}"
   ]
  },
  {
   "cell_type": "code",
   "execution_count": null,
   "id": "tracked-missouri",
   "metadata": {},
   "outputs": [],
   "source": [
    "test_eq(create_conda_yaml(cfg_name='test_settings.ini'),\n",
    "       {'name': 'fastrl_test', 'channels': ['conda-forge', 'pytorch', 'fastai'], \n",
    "        'dependencies': ['python=3.6', 'pip', 'setuptools', 'fastai>=2.0.0', \n",
    "                         'moviepy', 'jupyter', 'notebook', 'setuptools', \n",
    "                         {'pip': ['pytest', 'nvidia-ml-py3', 'dataclasses', 'pandas', 'pyyaml']}]})\n",
    "test_eq(create_conda_yaml(cfg_name='test_settings.ini',dev=True),\n",
    "       {'name': 'fastrl_test_dev', 'channels': ['conda-forge', 'pytorch', 'fastai'], \n",
    "        'dependencies': ['python=3.6', 'pip', 'setuptools', 'fastai>=2.0.0', \n",
    "                         'moviepy', 'jupyter', 'notebook', 'setuptools', 'jupyterlab', \n",
    "                         'nbdev', 'ipywidgets', 'moviepy', 'pygifsicle', 'aquirdturtle_collapsible_headings', \n",
    "                         {'pip': ['pytest', 'nvidia-ml-py3', 'dataclasses', 'pandas', 'pyyaml']}]})"
   ]
  },
  {
   "cell_type": "code",
   "execution_count": null,
   "id": "coastal-playlist",
   "metadata": {},
   "outputs": [],
   "source": [
    "#|export\n",
    "def create_conda_yamls(also_dev:bool=True,cfg_name='settings.ini',sub_dir=''):\n",
    "    \"Creates conda env for normal and development environments.\"\n",
    "    c = get_config(cfg_name)\n",
    "    parent=c.config_path/Path(sub_dir) if sub_dir else c.config_path\n",
    "    parent.mkdir(parents=True,exist_ok=True)\n",
    "    for is_dev in ([False,True] if also_dev else [False]):\n",
    "        fname=(c.lib_name+f'{\"_dev\" if is_dev else \"\"}_env.yaml')\n",
    "        with open(parent/fname,'w') as f:\n",
    "            d=create_conda_yaml(cfg_name=cfg_name,dev=is_dev)\n",
    "            yaml.dump(d,f)"
   ]
  },
  {
   "cell_type": "code",
   "execution_count": null,
   "id": "blond-macintosh",
   "metadata": {},
   "outputs": [],
   "source": [
    "create_conda_yamls(cfg_name='test_settings.ini',sub_dir='testing')"
   ]
  },
  {
   "cell_type": "code",
   "execution_count": null,
   "id": "radical-walker",
   "metadata": {},
   "outputs": [
    {
     "name": "stdout",
     "output_type": "stream",
     "text": [
      "Object `testing/fastrl_test_env.yaml` not found.\n"
     ]
    },
    {
     "name": "stdout",
     "output_type": "stream",
     "text": [
      "\u001b[0mchannels\u001b[0m\u001b[0;34m:\u001b[0m\u001b[0;34m\u001b[0m\n",
      "\u001b[0;34m\u001b[0m\u001b[0;34m-\u001b[0m \u001b[0mconda\u001b[0m\u001b[0;34m-\u001b[0m\u001b[0mforge\u001b[0m\u001b[0;34m\u001b[0m\n",
      "\u001b[0;34m\u001b[0m\u001b[0;34m-\u001b[0m \u001b[0mpytorch\u001b[0m\u001b[0;34m\u001b[0m\n",
      "\u001b[0;34m\u001b[0m\u001b[0;34m-\u001b[0m \u001b[0mfastai\u001b[0m\u001b[0;34m\u001b[0m\n",
      "\u001b[0;34m\u001b[0m\u001b[0mdependencies\u001b[0m\u001b[0;34m:\u001b[0m\u001b[0;34m\u001b[0m\n",
      "\u001b[0;34m\u001b[0m\u001b[0;34m-\u001b[0m \u001b[0mpython\u001b[0m\u001b[0;34m=\u001b[0m\u001b[0;36m3.6\u001b[0m\u001b[0;34m\u001b[0m\n",
      "\u001b[0;34m\u001b[0m\u001b[0;34m-\u001b[0m \u001b[0mpip\u001b[0m\u001b[0;34m\u001b[0m\n",
      "\u001b[0;34m\u001b[0m\u001b[0;34m-\u001b[0m \u001b[0msetuptools\u001b[0m\u001b[0;34m\u001b[0m\n",
      "\u001b[0;34m\u001b[0m\u001b[0;34m-\u001b[0m \u001b[0mfastai\u001b[0m\u001b[0;34m>=\u001b[0m\u001b[0;36m2.0\u001b[0m\u001b[0;36m.0\u001b[0m\u001b[0;34m\u001b[0m\n",
      "\u001b[0;34m\u001b[0m\u001b[0;34m-\u001b[0m \u001b[0mmoviepy\u001b[0m\u001b[0;34m\u001b[0m\n",
      "\u001b[0;34m\u001b[0m\u001b[0;34m-\u001b[0m \u001b[0mjupyter\u001b[0m\u001b[0;34m\u001b[0m\n",
      "\u001b[0;34m\u001b[0m\u001b[0;34m-\u001b[0m \u001b[0mnotebook\u001b[0m\u001b[0;34m\u001b[0m\n",
      "\u001b[0;34m\u001b[0m\u001b[0;34m-\u001b[0m \u001b[0msetuptools\u001b[0m\u001b[0;34m\u001b[0m\n",
      "\u001b[0;34m\u001b[0m\u001b[0;34m-\u001b[0m \u001b[0mpip\u001b[0m\u001b[0;34m:\u001b[0m\u001b[0;34m\u001b[0m\n",
      "\u001b[0;34m\u001b[0m  \u001b[0;34m-\u001b[0m \u001b[0mpytest\u001b[0m\u001b[0;34m\u001b[0m\n",
      "\u001b[0;34m\u001b[0m  \u001b[0;34m-\u001b[0m \u001b[0mnvidia\u001b[0m\u001b[0;34m-\u001b[0m\u001b[0mml\u001b[0m\u001b[0;34m-\u001b[0m\u001b[0mpy3\u001b[0m\u001b[0;34m\u001b[0m\n",
      "\u001b[0;34m\u001b[0m  \u001b[0;34m-\u001b[0m \u001b[0mdataclasses\u001b[0m\u001b[0;34m\u001b[0m\n",
      "\u001b[0;34m\u001b[0m  \u001b[0;34m-\u001b[0m \u001b[0mpandas\u001b[0m\u001b[0;34m\u001b[0m\n",
      "\u001b[0;34m\u001b[0m  \u001b[0;34m-\u001b[0m \u001b[0mpyyaml\u001b[0m\u001b[0;34m\u001b[0m\n",
      "\u001b[0;34m\u001b[0m\u001b[0mname\u001b[0m\u001b[0;34m:\u001b[0m \u001b[0mfastrl_test\u001b[0m\u001b[0;34m\u001b[0m\u001b[0;34m\u001b[0m\u001b[0m\n"
     ]
    }
   ],
   "source": [
    "%pfile testing/fastrl_test_env.yaml"
   ]
  },
  {
   "cell_type": "code",
   "execution_count": null,
   "id": "later-communist",
   "metadata": {},
   "outputs": [],
   "source": [
    "create_conda_yamls(sub_dir='extra')"
   ]
  },
  {
   "cell_type": "code",
   "execution_count": null,
   "id": "tropical-secret",
   "metadata": {},
   "outputs": [],
   "source": [
    "%%bash\n",
    "rm test_settings.ini"
   ]
  },
  {
   "attachments": {},
   "cell_type": "markdown",
   "id": "10022356",
   "metadata": {},
   "source": [
    "## Blogging Extensions"
   ]
  },
  {
   "cell_type": "code",
   "execution_count": null,
   "id": "1f34cc55",
   "metadata": {},
   "outputs": [],
   "source": [
    "#|export\n",
    "def header(\n",
    "    # The main header title to display.\n",
    "    title: str,     \n",
    "    # The subtitle to display underneath the title. If None, no subtitle will be displayed.                \n",
    "    subtitle: Optional[str] = None, \n",
    "    # If True, the date associated with the header will be frozen, \n",
    "    # meaning it won't change in subsequent runs. \n",
    "    # If False, a new date will be generated each time the function is run,\n",
    "    # and the date will not be saved to file.\n",
    "    freeze: bool = False           \n",
    "):\n",
    "    \"\"\"\n",
    "    Function to generate a Markdown formatted header with an associated date.\n",
    "    Dates are auto-incremented and can be frozen. This function also controls the persistent storage of dates.\n",
    "    \"\"\"\n",
    "    filename = 'header_dates.json'\n",
    "    date = None\n",
    "    id:int = None\n",
    "\n",
    "    # Load or initialize date dictionary\n",
    "    if os.path.exists(filename):\n",
    "        with open(filename, 'r') as file:\n",
    "            dates = json.load(file)\n",
    "    else:\n",
    "        dates = {}\n",
    "\n",
    "    # Determine the id for the new entry\n",
    "    if freeze:\n",
    "        # If frozen, use the maximum id from the file, or 0 if the file is empty\n",
    "        id = max(dates.keys(), default=0)\n",
    "    else:\n",
    "        # If not frozen, increment the maximum id from the file, or use 0 if the file is empty\n",
    "        id = max(dates.keys(), default=-1) + 1\n",
    "\n",
    "    # Get or create the date\n",
    "    date = dates.get(id)\n",
    "    if date is None:\n",
    "        date = datetime.now().strftime('%Y-%m-%d')\n",
    "        dates[id] = date\n",
    "\n",
    "        # Only write to file if the date is frozen\n",
    "        if freeze:\n",
    "            with open(filename, 'w') as file:\n",
    "                json.dump(dates, file)\n",
    "\n",
    "    # Display the markdown\n",
    "    if subtitle is None:\n",
    "        display(Markdown(f\"# `{date}` **{title}**\"))\n",
    "    else:\n",
    "        display(Markdown(f\"# `{date}` **{title}**\\n> {subtitle}\"))\n"
   ]
  },
  {
   "cell_type": "code",
   "execution_count": null,
   "id": "012fb25e",
   "metadata": {},
   "outputs": [
    {
     "data": {
      "text/markdown": [
       "# `2023-05-29` **1**\n",
       "> Some custom message"
      ],
      "text/plain": [
       "<IPython.core.display.Markdown object>"
      ]
     },
     "metadata": {},
     "output_type": "display_data"
    }
   ],
   "source": [
    "header(1,\"Some custom message\",freeze=True)"
   ]
  },
  {
   "cell_type": "code",
   "execution_count": null,
   "id": "cd30dbe6",
   "metadata": {},
   "outputs": [],
   "source": [
    "rm header_dates.json"
   ]
  },
  {
   "cell_type": "code",
   "execution_count": null,
   "id": "ba601df3",
   "metadata": {},
   "outputs": [],
   "source": [
    "#|export\n",
    "@call_parse\n",
    "def create_blog_notebook() -> None: # Creates a new blog notebook from template\n",
    "    template = '99_blog.from_xxxx_xx_to_xx.ipynb'\n",
    "    new_name = datetime.now().strftime('99_blog.from_%Y_%m_to_now.ipynb')\n",
    "\n",
    "    # Check if the template file exists\n",
    "    if not os.path.exists(template):\n",
    "        raise FileNotFoundError(f\"Template file '{template}' not found in current directory.\")\n",
    "\n",
    "    # Rename old notebooks and update sidebar.yml\n",
    "    sidebar_file = '../sidebar.yml'\n",
    "    with open(sidebar_file, 'r') as f:\n",
    "        sidebar = yaml.safe_load(f)\n",
    "\n",
    "    blog_section = None\n",
    "    for section in sidebar['website']['sidebar']['contents']:\n",
    "        print(section)\n",
    "        if 'section' in section and section['section'] == 'Blog':\n",
    "            blog_section = section['contents']\n",
    "            break\n",
    "\n",
    "    # Rename old notebooks\n",
    "    for filename in os.listdir():\n",
    "        if filename.startswith('99_blog.from_') and filename.endswith('_to_now.ipynb'):\n",
    "            date_from = filename[13:20]  # corrected substring indexing\n",
    "            date_to = datetime.now().strftime('%Y_%m')\n",
    "            new_filename = f'99_blog.from_{date_from}_to_{date_to}.ipynb'\n",
    "            os.rename(filename, new_filename)\n",
    "\n",
    "            if blog_section is not None:\n",
    "                # Update sidebar.yml\n",
    "                old_entry = f'12_Blog/{filename}'\n",
    "                new_entry = f'12_Blog/{new_filename}'\n",
    "                if old_entry in blog_section:\n",
    "                    blog_section.remove(old_entry)\n",
    "                    blog_section.append(new_entry)\n",
    "\n",
    "    # Add new notebook to sidebar.yml\n",
    "    if f'12_Blog/{new_name}' not in blog_section:\n",
    "        blog_section.append(f'12_Blog/{new_name}')\n",
    "        \n",
    "        with open(sidebar_file, 'w') as f:\n",
    "            yaml.safe_dump(sidebar, f)\n",
    "\n",
    "    # Create new notebook from template\n",
    "    shutil.copy(template, new_name)"
   ]
  },
  {
   "cell_type": "code",
   "execution_count": null,
   "id": "given-annotation",
   "metadata": {},
   "outputs": [
    {
     "name": "stderr",
     "output_type": "stream",
     "text": [
      "/usr/local/lib/python3.8/dist-packages/nbdev/export.py:54: UserWarning: Notebook '/home/fastrl_user/fastrl/nbs/07_Agents/02_Continuous/12u_agents.ppo.ipynb' uses `#|export` without `#|default_exp` cell.\n",
      "Note nbdev2 no longer supports nbdev1 syntax. Run `nbdev_migrate` to upgrade.\n",
      "See https://nbdev.fast.ai/getting_started.html for more information.\n",
      "  warn(f\"Notebook '{nbname}' uses `#|export` without `#|default_exp` cell.\\n\"\n"
     ]
    }
   ],
   "source": [
    "#|hide\n",
    "#|eval: false\n",
    "from fastcore.imports import in_colab\n",
    "\n",
    "# Since colab still requires tornado<6, we don't want to import nbdev if we don't have to\n",
    "if not in_colab():\n",
    "    from nbdev import nbdev_export\n",
    "    nbdev_export()"
   ]
  },
  {
   "cell_type": "code",
   "execution_count": null,
   "id": "linear-conjunction",
   "metadata": {},
   "outputs": [],
   "source": []
  }
 ],
 "metadata": {
  "kernelspec": {
   "display_name": "python3",
   "language": "python",
   "name": "python3"
  }
 },
 "nbformat": 4,
 "nbformat_minor": 5
}
