{
 "cells": [
  {
   "cell_type": "code",
   "execution_count": null,
   "metadata": {},
   "outputs": [],
   "source": [
    "# default_exp actorcritic.dads"
   ]
  },
  {
   "cell_type": "code",
   "execution_count": null,
   "metadata": {},
   "outputs": [],
   "source": [
    "import os\n",
    "os.environ['CUDA_LAUNCH_BLOCKING'] = \"1\""
   ]
  },
  {
   "cell_type": "code",
   "execution_count": null,
   "metadata": {},
   "outputs": [
    {
     "name": "stderr",
     "output_type": "stream",
     "text": [
      "/opt/conda/envs/fastrl/lib/python3.7/site-packages/torch/cuda/__init__.py:52: UserWarning: CUDA initialization: CUDA unknown error - this may be due to an incorrectly set up environment, e.g. changing env variable CUDA_VISIBLE_DEVICES after program start. Setting the available devices to be zero. (Triggered internally at  /opt/conda/conda-bld/pytorch_1603729047590/work/c10/cuda/CUDAFunctions.cpp:100.)\n",
      "  return torch._C._cuda_getDeviceCount() > 0\n"
     ]
    }
   ],
   "source": [
    "#export\n",
    "import torch.nn.utils as nn_utils\n",
    "from fastai.torch_basics import *\n",
    "import torch.nn.functional as F\n",
    "from fastai.data.all import *\n",
    "from fastai.basics import *\n",
    "from dataclasses import field,asdict\n",
    "from typing import List,Any,Dict,Callable\n",
    "from collections import deque\n",
    "import gym\n",
    "import torch.multiprocessing as mp\n",
    "from torch.optim import *\n",
    "from dataclasses import dataclass\n",
    "\n",
    "from fastrl.data import *\n",
    "from fastrl.async_data import *\n",
    "from fastrl.basic_agents import *\n",
    "from fastrl.learner import *\n",
    "from fastrl.metrics import *\n",
    "from fastai.callback.progress import *\n",
    "from fastrl.ptan_extension import *\n",
    "from fastrl.actorcritic.sac import *\n",
    "from fastrl.actorcritic.diayn import *\n",
    "import gym\n",
    "from torch.distributions import *\n",
    "\n",
    "import matplotlib.pyplot as plt\n",
    "\n",
    "if IN_NOTEBOOK:\n",
    "    from IPython import display\n",
    "    import PIL.Image"
   ]
  },
  {
   "cell_type": "code",
   "execution_count": null,
   "metadata": {},
   "outputs": [],
   "source": [
    "# hide\n",
    "import matplotlib.pyplot as plt\n",
    "\n",
    "from nbdev.showdoc import *\n",
    "from nbdev.imports import *\n",
    "from nbdev.export2html import *\n",
    "if not os.environ.get(\"IN_TEST\", None):\n",
    "    assert IN_NOTEBOOK\n",
    "    assert not IN_COLAB\n",
    "    assert IN_IPYTHON"
   ]
  },
  {
   "cell_type": "markdown",
   "metadata": {},
   "source": [
    "# DADS\n",
    "\n",
    "> Dynamics-Aware Unsupervised Discovery of Skills"
   ]
  },
  {
   "cell_type": "markdown",
   "metadata": {},
   "source": [
    "> Warning: This is a partial-working version of DADS, HOWEVER a full implimentation will require a meta learner to be env agnostic. This is due to the planner needing to \n",
    "    know whether certain predicted states are more valuable than others so that it can select the right skill. Their implimenation uses GoalEnvs as opposed \n",
    "to regular envs which, is not very portable. I think after the refactor, I will use a DQN for DIAYN and DADS instead. \n",
    "I can have it so that if a goal env IS in fact being used, then it can ignore the meta learner and use the compute reward directly."
   ]
  },
  {
   "cell_type": "markdown",
   "metadata": {},
   "source": [
    "## GMM\n",
    "> A neural net with a gaussian probability distribution component."
   ]
  },
  {
   "cell_type": "markdown",
   "metadata": {},
   "source": [
    "Gaussian Mixture Models parameterized by neural nets can be used for:\n",
    "- Giving the probability that a given `state` + `action` will result in `next_state`\n",
    "- Predict what the `next_state` will look like given a `state` + `action`\n",
    "\n",
    "Hopefully from the list above, it is understandable *why* a GMM can be useful.\n",
    "Since it has a probabilistic component, you can avoid instances of (easily) overfitting. "
   ]
  },
  {
   "cell_type": "code",
   "execution_count": null,
   "metadata": {},
   "outputs": [],
   "source": [
    "# export \n",
    "class OptionalClampLinear(Module):\n",
    "    def __init__(self,num_inputs,state_dims,fix_variance:bool=False,\n",
    "                 clip_min=0.3,clip_max=10.0):\n",
    "        \"Linear layer or constant block used for std.\"\n",
    "        store_attr()\n",
    "        if not self.fix_variance: self.fc=nn.Linear(self.num_inputs,self.state_dims)\n",
    "    \n",
    "    def forward(self,x):\n",
    "        if self.fix_variance: return torch.full((x.shape[0],self.state_dims),1.0)\n",
    "        else:                 return torch.clamp(nn.Softplus()(self.fc(x)),self.clip_min,self.clip_max)\n",
    "\n",
    "class MultiCompGMM(Module):\n",
    "    def __init__(self,num_inputs,state_dims,n_components,fix_variance:bool=False):\n",
    "        \"Multi-component GMM parameterized by a fully connected layer with optional std layer.\"\n",
    "        store_attr()\n",
    "        self.logit_fc=nn.Linear(self.num_inputs,self.n_components)\n",
    "        self.mean_fcs=nn.ModuleList([nn.Linear(self.num_inputs,self.state_dims) \n",
    "                                     for _ in range(self.n_components)])\n",
    "        self.std_fcs=nn.ModuleList([OptionalClampLinear(self.num_inputs,self.state_dims,fix_variance) \n",
    "                                    for _ in range(self.n_components)])\n",
    "        self.means,self.logits,self.stds=[],[],[]\n",
    "    \n",
    "    def forward(self,x):\n",
    "        self.means=torch.stack([o(x) for o in self.mean_fcs],dim=1)\n",
    "        self.stds=torch.stack([o(x) for o in self.std_fcs],dim=1)\n",
    "        self.logits=self.logit_fc(x)\n",
    "        return MixtureSameFamily(\n",
    "            mixture_distribution=Categorical(self.logits),\n",
    "            component_distribution=Independent(Normal(self.means,self.stds),1)\n",
    "        )\n",
    "    \n",
    "class SimpleGMM(Module):\n",
    "    def __init__(self,num_inputs,state_dims,fix_variance:bool=False):\n",
    "        \"Single-component GMM parameterized by a fully connected layer with optional std layer.\"\n",
    "        store_attr()\n",
    "        self.mean_fc=nn.Linear(self.num_inputs,self.state_dims)\n",
    "        self.std_fc=OptionalClampLinear(self.num_inputs,self.state_dims,fix_variance)\n",
    "        \n",
    "    def forward(self,x): return Independent(Normal(self.mean_fc(x),self.std_fc(x)),1)\n",
    "\n",
    "class GMM(Module):\n",
    "    def __init__(self,num_inputs,state_dims,n_components,fix_variance:bool=False):\n",
    "        \"N-component GMM parameterized by fully connected layers with optional std layers.\"\n",
    "        store_attr()\n",
    "        if self.n_components>1: self.distribution=MultiCompGMM(num_inputs,state_dims,n_components,fix_variance)\n",
    "        else:                   self.distribution=SimpleGMM(num_inputs,state_dims,fix_variance)\n",
    "        \n",
    "    def forward(self,x): return self.distribution(x)"
   ]
  },
  {
   "cell_type": "markdown",
   "metadata": {},
   "source": [
    "The GMM is going to try to predict the next state. So lets make a simple input to optimize against.\n",
    "This test will be of a hot airballoon. Lets see if we can have a reasonable next state prediction."
   ]
  },
  {
   "cell_type": "code",
   "execution_count": null,
   "metadata": {},
   "outputs": [
    {
     "data": {
      "image/png": "[encoded data removed]",
      "text/plain": [
       "<Figure size 432x288 with 1 Axes>"
      ]
     },
     "metadata": {
      "needs_background": "light"
     },
     "output_type": "display_data"
    }
   ],
   "source": [
    "hot_air_ballon_start_states=torch.rand((5,1))\n",
    "hot_air_ballon_start_actions=torch.rand((5,1))-0.5\n",
    "hot_air_ballon_next_states=hot_air_ballon_start_states+hot_air_ballon_start_actions\n",
    "\n",
    "plt.plot(hot_air_ballon_start_states.numpy(),label='Starting Step')\n",
    "plt.plot(hot_air_ballon_start_actions.numpy(),label='Action')\n",
    "plt.plot(hot_air_ballon_next_states.numpy(),label='Resulting Step')\n",
    "plt.legend()\n",
    "plt.show()"
   ]
  },
  {
   "cell_type": "code",
   "execution_count": null,
   "metadata": {},
   "outputs": [],
   "source": [
    "gmm=GMM(2,1,2,fix_variance=False)\n",
    "opt=Adam(gmm.parameters(),lr=3e-4)"
   ]
  },
  {
   "cell_type": "markdown",
   "metadata": {},
   "source": [
    "First, lets see if the GMM can predict the next state accurately..."
   ]
  },
  {
   "cell_type": "code",
   "execution_count": null,
   "metadata": {},
   "outputs": [
    {
     "data": {
      "text/plain": [
       "tensor([[ 0.5577],\n",
       "        [ 1.6318],\n",
       "        [-0.7048],\n",
       "        [ 0.0216],\n",
       "        [-0.0761]], grad_fn=<AddBackward0>)"
      ]
     },
     "execution_count": null,
     "metadata": {},
     "output_type": "execute_result"
    }
   ],
   "source": [
    "x=torch.hstack([hot_air_ballon_start_states,hot_air_ballon_start_actions])\n",
    "dist=gmm(x)\n",
    "hot_air_ballon_start_states+dist.mean"
   ]
  },
  {
   "cell_type": "raw",
   "metadata": {},
   "source": [
    "versus..."
   ]
  },
  {
   "cell_type": "code",
   "execution_count": null,
   "metadata": {},
   "outputs": [
    {
     "data": {
      "text/plain": [
       "tensor([[ 0.9418],\n",
       "        [ 0.5359],\n",
       "        [-0.2236],\n",
       "        [ 0.3188],\n",
       "        [ 0.4147]])"
      ]
     },
     "execution_count": null,
     "metadata": {},
     "output_type": "execute_result"
    }
   ],
   "source": [
    "hot_air_ballon_next_states"
   ]
  },
  {
   "cell_type": "markdown",
   "metadata": {},
   "source": [
    "Yeah the GMM is way off...\n",
    "So lets first see if we can get it to optimize to predict a next state..."
   ]
  },
  {
   "cell_type": "code",
   "execution_count": null,
   "metadata": {},
   "outputs": [
    {
     "name": "stdout",
     "output_type": "stream",
     "text": [
      "tensor(0.6004, grad_fn=<NegBackward>) tensor(-0.6004, grad_fn=<MeanBackward0>)\n",
      "tensor(0.1176, grad_fn=<NegBackward>) tensor(-0.1176, grad_fn=<MeanBackward0>)\n",
      "tensor(-0.2016, grad_fn=<NegBackward>) tensor(0.2016, grad_fn=<MeanBackward0>)\n",
      "tensor(-0.2783, grad_fn=<NegBackward>) tensor(0.2783, grad_fn=<MeanBackward0>)\n",
      "tensor(-0.2847, grad_fn=<NegBackward>) tensor(0.2847, grad_fn=<MeanBackward0>)\n"
     ]
    }
   ],
   "source": [
    "next_timesteps=hot_air_ballon_next_states-hot_air_ballon_start_states    \n",
    "x=torch.hstack([hot_air_ballon_start_states,hot_air_ballon_start_actions])\n",
    "\n",
    "for step in range(5000):\n",
    "    dist=gmm(x)\n",
    "\n",
    "    opt.zero_grad()\n",
    "    loss=-torch.mean(dist.log_prob(next_timesteps))\n",
    "    loss.backward()\n",
    "    if step%1000==0:print(loss,torch.mean(dist.log_prob(next_timesteps)))\n",
    "    opt.step()"
   ]
  },
  {
   "cell_type": "code",
   "execution_count": null,
   "metadata": {},
   "outputs": [
    {
     "data": {
      "text/plain": [
       "tensor([[ 0.9408],\n",
       "        [ 2.9151],\n",
       "        [-0.5615],\n",
       "        [ 0.5469],\n",
       "        [ 0.4190]], grad_fn=<AddBackward0>)"
      ]
     },
     "execution_count": null,
     "metadata": {},
     "output_type": "execute_result"
    }
   ],
   "source": [
    "x=torch.hstack([hot_air_ballon_start_states,hot_air_ballon_start_actions])\n",
    "dist=gmm(x)\n",
    "hot_air_ballon_start_states+dist.mean"
   ]
  },
  {
   "cell_type": "code",
   "execution_count": null,
   "metadata": {},
   "outputs": [
    {
     "data": {
      "text/plain": [
       "tensor([[ 0.9418],\n",
       "        [ 0.5359],\n",
       "        [-0.2236],\n",
       "        [ 0.3188],\n",
       "        [ 0.4147]])"
      ]
     },
     "execution_count": null,
     "metadata": {},
     "output_type": "execute_result"
    }
   ],
   "source": [
    "hot_air_ballon_next_states"
   ]
  },
  {
   "cell_type": "markdown",
   "metadata": {},
   "source": [
    "This is much better, the GMM is making a better prediction of what the next state is going to be..."
   ]
  },
  {
   "cell_type": "markdown",
   "metadata": {},
   "source": [
    "## Skill Dynamics\n",
    "> Now that we have a working GMM, we need a way to modify our input data to be useful for the DADS agent."
   ]
  },
  {
   "cell_type": "code",
   "execution_count": null,
   "metadata": {},
   "outputs": [],
   "source": [
    "# export\n",
    "class SkillDynamics(Module):\n",
    "    def __init__(self,s_dim,a_dim,n_components,fix_variance:bool=False,\n",
    "                 use_model_mean:bool=None,use_batch_norm:bool=True,fc_params:tuple=None):\n",
    "        store_attr(but='fc_params,use_model_mean')\n",
    "        self.fc_params=ifnone(fc_params,(256,256))\n",
    "        self.use_model_mean=ifnone(use_model_mean,n_components>1)\n",
    "        if self.use_batch_norm:\n",
    "            self.s_bn,self.sp_bn=nn.BatchNorm1d(s_dim),nn.BatchNorm1d(s_dim)\n",
    "        self.fcs=nn.Sequential(*[nn.Linear((s_dim+a_dim) if i==0 else self.fc_params[i-1],p) \n",
    "                                for i,p in enumerate(self.fc_params)])\n",
    "        \n",
    "        self.gmm=GMM(self.fc_params[-1],s_dim,n_components,fix_variance)\n",
    "        \n",
    "    def forward(self,s,a,sp=None,training=True):\n",
    "        \"Returns the `GMM` distribution of `s` and `a`, mean, and **optionally** \"\\\n",
    "        \"log(p) of the state transition between `s` and `sp` if `sp` is not None.\"\n",
    "        if sp is not None: sp=sp-s\n",
    "        if not training: self.eval()\n",
    "            \n",
    "        if self.use_batch_norm:\n",
    "            s=self.s_bn(s)\n",
    "            if sp is not None: sp=self.sp_bn(sp)\n",
    "            \n",
    "        sa=torch.hstack([s,a])\n",
    "        \n",
    "        x=self.fcs(sa)\n",
    "        \n",
    "        dist=self.gmm(x)\n",
    "        self.train()\n",
    "        return dist,(sp if sp is None else dist.log_prob(sp))\n",
    "    \n",
    "    def log_prob(self,s,a,sp): return self(s,a,sp,training=False)[1]\n",
    "\n",
    "    def predict_state(self,s,a):\n",
    "        \"Returns the predicted state that `s` and `a` will result in.\"\n",
    "        dist,_=self(s,a,training=False)\n",
    "        if self.use_model_mean:\n",
    "            means,idx=dist.component_distribution.mean,torch.argmax(dist.mixture_distribution.logits,dim=1)\n",
    "            pred_s=means[[torch.arange(means.shape[0]),idx]]\n",
    "        else:\n",
    "            pred_s=dist.mean\n",
    "            \n",
    "        if self.use_batch_norm:\n",
    "            pred_s=pred_s*(self.sp_bn.running_var+1e-3).sqrt()+self.sp_bn.running_mean\n",
    "        \n",
    "        pred_s+=s\n",
    "        return pred_s"
   ]
  },
  {
   "cell_type": "markdown",
   "metadata": {},
   "source": [
    "The `SkillDynamics` module is actually pretty simple. It is tasked with getting the mean and log probability from the `GMM` and providing a convenient way to get a predicted state. It additionaly has the capability of batch normalization, noise, and input shuffling.\n",
    "\n",
    "Going back to our hot air balloon example, lets feed the states, actions, and resulting states into it..."
   ]
  },
  {
   "cell_type": "code",
   "execution_count": null,
   "metadata": {},
   "outputs": [],
   "source": [
    "skill_dyn=SkillDynamics(1,1,2,fix_variance=False,use_batch_norm=False)\n",
    "opt=Adam(skill_dyn.parameters(),lr=3e-4)"
   ]
  },
  {
   "cell_type": "code",
   "execution_count": null,
   "metadata": {},
   "outputs": [
    {
     "data": {
      "text/plain": [
       "SkillDynamics(\n",
       "  (fcs): Sequential(\n",
       "    (0): Linear(in_features=2, out_features=256, bias=True)\n",
       "    (1): Linear(in_features=256, out_features=256, bias=True)\n",
       "  )\n",
       "  (gmm): GMM(\n",
       "    (distribution): MultiCompGMM(\n",
       "      (logit_fc): Linear(in_features=256, out_features=2, bias=True)\n",
       "      (mean_fcs): ModuleList(\n",
       "        (0): Linear(in_features=256, out_features=1, bias=True)\n",
       "        (1): Linear(in_features=256, out_features=1, bias=True)\n",
       "      )\n",
       "      (std_fcs): ModuleList(\n",
       "        (0): OptionalClampLinear(\n",
       "          (fc): Linear(in_features=256, out_features=1, bias=True)\n",
       "        )\n",
       "        (1): OptionalClampLinear(\n",
       "          (fc): Linear(in_features=256, out_features=1, bias=True)\n",
       "        )\n",
       "      )\n",
       "    )\n",
       "  )\n",
       ")"
      ]
     },
     "execution_count": null,
     "metadata": {},
     "output_type": "execute_result"
    }
   ],
   "source": [
    "skill_dyn"
   ]
  },
  {
   "cell_type": "markdown",
   "metadata": {},
   "source": [
    "Lets do a regular feed through and look at the output of our `SkillDynamics` instance."
   ]
  },
  {
   "cell_type": "code",
   "execution_count": null,
   "metadata": {},
   "outputs": [
    {
     "data": {
      "text/plain": [
       "(MixtureSameFamily(\n",
       "   Categorical(probs: torch.Size([5, 2]), logits: torch.Size([5, 2])),\n",
       "   Independent(Normal(loc: torch.Size([5, 2, 1]), scale: torch.Size([5, 2, 1])), 1)),\n",
       " tensor([-0.6008, -0.7213, -0.5231, -0.7284, -0.5756],\n",
       "        grad_fn=<LogsumexpBackward>))"
      ]
     },
     "execution_count": null,
     "metadata": {},
     "output_type": "execute_result"
    }
   ],
   "source": [
    "skill_dyn(hot_air_ballon_start_states,hot_air_ballon_start_actions,\n",
    "                           hot_air_ballon_next_states)"
   ]
  },
  {
   "cell_type": "markdown",
   "metadata": {},
   "source": [
    "We have 3 components: `dist`, `mean`, and `log_prob`.\\\n",
    "`dist` lets the user do more advanced operations with the results.\\\n",
    "`mean` will always return since at minimum `s` and `a` need to be passed in.\\\n",
    "`log_prob` can be returned if `sp` is not None.\n",
    "\n",
    "The most immediately useful result is `log_prob` since it can be used for operations that need to know *what is the probability of this state occuring.*\n",
    "\n",
    "However, like we said earlier, `dist` is returned because we might want to do more advanced operations. For example `predict_state`..."
   ]
  },
  {
   "cell_type": "code",
   "execution_count": null,
   "metadata": {},
   "outputs": [
    {
     "data": {
      "text/plain": [
       "('Prediction:',\n",
       " tensor([[ 0.5668],\n",
       "         [ 0.0963],\n",
       "         [-0.1007],\n",
       "         [-0.1085],\n",
       "         [ 0.1359]], grad_fn=<AddBackward0>),\n",
       " 'Actual',\n",
       " tensor([[ 0.9418],\n",
       "         [ 0.5359],\n",
       "         [-0.2236],\n",
       "         [ 0.3188],\n",
       "         [ 0.4147]]))"
      ]
     },
     "execution_count": null,
     "metadata": {},
     "output_type": "execute_result"
    }
   ],
   "source": [
    "'Prediction:',\\\n",
    "skill_dyn.predict_state(hot_air_ballon_start_states,hot_air_ballon_start_actions),\\\n",
    "'Actual',\\\n",
    "hot_air_ballon_next_states"
   ]
  },
  {
   "cell_type": "markdown",
   "metadata": {},
   "source": [
    "This state prediction seems terrible! Obviously, we need to train `skill_dyn` so this is more accurate. You may notice the number of steps is 100 as opposed to 5000! This is because we are actually feeding a linear layer's output into the `GMM` as opposed to the `s+a` tensor directly. This is called a `latent space`, and these have friendlier values for the `GMM` to learn against. You will also see later that the results are a little more accurate also."
   ]
  },
  {
   "cell_type": "code",
   "execution_count": null,
   "metadata": {},
   "outputs": [
    {
     "name": "stdout",
     "output_type": "stream",
     "text": [
      "tensor(0.6298, grad_fn=<NegBackward>) tensor(0.2850, grad_fn=<MeanBackward0>)\n",
      "tensor(-0.2764, grad_fn=<NegBackward>) tensor(0.2850, grad_fn=<MeanBackward0>)\n",
      "tensor(-0.2832, grad_fn=<NegBackward>) tensor(0.2850, grad_fn=<MeanBackward0>)\n",
      "tensor(-0.2848, grad_fn=<NegBackward>) tensor(0.2850, grad_fn=<MeanBackward0>)\n",
      "tensor(-0.2850, grad_fn=<NegBackward>) tensor(0.2850, grad_fn=<MeanBackward0>)\n"
     ]
    }
   ],
   "source": [
    "def train(steps=100,print_every=20):\n",
    "    skill_dyn.train()\n",
    "    for step in range(steps):\n",
    "        _,log_prob=skill_dyn(hot_air_ballon_start_states,hot_air_ballon_start_actions,\n",
    "                       hot_air_ballon_next_states)\n",
    "\n",
    "        opt.zero_grad()\n",
    "        loss=-torch.mean(log_prob)\n",
    "        loss.backward()\n",
    "        if step%print_every==0:print(loss,torch.mean(dist.log_prob(next_timesteps)))\n",
    "        opt.step()\n",
    "    skill_dyn.eval()\n",
    "train()"
   ]
  },
  {
   "cell_type": "code",
   "execution_count": null,
   "metadata": {},
   "outputs": [
    {
     "data": {
      "text/plain": [
       "('Prediction:',\n",
       " tensor([[ 0.9420],\n",
       "         [ 0.5352],\n",
       "         [-0.2225],\n",
       "         [ 0.3178],\n",
       "         [ 0.4147]], grad_fn=<AddBackward0>),\n",
       " 'Actual',\n",
       " tensor([[ 0.9418],\n",
       "         [ 0.5359],\n",
       "         [-0.2236],\n",
       "         [ 0.3188],\n",
       "         [ 0.4147]]))"
      ]
     },
     "execution_count": null,
     "metadata": {},
     "output_type": "execute_result"
    }
   ],
   "source": [
    "'Prediction:',\\\n",
    "skill_dyn.predict_state(hot_air_ballon_start_states,hot_air_ballon_start_actions),\\\n",
    "'Actual',\\\n",
    "hot_air_ballon_next_states"
   ]
  },
  {
   "cell_type": "markdown",
   "metadata": {},
   "source": [
    "Much better! It is ok they are not exact, we want `SkillDynamics` to have a general idea on how current states and their actions can cause the state to change.\n",
    "\n",
    "But here is a small wrench in the works. You will notice that the state spaces we are feeding into the model have values [-1, 1] which are nice and friendly to train our model on but also **highly unrealistic in the real world**. We will likely see values [-10,1000] possibly. Can we train on these? Let's convert our ballon problem into meters. We don't need to worry about actions because the values of actions are usually *within our control*."
   ]
  },
  {
   "cell_type": "code",
   "execution_count": null,
   "metadata": {},
   "outputs": [
    {
     "data": {
      "image/png": "[encoded data removed]",
      "text/plain": [
       "<Figure size 432x288 with 1 Axes>"
      ]
     },
     "metadata": {
      "needs_background": "light"
     },
     "output_type": "display_data"
    }
   ],
   "source": [
    "hot_air_ballon_start_states=torch.rand((5,1))*100\n",
    "hot_air_ballon_start_actions=torch.rand((5,1))-0.5\n",
    "hot_air_ballon_next_states=hot_air_ballon_start_states+hot_air_ballon_start_actions*100\n",
    "\n",
    "plt.plot(hot_air_ballon_start_states.numpy(),label='Starting Step')\n",
    "plt.plot(hot_air_ballon_start_actions.numpy()*100,label='Action')\n",
    "plt.plot(hot_air_ballon_next_states.numpy(),label='Resulting Step')\n",
    "plt.legend()\n",
    "plt.show()"
   ]
  },
  {
   "cell_type": "markdown",
   "metadata": {},
   "source": [
    "These are much bigger values... Training a model on these without normalzing can be very hard. \n",
    "The worst part is that in order to normalize something like states,\n",
    "you would need to know *what is the absolute minimum and maximum this state will ever be*. This is a general problem in RL because when the agent is first\n",
    "starting the states might start small, such as being newer the origin 0,0, but everntually as the agent gets better it starts to get to states like -20,100.\n",
    "Our model needs to convert these into nice [0,1] or [-1,1] values.\n",
    "\n",
    "So first, lets see if we can even learn anything without batch norm..."
   ]
  },
  {
   "cell_type": "code",
   "execution_count": null,
   "metadata": {},
   "outputs": [
    {
     "data": {
      "text/plain": [
       "('Prediction:',\n",
       " tensor([[43.4535],\n",
       "         [43.6629],\n",
       "         [ 9.4961],\n",
       "         [29.2001],\n",
       "         [72.0843]], grad_fn=<AddBackward0>),\n",
       " 'Actual',\n",
       " tensor([[ -2.8968],\n",
       "         [ 58.4662],\n",
       "         [  0.5869],\n",
       "         [ 68.1590],\n",
       "         [102.4890]]))"
      ]
     },
     "execution_count": null,
     "metadata": {},
     "output_type": "execute_result"
    }
   ],
   "source": [
    "skill_dyn=SkillDynamics(1,1,2,fix_variance=False,use_batch_norm=False)\n",
    "opt=Adam(skill_dyn.parameters(),lr=3e-4)\n",
    "'Prediction:',\\\n",
    "skill_dyn.predict_state(hot_air_ballon_start_states,hot_air_ballon_start_actions),\\\n",
    "'Actual',\\\n",
    "hot_air_ballon_next_states"
   ]
  },
  {
   "cell_type": "code",
   "execution_count": null,
   "metadata": {},
   "outputs": [
    {
     "name": "stdout",
     "output_type": "stream",
     "text": [
      "tensor(5003.8320, grad_fn=<NegBackward>) tensor(0.2850, grad_fn=<MeanBackward0>)\n",
      "tensor(12.0101, grad_fn=<NegBackward>) tensor(0.2850, grad_fn=<MeanBackward0>)\n",
      "tensor(11.0967, grad_fn=<NegBackward>) tensor(0.2850, grad_fn=<MeanBackward0>)\n",
      "tensor(10.1336, grad_fn=<NegBackward>) tensor(0.2850, grad_fn=<MeanBackward0>)\n",
      "tensor(9.3372, grad_fn=<NegBackward>) tensor(0.2850, grad_fn=<MeanBackward0>)\n",
      "tensor(8.7437, grad_fn=<NegBackward>) tensor(0.2850, grad_fn=<MeanBackward0>)\n"
     ]
    }
   ],
   "source": [
    "train(300,50)"
   ]
  },
  {
   "cell_type": "code",
   "execution_count": null,
   "metadata": {},
   "outputs": [
    {
     "data": {
      "text/plain": [
       "('Prediction:',\n",
       " tensor([[ 62.1747],\n",
       "         [ 62.4905],\n",
       "         [ 13.6204],\n",
       "         [ 41.8130],\n",
       "         [103.1418]], grad_fn=<AddBackward0>),\n",
       " 'Actual',\n",
       " tensor([[ -2.8968],\n",
       "         [ 58.4662],\n",
       "         [  0.5869],\n",
       "         [ 68.1590],\n",
       "         [102.4890]]))"
      ]
     },
     "execution_count": null,
     "metadata": {},
     "output_type": "execute_result"
    }
   ],
   "source": [
    "'Prediction:',\\\n",
    "skill_dyn.predict_state(hot_air_ballon_start_states,hot_air_ballon_start_actions),\\\n",
    "'Actual',\\\n",
    "hot_air_ballon_next_states"
   ]
  },
  {
   "cell_type": "markdown",
   "metadata": {},
   "source": [
    "Hm... It's diffinitely not amazing. The worst part is that this will likely be made worst with larger and differing batches. Lets see if using batch norm makes this better..."
   ]
  },
  {
   "cell_type": "code",
   "execution_count": null,
   "metadata": {},
   "outputs": [
    {
     "data": {
      "text/plain": [
       "('Prediction:',\n",
       " tensor([[50.2478],\n",
       "         [50.4456],\n",
       "         [11.1089],\n",
       "         [33.7702],\n",
       "         [83.1706]], grad_fn=<AddBackward0>),\n",
       " 'Actual',\n",
       " tensor([[ -2.8968],\n",
       "         [ 58.4662],\n",
       "         [  0.5869],\n",
       "         [ 68.1590],\n",
       "         [102.4890]]))"
      ]
     },
     "execution_count": null,
     "metadata": {},
     "output_type": "execute_result"
    }
   ],
   "source": [
    "skill_dyn=SkillDynamics(1,1,2,fix_variance=False,use_batch_norm=True)\n",
    "opt=Adam(skill_dyn.parameters(),lr=3e-4)\n",
    "'Prediction:',\\\n",
    "skill_dyn.predict_state(hot_air_ballon_start_states,hot_air_ballon_start_actions),\\\n",
    "'Actual',\\\n",
    "hot_air_ballon_next_states"
   ]
  },
  {
   "cell_type": "code",
   "execution_count": null,
   "metadata": {},
   "outputs": [
    {
     "name": "stdout",
     "output_type": "stream",
     "text": [
      "tensor(1.5489, grad_fn=<NegBackward>) tensor(0.2850, grad_fn=<MeanBackward0>)\n",
      "tensor(-0.2800, grad_fn=<NegBackward>) tensor(0.2850, grad_fn=<MeanBackward0>)\n",
      "tensor(-0.2850, grad_fn=<NegBackward>) tensor(0.2850, grad_fn=<MeanBackward0>)\n",
      "tensor(-0.2850, grad_fn=<NegBackward>) tensor(0.2850, grad_fn=<MeanBackward0>)\n",
      "tensor(-0.2850, grad_fn=<NegBackward>) tensor(0.2850, grad_fn=<MeanBackward0>)\n",
      "tensor(-0.2850, grad_fn=<NegBackward>) tensor(0.2850, grad_fn=<MeanBackward0>)\n"
     ]
    }
   ],
   "source": [
    "train(300,50)"
   ]
  },
  {
   "cell_type": "code",
   "execution_count": null,
   "metadata": {},
   "outputs": [
    {
     "data": {
      "text/plain": [
       "('Prediction:',\n",
       " tensor([[ -8.5025],\n",
       "         [ 59.4843],\n",
       "         [ -0.7764],\n",
       "         [ 71.8733],\n",
       "         [105.0412]], grad_fn=<AddBackward0>),\n",
       " 'Actual',\n",
       " tensor([[ -2.8968],\n",
       "         [ 58.4662],\n",
       "         [  0.5869],\n",
       "         [ 68.1590],\n",
       "         [102.4890]]))"
      ]
     },
     "execution_count": null,
     "metadata": {},
     "output_type": "execute_result"
    }
   ],
   "source": [
    "'Prediction:',\\\n",
    "skill_dyn.predict_state(hot_air_ballon_start_states,hot_air_ballon_start_actions),\\\n",
    "'Actual',\\\n",
    "hot_air_ballon_next_states"
   ]
  },
  {
   "cell_type": "markdown",
   "metadata": {},
   "source": [
    "Great! It seems that batch norm makes `SkillDynamics` compatible with state space inputs of varying values \n",
    "that will addapt as the agent explores its environment."
   ]
  },
  {
   "cell_type": "markdown",
   "metadata": {},
   "source": [
    "## DADS Agent\n",
    "\n",
    "Some important notes...\n",
    "\n",
    "Earlier `SkillDynamics` had:\n",
    "```python\n",
    "SkillDynamics(s_dim=1,a_dim=1,n_components=2)\n",
    "```\n",
    "where `a_dim` was the action dimension. In reality this is the **skill** dimension. You could say that if `a_dim` is being fed raw actions, then `SkillDynamics` should be renamed `ActionDynamics`.\n",
    "\n",
    "However, you will see in `DADS`, that the `SkillDynamics` is always fed the skills as opposed to the primitive actions."
   ]
  },
  {
   "cell_type": "markdown",
   "metadata": {},
   "source": [
    "### Marginalization methods\n",
    "> Ways of calculating the denominator.\n",
    "\n",
    "A good reference is [Probability concepts explained: Marginalisation](https://towardsdatascience.com/probability-concepts-explained-marginalisation-2296846344fc). We need to calculate the intrinsic reward whose primary goal is to say:\n",
    "- Did this skill produce predictable results? If so, let's reward it for doing so!\n",
    "\n",
    "The actual math from the [Dynamics-Aware Unsupervised Discovery of Skills](https://arxiv.org/abs/1907.01657) for intrinsic reward:"
   ]
  },
  {
   "cell_type": "markdown",
   "metadata": {},
   "source": [
    "<h5><center>\n",
    "$r_z(s,a,s')=\\log{\\frac{q_{\\phi}(s' \\mid s,z)}{\\sum_{i=1}^L q_{\\phi}(s' \\mid s,z_i)}}+\\log{L},~~ z_i \\sim p(z)$\n",
    "</center></h5>"
   ]
  },
  {
   "cell_type": "markdown",
   "metadata": {},
   "source": [
    "The first part of getting the intrinsic reward is getting the denominator:\n",
    "$\\sum_{i=1}^L q_{\\phi}(s' \\mid s,z_i)$ which is going to be the *all other possible skills*."
   ]
  },
  {
   "cell_type": "code",
   "execution_count": null,
   "metadata": {},
   "outputs": [],
   "source": [
    "# export\n",
    "def discrete_uniform(current_skill,latent_sz:int=2,alt_s:Tensor=None,deterministic:bool=False):\n",
    "    \"Returns a uniform discrete distribution.\"\n",
    "    if deterministic: \n",
    "        return torch.cat([torch.roll(current_skill,i,dims=1) for i in range(1,alt_s.shape[0])])\n",
    "    return Multinomial(1,probs=Tensor([1./latent_sz]*latent_sz)).sample_n(alt_s.shape[0])"
   ]
  },
  {
   "cell_type": "code",
   "execution_count": null,
   "metadata": {},
   "outputs": [],
   "source": [
    "skill_size=5 # Skill \n",
    "alt_s=torch.ones((5,3))\n",
    "current_skill=Tensor([[0,0,0,1,0]])"
   ]
  },
  {
   "cell_type": "markdown",
   "metadata": {},
   "source": [
    "We have the current skill that was used..."
   ]
  },
  {
   "cell_type": "code",
   "execution_count": null,
   "metadata": {},
   "outputs": [
    {
     "data": {
      "text/plain": [
       "tensor([[0., 0., 0., 1., 0.]])"
      ]
     },
     "execution_count": null,
     "metadata": {},
     "output_type": "execute_result"
    }
   ],
   "source": [
    "current_skill"
   ]
  },
  {
   "cell_type": "markdown",
   "metadata": {},
   "source": [
    "...and so the other skills to compare it with are..."
   ]
  },
  {
   "cell_type": "code",
   "execution_count": null,
   "metadata": {},
   "outputs": [
    {
     "data": {
      "text/plain": [
       "tensor([[0., 0., 0., 0., 1.],\n",
       "        [1., 0., 0., 0., 0.],\n",
       "        [0., 1., 0., 0., 0.],\n",
       "        [0., 0., 1., 0., 0.]])"
      ]
     },
     "execution_count": null,
     "metadata": {},
     "output_type": "execute_result"
    }
   ],
   "source": [
    "discrete_uniform(current_skill,latent_sz=skill_size,alt_s=alt_s,deterministic=True)"
   ]
  },
  {
   "cell_type": "markdown",
   "metadata": {},
   "source": [
    "... but this isn't very random is it? It just rolling them so let's add some random\n",
    "alternative skills to look at..."
   ]
  },
  {
   "cell_type": "code",
   "execution_count": null,
   "metadata": {},
   "outputs": [
    {
     "name": "stderr",
     "output_type": "stream",
     "text": [
      "/opt/conda/envs/fastrl/lib/python3.7/site-packages/torch/distributions/distribution.py:134: UserWarning: sample_n will be deprecated. Use .sample((n,)) instead\n",
      "  warnings.warn('sample_n will be deprecated. Use .sample((n,)) instead', UserWarning)\n"
     ]
    },
    {
     "data": {
      "text/plain": [
       "tensor([[0., 0., 1., 0., 0.],\n",
       "        [0., 0., 1., 0., 0.],\n",
       "        [0., 0., 0., 0., 1.],\n",
       "        [0., 0., 0., 0., 1.],\n",
       "        [1., 0., 0., 0., 0.]])"
      ]
     },
     "execution_count": null,
     "metadata": {},
     "output_type": "execute_result"
    }
   ],
   "source": [
    "discrete_uniform(current_skill,latent_sz=skill_size,alt_s=alt_s)"
   ]
  },
  {
   "cell_type": "markdown",
   "metadata": {},
   "source": [
    "But you may ask, what if the skill is continuous? For example:"
   ]
  },
  {
   "cell_type": "code",
   "execution_count": null,
   "metadata": {},
   "outputs": [
    {
     "data": {
      "text/plain": [
       "tensor([[0.1000, 0.2000, 0.2000, 0.3000, 0.2000]])"
      ]
     },
     "execution_count": null,
     "metadata": {},
     "output_type": "execute_result"
    }
   ],
   "source": [
    "current_skill=Tensor([[0.1,0.2,0.2,0.3,0.2]]);current_skill"
   ]
  },
  {
   "cell_type": "markdown",
   "metadata": {},
   "source": [
    "Well then we have a few other disributions to sample instead!"
   ]
  },
  {
   "cell_type": "code",
   "execution_count": null,
   "metadata": {},
   "outputs": [],
   "source": [
    "# hide\n",
    "def show2d(t:Tensor): \n",
    "    plt.imshow(t.numpy(), cmap='hot', interpolation='nearest')\n",
    "    plt.show()\n",
    "#     plt.colorbar()"
   ]
  },
  {
   "cell_type": "code",
   "execution_count": null,
   "metadata": {},
   "outputs": [],
   "source": [
    "# export\n",
    "def cont_gaussian(sz:int,alt_s:Tensor):\n",
    "    \"Returns a continuous guassian distribution of size `sz`\"\n",
    "    return MultivariateNormal(torch.zeros(sz),torch.eye(sz)).sample_n(alt_s.shape[0])"
   ]
  },
  {
   "cell_type": "code",
   "execution_count": null,
   "metadata": {},
   "outputs": [
    {
     "data": {
      "text/plain": [
       "tensor([[-0.8993,  0.8411, -1.3920, -1.3856, -0.4493],\n",
       "        [-0.3804,  0.4599,  1.8147, -1.1779, -0.5150],\n",
       "        [ 2.4599, -1.0070, -0.5137, -0.5224, -1.1733],\n",
       "        [-1.0389,  0.3686,  1.5772, -1.1345, -0.3982],\n",
       "        [-0.9570,  0.6416,  0.9712,  1.5836, -2.3628]])"
      ]
     },
     "execution_count": null,
     "metadata": {},
     "output_type": "execute_result"
    }
   ],
   "source": [
    "cont_gaussian(skill_size,alt_s)"
   ]
  },
  {
   "cell_type": "code",
   "execution_count": null,
   "metadata": {},
   "outputs": [
    {
     "data": {
      "image/png": "[encoded data removed]",
      "text/plain": [
       "<Figure size 432x288 with 1 Axes>"
      ]
     },
     "metadata": {
      "needs_background": "light"
     },
     "output_type": "display_data"
    }
   ],
   "source": [
    "show2d(cont_gaussian(skill_size,alt_s))"
   ]
  },
  {
   "cell_type": "code",
   "execution_count": null,
   "metadata": {},
   "outputs": [],
   "source": [
    "# export\n",
    "def cont_uniform(sz,alt_s:Tensor,low=-1.0, high=1.0):\n",
    "    return torch.zeros((alt_s.shape[0],sz)).uniform_(low,high)"
   ]
  },
  {
   "cell_type": "code",
   "execution_count": null,
   "metadata": {},
   "outputs": [
    {
     "data": {
      "text/plain": [
       "tensor([[ 0.1931, -0.6300,  0.1852, -0.8393, -0.6247],\n",
       "        [-0.2492, -0.0581,  0.0997,  0.7833, -0.7303],\n",
       "        [-0.5231, -0.9337,  0.4834,  0.6524,  0.1891],\n",
       "        [-0.9139, -0.5005, -0.0554, -0.7323,  0.4625],\n",
       "        [ 0.4625, -0.5545,  0.6470,  0.2621,  0.5467]])"
      ]
     },
     "execution_count": null,
     "metadata": {},
     "output_type": "execute_result"
    }
   ],
   "source": [
    "cont_uniform(skill_size,alt_s,-1,1)"
   ]
  },
  {
   "cell_type": "code",
   "execution_count": null,
   "metadata": {},
   "outputs": [
    {
     "data": {
      "image/png": "[encoded data removed]",
      "text/plain": [
       "<Figure size 432x288 with 1 Axes>"
      ]
     },
     "metadata": {
      "needs_background": "light"
     },
     "output_type": "display_data"
    }
   ],
   "source": [
    "show2d(cont_uniform(skill_size,alt_s,-1,1))"
   ]
  },
  {
   "cell_type": "markdown",
   "metadata": {},
   "source": [
    "### Agent"
   ]
  },
  {
   "cell_type": "code",
   "execution_count": null,
   "metadata": {},
   "outputs": [],
   "source": [
    "# export\n",
    "@delegates(SAC)\n",
    "class DADS(SAC):\n",
    "    def __init__(self,num_inputs,action_space,num_skills:int=20,include_actions:bool=False,hidden_size=100,lr=0.003,\n",
    "                 n_components:int=4,prior_samples:int=100,latent_sz:int=2,latent_prior_method='',\n",
    "                 skill_lr=3e-4,episide_horizon:int=1,planning_horizon:int=1,\n",
    "                 primitive_horizon:int=1,train_dyn=True,**kwargs):\n",
    "        store_attr()\n",
    "        self.num_inputs=num_inputs+self.num_skills\n",
    "        self.original_num_inputs=num_inputs\n",
    "        self.skill_dyn=SkillDynamics(self.original_num_inputs,self.num_skills,self.n_components)\n",
    "        super().__init__(self.num_inputs,self.action_space,hidden_size=hidden_size,lr=lr,**kwargs)\n",
    "        self.skill_opt=Adam(self.skill_dyn.parameters(),lr=3e-4)\n",
    "        \n",
    "        self.p_z=np.full(self.num_skills,1.0/self.num_skills)\n",
    "        self.log_p_z_episode=[]\n",
    "        self.z=0\n",
    "        self.reset_z()\n",
    "    \n",
    "    @torch.no_grad()\n",
    "    def intrinsic_reward(self,s,skill:Tensor,sp,gpu_limit=20*4000):\n",
    "        \"Given a batch of `s` and `sp` what is the reward for using skill `z`?\"\n",
    "        n_repetitions=self.prior_samples if self.prior_samples>0 else self.num_skills-1\n",
    "        alt_s=torch.cat([s]*n_repetitions,axis=0)\n",
    "        alt_sp=torch.cat([sp]*n_repetitions,axis=0)\n",
    "        \n",
    "        if self.latent_prior_method=='discrete_uniform' and not self.prior_samples: \n",
    "            alt_skill=discrete_uniform(skill,self.num_skills,alt_s,True)\n",
    "        elif self.latent_prior_method=='discrete_uniform':\n",
    "            alt_skill=discrete_uniform(skill,self.num_skills,alt_s,False)\n",
    "        elif self.latent_prior_method=='cont_gaussian':\n",
    "            alt_skill=cont_gaussian(self.num_skills,alt_s)\n",
    "        else:\n",
    "            alt_skill=cont_uniform(self.num_skills,alt_s)\n",
    "            \n",
    "        logp=self.skill_dyn.log_prob(s,skill,sp)\n",
    "        \n",
    "        if alt_s.shape[0]<=gpu_limit:\n",
    "            logp_altz=self.skill_dyn.log_prob(alt_s,alt_skill,alt_sp)\n",
    "        else:\n",
    "            # TODO JL: Does this chunking code have to be so complex? Does fastcore have something\n",
    "            logp_altz=[]\n",
    "            for idx in range(alt_s.shape[0]//gpu_limit):\n",
    "                start_idx=idx*gpu_limit\n",
    "                end_idx=(idx+1)*gpu_limit\n",
    "                logp_altz.append(\n",
    "                    self.skill_dyn.log_prob(alt_s[start_idx:end_idx],\n",
    "                                            alt_skill[start_idx:end_idx],\n",
    "                                            alt_sp[start_idx:end_idx])\n",
    "                )\n",
    "            # TODO: JL: ok what is the scenario where this if statement is needed?\n",
    "            if alt_s.shape[0]%gpu_limit:\n",
    "                start_idx=alt_s.shape[0]%gpu_limit\n",
    "                logp_altz.append(  \n",
    "                    self.skill_dyn.log_prob(alt_s[-start_idx:],\n",
    "                                            alt_skill[-start_idx:],\n",
    "                                            alt_sp[-start_idx:]))\n",
    "            logp_altz=torch.cat(logp_altz)\n",
    "        logp_altz=torch.stack(torch.chunk(logp_altz,n_repetitions))\n",
    "\n",
    "        intrinsic_reward=np.log(n_repetitions+1)-torch.log(\n",
    "            1+torch.exp(torch.clamp(logp_altz-logp.reshape(1,-1),-50,50)).sum(dim=0)\n",
    "        )\n",
    "\n",
    "        return intrinsic_reward.reshape(-1,1),logp,logp_altz\n",
    "    \n",
    "    # TODO: They have batch weighting here. Maybe look into\n",
    "    def increase_skill_opt(self,log_prob:Tensor):\n",
    "        self.skill_opt.zero_grad()\n",
    "        loss=-torch.mean(log_prob)\n",
    "        loss.backward()\n",
    "        self.skill_opt.step()\n",
    "        \n",
    "    def decrease_skill_opt(self,log_prob:Tensor):\n",
    "        self.skill_opt.zero_grad()\n",
    "        loss=torch.mean(log_prob)\n",
    "        loss.backward()\n",
    "        self.skill_opt.step()\n",
    "        \n",
    "    def sample_z(self):\n",
    "        \"\"\"Samples z from p(z), using probabilities in self._p_z.\"\"\"\n",
    "        return np.random.choice(self.num_skills,p=self.p_z)\n",
    "    \n",
    "    def reset_z(self): self.z=self.sample_z()\n",
    "    def __call__(self,s,asl):\n",
    "        aug_s=self.concat_obs_z(s,self.z)\n",
    "        return super().__call__(aug_s,asl)\n",
    "    \n",
    "    def concat_obs_z(self,obs,z):\n",
    "        \"\"\"Concatenates the observation to a one-hot encoding of Z.\"\"\"\n",
    "        assert np.isscalar(z)\n",
    "        if type(obs)==list and len(obs)==1: obs=obs[0]\n",
    "        if len(obs.shape)==2 and obs.shape[0]==1: obs=obs[0]\n",
    "            \n",
    "        z_one_hot=np.zeros(self.num_skills)\n",
    "        z_one_hot[z]=1\n",
    "        if type(obs)==Tensor: obs=obs.cpu()\n",
    "        return torch.FloatTensor(np.hstack([obs,z_one_hot])).reshape(1,-1)\n",
    "    \n",
    "    def update_parameters(self, *yb, learn):\n",
    "        batch=learn.sample_yb\n",
    "\n",
    "        state_batch=torch.stack([o.state.to(device=default_device()) for o in batch]).float()\n",
    "        next_state_batch=torch.stack([o.last_state.to(device=default_device()) for o in batch]).float()\n",
    "        action_batch=torch.stack([o.action.to(device=default_device()) for o in batch]).float()\n",
    "        reward_batch=torch.stack([o.reward.to(device=default_device()) for o in batch]).float()\n",
    "        mask_batch=torch.stack([o.done.to(device=default_device()) for o in batch]).float().unsqueeze(1)\n",
    "        \n",
    "        if self.train_dyn:\n",
    "            self.increase_skill_opt(self.skill_dyn.log_prob(\n",
    "                state_batch[:,:self.num_skills],\n",
    "                state_batch[:,self.num_skills:],\n",
    "                next_state_batch[:,:self.num_skills]\n",
    "            ))\n",
    "            \n",
    "            reward_batch,_,_=self.intrinsic_reward(                \n",
    "                state_batch[:,:self.num_skills],\n",
    "                state_batch[:,self.num_skills:],\n",
    "                next_state_batch[:,:self.num_skills])\n",
    "#             print(reward_batch)\n",
    "            \n",
    "        \n",
    "        with torch.no_grad():\n",
    "            next_state_action, next_state_log_pi, _ = self.policy.sample(next_state_batch)\n",
    "            qf1_next_target, qf2_next_target = self.critic_target(next_state_batch, next_state_action)\n",
    "            min_qf_next_target = torch.min(qf1_next_target, qf2_next_target) - self.alpha * next_state_log_pi\n",
    "            next_q_value = reward_batch + (1-mask_batch) * self.gamma * (min_qf_next_target)\n",
    "        qf1, qf2 = self.critic(state_batch, action_batch)  # Two Q-functions to mitigate positive bias in the policy improvement step\n",
    "        qf1_loss = F.mse_loss(qf1, next_q_value)  # JQ = 𝔼(st,at)~D[0.5(Q1(st,at) - r(st,at) - γ(𝔼st+1~p[V(st+1)]))^2]\n",
    "        qf2_loss = F.mse_loss(qf2, next_q_value)  # JQ = 𝔼(st,at)~D[0.5(Q1(st,at) - r(st,at) - γ(𝔼st+1~p[V(st+1)]))^2]\n",
    "        qf_loss = qf1_loss + qf2_loss\n",
    "\n",
    "        self.critic_optim.zero_grad()\n",
    "        qf_loss.backward()\n",
    "        self.critic_optim.step()\n",
    "\n",
    "        pi, log_pi, _ = self.policy.sample(state_batch)\n",
    "\n",
    "        qf1_pi, qf2_pi = self.critic(state_batch, pi)\n",
    "        min_qf_pi = torch.min(qf1_pi, qf2_pi)\n",
    "\n",
    "        policy_loss = ((self.alpha * log_pi) - min_qf_pi).mean() # Jπ = 𝔼st∼D,εt∼N[α * logπ(f(εt;st)|st) − Q(st,f(εt;st))]\n",
    "\n",
    "        self.policy_optim.zero_grad()\n",
    "        policy_loss.backward()\n",
    "        self.policy_optim.step()\n",
    "\n",
    "        if self.automatic_entropy_tuning:\n",
    "            alpha_loss = -(self.log_alpha * (log_pi + self.target_entropy).detach()).mean()\n",
    "\n",
    "            self.alpha_optim.zero_grad()\n",
    "            alpha_loss.backward()\n",
    "            self.alpha_optim.step()\n",
    "\n",
    "            self.alpha = self.log_alpha.exp()\n",
    "            alpha_tlogs = self.alpha.clone() # For TensorboardX logs\n",
    "        else:\n",
    "            alpha_loss = torch.tensor(0.).to(self.device)\n",
    "            alpha_tlogs = torch.tensor(self.alpha) # For TensorboardX logs\n",
    "\n",
    "\n",
    "        if self.updates % self.target_update_interval == 0:\n",
    "            soft_update(self.critic_target, self.critic, self.tau)\n",
    "        self.updates+=1\n",
    "#         print(self.updates)\n",
    "#         print('complete')\n",
    "        return qf1_loss+ qf2_loss+ policy_loss+ alpha_loss+ alpha_tlogs"
   ]
  },
  {
   "cell_type": "code",
   "execution_count": null,
   "metadata": {},
   "outputs": [
    {
     "data": {
      "text/plain": [
       "DADS(model=None)"
      ]
     },
     "execution_count": null,
     "metadata": {},
     "output_type": "execute_result"
    }
   ],
   "source": [
    "dads=DADS(1,gym.spaces.Box(-1,1,(1,)),2);dads"
   ]
  },
  {
   "cell_type": "code",
   "execution_count": null,
   "metadata": {},
   "outputs": [
    {
     "data": {
      "text/plain": [
       "tensor([[-0.3687],\n",
       "        [ 0.0740],\n",
       "        [-0.6713],\n",
       "        [-2.2072],\n",
       "        [ 0.0245]])"
      ]
     },
     "execution_count": null,
     "metadata": {},
     "output_type": "execute_result"
    }
   ],
   "source": [
    "intrinsic_reward,_,_=dads.intrinsic_reward(hot_air_ballon_start_states,\n",
    "                      Tensor([[0,1]]*5),\n",
    "                      hot_air_ballon_next_states);intrinsic_reward"
   ]
  },
  {
   "cell_type": "markdown",
   "metadata": {},
   "source": [
    "Now, the `DADS.__call__` function, unlike other agents, has a planning behavior. We want to test that as it learns,\n",
    "the planners get better at estimating the future states its going to be in.\n",
    "\n",
    "For now, we will be using dicrete skills until we refactor. The continuous implimentation is [MPPI (Williams et al., 2016)](https://www.cc.gatech.edu/~bboots3/files/InformationTheoreticMPC.pdf) and is used by DADS for continuous actions for the goal of making sure they have smooth transitions."
   ]
  },
  {
   "cell_type": "markdown",
   "metadata": {},
   "source": [
    "> Warning: The orignal implimentation, the planning section gets the predicted states for all of the skill. How does it decide which state to go with? \n",
    "Well... It uses (probably) straight line distance to the goal state... This means that the planner in DADS will **only work with environments with linear dense goals**.\n",
    "Because of this, instead we have an implimentation that simply looks ahead given a constant goal.\n",
    "\n",
    "Below is a non-working example of the planner. This requires the env to have a goal that can be recalculated:\n",
    "```python\n",
    "class Planner(object):\n",
    "    def __init__(self,init_s,agent:DADS,env,episide_horizon:int=1,planning_horizon:int=1,\n",
    "                 primitive_horizon:int=10):\n",
    "        store_attr()\n",
    "    \n",
    "    def __next__(self):\n",
    "        init_skills=torch.eye(self.agent.num_skills)\n",
    "        s=copy(self.init_s)\n",
    "        for _ in range(self.episide_horizon//self.primitive_horizon):\n",
    "            running_s=Tensor([s]*agent.num_skills)\n",
    "            computed_reward=0\n",
    "            for _ in range(self.planning_horizon):\n",
    "                pred_s=self.agent.skill_dny.predict_state(running_s[:,:self.num_skills],\n",
    "                                                          init_skills)\n",
    "                computed_reward+=env.compute_reward(running_s[:,:self.num_skills],\n",
    "                                                    pred_s)\n",
    "                \n",
    "            agent.z=torch.argmax(computed_reward)\n",
    "            s=agent.concat_obs_z(s,agent.z)\n",
    "            yield s\n",
    "```\n",
    "Once we add a Meta Learner, we can replace the `computed_reward+=env.compute_reward` with something like a `DDQN` so that `DADS` can perform in-operation\n",
    "skill switching. "
   ]
  },
  {
   "cell_type": "code",
   "execution_count": null,
   "metadata": {},
   "outputs": [],
   "source": [
    "import gym\n",
    "from pybulletgym.envs import *\n",
    "from IPython import display\n",
    "import PIL.Image\n",
    "%matplotlib inline\n",
    "\n",
    "env=gym.make('InvertedPendulumPyBulletEnv-v0')\n",
    "s=env.reset()\n",
    "\n",
    "dads=DADS(1,gym.spaces.Box(-1,1,(1,)),2);dads\n",
    "\n",
    "planner=Planner(s,dads)\n",
    "\n",
    "for _ in range(200):\n",
    "    display.clear_output(wait=True)\n",
    "    display.display(PIL.Image.fromarray(env.render(mode='rgb_array')))\n",
    "\n",
    "#     agent.z=z\n",
    "#     a,_=agent(s,None)\n",
    "\n",
    "    s,r,d,_=env.step(a)\n",
    "    if d:\n",
    "        break"
   ]
  },
  {
   "cell_type": "markdown",
   "metadata": {},
   "source": [
    "## Full Training"
   ]
  },
  {
   "cell_type": "code",
   "execution_count": null,
   "metadata": {},
   "outputs": [],
   "source": [
    "# export\n",
    "class ExperienceReplay(Callback):\n",
    "    def __init__(self,sz=100,bs=128,starting_els=1,max_steps=1):\n",
    "        store_attr()\n",
    "        self.queue=deque(maxlen=int(sz))\n",
    "        self.max_steps=max_steps\n",
    "        \n",
    "    def before_fit(self):\n",
    "        self.learn.agent.warming_up=True\n",
    "        while len(self.queue)<self.starting_els:\n",
    "            for i,o in enumerate(self.dls.train):\n",
    "                batch=[ExperienceFirstLast(state=o[0][i],action=o[1][i],reward=o[2][i],\n",
    "                                    last_state=o[3][i], done=(o[4][i] and self.max_steps!=o[6][i]),episode_reward=o[5][i],steps=o[6][i])\n",
    "                                    for i in range(len(o[0]))]\n",
    "#                 print(self.max_steps,max([o.steps for o in batch]))\n",
    "                for _b in batch: self.queue.append(_b)\n",
    "                if len(self.queue)>self.starting_els:break\n",
    "        self.learn.agent.warming_up=False\n",
    "\n",
    "#     def after_epoch(self):\n",
    "#         print(len(self.queue))\n",
    "    def before_batch(self):\n",
    "#         print(len(self.queue))\n",
    "        b=list(self.learn.xb)+list(self.learn.yb)\n",
    "        batch=[ExperienceFirstLast(state=b[0][i],action=b[1][i],reward=b[2][i],\n",
    "                                last_state=b[3][i], done=(b[4][i] and self.max_steps!=b[6][i]),episode_reward=b[5][i],\n",
    "                                steps=b[6][i])\n",
    "                                for i in range(len(b[0]))]\n",
    "        for _b in batch: self.queue.append(_b)\n",
    "        idxs=np.random.randint(0,len(self.queue), self.bs)\n",
    "        self.learn.sample_yb=[self.queue[i] for i in idxs]"
   ]
  },
  {
   "cell_type": "code",
   "execution_count": null,
   "metadata": {},
   "outputs": [],
   "source": [
    "# export\n",
    "class SACCriticTrainer(Callback):\n",
    "    def after_batch(self): \n",
    "        self.learn.dls.bs=1\n",
    "        for d in self.learn.dls.loaders: d.bs=1\n",
    "        \n",
    "    def after_loss(self):raise CancelBatchException"
   ]
  },
  {
   "cell_type": "code",
   "execution_count": null,
   "metadata": {},
   "outputs": [],
   "source": [
    "# export\n",
    "class DADSTrainer(ExperienceReplay):\n",
    "\n",
    "    def __init__(self,*args,**kwargs):\n",
    "        self.log_p_z_episode=[]\n",
    "        super().__init__(*args,**kwargs)\n",
    "        \n",
    "    def before_fit(self):\n",
    "        self.learn.agent.warming_up=True\n",
    "        while len(self.queue)<self.starting_els:\n",
    "            for i,o in enumerate(self.dls.train):\n",
    "                z=self.learn.agent.z\n",
    "                batch=[ExperienceFirstLast(state=self.learn.agent.concat_obs_z(o[0][i],z)[0],\n",
    "                                           action=o[1][i],\n",
    "                                           reward=o[2][i],\n",
    "                                           last_state=self.learn.agent.concat_obs_z(o[3][i],z)[0], \n",
    "                                           done=(o[4][i] and self.max_steps!=o[6][i]),\n",
    "                                           episode_reward=o[5][i],steps=o[6][i])\n",
    "                                    for i in range(len(o[0]))]\n",
    "#                 print(self.max_steps,max([o.steps for o in batch]))\n",
    "#                 print(batch[0])\n",
    "#                 for k in range(len(batch)):\n",
    "#                     intrinsic_reward,disc_out=self.learn.agent.intrinsic_reward(Tensor(batch[k].last_state))\n",
    "#                     self.learn.agent.increase_skill_opt(self.agent.z,disc_out)\n",
    "#                     batch[k]=ExperienceFirstLast(\n",
    "#                         state=batch[k].state.to(device=default_device()),\n",
    "#                         action=batch[k].action,\n",
    "#                         reward=batch[k].reward,\n",
    "#                         last_state=batch[k].last_state.to(device=default_device()),\n",
    "#                         done=batch[k].done,\n",
    "#                         episode_reward=batch[k].episode_reward,\n",
    "#                         steps=batch[k].steps\n",
    "#                     )\n",
    "\n",
    "\n",
    "#                 print(batch[0])\n",
    "                for _b in batch:self.queue.append(_b)\n",
    "                if any([_b.done for _b in batch]): self.learn.agent.reset_z()\n",
    "                if len(self.queue)>self.starting_els:break\n",
    "        self.learn.agent.warming_up=False\n",
    "\n",
    "# #     def after_epoch(self):\n",
    "# #         print(len(self.queue))\n",
    "    def before_batch(self):\n",
    "#         print(len(self.queue))\n",
    "        b=list(self.learn.xb)+list(self.learn.yb)\n",
    "        z=self.learn.agent.z\n",
    "        batch=[ExperienceFirstLast(state=self.learn.agent.concat_obs_z(b[0][i],z)[0],\n",
    "                                   action=b[1][i],\n",
    "                                   reward=b[2][i],\n",
    "                                   last_state=self.learn.agent.concat_obs_z(b[3][i],z)[0], \n",
    "                                   done=(b[4][i] and self.max_steps!=b[6][i]),\n",
    "                                   episode_reward=b[5][i],steps=b[6][i])\n",
    "              for i in range(len(b[0]))]\n",
    "        \n",
    "#         for k in range(len(batch)):\n",
    "#             intrinsic_reward,disc_out=self.learn.agent.intrinsic_reward(Tensor(batch[k].last_state))\n",
    "#             self.learn.agent.discriminator_learn(self.agent.z,disc_out)\n",
    "#             batch[k]=ExperienceFirstLast(\n",
    "#                 state=batch[k].state.to(device=default_device()),\n",
    "#                 action=batch[k].action,\n",
    "#                 reward=intrinsic_reward,\n",
    "#                 last_state=batch[k].last_state.to(device=default_device()),\n",
    "#                 done=batch[k].done,\n",
    "#                 episode_reward=batch[k].episode_reward,\n",
    "#                 steps=batch[k].steps\n",
    "#             )\n",
    "        \n",
    "#         print(self.learn.xb)\n",
    "        self.learn.xb=(torch.stack([e.state for e in batch]),)\n",
    "#         print(self.learn.yb)\n",
    "        self.learn.yb=(torch.stack([o.action for o in batch]),\n",
    "                       torch.stack([o.reward for o in batch]),\n",
    "                       torch.stack([o.last_state for o in batch]),\n",
    "                       torch.stack([o.done for o in batch]),\n",
    "                       torch.stack([o.episode_reward for o in batch]),\n",
    "                       torch.stack([o.steps for o in batch]))\n",
    "#         print(self.learn.yb)\n",
    "        \n",
    "        for _b in batch: self.queue.append(_b)\n",
    "        idxs=np.random.randint(0,len(self.queue), self.bs)\n",
    "        self.learn.sample_yb=[self.queue[i] for i in idxs]"
   ]
  },
  {
   "cell_type": "code",
   "execution_count": null,
   "metadata": {},
   "outputs": [
    {
     "data": {
      "text/html": [
       "<table border=\"1\" class=\"dataframe\">\n",
       "  <thead>\n",
       "    <tr style=\"text-align: left;\">\n",
       "      <th>epoch</th>\n",
       "      <th>train_loss</th>\n",
       "      <th>train_avg_episode_r</th>\n",
       "      <th>valid_loss</th>\n",
       "      <th>valid_avg_episode_r</th>\n",
       "      <th>time</th>\n",
       "    </tr>\n",
       "  </thead>\n",
       "  <tbody>\n",
       "    <tr>\n",
       "      <td>0</td>\n",
       "      <td>-3.924977</td>\n",
       "      <td>26.916667</td>\n",
       "      <td>None</td>\n",
       "      <td>26.916667</td>\n",
       "      <td>00:28</td>\n",
       "    </tr>\n",
       "    <tr>\n",
       "      <td>1</td>\n",
       "      <td>-3.294553</td>\n",
       "      <td>41.511628</td>\n",
       "      <td>None</td>\n",
       "      <td>41.511628</td>\n",
       "      <td>00:30</td>\n",
       "    </tr>\n",
       "    <tr>\n",
       "      <td>2</td>\n",
       "      <td>-2.442293</td>\n",
       "      <td>52.387755</td>\n",
       "      <td>None</td>\n",
       "      <td>52.387755</td>\n",
       "      <td>00:31</td>\n",
       "    </tr>\n",
       "    <tr>\n",
       "      <td>3</td>\n",
       "      <td>-2.159690</td>\n",
       "      <td>61.200000</td>\n",
       "      <td>None</td>\n",
       "      <td>61.200000</td>\n",
       "      <td>00:31</td>\n",
       "    </tr>\n",
       "    <tr>\n",
       "      <td>4</td>\n",
       "      <td>-2.214790</td>\n",
       "      <td>68.483871</td>\n",
       "      <td>None</td>\n",
       "      <td>68.483871</td>\n",
       "      <td>00:30</td>\n",
       "    </tr>\n",
       "    <tr>\n",
       "      <td>5</td>\n",
       "      <td>-2.215024</td>\n",
       "      <td>74.260870</td>\n",
       "      <td>None</td>\n",
       "      <td>74.260870</td>\n",
       "      <td>00:31</td>\n",
       "    </tr>\n",
       "    <tr>\n",
       "      <td>6</td>\n",
       "      <td>-2.351509</td>\n",
       "      <td>78.680000</td>\n",
       "      <td>None</td>\n",
       "      <td>78.680000</td>\n",
       "      <td>00:31</td>\n",
       "    </tr>\n",
       "    <tr>\n",
       "      <td>7</td>\n",
       "      <td>-2.919187</td>\n",
       "      <td>83.320988</td>\n",
       "      <td>None</td>\n",
       "      <td>83.320988</td>\n",
       "      <td>00:32</td>\n",
       "    </tr>\n",
       "    <tr>\n",
       "      <td>8</td>\n",
       "      <td>-2.729967</td>\n",
       "      <td>87.372093</td>\n",
       "      <td>None</td>\n",
       "      <td>87.372093</td>\n",
       "      <td>00:32</td>\n",
       "    </tr>\n",
       "    <tr>\n",
       "      <td>9</td>\n",
       "      <td>-2.266962</td>\n",
       "      <td>91.666667</td>\n",
       "      <td>None</td>\n",
       "      <td>91.666667</td>\n",
       "      <td>00:32</td>\n",
       "    </tr>\n",
       "  </tbody>\n",
       "</table>"
      ],
      "text/plain": [
       "<IPython.core.display.HTML object>"
      ]
     },
     "metadata": {},
     "output_type": "display_data"
    }
   ],
   "source": [
    "from pybulletgym.envs import *\n",
    "\n",
    "env='InvertedPendulumPyBulletEnv-v0'\n",
    "agent=DADS(5,gym.make(env).action_space,gamma=0.99,tau=0.005,alpha=0.1,hidden_size=300,num_skills=5)\n",
    "block=FirstLastExperienceBlock(agent=agent,seed=0,n_steps=2,exclude_nones=True,\n",
    "                               dls_kwargs={'bs':1,'num_workers':0,'verbose':False,'indexed':True,'shuffle_train':False})\n",
    "blk=IterableDataBlock(blocks=(block),splitter=FuncSplitter(lambda x:False))\n",
    "dls=blk.dataloaders([env]*1,n=1000,device=default_device())\n",
    "\n",
    "learner=SACLearner(dls,agent=agent,cbs=[DADSTrainer(sz=1000000,bs=64,starting_els=1000,max_steps=gym.make(env)._max_episode_steps),\n",
    "                                        SACCriticTrainer],\n",
    "                   metrics=[AvgEpisodeRewardMetric(experience_cls=ExperienceFirstLast)])\n",
    "learner.fit(10,lr=0.003,wd=0)"
   ]
  },
  {
   "cell_type": "code",
   "execution_count": null,
   "metadata": {},
   "outputs": [
    {
     "data": {
      "image/png": "[encoded data removed]",
      "text/plain": [
       "<PIL.Image.Image image mode=RGB size=320x240>"
      ]
     },
     "metadata": {},
     "output_type": "display_data"
    }
   ],
   "source": [
    "# hide\n",
    "# slow\n",
    "import gym\n",
    "from IPython import display\n",
    "import PIL.Image\n",
    "%matplotlib inline\n",
    "\n",
    "env=gym.make('InvertedPendulumPyBulletEnv-v0')\n",
    "s=env.reset()\n",
    "\n",
    "for z in range(5):\n",
    "    for i in range(0,100,20):\n",
    "        s=env.reset()\n",
    "        env.seed(i)\n",
    "        for _ in range(200):\n",
    "            display.clear_output(wait=True)\n",
    "            display.display(PIL.Image.fromarray(env.render(mode='rgb_array')))\n",
    "\n",
    "            agent.z=z\n",
    "            a,_=agent(s,None)\n",
    "\n",
    "            s,r,d,_=env.step(a)\n",
    "            if d:\n",
    "                break"
   ]
  },
  {
   "cell_type": "code",
   "execution_count": null,
   "metadata": {},
   "outputs": [
    {
     "name": "stdout",
     "output_type": "stream",
     "text": [
      "Converted 00_core.ipynb.\n",
      "Converted 01_wrappers.ipynb.\n",
      "Converted 03_basic_agents.ipynb.\n",
      "Converted 04_learner.ipynb.\n",
      "Converted 05a_ptan_extend.ipynb.\n",
      "Converted 05b_data.ipynb.\n",
      "Converted 05c_async_data.ipynb.\n",
      "Converted 13_metrics.ipynb.\n",
      "Converted 14a_actorcritic.sac.ipynb.\n",
      "Converted 14b_actorcritic.diayn.ipynb.\n",
      "Converted 14c_actorcritic.dads.ipynb.\n",
      "Converted 15_actorcritic.a3c_data.ipynb.\n",
      "Converted 16_actorcritic.a2c.ipynb.\n",
      "Converted 18_policy_gradient.ppo.ipynb.\n",
      "Converted 19_policy_gradient.trpo.ipynb.\n",
      "Converted 20a_qlearning.dqn.ipynb.\n",
      "Converted 20b_qlearning.dqn_n_step.ipynb.\n",
      "Converted 20c_qlearning.dqn_target.ipynb.\n",
      "Converted 20d_qlearning.dqn_double.ipynb.\n",
      "Converted 20e_qlearning.dqn_noisy.ipynb.\n",
      "Converted index.ipynb.\n",
      "Converted notes.ipynb.\n",
      "converting: /opt/project/fastrl/nbs/14c_actorcritic.dads.ipynb\n"
     ]
    }
   ],
   "source": [
    "# hide\n",
    "from nbdev.export import *\n",
    "from nbdev.export2html import *\n",
    "notebook2script()\n",
    "notebook2html()"
   ]
  },
  {
   "cell_type": "code",
   "execution_count": null,
   "metadata": {},
   "outputs": [],
   "source": []
  }
 ],
 "metadata": {
  "kernelspec": {
   "display_name": "Python 3",
   "language": "python",
   "name": "python3"
  }
 },
 "nbformat": 4,
 "nbformat_minor": 4
}
