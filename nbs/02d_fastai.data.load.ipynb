{
 "cells": [
  {
   "cell_type": "code",
   "execution_count": 1,
   "id": "durable-dialogue",
   "metadata": {},
   "outputs": [],
   "source": [
    "#hide\n",
    "#skip\n",
    "%config Completer.use_jedi = False\n",
    "%config IPCompleter.greedy=True\n",
    "# upgrade fastrl on colab\n",
    "! [ -e /content ] && pip install -Uqq fastrl['dev'] pyvirtualdisplay && \\\n",
    "                     apt-get install -y xvfb python-opengl > /dev/null 2>&1 \n",
    "# NOTE: IF YOU SEE VERSION ERRORS, IT IS SAFE TO IGNORE THEM. COLAB IS BEHIND IN SOME OF THE PACKAGE VERSIONS"
   ]
  },
  {
   "cell_type": "code",
   "execution_count": 2,
   "id": "viral-cambridge",
   "metadata": {},
   "outputs": [],
   "source": [
    "# hide\n",
    "from fastcore.imports import in_colab\n",
    "# Since colab still requires tornado<6, we don't want to import nbdev if we don't have to\n",
    "if not in_colab():\n",
    "    from nbdev.showdoc import *\n",
    "    from nbdev.imports import *\n",
    "    if not os.environ.get(\"IN_TEST\", None):\n",
    "        assert IN_NOTEBOOK\n",
    "        assert not IN_COLAB\n",
    "        assert IN_IPYTHON\n",
    "else:\n",
    "    # Virutual display is needed for colab\n",
    "    from pyvirtualdisplay import Display\n",
    "    display = Display(visible=0, size=(400, 300))\n",
    "    display.start()"
   ]
  },
  {
   "cell_type": "code",
   "execution_count": 3,
   "id": "offshore-stuart",
   "metadata": {},
   "outputs": [],
   "source": [
    "# default_exp fastai.data.load"
   ]
  },
  {
   "cell_type": "code",
   "execution_count": 4,
   "id": "assisted-contract",
   "metadata": {},
   "outputs": [
    {
     "ename": "NameError",
     "evalue": "name 'Loop' is not defined",
     "output_type": "error",
     "traceback": [
      "\u001b[0;31m---------------------------------------------------------------------------\u001b[0m",
      "\u001b[0;31mNameError\u001b[0m                                 Traceback (most recent call last)",
      "\u001b[0;32m/tmp/ipykernel_969/1933209468.py\u001b[0m in \u001b[0;36m<module>\u001b[0;34m\u001b[0m\n\u001b[1;32m      9\u001b[0m \u001b[0;32mfrom\u001b[0m \u001b[0mtorch\u001b[0m\u001b[0;34m.\u001b[0m\u001b[0mutils\u001b[0m\u001b[0;34m.\u001b[0m\u001b[0mdata\u001b[0m\u001b[0;34m.\u001b[0m\u001b[0mgraph\u001b[0m \u001b[0;32mimport\u001b[0m \u001b[0mtraverse\u001b[0m\u001b[0;34m\u001b[0m\u001b[0;34m\u001b[0m\u001b[0m\n\u001b[1;32m     10\u001b[0m \u001b[0;31m# Local modules\u001b[0m\u001b[0;34m\u001b[0m\u001b[0;34m\u001b[0m\u001b[0;34m\u001b[0m\u001b[0m\n\u001b[0;32m---> 11\u001b[0;31m \u001b[0;32mfrom\u001b[0m \u001b[0mfastrl\u001b[0m\u001b[0;34m.\u001b[0m\u001b[0mfastai\u001b[0m\u001b[0;34m.\u001b[0m\u001b[0mdata\u001b[0m\u001b[0;34m.\u001b[0m\u001b[0mloop\u001b[0m\u001b[0;34m.\u001b[0m\u001b[0mcore\u001b[0m \u001b[0;32mimport\u001b[0m \u001b[0;34m*\u001b[0m\u001b[0;34m\u001b[0m\u001b[0;34m\u001b[0m\u001b[0m\n\u001b[0m\u001b[1;32m     12\u001b[0m \u001b[0;34m\u001b[0m\u001b[0m\n\u001b[1;32m     13\u001b[0m \u001b[0;32mfrom\u001b[0m \u001b[0mfastrl\u001b[0m\u001b[0;34m.\u001b[0m\u001b[0mfastai\u001b[0m\u001b[0;34m.\u001b[0m\u001b[0mdata\u001b[0m\u001b[0;34m.\u001b[0m\u001b[0mpipes\u001b[0m\u001b[0;34m.\u001b[0m\u001b[0mmap\u001b[0m\u001b[0;34m.\u001b[0m\u001b[0mmux\u001b[0m \u001b[0;32mimport\u001b[0m \u001b[0;34m*\u001b[0m\u001b[0;34m\u001b[0m\u001b[0;34m\u001b[0m\u001b[0m\n",
      "\u001b[0;32m~/fastrl/fastrl/fastai/data/loop/core.py\u001b[0m in \u001b[0;36m<module>\u001b[0;34m\u001b[0m\n\u001b[1;32m     86\u001b[0m \u001b[0;31m# Cell\u001b[0m\u001b[0;34m\u001b[0m\u001b[0;34m\u001b[0m\u001b[0;34m\u001b[0m\u001b[0m\n\u001b[1;32m     87\u001b[0m def filter_exclude_under_cbs(\n\u001b[0;32m---> 88\u001b[0;31m     \u001b[0mpipe\u001b[0m\u001b[0;34m:\u001b[0m\u001b[0mUnion\u001b[0m\u001b[0;34m[\u001b[0m\u001b[0mLoop\u001b[0m\u001b[0;34m,\u001b[0m\u001b[0mdp\u001b[0m\u001b[0;34m.\u001b[0m\u001b[0miter\u001b[0m\u001b[0;34m.\u001b[0m\u001b[0mIterDataPipe\u001b[0m\u001b[0;34m]\u001b[0m\u001b[0;34m,\u001b[0m\u001b[0;34m\u001b[0m\u001b[0;34m\u001b[0m\u001b[0m\n\u001b[0m\u001b[1;32m     89\u001b[0m     \u001b[0mcbs\u001b[0m\u001b[0;34m:\u001b[0m\u001b[0mList\u001b[0m\u001b[0;34m[\u001b[0m\u001b[0mCallback\u001b[0m\u001b[0;34m]\u001b[0m\u001b[0;34m\u001b[0m\u001b[0;34m\u001b[0m\u001b[0m\n\u001b[1;32m     90\u001b[0m ):\n",
      "\u001b[0;31mNameError\u001b[0m: name 'Loop' is not defined"
     ]
    }
   ],
   "source": [
    "# export\n",
    "# Python native modules\n",
    "import os\n",
    "from typing import Callable\n",
    "# Third party libs\n",
    "from fastcore.all import *\n",
    "import torchdata.datapipes as dp\n",
    "from torch.utils.data.dataloader_experimental import DataLoader2\n",
    "from torch.utils.data.graph import traverse\n",
    "# Local modules\n",
    "from fastrl.fastai.data.loop.core import *\n",
    "\n",
    "from fastrl.fastai.data.pipes.map.mux import *\n",
    "from fastrl.fastai.data.pipes.map.demux import *"
   ]
  },
  {
   "cell_type": "markdown",
   "id": "lesser-innocent",
   "metadata": {},
   "source": [
    "# Loading\n",
    "> Objects using the `Loop` and `DataPipe` API for DataLoading"
   ]
  },
  {
   "cell_type": "markdown",
   "id": "180b3d07-b0d1-44f8-8156-dbd6c392d5f8",
   "metadata": {},
   "source": [
    "We will replicate [fastai mnist loading](https://colab.research.google.com/github/fastai/fastbook/blob/master/04_mnist_basics.ipynb)."
   ]
  },
  {
   "cell_type": "code",
   "execution_count": null,
   "id": "22653cf8-a2ac-4a84-9f22-d8979ddbb113",
   "metadata": {},
   "outputs": [],
   "source": [
    "from fastai.vision.all import untar_data,URLs,get_image_files\n",
    "\n",
    "path = untar_data(URLs.MNIST_SAMPLE)\n",
    "\n",
    "(path/'train').ls()"
   ]
  },
  {
   "cell_type": "markdown",
   "id": "36f521f2-b226-4505-98f2-fb52c093cbb6",
   "metadata": {},
   "source": [
    "First we create the dataset..."
   ]
  },
  {
   "cell_type": "code",
   "execution_count": null,
   "id": "b71f3b8e-5200-4374-aa94-666c020260ad",
   "metadata": {},
   "outputs": [],
   "source": [
    "# export\n",
    "class TypeTransformLoop(MapLoop):\n",
    "    def __init__(self,datapipe, type_tfms):\n",
    "        self.type_tfms,self.datapipe = Pipeline(type_tfms),datapipe\n",
    "    \n",
    "    def __subiter__(self):\n",
    "        for data in self.datapipe:\n",
    "            yield self.type_tfms(data)\n",
    "            \n",
    "    def __len__(self): return len(self.datapipe)\n",
    "    \n",
    "class ItemTransformLoop(IterLoop):\n",
    "    def __init__(self,source_datapipe, item_tfms:List[Callable]): \n",
    "        self.item_tfms,self.source_datapipe = Pipeline(item_tfms),source_datapipe\n",
    "    \n",
    "    def __subiter__(self):\n",
    "        for data in self.source_datapipe:\n",
    "            yield self.item_tfms(data)\n",
    "    \n",
    "    \n",
    "class BatchTransformLoop(IterLoop):\n",
    "    def __init__(self,source_datapipe, batch_tfms):\n",
    "        self.batch_tfms,self.source_datapipe = Pipeline(batch_tfms),source_datapipe\n",
    "    \n",
    "    def __subiter__(self):\n",
    "        for data in self.source_datapipe:\n",
    "            yield self.batch_tfms(data)"
   ]
  },
  {
   "cell_type": "code",
   "execution_count": null,
   "id": "9323384d-c5b8-4918-9481-53119790a60f",
   "metadata": {},
   "outputs": [],
   "source": [
    "# export\n",
    "def default_loader_loop(\n",
    "    items,\n",
    "    splitter,\n",
    "    type_tfms=None,\n",
    "    item_tfms=None,\n",
    "    batch_tfms=None,\n",
    "    bs=2\n",
    "):\n",
    "    base = dp.map.SequenceWrapper(items)\n",
    "    type_tfm_dp = TypeTransformLoop(base, ifnone(type_tfms,L()))\n",
    "    trainer,validater = DemultiplexerMapDataPipe(\n",
    "        type_tfm_dp,\n",
    "        num_instances=2,\n",
    "        classifier_fn=splitter,\n",
    "        drop_none=True\n",
    "    )\n",
    "    train_iter,valid_iter = L(trainer,validater).map(dp.iter.MapToIterConverter)\n",
    "    train_item_tfm_dp,valid_item_tfm_dp = L(trainer,validater).map(ItemTransformLoop, item_tfms=ifnone(item_tfms,L()))\n",
    "    train_b,valid_b = trainer.cb_batch(bs),validater.cb_batch(bs)\n",
    "    return train_b,valid_b"
   ]
  },
  {
   "cell_type": "code",
   "execution_count": null,
   "id": "35f2d3a1-d5aa-4f32-8f6e-1257dc3421c8",
   "metadata": {},
   "outputs": [],
   "source": [
    "def GrandparentSplitter(train='train',valid='valid'):\n",
    "    def splitter(item):\n",
    "        if all(s not in item.parts for s in (train,valid)): return None\n",
    "        if item.is_dir(): return None\n",
    "        # valid=1, train=0\n",
    "        return valid in item.parts \n",
    "    return splitter"
   ]
  },
  {
   "cell_type": "code",
   "execution_count": null,
   "id": "1c0e1f2b-084b-4b9a-83ca-7f63297ef321",
   "metadata": {},
   "outputs": [],
   "source": [
    "base = default_loader_loop(\n",
    "    L(path.rglob('*')),\n",
    "    GrandparentSplitter()\n",
    ")"
   ]
  },
  {
   "cell_type": "code",
   "execution_count": null,
   "id": "4a41472a-d0ed-4aaf-96eb-aabc7d246cfa",
   "metadata": {},
   "outputs": [],
   "source": [
    "base[0][6]"
   ]
  },
  {
   "cell_type": "code",
   "execution_count": null,
   "id": "e9aec07e-f515-4d68-8636-961c1be801b3",
   "metadata": {},
   "outputs": [],
   "source": [
    "list(base[0])[:5],list(base[1])[:5]"
   ]
  },
  {
   "cell_type": "code",
   "execution_count": null,
   "id": "fa87e0cc-28fd-48f1-8787-a6e6f3c53e7f",
   "metadata": {},
   "outputs": [],
   "source": [
    "len(type_tfm_dp)"
   ]
  },
  {
   "cell_type": "code",
   "execution_count": null,
   "id": "67f2b9f4-948a-49c1-b875-56d883e7542d",
   "metadata": {},
   "outputs": [],
   "source": [
    "len(train)"
   ]
  },
  {
   "cell_type": "code",
   "execution_count": null,
   "id": "8c38edc6-baf5-4011-8d85-98fed8b425f9",
   "metadata": {},
   "outputs": [],
   "source": [
    "train[0]"
   ]
  },
  {
   "cell_type": "code",
   "execution_count": null,
   "id": "2441700e-721e-40f5-bda0-637f71ce6439",
   "metadata": {},
   "outputs": [],
   "source": [
    "class "
   ]
  },
  {
   "cell_type": "code",
   "execution_count": null,
   "id": "951a3892-47e0-4140-b402-f7a2b3573070",
   "metadata": {},
   "outputs": [],
   "source": [
    "datapipe = "
   ]
  },
  {
   "cell_type": "code",
   "execution_count": null,
   "id": "87eeb08e-0edf-430d-bb44-a223e2b04dc5",
   "metadata": {},
   "outputs": [],
   "source": [
    "train_dl,valid_dl = DataLoader2(),DataLoader2()"
   ]
  },
  {
   "cell_type": "code",
   "execution_count": null,
   "id": "current-pilot",
   "metadata": {},
   "outputs": [],
   "source": [
    "# hide\n",
    "from fastcore.imports import in_colab\n",
    "\n",
    "# Since colab still requires tornado<6, we don't want to import nbdev if we don't have to\n",
    "if not in_colab():\n",
    "    from nbdev.export import *\n",
    "    from nbdev.export2html import *\n",
    "    from nbdev.cli import *\n",
    "    make_readme()\n",
    "    notebook2script(silent=True)"
   ]
  },
  {
   "cell_type": "code",
   "execution_count": null,
   "id": "180c4fb6-c6d4-437b-a86b-deba23121175",
   "metadata": {},
   "outputs": [],
   "source": []
  }
 ],
 "metadata": {
  "kernelspec": {
   "display_name": "Python 3 (ipykernel)",
   "language": "python",
   "name": "python3"
  },
  "language_info": {
   "codemirror_mode": {
    "name": "ipython",
    "version": 3
   },
   "file_extension": ".py",
   "mimetype": "text/x-python",
   "name": "python",
   "nbconvert_exporter": "python",
   "pygments_lexer": "ipython3",
   "version": "3.7.11"
  }
 },
 "nbformat": 4,
 "nbformat_minor": 5
}
