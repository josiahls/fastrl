{
 "cells": [
  {
   "cell_type": "code",
   "execution_count": null,
   "id": "durable-dialogue",
   "metadata": {},
   "outputs": [],
   "source": [
    "#|hide\n",
    "from fastrl.test_utils import initialize_notebook\n",
    "initialize_notebook()"
   ]
  },
  {
   "cell_type": "code",
   "execution_count": 1,
   "id": "offshore-stuart",
   "metadata": {},
   "outputs": [],
   "source": [
    "#|default_exp dataloading.core"
   ]
  },
  {
   "cell_type": "code",
   "execution_count": 6,
   "id": "assisted-contract",
   "metadata": {},
   "outputs": [],
   "source": [
    "#|export\n",
    "# Python native modules\n",
    "from typing import Tuple,Union,List\n",
    "# Third party libs\n",
    "import torchdata.datapipes as dp\n",
    "from torchdata.dataloader2 import MultiProcessingReadingService,DataLoader2\n",
    "from fastcore.all import delegates\n",
    "# Local modules"
   ]
  },
  {
   "attachments": {},
   "cell_type": "markdown",
   "id": "a258abcf",
   "metadata": {},
   "source": [
    "# Dataloading Core\n",
    "> Basic utils for creating dataloaders from rl datapipes."
   ]
  },
  {
   "cell_type": "code",
   "execution_count": 17,
   "id": "0c4e1268",
   "metadata": {},
   "outputs": [],
   "source": [
    "#|export\n",
    "@delegates(MultiProcessingReadingService)\n",
    "def dataloaders(\n",
    "    # A tuple of iterable datapipes to generate dataloaders from.\n",
    "    pipes:Union[Tuple[dp.iter.IterDataPipe],dp.iter.IterDataPipe],\n",
    "    # Concat the dataloaders together\n",
    "    do_concat:bool = False,\n",
    "    # Multiplex the dataloaders\n",
    "    do_multiplex:bool = False,\n",
    "    # Number of workers the dataloaders should run in\n",
    "    num_workers: int = 0,\n",
    "    **kwargs\n",
    ") -> Union[dp.iter.IterDataPipe,List[dp.iter.IterDataPipe]]:\n",
    "    \"Function that creates dataloaders based on `pipes` with different ways of combing them.\"\n",
    "    if not isinstance(pipes,tuple):\n",
    "        pipes = (pipes,)\n",
    "\n",
    "    dls = []\n",
    "    for pipe in pipes:\n",
    "        dl = DataLoader2(\n",
    "            datapipe=pipe,\n",
    "            reading_service=MultiProcessingReadingService(\n",
    "                num_workers = num_workers,\n",
    "                **kwargs\n",
    "            ) if num_workers > 0 else None\n",
    "        )\n",
    "        dl = dp.iter.IterableWrapper(dl,deepcopy=False)\n",
    "        dls.append(dl)\n",
    "    #TODO(josiahls): Not sure if this is needed tbh.. Might be better to just\n",
    "    # return dls, and have the user wrap them if they want. Then try can do more complex stuff.\n",
    "    if do_concat:\n",
    "        return dp.iter.Concater(*dls)\n",
    "    elif do_multiplex:\n",
    "        return dp.iter.Multiplexer(*dls)\n",
    "    else:\n",
    "        return dls\n"
   ]
  },
  {
   "cell_type": "code",
   "execution_count": 18,
   "id": "91b2f9c2",
   "metadata": {},
   "outputs": [],
   "source": [
    "from fastcore.test import test_eq"
   ]
  },
  {
   "cell_type": "code",
   "execution_count": 19,
   "id": "fc24a6bb",
   "metadata": {},
   "outputs": [],
   "source": [
    "# Sample Data\n",
    "pipe1 = dp.iter.IterableWrapper([1, 2, 3])\n",
    "pipe2 = dp.iter.IterableWrapper([4, 5, 6])\n",
    "\n",
    "# Test for a single IterDataPipe\n",
    "dls = dataloaders(pipe1)\n",
    "assert len(dls) == 1\n",
    "assert isinstance(dls[0], dp.iter.IterableWrapper)\n",
    "test_eq(list(dls[0]), [1, 2, 3])\n",
    "\n",
    "# Test for a tuple of IterDataPipes without concatenation or multiplexing\n",
    "dls = dataloaders((pipe1, pipe2))\n",
    "test_eq(len(dls),2)\n",
    "test_eq(list(dls[0]), [1, 2, 3])\n",
    "test_eq(list(dls[1]), [4, 5, 6])\n",
    "\n",
    "# Test for concatenation\n",
    "dl = dataloaders((pipe1, pipe2), do_concat=True)\n",
    "assert isinstance(dl, dp.iter.Concater)\n",
    "test_eq(list(dl), [1, 2, 3, 4, 5, 6])\n",
    "\n",
    "# Test for multiplexing\n",
    "dl = dataloaders((pipe1, pipe2), do_multiplex=True)\n",
    "assert isinstance(dl, dp.iter.Multiplexer)\n",
    "test_eq(list(dl), [1, 4, 2, 5, 3, 6])"
   ]
  },
  {
   "cell_type": "code",
   "execution_count": 20,
   "id": "current-pilot",
   "metadata": {},
   "outputs": [
    {
     "name": "stdout",
     "output_type": "stream",
     "text": [
      "/usr/local/lib/python3.8/dist-packages/nbdev/export.py:54: UserWarning: Notebook '/home/fastrl_user/fastrl/nbs/07_Agents/02_Continuous/12u_agents.ppo.ipynb' uses `#|export` without `#|default_exp` cell.\n",
      "Note nbdev2 no longer supports nbdev1 syntax. Run `nbdev_migrate` to upgrade.\n",
      "See https://nbdev.fast.ai/getting_started.html for more information.\n",
      "  warn(f\"Notebook '{nbname}' uses `#|export` without `#|default_exp` cell.\\n\"\n"
     ]
    }
   ],
   "source": [
    "#|hide\n",
    "#|eval: false\n",
    "!nbdev_export"
   ]
  },
  {
   "cell_type": "code",
   "execution_count": null,
   "id": "ed71a089",
   "metadata": {},
   "outputs": [],
   "source": []
  }
 ],
 "metadata": {
  "kernelspec": {
   "display_name": "python3",
   "language": "python",
   "name": "python3"
  },
  "language_info": {
   "codemirror_mode": {
    "name": "ipython",
    "version": 3
   },
   "file_extension": ".py",
   "mimetype": "text/x-python",
   "name": "python",
   "nbconvert_exporter": "python",
   "pygments_lexer": "ipython3",
   "version": "3.8.0"
  }
 },
 "nbformat": 4,
 "nbformat_minor": 5
}
