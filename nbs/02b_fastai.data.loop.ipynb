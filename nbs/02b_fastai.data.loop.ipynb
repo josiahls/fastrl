{
 "cells": [
  {
   "cell_type": "code",
   "execution_count": 1,
   "id": "durable-dialogue",
   "metadata": {},
   "outputs": [],
   "source": [
    "#hide\n",
    "#skip\n",
    "%config Completer.use_jedi = False\n",
    "%config IPCompleter.greedy=True\n",
    "# upgrade fastrl on colab\n",
    "! [ -e /content ] && pip install -Uqq fastrl['dev'] pyvirtualdisplay && \\\n",
    "                     apt-get install -y xvfb python-opengl > /dev/null 2>&1 \n",
    "# NOTE: IF YOU SEE VERSION ERRORS, IT IS SAFE TO IGNORE THEM. COLAB IS BEHIND IN SOME OF THE PACKAGE VERSIONS"
   ]
  },
  {
   "cell_type": "code",
   "execution_count": 2,
   "id": "viral-cambridge",
   "metadata": {},
   "outputs": [
    {
     "name": "stderr",
     "output_type": "stream",
     "text": [
      "/opt/conda/lib/python3.7/site-packages/fastprogress/fastprogress.py:102: UserWarning: Couldn't import ipywidgets properly, progress bar will use console behavior\n",
      "  warn(\"Couldn't import ipywidgets properly, progress bar will use console behavior\")\n"
     ]
    }
   ],
   "source": [
    "# hide\n",
    "from fastcore.imports import in_colab\n",
    "# Since colab still requires tornado<6, we don't want to import nbdev if we don't have to\n",
    "if not in_colab():\n",
    "    from nbdev.showdoc import *\n",
    "    from nbdev.imports import *\n",
    "    if not os.environ.get(\"IN_TEST\", None):\n",
    "        assert IN_NOTEBOOK\n",
    "        assert not IN_COLAB\n",
    "        assert IN_IPYTHON\n",
    "else:\n",
    "    # Virutual display is needed for colab\n",
    "    from pyvirtualdisplay import Display\n",
    "    display = Display(visible=0, size=(400, 300))\n",
    "    display.start()"
   ]
  },
  {
   "cell_type": "code",
   "execution_count": 3,
   "id": "offshore-stuart",
   "metadata": {},
   "outputs": [],
   "source": [
    "# default_exp fastai.data.loop"
   ]
  },
  {
   "cell_type": "code",
   "execution_count": 6,
   "id": "26ab275f-e95a-435f-9ec5-7882ce6b9f92",
   "metadata": {},
   "outputs": [
    {
     "name": "stdout",
     "output_type": "stream",
     "text": [
      "Name: torchdata\n",
      "Version: 0.3.0\n",
      "Summary: Composable data loading modules for PyTorch\n",
      "Home-page: https://github.com/pytorch/data\n",
      "Author: PyTorch Team\n",
      "Author-email: packages@pytorch.org\n",
      "License: BSD\n",
      "Location: /opt/conda/lib/python3.7/site-packages\n",
      "Requires: torch, requests, urllib3\n",
      "Required-by: \n",
      "Note: you may need to restart the kernel to use updated packages.\n"
     ]
    }
   ],
   "source": [
    "pip show torchdata"
   ]
  },
  {
   "cell_type": "code",
   "execution_count": 4,
   "id": "assisted-contract",
   "metadata": {},
   "outputs": [
    {
     "ename": "ImportError",
     "evalue": "cannot import name 'check_lambda_fn' from 'torch.utils.data.datapipes.utils.common' (/opt/conda/lib/python3.7/site-packages/torch/utils/data/datapipes/utils/common.py)",
     "output_type": "error",
     "traceback": [
      "\u001b[0;31m---------------------------------------------------------------------------\u001b[0m",
      "\u001b[0;31mImportError\u001b[0m                               Traceback (most recent call last)",
      "\u001b[0;32m/tmp/ipykernel_106/1347758512.py\u001b[0m in \u001b[0;36m<module>\u001b[0;34m\u001b[0m\n\u001b[1;32m      5\u001b[0m \u001b[0;31m# Third party libs\u001b[0m\u001b[0;34m\u001b[0m\u001b[0;34m\u001b[0m\u001b[0;34m\u001b[0m\u001b[0m\n\u001b[1;32m      6\u001b[0m \u001b[0;32mfrom\u001b[0m \u001b[0mfastcore\u001b[0m\u001b[0;34m.\u001b[0m\u001b[0mall\u001b[0m \u001b[0;32mimport\u001b[0m \u001b[0;34m*\u001b[0m\u001b[0;34m\u001b[0m\u001b[0;34m\u001b[0m\u001b[0m\n\u001b[0;32m----> 7\u001b[0;31m \u001b[0;32mimport\u001b[0m \u001b[0mtorchdata\u001b[0m\u001b[0;34m.\u001b[0m\u001b[0mdatapipes\u001b[0m \u001b[0;32mas\u001b[0m \u001b[0mdp\u001b[0m\u001b[0;34m\u001b[0m\u001b[0;34m\u001b[0m\u001b[0m\n\u001b[0m\u001b[1;32m      8\u001b[0m \u001b[0;32mfrom\u001b[0m \u001b[0mtorch\u001b[0m\u001b[0;34m.\u001b[0m\u001b[0mutils\u001b[0m\u001b[0;34m.\u001b[0m\u001b[0mdata\u001b[0m\u001b[0;34m.\u001b[0m\u001b[0mgraph\u001b[0m \u001b[0;32mimport\u001b[0m \u001b[0mtraverse\u001b[0m\u001b[0;34m\u001b[0m\u001b[0;34m\u001b[0m\u001b[0m\n\u001b[1;32m      9\u001b[0m \u001b[0;31m# Local modules\u001b[0m\u001b[0;34m\u001b[0m\u001b[0;34m\u001b[0m\u001b[0;34m\u001b[0m\u001b[0m\n",
      "\u001b[0;32m/opt/conda/lib/python3.7/site-packages/torchdata/__init__.py\u001b[0m in \u001b[0;36m<module>\u001b[0;34m\u001b[0m\n\u001b[1;32m      1\u001b[0m \u001b[0;31m# Copyright (c) Facebook, Inc. and its affiliates.\u001b[0m\u001b[0;34m\u001b[0m\u001b[0;34m\u001b[0m\u001b[0;34m\u001b[0m\u001b[0m\n\u001b[0;32m----> 2\u001b[0;31m \u001b[0;32mfrom\u001b[0m \u001b[0;34m.\u001b[0m \u001b[0;32mimport\u001b[0m \u001b[0mdatapipes\u001b[0m\u001b[0;34m\u001b[0m\u001b[0;34m\u001b[0m\u001b[0m\n\u001b[0m\u001b[1;32m      3\u001b[0m \u001b[0;34m\u001b[0m\u001b[0m\n\u001b[1;32m      4\u001b[0m \u001b[0;32mtry\u001b[0m\u001b[0;34m:\u001b[0m\u001b[0;34m\u001b[0m\u001b[0;34m\u001b[0m\u001b[0m\n\u001b[1;32m      5\u001b[0m     \u001b[0;32mfrom\u001b[0m \u001b[0;34m.\u001b[0m\u001b[0mversion\u001b[0m \u001b[0;32mimport\u001b[0m \u001b[0m__version__\u001b[0m  \u001b[0;31m# noqa: F401\u001b[0m\u001b[0;34m\u001b[0m\u001b[0;34m\u001b[0m\u001b[0m\n",
      "\u001b[0;32m/opt/conda/lib/python3.7/site-packages/torchdata/datapipes/__init__.py\u001b[0m in \u001b[0;36m<module>\u001b[0;34m\u001b[0m\n\u001b[1;32m      2\u001b[0m \u001b[0;32mfrom\u001b[0m \u001b[0mtorch\u001b[0m\u001b[0;34m.\u001b[0m\u001b[0mutils\u001b[0m\u001b[0;34m.\u001b[0m\u001b[0mdata\u001b[0m \u001b[0;32mimport\u001b[0m \u001b[0mfunctional_datapipe\u001b[0m\u001b[0;34m\u001b[0m\u001b[0;34m\u001b[0m\u001b[0m\n\u001b[1;32m      3\u001b[0m \u001b[0;34m\u001b[0m\u001b[0m\n\u001b[0;32m----> 4\u001b[0;31m \u001b[0;32mfrom\u001b[0m \u001b[0;34m.\u001b[0m \u001b[0;32mimport\u001b[0m \u001b[0miter\u001b[0m\u001b[0;34m,\u001b[0m \u001b[0mmap\u001b[0m\u001b[0;34m,\u001b[0m \u001b[0mutils\u001b[0m\u001b[0;34m\u001b[0m\u001b[0;34m\u001b[0m\u001b[0m\n\u001b[0m\u001b[1;32m      5\u001b[0m \u001b[0;34m\u001b[0m\u001b[0m\n\u001b[1;32m      6\u001b[0m \u001b[0m__all__\u001b[0m \u001b[0;34m=\u001b[0m \u001b[0;34m[\u001b[0m\u001b[0;34m\"functional_datapipe\"\u001b[0m\u001b[0;34m,\u001b[0m \u001b[0;34m\"iter\"\u001b[0m\u001b[0;34m,\u001b[0m \u001b[0;34m\"map\"\u001b[0m\u001b[0;34m,\u001b[0m \u001b[0;34m\"utils\"\u001b[0m\u001b[0;34m]\u001b[0m\u001b[0;34m\u001b[0m\u001b[0;34m\u001b[0m\u001b[0m\n",
      "\u001b[0;32m/opt/conda/lib/python3.7/site-packages/torchdata/datapipes/iter/__init__.py\u001b[0m in \u001b[0;36m<module>\u001b[0;34m\u001b[0m\n\u001b[1;32m     40\u001b[0m )\n\u001b[1;32m     41\u001b[0m \u001b[0;32mfrom\u001b[0m \u001b[0mtorchdata\u001b[0m\u001b[0;34m.\u001b[0m\u001b[0mdatapipes\u001b[0m\u001b[0;34m.\u001b[0m\u001b[0miter\u001b[0m\u001b[0;34m.\u001b[0m\u001b[0mtransform\u001b[0m\u001b[0;34m.\u001b[0m\u001b[0mbucketbatcher\u001b[0m \u001b[0;32mimport\u001b[0m \u001b[0mBucketBatcherIterDataPipe\u001b[0m \u001b[0;32mas\u001b[0m \u001b[0mBucketBatcher\u001b[0m\u001b[0;34m\u001b[0m\u001b[0;34m\u001b[0m\u001b[0m\n\u001b[0;32m---> 42\u001b[0;31m \u001b[0;32mfrom\u001b[0m \u001b[0mtorchdata\u001b[0m\u001b[0;34m.\u001b[0m\u001b[0mdatapipes\u001b[0m\u001b[0;34m.\u001b[0m\u001b[0miter\u001b[0m\u001b[0;34m.\u001b[0m\u001b[0mtransform\u001b[0m\u001b[0;34m.\u001b[0m\u001b[0mflatmap\u001b[0m \u001b[0;32mimport\u001b[0m \u001b[0mFlatMapperIterDataPipe\u001b[0m \u001b[0;32mas\u001b[0m \u001b[0mFlatMapper\u001b[0m\u001b[0;34m\u001b[0m\u001b[0;34m\u001b[0m\u001b[0m\n\u001b[0m\u001b[1;32m     43\u001b[0m from torchdata.datapipes.iter.util.cacheholder import (\n\u001b[1;32m     44\u001b[0m     \u001b[0mEndOnDiskCacheHolderIterDataPipe\u001b[0m \u001b[0;32mas\u001b[0m \u001b[0mEndOnDiskCacheHolder\u001b[0m\u001b[0;34m,\u001b[0m\u001b[0;34m\u001b[0m\u001b[0;34m\u001b[0m\u001b[0m\n",
      "\u001b[0;32m/opt/conda/lib/python3.7/site-packages/torchdata/datapipes/iter/transform/flatmap.py\u001b[0m in \u001b[0;36m<module>\u001b[0;34m\u001b[0m\n\u001b[1;32m      3\u001b[0m \u001b[0;34m\u001b[0m\u001b[0m\n\u001b[1;32m      4\u001b[0m \u001b[0;32mfrom\u001b[0m \u001b[0mtorch\u001b[0m\u001b[0;34m.\u001b[0m\u001b[0mutils\u001b[0m\u001b[0;34m.\u001b[0m\u001b[0mdata\u001b[0m \u001b[0;32mimport\u001b[0m \u001b[0mfunctional_datapipe\u001b[0m\u001b[0;34m,\u001b[0m \u001b[0mIterDataPipe\u001b[0m\u001b[0;34m\u001b[0m\u001b[0;34m\u001b[0m\u001b[0m\n\u001b[0;32m----> 5\u001b[0;31m \u001b[0;32mfrom\u001b[0m \u001b[0mtorch\u001b[0m\u001b[0;34m.\u001b[0m\u001b[0mutils\u001b[0m\u001b[0;34m.\u001b[0m\u001b[0mdata\u001b[0m\u001b[0;34m.\u001b[0m\u001b[0mdatapipes\u001b[0m\u001b[0;34m.\u001b[0m\u001b[0mutils\u001b[0m\u001b[0;34m.\u001b[0m\u001b[0mcommon\u001b[0m \u001b[0;32mimport\u001b[0m \u001b[0mcheck_lambda_fn\u001b[0m\u001b[0;34m,\u001b[0m \u001b[0mDILL_AVAILABLE\u001b[0m\u001b[0;34m\u001b[0m\u001b[0;34m\u001b[0m\u001b[0m\n\u001b[0m\u001b[1;32m      6\u001b[0m \u001b[0;34m\u001b[0m\u001b[0m\n\u001b[1;32m      7\u001b[0m \u001b[0;32mif\u001b[0m \u001b[0mDILL_AVAILABLE\u001b[0m\u001b[0;34m:\u001b[0m\u001b[0;34m\u001b[0m\u001b[0;34m\u001b[0m\u001b[0m\n",
      "\u001b[0;31mImportError\u001b[0m: cannot import name 'check_lambda_fn' from 'torch.utils.data.datapipes.utils.common' (/opt/conda/lib/python3.7/site-packages/torch/utils/data/datapipes/utils/common.py)"
     ]
    }
   ],
   "source": [
    "# export\n",
    "# Python native modules\n",
    "import os\n",
    "import logging\n",
    "# Third party libs\n",
    "from fastcore.all import *\n",
    "import torchdata.datapipes as dp\n",
    "from torch.utils.data.graph import traverse\n",
    "# Local modules\n",
    "from fastrl.fastai.data.pipes.demux import *\n",
    "from fastrl.fastai.data.pipes.mux import *\n",
    "\n",
    "_logger = logging.getLogger()"
   ]
  },
  {
   "cell_type": "markdown",
   "id": "lesser-innocent",
   "metadata": {},
   "source": [
    "# Loop\n",
    "> Customizable loop API for fastrl."
   ]
  },
  {
   "cell_type": "markdown",
   "id": "8a84e24d-a82a-464a-9412-1ab8de544af6",
   "metadata": {},
   "source": [
    "so we need loops within loops posibly. Or do they need to be loops? maybe they need to \n",
    "just be sections? do we even need sections? I wonder if we can leverage the torch data as more \n",
    "of a base... I want to see how far we can get with this....\n",
    "\n",
    "we also need to think about whether this is always iterable or whether we can mix and match\n",
    "map vs iter...\n",
    "\n",
    "\n",
    "\n",
    "\n"
   ]
  },
  {
   "cell_type": "code",
   "execution_count": null,
   "id": "1f2c63bf-6951-4266-9c66-3ab59dd99d41",
   "metadata": {},
   "outputs": [],
   "source": [
    "# export\n",
    "class Callback():\n",
    "    \"A list of data pipes that have an associated job.\"\n",
    "    call_on = L()\n",
    "    exclude_under = L()\n",
    "    do_copy = False\n",
    "    immediate_parents = L()\n",
    "    root_parent = None\n",
    "    \n",
    "    def set_parents(self,immediate_parent):\n",
    "        if immediate_parent is not None: \n",
    "            self.immediate_parents.append(immediate_parent)"
   ]
  },
  {
   "cell_type": "code",
   "execution_count": null,
   "id": "f4f0c24d-c8cf-4fcb-8e65-69528ec4aa05",
   "metadata": {},
   "outputs": [],
   "source": [
    "# export\n",
    "class Loop(dp.iter.IterDataPipe):\n",
    "    \"A datapipe with nesting and callback capabilities.\"\n",
    "    callbacks = L()\n",
    "    \n",
    "    def set_cbs(self,cbs): \n",
    "        self.callbacks = [cb() if isinstance(cb, type) else cb for cb in cbs]\n",
    "        for cb in self.callbacks: cb.set_parents(self)\n",
    "    \n",
    "    def filter_call_on_cbs(self, cbs):\n",
    "        return tuple(cb for cb in cbs if self.__class__ in cb.call_on)\n",
    "    \n",
    "    def __repr__(self): return f'{self.__class__} {self.callbacks}'\n",
    "    \n",
    "    def handle_exeption(self,ex): raise\n",
    "    \n",
    "    def __iter__(self):\n",
    "        try:\n",
    "            for cb in self.callbacks: \n",
    "                getattr(cb,'before_'+self.__class__.__name__.lower(),noop)()\n",
    "            for record in self.__subiter__():\n",
    "            \n",
    "                for cb in self.callbacks: \n",
    "                    getattr(cb,'on_'+self.__class__.__name__.lower(),noop)()\n",
    "                yield record\n",
    "                \n",
    "            for cb in self.callbacks: \n",
    "                getattr(cb,'after_'+self.__class__.__name__.lower(),noop)()\n",
    "        except Exception as e:\n",
    "            for cb in self.callbacks: \n",
    "                getattr(cb,'failed_'+self.__class__.__name__.lower(),noop)()\n",
    "            self.handle_exeption(e)\n",
    "        finally:\n",
    "            for cb in self.callbacks: \n",
    "                getattr(cb,'finally_'+self.__class__.__name__.lower(),noop)()"
   ]
  },
  {
   "cell_type": "code",
   "execution_count": null,
   "id": "9d840592-3d7d-4db2-ba26-15117517f95d",
   "metadata": {},
   "outputs": [],
   "source": [
    "# export\n",
    "def filter_exclude_under_cbs(\n",
    "    pipe:Union[Loop,dp.iter.IterDataPipe], \n",
    "    cbs:List[Callback]\n",
    "):\n",
    "    cbs = tuple(cb for cb in cbs if pipe.__class__  not in cb.exclude_under)\n",
    "    for v in traverse(pipe).values():\n",
    "        for k,_ in v.items():\n",
    "            cbs = filter_exclude_under_cbs(k,cbs)\n",
    "    return cbs"
   ]
  },
  {
   "cell_type": "code",
   "execution_count": null,
   "id": "45f538e5-fd74-45da-bde8-5399d7bc1e1f",
   "metadata": {},
   "outputs": [],
   "source": [
    "class Iterationer(Loop):\n",
    "        \n",
    "    def __init__(self, source_datapipe, **kwargs) -> None:\n",
    "        self.source_datapipe = source_datapipe\n",
    "        self.kwargs = kwargs\n",
    "    \n",
    "    \n",
    "    def __subiter__(self) -> Iterator[T_co]:\n",
    "        for element in self.source_datapipe:\n",
    "            # xb,yb = next(self.source_datapipe)\n",
    "            # pred = self.kwargs['model'](xb)\n",
    "            # loss_grad = self.kwargs['loss_grad']\n",
    "            # opt = self.kwargs['opt']\n",
    "            # loss_func = self.kwargs['loss_func']\n",
    "            # if len(yb):\n",
    "            #     loss_grad = self.loss_func(pred, *yb)\n",
    "            #     loss = loss_grad.clone()\n",
    "            # self('after_loss')\n",
    "            # if not self.training or not len(yb): return\n",
    "            # self('before_backward')\n",
    "            # loss_grad.backward()\n",
    "            # opt.step()\n",
    "            # opt.zero_grad()\n",
    "            # yield loss.detach()\n",
    "            yield 0.5\n",
    "\n",
    "class Batcher(Loop):\n",
    "    def __init__(self, source_datapipe, **kwargs) -> None:\n",
    "        self.source_datapipe = source_datapipe\n",
    "        self.kwargs = kwargs\n",
    "    \n",
    "    def __subiter__(self) -> Iterator[T_co]:\n",
    "        for element in self.source_datapipe:\n",
    "            yield element\n",
    "        \n",
    "class Trainer(Loop):\n",
    "        \n",
    "    def __init__(self, source_datapipe, **kwargs) -> None:\n",
    "        self.source_datapipe = source_datapipe\n",
    "        self.kwargs = kwargs\n",
    "    \n",
    "    def __subiter__(self) -> Iterator[T_co]:\n",
    "        for element in self.source_datapipe:\n",
    "            yield element\n",
    "                \n",
    "class Validater(Loop):\n",
    "        \n",
    "    def __init__(self, source_datapipe, **kwargs) -> None:\n",
    "        self.source_datapipe = source_datapipe\n",
    "        self.kwargs = kwargs\n",
    "    \n",
    "    def __subiter__(self) -> Iterator[T_co]:\n",
    "        for element in self.source_datapipe:\n",
    "            yield element\n",
    "               \n",
    "class Epocher(Loop):\n",
    "    def __init__(self, source_datapipes:tuple, **kwargs) -> None:\n",
    "        test_eq(type(source_datapipes), tuple)\n",
    "        self.source_datapipes = source_datapipes\n",
    "        self.kwargs = kwargs\n",
    "    \n",
    "    def __subiter__(self) -> Iterator[T_co]:\n",
    "        for element in zip(*self.source_datapipes):\n",
    "            yield element\n",
    "                \n",
    "class Fitter(Loop):\n",
    "    def __init__(self,iterable):\n",
    "                \n",
    "        trainer,validater = Trainer(iterable),Validater(iterable)\n",
    "        train_b, valid_b = Batcher(trainer),Batcher(validater)\n",
    "        train_it,valid_it = Iterationer(train_b),Iterationer(valid_b)\n",
    "        self.epocher = dp.iter.Zipper(train_it,valid_it)\n",
    "        self.source_datapipe = self.epocher\n",
    "            \n",
    "    def __subiter__(self):\n",
    "        for epoch in self.source_datapipe: \n",
    "            yield epoch\n",
    "\n",
    "        \n",
    "class TrainerCallback(Callback):\n",
    "    \"A list of data pipes that have an associated job.\"\n",
    "    call_on=L(Trainer)\n",
    "    exclude_under=L()\n",
    "    \n",
    "    def on_trainer(self): print('on_trainer')\n",
    "    \n",
    "class IterCallback(Callback):\n",
    "    \"A list of data pipes that have an associated job.\"\n",
    "    call_on=L(Iterationer)\n",
    "    exclude_under=L(Validater)\n"
   ]
  },
  {
   "cell_type": "code",
   "execution_count": null,
   "id": "a17f7d84-937e-406f-b50a-6ac48aac13f8",
   "metadata": {},
   "outputs": [],
   "source": [
    "# export\n",
    "def default_constructor(\n",
    "    datapipe:Union[Loop,Dict], \n",
    "    cbs:List[Callback],\n",
    "    _outer=True\n",
    "):\n",
    "    if _outer and issubclass(datapipe.__class__,Loop):\n",
    "        for cb in cbs: cb.root_parent=datapipe\n",
    "    d = datapipe if isinstance(datapipe,dict) else traverse(datapipe)\n",
    "    \n",
    "    for k,v in d.items():\n",
    "        if issubclass(k.__class__,Loop): \n",
    "            filtered_cbs = k.filter_call_on_cbs(cbs)\n",
    "            _logger.info('Given loop: %s, found callbacks: %s',k.__class__,filtered_cbs)\n",
    "            kept_cbs = filter_exclude_under_cbs(k,filtered_cbs)\n",
    "            _logger.info('Given loop: %s, filtered callbacks: %s',k.__class__,kept_cbs)\n",
    "            kept_cbs = [copy(cb) if cb.do_copy else cb for cb in kept_cbs]\n",
    "            k.set_cbs(kept_cbs)\n",
    "        if not v: continue\n",
    "        default_constructor(v, cbs, _outer=False)\n",
    "        "
   ]
  },
  {
   "cell_type": "code",
   "execution_count": null,
   "id": "e14bf4db-165c-455d-a76b-577c5c0c2a9e",
   "metadata": {},
   "outputs": [],
   "source": [
    "base_pipe = Fitter([1,2,3,4,5,6])\n",
    "\n",
    "default_constructor(\n",
    "    base_pipe,\n",
    "    [TrainerCallback,IterCallback]\n",
    ")\n",
    "str(traverse(base_pipe))\n"
   ]
  },
  {
   "cell_type": "code",
   "execution_count": null,
   "id": "598dee65-2600-40d0-a8b9-55bd77e87786",
   "metadata": {},
   "outputs": [],
   "source": [
    "list(base_pipe)"
   ]
  },
  {
   "cell_type": "code",
   "execution_count": null,
   "id": "current-pilot",
   "metadata": {},
   "outputs": [],
   "source": [
    "# hide\n",
    "from fastcore.imports import in_colab\n",
    "\n",
    "# Since colab still requires tornado<6, we don't want to import nbdev if we don't have to\n",
    "if not in_colab():\n",
    "    from nbdev.export import *\n",
    "    from nbdev.export2html import *\n",
    "    from nbdev.cli import *\n",
    "    make_readme()\n",
    "    notebook2script(silent=True)"
   ]
  },
  {
   "cell_type": "code",
   "execution_count": null,
   "id": "036c64d0-f9c6-4432-82f8-c171840afc55",
   "metadata": {},
   "outputs": [],
   "source": []
  }
 ],
 "metadata": {
  "kernelspec": {
   "display_name": "Python 3 (ipykernel)",
   "language": "python",
   "name": "python3"
  },
  "language_info": {
   "codemirror_mode": {
    "name": "ipython",
    "version": 3
   },
   "file_extension": ".py",
   "mimetype": "text/x-python",
   "name": "python",
   "nbconvert_exporter": "python",
   "pygments_lexer": "ipython3",
   "version": "3.7.11"
  }
 },
 "nbformat": 4,
 "nbformat_minor": 5
}
