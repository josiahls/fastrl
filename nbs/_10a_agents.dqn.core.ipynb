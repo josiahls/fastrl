{
 "cells": [
  {
   "cell_type": "code",
   "execution_count": 1,
   "id": "durable-dialogue",
   "metadata": {},
   "outputs": [],
   "source": [
    "#|hide\n",
    "#skip\n",
    "%config Completer.use_jedi = False\n",
    "# upgrade fastrl on colab\n",
    "! [ -e /content ] && pip install -Uqq fastrl['dev'] pyvirtualdisplay && \\\n",
    "                     apt-get install -y xvfb python-opengl > /dev/null 2>&1 \n",
    "# NOTE: IF YOU SEE VERSION ERRORS, IT IS SAFE TO IGNORE THEM. COLAB IS BEHIND IN SOME OF THE PACKAGE VERSIONS"
   ]
  },
  {
   "cell_type": "code",
   "execution_count": 2,
   "id": "viral-cambridge",
   "metadata": {},
   "outputs": [],
   "source": [
    "#|hide\n",
    "from fastcore.imports import in_colab\n",
    "# Since colab still requires tornado<6, we don't want to import nbdev if we don't have to\n",
    "if not in_colab():\n",
    "    from nbdev.showdoc import *\n",
    "    from nbdev.imports import *\n",
    "    if not os.environ.get(\"IN_TEST\", None):\n",
    "        assert IN_NOTEBOOK\n",
    "        assert not IN_COLAB\n",
    "        assert IN_IPYTHON\n",
    "else:\n",
    "    # Virutual display is needed for colab\n",
    "    from pyvirtualdisplay import Display\n",
    "    display = Display(visible=0, size=(400, 300))\n",
    "    display.start()"
   ]
  },
  {
   "cell_type": "code",
   "execution_count": 3,
   "id": "offshore-stuart",
   "metadata": {},
   "outputs": [],
   "source": [
    "#|default_exp agents.dqn.core"
   ]
  },
  {
   "cell_type": "code",
   "execution_count": 1,
   "id": "assisted-contract",
   "metadata": {},
   "outputs": [
    {
     "ename": "ModuleNotFoundError",
     "evalue": "No module named 'fastrl.fastai.data.loop.core'",
     "output_type": "error",
     "traceback": [
      "\u001b[0;31m---------------------------------------------------------------------------\u001b[0m",
      "\u001b[0;31mModuleNotFoundError\u001b[0m                       Traceback (most recent call last)",
      "\u001b[0;32m/tmp/ipykernel_182/33067003.py\u001b[0m in \u001b[0;36m<module>\u001b[0;34m\u001b[0m\n\u001b[1;32m     15\u001b[0m \u001b[0;31m# from fastrl.fastai.data.block import *\u001b[0m\u001b[0;34m\u001b[0m\u001b[0;34m\u001b[0m\u001b[0;34m\u001b[0m\u001b[0m\n\u001b[1;32m     16\u001b[0m \u001b[0;31m# from fastrl.fastai.data.gym import *\u001b[0m\u001b[0;34m\u001b[0m\u001b[0;34m\u001b[0m\u001b[0;34m\u001b[0m\u001b[0m\n\u001b[0;32m---> 17\u001b[0;31m \u001b[0;32mfrom\u001b[0m \u001b[0mfastrl\u001b[0m\u001b[0;34m.\u001b[0m\u001b[0mfastai\u001b[0m\u001b[0;34m.\u001b[0m\u001b[0mdata\u001b[0m\u001b[0;34m.\u001b[0m\u001b[0mloop\u001b[0m\u001b[0;34m.\u001b[0m\u001b[0mcore\u001b[0m \u001b[0;32mimport\u001b[0m \u001b[0;34m*\u001b[0m\u001b[0;34m\u001b[0m\u001b[0;34m\u001b[0m\u001b[0m\n\u001b[0m\u001b[1;32m     18\u001b[0m \u001b[0;32mfrom\u001b[0m \u001b[0mfastrl\u001b[0m\u001b[0;34m.\u001b[0m\u001b[0mfastai\u001b[0m\u001b[0;34m.\u001b[0m\u001b[0mdata\u001b[0m\u001b[0;34m.\u001b[0m\u001b[0mload\u001b[0m \u001b[0;32mimport\u001b[0m \u001b[0;34m*\u001b[0m\u001b[0;34m\u001b[0m\u001b[0;34m\u001b[0m\u001b[0m\n\u001b[1;32m     19\u001b[0m \u001b[0;34m\u001b[0m\u001b[0m\n",
      "\u001b[0;31mModuleNotFoundError\u001b[0m: No module named 'fastrl.fastai.data.loop.core'"
     ]
    }
   ],
   "source": [
    "#|export\n",
    "# Python native modules\n",
    "import os\n",
    "from collections import deque\n",
    "# Third party libs\n",
    "import torch\n",
    "from torch.nn import *\n",
    "from fastcore.all import *\n",
    "from fastai.learner import *\n",
    "from fastai.torch_basics import *\n",
    "from fastai.torch_core import *\n",
    "from fastai.callback.all import *\n",
    "from torch.utils.tensorboard import SummaryWriter\n",
    "# Local modules\n",
    "# from fastrl.fastai.data.block import *\n",
    "# from fastrl.fastai.data.gym import *\n",
    "from fastrl.fastai.data.loop.core import *\n",
    "from fastrl.fastai.data.load import *\n",
    "\n",
    "from fastrl.agent import *\n",
    "from fastrl.core import *\n",
    "# from fastrl.memory.experience_replay import *"
   ]
  },
  {
   "cell_type": "markdown",
   "id": "lesser-innocent",
   "metadata": {},
   "source": [
    "# DQN Core\n",
    "> Contains the minimum DQN API."
   ]
  },
  {
   "cell_type": "code",
   "execution_count": 7,
   "id": "adc270b5-35eb-4b19-8dd4-7b4572e1c9f8",
   "metadata": {},
   "outputs": [],
   "source": [
    "#|export\n",
    "class DQN(Module):\n",
    "    def __init__(self,state_sz:int,action_sz:int,hidden=512):\n",
    "        self.layers=Sequential(\n",
    "            Linear(state_sz,hidden),\n",
    "            ReLU(),\n",
    "            Linear(hidden,action_sz),\n",
    "        )\n",
    "    def forward(self,x): return self.layers(x)"
   ]
  },
  {
   "cell_type": "code",
   "execution_count": 8,
   "id": "66fd7638-5e79-4e2f-9e05-72b723dafedc",
   "metadata": {},
   "outputs": [
    {
     "data": {
      "text/plain": [
       "tensor([[-0.1083,  0.2219],\n",
       "        [-0.1935, -0.4017],\n",
       "        [ 0.0412, -0.1168],\n",
       "        [-0.0267, -0.1671],\n",
       "        [-0.0293, -0.1543],\n",
       "        [ 0.1106,  0.2868],\n",
       "        [ 0.2690, -0.0577],\n",
       "        [-0.4528, -0.1191],\n",
       "        [ 0.1607, -0.0179],\n",
       "        [-0.0753, -0.0415]], grad_fn=<AddmmBackward0>)"
      ]
     },
     "execution_count": 8,
     "metadata": {},
     "output_type": "execute_result"
    }
   ],
   "source": [
    "dqn=DQN(4,2)\n",
    "dqn(torch.randn((10,4)))"
   ]
  },
  {
   "cell_type": "code",
   "execution_count": null,
   "id": "10be0418-de9e-4935-bb46-a9d5fcb10a7c",
   "metadata": {},
   "outputs": [],
   "source": [
    "#|export\n",
    "class ArgMaxFeed(AgentCallback):\n",
    "    def before_action(self): \n",
    "        raw_action=self.agent.model(self.experience['state'].to(default_device()))\n",
    "        self.agent.raw_action_shape=raw_action.shape\n",
    "        self.agent.action=torch.argmax(raw_action,dim=1).reshape(-1,1)\n",
    "        \n",
    "class DiscreteEpsilonRandomSelect(AgentCallback):\n",
    "    \n",
    "    def __init__(self,idx=0,min_epsilon=0.2,max_epsilon=1,max_steps=5000):\n",
    "        store_attr()\n",
    "        self.epsilon=max_epsilon\n",
    "    \n",
    "    def before_noise(self): \n",
    "        self.experience['epsilon']=torch.full(self.agent.action.shape,self.epsilon)\n",
    "        self.experience['orignal_actions']=self.agent.action.detach().clone()\n",
    "        mask = np.random.random(size=self.action.shape[0]) < self.epsilon\n",
    "        rand_actions = np.random.choice(len(self.action.shape), sum(mask))\n",
    "        actions=self.agent.action.cpu().detach().numpy().reshape((-1,))\n",
    "        actions[mask] = rand_actions\n",
    "        self.agent.action=Tensor(actions).long().reshape(-1,1)\n",
    "\n",
    "        if self.agent.model.training: \n",
    "            self.idx+=1\n",
    "            self.epsilon=max(self.min_epsilon,self.max_epsilon-self.idx/self.max_steps)"
   ]
  },
  {
   "cell_type": "code",
   "execution_count": null,
   "id": "bd5e2b96-1c64-4047-85ff-a7dc01d55969",
   "metadata": {},
   "outputs": [],
   "source": [
    "agent=Agent(dqn,cbs=[ArgMaxFeed,DiscreteEpsilonRandomSelect(max_epsilon=1)]).to(default_device())\n",
    "agent.model.train();"
   ]
  },
  {
   "cell_type": "code",
   "execution_count": null,
   "id": "f0776b47-0b80-422e-ae70-40daf49d8bde",
   "metadata": {},
   "outputs": [],
   "source": [
    "test_eq(agent.cbs[1].epsilon,1)"
   ]
  },
  {
   "cell_type": "code",
   "execution_count": null,
   "id": "261fc6fc-ad4b-415d-8e35-cb81fdfcaec1",
   "metadata": {},
   "outputs": [],
   "source": [
    "for i in range(agent.cbs[1].max_steps//2):\n",
    "    action,exp=agent.do_action(state=torch.randn((10,4)).to(default_device()))\n"
   ]
  },
  {
   "cell_type": "code",
   "execution_count": null,
   "id": "b57cead1-0b0b-4b7d-8c54-3aff5ca03bb4",
   "metadata": {},
   "outputs": [],
   "source": [
    "action"
   ]
  },
  {
   "cell_type": "code",
   "execution_count": null,
   "id": "1dc61bdd-2b20-4dc8-a075-c02db3cbe99d",
   "metadata": {},
   "outputs": [],
   "source": [
    "test_ne(agent.cbs[1].epsilon,1)"
   ]
  },
  {
   "cell_type": "code",
   "execution_count": null,
   "id": "b1ff8701-a0dc-4319-9e24-b110070802ad",
   "metadata": {},
   "outputs": [],
   "source": [
    "test_ne(agent.cbs[1].epsilon,0.2)"
   ]
  },
  {
   "cell_type": "code",
   "execution_count": null,
   "id": "415c1abf-90ee-406a-a16b-832f15c7a0e3",
   "metadata": {},
   "outputs": [],
   "source": [
    "for i in range(agent.cbs[1].max_steps//2):\n",
    "    agent.do_action(state=torch.randn((10,4)).to(default_device()))\n"
   ]
  },
  {
   "cell_type": "code",
   "execution_count": null,
   "id": "7b0f231a-4dff-44ad-b7d8-b82d60995398",
   "metadata": {},
   "outputs": [],
   "source": [
    "test_eq(agent.cbs[1].epsilon,0.2)"
   ]
  },
  {
   "cell_type": "code",
   "execution_count": null,
   "id": "0ef21b12-2568-4910-a1f1-0809a8706f87",
   "metadata": {},
   "outputs": [],
   "source": [
    "agent.show_loop()"
   ]
  },
  {
   "cell_type": "code",
   "execution_count": null,
   "id": "0072ef1b-d81c-49d4-bbbd-74de1a5cdcb9",
   "metadata": {},
   "outputs": [],
   "source": [
    "#|export        \n",
    "class Epsilon(Metric):\n",
    "    order=30\n",
    "    epsilon=0\n",
    "    counter=0\n",
    "    \n",
    "    def __init__(self,writer:SummaryWriter=None): store_attr()\n",
    "\n",
    "    @property\n",
    "    def value(self): return self.epsilon\n",
    "    def reset(self): self.epsilon=0\n",
    "    def accumulate(self,learn):\n",
    "        for cb in learn.model.cbs:\n",
    "            if type(cb)==DiscreteEpsilonRandomSelect:\n",
    "                self.epsilon=cb.epsilon\n",
    "                self.counter+=1\n",
    "                if self.writer is not None: self.writer.add_scalar('epsilon',self.epsilon,self.counter)"
   ]
  },
  {
   "cell_type": "code",
   "execution_count": null,
   "id": "aaf6eb01-5449-4d5a-afd5-cc422bcac62b",
   "metadata": {},
   "outputs": [],
   "source": [
    "#|export\n",
    "class DQNTrainer(Callback):\n",
    "    \"Performs traditional training on `next_q`. Requires a callback such as `RegularNextQ`\"\n",
    "    def __init__(self,discount=0.99,n_steps=1):\n",
    "        store_attr()\n",
    "        self._xb=None  \n",
    "        self.n_batch=0\n",
    "    \n",
    "    def after_pred(self): \n",
    "        self.learn.yb=self.xb\n",
    "        # self.learn.xb=self.xb\n",
    "        self._xb=(self.xb,)\n",
    "        self.learn.done_mask=self.xb['done'].reshape(-1,)\n",
    "        self.learn.next_q=self.learn.model.model(self.xb['next_state']).max(dim=1).values.reshape(-1,1)\n",
    "        self.learn.next_q[self.done_mask]=0 #xb[done_mask]['reward']\n",
    "        self.learn.targets=self.xb['reward']+self.learn.next_q*(self.discount**self.n_steps)\n",
    "        self.learn.pred=self.learn.model.model(self.xb['state'])\n",
    "        \n",
    "        t_q=self.pred.clone()\n",
    "        t_q.scatter_(1,self.xb['action'],self.targets)\n",
    "        # finalize the xb and yb\n",
    "        self.learn.yb=(t_q,)\n",
    "        \n",
    "        # if (self.n_batch-1)%500==0:\n",
    "        #     print('The loss should be practically zero: ',self.loss)\n",
    "        #     print(self.learn.pred-t_q)\n",
    "        \n",
    "        \n",
    "        with torch.no_grad():\n",
    "            self.learn.td_error=(self.pred-self.yb[0]).mean(dim=1).reshape(-1,1)**2\n",
    "        \n",
    "    def before_backward(self): \n",
    "        self.n_batch+=1\n",
    "        self.learn.xb=self._xb"
   ]
  },
  {
   "cell_type": "code",
   "execution_count": null,
   "id": "64c40afb-7ed5-4ba1-a752-827b1a13d662",
   "metadata": {},
   "outputs": [],
   "source": [
    "#|hide\n",
    "SHOW_TENSOR_BOARD=True\n",
    "if not os.environ.get(\"IN_TEST\", None) and SHOW_TENSOR_BOARD:\n",
    "    run_tensorboard(samples_per_plugin='images=2000')"
   ]
  },
  {
   "cell_type": "code",
   "execution_count": null,
   "id": "e2d91aec-d20d-4e28-83b1-5492915350fe",
   "metadata": {},
   "outputs": [],
   "source": [
    "# slow\n",
    "dqn=DQN(4,2)\n",
    "agent=Agent(dqn,cbs=[ArgMaxFeed,DiscreteEpsilonRandomSelect])\n",
    "source=Source(cbs=[GymLoop('CartPole-v1',agent,steps_count=1,seed=None,\n",
    "                           steps_delta=1,#mode='rgb_array'\n",
    "                          ),\n",
    "                   FirstLast,\n",
    "                   #ResReduce(reduce_by=4)\n",
    "                  ])\n",
    "\n",
    "dls=SourceDataBlock().dataloaders([source],n=500,bs=1,num_workers=0)\n",
    "\n",
    "exp_replay=ExperienceReplayCallback(bs=128,max_sz=1000,warmup_sz=128)\n",
    "# er_tb=ExperienceReplayTensorboard(every_epoch=3)\n",
    "\n",
    "learn=Learner(dls,agent,loss_func=MSELoss(),\n",
    "              cbs=[exp_replay,DQNTrainer(n_steps=1)#,er_tb\n",
    "                  ],\n",
    "              metrics=[Reward,Epsilon,NEpisodes\n",
    "                      ])"
   ]
  },
  {
   "cell_type": "code",
   "execution_count": null,
   "id": "02127b39-3a0a-444a-a148-eaee6087de02",
   "metadata": {},
   "outputs": [],
   "source": [
    "slow=False\n",
    "learn.fit(50 if slow else 1,lr=0.01,wd=0)"
   ]
  },
  {
   "cell_type": "code",
   "execution_count": null,
   "id": "62b51d6a-c336-4518-bf8c-786f27f30f9c",
   "metadata": {},
   "outputs": [],
   "source": [
    "test_eq(learn.model.cbs[1].idx,500)"
   ]
  },
  {
   "cell_type": "code",
   "execution_count": null,
   "id": "current-pilot",
   "metadata": {},
   "outputs": [],
   "source": [
    "#|hide\n",
    "from fastcore.imports import in_colab\n",
    "\n",
    "# Since colab still requires tornado<6, we don't want to import nbdev if we don't have to\n",
    "if not in_colab():\n",
    "    from nbdev.export import *\n",
    "    from nbdev.export2html import *\n",
    "    from nbdev.cli import *\n",
    "    make_readme()\n",
    "    notebook2script(silent=True)\n",
    "    "
   ]
  },
  {
   "cell_type": "code",
   "execution_count": null,
   "id": "d5d2104d-1cd0-4e35-91c6-c49d7a85454c",
   "metadata": {},
   "outputs": [],
   "source": []
  }
 ],
 "metadata": {
  "kernelspec": {
   "display_name": "Python 3 (ipykernel)",
   "language": "python",
   "name": "python3"
  },
  "language_info": {
   "codemirror_mode": {
    "name": "ipython",
    "version": 3
   },
   "file_extension": ".py",
   "mimetype": "text/x-python",
   "name": "python",
   "nbconvert_exporter": "python",
   "pygments_lexer": "ipython3",
   "version": "3.7.11"
  }
 },
 "nbformat": 4,
 "nbformat_minor": 5
}
