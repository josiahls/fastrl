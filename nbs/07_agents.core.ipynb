{
 "cells": [
  {
   "cell_type": "code",
   "execution_count": 1,
   "id": "durable-dialogue",
   "metadata": {},
   "outputs": [],
   "source": [
    "#hide\n",
    "#skip\n",
    "%config Completer.use_jedi = False\n",
    "%config IPCompleter.greedy=True\n",
    "# upgrade fastrl on colab\n",
    "! [ -e /content ] && pip install -Uqq fastrl['dev'] pyvirtualdisplay && \\\n",
    "                     apt-get install -y xvfb python-opengl > /dev/null 2>&1 \n",
    "# NOTE: IF YOU SEE VERSION ERRORS, IT IS SAFE TO IGNORE THEM. COLAB IS BEHIND IN SOME OF THE PACKAGE VERSIONS"
   ]
  },
  {
   "cell_type": "code",
   "execution_count": 2,
   "id": "viral-cambridge",
   "metadata": {},
   "outputs": [],
   "source": [
    "# hide\n",
    "from fastcore.imports import in_colab\n",
    "# Since colab still requires tornado<6, we don't want to import nbdev if we don't have to\n",
    "if not in_colab():\n",
    "    from nbdev.showdoc import *\n",
    "    from nbdev.imports import *\n",
    "    if not os.environ.get(\"IN_TEST\", None):\n",
    "        assert IN_NOTEBOOK\n",
    "        assert not IN_COLAB\n",
    "        assert IN_IPYTHON\n",
    "else:\n",
    "    # Virutual display is needed for colab\n",
    "    from pyvirtualdisplay import Display\n",
    "    display = Display(visible=0, size=(400, 300))\n",
    "    display.start()"
   ]
  },
  {
   "cell_type": "code",
   "execution_count": 3,
   "id": "offshore-stuart",
   "metadata": {},
   "outputs": [],
   "source": [
    "# default_exp agents.core"
   ]
  },
  {
   "cell_type": "code",
   "execution_count": 9,
   "id": "assisted-contract",
   "metadata": {},
   "outputs": [],
   "source": [
    "# export\n",
    "# Python native modules\n",
    "import os\n",
    "# Third party libs\n",
    "from fastcore.all import *\n",
    "import torchdata.datapipes as dp\n",
    "import torch\n",
    "from fastai.torch_basics import *\n",
    "from fastai.torch_core import *\n",
    "# Local modules\n",
    "from fastrl.core import *\n",
    "from fastrl.pipes.core import *\n",
    "from fastrl.pipes.map.demux import *\n",
    "from fastrl.pipes.map.mux import *"
   ]
  },
  {
   "cell_type": "markdown",
   "id": "lesser-innocent",
   "metadata": {},
   "source": [
    "# Agent Core\n",
    "> Minimum Agent DataPipes, objects, and utilities"
   ]
  },
  {
   "cell_type": "code",
   "execution_count": 102,
   "id": "742c9cc6-4be3-4606-b07d-12d30da2144f",
   "metadata": {},
   "outputs": [],
   "source": [
    "# export\n",
    "class AgentBase(dp.iter.IterDataPipe):\n",
    "    def __init__(self,\n",
    "            model:Module, # The base NN that we getting raw action values out of.\n",
    "            action_iterator:list=None # A reference to an iterator that contains actions to process.\n",
    "    ):\n",
    "        self.model = model\n",
    "        self.iterable = ifnone(action_iterator,[])\n",
    "        self.agent_base = self\n",
    "        \n",
    "    def __iter__(self):\n",
    "        while self.iterable:\n",
    "            yield self.iterable.pop(0)\n",
    "            \n",
    "add_docs(\n",
    "    AgentBase,\n",
    "    \"\"\"Acts as the footer of the Agent pipeline. \n",
    "    Maintains important state such as the `model` being used for get actions from.\n",
    "    Also optionally allows passing a reference list of `action_iterator` which is a\n",
    "    persistent list of actions for the entire agent pipeline to process through.\n",
    "    \n",
    "    > Important: Must be at the start of the pipeline, and be used with AgentHead at the end.\n",
    "    \n",
    "    > Important: `action_iterator` is stored in the `iterable` field. However the recommended\n",
    "    way of passing actions to the pipeline is to call an `AgentHead` instance.\n",
    "    \"\"\"\n",
    "    \n",
    ")            \n",
    "            \n",
    "def is_agent_base(pipe): return isinstance(pipe,AgentBase)\n",
    "def find_agent_base(pipe):\n",
    "    \"Basically just find_pipes+is_agent_base with exception handling\"\n",
    "    agent_base = find_pipes(pipe,is_agent_base)\n",
    "    if not agent_base:\n",
    "        raise Exception('`AgentBase` must be at the start of the pipeline, but it seems to be missing.')\n",
    "    return agent_base[0]\n",
    "\n",
    "class AgentHead(dp.iter.IterDataPipe):\n",
    "    def __init__(self,source_datapipe): \n",
    "        self.source_datapipe = source_datapipe\n",
    "        self.agent_base = find_agent_base(self.source_datapipe)\n",
    "        \n",
    "    def __call__(self,actions:list): \n",
    "        self.agent_base.iterable.extend(actions)\n",
    "        return self\n",
    "    \n",
    "    def __iter__(self): yield from self.source_datapipe\n",
    "        \n",
    "add_docs(\n",
    "    AgentHead,\n",
    "    \"\"\"Acts as the head of the Agent pipeline. \n",
    "    Used for conveniently adding actions to the pipeline to process.\n",
    "    \n",
    "    > Important: Must be paired with `AgentBase`\n",
    "    \"\"\"\n",
    ")  "
   ]
  },
  {
   "cell_type": "code",
   "execution_count": 103,
   "id": "81a967a3-e169-4253-908f-0bce2dff16fe",
   "metadata": {},
   "outputs": [],
   "source": [
    "from torch.nn import *\n",
    "from torch.optim import *\n",
    "from fastai.torch_basics import *\n",
    "from fastai.torch_core import *\n",
    "\n",
    "class DQN(Module):\n",
    "    def __init__(self,state_sz:int,action_sz:int,hidden=512):\n",
    "        self.layers=Sequential(\n",
    "            Linear(state_sz,hidden),\n",
    "            ReLU(),\n",
    "            Linear(hidden,action_sz),\n",
    "        )\n",
    "    def forward(self,x): return self.layers(x)\n",
    "\n",
    "class SimpleModelRunner(dp.iter.IterDataPipe):\n",
    "    def __init__(self,source_datapipe): \n",
    "        self.source_datapipe = source_datapipe\n",
    "        self.agent_base = find_agent_base(self.source_datapipe)\n",
    "    \n",
    "    def __iter__(self):\n",
    "        for o in self.source_datapipe: \n",
    "            try: yield self.agent_base.model(o)\n",
    "            except Exception:\n",
    "                print('Failed on ',o)\n",
    "                raise"
   ]
  },
  {
   "cell_type": "code",
   "execution_count": 104,
   "id": "5a48ec65-b385-4dea-87c8-f58c202d2276",
   "metadata": {},
   "outputs": [],
   "source": [
    "# Setup up the core NN\n",
    "torch.manual_seed(0)\n",
    "model = DQN(4,2)\n",
    "# Setup the agent\n",
    "agent = AgentBase(model,[])\n",
    "# All the things that make this agent unique and special\n",
    "# In this instance, all this module does is pass the action directly through to the model.\n",
    "agent = SimpleModelRunner(agent)\n",
    "# Bring everything together into the AgentHead where actions will be passed and then run through the pipeline\n",
    "agent = AgentHead(agent)"
   ]
  },
  {
   "cell_type": "markdown",
   "id": "fc2bb26b-2ade-44d2-970c-7fff000d0ed6",
   "metadata": {},
   "source": [
    "If we pass a list of tensors, we will get a list of actions:"
   ]
  },
  {
   "cell_type": "code",
   "execution_count": 108,
   "id": "330318f5-4423-4174-b9fe-499bcbb9de85",
   "metadata": {},
   "outputs": [
    {
     "name": "stdout",
     "output_type": "stream",
     "text": [
      "tensor([-0.2909, -1.0357], grad_fn=<AddBackward0>)\n"
     ]
    }
   ],
   "source": [
    "for action in agent([tensor([1,2,3,4]).float()]):\n",
    "    print(action)"
   ]
  },
  {
   "cell_type": "code",
   "execution_count": 109,
   "id": "385e1141-4961-45dd-ad4e-2d8f049f5294",
   "metadata": {},
   "outputs": [
    {
     "name": "stdout",
     "output_type": "stream",
     "text": [
      "tensor([-0.2909, -1.0357], grad_fn=<AddBackward0>)\n",
      "tensor([-0.2909, -1.0357], grad_fn=<AddBackward0>)\n",
      "tensor([-0.2909, -1.0357], grad_fn=<AddBackward0>)\n"
     ]
    }
   ],
   "source": [
    "for action in agent([tensor([1,2,3,4]).float()]*3):\n",
    "    print(action)"
   ]
  },
  {
   "cell_type": "code",
   "execution_count": 110,
   "id": "81907bf7-dab1-4908-a82f-35842cf66b33",
   "metadata": {},
   "outputs": [
    {
     "data": {
      "image/svg+xml": [
       "<?xml version=\"1.0\" encoding=\"UTF-8\" standalone=\"no\"?>\n",
       "<!DOCTYPE svg PUBLIC \"-//W3C//DTD SVG 1.1//EN\"\n",
       " \"http://www.w3.org/Graphics/SVG/1.1/DTD/svg11.dtd\">\n",
       "<!-- Generated by graphviz version 2.40.1 (20161225.0304)\n",
       " -->\n",
       "<!-- Title: %3 Pages: 1 -->\n",
       "<svg width=\"147pt\" height=\"137pt\"\n",
       " viewBox=\"0.00 0.00 147.00 137.00\" xmlns=\"http://www.w3.org/2000/svg\" xmlns:xlink=\"http://www.w3.org/1999/xlink\">\n",
       "<g id=\"graph0\" class=\"graph\" transform=\"scale(1 1) rotate(0) translate(4 133)\">\n",
       "<title>%3</title>\n",
       "<polygon fill=\"#ffffff\" stroke=\"transparent\" points=\"-4,4 -4,-133 143,-133 143,4 -4,4\"/>\n",
       "<!-- AgentHead&#45;8782001865873 -->\n",
       "<g id=\"node1\" class=\"node\">\n",
       "<title>AgentHead&#45;8782001865873</title>\n",
       "<polygon fill=\"#caff70\" stroke=\"#000000\" points=\"71,-19 0,-19 0,0 71,0 71,-19\"/>\n",
       "<text text-anchor=\"middle\" x=\"35.5\" y=\"-7\" font-family=\"monospace\" font-size=\"10.00\" fill=\"#000000\">AgentHead</text>\n",
       "</g>\n",
       "<!-- SimpleModelRunner&#45;8782001865377 -->\n",
       "<g id=\"node2\" class=\"node\">\n",
       "<title>SimpleModelRunner&#45;8782001865377</title>\n",
       "<polygon fill=\"#d3d3d3\" stroke=\"#000000\" points=\"139,-74 20,-74 20,-55 139,-55 139,-74\"/>\n",
       "<text text-anchor=\"middle\" x=\"79.5\" y=\"-62\" font-family=\"monospace\" font-size=\"10.00\" fill=\"#000000\">SimpleModelRunner</text>\n",
       "</g>\n",
       "<!-- SimpleModelRunner&#45;8782001865377&#45;&gt;AgentHead&#45;8782001865873 -->\n",
       "<g id=\"edge1\" class=\"edge\">\n",
       "<title>SimpleModelRunner&#45;8782001865377&#45;&gt;AgentHead&#45;8782001865873</title>\n",
       "<path fill=\"none\" stroke=\"#000000\" d=\"M71.8358,-54.9197C65.7281,-47.2851 57.0093,-36.3867 49.6433,-27.1792\"/>\n",
       "<polygon fill=\"#000000\" stroke=\"#000000\" points=\"52.3527,-24.9631 43.3727,-19.3408 46.8866,-29.336 52.3527,-24.9631\"/>\n",
       "</g>\n",
       "<!-- AgentBase&#45;8782001908749 -->\n",
       "<g id=\"node3\" class=\"node\">\n",
       "<title>AgentBase&#45;8782001908749</title>\n",
       "<polygon fill=\"#add8e6\" stroke=\"#000000\" points=\"71,-129 0,-129 0,-110 71,-110 71,-129\"/>\n",
       "<text text-anchor=\"middle\" x=\"35.5\" y=\"-117\" font-family=\"monospace\" font-size=\"10.00\" fill=\"#000000\">AgentBase</text>\n",
       "</g>\n",
       "<!-- AgentBase&#45;8782001908749&#45;&gt;AgentHead&#45;8782001865873 -->\n",
       "<g id=\"edge3\" class=\"edge\">\n",
       "<title>AgentBase&#45;8782001908749&#45;&gt;AgentHead&#45;8782001865873</title>\n",
       "<path fill=\"none\" stroke=\"#000000\" d=\"M28.6801,-109.9446C22.8189,-101.1041 14.8052,-87.3505 11.5,-74 7.5645,-58.1037 14.7228,-40.74 22.2238,-28.037\"/>\n",
       "<polygon fill=\"#000000\" stroke=\"#000000\" points=\"25.3607,-29.6314 27.8486,-19.3328 19.4814,-25.8321 25.3607,-29.6314\"/>\n",
       "</g>\n",
       "<!-- AgentBase&#45;8782001908749&#45;&gt;SimpleModelRunner&#45;8782001865377 -->\n",
       "<g id=\"edge2\" class=\"edge\">\n",
       "<title>AgentBase&#45;8782001908749&#45;&gt;SimpleModelRunner&#45;8782001865377</title>\n",
       "<path fill=\"none\" stroke=\"#000000\" d=\"M43.1642,-109.9197C49.2719,-102.2851 57.9907,-91.3867 65.3567,-82.1792\"/>\n",
       "<polygon fill=\"#000000\" stroke=\"#000000\" points=\"68.1134,-84.336 71.6273,-74.3408 62.6473,-79.9631 68.1134,-84.336\"/>\n",
       "</g>\n",
       "</g>\n",
       "</svg>\n"
      ],
      "text/plain": [
       "<graphviz.graphs.Digraph at 0x7fcb8199fc50>"
      ]
     },
     "execution_count": 110,
     "metadata": {},
     "output_type": "execute_result"
    }
   ],
   "source": [
    "from torchdata.datapipes.utils import to_graph\n",
    "to_graph(agent)"
   ]
  },
  {
   "cell_type": "code",
   "execution_count": null,
   "id": "50a34793-2cdd-406b-9614-793b9f60dfba",
   "metadata": {},
   "outputs": [],
   "source": [
    "# export\n",
    "class DiscreteEpsilonRandomSelect(dp.iter.IterDataPipe):\n",
    "    debug=False\n",
    "    def __init__(self,source_datapipe,agent_base,n_actions,idx=0,min_epsilon=0.2,max_epsilon=1,max_steps=5000):\n",
    "        self.n_actions = n_actions\n",
    "        self.source_datapipe = source_datapipe\n",
    "        self.agent_base = agent_base\n",
    "        self.agent_base.epislon_selector = self \n",
    "        self.min_epsilon = min_epsilon\n",
    "        self.epsilon = max_epsilon\n",
    "        self.max_epsilon = max_epsilon\n",
    "        self.max_steps = max_steps\n",
    "        self.idx = idx\n",
    "    \n",
    "    def __iter__(self):\n",
    "        for action in self.source_datapipe:\n",
    "            mask = np.random.random(size=self.n_actions) < self.epsilon\n",
    "            rand_actions = np.random.choice(self.n_actions, sum(mask))\n",
    "            action = action.cpu().detach().numpy().reshape((-1,))\n",
    "            action[mask] = rand_actions\n",
    "            action=Tensor(action).long().reshape(-1,1)\n",
    "\n",
    "            if self.agent_base.model.training: \n",
    "                self.idx += 1\n",
    "                self.epsilon = max(self.min_epsilon,self.max_epsilon-self.idx/self.max_steps)\n",
    "            yield action"
   ]
  },
  {
   "cell_type": "code",
   "execution_count": null,
   "id": "e10df204-7a6e-476c-b489-f44fd849f9e1",
   "metadata": {},
   "outputs": [],
   "source": [
    "# export\n",
    "from torch.nn import *\n",
    "from torch.optim import *\n",
    "from fastai.torch_basics import *\n",
    "from fastai.torch_core import *\n",
    "\n",
    "class DQN(Module):\n",
    "    def __init__(self,state_sz:int,action_sz:int,hidden=512):\n",
    "        self.layers=Sequential(\n",
    "            Linear(state_sz,hidden),\n",
    "            ReLU(),\n",
    "            Linear(hidden,action_sz),\n",
    "        )\n",
    "    def forward(self,x): return self.layers(x)\n",
    "\n",
    "\n",
    "class RawOutOfStep(dp.iter.IterDataPipe):\n",
    "    def __init__(self,source_datapipe,agent_base,key): \n",
    "        self.source_datapipe = source_datapipe\n",
    "        self.key = key\n",
    "        self.agent_base = agent_base\n",
    "        \n",
    "    def __iter__(self):\n",
    "        for o in self.source_datapipe:\n",
    "            x = tensor(o[self.key])\n",
    "            x = self.agent_base.model(x)\n",
    "            yield x\n",
    "            \n",
    "class ArgmaxOfStep(dp.iter.IterDataPipe):\n",
    "    def __init__(self,source_datapipe,agent_base): \n",
    "        self.source_datapipe = source_datapipe\n",
    "        self.agent_base = agent_base\n",
    "        \n",
    "    def __iter__(self):\n",
    "        for o in self.source_datapipe:\n",
    "            yield torch.argmax(o)\n",
    "            \n",
    "class ToDiscrete(dp.iter.IterDataPipe):\n",
    "    def __init__(self,source_datapipe,agent_base): \n",
    "        self.source_datapipe = source_datapipe\n",
    "        self.agent_base = agent_base\n",
    "        \n",
    "    def __iter__(self):\n",
    "        for x in self.source_datapipe:\n",
    "            if isinstance(x,Tensor):\n",
    "                if len(x.shape)==0:\n",
    "                    yield int(x)\n",
    "                else:\n",
    "                    yield x.long()\n",
    "            else:\n",
    "                raise Exception(f'Cant convert to discrete: {x}')"
   ]
  },
  {
   "cell_type": "code",
   "execution_count": null,
   "id": "25c987f4-8652-4631-b734-ab2b7e068f19",
   "metadata": {},
   "outputs": [],
   "source": [
    "# Setup up the core NN\n",
    "model = DQN(4,2)\n",
    "# Setup the agent\n",
    "agent_base = Agent(model,[])\n",
    "agent = RawOutOfStep(agent_base,agent_base,'state')\n",
    "agent_ep = DiscreteEpsilonRandomSelect(agent,agent_base,2,min_epsilon=0)\n",
    "agent = ArgmaxOfStep(agent_ep,agent_base)\n",
    "agent = ToDiscrete(agent,agent_base)"
   ]
  },
  {
   "cell_type": "code",
   "execution_count": null,
   "id": "current-pilot",
   "metadata": {},
   "outputs": [],
   "source": [
    "# hide\n",
    "from fastcore.imports import in_colab\n",
    "\n",
    "# Since colab still requires tornado<6, we don't want to import nbdev if we don't have to\n",
    "if not in_colab():\n",
    "    from nbdev.export import *\n",
    "    from nbdev.export2html import *\n",
    "    from nbdev.cli import *\n",
    "    make_readme()\n",
    "    notebook2script(silent=True)"
   ]
  }
 ],
 "metadata": {
  "kernelspec": {
   "display_name": "Python 3 (ipykernel)",
   "language": "python",
   "name": "python3"
  },
  "language_info": {
   "codemirror_mode": {
    "name": "ipython",
    "version": 3
   },
   "file_extension": ".py",
   "mimetype": "text/x-python",
   "name": "python",
   "nbconvert_exporter": "python",
   "pygments_lexer": "ipython3",
   "version": "3.7.11"
  }
 },
 "nbformat": 4,
 "nbformat_minor": 5
}
