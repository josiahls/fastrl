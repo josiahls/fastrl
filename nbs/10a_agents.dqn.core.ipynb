{
 "cells": [
  {
   "cell_type": "code",
   "execution_count": 1,
   "id": "durable-dialogue",
   "metadata": {},
   "outputs": [],
   "source": [
    "#hide\n",
    "#skip\n",
    "%config Completer.use_jedi = False\n",
    "# upgrade fastrl on colab\n",
    "! [ -e /content ] && pip install -Uqq fastrl['dev'] pyvirtualdisplay && \\\n",
    "                     apt-get install -y xvfb python-opengl > /dev/null 2>&1 \n",
    "# NOTE: IF YOU SEE VERSION ERRORS, IT IS SAFE TO IGNORE THEM. COLAB IS BEHIND IN SOME OF THE PACKAGE VERSIONS"
   ]
  },
  {
   "cell_type": "code",
   "execution_count": 2,
   "id": "viral-cambridge",
   "metadata": {},
   "outputs": [],
   "source": [
    "# hide\n",
    "from fastcore.imports import in_colab\n",
    "# Since colab still requires tornado<6, we don't want to import nbdev if we don't have to\n",
    "if not in_colab():\n",
    "    from nbverbose.showdoc import *\n",
    "    from nbdev.imports import *\n",
    "    if not os.environ.get(\"IN_TEST\", None):\n",
    "        assert IN_NOTEBOOK\n",
    "        assert not IN_COLAB\n",
    "        assert IN_IPYTHON\n",
    "else:\n",
    "    # Virutual display is needed for colab\n",
    "    from pyvirtualdisplay import Display\n",
    "    display = Display(visible=0, size=(400, 300))\n",
    "    display.start()"
   ]
  },
  {
   "cell_type": "code",
   "execution_count": 3,
   "id": "offshore-stuart",
   "metadata": {},
   "outputs": [],
   "source": [
    "# default_exp agents.dqn.core"
   ]
  },
  {
   "cell_type": "code",
   "execution_count": 4,
   "id": "assisted-contract",
   "metadata": {},
   "outputs": [],
   "source": [
    "# export\n",
    "# Python native modules\n",
    "import os\n",
    "from collections import deque\n",
    "# Third party libs\n",
    "import torch\n",
    "from torch.nn import *\n",
    "from fastcore.all import *\n",
    "from fastai.learner import *\n",
    "from fastai.torch_basics import *\n",
    "from fastai.torch_core import *\n",
    "from fastai.callback.all import *\n",
    "# Local modules\n",
    "from fastrl.data.block import *\n",
    "from fastrl.data.gym import *\n",
    "from fastrl.agent import *\n",
    "from fastrl.core import *\n",
    "from fastrl.memory.experience_replay import *"
   ]
  },
  {
   "cell_type": "markdown",
   "id": "lesser-innocent",
   "metadata": {},
   "source": [
    "# DQN Core\n",
    "> Contains the minimum DQN API."
   ]
  },
  {
   "cell_type": "code",
   "execution_count": 5,
   "id": "adc270b5-35eb-4b19-8dd4-7b4572e1c9f8",
   "metadata": {},
   "outputs": [],
   "source": [
    "# export\n",
    "class DQN(Module):\n",
    "    def __init__(self,state_sz:int,action_sz:int,hidden=512):\n",
    "        self.layers=Sequential(\n",
    "            Linear(state_sz,hidden),\n",
    "            ReLU(),\n",
    "            Linear(hidden,action_sz),\n",
    "        )\n",
    "    def forward(self,x): return self.layers(x)"
   ]
  },
  {
   "cell_type": "code",
   "execution_count": 6,
   "id": "66fd7638-5e79-4e2f-9e05-72b723dafedc",
   "metadata": {},
   "outputs": [
    {
     "data": {
      "text/plain": [
       "tensor([[-0.0437, -0.1542],\n",
       "        [ 0.2478,  0.7249],\n",
       "        [ 0.2663,  0.4346],\n",
       "        [ 0.1535,  0.2444],\n",
       "        [ 0.1971,  0.2716],\n",
       "        [ 0.2241,  0.3392],\n",
       "        [ 0.0055,  0.3505],\n",
       "        [ 0.4619,  0.6979],\n",
       "        [-0.1015, -0.0173],\n",
       "        [ 0.3846,  0.4448]], grad_fn=<AddmmBackward>)"
      ]
     },
     "execution_count": 6,
     "metadata": {},
     "output_type": "execute_result"
    }
   ],
   "source": [
    "dqn=DQN(4,2)\n",
    "dqn(torch.randn((10,4)))"
   ]
  },
  {
   "cell_type": "code",
   "execution_count": 7,
   "id": "10be0418-de9e-4935-bb46-a9d5fcb10a7c",
   "metadata": {},
   "outputs": [],
   "source": [
    "# export\n",
    "class ArgMaxFeed(AgentCallback):\n",
    "    def before_action(self): \n",
    "        raw_action=self.agent.model(self.experience['state'].to(default_device()))\n",
    "        self.agent.raw_action_shape=raw_action.shape\n",
    "        self.agent.action=torch.argmax(raw_action,dim=1).reshape(-1,1)\n",
    "        \n",
    "class DiscreteEpsilonRandomSelect(AgentCallback):\n",
    "    \n",
    "    def __init__(self,epsilon=0.5,idx=0,min_epsilon=0.2,max_epsilon=1,max_steps=5000):\n",
    "        store_attr()\n",
    "    \n",
    "    def before_noise(self): \n",
    "        self.mask=torch.randn(size=(self.agent.action.shape[0],))<self.epsilon\n",
    "        self.experience['randomly_selected']=self.mask.reshape(-1,1)\n",
    "        self.experience['epsilon']=torch.full(self.agent.action.shape,self.epsilon)\n",
    "        self.experience['orignal_actions']=self.agent.action.detach().clone()\n",
    "        self.agent.action[self.mask]=self.agent.action[self.mask].random_(0,self.agent.raw_action_shape[1])\n",
    "        self.agent.action=self.agent.action.detach().cpu().numpy()\n",
    "    \n",
    "        if self.agent.model.training: \n",
    "            self.idx+=1\n",
    "            self.epsilon=max(self.min_epsilon,self.max_epsilon-self.idx/self.max_steps)"
   ]
  },
  {
   "cell_type": "code",
   "execution_count": 8,
   "id": "538ab88e-2315-4742-8064-2137d3daeb28",
   "metadata": {},
   "outputs": [
    {
     "data": {
      "text/plain": [
       "(array([[0],\n",
       "        [0],\n",
       "        [1],\n",
       "        [1],\n",
       "        [0],\n",
       "        [0],\n",
       "        [0],\n",
       "        [0],\n",
       "        [1],\n",
       "        [1]]),\n",
       " {'state': tensor([[-2.4970, -1.3726,  0.6369,  0.0151],\n",
       "          [ 0.0750,  0.2606,  1.8871,  0.3553],\n",
       "          [-1.4058,  0.0698,  0.7881, -0.3081],\n",
       "          [-0.4657, -0.8099,  1.0114,  1.2144],\n",
       "          [-0.4508, -1.2925,  0.5397, -0.1329],\n",
       "          [ 0.8868,  0.1393,  0.9706,  0.1309],\n",
       "          [ 0.6669, -0.3596,  0.6593, -1.3893],\n",
       "          [-0.2932,  0.9846, -0.0815,  0.5941],\n",
       "          [ 1.0626, -0.6207, -0.7510,  0.7719],\n",
       "          [-0.6088,  0.0440,  0.6037,  0.4950]], device='cuda:0'),\n",
       "  'randomly_selected': tensor([[ True],\n",
       "          [ True],\n",
       "          [False],\n",
       "          [ True],\n",
       "          [ True],\n",
       "          [ True],\n",
       "          [ True],\n",
       "          [ True],\n",
       "          [False],\n",
       "          [ True]]),\n",
       "  'epsilon': tensor([[0.5000],\n",
       "          [0.5000],\n",
       "          [0.5000],\n",
       "          [0.5000],\n",
       "          [0.5000],\n",
       "          [0.5000],\n",
       "          [0.5000],\n",
       "          [0.5000],\n",
       "          [0.5000],\n",
       "          [0.5000]]),\n",
       "  'orignal_actions': tensor([[1],\n",
       "          [1],\n",
       "          [1],\n",
       "          [1],\n",
       "          [1],\n",
       "          [1],\n",
       "          [0],\n",
       "          [1],\n",
       "          [1],\n",
       "          [1]], device='cuda:0')})"
      ]
     },
     "execution_count": 8,
     "metadata": {},
     "output_type": "execute_result"
    }
   ],
   "source": [
    "agent=Agent(dqn,cbs=[ArgMaxFeed,DiscreteEpsilonRandomSelect(max_epsilon=0.5)]).to(default_device())\n",
    "agent.do_action(state=torch.randn((10,4)).to(default_device()))\n"
   ]
  },
  {
   "cell_type": "code",
   "execution_count": 9,
   "id": "0ef21b12-2568-4910-a1f1-0809a8706f87",
   "metadata": {},
   "outputs": [
    {
     "name": "stdout",
     "output_type": "stream",
     "text": [
      "Start Action\n",
      "   - before_preprocess: []\n",
      "   - after_preprocess: []\n",
      "   - before_action  : [ArgMaxFeed]\n",
      "   - after_action   : []\n",
      "   - before_noise   : [DiscreteEpsilonRandomSelect]\n",
      "   - after_noise    : []\n",
      "End Action\n"
     ]
    }
   ],
   "source": [
    "agent.show_loop()"
   ]
  },
  {
   "cell_type": "code",
   "execution_count": 10,
   "id": "0072ef1b-d81c-49d4-bbbd-74de1a5cdcb9",
   "metadata": {},
   "outputs": [],
   "source": [
    "# export        \n",
    "class Epsilon(Metric):\n",
    "    order=30\n",
    "    epsilon=0\n",
    "\n",
    "    @property\n",
    "    def value(self): return self.epsilon\n",
    "    def reset(self): self.epsilon=0\n",
    "    def accumulate(self,learn):\n",
    "        for cb in learn.model.cbs:\n",
    "            if type(cb)==DiscreteEpsilonRandomSelect:\n",
    "                self.epsilon=cb.epsilon"
   ]
  },
  {
   "cell_type": "code",
   "execution_count": 23,
   "id": "aaf6eb01-5449-4d5a-afd5-cc422bcac62b",
   "metadata": {},
   "outputs": [],
   "source": [
    "# export\n",
    "class DQNTrainer(Callback):\n",
    "    \"Performs traditional training on `next_q`. Requires a callback such as `RegularNextQ`\"\n",
    "    def __init__(self,discount=0.99,n_steps=1):\n",
    "        store_attr()\n",
    "        self._xb=None  \n",
    "        self.n_batch=0\n",
    "    \n",
    "    def after_pred(self): \n",
    "        self.learn.yb=self.xb\n",
    "        # self.learn.xb=self.xb\n",
    "        self._xb=(self.xb,)\n",
    "        self.learn.done_mask=self.xb['done'].reshape(-1,)\n",
    "        self.learn.next_q=self.learn.model.model(self.xb['next_state']).max(dim=1).values.reshape(-1,1)\n",
    "        self.learn.next_q[self.done_mask]=0 #xb[done_mask]['reward']\n",
    "        self.learn.targets=self.xb['reward']+self.learn.next_q*(self.discount**self.n_steps)\n",
    "        self.learn.pred=self.learn.model.model(self.xb['state'])\n",
    "        \n",
    "        t_q=self.pred.clone()\n",
    "        t_q.scatter_(1,self.xb['action'],self.targets)\n",
    "        # finalize the xb and yb\n",
    "        self.learn.yb=(t_q,)\n",
    "        \n",
    "        if (self.n_batch-1)%500==0:\n",
    "            print('The loss should be practically zero: ',self.loss)\n",
    "            print(self.learn.pred-t_q)\n",
    "        \n",
    "        \n",
    "        with torch.no_grad():\n",
    "            self.learn.td_error=(self.pred-self.yb[0]).mean(dim=1).reshape(-1,1)**2\n",
    "        \n",
    "    def before_backward(self): \n",
    "        self.n_batch+=1\n",
    "        self.learn.xb=self._xb"
   ]
  },
  {
   "cell_type": "code",
   "execution_count": 20,
   "id": "64c40afb-7ed5-4ba1-a752-827b1a13d662",
   "metadata": {},
   "outputs": [
    {
     "name": "stdout",
     "output_type": "stream",
     "text": [
      "Selecting TensorBoard with logdir runs (started 0:01:38 ago; port 6006, pid 446).\n"
     ]
    },
    {
     "data": {
      "text/html": [
       "\n",
       "      <iframe id=\"tensorboard-frame-52dac89c38ae890d\" width=\"100%\" height=\"1000\" frameborder=\"0\">\n",
       "      </iframe>\n",
       "      <script>\n",
       "        (function() {\n",
       "          const frame = document.getElementById(\"tensorboard-frame-52dac89c38ae890d\");\n",
       "          const url = new URL(\"/\", window.location);\n",
       "          const port = 6006;\n",
       "          if (port) {\n",
       "            url.port = port;\n",
       "          }\n",
       "          frame.src = url;\n",
       "        })();\n",
       "      </script>\n",
       "    "
      ],
      "text/plain": [
       "<IPython.core.display.HTML object>"
      ]
     },
     "metadata": {},
     "output_type": "display_data"
    }
   ],
   "source": [
    "# hide\n",
    "SHOW_TENSOR_BOARD=True\n",
    "if not os.environ.get(\"IN_TEST\", None) and SHOW_TENSOR_BOARD:\n",
    "    run_tensorboard(samples_per_plugin='images=2000')"
   ]
  },
  {
   "cell_type": "code",
   "execution_count": 24,
   "id": "e2d91aec-d20d-4e28-83b1-5492915350fe",
   "metadata": {},
   "outputs": [
    {
     "name": "stdout",
     "output_type": "stream",
     "text": [
      "Could not do one pass in your dataloader, there is something wrong in it\n"
     ]
    }
   ],
   "source": [
    "# slow\n",
    "dqn=DQN(4,2)\n",
    "agent=Agent(dqn,cbs=[ArgMaxFeed,DiscreteEpsilonRandomSelect])\n",
    "source=Source(cbs=[GymLoop('CartPole-v1',agent,steps_count=3,seed=None,\n",
    "                           steps_delta=1,mode='rgb_array'),\n",
    "                   FirstLast,\n",
    "                   ResReduce(reduce_by=4)])\n",
    "\n",
    "dls=SourceDataBlock().dataloaders([source],n=500,bs=1,num_workers=0)\n",
    "\n",
    "exp_replay=ExperienceReplayCallback(bs=128,max_sz=256,warmup_sz=128,freeze_at_max=True)\n",
    "er_tb=ExperienceReplayTensorboard(every_epoch=3)\n",
    "\n",
    "learn=Learner(dls,agent,loss_func=MSELoss(),\n",
    "              cbs=[exp_replay,DQNTrainer(n_steps=3),er_tb],\n",
    "              metrics=[Reward,Epsilon,NEpisodes])"
   ]
  },
  {
   "cell_type": "code",
   "execution_count": 25,
   "id": "02127b39-3a0a-444a-a148-eaee6087de02",
   "metadata": {},
   "outputs": [
    {
     "data": {
      "text/html": [
       "<table border=\"1\" class=\"dataframe\">\n",
       "  <thead>\n",
       "    <tr style=\"text-align: left;\">\n",
       "      <th>epoch</th>\n",
       "      <th>train_loss</th>\n",
       "      <th>train_reward</th>\n",
       "      <th>train_epsilon</th>\n",
       "      <th>train_n_episodes</th>\n",
       "      <th>valid_loss</th>\n",
       "      <th>valid_reward</th>\n",
       "      <th>valid_epsilon</th>\n",
       "      <th>valid_n_episodes</th>\n",
       "      <th>time</th>\n",
       "    </tr>\n",
       "  </thead>\n",
       "  <tbody>\n",
       "    <tr>\n",
       "      <td>0</td>\n",
       "      <td>1.235503</td>\n",
       "      <td>19.000000</td>\n",
       "      <td>0.799600</td>\n",
       "      <td>1765</td>\n",
       "      <td>00:19</td>\n",
       "    </tr>\n",
       "  </tbody>\n",
       "</table>"
      ],
      "text/plain": [
       "<IPython.core.display.HTML object>"
      ]
     },
     "metadata": {},
     "output_type": "display_data"
    },
    {
     "name": "stdout",
     "output_type": "stream",
     "text": [
      "The loss should be practically zero:  tensor(4.2188, device='cuda:0', grad_fn=<CloneBackward>)\n",
      "tensor([[ 0.0000, -1.0906],\n",
      "        [ 0.0000, -2.9765],\n",
      "        [-3.2709,  0.0000],\n",
      "        [-2.7540,  0.0000],\n",
      "        [-3.2663,  0.0000],\n",
      "        [ 0.0000, -3.0438],\n",
      "        [-2.7540,  0.0000],\n",
      "        [ 0.0000, -3.0810],\n",
      "        [-3.5919,  0.0000],\n",
      "        [-4.5049,  0.0000],\n",
      "        [ 0.0000, -2.8932],\n",
      "        [-3.9839,  0.0000],\n",
      "        [ 0.0000, -3.0096],\n",
      "        [ 0.0000, -2.9741],\n",
      "        [-4.9089,  0.0000],\n",
      "        [ 0.0000, -3.0602],\n",
      "        [-3.1133,  0.0000],\n",
      "        [-4.0299,  0.0000],\n",
      "        [-4.0299,  0.0000],\n",
      "        [-3.9890,  0.0000],\n",
      "        [ 0.0000, -0.0855],\n",
      "        [ 0.0000, -2.8277],\n",
      "        [ 0.0000, -2.8539],\n",
      "        [ 0.0000, -3.0602],\n",
      "        [-3.2663,  0.0000],\n",
      "        [ 0.0000, -1.0400],\n",
      "        [ 0.0000, -3.0679],\n",
      "        [-4.2468,  0.0000],\n",
      "        [-5.2569,  0.0000],\n",
      "        [-3.2335,  0.0000],\n",
      "        [ 0.0000, -2.9117],\n",
      "        [-4.5285,  0.0000],\n",
      "        [-2.5573,  0.0000],\n",
      "        [-4.3312,  0.0000],\n",
      "        [ 0.0000, -2.8683],\n",
      "        [-4.4171,  0.0000],\n",
      "        [-4.0299,  0.0000],\n",
      "        [-5.6096,  0.0000],\n",
      "        [-4.5285,  0.0000],\n",
      "        [-3.9973,  0.0000],\n",
      "        [-3.9330,  0.0000],\n",
      "        [ 0.0000, -3.0144],\n",
      "        [ 0.0000, -1.0400],\n",
      "        [-4.2010,  0.0000],\n",
      "        [-3.8937,  0.0000],\n",
      "        [ 0.0000, -3.0888],\n",
      "        [-5.4559,  0.0000],\n",
      "        [ 0.0000, -1.9537],\n",
      "        [-4.2640,  0.0000],\n",
      "        [-5.2569,  0.0000],\n",
      "        [-5.2069,  0.0000],\n",
      "        [ 0.0000, -2.8851],\n",
      "        [-3.8076,  0.0000],\n",
      "        [-3.9162,  0.0000],\n",
      "        [ 0.0000, -0.0855],\n",
      "        [-2.7540,  0.0000],\n",
      "        [-4.9575,  0.0000],\n",
      "        [ 0.0000, -2.9117],\n",
      "        [ 0.0000, -3.0096],\n",
      "        [ 0.0000, -2.9117],\n",
      "        [ 0.0000, -3.0235],\n",
      "        [-5.1936,  0.0000],\n",
      "        [-5.1936,  0.0000],\n",
      "        [-5.8724,  0.0000],\n",
      "        [-4.3312,  0.0000],\n",
      "        [ 0.0000, -2.8894],\n",
      "        [ 0.0000, -3.0235],\n",
      "        [ 0.0000, -2.8851],\n",
      "        [ 0.0000, -2.8539],\n",
      "        [ 0.0000, -3.0445],\n",
      "        [-4.7862,  0.0000],\n",
      "        [-3.3817,  0.0000],\n",
      "        [ 0.0000, -2.8932],\n",
      "        [ 0.0000, -0.0855],\n",
      "        [ 0.0000, -3.0888],\n",
      "        [ 0.0000, -2.8853],\n",
      "        [-3.4268,  0.0000],\n",
      "        [-5.4559,  0.0000],\n",
      "        [ 0.0000, -3.0838],\n",
      "        [ 0.0000, -1.9537],\n",
      "        [ 0.0000, -2.9741],\n",
      "        [ 0.0000, -3.0201],\n",
      "        [ 0.0000, -2.8436],\n",
      "        [-5.8724,  0.0000],\n",
      "        [ 0.0000, -2.8467],\n",
      "        [-3.7313,  0.0000],\n",
      "        [-3.5596,  0.0000],\n",
      "        [ 0.0000, -2.9744],\n",
      "        [ 0.0000, -2.9744],\n",
      "        [-6.1415,  0.0000],\n",
      "        [ 0.0000, -2.8851],\n",
      "        [-4.3789,  0.0000],\n",
      "        [ 0.0000, -3.0679],\n",
      "        [-3.5824,  0.0000],\n",
      "        [-4.1155,  0.0000],\n",
      "        [-4.2640,  0.0000],\n",
      "        [ 0.0000, -3.0165],\n",
      "        [-3.5273,  0.0000],\n",
      "        [-3.8076,  0.0000],\n",
      "        [ 0.0000, -0.0855],\n",
      "        [ 0.0000, -2.9117],\n",
      "        [-4.3885,  0.0000],\n",
      "        [ 0.0000, -2.8539],\n",
      "        [-4.9886,  0.0000],\n",
      "        [ 0.0000, -3.0438],\n",
      "        [-3.2351,  0.0000],\n",
      "        [-5.6096,  0.0000],\n",
      "        [ 0.0000, -0.1554],\n",
      "        [ 0.0000, -2.8436],\n",
      "        [ 0.0000, -2.8467],\n",
      "        [-4.9089,  0.0000],\n",
      "        [ 0.0000, -0.1732],\n",
      "        [-3.4817,  0.0000],\n",
      "        [-4.2010,  0.0000],\n",
      "        [-4.0299,  0.0000],\n",
      "        [ 0.0000, -3.0201],\n",
      "        [ 0.0000, -2.8524],\n",
      "        [-3.6230,  0.0000],\n",
      "        [-3.9890,  0.0000],\n",
      "        [-4.5049,  0.0000],\n",
      "        [-4.4860,  0.0000],\n",
      "        [ 0.0000, -1.0400],\n",
      "        [ 0.0000, -2.9921],\n",
      "        [-3.3027,  0.0000],\n",
      "        [-3.7964,  0.0000],\n",
      "        [-4.5049,  0.0000],\n",
      "        [-4.3885,  0.0000],\n",
      "        [-5.1306,  0.0000]], device='cuda:0', grad_fn=<SubBackward0>)\n"
     ]
    }
   ],
   "source": [
    "slow=False\n",
    "learn.fit(50 if slow else 1,lr=0.01,wd=0)"
   ]
  },
  {
   "cell_type": "code",
   "execution_count": null,
   "id": "current-pilot",
   "metadata": {},
   "outputs": [],
   "source": [
    "# hide\n",
    "from fastcore.imports import in_colab\n",
    "\n",
    "# Since colab still requires tornado<6, we don't want to import nbdev if we don't have to\n",
    "if not in_colab():\n",
    "    from nbdev.export import *\n",
    "    from nbdev.export2html import *\n",
    "    from nbverbose.cli import *\n",
    "    make_readme()\n",
    "    notebook2script()\n",
    "    notebook2html()"
   ]
  },
  {
   "cell_type": "code",
   "execution_count": null,
   "id": "d5d2104d-1cd0-4e35-91c6-c49d7a85454c",
   "metadata": {},
   "outputs": [],
   "source": []
  }
 ],
 "metadata": {
  "kernelspec": {
   "display_name": "Python 3 (ipykernel)",
   "language": "python",
   "name": "python3"
  },
  "language_info": {
   "codemirror_mode": {
    "name": "ipython",
    "version": 3
   },
   "file_extension": ".py",
   "mimetype": "text/x-python",
   "name": "python",
   "nbconvert_exporter": "python",
   "pygments_lexer": "ipython3",
   "version": "3.8.8"
  }
 },
 "nbformat": 4,
 "nbformat_minor": 5
}
