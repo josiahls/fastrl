{
 "cells": [
  {
   "cell_type": "code",
   "execution_count": 1,
   "id": "durable-dialogue",
   "metadata": {},
   "outputs": [],
   "source": [
    "#hide\n",
    "#skip\n",
    "%config Completer.use_jedi = False\n",
    "# upgrade fastrl on colab\n",
    "! [ -e /content ] && pip install -Uqq fastrl['dev'] pyvirtualdisplay && \\\n",
    "                     apt-get install -y xvfb python-opengl > /dev/null 2>&1 \n",
    "# NOTE: IF YOU SEE VERSION ERRORS, IT IS SAFE TO IGNORE THEM. COLAB IS BEHIND IN SOME OF THE PACKAGE VERSIONS"
   ]
  },
  {
   "cell_type": "code",
   "execution_count": 2,
   "id": "viral-cambridge",
   "metadata": {},
   "outputs": [],
   "source": [
    "# hide\n",
    "from fastcore.imports import in_colab\n",
    "# Since colab still requires tornado<6, we don't want to import nbdev if we don't have to\n",
    "if not in_colab():\n",
    "    from nbdev.showdoc import *\n",
    "    from nbdev.imports import *\n",
    "    if not os.environ.get(\"IN_TEST\", None):\n",
    "        assert IN_NOTEBOOK\n",
    "        assert not IN_COLAB\n",
    "        assert IN_IPYTHON\n",
    "else:\n",
    "    # Virutual display is needed for colab\n",
    "    from pyvirtualdisplay import Display\n",
    "    display = Display(visible=0, size=(400, 300))\n",
    "    display.start()"
   ]
  },
  {
   "cell_type": "code",
   "execution_count": 3,
   "id": "offshore-stuart",
   "metadata": {},
   "outputs": [],
   "source": [
    "# default_exp agents.dqn.core"
   ]
  },
  {
   "cell_type": "code",
   "execution_count": 4,
   "id": "assisted-contract",
   "metadata": {},
   "outputs": [
    {
     "name": "stderr",
     "output_type": "stream",
     "text": [
      "/opt/conda/lib/python3.8/site-packages/torch/cuda/__init__.py:52: UserWarning: CUDA initialization: CUDA unknown error - this may be due to an incorrectly set up environment, e.g. changing env variable CUDA_VISIBLE_DEVICES after program start. Setting the available devices to be zero. (Triggered internally at  /opt/conda/conda-bld/pytorch_1616554793803/work/c10/cuda/CUDAFunctions.cpp:109.)\n",
      "  return torch._C._cuda_getDeviceCount() > 0\n"
     ]
    }
   ],
   "source": [
    "# export\n",
    "# Python native modules\n",
    "import os\n",
    "from collections import deque\n",
    "# Third party libs\n",
    "import torch\n",
    "from torch.nn import *\n",
    "from fastcore.all import *\n",
    "from fastai.learner import *\n",
    "from fastai.torch_basics import *\n",
    "from fastai.torch_core import *\n",
    "from fastai.callback.all import *\n",
    "# Local modules\n",
    "from fastrl.data.block import *\n",
    "from fastrl.data.gym import *\n",
    "from fastrl.agent import *\n",
    "from fastrl.core import *\n",
    "from fastrl.memory.experience_replay import *"
   ]
  },
  {
   "cell_type": "markdown",
   "id": "lesser-innocent",
   "metadata": {},
   "source": [
    "# DQN Core\n",
    "> Contains the minimum DQN API."
   ]
  },
  {
   "cell_type": "code",
   "execution_count": 5,
   "id": "adc270b5-35eb-4b19-8dd4-7b4572e1c9f8",
   "metadata": {},
   "outputs": [],
   "source": [
    "# export\n",
    "class DQN(Module):\n",
    "    def __init__(self,state_sz:int,action_sz:int,hidden=512):\n",
    "        self.layers=Sequential(\n",
    "            Linear(state_sz,hidden),\n",
    "            ReLU(),\n",
    "            Linear(hidden,action_sz),\n",
    "        )\n",
    "    def forward(self,x): return self.layers(x)"
   ]
  },
  {
   "cell_type": "code",
   "execution_count": 6,
   "id": "66fd7638-5e79-4e2f-9e05-72b723dafedc",
   "metadata": {},
   "outputs": [
    {
     "data": {
      "text/plain": [
       "tensor([[-0.4468,  0.1879],\n",
       "        [-0.3948,  0.2509],\n",
       "        [-0.2506,  0.1942],\n",
       "        [-0.4980,  0.3435],\n",
       "        [-0.2752,  0.0451],\n",
       "        [-0.8294,  0.7163],\n",
       "        [ 0.2236,  0.2529],\n",
       "        [-0.2411, -0.0111],\n",
       "        [-0.5606,  0.2089],\n",
       "        [-0.1297,  0.1693]], grad_fn=<AddmmBackward>)"
      ]
     },
     "execution_count": 6,
     "metadata": {},
     "output_type": "execute_result"
    }
   ],
   "source": [
    "dqn=DQN(4,2)\n",
    "dqn(torch.randn((10,4)))"
   ]
  },
  {
   "cell_type": "code",
   "execution_count": 7,
   "id": "10be0418-de9e-4935-bb46-a9d5fcb10a7c",
   "metadata": {},
   "outputs": [],
   "source": [
    "# export\n",
    "class ArgMaxFeed(AgentCallback):\n",
    "    def before_action(self): \n",
    "        raw_action=self.agent.model(self.experience['state'].to(default_device()))\n",
    "        self.agent.raw_action_shape=raw_action.shape\n",
    "        self.agent.action=torch.argmax(raw_action,dim=1).reshape(-1,1)\n",
    "        \n",
    "class DiscreteEpsilonRandomSelect(AgentCallback):\n",
    "    \n",
    "    def __init__(self,epsilon=0.5,idx=0,min_epsilon=0.2,max_epsilon=1,max_steps=5000):\n",
    "        store_attr()\n",
    "    \n",
    "    def before_noise(self): \n",
    "        self.mask=torch.randn(size=(self.agent.action.shape[0],))<self.epsilon\n",
    "        self.experience['randomly_selected']=self.mask.reshape(-1,1)\n",
    "        self.experience['epsilon']=torch.full(self.agent.action.shape,self.epsilon)\n",
    "        self.experience['orignal_actions']=self.agent.action.detach().clone()\n",
    "        self.agent.action[self.mask]=self.agent.action[self.mask].random_(0,self.agent.raw_action_shape[1])\n",
    "        self.agent.action=self.agent.action.detach().cpu().numpy()\n",
    "    \n",
    "        if self.agent.model.training: \n",
    "            self.idx+=1\n",
    "            self.epsilon=max(self.min_epsilon,self.max_epsilon-self.idx/self.max_steps)"
   ]
  },
  {
   "cell_type": "code",
   "execution_count": 8,
   "id": "538ab88e-2315-4742-8064-2137d3daeb28",
   "metadata": {},
   "outputs": [
    {
     "data": {
      "text/plain": [
       "(array([[0],\n",
       "        [1],\n",
       "        [0],\n",
       "        [0],\n",
       "        [0],\n",
       "        [0],\n",
       "        [1],\n",
       "        [1],\n",
       "        [1],\n",
       "        [0]]),\n",
       " {'state': tensor([[ 0.0196,  1.4058,  1.5048,  0.4740],\n",
       "          [ 0.2119, -0.3726, -0.7019, -0.8312],\n",
       "          [ 0.6107, -1.8964,  1.2379, -1.8776],\n",
       "          [ 1.8259, -0.7774,  0.0058,  0.4619],\n",
       "          [ 0.5262,  0.0362,  0.4679, -0.4745],\n",
       "          [-0.0352,  0.8968, -2.1272, -0.2465],\n",
       "          [-0.7233,  0.4747,  1.0834, -0.4030],\n",
       "          [-0.4129, -0.1818,  1.5259,  1.0423],\n",
       "          [-1.1912,  0.3462,  0.2864,  2.7926],\n",
       "          [ 1.4336,  1.6439, -0.8415, -0.3937]]),\n",
       "  'randomly_selected': tensor([[ True],\n",
       "          [False],\n",
       "          [ True],\n",
       "          [ True],\n",
       "          [ True],\n",
       "          [False],\n",
       "          [False],\n",
       "          [False],\n",
       "          [ True],\n",
       "          [ True]]),\n",
       "  'epsilon': tensor([[0.5000],\n",
       "          [0.5000],\n",
       "          [0.5000],\n",
       "          [0.5000],\n",
       "          [0.5000],\n",
       "          [0.5000],\n",
       "          [0.5000],\n",
       "          [0.5000],\n",
       "          [0.5000],\n",
       "          [0.5000]]),\n",
       "  'orignal_actions': tensor([[1],\n",
       "          [1],\n",
       "          [1],\n",
       "          [1],\n",
       "          [1],\n",
       "          [0],\n",
       "          [1],\n",
       "          [1],\n",
       "          [1],\n",
       "          [1]])})"
      ]
     },
     "execution_count": 8,
     "metadata": {},
     "output_type": "execute_result"
    }
   ],
   "source": [
    "agent=Agent(dqn,cbs=[ArgMaxFeed,DiscreteEpsilonRandomSelect(max_epsilon=0.5)]).to(default_device())\n",
    "agent.do_action(state=torch.randn((10,4)).to(default_device()))\n"
   ]
  },
  {
   "cell_type": "code",
   "execution_count": 9,
   "id": "0ef21b12-2568-4910-a1f1-0809a8706f87",
   "metadata": {},
   "outputs": [
    {
     "name": "stdout",
     "output_type": "stream",
     "text": [
      "Start Action\n",
      "   - before_preprocess: []\n",
      "   - after_preprocess: []\n",
      "   - before_action  : [ArgMaxFeed]\n",
      "   - after_action   : []\n",
      "   - before_noise   : [DiscreteEpsilonRandomSelect]\n",
      "   - after_noise    : []\n",
      "End Action\n"
     ]
    }
   ],
   "source": [
    "agent.show_loop()"
   ]
  },
  {
   "cell_type": "code",
   "execution_count": 10,
   "id": "0072ef1b-d81c-49d4-bbbd-74de1a5cdcb9",
   "metadata": {},
   "outputs": [],
   "source": [
    "# export        \n",
    "class Epsilon(Metric):\n",
    "    order=30\n",
    "    epsilon=0\n",
    "\n",
    "    @property\n",
    "    def value(self): return self.epsilon\n",
    "    def reset(self): self.epsilon=0\n",
    "    def accumulate(self,learn):\n",
    "        for cb in learn.model.cbs:\n",
    "            if type(cb)==DiscreteEpsilonRandomSelect:\n",
    "                self.epsilon=cb.epsilon"
   ]
  },
  {
   "cell_type": "code",
   "execution_count": 11,
   "id": "a955725f-6655-4879-b50d-49cb7ac2031d",
   "metadata": {},
   "outputs": [],
   "source": [
    "# # export\n",
    "# class ExperienceReplay(Callback):\n",
    "#     def __init__(self,*args,bs=16,max_sz=200,warmup_sz=100,**kwargs):\n",
    "#         store_attr()\n",
    "#         self.memory=None\n",
    "#         self.pointer=0\n",
    "    \n",
    "#     def after_pred(self):\n",
    "#         xb=BD(self.learn.xb[0]).mapv(to_detach)\n",
    "#         if self.memory is None:            self.memory=xb\n",
    "#         elif self.memory.bs()<self.max_sz: self.memory+=xb\n",
    "#         else:\n",
    "#             self.memory=self.memory[:self.pointer]+xb+self.memory[self.pointer+xb.bs():]\n",
    "#             self.pointer+=xb.bs()\n",
    "#             if self.pointer>self.max_sz: self.pointer=0\n",
    "#         with torch.no_grad():\n",
    "#             idxs=np.random.randint(0,self.memory.bs(),self.bs).tolist()\n",
    "#             self.learn.xb=(self.memory[idxs].mapv(to_device),)\n",
    "        \n",
    "#         if self.memory.bs()<self.warmup_sz: raise CancelBatchException"
   ]
  },
  {
   "cell_type": "code",
   "execution_count": 12,
   "id": "aaf6eb01-5449-4d5a-afd5-cc422bcac62b",
   "metadata": {},
   "outputs": [],
   "source": [
    "# export\n",
    "class DQNTrainer(Callback):\n",
    "    \"Performs traditional training on `next_q`. Requires a callback such as `RegularNextQ`\"\n",
    "    def __init__(self,discount=0.99,n_steps=1):\n",
    "        store_attr()\n",
    "        self._xb=None  \n",
    "    \n",
    "    def after_pred(self): \n",
    "        self.learn.yb=self.xb\n",
    "        self.learn.xb=self.xb[0]\n",
    "        self._xb=({k:v.clone() for k,v in self.xb.items()},)\n",
    "        self.learn.done_mask=self.xb['done'].reshape(-1,)\n",
    "        self.learn.next_q=self.learn.model.model(self.xb['next_state']).max(dim=1).values.reshape(-1,1)\n",
    "        self.learn.next_q[self.done_mask]=0 #xb[done_mask]['reward']\n",
    "        self.learn.targets=self.xb['reward']+self.learn.next_q*(self.discount**self.n_steps)\n",
    "        self.learn.pred=self.learn.model.model(self.xb['state'])\n",
    "        t_q=self.pred.clone()\n",
    "        t_q.scatter_(1,self.xb['action'],self.targets)\n",
    "        # finalize the xb and yb\n",
    "        self.learn.yb=(t_q,)\n",
    "        \n",
    "    def before_backward(self): \n",
    "        self.learn.xb=self._xb"
   ]
  },
  {
   "cell_type": "code",
   "execution_count": 13,
   "id": "e2d91aec-d20d-4e28-83b1-5492915350fe",
   "metadata": {},
   "outputs": [
    {
     "name": "stdout",
     "output_type": "stream",
     "text": [
      "Could not do one pass in your dataloader, there is something wrong in it\n"
     ]
    }
   ],
   "source": [
    "# slow\n",
    "dqn=DQN(4,2)\n",
    "agent=Agent(dqn,cbs=[ArgMaxFeed,DiscreteEpsilonRandomSelect])\n",
    "source=Source(cbs=[GymLoop('CartPole-v1',agent,steps_count=3,seed=0,\n",
    "                           steps_delta=1,),FirstLast])\n",
    "\n",
    "dls=SourceDataBlock().dataloaders([source],n=1000,bs=1,num_workers=0)\n",
    "\n",
    "exp_replay=ExperienceReplayCallback(bs=32,max_sz=100000,warmup_sz=32)\n",
    "\n",
    "learn=Learner(dls,agent,loss_func=MSELoss(),\n",
    "              cbs=[exp_replay,DQNTrainer],\n",
    "              metrics=[Reward,Epsilon,NEpisodes])"
   ]
  },
  {
   "cell_type": "code",
   "execution_count": 15,
   "id": "02127b39-3a0a-444a-a148-eaee6087de02",
   "metadata": {},
   "outputs": [
    {
     "data": {
      "text/html": [
       "<table border=\"1\" class=\"dataframe\">\n",
       "  <thead>\n",
       "    <tr style=\"text-align: left;\">\n",
       "      <th>epoch</th>\n",
       "      <th>train_loss</th>\n",
       "      <th>train_reward</th>\n",
       "      <th>train_epsilon</th>\n",
       "      <th>train_n_episodes</th>\n",
       "      <th>valid_loss</th>\n",
       "      <th>valid_reward</th>\n",
       "      <th>valid_epsilon</th>\n",
       "      <th>valid_n_episodes</th>\n",
       "      <th>time</th>\n",
       "    </tr>\n",
       "  </thead>\n",
       "  <tbody>\n",
       "    <tr>\n",
       "      <td>0</td>\n",
       "      <td>3.696477</td>\n",
       "      <td>20.800000</td>\n",
       "      <td>0.200000</td>\n",
       "      <td>263</td>\n",
       "      <td>00:30</td>\n",
       "    </tr>\n",
       "  </tbody>\n",
       "</table>"
      ],
      "text/plain": [
       "<IPython.core.display.HTML object>"
      ]
     },
     "metadata": {},
     "output_type": "display_data"
    }
   ],
   "source": [
    "slow=False\n",
    "learn.fit(50 if slow else 1,lr=0.0001,wd=0)"
   ]
  },
  {
   "cell_type": "markdown",
   "id": "068c531b-ae4b-459c-9ed4-94713d765254",
   "metadata": {},
   "source": [
    "> Note: This should work without a exp replay although will perform poorly."
   ]
  },
  {
   "cell_type": "code",
   "execution_count": null,
   "id": "current-pilot",
   "metadata": {},
   "outputs": [],
   "source": [
    "# hide\n",
    "from fastcore.imports import in_colab\n",
    "\n",
    "# Since colab still requires tornado<6, we don't want to import nbdev if we don't have to\n",
    "if not in_colab():\n",
    "    from nbdev.export import *\n",
    "    from nbdev.export2html import *\n",
    "    from nbdev.cli import make_readme\n",
    "    make_readme()\n",
    "    notebook2script()\n",
    "    notebook2html()"
   ]
  },
  {
   "cell_type": "code",
   "execution_count": null,
   "id": "d5d2104d-1cd0-4e35-91c6-c49d7a85454c",
   "metadata": {},
   "outputs": [],
   "source": []
  }
 ],
 "metadata": {
  "kernelspec": {
   "display_name": "Python 3 (ipykernel)",
   "language": "python",
   "name": "python3"
  },
  "language_info": {
   "codemirror_mode": {
    "name": "ipython",
    "version": 3
   },
   "file_extension": ".py",
   "mimetype": "text/x-python",
   "name": "python",
   "nbconvert_exporter": "python",
   "pygments_lexer": "ipython3",
   "version": "3.8.8"
  }
 },
 "nbformat": 4,
 "nbformat_minor": 5
}
