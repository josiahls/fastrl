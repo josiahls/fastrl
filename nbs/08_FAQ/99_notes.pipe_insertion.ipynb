{
 "cells": [
  {
   "cell_type": "code",
   "execution_count": null,
   "id": "durable-dialogue",
   "metadata": {},
   "outputs": [],
   "source": [
    "#|hide\n",
    "#|eval: false\n",
    "! [ -e /content ] && pip install -Uqq fastrl['dev'] pyvirtualdisplay && \\\n",
    "                     apt-get install -y xvfb python-opengl > /dev/null 2>&1 \n",
    "# NOTE: IF YOU SEE VERSION ERRORS, IT IS SAFE TO IGNORE THEM. COLAB IS BEHIND IN SOME OF THE PACKAGE VERSIONS"
   ]
  },
  {
   "cell_type": "code",
   "execution_count": null,
   "id": "viral-cambridge",
   "metadata": {},
   "outputs": [],
   "source": [
    "#|hide\n",
    "#|eval: false\n",
    "from fastcore.imports import in_colab\n",
    "# Since colab still requires tornado<6, we don't want to import nbdev if we don't have to\n",
    "if not in_colab():\n",
    "    from nbdev.showdoc import *\n",
    "    from nbdev.imports import *\n",
    "    if not os.environ.get(\"IN_TEST\", None):\n",
    "        assert IN_NOTEBOOK\n",
    "        assert not IN_COLAB\n",
    "        assert IN_IPYTHON\n",
    "else:\n",
    "    # Virutual display is needed for colab\n",
    "    from pyvirtualdisplay import Display\n",
    "    display = Display(visible=0, size=(400, 300))\n",
    "    display.start()"
   ]
  },
  {
   "cell_type": "code",
   "execution_count": null,
   "id": "assisted-contract",
   "metadata": {},
   "outputs": [],
   "source": [
    "#|hide \n",
    "# Python native modules\n",
    "# Third party libs\n",
    "from fastcore.all import *\n",
    "from torchdata.dataloader2.graph import traverse,replace_dp\n",
    "# Local modules"
   ]
  },
  {
   "cell_type": "markdown",
   "id": "lesser-innocent",
   "metadata": {},
   "source": [
    "# TorchData DataPipe Notes\n",
    "> Notes about coding insert behaviors"
   ]
  },
  {
   "cell_type": "markdown",
   "id": "4cce6de1-8643-4338-b65e-60406a35cb3a",
   "metadata": {},
   "source": [
    "## Inserting into preexisting pipelines\n",
    "> Reference: https://github.com/pytorch/data/issues/750"
   ]
  },
  {
   "cell_type": "markdown",
   "id": "e1e770e5-e3f5-4323-bd75-6e4d97298466",
   "metadata": {},
   "source": [
    "Original Graph:\n",
    "`A -> B`\n",
    "\n",
    "Expected New Graph:\n",
    "`A -> C -> B`"
   ]
  },
  {
   "cell_type": "code",
   "execution_count": null,
   "id": "81f8a5d2-a509-47b2-8f14-93103c5de7b9",
   "metadata": {},
   "outputs": [],
   "source": [
    "from fastrl.pipes.core import *\n",
    "import torchdata.datapipes as dp"
   ]
  },
  {
   "cell_type": "code",
   "execution_count": null,
   "id": "11acd6dc-36d4-4af9-aa67-c699292c599c",
   "metadata": {},
   "outputs": [],
   "source": [
    "class Template(dp.iter.IterDataPipe):\n",
    "    def __init__(self,source_datapipe=None): self.source_datapipe = source_datapipe\n",
    "    def __iter__(self): return (o for o in self.source_datapipe)\n",
    "\n",
    "class A(Template):pass\n",
    "class B(Template):pass\n",
    "class C(Template):pass\n",
    "class D(Template):pass\n",
    "class E(Template):pass"
   ]
  },
  {
   "cell_type": "markdown",
   "id": "e188a54a-a5fc-4813-a768-29d51eaeb529",
   "metadata": {},
   "source": [
    "Let's say that we have a graph: `A -> B`"
   ]
  },
  {
   "cell_type": "code",
   "execution_count": null,
   "id": "3a40883c-fcb1-4988-b5d2-564091049317",
   "metadata": {},
   "outputs": [
    {
     "data": {
      "text/plain": [
       "{140342007547536: (B, {140342007547600: (A, {})})}"
      ]
     },
     "execution_count": null,
     "metadata": {},
     "output_type": "execute_result"
    }
   ],
   "source": [
    "pipe = A(range(10))\n",
    "pipe = B(pipe)\n",
    "\n",
    "test_eq(list(pipe),range(10))\n",
    "traverse(pipe)"
   ]
  },
  {
   "cell_type": "markdown",
   "id": "7311a03e-6d9c-4ab0-bb0f-ebdd5d112067",
   "metadata": {},
   "source": [
    "Let's say that we *want* a graph: `A -> C -> B`"
   ]
  },
  {
   "cell_type": "code",
   "execution_count": null,
   "id": "b39db0c7-2154-4171-890a-7e4f93d5b0e7",
   "metadata": {},
   "outputs": [
    {
     "data": {
      "text/plain": [
       "{140342007951312: (B, {140342007546576: (C, {140342007950928: (A, {})})})}"
      ]
     },
     "execution_count": null,
     "metadata": {},
     "output_type": "execute_result"
    }
   ],
   "source": [
    "new_dp = replace_dp(\n",
    "    traverse(pipe,only_datapipe=True),\n",
    "    find_dp(traverse(pipe,only_datapipe=True),A),\n",
    "    C(find_dp(traverse(pipe,only_datapipe=True),A))\n",
    ")\n",
    "new_dp"
   ]
  },
  {
   "cell_type": "markdown",
   "id": "cf26f593-957a-4e99-9247-38eacf1826ae",
   "metadata": {},
   "source": [
    "We have `C` to point to `A` and then we replace `A` with `C`\n",
    "\n",
    "Now, what if we want a graph `A -> C -> D -> E -> B`"
   ]
  },
  {
   "cell_type": "code",
   "execution_count": null,
   "id": "ea1302d9-ca93-43a7-8226-be9bc69263e6",
   "metadata": {},
   "outputs": [
    {
     "data": {
      "text/plain": [
       "{140342007227536: (B, {140342007227600: (A, {})})}"
      ]
     },
     "execution_count": null,
     "metadata": {},
     "output_type": "execute_result"
    }
   ],
   "source": [
    "pipe = A(range(10))\n",
    "pipe = B(pipe)\n",
    "\n",
    "test_eq(list(pipe),range(10))\n",
    "traverse(pipe)"
   ]
  },
  {
   "cell_type": "code",
   "execution_count": null,
   "id": "3b0633c4-6b05-4df3-a67e-8a86352c4ffe",
   "metadata": {},
   "outputs": [],
   "source": [
    "def sub_graph(pipe):\n",
    "    pipe = C(pipe)\n",
    "    pipe = D(pipe)\n",
    "    pipe = E(pipe)\n",
    "    return pipe"
   ]
  },
  {
   "cell_type": "code",
   "execution_count": null,
   "id": "3dbc1066-3a58-4a89-914c-055ece358789",
   "metadata": {},
   "outputs": [
    {
     "data": {
      "text/plain": [
       "{140342007227536: (B,\n",
       "  {140342007247376: (E,\n",
       "    {140342007247312: (D,\n",
       "      {140342007247120: (C, {140342007227600: (A, {})})})})})}"
      ]
     },
     "execution_count": null,
     "metadata": {},
     "output_type": "execute_result"
    }
   ],
   "source": [
    "new_dp = replace_dp(\n",
    "    traverse(pipe,only_datapipe=True),\n",
    "    find_dp(traverse(pipe,only_datapipe=True),A),\n",
    "    sub_graph(find_dp(traverse(pipe,only_datapipe=True),A))\n",
    ")\n",
    "new_dp"
   ]
  },
  {
   "cell_type": "code",
   "execution_count": null,
   "id": "03a1d9bb-5e06-4281-8832-508bf810633f",
   "metadata": {},
   "outputs": [
    {
     "data": {
      "text/plain": [
       "[0, 1, 2, 3, 4, 5, 6, 7, 8, 9]"
      ]
     },
     "execution_count": null,
     "metadata": {},
     "output_type": "execute_result"
    }
   ],
   "source": [
    "list(list(new_dp.values())[0][0])"
   ]
  },
  {
   "cell_type": "code",
   "execution_count": null,
   "id": "current-pilot",
   "metadata": {},
   "outputs": [],
   "source": [
    "#|hide\n",
    "#|eval: false\n",
    "from fastcore.imports import in_colab\n",
    "\n",
    "# Since colab still requires tornado<6, we don't want to import nbdev if we don't have to\n",
    "if not in_colab():\n",
    "    from nbdev import nbdev_export\n",
    "    nbdev_export()"
   ]
  },
  {
   "cell_type": "code",
   "execution_count": null,
   "id": "7a51e358-2d1e-4713-91bd-15d4faedfa3d",
   "metadata": {},
   "outputs": [],
   "source": []
  }
 ],
 "metadata": {
  "kernelspec": {
   "display_name": "Python 3.7.11 ('base')",
   "language": "python",
   "name": "python3"
  }
 },
 "nbformat": 4,
 "nbformat_minor": 5
}
