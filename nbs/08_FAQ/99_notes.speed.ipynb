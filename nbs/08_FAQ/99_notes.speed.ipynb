{
 "cells": [
  {
   "cell_type": "code",
   "execution_count": null,
   "id": "durable-dialogue",
   "metadata": {},
   "outputs": [],
   "source": [
    "#|hide\n",
    "#|eval: false\n",
    "! [ -e /content ] && pip install -Uqq fastrl['dev'] pyvirtualdisplay && \\\n",
    "                     apt-get install -y xvfb python-opengl > /dev/null 2>&1 \n",
    "# NOTE: IF YOU SEE VERSION ERRORS, IT IS SAFE TO IGNORE THEM. COLAB IS BEHIND IN SOME OF THE PACKAGE VERSIONS"
   ]
  },
  {
   "cell_type": "code",
   "execution_count": null,
   "id": "viral-cambridge",
   "metadata": {},
   "outputs": [],
   "source": [
    "#|hide\n",
    "#|eval: false\n",
    "from fastcore.imports import in_colab\n",
    "# Since colab still requires tornado<6, we don't want to import nbdev if we don't have to\n",
    "if not in_colab():\n",
    "    from nbdev.showdoc import *\n",
    "    from nbdev.imports import *\n",
    "    if not os.environ.get(\"IN_TEST\", None):\n",
    "        assert IN_NOTEBOOK\n",
    "        assert not IN_COLAB\n",
    "        assert IN_IPYTHON\n",
    "else:\n",
    "    # Virutual display is needed for colab\n",
    "    from pyvirtualdisplay import Display\n",
    "    display = Display(visible=0, size=(400, 300))\n",
    "    display.start()"
   ]
  },
  {
   "cell_type": "code",
   "execution_count": null,
   "id": "assisted-contract",
   "metadata": {},
   "outputs": [],
   "source": [
    "# Python native modules\n",
    "import os\n",
    "from copy import deepcopy\n",
    "# Third party libs\n",
    "from fastcore.all import *\n",
    "import numpy as np\n",
    "# Local modules\n"
   ]
  },
  {
   "cell_type": "markdown",
   "id": "lesser-innocent",
   "metadata": {},
   "source": [
    "# Speed\n",
    "> Some obvious / not so obvious notes on speed"
   ]
  },
  {
   "cell_type": "markdown",
   "id": "4cce6de1-8643-4338-b65e-60406a35cb3a",
   "metadata": {},
   "source": [
    "## Numpy to Tensor Performance"
   ]
  },
  {
   "cell_type": "code",
   "execution_count": null,
   "id": "f51e6709-ae53-474b-b975-914bd36159b2",
   "metadata": {},
   "outputs": [],
   "source": [
    "img=np.random.randint(0,255,size=(240, 320, 3))"
   ]
  },
  {
   "cell_type": "code",
   "execution_count": null,
   "id": "202749e2-72dd-4baa-b5e5-8217f297c0a3",
   "metadata": {},
   "outputs": [
    {
     "name": "stdout",
     "output_type": "stream",
     "text": [
      "1.61 ms ± 23.7 µs per loop (mean ± std. dev. of 7 runs, 1000 loops each)\n"
     ]
    }
   ],
   "source": [
    "%%timeit\n",
    "#|eval: false\n",
    "img=np.random.randint(0,255,size=(240, 320, 3))"
   ]
  },
  {
   "cell_type": "code",
   "execution_count": null,
   "id": "00356113-ef79-42aa-a746-9eca3ffe65bc",
   "metadata": {},
   "outputs": [
    {
     "name": "stdout",
     "output_type": "stream",
     "text": [
      "240 µs ± 4.64 µs per loop (mean ± std. dev. of 7 runs, 1000 loops each)\n"
     ]
    }
   ],
   "source": [
    "%%timeit\n",
    "#|eval: false\n",
    "deepcopy(img)"
   ]
  },
  {
   "cell_type": "code",
   "execution_count": null,
   "id": "45a4e034-9a2b-4e4a-b1b9-71d23b12155b",
   "metadata": {},
   "outputs": [
    {
     "name": "stdout",
     "output_type": "stream",
     "text": [
      "79.2 µs ± 3.19 µs per loop (mean ± std. dev. of 7 runs, 10000 loops each)\n"
     ]
    }
   ],
   "source": [
    "%%timeit\n",
    "#|eval: false\n",
    "Tensor(img)"
   ]
  },
  {
   "cell_type": "code",
   "execution_count": null,
   "id": "1acadadb-94e3-4be6-841a-2045b1da8767",
   "metadata": {},
   "outputs": [
    {
     "name": "stderr",
     "output_type": "stream",
     "text": [
      "/opt/conda/lib/python3.7/site-packages/ipykernel_launcher.py:2: UserWarning: Creating a tensor from a list of numpy.ndarrays is extremely slow. Please consider converting the list to a single numpy.ndarray with numpy.array() before converting to a tensor. (Triggered internally at ../torch/csrc/utils/tensor_new.cpp:230.)\n",
      "  \n"
     ]
    },
    {
     "name": "stdout",
     "output_type": "stream",
     "text": [
      "135 ms ± 3.56 ms per loop (mean ± std. dev. of 7 runs, 10 loops each)\n"
     ]
    }
   ],
   "source": [
    "%%timeit\n",
    "#|eval: false\n",
    "Tensor([img])"
   ]
  },
  {
   "cell_type": "markdown",
   "id": "9d5040b2-6670-495b-abf7-fe5a26c9eda0",
   "metadata": {},
   "source": [
    "You will notice that if you wrap a numpy in a list, it completely kills the performance. The solution is to\n",
    "just add a batch dim to the existing array and pass it directly."
   ]
  },
  {
   "cell_type": "code",
   "execution_count": null,
   "id": "f1007f5b-db0d-4152-b474-e6e319bd81e5",
   "metadata": {},
   "outputs": [
    {
     "name": "stdout",
     "output_type": "stream",
     "text": [
      "85.6 µs ± 4.48 µs per loop (mean ± std. dev. of 7 runs, 10000 loops each)\n"
     ]
    }
   ],
   "source": [
    "%%timeit\n",
    "#|eval: false\n",
    "Tensor(np.expand_dims(img,0))"
   ]
  },
  {
   "cell_type": "markdown",
   "id": "ac025532-f917-4ded-9ec7-903373712c16",
   "metadata": {},
   "source": [
    "In fact we can just test this with python lists..."
   ]
  },
  {
   "cell_type": "code",
   "execution_count": null,
   "id": "0a03815e-205e-48ee-8d37-be8ffa2f7a20",
   "metadata": {},
   "outputs": [
    {
     "name": "stdout",
     "output_type": "stream",
     "text": [
      "6.75 µs ± 95.6 ns per loop (mean ± std. dev. of 7 runs, 100000 loops each)\n"
     ]
    }
   ],
   "source": [
    "%%timeit\n",
    "#|eval: false\n",
    "Tensor([[1]])"
   ]
  },
  {
   "cell_type": "code",
   "execution_count": null,
   "id": "e8001456-bb86-44c2-b68f-59c4e88018bd",
   "metadata": {},
   "outputs": [],
   "source": [
    "test_arr=[[1]*270000]"
   ]
  },
  {
   "cell_type": "code",
   "execution_count": null,
   "id": "3ba7e414-d53f-4865-832c-c16aa098963d",
   "metadata": {},
   "outputs": [
    {
     "name": "stdout",
     "output_type": "stream",
     "text": [
      "9.55 ms ± 221 µs per loop (mean ± std. dev. of 7 runs, 100 loops each)\n"
     ]
    }
   ],
   "source": [
    "%%timeit\n",
    "#|eval: false\n",
    "Tensor(test_arr)"
   ]
  },
  {
   "cell_type": "code",
   "execution_count": null,
   "id": "dc756fe2-c890-4736-9e2a-426e9d646b3c",
   "metadata": {},
   "outputs": [],
   "source": [
    "test_arr=np.array([[1]*270000])"
   ]
  },
  {
   "cell_type": "code",
   "execution_count": null,
   "id": "0627b489-d4b7-475c-bf73-de263ea5c5e4",
   "metadata": {},
   "outputs": [
    {
     "name": "stdout",
     "output_type": "stream",
     "text": [
      "88 µs ± 5.93 µs per loop (mean ± std. dev. of 7 runs, 10000 loops each)\n"
     ]
    }
   ],
   "source": [
    "%%timeit\n",
    "#|eval: false\n",
    "Tensor(test_arr)"
   ]
  },
  {
   "cell_type": "markdown",
   "id": "c43811a0-ca7d-4d20-b4a8-51aaccfe1b6d",
   "metadata": {},
   "source": [
    "This is horrifying just how made of a performance hit this causes... So we will be avoiding python list inputs \n",
    "to Tensors for now on..."
   ]
  },
  {
   "cell_type": "code",
   "execution_count": null,
   "id": "current-pilot",
   "metadata": {},
   "outputs": [],
   "source": [
    "#|hide\n",
    "#|eval: false\n",
    "from fastcore.imports import in_colab\n",
    "\n",
    "# Since colab still requires tornado<6, we don't want to import nbdev if we don't have to\n",
    "if not in_colab():\n",
    "    from nbdev import nbdev_export\n",
    "    nbdev_export()"
   ]
  }
 ],
 "metadata": {
  "kernelspec": {
   "display_name": "Python 3.7.11 ('base')",
   "language": "python",
   "name": "python3"
  }
 },
 "nbformat": 4,
 "nbformat_minor": 5
}
