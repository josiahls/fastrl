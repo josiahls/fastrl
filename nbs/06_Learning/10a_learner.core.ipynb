{
 "cells": [
  {
   "cell_type": "code",
   "execution_count": 1,
   "id": "durable-dialogue",
   "metadata": {},
   "outputs": [],
   "source": [
    "#|hide\n",
    "from fastrl.test_utils import initialize_notebook\n",
    "initialize_notebook()"
   ]
  },
  {
   "cell_type": "code",
   "execution_count": 2,
   "id": "offshore-stuart",
   "metadata": {},
   "outputs": [],
   "source": [
    "#|default_exp learner.core"
   ]
  },
  {
   "cell_type": "code",
   "execution_count": 56,
   "id": "assisted-contract",
   "metadata": {},
   "outputs": [],
   "source": [
    "#|export\n",
    "# Python native modules\n",
    "import os\n",
    "from contextlib import contextmanager\n",
    "from typing import List,Union,Dict,Optional,Iterable\n",
    "# Third party libs\n",
    "from fastcore.all import add_docs\n",
    "import torchdata.datapipes as dp\n",
    "from torchdata.dataloader2.graph import list_dps \n",
    "import torch\n",
    "from torch import nn\n",
    "from torchdata.dataloader2 import DataLoader2\n",
    "from torchdata.dataloader2.graph import traverse_dps,DataPipeGraph,DataPipe\n",
    "# Local modules\n",
    "from fastrl.torch_core import evaluating\n",
    "from fastrl.pipes.core import find_dp\n",
    "from fastrl.loggers.core import Record,EpochCollector"
   ]
  },
  {
   "attachments": {},
   "cell_type": "markdown",
   "id": "lesser-innocent",
   "metadata": {},
   "source": [
    "# Learner Core\n",
    "> Core DataPipes for building Learners"
   ]
  },
  {
   "cell_type": "code",
   "execution_count": 65,
   "id": "984a53f1-93ee-4540-8b8d-50071090280d",
   "metadata": {},
   "outputs": [],
   "source": [
    "#|export\n",
    "class LearnerBase(dp.iter.IterDataPipe):\n",
    "    def __init__(self,\n",
    "            # The base NN that we getting raw action values out of.\n",
    "            # This can either be a `nn.Module` or a dict of multiple `nn.Module`s\n",
    "            # For multimodel training\n",
    "            model:Union[nn.Module,Dict[str,nn.Module]], \n",
    "            # The dataloaders to read data from for training. This can be a single\n",
    "            # DataLoader2 or an iterable that yields from a DataLoader2.\n",
    "            fit_dls:Union[DataLoader2,Iterable], \n",
    "            # The dataloaders to read data from for validation. This can be a single\n",
    "            # DataLoader2 or an iterable that yields from a DataLoader2.\n",
    "            val_dls:Optional[Union[DataLoader2,Iterable]]=None, \n",
    "            # By default for reinforcement learning, we want to keep the workers\n",
    "            # alive so that simluations are not being shutdown / restarted.\n",
    "            # Epochs are expected to be handled semantically via tracking the number \n",
    "            # of batches.\n",
    "            infinite_dls:bool=True\n",
    "    ):\n",
    "        self.model = model\n",
    "        self.fit_iterable = fit_dls\n",
    "        self.val_iterable = val_dls\n",
    "        self.learner_base = self\n",
    "        self.infinite_dls = infinite_dls\n",
    "        self._dls = None\n",
    "        self._ended = False\n",
    "        self._validating = False\n",
    "\n",
    "    def __getstate__(self):\n",
    "        state = {k:v for k,v in self.__dict__.items() if k not in ['_dls']}\n",
    "        # TODO: Needs a better way to serialize / deserialize states.\n",
    "        # state['iterable'] = [d.state_dict() for d in state['iterable']]\n",
    "        if dp.iter.IterDataPipe.getstate_hook is not None:\n",
    "            return dp.iter.IterDataPipe.getstate_hook(state)\n",
    "\n",
    "        return state\n",
    "\n",
    "    def __setstate__(self, state):\n",
    "        # state['iterable'] = [d.from_state_dict() for d in state['iterable']]\n",
    "        for k,v in state.items():\n",
    "            setattr(self,k,v)\n",
    "\n",
    "    def end(self):\n",
    "        self._ended = True\n",
    "   \n",
    "    def __iter__(self):\n",
    "        self._ended = False\n",
    "        for data in (self.val_iterable if self._validating else self.fit_iterable):\n",
    "            if self._ended:\n",
    "                break\n",
    "            yield data\n",
    "\n",
    "add_docs(\n",
    "LearnerBase,\n",
    "\"Combines models,dataloaders, and optimizers together for running a training pipeline.\",\n",
    "reset=\"\"\"If `infinite_dls` is false, then all dls will be reset, otherwise they will be\n",
    "kept alive.\"\"\",\n",
    "end=\"When called, will cause the Learner to stop iterating and cleanup.\"\n",
    ")"
   ]
  },
  {
   "cell_type": "code",
   "execution_count": 68,
   "id": "742c9cc6-4be3-4606-b07d-12d30da2144f",
   "metadata": {},
   "outputs": [],
   "source": [
    "#|export\n",
    "class LearnerHead(dp.iter.IterDataPipe):\n",
    "    def __init__(self,source_datapipe):\n",
    "        self.source_datapipe = source_datapipe\n",
    "        self.learner_base = find_dp(traverse_dps(self.source_datapipe),LearnerBase)\n",
    "\n",
    "    def __iter__(self): yield from self.source_datapipe\n",
    "    \n",
    "    def fit(self,epochs):\n",
    "        epocher = find_dp(traverse_dps(self),EpochCollector)\n",
    "        epocher.epochs = epochs\n",
    "        \n",
    "        for iteration in self: \n",
    "            pass\n",
    "\n",
    "    def validate(self,epochs=1,show=True) -> DataPipe:\n",
    "        with evaluating(self.learner_base.model):\n",
    "            try:\n",
    "                self.learner_base._validating = True\n",
    "                epocher = find_dp(traverse_dps(self),EpochCollector)\n",
    "                epocher.epochs = epochs\n",
    "                for iteration in self: \n",
    "                    pass\n",
    "            finally:\n",
    "                self.learner_base._validating = False\n",
    "\n",
    "            if show:\n",
    "                pipes = list_dps(traverse_dps(self.learner_base.val_iterable))\n",
    "                for pipe in pipes:\n",
    "                    if hasattr(pipe,'show'):\n",
    "                        return pipe.show() \n",
    "        \n",
    "add_docs(\n",
    "LearnerHead,\n",
    "\"\"\"\n",
    "\"\"\",\n",
    "fit=\"Runs the `LearnerHead` pipeline for `epochs`\",\n",
    "validate=\"\"\"If there is more than 1 dl, then run 1 epoch of that dl based on \n",
    "`dl_idx` and returns the original datapipe for displaying.\"\"\"\n",
    ")  "
   ]
  },
  {
   "cell_type": "code",
   "execution_count": 69,
   "id": "6a2bac6d",
   "metadata": {},
   "outputs": [],
   "source": [
    "\n",
    "from torchdata.dataloader2 import DataLoader2,MultiProcessingReadingService\n",
    "from fastrl.loggers.core import EpochCollector"
   ]
  },
  {
   "cell_type": "code",
   "execution_count": 70,
   "id": "f3d2a56d",
   "metadata": {},
   "outputs": [
    {
     "name": "stdout",
     "output_type": "stream",
     "text": [
      "Concated Dataloaders\n",
      "0 1 2 3 4 5 6 7 8 9 10 11 12 13 14 15 16 17 18 19 \n",
      "0 1 2 3 4 5 6 7 8 9 10 11 12 13 14 15 16 17 18 19 \n",
      "0 1 2 3 4 5 6 7 8 9 10 11 12 13 14 15 16 17 18 19 \n",
      "0 1 2 3 4 5 6 7 8 9 10 11 12 13 14 15 16 17 18 19 \n",
      "0 1 2 3 4 5 6 7 8 9 10 11 12 13 14 15 16 17 18 19 \n",
      "Validating Concated Dataloaders:\n",
      "20 21 22 23 24 25 26 27 28 29 \n",
      "Muxed Dataloaders\n",
      "0 10 1 11 2 12 3 13 4 14 5 15 6 16 7 17 8 18 9 19 \n",
      "0 10 1 11 2 12 3 13 4 14 5 15 6 16 7 17 8 18 9 19 \n",
      "0 10 1 11 2 12 3 13 4 14 5 15 6 16 7 17 8 18 9 19 \n",
      "0 10 1 11 2 12 3 13 4 14 5 15 6 16 7 17 8 18 9 19 \n",
      "0 10 1 11 2 12 3 13 4 14 5 15 6 16 7 17 8 18 9 19 \n",
      "Validating Muxed Dataloaders:\n",
      "20 21 22 23 24 25 26 27 28 29 \n"
     ]
    },
    {
     "name": "stderr",
     "output_type": "stream",
     "text": [
      "/usr/local/lib/python3.8/dist-packages/torchdata/dataloader2/reading_service.py:287: UserWarning: Please use `InProcessReadingService` for num_workers=0\n",
      "  warnings.warn(\"Please use `InProcessReadingService` for num_workers=0\")\n"
     ]
    }
   ],
   "source": [
    "def source_make_dataloaders(source):\n",
    "    pipe = dp.iter.IterableWrapper(source)\n",
    "    dl = DataLoader2(pipe,\n",
    "        reading_service=MultiProcessingReadingService(num_workers = 0)\n",
    "    )\n",
    "    return dp.iter.IterableWrapper(dl)\n",
    "\n",
    "class Printer(dp.iter.IterDataPipe):\n",
    "    def __init__(self,pipe): \n",
    "        self.pipe = pipe\n",
    "\n",
    "    def __iter__(self):\n",
    "        for o in self.pipe:\n",
    "            print(o, end=\" \")\n",
    "            yield o\n",
    "        print()\n",
    "\n",
    "def TestLearner(dls,val_dls):\n",
    "    learner = LearnerBase(nn.Module(),dls,val_dls=val_dls)\n",
    "    learner = Printer(learner)\n",
    "    learner = EpochCollector(learner)\n",
    "    learner = LearnerHead(learner)\n",
    "    return learner\n",
    "\n",
    "dl1 = source_make_dataloaders(range(10))\n",
    "dl2 = source_make_dataloaders(range(10,20))\n",
    "dl3 = source_make_dataloaders(range(20,30))\n",
    "print('Concated Dataloaders')\n",
    "dls = dp.iter.Concater(dl1,dl2)\n",
    "\n",
    "learn = TestLearner(dls,dl3)\n",
    "learn.fit(5)\n",
    "\n",
    "print(\"Validating Concated Dataloaders:\")\n",
    "learn.validate(1)  # using one epoch for validation by default\n",
    "\n",
    "dl1 = source_make_dataloaders(range(10))\n",
    "dl2 = source_make_dataloaders(range(10,20))\n",
    "dl3 = source_make_dataloaders(range(20,30))\n",
    "print('Muxed Dataloaders')\n",
    "dls = dp.iter.Multiplexer(dl1,dl2)\n",
    "\n",
    "learn = TestLearner(dls,dl3)\n",
    "learn.fit(5)\n",
    "\n",
    "print(\"Validating Muxed Dataloaders:\")\n",
    "learn.validate(1)"
   ]
  },
  {
   "attachments": {},
   "cell_type": "markdown",
   "id": "b2a51d58-04f6-454b-a783-ad667f4b2f17",
   "metadata": {},
   "source": [
    "> Warning: Pickling the LearnerBase will exclude the '_dls','opt','iterable' fields since\n",
    "these aren't easily picklable (yet)."
   ]
  },
  {
   "cell_type": "code",
   "execution_count": 26,
   "id": "ef47785f-7041-4590-9a55-43bb50e986bd",
   "metadata": {},
   "outputs": [],
   "source": [
    "# from fastrl.torch_core import *\n",
    "from fastrl.agents.dqn.basic import DQN\n",
    "from fastrl.agents.core import AgentBase,AgentHead,StepFieldSelector,SimpleModelRunner,NumpyConverter\n",
    "from fastrl.agents.discrete import ArgMaxer,PyPrimativeConverter\n",
    "# from fastrl.data.block import *\n",
    "from fastrl.envs.gym import GymDataPipe\n",
    "# from fastrl.loggers.vscode_visualizers import *"
   ]
  },
  {
   "cell_type": "code",
   "execution_count": 27,
   "id": "5a48ec65-b385-4dea-87c8-f58c202d2276",
   "metadata": {},
   "outputs": [],
   "source": [
    "# Setup up the core NN\n",
    "torch.manual_seed(0)\n",
    "model = DQN(4,2)\n",
    "# Setup the agent\n",
    "agent = AgentBase(model,[])\n",
    "agent = StepFieldSelector(agent,field='state')\n",
    "# All the things that make this agent unique and special\n",
    "# In this instance, all this module does is pass the action directly through to the model.\n",
    "agent = SimpleModelRunner(agent)\n",
    "agent = ArgMaxer(agent,only_idx=True)\n",
    "agent = NumpyConverter(agent)\n",
    "agent = PyPrimativeConverter(agent)\n",
    "# Bring everything together into the AgentHead where actions will be passed and then run through the pipeline\n",
    "agent = AgentHead(agent)"
   ]
  },
  {
   "cell_type": "code",
   "execution_count": 28,
   "id": "e8243aca",
   "metadata": {},
   "outputs": [],
   "source": [
    "from fastrl.loggers.vscode_visualizers import VSCodeDataPipe\n",
    "from torchdata.dataloader2 import DataLoader2,MultiProcessingReadingService"
   ]
  },
  {
   "cell_type": "code",
   "execution_count": 29,
   "id": "251e2f89",
   "metadata": {},
   "outputs": [],
   "source": [
    "# Setup the DataBlock\n",
    "# block = DataBlock(\n",
    "#     GymTransformBlock(agent=agent,nsteps=1,nskips=1,firstlast=False,n=100,bs=1),\n",
    "#     (GymTransformBlock(agent=agent,nsteps=1,nskips=1,firstlast=False,n=100,bs=1,include_images=True),VSCodeTransformBlock())\n",
    "# )\n",
    "def gym_block(elements,num_workers,vis=False):\n",
    "    pipe = GymDataPipe(elements,agent=agent,nsteps=1,nskips=1,firstlast=False,include_images=True,n=100,bs=1)\n",
    "    if vis:\n",
    "        pipe = VSCodeDataPipe(pipe)\n",
    "    dl = DataLoader2(pipe,\n",
    "        reading_service=MultiProcessingReadingService(num_workers = num_workers)\n",
    "    )\n",
    "    return dl\n",
    "\n",
    "dls = (gym_block(['CartPole-v1']*1,num_workers=0),gym_block(['CartPole-v1']*1,num_workers=0,vis=True))\n"
   ]
  },
  {
   "cell_type": "code",
   "execution_count": 30,
   "id": "ff58d4b3",
   "metadata": {},
   "outputs": [],
   "source": [
    "def TestLearner(model,dls):\n",
    "    learner = LearnerBase(model,dls)\n",
    "    learner = LearnerHead(learner)\n",
    "    return learner"
   ]
  },
  {
   "cell_type": "code",
   "execution_count": 31,
   "id": "5fe530bb",
   "metadata": {},
   "outputs": [],
   "source": [
    "import pickle"
   ]
  },
  {
   "cell_type": "code",
   "execution_count": 32,
   "id": "2c6e24da",
   "metadata": {},
   "outputs": [
    {
     "data": {
      "text/plain": [
       "LearnerHead"
      ]
     },
     "execution_count": 32,
     "metadata": {},
     "output_type": "execute_result"
    }
   ],
   "source": [
    "learner = TestLearner(model,dls)\n",
    "\n",
    "out = pickle.dumps(learner)\n",
    "pickle.loads(out)"
   ]
  },
  {
   "cell_type": "code",
   "execution_count": 33,
   "id": "80a492b9",
   "metadata": {},
   "outputs": [
    {
     "ename": "TypeError",
     "evalue": "'NoneType' object is not subscriptable",
     "output_type": "error",
     "traceback": [
      "\u001b[0;31m---------------------------------------------------------------------------\u001b[0m",
      "\u001b[0;31mTypeError\u001b[0m                                 Traceback (most recent call last)",
      "Cell \u001b[0;32mIn[33], line 3\u001b[0m\n\u001b[1;32m      1\u001b[0m \u001b[39m#|hide\u001b[39;00m\n\u001b[1;32m      2\u001b[0m \u001b[39m#|eval: false\u001b[39;00m\n\u001b[0;32m----> 3\u001b[0m learner\u001b[39m.\u001b[39;49mvalidate(\u001b[39m1\u001b[39;49m)\n",
      "Cell \u001b[0;32mIn[25], line 19\u001b[0m, in \u001b[0;36mLearnerHead.validate\u001b[0;34m(self, epochs, dl_idx)\u001b[0m\n\u001b[1;32m     17\u001b[0m \u001b[39mwith\u001b[39;00m evaluating(\u001b[39mself\u001b[39m\u001b[39m.\u001b[39mlearner_base\u001b[39m.\u001b[39mmodel):\n\u001b[1;32m     18\u001b[0m     \u001b[39mfor\u001b[39;00m epoch \u001b[39min\u001b[39;00m \u001b[39mrange\u001b[39m(epochs):\n\u001b[0;32m---> 19\u001b[0m         \u001b[39mfor\u001b[39;00m el \u001b[39min\u001b[39;00m \u001b[39mself\u001b[39;49m\u001b[39m.\u001b[39;49mlearner_base\u001b[39m.\u001b[39;49mval_iterable[dl_idx]:\u001b[39mpass\u001b[39;00m \n\u001b[1;32m     21\u001b[0m     pipe \u001b[39m=\u001b[39m \u001b[39mself\u001b[39m\u001b[39m.\u001b[39mlearner_base\u001b[39m.\u001b[39mval_iterable[dl_idx]\u001b[39m.\u001b[39mdatapipe\n\u001b[1;32m     22\u001b[0m     \u001b[39mreturn\u001b[39;00m pipe\u001b[39m.\u001b[39mshow() \u001b[39mif\u001b[39;00m \u001b[39mhasattr\u001b[39m(pipe,\u001b[39m'\u001b[39m\u001b[39mshow\u001b[39m\u001b[39m'\u001b[39m) \u001b[39melse\u001b[39;00m pipe\n",
      "\u001b[0;31mTypeError\u001b[0m: 'NoneType' object is not subscriptable"
     ]
    }
   ],
   "source": [
    "#|hide\n",
    "#|eval: false\n",
    "learner.validate(1)"
   ]
  },
  {
   "cell_type": "code",
   "execution_count": null,
   "id": "7402b554",
   "metadata": {},
   "outputs": [],
   "source": [
    "#|export\n",
    "class StepBatcher(dp.iter.IterDataPipe):\n",
    "    def __init__(self,\n",
    "            source_datapipe,\n",
    "            device=None\n",
    "        ):\n",
    "        self.source_datapipe = source_datapipe\n",
    "        self.device = device\n",
    "        \n",
    "    def vstack_by_fld(self,batch,fld):\n",
    "        try:\n",
    "            if self.device is None: return torch.vstack(tuple(getattr(step,fld) for step in batch))\n",
    "            return torch.vstack(tuple(getattr(step,fld) for step in batch)).to(torch.device(self.device))\n",
    "        except RuntimeError as e:\n",
    "            print(f'Failed to stack {fld} given batch: {batch}')\n",
    "            raise\n",
    "        \n",
    "    def __iter__(self):\n",
    "        for batch in self.source_datapipe:\n",
    "            cls = batch[0].__class__\n",
    "            yield cls(**{fld:self.vstack_by_fld(batch,fld) for fld in cls._fields})\n",
    "\n",
    "add_docs(\n",
    "StepBatcher,\n",
    "\"Converts multiple `StepType` into a single `StepType` with the fields concated.\",\n",
    "vstack_by_fld=\"vstacks a `fld` in `batch`\"\n",
    ")"
   ]
  },
  {
   "cell_type": "code",
   "execution_count": null,
   "id": "current-pilot",
   "metadata": {},
   "outputs": [
    {
     "name": "stdout",
     "output_type": "stream",
     "text": [
      "/usr/local/lib/python3.8/dist-packages/nbdev/export.py:54: UserWarning: Notebook '/home/fastrl_user/fastrl/nbs/07_Agents/02_Continuous/12u_agents.ppo.ipynb' uses `#|export` without `#|default_exp` cell.\n",
      "Note nbdev2 no longer supports nbdev1 syntax. Run `nbdev_migrate` to upgrade.\n",
      "See https://nbdev.fast.ai/getting_started.html for more information.\n",
      "  warn(f\"Notebook '{nbname}' uses `#|export` without `#|default_exp` cell.\\n\"\n"
     ]
    }
   ],
   "source": [
    "#|hide\n",
    "#|eval: false\n",
    "!nbdev_export"
   ]
  },
  {
   "cell_type": "code",
   "execution_count": null,
   "id": "7eb00a29-9220-470d-9873-a609ea3ea7b5",
   "metadata": {},
   "outputs": [],
   "source": []
  }
 ],
 "metadata": {
  "kernelspec": {
   "display_name": "python3",
   "language": "python",
   "name": "python3"
  },
  "language_info": {
   "codemirror_mode": {
    "name": "ipython",
    "version": 3
   },
   "file_extension": ".py",
   "mimetype": "text/x-python",
   "name": "python",
   "nbconvert_exporter": "python",
   "pygments_lexer": "ipython3",
   "version": "3.8.0"
  }
 },
 "nbformat": 4,
 "nbformat_minor": 5
}
