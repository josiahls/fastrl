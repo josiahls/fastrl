{
 "cells": [
  {
   "cell_type": "code",
   "execution_count": 1,
   "id": "durable-dialogue",
   "metadata": {},
   "outputs": [],
   "source": [
    "#|hide\n",
    "from fastrl.test_utils import initialize_notebook\n",
    "initialize_notebook()"
   ]
  },
  {
   "cell_type": "code",
   "execution_count": 2,
   "id": "offshore-stuart",
   "metadata": {},
   "outputs": [],
   "source": [
    "#|default_exp learner.core"
   ]
  },
  {
   "cell_type": "code",
   "execution_count": 1,
   "id": "assisted-contract",
   "metadata": {},
   "outputs": [],
   "source": [
    "#|export\n",
    "# Python native modules\n",
    "import os\n",
    "from contextlib import contextmanager\n",
    "from typing import List,Union\n",
    "# Third party libs\n",
    "from fastcore.all import add_docs\n",
    "import torchdata.datapipes as dp\n",
    "import torch\n",
    "from torch import nn\n",
    "from fastrl.torch_core import evaluating\n",
    "from torchdata.dataloader2 import DataLoader2\n",
    "from torchdata.dataloader2.graph import traverse_dps,DataPipeGraph,DataPipe\n",
    "# Local modules\n",
    "# from fastrl.core import *\n",
    "# from fastrl.torch_core import *\n",
    "from fastrl.pipes.core import find_dp\n",
    "from fastrl.loggers.core import Record,EpochCollector\n",
    "# from fastrl.data.dataloader2 import *"
   ]
  },
  {
   "attachments": {},
   "cell_type": "markdown",
   "id": "lesser-innocent",
   "metadata": {},
   "source": [
    "# Learner Core\n",
    "> Core DataPipes for building Learners"
   ]
  },
  {
   "cell_type": "code",
   "execution_count": 28,
   "id": "984a53f1-93ee-4540-8b8d-50071090280d",
   "metadata": {},
   "outputs": [],
   "source": [
    "#|export\n",
    "class LearnerBase(dp.iter.IterDataPipe):\n",
    "    def __init__(self,\n",
    "            model:nn.Module, # The base NN that we getting raw action values out of.\n",
    "            dls:List[DataLoader2], # The dataloaders to read data from for training\n",
    "            device=None,\n",
    "            loss_func=None, # The loss function to use\n",
    "            opt=None, # The optimizer to use\n",
    "            # LearnerBase will yield each dl individually by default. If `zipwise=True`\n",
    "            # next() will be called on `dls` and will `yield next(dl1),next(dl2),next(dl1)...`\n",
    "            zipwise:bool=False,\n",
    "            # For reinforcement learning, the iterables/workers will live forever and so we dont want\n",
    "            # to shut them down. We still want a concept of \"batch\" and \"epoch\" so this param\n",
    "            # can handle that.\n",
    "            batches:int=None,\n",
    "            # If dl is more than 1, we can switch the dl to use when fitting, or a\n",
    "            # slice of dls\n",
    "            fit_idx:Union[int,slice]=0\n",
    "    ):\n",
    "        self.loss_func = loss_func\n",
    "        self.opt = opt\n",
    "        # TODO: DDPG is demonstrating this drawback. We really should support the \n",
    "        # use of multiple models. We might possibly want to just embed the opt and loss \n",
    "        # in the models also.\n",
    "        self.model = model\n",
    "        self.iterable = dls\n",
    "        self.zipwise = zipwise\n",
    "        self.learner_base = self\n",
    "        self.infinite_dls = False\n",
    "        self.fit_idx = slice(fit_idx,fit_idx+1) if type(fit_idx)==int else fit_idx\n",
    "        self._dls = None\n",
    "        if batches is not None: \n",
    "            self.batches = batches\n",
    "            self.infinite_dls = True\n",
    "        else:                   \n",
    "            self.batches = find_dp(traverse_dps(dls[0].datapipe),dp.iter.Header).limit\n",
    "\n",
    "    def __getstate__(self):\n",
    "        state = {k:v for k,v in self.__dict__.items() if k not in ['_dls','opt','iterable']}\n",
    "        # TODO: Needs a better way to serialize / deserialize states.\n",
    "        # state['iterable'] = [d.state_dict() for d in state['iterable']]\n",
    "        if dp.iter.IterDataPipe.getstate_hook is not None:\n",
    "            return dp.iter.IterDataPipe.getstate_hook(state)\n",
    "\n",
    "        return state\n",
    "\n",
    "    def __setstate__(self, state):\n",
    "        # state['iterable'] = [d.from_state_dict() for d in state['iterable']]\n",
    "        for k,v in state.items():\n",
    "            setattr(self,k,v)\n",
    "\n",
    "    def reset(self):\n",
    "        if not self.infinite_dls:\n",
    "            self._dls = [iter(dl) for dl in self.iterable]\n",
    "        elif self._dls is None:\n",
    "            self._dls = [iter(dl) for dl in self.iterable]\n",
    "            \n",
    "    def increment_batch(self,value):\n",
    "        return not isinstance(value,\n",
    "            (Record,)\n",
    "        )\n",
    "        # return not isinstance(value,\n",
    "        #     (Record,GetInputItemResponse)\n",
    "        # )\n",
    "            \n",
    "    def __iter__(self):\n",
    "        self.reset()\n",
    "        exhausted = []\n",
    "        zip_list = []\n",
    "        dl_batch_tracker = [0 for _ in self._dls[self.fit_idx]]\n",
    "        while len(exhausted)!=len(self._dls[self.fit_idx]):\n",
    "            # zip_list = []\n",
    "            for i,dl in enumerate(self._dls[self.fit_idx]):\n",
    "                if self.zipwise:\n",
    "\n",
    "                            if i in exhausted: \n",
    "                                zip_list.append(None)\n",
    "                            else:              \n",
    "                                try: \n",
    "                                    zip_list.append(next(dl))\n",
    "                                    if self.increment_batch(zip_list[-1]): dl_batch_tracker[i]+=1\n",
    "                                    if self.infinite_dls and dl_batch_tracker[i]>=self.batches:\n",
    "                                        raise StopIteration\n",
    "                                except StopIteration:\n",
    "                                    exhausted.append(i)\n",
    "                                    zip_list.append(None)\n",
    "                else:\n",
    "            # while len(exhausted)!=len(self._dls[self.fit_idx]):\n",
    "            #     for i,dl in enumerate(self._dls[self.fit_idx]): \n",
    "                    while i not in exhausted:\n",
    "                        try:\n",
    "                            v = next(dl)\n",
    "                            if self.increment_batch(v): dl_batch_tracker[i]+=1\n",
    "                            yield v\n",
    "                            if self.infinite_dls and dl_batch_tracker[i]>=self.batches:\n",
    "                                raise StopIteration\n",
    "                        except StopIteration:\n",
    "                            exhausted.append(i)\n",
    "\n",
    "add_docs(\n",
    "LearnerBase,\n",
    "\"Combines models,dataloaders, and optimizers together for running a training pipeline.\",\n",
    "reset=\"\"\"If `infinite_dls` is false, then all dls will be reset, otherwise they will be\n",
    "kept alive.\"\"\",\n",
    "increment_batch=\"Decides when a single batch is actually 'complete'.\"\n",
    ")"
   ]
  },
  {
   "cell_type": "code",
   "execution_count": 29,
   "id": "742c9cc6-4be3-4606-b07d-12d30da2144f",
   "metadata": {},
   "outputs": [],
   "source": [
    "#|export\n",
    "class LearnerHead(dp.iter.IterDataPipe):\n",
    "    def __init__(self,source_datapipe):\n",
    "        self.source_datapipe = source_datapipe\n",
    "        self.learner_base = find_dp(traverse_dps(self.source_datapipe),LearnerBase)\n",
    "\n",
    "    def __iter__(self): yield from self.source_datapipe\n",
    "    \n",
    "    def fit(self,epochs):\n",
    "        epocher = find_dp(traverse_dps(self),EpochCollector)\n",
    "        epocher.epochs = epochs\n",
    "        \n",
    "        for iteration in self: \n",
    "            pass\n",
    "\n",
    "    def validate(self,epochs=1,dl_idx=1) -> DataPipe:\n",
    "        with evaluating(self.learner_base.model):\n",
    "            for epoch in range(epochs):\n",
    "                for el in self.learner_base.iterable[dl_idx]:pass \n",
    "\n",
    "            pipe = self.learner_base.iterable[dl_idx].datapipe\n",
    "            return pipe.show() if hasattr(pipe,'show') else pipe\n",
    "        \n",
    "add_docs(\n",
    "LearnerHead,\n",
    "\"\"\"\n",
    "\"\"\",\n",
    "fit=\"Runs the `LearnerHead` pipeline for `epochs`\",\n",
    "validate=\"\"\"If there is more than 1 dl, then run 1 epoch of that dl based on \n",
    "`dl_idx` and returns the original datapipe for displaying.\"\"\"\n",
    ")  "
   ]
  },
  {
   "attachments": {},
   "cell_type": "markdown",
   "id": "b2a51d58-04f6-454b-a783-ad667f4b2f17",
   "metadata": {},
   "source": [
    "> Warning: Pickling the LearnerBase will exclude the '_dls','opt','iterable' fields since\n",
    "these aren't easily picklable (yet)."
   ]
  },
  {
   "cell_type": "code",
   "execution_count": 30,
   "id": "ef47785f-7041-4590-9a55-43bb50e986bd",
   "metadata": {},
   "outputs": [],
   "source": [
    "# from fastrl.torch_core import *\n",
    "from fastrl.agents.dqn.basic import DQN\n",
    "from fastrl.agents.core import AgentBase,AgentHead,StepFieldSelector,SimpleModelRunner,NumpyConverter\n",
    "from fastrl.agents.discrete import ArgMaxer,PyPrimativeConverter\n",
    "# from fastrl.data.block import *\n",
    "from fastrl.envs.gym import GymDataPipe\n",
    "# from fastrl.loggers.vscode_visualizers import *"
   ]
  },
  {
   "cell_type": "code",
   "execution_count": 31,
   "id": "5a48ec65-b385-4dea-87c8-f58c202d2276",
   "metadata": {},
   "outputs": [],
   "source": [
    "# Setup up the core NN\n",
    "torch.manual_seed(0)\n",
    "model = DQN(4,2)\n",
    "# Setup the agent\n",
    "agent = AgentBase(model,[])\n",
    "agent = StepFieldSelector(agent,field='state')\n",
    "# All the things that make this agent unique and special\n",
    "# In this instance, all this module does is pass the action directly through to the model.\n",
    "agent = SimpleModelRunner(agent)\n",
    "agent = ArgMaxer(agent,only_idx=True)\n",
    "agent = NumpyConverter(agent)\n",
    "agent = PyPrimativeConverter(agent)\n",
    "# Bring everything together into the AgentHead where actions will be passed and then run through the pipeline\n",
    "agent = AgentHead(agent)"
   ]
  },
  {
   "cell_type": "code",
   "execution_count": 32,
   "id": "e8243aca",
   "metadata": {},
   "outputs": [],
   "source": [
    "from fastrl.loggers.vscode_visualizers import VSCodePipeline\n",
    "from torchdata.dataloader2 import DataLoader2,MultiProcessingReadingService"
   ]
  },
  {
   "cell_type": "code",
   "execution_count": 33,
   "id": "251e2f89",
   "metadata": {},
   "outputs": [
    {
     "name": "stderr",
     "output_type": "stream",
     "text": [
      "/usr/local/lib/python3.8/dist-packages/torchdata/dataloader2/reading_service.py:287: UserWarning: Please use `InProcessReadingService` for num_workers=0\n",
      "  warnings.warn(\"Please use `InProcessReadingService` for num_workers=0\")\n"
     ]
    }
   ],
   "source": [
    "# Setup the DataBlock\n",
    "# block = DataBlock(\n",
    "#     GymTransformBlock(agent=agent,nsteps=1,nskips=1,firstlast=False,n=100,bs=1),\n",
    "#     (GymTransformBlock(agent=agent,nsteps=1,nskips=1,firstlast=False,n=100,bs=1,include_images=True),VSCodeTransformBlock())\n",
    "# )\n",
    "def gym_block(elements,num_workers,vis=False):\n",
    "    pipe = GymDataPipe(elements,agent=agent,nsteps=1,nskips=1,firstlast=False,include_images=True,n=100,bs=1)\n",
    "    if vis:\n",
    "        pipe = VSCodePipeline(pipe)\n",
    "    dl = DataLoader2(pipe,\n",
    "        reading_service=MultiProcessingReadingService(num_workers = num_workers)\n",
    "    )\n",
    "    return dl\n",
    "\n",
    "dls = (gym_block(['CartPole-v1']*1,num_workers=0),gym_block(['CartPole-v1']*1,num_workers=0,vis=True))\n"
   ]
  },
  {
   "cell_type": "code",
   "execution_count": 34,
   "id": "ff58d4b3",
   "metadata": {},
   "outputs": [],
   "source": [
    "def TestLearner(model,dls):\n",
    "    learner = LearnerBase(model,dls)\n",
    "    learner = LearnerHead(learner)\n",
    "    return learner"
   ]
  },
  {
   "cell_type": "code",
   "execution_count": 35,
   "id": "5fe530bb",
   "metadata": {},
   "outputs": [],
   "source": [
    "import pickle"
   ]
  },
  {
   "cell_type": "code",
   "execution_count": 36,
   "id": "2c6e24da",
   "metadata": {},
   "outputs": [
    {
     "data": {
      "text/plain": [
       "LearnerHead"
      ]
     },
     "execution_count": 36,
     "metadata": {},
     "output_type": "execute_result"
    }
   ],
   "source": [
    "learner = TestLearner(model,dls)\n",
    "\n",
    "out = pickle.dumps(learner)\n",
    "pickle.loads(out)"
   ]
  },
  {
   "cell_type": "code",
   "execution_count": 13,
   "id": "80a492b9",
   "metadata": {},
   "outputs": [
    {
     "name": "stderr",
     "output_type": "stream",
     "text": [
      "No protocol specified\n"
     ]
    },
    {
     "name": "stderr",
     "output_type": "stream",
     "text": [
      "/home/fastrl_user/fastrl/fastrl/envs/gym.py:121: UserWarning: To copy construct from a tensor, it is recommended to use sourceTensor.clone().detach() or sourceTensor.clone().detach().requires_grad_(True), rather than torch.tensor(sourceTensor).\n",
      "  state=torch.tensor(step.next_state),\n"
     ]
    },
    {
     "name": "stdout",
     "output_type": "stream",
     "text": [
      "Creating gif from 100 frames\n"
     ]
    },
    {
     "data": {
      "image/png": "[encoded data removed]",
      "text/plain": [
       "<IPython.core.display.Image object>"
      ]
     },
     "execution_count": 13,
     "metadata": {},
     "output_type": "execute_result"
    }
   ],
   "source": [
    "#|hide\n",
    "#|eval: false\n",
    "learner.validate(1)"
   ]
  },
  {
   "cell_type": "code",
   "execution_count": 14,
   "id": "7402b554",
   "metadata": {},
   "outputs": [],
   "source": [
    "#|export\n",
    "class StepBatcher(dp.iter.IterDataPipe):\n",
    "    def __init__(self,\n",
    "            source_datapipe,\n",
    "            device=None\n",
    "        ):\n",
    "        self.source_datapipe = source_datapipe\n",
    "        self.device = device\n",
    "        \n",
    "    def vstack_by_fld(self,batch,fld):\n",
    "        try:\n",
    "            if self.device is None: return torch.vstack(tuple(getattr(step,fld) for step in batch))\n",
    "            return torch.vstack(tuple(getattr(step,fld) for step in batch)).to(torch.device(self.device))\n",
    "        except RuntimeError as e:\n",
    "            print(f'Failed to stack {fld} given batch: {batch}')\n",
    "            raise\n",
    "        \n",
    "    def __iter__(self):\n",
    "        for batch in self.source_datapipe:\n",
    "            cls = batch[0].__class__\n",
    "            yield cls(**{fld:self.vstack_by_fld(batch,fld) for fld in cls._fields})\n",
    "\n",
    "add_docs(\n",
    "StepBatcher,\n",
    "\"Converts multiple `StepType` into a single `StepType` with the fields concated.\",\n",
    "vstack_by_fld=\"vstacks a `fld` in `batch`\"\n",
    ")"
   ]
  },
  {
   "cell_type": "code",
   "execution_count": 2,
   "id": "current-pilot",
   "metadata": {},
   "outputs": [
    {
     "name": "stdout",
     "output_type": "stream",
     "text": [
      "/usr/local/lib/python3.8/dist-packages/nbdev/export.py:54: UserWarning: Notebook '/home/fastrl_user/fastrl/nbs/07_Agents/02_Continuous/12u_agents.ppo.ipynb' uses `#|export` without `#|default_exp` cell.\n",
      "Note nbdev2 no longer supports nbdev1 syntax. Run `nbdev_migrate` to upgrade.\n",
      "See https://nbdev.fast.ai/getting_started.html for more information.\n",
      "  warn(f\"Notebook '{nbname}' uses `#|export` without `#|default_exp` cell.\\n\"\n"
     ]
    }
   ],
   "source": [
    "#|hide\n",
    "#|eval: false\n",
    "!nbdev_export"
   ]
  },
  {
   "cell_type": "code",
   "execution_count": null,
   "id": "7eb00a29-9220-470d-9873-a609ea3ea7b5",
   "metadata": {},
   "outputs": [],
   "source": []
  }
 ],
 "metadata": {
  "kernelspec": {
   "display_name": "python3",
   "language": "python",
   "name": "python3"
  },
  "language_info": {
   "codemirror_mode": {
    "name": "ipython",
    "version": 3
   },
   "file_extension": ".py",
   "mimetype": "text/x-python",
   "name": "python",
   "nbconvert_exporter": "python",
   "pygments_lexer": "ipython3",
   "version": "3.8.0"
  }
 },
 "nbformat": 4,
 "nbformat_minor": 5
}
