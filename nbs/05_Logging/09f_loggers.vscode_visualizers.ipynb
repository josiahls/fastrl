{
 "cells": [
  {
   "cell_type": "code",
   "execution_count": null,
   "id": "durable-dialogue",
   "metadata": {},
   "outputs": [],
   "source": [
    "#|hide\n",
    "from fastrl.test_utils import initialize_notebook\n",
    "initialize_notebook()"
   ]
  },
  {
   "cell_type": "code",
   "execution_count": null,
   "id": "assisted-contract",
   "metadata": {},
   "outputs": [],
   "source": [
    "#|export\n",
    "# Python native modules\n",
    "import os\n",
    "import io\n",
    "from typing import Tuple,Any,Optional,NamedTuple,Iterable\n",
    "# Third party libs\n",
    "import imageio\n",
    "from fastcore.all import add_docs,ifnone\n",
    "import matplotlib.pyplot as plt\n",
    "import torchdata.datapipes as dp\n",
    "from torchdata.datapipes import functional_datapipe\n",
    "from IPython.core.display import Video,Image\n",
    "from torchdata.dataloader2 import DataLoader2,MultiProcessingReadingService\n",
    "# Local modules\n",
    "from fastrl.loggers.core import LoggerBase,is_record\n",
    "from fastrl.pipes.core import DataPipeAugmentationFn,apply_dp_augmentation_fns\n",
    "from fastrl.loggers.jupyter_visualizers import ImageCollector"
   ]
  },
  {
   "cell_type": "code",
   "execution_count": null,
   "id": "offshore-stuart",
   "metadata": {},
   "outputs": [],
   "source": [
    "#|default_exp loggers.vscode_visualizers"
   ]
  },
  {
   "attachments": {},
   "cell_type": "markdown",
   "id": "lesser-innocent",
   "metadata": {},
   "source": [
    "# Visualizers - VS-Code\n",
    "> Iterable pipes for displaying environments as they run using `typing.NamedTuples` with `image` fields for VS-Code\n",
    "\n",
    "`fastrl.jupyter_visualizers` can be used in vscode, however you likely will notice flickering for video\n",
    "based outputs. For vscode, we can generate a gif instead."
   ]
  },
  {
   "cell_type": "code",
   "execution_count": null,
   "id": "fde1fa58",
   "metadata": {},
   "outputs": [],
   "source": [
    "dp.iter.Repeater"
   ]
  },
  {
   "cell_type": "code",
   "execution_count": null,
   "id": "9cb488d2-41f1-4160-a938-e39003f1a06a",
   "metadata": {},
   "outputs": [],
   "source": [
    "#|export\n",
    "class SimpleVSCodeVideoPlayer(dp.iter.IterDataPipe):\n",
    "    def __init__(self, \n",
    "                 source_datapipe=None, \n",
    "                 skip_frames:int=1,\n",
    "                 fps:int=30,\n",
    "                 downsize_res=(2,2)\n",
    "        ):\n",
    "        self.source_datapipe = source_datapipe\n",
    "        self.fps = fps\n",
    "        self.skip_frames = skip_frames\n",
    "        self.downsize_res = downsize_res\n",
    "        self._bytes_object = None\n",
    "        self.frames = [] \n",
    "\n",
    "    def reset(self):\n",
    "        super().reset()\n",
    "        self._bytes_object = io.BytesIO()\n",
    "\n",
    "    def show(self,start:int=0,end:Optional[int]=None,step:int=1):\n",
    "        print(f'Creating gif from {len(self.frames)} frames')\n",
    "        imageio.mimwrite(\n",
    "            self._bytes_object,\n",
    "            self.frames[start:end:step],\n",
    "            format='GIF',\n",
    "            duration=self.fps\n",
    "        )\n",
    "        return Image(self._bytes_object.getvalue())\n",
    "        \n",
    "    def __iter__(self) -> Tuple[NamedTuple]:\n",
    "        n_frame = 0\n",
    "        for record in self.source_datapipe:\n",
    "            # for o in self.dequeue():\n",
    "            if is_record(record) and record.name=='image':\n",
    "                if record.value is None: continue\n",
    "                n_frame += 1\n",
    "                if n_frame%self.skip_frames!=0: continue\n",
    "                self.frames.append(\n",
    "                    record.value[::self.downsize_res[0],::self.downsize_res[1]]\n",
    "                )\n",
    "            yield record\n",
    "add_docs(\n",
    "SimpleVSCodeVideoPlayer,\n",
    "\"\"\"Displays video from a `source_datapipe` that produces `typing.NamedTuples` that contain an `image` field.\n",
    "This only can handle 1 env input.\"\"\",\n",
    "show=\"In order to show the video, this must be called in a notebook cell.\",\n",
    "reset=\"Will reset the bytes object that is used to store file data.\"\n",
    ")"
   ]
  },
  {
   "cell_type": "code",
   "execution_count": null,
   "id": "d486d06a",
   "metadata": {},
   "outputs": [],
   "source": [
    "#|export\n",
    "@functional_datapipe('visualize_vscode')\n",
    "class VSCodeDataPipe(dp.iter.IterDataPipe):\n",
    "    def __new__(self,source:Iterable):\n",
    "        \"This is the function that is actually run by `DataBlock`\"\n",
    "        pipe = ImageCollector(source).dump_records()\n",
    "        pipe = SimpleVSCodeVideoPlayer(pipe)\n",
    "        return pipe \n",
    "        "
   ]
  },
  {
   "cell_type": "code",
   "execution_count": null,
   "id": "55130404",
   "metadata": {},
   "outputs": [],
   "source": [
    "from fastrl.envs.gym import GymDataPipe"
   ]
  },
  {
   "cell_type": "code",
   "execution_count": null,
   "id": "8b58a84d",
   "metadata": {},
   "outputs": [],
   "source": [
    "#|hide\n",
    "pipe = GymDataPipe(['CartPole-v1'],None,n=100,seed=0,include_images=True).visualize_vscode()\n",
    "\n",
    "list(pipe);\n",
    "pipe.show()"
   ]
  },
  {
   "cell_type": "code",
   "execution_count": null,
   "id": "ead27188-7322-46c2-9300-59842af2386d",
   "metadata": {},
   "outputs": [],
   "source": [
    "#|hide\n",
    "pipe = GymDataPipe(['CartPole-v1'],None,n=100,seed=0,include_images=True)\n",
    "pipe = VSCodeDataPipe(pipe)\n",
    "\n",
    "list(pipe);\n",
    "pipe.show()"
   ]
  },
  {
   "cell_type": "code",
   "execution_count": null,
   "id": "current-pilot",
   "metadata": {},
   "outputs": [],
   "source": [
    "#|hide\n",
    "#|eval: false\n",
    "!nbdev_export"
   ]
  },
  {
   "cell_type": "code",
   "execution_count": null,
   "id": "e0d82468-a2bf-4bfd-9ac7-e56db49b8476",
   "metadata": {},
   "outputs": [],
   "source": []
  }
 ],
 "metadata": {
  "kernelspec": {
   "display_name": "python3",
   "language": "python",
   "name": "python3"
  }
 },
 "nbformat": 4,
 "nbformat_minor": 5
}
