{
 "cells": [
  {
   "cell_type": "code",
   "execution_count": null,
   "id": "durable-dialogue",
   "metadata": {},
   "outputs": [],
   "source": [
    "#|hide\n",
    "from fastrl.test_utils import initialize_notebook\n",
    "initialize_notebook()"
   ]
  },
  {
   "cell_type": "code",
   "execution_count": null,
   "id": "assisted-contract",
   "metadata": {},
   "outputs": [],
   "source": [
    "#|export\n",
    "# Python native modules\n",
    "import os\n",
    "from torch.multiprocessing import Queue\n",
    "# Third party libs\n",
    "import torchdata.datapipes as dp\n",
    "# Local modules"
   ]
  },
  {
   "cell_type": "code",
   "execution_count": null,
   "id": "offshore-stuart",
   "metadata": {},
   "outputs": [],
   "source": [
    "#|default_exp loggers.tensorboard"
   ]
  },
  {
   "attachments": {},
   "cell_type": "markdown",
   "id": "lesser-innocent",
   "metadata": {},
   "source": [
    "# Tensorboard \n",
    "> Iterable pipes for exporting to tensorboard"
   ]
  },
  {
   "cell_type": "code",
   "execution_count": null,
   "id": "fea383b7-e004-4ce1-8007-7b6d29248677",
   "metadata": {},
   "outputs": [],
   "source": [
    "#|export\n",
    "def run_tensorboard(\n",
    "        port:int=6006, # The port to run tensorboard on/connect on\n",
    "        start_tag:str=None, # Starting regex e.g.: experience_replay/1\n",
    "        samples_per_plugin:str=None, # Sampling freq such as  images=0 (keep all)\n",
    "        extra_args:str=None, # Any additional arguments in the `--arg value` format\n",
    "        rm_glob:bool=None # Remove old logs via a parttern e.g.: '*' will remove all files: runs/* \n",
    "    ):\n",
    "    if rm_glob is not None:\n",
    "        for p in Path('runs').glob(rm_glob): p.delete()\n",
    "    import socket\n",
    "    from tensorboard import notebook\n",
    "    a_socket=socket.socket(socket.AF_INET, socket.SOCK_STREAM)\n",
    "    cmd=None\n",
    "    if not a_socket.connect_ex(('127.0.0.1',6006)):\n",
    "        notebook.display(port=port,height=1000)\n",
    "    else:\n",
    "        cmd=f'--logdir runs --port {port} --host=0.0.0.0'\n",
    "        if samples_per_plugin is not None: cmd+=f' --samples_per_plugin {samples_per_plugin}'\n",
    "        if start_tag is not None:          cmd+=f' --tag {start_tag}'\n",
    "        if extra_args is not None:         cmd+=f' {extra_args}'\n",
    "        notebook.start(cmd)\n",
    "    return cmd"
   ]
  },
  {
   "cell_type": "code",
   "execution_count": null,
   "id": "530f998c-250a-4005-8abc-65ca89d8ae7d",
   "metadata": {},
   "outputs": [],
   "source": [
    "#|hide\n",
    "SHOW_TENSOR_BOARD=False\n",
    "if not os.environ.get(\"IN_TEST\", None) and SHOW_TENSOR_BOARD:\n",
    "    run_tensorboard()"
   ]
  },
  {
   "cell_type": "code",
   "execution_count": null,
   "id": "current-pilot",
   "metadata": {},
   "outputs": [
    {
     "name": "stderr",
     "output_type": "stream",
     "text": [
      "/usr/local/lib/python3.8/dist-packages/nbdev/export.py:54: UserWarning: Notebook '/home/fastrl_user/fastrl/nbs/07_Agents/02_Continuous/12u_agents.ppo.ipynb' uses `#|export` without `#|default_exp` cell.\n",
      "Note nbdev2 no longer supports nbdev1 syntax. Run `nbdev_migrate` to upgrade.\n",
      "See https://nbdev.fast.ai/getting_started.html for more information.\n",
      "  warn(f\"Notebook '{nbname}' uses `#|export` without `#|default_exp` cell.\\n\"\n"
     ]
    }
   ],
   "source": [
    "#|hide\n",
    "#|eval: false\n",
    "from fastcore.imports import in_colab\n",
    "\n",
    "# Since colab still requires tornado<6, we don't want to import nbdev if we don't have to\n",
    "if not in_colab():\n",
    "    from nbdev import nbdev_export\n",
    "    nbdev_export()"
   ]
  },
  {
   "cell_type": "code",
   "execution_count": null,
   "id": "e0d82468-a2bf-4bfd-9ac7-e56db49b8476",
   "metadata": {},
   "outputs": [],
   "source": []
  }
 ],
 "metadata": {
  "kernelspec": {
   "display_name": "python3",
   "language": "python",
   "name": "python3"
  }
 },
 "nbformat": 4,
 "nbformat_minor": 5
}
