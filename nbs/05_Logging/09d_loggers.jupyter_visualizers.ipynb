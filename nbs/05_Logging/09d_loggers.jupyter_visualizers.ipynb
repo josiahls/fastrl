{
 "cells": [
  {
   "cell_type": "code",
   "execution_count": 1,
   "id": "durable-dialogue",
   "metadata": {},
   "outputs": [],
   "source": [
    "#|hide\n",
    "from fastrl.test_utils import initialize_notebook\n",
    "initialize_notebook()"
   ]
  },
  {
   "cell_type": "code",
   "execution_count": 41,
   "id": "assisted-contract",
   "metadata": {},
   "outputs": [
    {
     "name": "stderr",
     "output_type": "stream",
     "text": [
      "/tmp/ipykernel_1402/1768756871.py:10: DeprecationWarning: Importing clear_output from IPython.core.display is deprecated since IPython 7.14, please import from IPython display\n",
      "  from IPython.core.display import clear_output\n"
     ]
    }
   ],
   "source": [
    "#|export\n",
    "# Python native modules\n",
    "import os\n",
    "from torch.multiprocessing import Queue\n",
    "from typing import Tuple,NamedTuple\n",
    "# Third party libs\n",
    "from fastcore.all import add_docs\n",
    "import matplotlib.pyplot as plt\n",
    "import torchdata.datapipes as dp\n",
    "from IPython.core.display import clear_output\n",
    "import torch\n",
    "import numpy as np\n",
    "# Local modules\n",
    "from fastrl.core import Record\n",
    "from fastrl.loggers.core import LoggerBase,LogCollector,is_record\n",
    "# from fastrl.torch_core import *"
   ]
  },
  {
   "cell_type": "code",
   "execution_count": 4,
   "id": "offshore-stuart",
   "metadata": {},
   "outputs": [],
   "source": [
    "#|default_exp loggers.jupyter_visualizers"
   ]
  },
  {
   "attachments": {},
   "cell_type": "markdown",
   "id": "lesser-innocent",
   "metadata": {},
   "source": [
    "# Visualizers \n",
    "> Iterable pipes for displaying environments as they run using `typing.NamedTuples` with `image` fields"
   ]
  },
  {
   "cell_type": "code",
   "execution_count": 62,
   "id": "9cb488d2-41f1-4160-a938-e39003f1a06a",
   "metadata": {},
   "outputs": [],
   "source": [
    "#|export\n",
    "class SimpleJupyterVideoPlayer(dp.iter.IterDataPipe):\n",
    "    def __init__(self, \n",
    "                 source_datapipe=None, \n",
    "                 between_frame_wait_seconds:float=0.1\n",
    "        ):\n",
    "        self.source_datapipe = source_datapipe\n",
    "        self.between_frame_wait_seconds = 0.1\n",
    "\n",
    "    def dequeue(self): \n",
    "        while self.buffer: yield self.buffer.pop(0)\n",
    "\n",
    "        \n",
    "    def __iter__(self) -> Tuple[NamedTuple]:\n",
    "        img = None\n",
    "        for record in self.source_datapipe:\n",
    "            # for o in self.dequeue():\n",
    "            if is_record(record):\n",
    "                if record.value is None: continue\n",
    "                if img is None: img = plt.imshow(record.value)\n",
    "                img.set_data(record.value) \n",
    "                plt.axis('off')\n",
    "                display(plt.gcf())\n",
    "                clear_output(wait=True)\n",
    "            yield record\n",
    "add_docs(\n",
    "    SimpleJupyterVideoPlayer,\n",
    "    \"\"\"Displays video from a `source_datapipe` that produces `typing.NamedTuples` that contain an `image` field.\n",
    "       This only can handle 1 env input.\"\"\",\n",
    "    dequeue=\"Grabs records from the `main_queue` and attempts to display them\"\n",
    ")"
   ]
  },
  {
   "cell_type": "code",
   "execution_count": 63,
   "id": "d4e46c41-f7f9-4168-b453-c43ec80377f0",
   "metadata": {},
   "outputs": [],
   "source": [
    "#|export\n",
    "class ImageCollector(dp.iter.IterDataPipe):\n",
    "    title:str='image'\n",
    "\n",
    "    def __init__(self,source_datapipe):\n",
    "        self.source_datapipe = source_datapipe\n",
    "\n",
    "    def convert_np(self,o):\n",
    "        if isinstance(o,torch.Tensor): return o.detach().numpy()\n",
    "        elif isinstance(o,np.ndarray): return o\n",
    "        else:                          raise ValueError(f'Expects Tensor or np.ndarray not {type(o)}')\n",
    "    \n",
    "    def __iter__(self):\n",
    "        # for q in self.main_buffers: q.append(Record('image',None))\n",
    "        yield Record(self.title,None)\n",
    "        for steps in self.source_datapipe:\n",
    "            if isinstance(steps,dp.DataChunk):\n",
    "                for step in steps:\n",
    "                    yield Record(self.title,self.convert_np(step.image))\n",
    "            else:\n",
    "                yield Record(self.title,self.convert_np(steps.image))\n",
    "            yield steps"
   ]
  },
  {
   "cell_type": "code",
   "execution_count": 64,
   "id": "1ade24c0",
   "metadata": {},
   "outputs": [],
   "source": [
    "from fastrl.envs.gym import GymDataPipe"
   ]
  },
  {
   "cell_type": "code",
   "execution_count": 65,
   "id": "6a4b9ca9-2027-40a1-ac97-4516d60479a2",
   "metadata": {},
   "outputs": [],
   "source": [
    "#|eval:false\n",
    "%matplotlib inline"
   ]
  },
  {
   "cell_type": "code",
   "execution_count": 69,
   "id": "ead27188-7322-46c2-9300-59842af2386d",
   "metadata": {},
   "outputs": [
    {
     "data": {
      "image/png": "[encoded data removed]",
      "text/plain": [
       "<Figure size 640x480 with 1 Axes>"
      ]
     },
     "metadata": {},
     "output_type": "display_data"
    }
   ],
   "source": [
    "\n",
    "pipe = GymDataPipe(['CartPole-v1'],None,n=100,seed=0,include_images=True)\n",
    "pipe = ImageCollector(pipe)\n",
    "pipe = SimpleJupyterVideoPlayer(pipe)\n",
    "\n",
    "for o in pipe: pass"
   ]
  },
  {
   "cell_type": "code",
   "execution_count": 68,
   "id": "current-pilot",
   "metadata": {},
   "outputs": [
    {
     "name": "stderr",
     "output_type": "stream",
     "text": [
      "477.83s - pydevd: Sending message related to process being replaced timed-out after 5 seconds\n"
     ]
    },
    {
     "name": "stdout",
     "output_type": "stream",
     "text": [
      "/usr/local/lib/python3.8/dist-packages/nbdev/export.py:54: UserWarning: Notebook '/home/fastrl_user/fastrl/nbs/07_Agents/02_Continuous/12u_agents.ppo.ipynb' uses `#|export` without `#|default_exp` cell.\n",
      "Note nbdev2 no longer supports nbdev1 syntax. Run `nbdev_migrate` to upgrade.\n",
      "See https://nbdev.fast.ai/getting_started.html for more information.\n",
      "  warn(f\"Notebook '{nbname}' uses `#|export` without `#|default_exp` cell.\\n\"\n"
     ]
    }
   ],
   "source": [
    "#|hide\n",
    "#|eval: false\n",
    "!nbdev_export"
   ]
  },
  {
   "cell_type": "code",
   "execution_count": null,
   "id": "e0d82468-a2bf-4bfd-9ac7-e56db49b8476",
   "metadata": {},
   "outputs": [],
   "source": []
  }
 ],
 "metadata": {
  "kernelspec": {
   "display_name": "python3",
   "language": "python",
   "name": "python3"
  },
  "language_info": {
   "codemirror_mode": {
    "name": "ipython",
    "version": 3
   },
   "file_extension": ".py",
   "mimetype": "text/x-python",
   "name": "python",
   "nbconvert_exporter": "python",
   "pygments_lexer": "ipython3",
   "version": "3.8.0"
  }
 },
 "nbformat": 4,
 "nbformat_minor": 5
}
