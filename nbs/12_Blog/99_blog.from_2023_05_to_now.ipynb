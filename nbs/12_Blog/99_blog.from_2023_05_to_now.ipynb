{
 "cells": [
  {
   "cell_type": "code",
   "execution_count": null,
   "id": "assisted-contract",
   "metadata": {},
   "outputs": [],
   "source": [
    "# Python native modules\n",
    "# Third party libs\n",
    "\n",
    "# Local modules\n",
    "from fastrl.nbdev_extensions import header"
   ]
  },
  {
   "cell_type": "code",
   "execution_count": null,
   "id": "40e740d6",
   "metadata": {},
   "outputs": [],
   "source": [
    "#|echo: false\n",
    "header(\n",
    "    \"Updating torchdata to 0.7.0 and torch 2.0\",\n",
    "    \"Gettign back up to speed with things\",\n",
    "    freeze=False\n",
    ")"
   ]
  },
  {
   "attachments": {},
   "cell_type": "markdown",
   "id": "fec5e005",
   "metadata": {},
   "source": [
    "First change is `traverse` to `traverse_dps`. It seems that the traverse function has been\n",
    "moved to torch? Not sure what the benefit of this this. I like the improvement of the \n",
    "utlities for understanding datapipes though.\n",
    "\n",
    "The original dataloading stuff is found at [dataloader2](https://github.com/josiahls/fastrl/blob/c2ec68b9092f616e51bc9d574873a13e06ca3a26/fastrl/data/dataloader2.py)\n",
    "\n",
    "The goal of that dataloading module is:\n",
    "- Allowing getting data back from the main thread\n",
    "- Pushing an additional stream of data for logging.\n",
    "\n",
    "My main issue is that this is maybe overly complicated. I feel like \"getting data back from the main thread\"\n",
    "could be done through the file system.\n",
    "\n",
    "I know that I've re-worked this a bunch of times, but I just feel like this is too complicated, and \n",
    "I'm hoping the new changes to pytorch make this easier."
   ]
  },
  {
   "attachments": {},
   "cell_type": "markdown",
   "id": "aeb4f889",
   "metadata": {},
   "source": [
    "Ok so some additional changes:\n",
    "\n",
    "- removed the map iter pipe mux and demux. RL likely wont use this, and even if I need something like this, I can just\n",
    "iterate through them I think.\n",
    "- `find_dps` would be nice to have include subclasses. You can argue there should never be\n",
    "subclasses though? It would maybe be better to have a `find_dps` that just took a\n",
    "filter function. On the other hand... you could just filter after the fact... hmm"
   ]
  },
  {
   "attachments": {},
   "cell_type": "markdown",
   "id": "ab16ee37",
   "metadata": {},
   "source": []
  }
 ],
 "metadata": {
  "kernelspec": {
   "display_name": "python3",
   "language": "python",
   "name": "python3"
  }
 },
 "nbformat": 4,
 "nbformat_minor": 5
}
