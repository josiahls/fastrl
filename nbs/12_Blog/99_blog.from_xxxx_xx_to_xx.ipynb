{
 "cells": [
  {
   "cell_type": "code",
   "execution_count": null,
   "id": "assisted-contract",
   "metadata": {},
   "outputs": [],
   "source": [
    "# Python native modules\n",
    "# Third party libs\n",
    "\n",
    "# Local modules\n",
    "from fastrl.nbdev_extensions import header"
   ]
  },
  {
   "cell_type": "code",
   "execution_count": null,
   "id": "40e740d6",
   "metadata": {},
   "outputs": [
    {
     "data": {
      "text/markdown": [
       "# `2023-05-29` **Test run**\n",
       "> subtitle"
      ],
      "text/plain": [
       "<IPython.core.display.Markdown object>"
      ]
     },
     "metadata": {},
     "output_type": "display_data"
    }
   ],
   "source": [
    "#|echo: false\n",
    "header(\n",
    "    \"Test run\",\n",
    "    \"subtitle\",\n",
    "    freeze=False\n",
    ")"
   ]
  },
  {
   "attachments": {},
   "cell_type": "markdown",
   "id": "fec5e005",
   "metadata": {},
   "source": []
  }
 ],
 "metadata": {
  "kernelspec": {
   "display_name": "python3",
   "language": "python",
   "name": "python3"
  }
 },
 "nbformat": 4,
 "nbformat_minor": 5
}
