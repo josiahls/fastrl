{
 "cells": [
  {
   "cell_type": "code",
   "execution_count": null,
   "metadata": {},
   "outputs": [],
   "source": [
    "#|hide\n",
    "#|eval: false\n",
    "! [ -e /content ] && pip install -Uqq fastrl  # upgrade fastrl on colab"
   ]
  },
  {
   "cell_type": "code",
   "execution_count": null,
   "metadata": {},
   "outputs": [],
   "source": [
    "#|hide\n",
    "from nbdev.showdoc import *\n",
    "from nbdev.imports import *\n",
    "if not os.environ.get(\"IN_TEST\", None):\n",
    "    assert IN_NOTEBOOK\n",
    "    assert not IN_COLAB\n",
    "    assert IN_IPYTHON"
   ]
  },
  {
   "cell_type": "markdown",
   "metadata": {},
   "source": [
    "[![CI Status](https://github.com/josiahls/fastrl/workflows/Fastrl%20Testing/badge.svg)](https://github.com/josiahls/fastrl/actions?query=workflow%3A%22Fastrl+Testing%22)\n",
    "[![pypi fastrl version](https://img.shields.io/pypi/v/fastrl.svg)](https://pypi.python.org/pypi/fastrl)\n",
    "[![Conda fastrl version](https://img.shields.io/conda/v/josiahls/fastrl.svg)](https://anaconda.org/josiahls/fastrl)\n",
    "[![Docker Image Latest](https://img.shields.io/docker/v/josiahls/fastrl?label=Docker&sort=date)](https://hub.docker.com/repository/docker/josiahls/fastrl)\n",
    "[![Docker Image-Dev Latest](https://img.shields.io/docker/v/josiahls/fastrl-dev?label=Docker%20Dev&sort=date)](https://hub.docker.com/repository/docker/josiahls/fastrl-dev)\n",
    "\n",
    "[![Anaconda-Server Badge](https://anaconda.org/josiahls/fastrl/badges/platforms.svg)](https://anaconda.org/josiahls/fastrl)\n",
    "[![fastrl python compatibility](https://img.shields.io/pypi/pyversions/fastrl.svg)](https://pypi.python.org/pypi/fastrl)\n",
    "[![fastrl license](https://img.shields.io/pypi/l/fastrl.svg)](https://pypi.python.org/pypi/fastrl)"
   ]
  },
  {
   "cell_type": "markdown",
   "metadata": {},
   "source": [
    "# fastrl\n",
    "\n",
    "> Note: This is a perminant location for fastrl version 2. Currently in a giant refactor. The previous source code can be found [here](https://github.com/josiahls/fastrl/tree/pre_refactor)."
   ]
  },
  {
   "cell_type": "markdown",
   "metadata": {},
   "source": [
    "`nbdev_torchdata_incompat` produces the error:\n",
    "\n",
    "```bash\n",
    "fastrl_nbdev_docs --n_workers 0\n",
    "NB: From v1.2 `_quarto.yml` is no longer auto-updated. Please remove the `custom_quarto_yml` line from `settings.ini`\n",
    "Traceback (most recent call last):\n",
    "  File \"/opt/conda/lib/python3.7/site-packages/IPython/core/interactiveshell.py\", line 3441, in run_code\n",
    "    exec(code_obj, self.user_global_ns, self.user_ns)\n",
    "  File \"<ipython-input-1-2ad89adecba4>\", line 1, in <module>\n",
    "  File \"/home/fastrl_user/fastrl/fastrl/pipes/map/demux.py\", line 25, in <module>\n",
    "    class DemultiplexerMapDataPipe(MapDataPipe[T_co]):\n",
    "  File \"/opt/conda/lib/python3.7/site-packages/torch/utils/data/datapipes/_decorator.py\", line 36, in __call__\n",
    "    MapDataPipe.register_datapipe_as_function(self.name, cls)\n",
    "  File \"/opt/conda/lib/python3.7/site-packages/torch/utils/data/datapipes/datapipe.py\", line 263, in register_datapipe_as_function\n",
    "    raise Exception(\"Unable to add DataPipe function name {} as it is already taken\".format(function_name))\n",
    "Exception: Unable to add DataPipe function name demux as it is already taken\n",
    "\n",
    "The above exception was the direct cause of the following exception:\n",
    "\n",
    "Traceback (most recent call last):\n",
    "  File \"/home/fastrl_user/.local/bin/fastrl_nbdev_docs\", line 33, in <module>\n",
    "    sys.exit(load_entry_point('fastrl', 'console_scripts', 'fastrl_nbdev_docs')())\n",
    "  File \"/home/fastrl_user/.local/lib/python3.7/site-packages/fastcore/script.py\", line 119, in _f\n",
    "    return tfunc(**merge(args, args_from_prog(func, xtra)))\n",
    "  File \"/home/fastrl_user/fastrl/fastrl/cli.py\", line 107, in fastrl_nbdev_docs\n",
    "    cache,cfg,path = _pre_docs(path, n_workers=n_workers, verbose=verbose, **kwargs)\n",
    "  File \"/home/fastrl_user/fastrl/fastrl/cli.py\", line 96, in _pre_docs\n",
    "    cache = proc_nbs.__wrapped__(path, n_workers=n_workers, verbose=verbose)\n",
    "  File \"/home/fastrl_user/fastrl/fastrl/cli.py\", line 79, in proc_nbs\n",
    "    parallel(nbdev.serve_drv.main, files, n_workers=n_workers, pause=0.01, **kw)\n",
    "  File \"/home/fastrl_user/.local/lib/python3.7/site-packages/fastcore/parallel.py\", line 117, in parallel\n",
    "    return L(r)\n",
    "  File \"/home/fastrl_user/.local/lib/python3.7/site-packages/fastcore/foundation.py\", line 98, in __call__\n",
    "    return super().__call__(x, *args, **kwargs)\n",
    "  File \"/home/fastrl_user/.local/lib/python3.7/site-packages/fastcore/foundation.py\", line 106, in __init__\n",
    "    items = listify(items, *rest, use_list=use_list, match=match)\n",
    "  File \"/home/fastrl_user/.local/lib/python3.7/site-packages/fastcore/basics.py\", line 66, in listify\n",
    "    elif is_iter(o): res = list(o)\n",
    "  File \"/home/fastrl_user/.local/lib/python3.7/site-packages/nbdev/serve_drv.py\", line 22, in main\n",
    "    if src.suffix=='.ipynb': exec_nb(src, dst, x)\n",
    "  File \"/home/fastrl_user/.local/lib/python3.7/site-packages/nbdev/serve_drv.py\", line 16, in exec_nb\n",
    "    cb()(nb)\n",
    "  File \"/home/fastrl_user/.local/lib/python3.7/site-packages/nbdev/processors.py\", line 221, in __call__\n",
    "    def __call__(self, nb): return self.nb_proc(nb).process()\n",
    "  File \"/home/fastrl_user/.local/lib/python3.7/site-packages/nbdev/process.py\", line 126, in process\n",
    "    for proc in self.procs: self._proc(proc)\n",
    "  File \"/home/fastrl_user/.local/lib/python3.7/site-packages/nbdev/process.py\", line 119, in _proc\n",
    "    for cell in self.nb.cells: self._process_cell(proc, cell)\n",
    "  File \"/home/fastrl_user/.local/lib/python3.7/site-packages/nbdev/process.py\", line 110, in _process_cell\n",
    "    if callable(proc) and not _is_direc(proc): cell = opt_set(cell, proc(cell))\n",
    "  File \"/home/fastrl_user/.local/lib/python3.7/site-packages/nbdev/processors.py\", line 201, in __call__\n",
    "    raise Exception(f\"Error{' in notebook: '+title if title else ''} in cell {cell.idx_} :\\n{cell.source}\") from self.k.exc[1]\n",
    "Exception: Error in notebook: Multiplexer in cell 11 :\n",
    "from fastrl.pipes.map.demux import DemultiplexerMapDataPipe\n",
    "```\n",
    "However by running this, `_proc` is created, so if you run it again...\n",
    "```bash\n",
    "\n",
    "fastrl_nbdev_docs --n_workers 0\n",
    "\n",
    "fastrl_nbdev_docs --n_workers 0\n",
    "NB: From v1.2 `_quarto.yml` is no longer auto-updated. Please remove the `custom_quarto_yml` line from `settings.ini`\n",
    "pandoc -o README.md\n",
    "  to: gfm+footnotes+tex_math_dollars-yaml_metadata_block\n",
    "  output-file: index.html\n",
    "  standalone: true\n",
    "  default-image-extension: png\n",
    "  \n",
    "metadata\n",
    "  description: 'Note: This is a perminant location for fastrl version 2. Currently in a giant refactor. The previous source code can be found [here](https://github.com/josiahls/fastrl/tree/pre_refactor).'\n",
    "  title: fastrl\n",
    "  \n",
    "Output created: _docs/README.md\n",
    "\n",
    "[1/5] index.ipynb\n",
    "[2/5] 00_nbdev_extension.ipynb\n",
    "[3/5] 01_DataPipes/01b_pipes.map.demux.ipynb\n",
    "[4/5] 01_DataPipes/01c_pipes.map.mux.ipynb\n",
    "[5/5] 19_cli.ipynb\n",
    "\n",
    "Output created: _docs/index.html\n",
    "```\n",
    "If you run `nbdev_test --n_workers 1 or 0` then it will work, but if you run\n",
    "`rm -r _proc` and run `nbdev_test --n_workers 1` it will fail similarly.\n",
    "\n"
   ]
  },
  {
   "cell_type": "code",
   "execution_count": null,
   "metadata": {},
   "outputs": [],
   "source": [
    "#|hide\n",
    "#|eval: false\n",
    "from fastcore.imports import in_colab\n",
    "\n",
    "# Since colab still requires tornado<6, we don't want to import nbdev if we don't have to\n",
    "if not in_colab():\n",
    "    from nbdev import nbdev_export\n",
    "    nbdev_export()"
   ]
  },
  {
   "cell_type": "code",
   "execution_count": null,
   "metadata": {},
   "outputs": [],
   "source": []
  }
 ],
 "metadata": {
  "kernelspec": {
   "display_name": "Python 3.7.11 ('base')",
   "language": "python",
   "name": "python3"
  }
 },
 "nbformat": 4,
 "nbformat_minor": 4
}
