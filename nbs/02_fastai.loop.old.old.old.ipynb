{
 "cells": [
  {
   "cell_type": "code",
   "execution_count": 1,
   "id": "durable-dialogue",
   "metadata": {},
   "outputs": [],
   "source": [
    "#hide\n",
    "#skip\n",
    "%config Completer.use_jedi = False\n",
    "# upgrade fastrl on colab\n",
    "! [ -e /content ] && pip install -Uqq fastrl['dev'] pyvirtualdisplay && \\\n",
    "                     apt-get install -y xvfb python-opengl > /dev/null 2>&1 \n",
    "# NOTE: IF YOU SEE VERSION ERRORS, IT IS SAFE TO IGNORE THEM. COLAB IS BEHIND IN SOME OF THE PACKAGE VERSIONS"
   ]
  },
  {
   "cell_type": "code",
   "execution_count": 2,
   "id": "viral-cambridge",
   "metadata": {},
   "outputs": [],
   "source": [
    "# hide\n",
    "from fastcore.imports import in_colab\n",
    "# Since colab still requires tornado<6, we don't want to import nbdev if we don't have to\n",
    "if not in_colab():\n",
    "    from nbverbose.showdoc import *\n",
    "    from nbdev.imports import *\n",
    "    if not os.environ.get(\"IN_TEST\", None):\n",
    "        assert IN_NOTEBOOK\n",
    "        assert not IN_COLAB\n",
    "        assert IN_IPYTHON\n",
    "else:\n",
    "    # Virutual display is needed for colab\n",
    "    from pyvirtualdisplay import Display\n",
    "    display=Display(visible=0,size=(400,300))\n",
    "    display.start()"
   ]
  },
  {
   "cell_type": "code",
   "execution_count": 3,
   "id": "offshore-stuart",
   "metadata": {},
   "outputs": [],
   "source": [
    "####### default_exp fastai.loop"
   ]
  },
  {
   "cell_type": "code",
   "execution_count": 4,
   "id": "assisted-contract",
   "metadata": {},
   "outputs": [],
   "source": [
    "# export\n",
    "# Python native modules\n",
    "import os\n",
    "from copy import deepcopy\n",
    "from typing import *\n",
    "import types\n",
    "import logging\n",
    "import inspect\n",
    "# Third party libs\n",
    "from fastcore.all import *\n",
    "# Local modules\n",
    "\n",
    "_logger=logging.getLogger(__name__)"
   ]
  },
  {
   "cell_type": "markdown",
   "id": "lesser-innocent",
   "metadata": {},
   "source": [
    "# Loop\n",
    "> fastrl concept of generic loop objects. \n",
    "\n",
    "The goal for Loops is to make it easy to customize, and know how sections of code connects\n",
    "to other parts."
   ]
  },
  {
   "cell_type": "markdown",
   "id": "10116234-0510-4456-b50c-0f011c4e958b",
   "metadata": {},
   "source": [
    "### Why do we need this?\n",
    "We have identified at least 3 different kinds of loops already:\n",
    "\n",
    "    Learner (training)\n",
    "    Source/Gym (Data Access)\n",
    "    Agent (How an AI takes in data, generates actions)\n",
    "\n",
    "### What is a loop?\n",
    "\n",
    "    It should be capable of containing inner loops. \n",
    "    It should be able to handle \"phases\" that might be similar to each other. \n",
    "    It should self-describe its structure. \n",
    "    It should be easy to know which parts of the loop are taking long/short amounts of time.\n",
    "    It should be flexible in state modification.\n",
    "    It should alternatively make it easy show what fields are being changed at what points in time."
   ]
  },
  {
   "cell_type": "markdown",
   "id": "1e736013-c76a-4d9e-bf5a-771983b7ce61",
   "metadata": {},
   "source": [
    "A Loop will act as a compiled structure. The actual result will be a compiled list of nodes that reference the original loop."
   ]
  },
  {
   "cell_type": "markdown",
   "id": "e17dd88a-a25d-48af-9114-294e1f974ed0",
   "metadata": {},
   "source": [
    "Loop is a compiled object that organizes the callbacks and loop calls into a possibly repeating sequence."
   ]
  },
  {
   "cell_type": "markdown",
   "id": "ca70862a-2bae-4e92-a74d-e114ada9a0c9",
   "metadata": {},
   "source": [
    "`Literal['order',int]` contains a int that should be more than or equal to 0. This determines when a \n",
    "function in the loops should be executed relative to other functions."
   ]
  },
  {
   "cell_type": "code",
   "execution_count": 5,
   "id": "51b4ee96-dffe-4b8a-82ce-2724ef71357c",
   "metadata": {},
   "outputs": [],
   "source": [
    "class TestLoop:\n",
    "    def on_iteration(self)->Literal['order',3]:pass\n",
    "    def on_step(self)->Literal['order',3]:pass"
   ]
  },
  {
   "cell_type": "code",
   "execution_count": 6,
   "id": "730de79e-9c3b-4600-9b21-e4c37d745026",
   "metadata": {},
   "outputs": [],
   "source": [
    "# export\n",
    "PREFIXES=['on_','after_','before_','failed_','finally_']\n",
    "PRE2ORDER={'on_':2,'after_':3,'before_':1,'failed_':4,\n",
    "           'finally_':5}\n",
    "\n",
    "class Node(object):\n",
    "    def __init__(self,\n",
    "                 function:Callable, # The function to be called on this node.\n",
    "                 base_loop=None,         \n",
    "                 # The BASE loop that this node is a part of. This will be\n",
    "                 # different from the loop it is defined in.\n",
    "                 loop=None, # The loop this node immediately reports to\n",
    "                 children:List['Node']=None,\n",
    "                 parent:'Node'=None,\n",
    "                 order=0,\n",
    "                 call_on='',\n",
    "                 call_on2str:bool=False, # Whether to show the call_on the __repr__ and __str__ functions\n",
    "                 order2str:bool=False, # Whether to show the order the __repr__ and __str__ functions\n",
    "                 level2str:bool=False, # Whether to show the level the __repr__ and __str__ functions\n",
    "                 indent2str:str='' # Amount and characters to indent the __repr__ and __str__ functions\n",
    "                ):\n",
    "        store_attr()\n",
    "        if not self.isvalid(function):\n",
    "            raise ValueError(f\"\"\"{function} cannot be private ('_'), and must have\n",
    "                                 either {PREFIXES}\"\"\")\n",
    "        self.sig=inspect.signature(function)\n",
    "        self.name=function.__name__\n",
    "        self.order=order\n",
    "        self.user_defined_order=False\n",
    "        for anno in L(anno_ret(function)):\n",
    "            if 'order' in anno.__args__: \n",
    "                self.order+=anno.__args__[-1]\n",
    "                self.user_defined_order=True\n",
    "            \n",
    "        for pre in PREFIXES: \n",
    "            if self.name.startswith(pre): \n",
    "                self.postfix=self.name.replace(pre,'')\n",
    "                self.prefix=pre\n",
    "                # If order is 0, then we will define the order based on the prefix\n",
    "                if self.order==0: self.order=PRE2ORDER[pre]\n",
    "                break\n",
    "        \n",
    "    def __call__(self,*args,**kwargs): return self.function(*args,**kwargs)\n",
    "    def __round__(self): return round(self.order)  \n",
    "    def __lt__(self,o:'Node'): return self.order<o.order\n",
    "            \n",
    "    @delegates(__init__,but='function,base_loop,loop,children,parent,order,call_on')\n",
    "    def adjust_str(self,**kwargs):\n",
    "        n=deepcopy(self)\n",
    "        for k,v in kwargs.items(): setattr(n,k,v)\n",
    "        return n\n",
    "        \n",
    "    def __str__(self):\n",
    "        base=f\"{self.function.__name__}\"\n",
    "        if self.call_on!='' and self.call_on2str: base=f\"{self.call_on}:\"+base\n",
    "        if self.level2str:                        base=f\"level:{self.level} \"+base\n",
    "        if self.order2str:                        base=f\"order:{self.order} \"+base\n",
    "        base=self.indent2str*(self.level-1)+base\n",
    "        return base\n",
    "    \n",
    "    def __repr__(self): return str(self)\n",
    "    def __hash__(self): return hash(f'{self.call_on} {str(self)}')\n",
    "\n",
    "    @property\n",
    "    def level(self):\n",
    "        return 1 if self.parent is None else (1+self.parent.level)\n",
    "\n",
    "    @classmethod\n",
    "    def isvalid(cls,name)->bool:\n",
    "        if isinstance(name,Callable): name=name.__name__\n",
    "        return not name.startswith('_') and \\\n",
    "          any(name.startswith(pre) for pre in PREFIXES)\n",
    "    \n",
    "add_docs(Node,\"\"\"Nodes are used to generate a static loop. They wrap whatever functions\n",
    "are defined in that loop.\"\"\",\n",
    "        adjust_str='If we want to change some of the str related params on the fly, we can call this method.')"
   ]
  },
  {
   "cell_type": "code",
   "execution_count": 7,
   "id": "93c06cfc-a40c-4088-89e9-440b17200fe7",
   "metadata": {},
   "outputs": [
    {
     "data": {
      "text/plain": [
       "on_test"
      ]
     },
     "execution_count": 7,
     "metadata": {},
     "output_type": "execute_result"
    }
   ],
   "source": [
    "def on_test()->Literal['order',3]: return {'this':'that'}\n",
    "def on_other_test()->Literal['order',3]: return {'this':'that'}\n",
    "Node(on_test,0)"
   ]
  },
  {
   "cell_type": "code",
   "execution_count": 8,
   "id": "7edaf71c-4fda-4da8-b624-6495703ebba6",
   "metadata": {},
   "outputs": [
    {
     "data": {
      "text/plain": [
       "{'this': 'that'}"
      ]
     },
     "execution_count": 8,
     "metadata": {},
     "output_type": "execute_result"
    }
   ],
   "source": [
    "Node(on_test,0)()"
   ]
  },
  {
   "cell_type": "code",
   "execution_count": 9,
   "id": "06c55f6b-f1df-4c07-bc11-249b88070bc5",
   "metadata": {},
   "outputs": [
    {
     "data": {
      "text/plain": [
       "'on_test'"
      ]
     },
     "execution_count": 9,
     "metadata": {},
     "output_type": "execute_result"
    }
   ],
   "source": [
    "str(Node(on_test,0))"
   ]
  },
  {
   "cell_type": "code",
   "execution_count": 10,
   "id": "62c11926-45bb-4eb9-a82a-27ea3d828554",
   "metadata": {},
   "outputs": [
    {
     "data": {
      "text/plain": [
       "'parent_method:on_test'"
      ]
     },
     "execution_count": 10,
     "metadata": {},
     "output_type": "execute_result"
    }
   ],
   "source": [
    "str(Node(on_test,0,call_on='parent_method',call_on2str=True))"
   ]
  },
  {
   "cell_type": "code",
   "execution_count": 11,
   "id": "ee57d6da-0d81-4b12-a3c2-e7b55624c4bb",
   "metadata": {},
   "outputs": [
    {
     "data": {
      "text/plain": [
       "'order:3 parent_method:on_test'"
      ]
     },
     "execution_count": 11,
     "metadata": {},
     "output_type": "execute_result"
    }
   ],
   "source": [
    "str(Node(on_test,0,call_on='parent_method',call_on2str=True,order2str=True))"
   ]
  },
  {
   "cell_type": "code",
   "execution_count": 12,
   "id": "e9178e02-e0b9-498f-80d0-20b8eecbb727",
   "metadata": {},
   "outputs": [
    {
     "data": {
      "text/plain": [
       "'order:3 level:2 parent_method:on_test'"
      ]
     },
     "execution_count": 12,
     "metadata": {},
     "output_type": "execute_result"
    }
   ],
   "source": [
    "parent=Node(on_other_test)\n",
    "\n",
    "str(Node(on_test,0,parent=parent,call_on='parent_method',call_on2str=True,order2str=True,level2str=True))"
   ]
  },
  {
   "cell_type": "code",
   "execution_count": 13,
   "id": "8e3e760a-2c60-45dd-8c89-ed70602d7a5b",
   "metadata": {},
   "outputs": [
    {
     "data": {
      "text/plain": [
       "'--order:3 level:2 parent_method:on_test'"
      ]
     },
     "execution_count": 13,
     "metadata": {},
     "output_type": "execute_result"
    }
   ],
   "source": [
    "parent=Node(on_other_test)\n",
    "\n",
    "str(Node(on_test,0,parent=parent,call_on='parent_method',call_on2str=True,order2str=True,\n",
    "         level2str=True,indent2str='--'))"
   ]
  },
  {
   "cell_type": "code",
   "execution_count": 14,
   "id": "8218c183-3a4f-4d3b-ac0e-d480c70047ea",
   "metadata": {},
   "outputs": [
    {
     "data": {
      "text/plain": [
       "'+++++order:3 level:2 parent_method:on_test'"
      ]
     },
     "execution_count": 14,
     "metadata": {},
     "output_type": "execute_result"
    }
   ],
   "source": [
    "parent=Node(on_other_test)\n",
    "\n",
    "str(Node(on_test,0,parent=parent,call_on='parent_method',call_on2str=True,order2str=True,\n",
    "         level2str=True,indent2str='--').adjust_str(indent2str='+++++'))"
   ]
  },
  {
   "cell_type": "code",
   "execution_count": 15,
   "id": "2a807846-ef4e-46c7-9806-75fcfd6e4603",
   "metadata": {},
   "outputs": [
    {
     "data": {
      "text/plain": [
       "'test'"
      ]
     },
     "execution_count": 15,
     "metadata": {},
     "output_type": "execute_result"
    }
   ],
   "source": [
    "Node(on_test,0).postfix"
   ]
  },
  {
   "cell_type": "code",
   "execution_count": 16,
   "id": "775baa67-4921-4b14-b457-f386b90bbdc7",
   "metadata": {},
   "outputs": [
    {
     "data": {
      "text/plain": [
       "5365586429828178065"
      ]
     },
     "execution_count": 16,
     "metadata": {},
     "output_type": "execute_result"
    }
   ],
   "source": [
    "Node(on_test,0).__hash__()"
   ]
  },
  {
   "cell_type": "code",
   "execution_count": 17,
   "id": "6c15baf2-1bb6-4a08-9d5a-f9564462ecef",
   "metadata": {},
   "outputs": [],
   "source": [
    "# export\n",
    "class Loop(object):\n",
    "    core_obj=None\n",
    "    call_on=''\n",
    "    \n",
    "    def __init__(self,\n",
    "                 full_loop=None,\n",
    "                 inner_loops=None\n",
    "                ):\n",
    "        store_attr()\n",
    "    \n",
    "    @classmethod\n",
    "    def nodes(cls,\n",
    "              loop_instance=None # If we want to actually run the nodes, we need to use a loop isntance\n",
    "             )->List[Node]:\n",
    "        nodes=L(Node(node) for k,node in inspect.getmembers(cls) if Node.isvalid(k))\n",
    "        if loop_instance is not None: \n",
    "            for n in nodes: n.function=getattr(loop_instance,n.name)\n",
    "        # For a given set of nodes, fix the orders, and defining the order if it\n",
    "        # it not defined for a given node.\n",
    "        for postfix,subnodes in groupby(nodes,lambda o:o.postfix).items():\n",
    "            # For a given subnode, we want to see if the user defined any of the orders\n",
    "            if any(n.user_defined_order for n in subnodes):\n",
    "                # If the user defined ONE of the orders then we need to make sure \n",
    "                # the other nodes have orders that make sense.\n",
    "                user_ordered_nodes=[n for n in subnodes if n.user_defined_order]\n",
    "                if all([n.user_defined_order for n in subnodes]): pass\n",
    "                elif len(user_ordered_nodes)==1:\n",
    "                    max_order=max(user_ordered_nodes).order\n",
    "                    idxs=L(subnodes).argwhere(lambda o:not o.user_defined_order)\n",
    "                    for subn in L(subnodes)[idxs]:subn.order+=max_order\n",
    "                elif len(user_ordered_nodes)>1:\n",
    "                    # If the user defined MORE THAN ONE of the orders, then we will\n",
    "                    # warn them and not mess with the orders.\n",
    "                    _logger.warning(\"\"\"nodes: %s have %s user defined orders. \n",
    "                                       because there are more than 1 user defined\n",
    "                                       orders, we will not be able to define them\n",
    "                                       automatically.\"\"\",str(subnodes),len(user_ordered_nodes))\n",
    "        # Duplicate the nodes if for a given node, it is called on 2 different\n",
    "        # locations.\n",
    "        final_nodes=L()\n",
    "        if cls.call_on!='': \n",
    "            for n in nodes: \n",
    "                for call in L(cls.call_on.split(',')):\n",
    "                    n.call_on=call\n",
    "                    final_nodes.append(deepcopy(n))\n",
    "        else:\n",
    "            final_nodes=nodes\n",
    "        return final_nodes.sorted()\n",
    "    \n",
    "    @classmethod\n",
    "    def with_inner_loops(cls,\n",
    "             loop_instance=None, # If we want to actually run the nodes, we need to use a loop isntance\n",
    "             inner_loops:L=None # Either list of loop cls or instances \n",
    "            ):\n",
    "        if loop_instance is None:\n",
    "            return cls.nodes()+L(inner_loops).map(Self.with_inner_loops()).concat()\n",
    "        else:\n",
    "            ns=cls.nodes(loop_instance=loop_instance)\n",
    "            ns+=L(inner_loops).map(lambda o:o.with_inner_loops(loop_instance=o)).concat()\n",
    "            return ns\n",
    "    \n",
    "    @classmethod\n",
    "    def organized_nodes(cls,\n",
    "             loop_instance=None, # If we want to actually run the nodes, we need to use a loop isntance\n",
    "             inner_loops=None,\n",
    "             as_dict=False)->Union[List[Node],Dict[str,Node]]:\n",
    "        nodes=list(cls.with_inner_loops(loop_instance=loop_instance,inner_loops=inner_loops))\n",
    "        # For the nodes that have `call_on`s it will be more efficient to map\n",
    "        # them the function they are being called on. Nodes without call_ons we \n",
    "        # can be confident are the root nodes.\n",
    "        grouped_nodes=groupby(L(nodes),lambda o:o.call_on)\n",
    "        grouped_nodes={g:L(l).sorted() for g,l in grouped_nodes.items()}\n",
    "        # For each node, add the call_on nodes if they exist \n",
    "        organized_nodes=L()\n",
    "        order=0\n",
    "        nodes=grouped_nodes['']\n",
    "        while nodes:\n",
    "            n=nodes.pop(0)\n",
    "            # The order will cascade ensuring that all the nodes have their \n",
    "            # respective orders organized. This is needed incase you execute `sorted` \n",
    "            # on the final list of nodes.\n",
    "            if order==0: \n",
    "                order=n.order\n",
    "            else:\n",
    "                _order=order+n.order\n",
    "                n.order+=order\n",
    "                n.order=round(n.order,2)\n",
    "                order=_order\n",
    "                \n",
    "            organized_nodes.append(n)\n",
    "            if n.name in grouped_nodes:\n",
    "                # If there are call_on nodes for `n`, then we want to process them\n",
    "                # immediately after `n`. We reverse the list and add insert them\n",
    "                # on index 0, thus the nodes that should go first will be in \n",
    "                # index 0-ish and the ones that should go later will be farthur \n",
    "                # down this list.\n",
    "                n.children=grouped_nodes[n.name]\n",
    "                for inner_n in reversed(grouped_nodes[n.name]): \n",
    "                    inner_n.parent=n\n",
    "                    nodes.insert(0,inner_n)\n",
    "        return organized_nodes"
   ]
  },
  {
   "cell_type": "code",
   "execution_count": 18,
   "id": "4548f574-0cd5-4c8d-9b1e-d7f4bba4cd80",
   "metadata": {},
   "outputs": [],
   "source": [
    "class Outer(Loop):\n",
    "    def before_step(self)->Literal['order',1]:   print('before_step')\n",
    "    def on_step(self)->Literal['order',2]:       print('on_step')\n",
    "    def after_step(self)->Literal['order',3]:    print('after_step')\n",
    "    def failed_step(self)->Literal['order',4]:   print('failed_step')\n",
    "    def finally_step(self)->Literal['order',5]:  print('finally_step')\n",
    " \n",
    "    def before_jump(self)->Literal['order',6]:   print('before_jump')\n",
    "    def on_jump(self)->Literal['order',7]:       print('on_jump')\n",
    "    def after_jump(self)->Literal['order',8]:    print('after_jump')\n",
    "    def failed_jump(self)->Literal['order',9]:   print('failed_jump')\n",
    "    def finally_jump(self)->Literal['order',10]: print('finally_jump')\n",
    "\n",
    "class Inner(Loop):\n",
    "    call_on='on_step,after_step,finally_jump'\n",
    "    \n",
    "    def before_iteration(self)->Literal['order',1]: print('before_iteration')\n",
    "    def on_iteration(self):                         print('on_iteration')\n",
    "    def after_iteration(self):                      print('after_iteration')\n",
    "    def failed_iteration(self):                     print('failed_iteration')\n",
    "    def finally_iteration(self):                    print('finally_iteration')\n",
    "    \n",
    "class FailingInner(Loop):\n",
    "    call_on='finally_iteration'\n",
    "    \n",
    "    def on_force_fail(self):                    \n",
    "        print('on_force_fail')\n",
    "        raise Exception"
   ]
  },
  {
   "cell_type": "code",
   "execution_count": 19,
   "id": "5af661a9-dd5f-48fd-b311-a10cfb8cb8d6",
   "metadata": {},
   "outputs": [
    {
     "data": {
      "text/plain": [
       "[before_step,\n",
       " on_step,\n",
       "      on_step:before_iteration,\n",
       "      on_step:on_iteration,\n",
       "      on_step:after_iteration,\n",
       "      on_step:failed_iteration,\n",
       "      on_step:finally_iteration,\n",
       "           finally_iteration:on_force_fail,\n",
       " after_step,\n",
       "      after_step:before_iteration,\n",
       "      after_step:on_iteration,\n",
       "      after_step:after_iteration,\n",
       "      after_step:failed_iteration,\n",
       "      after_step:finally_iteration,\n",
       "           finally_iteration:on_force_fail,\n",
       " failed_step,\n",
       " finally_step,\n",
       " before_jump,\n",
       " on_jump,\n",
       " after_jump,\n",
       " failed_jump,\n",
       " finally_jump,\n",
       "      finally_jump:before_iteration,\n",
       "      finally_jump:on_iteration,\n",
       "      finally_jump:after_iteration,\n",
       "      finally_jump:failed_iteration,\n",
       "      finally_jump:finally_iteration,\n",
       "           finally_iteration:on_force_fail]"
      ]
     },
     "execution_count": 19,
     "metadata": {},
     "output_type": "execute_result"
    }
   ],
   "source": [
    "list(Outer.organized_nodes(inner_loops=L(Inner,FailingInner)).map(\n",
    "    lambda o:o.adjust_str(call_on2str=True,indent2str='     ')\n",
    "))"
   ]
  },
  {
   "cell_type": "code",
   "execution_count": 20,
   "id": "562d7a6b-106c-4fc7-add3-d7848f234261",
   "metadata": {},
   "outputs": [],
   "source": [
    "@patch\n",
    "def run(self:Loop):\n",
    "    full_loop=self.organized_nodes(loop_instance=self,inner_loops=L(self.inner_loops))\n",
    "    \n",
    "    failed:Node=None\n",
    "    failed_parent:Node=None\n",
    "    for n in full_loop:\n",
    "        # If there wasn't a failure, skip `failed_` events.\n",
    "        if failed is None and n.prefix=='failed_': continue\n",
    "        # If there was a failure in the loop, we need to skip parts of the loop\n",
    "        # and see if any of the 'failed_' methods handle the exception as well as\n",
    "        # calling the 'finally_' fields.\n",
    "        if failed is not None:\n",
    "            # If there was an exception, we need to do the following:\n",
    "            # if we are out of the section that failed, shift up to the parent\n",
    "            if n.postfix!=failed.postfix and failed_parent is None: \n",
    "                # If the postfix is no longer the failed node, then we need to\n",
    "                # escalate to a lower level in the loop.\n",
    "                failed_parent=failed.parent\n",
    "            # skip all steps that are not finally or failed events\n",
    "            if n.prefix not in ('finally_','failed_'): continue\n",
    "            # Check that we arent going back into another sub loop\n",
    "            if failed_parent is not None and n.level>failed_parent.level: \n",
    "                if n.postfix!=failed_parent.postfix and failed_parent.parent is not None:\n",
    "                    failed_parent=failed_parent.parent\n",
    "                continue\n",
    "            if failed_parent is not None and n.level==failed_parent.level:\n",
    "                if n.postfix!=failed_parent.postfix: continue\n",
    "        \n",
    "        try: \n",
    "            res=n()\n",
    "            if failed is not None and type(res)==bool and res:\n",
    "                failed,failed_parent=None,None\n",
    "        except:\n",
    "            failed=n\n",
    "    \n",
    "    return None"
   ]
  },
  {
   "cell_type": "code",
   "execution_count": 21,
   "id": "f8915582-8555-42e7-b019-adc27b132095",
   "metadata": {},
   "outputs": [
    {
     "name": "stdout",
     "output_type": "stream",
     "text": [
      "before_step\n",
      "on_step\n",
      "before_iteration\n",
      "on_iteration\n",
      "after_iteration\n",
      "finally_iteration\n",
      "on_force_fail\n",
      "failed_iteration\n",
      "finally_iteration\n",
      "failed_step\n",
      "finally_step\n",
      "failed_jump\n",
      "finally_jump\n",
      "failed_iteration\n",
      "finally_iteration\n"
     ]
    }
   ],
   "source": [
    "Outer(inner_loops=L(Inner(),FailingInner())).run()"
   ]
  },
  {
   "cell_type": "code",
   "execution_count": 1,
   "id": "current-pilot",
   "metadata": {},
   "outputs": [],
   "source": [
    "# # hide\n",
    "# from fastcore.imports import in_colab\n",
    "\n",
    "# # Since colab still requires tornado<6, we don't want to import nbdev if we don't have to\n",
    "# if not in_colab():\n",
    "#     from nbdev.export import *\n",
    "#     from nbdev.export2html import *\n",
    "#     from nbverbose.cli import *\n",
    "#     make_readme()\n",
    "#     notebook2script()\n",
    "#     notebook2html()"
   ]
  },
  {
   "cell_type": "code",
   "execution_count": null,
   "id": "275fa8c3-fd00-4175-928a-8767dea82dca",
   "metadata": {},
   "outputs": [],
   "source": []
  }
 ],
 "metadata": {
  "kernelspec": {
   "display_name": "Python 3 (ipykernel)",
   "language": "python",
   "name": "python3"
  },
  "language_info": {
   "codemirror_mode": {
    "name": "ipython",
    "version": 3
   },
   "file_extension": ".py",
   "mimetype": "text/x-python",
   "name": "python",
   "nbconvert_exporter": "python",
   "pygments_lexer": "ipython3",
   "version": "3.8.8"
  }
 },
 "nbformat": 4,
 "nbformat_minor": 5
}
