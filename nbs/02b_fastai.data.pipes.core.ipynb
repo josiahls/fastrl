{
 "cells": [
  {
   "cell_type": "code",
   "execution_count": 1,
   "id": "durable-dialogue",
   "metadata": {},
   "outputs": [],
   "source": [
    "#hide\n",
    "#skip\n",
    "%config Completer.use_jedi = False\n",
    "%config IPCompleter.greedy=True\n",
    "# upgrade fastrl on colab\n",
    "! [ -e /content ] && pip install -Uqq fastrl['dev'] pyvirtualdisplay && \\\n",
    "                     apt-get install -y xvfb python-opengl > /dev/null 2>&1 \n",
    "# NOTE: IF YOU SEE VERSION ERRORS, IT IS SAFE TO IGNORE THEM. COLAB IS BEHIND IN SOME OF THE PACKAGE VERSIONS"
   ]
  },
  {
   "cell_type": "code",
   "execution_count": 2,
   "id": "viral-cambridge",
   "metadata": {},
   "outputs": [],
   "source": [
    "# hide\n",
    "from fastcore.imports import in_colab\n",
    "# Since colab still requires tornado<6, we don't want to import nbdev if we don't have to\n",
    "if not in_colab():\n",
    "    from nbdev.showdoc import *\n",
    "    from nbdev.imports import *\n",
    "    if not os.environ.get(\"IN_TEST\", None):\n",
    "        assert IN_NOTEBOOK\n",
    "        assert not IN_COLAB\n",
    "        assert IN_IPYTHON\n",
    "else:\n",
    "    # Virutual display is needed for colab\n",
    "    from pyvirtualdisplay import Display\n",
    "    display = Display(visible=0, size=(400, 300))\n",
    "    display.start()"
   ]
  },
  {
   "cell_type": "code",
   "execution_count": 3,
   "id": "offshore-stuart",
   "metadata": {},
   "outputs": [],
   "source": [
    "# default_exp fastai.data.pipes.core"
   ]
  },
  {
   "cell_type": "code",
   "execution_count": 85,
   "id": "assisted-contract",
   "metadata": {},
   "outputs": [],
   "source": [
    "# export\n",
    "# Python native modules\n",
    "import os\n",
    "import logging\n",
    "import inspect\n",
    "# Third party libs\n",
    "from fastcore.all import *\n",
    "import torchdata.datapipes as dp\n",
    "from torch.utils.data.graph import traverse\n",
    "from torchdata.datapipes import functional_datapipe\n",
    "# Local modules\n",
    "\n",
    "\n",
    "_logger = logging.getLogger()"
   ]
  },
  {
   "cell_type": "markdown",
   "id": "lesser-innocent",
   "metadata": {},
   "source": [
    "# Pipes Core\n",
    "> Callback + DataPipe support for highly flexible looping."
   ]
  },
  {
   "cell_type": "code",
   "execution_count": 5,
   "id": "23aa3092-10d0-4e25-90f6-be5d2a4214f1",
   "metadata": {},
   "outputs": [],
   "source": [
    "# export\n",
    "_allowed_hook_params = ['before','after','not_under']\n",
    "\n",
    "class Callback():\n",
    "    @property\n",
    "    def name(self):\n",
    "        \"Name of the `Callback`, camel-cased and with '*Callback*' removed\"\n",
    "        return class2attr(self, 'Callback')\n",
    "    \n",
    "    def hooks(self):\n",
    "        if inspect.isclass(self): raise ValueError(f'{self} needs to be instantiated!')\n",
    "        hooks = []\n",
    "        def in_allowed_hooks(param): return param in _allowed_hook_params\n",
    "        for k in self.__class__.__dict__:\n",
    "            if k.startswith('_'): continue\n",
    "            params = L(inspect.signature(getattr(self,k)).parameters).map(in_allowed_hooks)\n",
    "            if params and all(params): hooks.append(getattr(self,k))\n",
    "        return hooks"
   ]
  },
  {
   "cell_type": "code",
   "execution_count": 6,
   "id": "eb06254b-02ca-4af3-9467-bb93ea55c99b",
   "metadata": {
    "tags": []
   },
   "outputs": [],
   "source": [
    "# export\n",
    "def filter_call_on_cbs(obj, cbs): return tuple(cb for cb in cbs if obj.__class__ in cb.call_on)"
   ]
  },
  {
   "cell_type": "code",
   "execution_count": 7,
   "id": "9d840592-3d7d-4db2-ba26-15117517f95d",
   "metadata": {},
   "outputs": [],
   "source": [
    "# export\n",
    "def filter_exclude_under_cbs(\n",
    "    pipe:Union[dp.map.MapDataPipe,dp.iter.IterDataPipe], \n",
    "    cbs:List[Callback]\n",
    "):\n",
    "    cbs = tuple(cb for cb in cbs if pipe.__class__  not in cb.exclude_under)\n",
    "    for v in traverse(pipe,only_datapipe=True).values(): # We dont want to traverse non-dp objects.\n",
    "        for k,_ in v.items():\n",
    "            cbs = filter_exclude_under_cbs(k,cbs)\n",
    "    return cbs"
   ]
  },
  {
   "cell_type": "code",
   "execution_count": 8,
   "id": "fd83f7d0-d635-4708-a8d8-6c7d02dccffc",
   "metadata": {},
   "outputs": [],
   "source": [
    "# export\n",
    "def find_pipes(\n",
    "    pipe:Union[dp.map.MapDataPipe,dp.iter.IterDataPipe],\n",
    "    fn,\n",
    "    pipe_list=None\n",
    "):\n",
    "    pipe_list = ifnone(pipe_list,[]) \n",
    "    if issubclass(pipe.__class__,(dp.map.MapDataPipe,dp.iter.IterDataPipe)) and fn(pipe): pipe_list.append(pipe)\n",
    "    for v in traverse(pipe,only_datapipe=True).values(): # We dont want to traverse non-dp objects.\n",
    "        for k,_ in v.items(): cbs = find_pipes(k,fn,pipe_list)\n",
    "    return pipe_list"
   ]
  },
  {
   "cell_type": "markdown",
   "id": "c4d19350-c4ce-4d08-9182-fd5998bf0e36",
   "metadata": {},
   "source": [
    "A callback does a couple things:\n",
    "\n",
    "    - inserts data pipes at different points in a pipeline\n",
    "    - maintains business logic state\n",
    "    - allows publishing that state to another object."
   ]
  },
  {
   "cell_type": "code",
   "execution_count": 35,
   "id": "d3b8c34b-3e5f-47c4-859e-56422e14fd7a",
   "metadata": {},
   "outputs": [],
   "source": [
    "class OneAdder(dp.iter.IterDataPipe):\n",
    "    def __init__(self,source_datapipe): self.source_datapipe = source_datapipe\n",
    "    def __iter__(self):\n",
    "        for o in self.source_datapipe: yield o+1\n",
    "\n",
    "class PointZeroFiveAdder(dp.iter.IterDataPipe):\n",
    "    def __init__(self,source_datapipe): self.source_datapipe = source_datapipe\n",
    "    def __iter__(self):\n",
    "        for o in self.source_datapipe: yield o+0.05\n",
    "\n",
    "class Point5Adder(dp.iter.IterDataPipe):\n",
    "    def __init__(self,source_datapipe): self.source_datapipe = source_datapipe\n",
    "    def __iter__(self):\n",
    "        for o in self.source_datapipe:\n",
    "            if type(o) not in [list,dp.DataChunk]: \n",
    "                raise AssertionError(f'This goes after batcher, these should be lists but instead are {type(o)}')\n",
    "            o = [f+0.5 for f in o]\n",
    "            yield o\n",
    "\n",
    "class Point1Adder(dp.iter.IterDataPipe):\n",
    "    def __init__(self,source_datapipe): self.source_datapipe = source_datapipe\n",
    "    def __iter__(self):\n",
    "        for o in self.source_datapipe:\n",
    "            if type(o) not in [list,dp.DataChunk]: \n",
    "                raise AssertionError(f'This goes after batcher, these should be lists but instead are {type(o)}')\n",
    "            o = [f+0.1 for f in o]\n",
    "            yield o\n",
    "        \n",
    "class TestCallback(Callback):\n",
    "    \n",
    "    def not_a_hook(self): return 'this should not be processed as a hook!'\n",
    "    \n",
    "    def add_one(self,before=dp.iter.Batcher,after=None,not_under=None) -> List[dp.iter.IterDataPipe]:\n",
    "        return L(OneAdder)\n",
    "    def add_point_zero_five(self,before=None,after=dp.iter.IterableWrapper,not_under=None) -> List[dp.iter.IterDataPipe]:\n",
    "        return L(PointZeroFiveAdder)\n",
    "    def add_point5_and_point1_batch(self,before=None,after=dp.iter.Batcher,not_under=None) -> List[dp.iter.IterDataPipe]:\n",
    "        return L(Point5Adder,Point1Adder)\n",
    "    "
   ]
  },
  {
   "cell_type": "code",
   "execution_count": 36,
   "id": "cf7a39f3-4e99-4780-af69-b9f35baab6ef",
   "metadata": {},
   "outputs": [
    {
     "data": {
      "text/plain": [
       "[<bound method TestCallback.add_one of <__main__.TestCallback object at 0x7f34b85639d0>>,\n",
       " <bound method TestCallback.add_point_zero_five of <__main__.TestCallback object at 0x7f34b85639d0>>,\n",
       " <bound method TestCallback.add_point5_and_point1_batch of <__main__.TestCallback object at 0x7f34b85639d0>>]"
      ]
     },
     "execution_count": 36,
     "metadata": {},
     "output_type": "execute_result"
    }
   ],
   "source": [
    "cb = TestCallback()\n",
    "cb.hooks()"
   ]
  },
  {
   "cell_type": "code",
   "execution_count": 65,
   "id": "f4f0c24d-c8cf-4fcb-8e65-69528ec4aa05",
   "metadata": {},
   "outputs": [],
   "source": [
    "# export\n",
    "for _pipe in [dp.map.MapDataPipe,dp.iter.IterDataPipe]:\n",
    "    _pipe.callbacks = L()\n",
    "    \n",
    "    @patch\n",
    "    def __repr__(self:_pipe):\n",
    "        if self.repr_hook is not None:\n",
    "            return self.repr_hook(self)\n",
    "        # Instead of showing <torch. ... .MapperMapDataPipe object at 0x.....>, return the class name\n",
    "        str_rep = str(self.__class__.__qualname__)\n",
    "        if self.callbacks: return str_rep + str(self.callbacks)\n",
    "        return str_rep\n",
    "\n",
    "    @patch\n",
    "    def __str__(self:_pipe):\n",
    "        if self.str_hook is not None:\n",
    "            return self.str_hook(self)\n",
    "        # Instead of showing <torch. ... .MapperMapDataPipe object at 0x.....>, return the class name\n",
    "        str_rep = str(self.__class__.__qualname__)\n",
    "        if self.callbacks: return str_rep + str(self.callbacks)\n",
    "        return str_rep\n",
    "    \n",
    "    @patch\n",
    "    def add_cbs_before(self:_pipe,cbs):\n",
    "        pipe = self\n",
    "        if cbs is None or len(cbs)==0: return pipe\n",
    "        \n",
    "        for cb in cbs:\n",
    "            for hook in cb.hooks():\n",
    "                pipe = add_hooks_before(pipe,hook)\n",
    "        return pipe\n",
    "    \n",
    "    @patch\n",
    "    def add_cbs_after(self:_pipe,cbs):\n",
    "        pipe = self\n",
    "        if cbs is None or len(cbs)==0: return pipe\n",
    "        \n",
    "        for cb in cbs:\n",
    "            for hook in cb.hooks():\n",
    "                pipe = add_hooks_after(pipe,hook)\n",
    "        return pipe"
   ]
  },
  {
   "cell_type": "code",
   "execution_count": 97,
   "id": "66053226-05c4-4b08-ba85-8a7b64515734",
   "metadata": {},
   "outputs": [],
   "source": [
    "# export\n",
    "_supported_pipe_attrs = ['iterable','datapipe','source_datapipe','main_datapipe','datapipes']\n",
    "\n",
    "def add_hooks_before(dp,cb_hook):\n",
    "    \"Given `dp`, attach a `cb_hook` before or after it. It will not be attached if there is a `not_under` farthur up the pipeline.\"\n",
    "    events = {k:v.default for k,v in inspect.signature(cb_hook).parameters.items()}\n",
    "    \n",
    "    if events['not_under'] is not None:\n",
    "        for not_under_pipe in L(events['not_under']):\n",
    "            if not find_pipes(dp,lambda o:o is not_under_pipe):\n",
    "                return dp\n",
    "    if events['before'] is not None:\n",
    "        for before_pipe in L(events['before']):\n",
    "            if before_pipe==dp.__class__:\n",
    "                for cb_dp in cb_hook():\n",
    "                    if hasattr(dp,'iterable'):   \n",
    "                        cb_dp = cb_dp(dp.iterable)\n",
    "                        dp.iterable = cb_dp\n",
    "                    elif hasattr(dp,'datapipe'): \n",
    "                        cb_dp = cb_dp(dp.datapipe) \n",
    "                        dp.datapipe = cb_dp\n",
    "                    elif hasattr(dp,'source_datapipe'): \n",
    "                        cb_dp = cb_dp(dp.source_datapipe) \n",
    "                        dp.source_datapipe = cb_dp\n",
    "                    elif hasattr(dp,'main_datapipe'): \n",
    "                        cb_dp = cb_dp(dp.main_datapipe) \n",
    "                        dp.main_datapipe = cb_dp\n",
    "                    elif hasattr(dp,'datapipes'): \n",
    "                        dp.datapipes = tuple(cb_dp(_dp) for _dp in dp.datapipes)\n",
    "                    else:\n",
    "                        raise ValueError(f'Given {cb_hook}, tried adding {cb_dp} to {before_pipe}:{dp} \\\n",
    "                            but doesnt have any of the expected attrs: {_supported_pipe_attrs}')\n",
    "    return dp\n",
    "                        \n",
    "def add_hooks_after(dp,cb_hook):\n",
    "    \"Given `dp`, attach a `cb_hook` before or after it. It will not be attached if there is a `not_under` farthur up the pipeline.\"\n",
    "    events = {k:v.default for k,v in inspect.signature(cb_hook).parameters.items()}\n",
    "    \n",
    "    if events['not_under'] is not None:\n",
    "        for not_under_pipe in L(events['not_under']):\n",
    "            if not find_pipes(dp,lambda o:o is not_under_pipe):\n",
    "                return dp\n",
    "\n",
    "    if events['after'] is not None:\n",
    "        for after_pipe in L(events['after']):\n",
    "            # DataPipes are a singly linked list. We can only start at the end and traverse upward.\n",
    "            # This means we really can only add hooks \"after\" pipes once the pipeline is already constructed.\n",
    "            if hasattr(dp,'iterable'):   \n",
    "                child_dp = dp.iterable\n",
    "                fld = 'iterable'\n",
    "            elif hasattr(dp,'datapipe'):  \n",
    "                child_dp = dp.datapipe\n",
    "                fld = 'datapipe'\n",
    "            elif hasattr(dp,'source_datapipe'): \n",
    "                child_dp = dp.source_datapipe\n",
    "                fld = 'source_datapipe'\n",
    "            elif hasattr(dp,'main_datapipe'): \n",
    "                child_dp = dp.main_datapipe\n",
    "                fld = 'main_datapipe'\n",
    "            elif hasattr(dp,'datapipes'): \n",
    "                child_dp = dp.datapipes\n",
    "                fld = 'datapipes'\n",
    "            else:\n",
    "                raise ValueError(f'Given {cb_hook}, tried adding after {after_pipe}:{dp} \\\n",
    "                    but doesnt have any of the expected attrs: {_supported_pipe_attrs}')\n",
    "            if fld=='datapipes':\n",
    "                new_dps = []\n",
    "                for i,_dp in enumerate(child_dp):\n",
    "                    if after_pipe==_dp.__class__:\n",
    "                        _dp = cb_dp(_dp)\n",
    "                    new_dps.append(_dp)\n",
    "                dp.datapipes = tuple(new_dps)\n",
    "                \n",
    "            elif after_pipe==child_dp.__class__:\n",
    "                for cb_dp in cb_hook(): \n",
    "                    child_dp = cb_dp(child_dp)\n",
    "                setattr(dp,fld,child_dp)\n",
    "            elif after_pipe==dp.__class__:\n",
    "                for cb_dp in cb_hook(): \n",
    "                    dp = cb_dp(dp)  \n",
    "    return dp"
   ]
  },
  {
   "cell_type": "markdown",
   "id": "0dd7b341-6818-45a8-ab00-6868183b6181",
   "metadata": {},
   "source": [
    "> Note: In order for hooks to work correctly, the base pipeline has to already be constructed."
   ]
  },
  {
   "cell_type": "code",
   "execution_count": 98,
   "id": "d628eb4b-1f8a-4f23-8a8d-f3ff323da14f",
   "metadata": {},
   "outputs": [
    {
     "data": {
      "text/plain": [
       "([[2.65, 3.65],\n",
       "  [4.6499999999999995, 5.6499999999999995],\n",
       "  [6.6499999999999995, 7.6499999999999995]],\n",
       " Point1Adder)"
      ]
     },
     "execution_count": 98,
     "metadata": {},
     "output_type": "execute_result"
    }
   ],
   "source": [
    "cb = TestCallback()\n",
    "\n",
    "pipe = dp.iter.IterableWrapper([1,2,3,4,5,6])\n",
    "pipe = dp.iter.Batcher(pipe,batch_size=2)\n",
    "# The base pipeline is fully constructed...\n",
    "for _pipe in reversed(find_pipes(pipe,lambda o:True)): pipe = _pipe.add_cbs_before(L(cb))\n",
    "for _pipe in reversed(find_pipes(pipe,lambda o:True)): pipe = _pipe.add_cbs_after(L(cb))\n",
    "\n",
    "list(pipe),pipe"
   ]
  },
  {
   "cell_type": "code",
   "execution_count": 99,
   "id": "e9dfa017-ae4d-4c25-aa99-ded553526118",
   "metadata": {},
   "outputs": [
    {
     "data": {
      "text/plain": [
       "[Point1Adder,\n",
       " Point5Adder,\n",
       " BatcherIterDataPipe,\n",
       " OneAdder,\n",
       " PointZeroFiveAdder,\n",
       " IterableWrapperIterDataPipe]"
      ]
     },
     "execution_count": 99,
     "metadata": {},
     "output_type": "execute_result"
    }
   ],
   "source": [
    "find_pipes(pipe,lambda o:True)"
   ]
  },
  {
   "cell_type": "code",
   "execution_count": 100,
   "id": "current-pilot",
   "metadata": {},
   "outputs": [
    {
     "name": "stdout",
     "output_type": "stream",
     "text": [
      "converting /home/fastrl_user/fastrl/nbs/index.ipynb to README.md\n"
     ]
    }
   ],
   "source": [
    "# hide\n",
    "from fastcore.imports import in_colab\n",
    "\n",
    "# Since colab still requires tornado<6, we don't want to import nbdev if we don't have to\n",
    "if not in_colab():\n",
    "    from nbdev.export import *\n",
    "    from nbdev.export2html import *\n",
    "    from nbdev.cli import *\n",
    "    make_readme()\n",
    "    notebook2script(silent=True)"
   ]
  },
  {
   "cell_type": "code",
   "execution_count": null,
   "id": "036c64d0-f9c6-4432-82f8-c171840afc55",
   "metadata": {},
   "outputs": [],
   "source": []
  }
 ],
 "metadata": {
  "kernelspec": {
   "display_name": "Python 3 (ipykernel)",
   "language": "python",
   "name": "python3"
  },
  "language_info": {
   "codemirror_mode": {
    "name": "ipython",
    "version": 3
   },
   "file_extension": ".py",
   "mimetype": "text/x-python",
   "name": "python",
   "nbconvert_exporter": "python",
   "pygments_lexer": "ipython3",
   "version": "3.7.11"
  }
 },
 "nbformat": 4,
 "nbformat_minor": 5
}
