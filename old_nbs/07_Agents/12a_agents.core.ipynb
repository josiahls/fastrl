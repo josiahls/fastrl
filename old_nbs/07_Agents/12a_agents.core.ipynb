{
 "cells": [
  {
   "cell_type": "code",
   "execution_count": 1,
   "id": "durable-dialogue",
   "metadata": {},
   "outputs": [],
   "source": [
    "#|hide\n",
    "#|eval: false\n",
    "! [ -e /content ] && pip install -Uqq fastrl['dev'] pyvirtualdisplay && \\\n",
    "                     apt-get install -y xvfb python-opengl > /dev/null 2>&1 \n",
    "# NOTE: IF YOU SEE VERSION ERRORS, IT IS SAFE TO IGNORE THEM. COLAB IS BEHIND IN SOME OF THE PACKAGE VERSIONS"
   ]
  },
  {
   "cell_type": "code",
   "execution_count": 2,
   "id": "viral-cambridge",
   "metadata": {},
   "outputs": [],
   "source": [
    "#|hide\n",
    "#|eval: false\n",
    "from fastcore.imports import in_colab\n",
    "# Since colab still requires tornado<6, we don't want to import nbdev if we don't have to\n",
    "if not in_colab():\n",
    "    from nbdev.showdoc import *\n",
    "    from nbdev.imports import *\n",
    "    if not os.environ.get(\"IN_TEST\", None):\n",
    "        assert IN_NOTEBOOK\n",
    "        assert not IN_COLAB\n",
    "        assert IN_IPYTHON\n",
    "else:\n",
    "    # Virutual display is needed for colab\n",
    "    from pyvirtualdisplay import Display\n",
    "    display = Display(visible=0, size=(400, 300))\n",
    "    display.start()"
   ]
  },
  {
   "cell_type": "code",
   "execution_count": 3,
   "id": "offshore-stuart",
   "metadata": {},
   "outputs": [],
   "source": [
    "#|default_exp agents.core"
   ]
  },
  {
   "cell_type": "code",
   "execution_count": 4,
   "id": "assisted-contract",
   "metadata": {},
   "outputs": [],
   "source": [
    "#|export\n",
    "# Python native modules\n",
    "import os\n",
    "# Third party libs\n",
    "from fastcore.all import *\n",
    "import torchdata.datapipes as dp\n",
    "import torch\n",
    "\n",
    "from fastrl.torch_core import *\n",
    "from torchdata.dataloader2.graph import find_dps,traverse\n",
    "# Local modules\n",
    "from fastrl.core import *\n",
    "from fastrl.pipes.core import *"
   ]
  },
  {
   "cell_type": "markdown",
   "id": "lesser-innocent",
   "metadata": {},
   "source": [
    "# Agent Core\n",
    "> Minimum Agent DataPipes, objects, and utilities"
   ]
  },
  {
   "cell_type": "code",
   "execution_count": 5,
   "id": "984a53f1-93ee-4540-8b8d-50071090280d",
   "metadata": {},
   "outputs": [],
   "source": [
    "#|export\n",
    "class AgentBase(dp.iter.IterDataPipe):\n",
    "    def __init__(self,\n",
    "            model:Module, # The base NN that we getting raw action values out of.\n",
    "            action_iterator:list=None, # A reference to an iterator that contains actions to process.\n",
    "            logger_bases=None\n",
    "    ):\n",
    "        self.model = model\n",
    "        self.iterable = ifnone(action_iterator,[])\n",
    "        self.agent_base = self\n",
    "        self.logger_bases = logger_bases\n",
    "        \n",
    "    def __iter__(self):\n",
    "        while self.iterable:\n",
    "            yield self.iterable.pop(0)\n",
    "            \n",
    "add_docs(\n",
    "    AgentBase,\n",
    "    \"\"\"Acts as the footer of the Agent pipeline. \n",
    "    Maintains important state such as the `model` being used for get actions from.\n",
    "    Also optionally allows passing a reference list of `action_iterator` which is a\n",
    "    persistent list of actions for the entire agent pipeline to process through.\n",
    "    \n",
    "    > Important: Must be at the start of the pipeline, and be used with AgentHead at the end.\n",
    "    \n",
    "    > Important: `action_iterator` is stored in the `iterable` field. However the recommended\n",
    "    way of passing actions to the pipeline is to call an `AgentHead` instance.\n",
    "    \"\"\"\n",
    "    \n",
    ") "
   ]
  },
  {
   "cell_type": "code",
   "execution_count": 6,
   "id": "742c9cc6-4be3-4606-b07d-12d30da2144f",
   "metadata": {},
   "outputs": [],
   "source": [
    "#|export               \n",
    "class AgentHead(dp.iter.IterDataPipe):\n",
    "    def __init__(self,source_datapipe):\n",
    "        self.source_datapipe = source_datapipe\n",
    "        self.agent_base = find_dp(traverse(self.source_datapipe),AgentBase)\n",
    "\n",
    "    def __call__(self,steps:list):\n",
    "        if issubclass(steps.__class__,StepType):\n",
    "            raise Exception(f'Expected List[{StepType}] object got {type(steps)}\\n{steps}')\n",
    "        self.agent_base.iterable.extend(steps)\n",
    "        return self\n",
    "\n",
    "    def __iter__(self): yield from self.source_datapipe\n",
    "    \n",
    "    def augment_actions(self,actions): return actions\n",
    "\n",
    "    def create_step(self,**kwargs): return SimpleStep(**kwargs)\n",
    "    \n",
    "add_docs(\n",
    "    AgentHead,\n",
    "    \"\"\"Acts as the head of the Agent pipeline. \n",
    "    Used for conveniently adding actions to the pipeline to process.\n",
    "    \n",
    "    > Important: Must be paired with `AgentBase`\n",
    "    \"\"\",\n",
    "    augment_actions=\"\"\"Called right before being fed into the env. \n",
    "    \n",
    "    > Important: The results of this function will not be kept / used in the step or forwarded to \n",
    "    any training code.\n",
    "\n",
    "    There are cases where either the entire action shouldn't be fed into the env,\n",
    "    or the version of the action that we want to train on would be compat with the env.\n",
    "    \n",
    "    This is also useful if we want to train on the original raw values of the action prior to argmax being run on it for example.\n",
    "    \"\"\",\n",
    "    create_step=\"Creates the step used by the env for running, and used by the model for training.\"\n",
    ")  "
   ]
  },
  {
   "cell_type": "code",
   "execution_count": 7,
   "id": "843b0d60-0d54-4cff-a5d1-7c0bbdeff571",
   "metadata": {},
   "outputs": [],
   "source": [
    "#|export\n",
    "class SimpleModelRunner(dp.iter.IterDataPipe):\n",
    "    \"Takes input from `source_datapipe` and pushes through the agent bases model assuming there is only one model field.\"\n",
    "    def __init__(self,\n",
    "                 source_datapipe,\n",
    "                 device:Optional[str]=None\n",
    "                ): \n",
    "        self.source_datapipe = source_datapipe\n",
    "        self.agent_base = find_dp(traverse(self.source_datapipe),AgentBase)\n",
    "        self.device = device\n",
    "    \n",
    "    def __iter__(self):\n",
    "        for x in self.source_datapipe:\n",
    "            if self.device is not None: x = x.to(torch.device(self.device))\n",
    "            if len(x.shape)==1: x = x.unsqueeze(0)\n",
    "            yield self.agent_base.model(x)"
   ]
  },
  {
   "cell_type": "markdown",
   "id": "177664aa-5b6d-4fe3-a1dd-7c261045dd84",
   "metadata": {},
   "source": [
    "Check that the 1x4 tensor assuccessfully pushes through the model can get expected outputs..."
   ]
  },
  {
   "cell_type": "code",
   "execution_count": 8,
   "id": "d6291148-914f-4d2b-b924-f4a02a83d804",
   "metadata": {},
   "outputs": [],
   "source": [
    "torch.manual_seed(0)\n",
    "\n",
    "from torch.nn import *\n",
    "\n",
    "from fastrl.torch_core import *\n",
    "\n",
    "class DQN(Module):\n",
    "    def __init__(self,state_sz:int,action_sz:int,hidden=512):\n",
    "        self.layers=Sequential(\n",
    "            Linear(state_sz,hidden),\n",
    "            ReLU(),\n",
    "            Linear(hidden,action_sz),\n",
    "        )\n",
    "    def forward(self,x): return self.layers(x)\n"
   ]
  },
  {
   "cell_type": "code",
   "execution_count": 9,
   "id": "ca892b7c-f36a-43d7-92eb-ceffc4b3b3ed",
   "metadata": {},
   "outputs": [],
   "source": [
    "# from fastrl.agents.dqn.basic import DQN\n",
    "# Setup up the core NN\n",
    "torch.manual_seed(0)\n",
    "model = DQN(4,2)\n",
    "# Setup the agent\n",
    "agent = AgentBase(model)\n",
    "agent = SimpleModelRunner(agent)\n",
    "agent = AgentHead(agent)"
   ]
  },
  {
   "cell_type": "code",
   "execution_count": 10,
   "id": "137b9d8b-c2d1-461d-bad9-583c757fd9c4",
   "metadata": {},
   "outputs": [
    {
     "name": "stdout",
     "output_type": "stream",
     "text": [
      "tensor([[-0.2909, -1.0357]], grad_fn=<AddmmBackward0>)\n"
     ]
    }
   ],
   "source": [
    "input_tensor = tensor([1,2,3,4]).float()\n",
    "\n",
    "for action in agent([input_tensor]):\n",
    "    print(action)\n",
    "    \n",
    "test_eq(input_tensor,tensor([1., 2., 3., 4.]))"
   ]
  },
  {
   "cell_type": "code",
   "execution_count": 11,
   "id": "08ae8542-7c38-41e2-8f7c-3259ebfb8c44",
   "metadata": {},
   "outputs": [],
   "source": [
    "#|export\n",
    "class StepFieldSelector(dp.iter.IterDataPipe):\n",
    "    \"Grabs `field` from `source_datapipe` to push to the rest of the pipeline.\"\n",
    "    def __init__(self,\n",
    "         source_datapipe, # datapipe whose next(source_datapipe) -> `StepType`\n",
    "         field='state' # A field in `StepType` to grab\n",
    "        ): \n",
    "        # TODO: support multi-fields\n",
    "        self.source_datapipe = source_datapipe\n",
    "        self.field = field\n",
    "    \n",
    "    def __iter__(self):\n",
    "        for step in self.source_datapipe:\n",
    "            if not issubclass(step.__class__,StepType):\n",
    "                raise Exception(f'Expected typing.NamedTuple object got {type(step)}\\n{step}')\n",
    "            yield getattr(step,self.field)"
   ]
  },
  {
   "cell_type": "markdown",
   "id": "63928e34-7f29-4182-942a-a5edf444fb7e",
   "metadata": {},
   "source": [
    "Check that using `StepFieldSelector`, we can grab the `state` field from the `Simplestep` to push through the model..."
   ]
  },
  {
   "cell_type": "code",
   "execution_count": 12,
   "id": "65b65fb9-e92c-4098-a1cf-8680b220367d",
   "metadata": {},
   "outputs": [
    {
     "name": "stdout",
     "output_type": "stream",
     "text": [
      "tensor([[-0.2909, -1.0357]], grad_fn=<AddmmBackward0>)\n"
     ]
    }
   ],
   "source": [
    "agent = AgentBase(model)\n",
    "agent = StepFieldSelector(agent,field='state')\n",
    "agent = SimpleModelRunner(agent)\n",
    "agent = AgentHead(agent)\n",
    "\n",
    "for action in agent([SimpleStep.random(state=tensor([1.,2.,3.,4.]))]):\n",
    "    print(action)"
   ]
  },
  {
   "cell_type": "code",
   "execution_count": 13,
   "id": "5a48ec65-b385-4dea-87c8-f58c202d2276",
   "metadata": {},
   "outputs": [],
   "source": [
    "# Setup up the core NN\n",
    "torch.manual_seed(0)\n",
    "model = DQN(4,2)\n",
    "# Setup the agent\n",
    "agent = AgentBase(model,[])\n",
    "# All the things that make this agent unique and special\n",
    "# In this instance, all this module does is pass the action directly through to the model.\n",
    "agent = SimpleModelRunner(agent)\n",
    "# Bring everything together into the AgentHead where actions will be passed and then run through the pipeline\n",
    "agent = AgentHead(agent)"
   ]
  },
  {
   "cell_type": "markdown",
   "id": "fc2bb26b-2ade-44d2-970c-7fff000d0ed6",
   "metadata": {},
   "source": [
    "If we pass a list of tensors, we will get a list of actions:"
   ]
  },
  {
   "cell_type": "code",
   "execution_count": 14,
   "id": "330318f5-4423-4174-b9fe-499bcbb9de85",
   "metadata": {},
   "outputs": [
    {
     "name": "stdout",
     "output_type": "stream",
     "text": [
      "tensor([[-0.2909, -1.0357]], grad_fn=<AddmmBackward0>)\n"
     ]
    }
   ],
   "source": [
    "for action in agent([tensor([1,2,3,4]).float()]):\n",
    "    print(action)"
   ]
  },
  {
   "cell_type": "code",
   "execution_count": 15,
   "id": "385e1141-4961-45dd-ad4e-2d8f049f5294",
   "metadata": {},
   "outputs": [
    {
     "name": "stdout",
     "output_type": "stream",
     "text": [
      "tensor([[-0.2909, -1.0357]], grad_fn=<AddmmBackward0>)\n",
      "tensor([[-0.2909, -1.0357]], grad_fn=<AddmmBackward0>)\n",
      "tensor([[-0.2909, -1.0357]], grad_fn=<AddmmBackward0>)\n"
     ]
    }
   ],
   "source": [
    "for action in agent([tensor([1,2,3,4]).float()]*3):\n",
    "    print(action)\n",
    "traverse(agent); # Check that we can traverse it"
   ]
  },
  {
   "cell_type": "code",
   "execution_count": 16,
   "id": "7496dbff-cda7-4826-8d2e-f4663d46430d",
   "metadata": {},
   "outputs": [],
   "source": [
    "from fastrl.pipes.core import *\n",
    "from fastrl.pipes.map.transforms import *\n",
    "from fastrl.data.block import *\n",
    "from fastrl.envs.gym import *\n",
    "\n",
    "def baseline_test(envs,total_steps,seed=0):\n",
    "    pipe = dp.map.Mapper(envs)\n",
    "    pipe = TypeTransformer(pipe,[GymTypeTransform])\n",
    "    pipe = dp.iter.MapToIterConverter(pipe)\n",
    "    pipe = dp.iter.InMemoryCacheHolder(pipe)\n",
    "    pipe = pipe.cycle()\n",
    "    pipe = GymStepper(pipe,seed=seed)\n",
    "\n",
    "    steps = [step for _,step in zip(*(range(total_steps),pipe))]\n",
    "    return steps, pipe\n"
   ]
  },
  {
   "cell_type": "code",
   "execution_count": 17,
   "id": "30e00ef9-f09d-475a-b28f-6878044feb88",
   "metadata": {},
   "outputs": [],
   "source": [
    "steps, pipe = baseline_test(['CartPole-v1'],0)"
   ]
  },
  {
   "cell_type": "code",
   "execution_count": 18,
   "id": "da5dd6a2-fd98-49f1-beee-fa5ed97e2764",
   "metadata": {},
   "outputs": [],
   "source": [
    "#|export\n",
    "class StepModelFeeder(dp.iter.IterDataPipe):\n",
    "    def __init__(self,\n",
    "                 source_datapipe, # next() must produce a `StepType`,\n",
    "                 keys:List[str] # A list of field names to grab and push into `self.agent_base.model`\n",
    "                ): \n",
    "        self.source_datapipe = source_datapipe\n",
    "        self.keys = keys\n",
    "        self.agent_base = find_agent_base(self.source_datapipe)\n",
    "\n",
    "    def __iter__(self):\n",
    "        for o in self.source_datapipe: \n",
    "            \n",
    "            if not issubclass(b.__class__,StepType):\n",
    "                raise Exception(f'Expected {StepType} object got {type(step)}\\n{step}')\n",
    "            \n",
    "            tensors = tuple(getattr(o,k) for k in self.keys)\n",
    "            \n",
    "            try: yield self.agent_base.model(tensors)\n",
    "            except Exception:\n",
    "                print('Failed on ',o)\n",
    "                raise\n",
    "        \n",
    "add_docs(\n",
    "    StepModelFeeder,\n",
    "    \"\"\"Converts `StepTypes` into unified tensors using `keys` and feeds them into `self.agent_base.model`\n",
    "    \"\"\"\n",
    ")  \n",
    "    "
   ]
  },
  {
   "cell_type": "code",
   "execution_count": 19,
   "id": "current-pilot",
   "metadata": {},
   "outputs": [
    {
     "name": "stderr",
     "output_type": "stream",
     "text": [
      "/opt/conda/lib/python3.7/site-packages/astroid/node_classes.py:96: DeprecationWarning: The 'astroid.node_classes' module is deprecated and will be replaced by 'astroid.nodes' in astroid 3.0.0\n",
      "  DeprecationWarning,\n"
     ]
    }
   ],
   "source": [
    "#|hide\n",
    "#|eval: false\n",
    "from fastcore.imports import in_colab\n",
    "\n",
    "# Since colab still requires tornado<6, we don't want to import nbdev if we don't have to\n",
    "if not in_colab():\n",
    "    from nbdev import nbdev_export\n",
    "    nbdev_export()"
   ]
  },
  {
   "cell_type": "code",
   "execution_count": null,
   "id": "6f5f7311-f9ea-4a67-b504-427cb509f5d9",
   "metadata": {},
   "outputs": [],
   "source": []
  }
 ],
 "metadata": {
  "kernelspec": {
   "display_name": "Python 3.7.11 ('base')",
   "language": "python",
   "name": "python3"
  },
  "language_info": {
   "codemirror_mode": {
    "name": "ipython",
    "version": 3
   },
   "file_extension": ".py",
   "mimetype": "text/x-python",
   "name": "python",
   "nbconvert_exporter": "python",
   "pygments_lexer": "ipython3",
   "version": "3.7.11"
  },
  "vscode": {
   "interpreter": {
    "hash": "d4d1e4263499bec80672ea0156c357c1ee493ec2b1c70f0acce89fc37c4a6abe"
   }
  }
 },
 "nbformat": 4,
 "nbformat_minor": 5
}
